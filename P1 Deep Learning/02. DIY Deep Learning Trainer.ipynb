{
 "cells": [
  {
   "cell_type": "markdown",
   "id": "0669568f-6549-44b3-93ee-e712da227368",
   "metadata": {},
   "source": [
    "# DIY Deep Learning Trainer\n",
    "\n",
    "In the previous chapter of our deep learning series, we introduced the foundational concepts of Multi-Layer Perceptrons (MLPs) using the MNIST dataset. We covered the entire training pipeline, including setting random seeds, downloading datasets, data normalization, data augmentation, data loading, and training/testing procedures.\n",
    "\n",
    "In this chapter, we will advance our understanding by learning how to create a personalized Trainer class to encapsulate the training process, making it easier to reuse and adapt. Additionally, we will introduce the FashionMNIST dataset, which is slightly more complex than MNIST, providing a gentle progression in difficulty."
   ]
  },
  {
   "cell_type": "markdown",
   "id": "1591fee6-5b48-4936-bed5-bdbbfddee77b",
   "metadata": {},
   "source": [
    "## Introducing FashionMNIST\n",
    "\n",
    "FashionMNIST is a dataset of Zalando's article images, consisting of a training set of 60,000 examples and a test set of 10,000 examples. Each example is a 28x28 grayscale image, associated with a label from 10 classes. This dataset serves as a direct drop-in replacement for the original MNIST dataset for benchmarking machine learning algorithms."
   ]
  },
  {
   "cell_type": "markdown",
   "id": "1e6ab799-4436-48d9-8490-e0d26e35af2e",
   "metadata": {},
   "source": [
    "## Implementing the Trainer Class\n",
    "\n",
    "Let's start by defining a custom Trainer class in Python. This class will encapsulate all aspects of the training process, including data loading, training, validation, and testing. Here's the complete implementation:"
   ]
  },
  {
   "cell_type": "code",
   "execution_count": 6,
   "id": "8c7e66cd-2d80-482f-8b24-4a9d7dc79ed0",
   "metadata": {},
   "outputs": [],
   "source": [
    "import torch\n",
    "import torch.nn as nn\n",
    "import torch.optim as optim\n",
    "import torchvision\n",
    "import numpy as np\n",
    "import random\n",
    "from torch.cuda.amp import GradScaler, autocast\n",
    "from tqdm import tqdm\n",
    "import matplotlib.pyplot as plt\n",
    "import datetime\n",
    "\n",
    "\n",
    "class fashion_mnist_trainer:\n",
    "    def __init__(self, model, lr, batch_size, epoch, train_transforms, test_transforms, seed=1234):\n",
    "        self.model = model\n",
    "        self.lr = lr\n",
    "        self.epoch = epoch\n",
    "        self.loss_f = nn.CrossEntropyLoss()\n",
    "\n",
    "        self.train_losses = []\n",
    "        self.val_losses = []\n",
    "        self.val_accuracies = []\n",
    "\n",
    "        \"\"\"load model, loss_fn and optimizer\"\"\"\n",
    "        if torch.cuda.is_available():\n",
    "            self.model = self.model.cuda()\n",
    "        if torch.cuda.is_available():\n",
    "            self.loss_f = self.loss_f.cuda()\n",
    "        self.scaler = GradScaler()\n",
    "\n",
    "        \"\"\"download and allocate data\"\"\"\n",
    "        ROOT = '.data'\n",
    "        train_valid_data = torchvision.datasets.FashionMNIST(root=ROOT, train=True, download=True, transform=train_transforms)\n",
    "        test_data = torchvision.datasets.FashionMNIST(root=ROOT, train=False, download=False, transform=test_transforms)\n",
    "\n",
    "        VALID_RATE = 0.1\n",
    "        n_train = int(len(train_valid_data) * (1 - VALID_RATE))\n",
    "        n_valid = len(train_valid_data) - n_train\n",
    "        train_data, valid_data = torch.utils.data.random_split(train_valid_data, [n_train, n_valid])\n",
    "\n",
    "        \"\"\"load data\"\"\"\n",
    "        self.train_dataloader = torch.utils.data.DataLoader(train_data, shuffle=True, batch_size=batch_size)\n",
    "        self.valid_dataloader = torch.utils.data.DataLoader(valid_data, batch_size=batch_size)\n",
    "        self.test_dataloader = torch.utils.data.DataLoader(test_data, batch_size=batch_size)\n",
    "\n",
    "        \"\"\"set the seed\"\"\"\n",
    "        random.seed(seed)\n",
    "        np.random.seed(seed)\n",
    "        torch.manual_seed(seed)\n",
    "        torch.cuda.manual_seed(seed)\n",
    "        torch.backends.cudnn.deterministic = True\n",
    "\n",
    "    def train(self):\n",
    "        valid_loss_min = np.Inf\n",
    "        counter = 0\n",
    "        lr = self.lr\n",
    "        optimizer_f = optim.SGD(self.model.parameters(), lr=lr, momentum=0.9, weight_decay=5e-4)\n",
    "        for epoch in range(self.epoch):\n",
    "            print('=' * 135)\n",
    "            print(datetime.datetime.now().strftime('%Y-%m-%d %H:%M:%S'))\n",
    "            print(f\"Epoch {epoch + 1} / {self.epoch}\")\n",
    "\n",
    "            if counter / 10 == 1:\n",
    "                counter = 0\n",
    "                lr = lr * 0.5\n",
    "                print(f\"lr is updated to {lr}\")\n",
    "                optimizer_f = optim.SGD(self.model.parameters(), lr=lr, momentum=0.9, weight_decay=5e-4)\n",
    "\n",
    "            self.model.train()\n",
    "            train_bar = tqdm(self.train_dataloader, desc=\"[Train]\", ncols=90)\n",
    "            train_losses = []\n",
    "            for inputs, targets in train_bar:\n",
    "                if torch.cuda.is_available():\n",
    "                    inputs, targets = inputs.cuda(), targets.cuda()\n",
    "                optimizer_f.zero_grad()\n",
    "                with autocast(enabled=torch.cuda.is_available()):\n",
    "                    outputs = self.model(inputs)\n",
    "                    loss = self.loss_f(outputs, targets)\n",
    "\n",
    "                self.scaler.scale(loss).backward()\n",
    "                self.scaler.step(optimizer_f)\n",
    "                self.scaler.update()\n",
    "                train_losses.append(loss.item())\n",
    "                train_bar.set_postfix(train_loss=sum(train_losses) / len(train_bar))\n",
    "            train_bar.close()\n",
    "            self.train_losses.append(sum(train_losses) / len(train_bar))\n",
    "\n",
    "            self.model.eval()\n",
    "            valid_loss = 0\n",
    "            valid_accuracy = 0\n",
    "            valid_samples = 0\n",
    "            valid_bar = tqdm(self.valid_dataloader, desc=\"[Valid]\", ncols=100)\n",
    "            with torch.no_grad():\n",
    "                for inputs, targets in valid_bar:\n",
    "                    if torch.cuda.is_available():\n",
    "                        inputs, targets = inputs.cuda(), targets.cuda()\n",
    "                    outputs = self.model(inputs)\n",
    "                    loss = self.loss_f(outputs, targets)\n",
    "\n",
    "                    valid_loss += loss.item()\n",
    "                    pred = outputs.argmax(1)\n",
    "                    correct = (pred == targets).sum().item()\n",
    "                    valid_accuracy += correct\n",
    "                    valid_samples += targets.size(0)\n",
    "                    val_loss = valid_loss / valid_samples\n",
    "                    val_acc = valid_accuracy / valid_samples\n",
    "                    valid_bar.set_postfix(val_loss=val_loss, val_acc=val_acc * 100)\n",
    "\n",
    "            valid_bar.close()\n",
    "            self.val_losses.append(val_loss)\n",
    "            self.val_accuracies.append(val_acc)\n",
    "\n",
    "            if val_loss <= valid_loss_min:\n",
    "                print('Validation loss decreased ({:.6f} --> {:.6f}).'.format(valid_loss_min, val_loss))\n",
    "                valid_loss_min = val_loss\n",
    "                counter = 0\n",
    "            else:\n",
    "                counter += 1\n",
    "        self.plot_training()\n",
    "\n",
    "    def plot_training(self):\n",
    "        plt.figure(figsize=(10, 5))\n",
    "        plt.plot(range(1, self.epoch + 1), self.train_losses, label='Train Loss')\n",
    "        plt.plot(range(1, self.epoch + 1), self.val_losses, label='Val Loss')\n",
    "        plt.plot(range(1, self.epoch + 1), self.val_accuracies, label='Val Accuracy')\n",
    "        plt.xlabel('Epoch')\n",
    "        plt.ylabel('Metrics')\n",
    "        plt.title('Training Progress')\n",
    "        plt.legend()\n",
    "        plt.show()\n",
    "\n",
    "    def test(self):\n",
    "        self.model.eval()\n",
    "        total_test_loss = 0\n",
    "        total_test_accuracy = 0\n",
    "        num_samples = 0\n",
    "        test_bar = tqdm(self.test_dataloader, desc=\"Testing [Test]\")\n",
    "        with torch.no_grad():\n",
    "            for inputs, targets in test_bar:\n",
    "                if torch.cuda.is_available():\n",
    "                    inputs = inputs.cuda()\n",
    "                    targets = targets.cuda()\n",
    "                outputs = self.model(inputs)\n",
    "                loss = self.loss_f(outputs, targets)\n",
    "\n",
    "                total_test_loss += loss.item()\n",
    "                accuracy = (outputs.argmax(1) == targets).sum().item()\n",
    "                total_test_accuracy += accuracy\n",
    "                num_samples += len(inputs)\n",
    "                test_bar.set_postfix(test_loss=total_test_loss / num_samples,\n",
    "                                     test_acc=total_test_accuracy / num_samples * 100)\n",
    "                test_bar.update()\n",
    "        test_bar.close()"
   ]
  },
  {
   "cell_type": "markdown",
   "id": "d16dd059-3ee4-4e9f-a0fd-cd7bb4a50290",
   "metadata": {},
   "source": [
    "## Deep Dive into the Custom Trainer Example\n",
    "\n",
    "We'll cover its input parameters, the training strategy employed, and the visualization of training metrics. This detailed breakdown will help you understand how to customize and extend the trainer for your own projects.\n",
    "\n",
    "### Input Parameters\n",
    "\n",
    "The `fashion_mnist_trainer` class is designed to be flexible and easy to use. Here are the input parameters required to initialize an instance of the class:\n",
    "\n",
    "- **model**: The neural network model to be trained.\n",
    "- **lr (learning rate)**: The initial learning rate for the optimizer.\n",
    "- **batch_size**: The number of samples per batch during training.\n",
    "- **epoch**: The number of training epochs.\n",
    "- **train_transforms**: Data transformations to be applied to the training set.\n",
    "- **test_transforms**: Data transformations to be applied to the test set.\n",
    "- **seed**: A seed for reproducibility (default is 1234)\n",
    "\n",
    "### Training Strategy\n",
    "\n",
    "The training strategy implemented in the `train` method involves the following steps:\n",
    "\n",
    "1. **Initial Setup**: Initialize the minimum validation loss to infinity and set the learning rate and optimizer.\n",
    "\n",
    "2. **Epoch Loop**: Iterate over the specified number of epochs.\n",
    "    - **Learning Rate Adjustment**: Reduce the learning rate by half every 10 epochs to ensure the model converges.\n",
    "    - **Training Phase**:\n",
    "        - Set the model to training mode.\n",
    "        - Iterate over the training data in batches.\n",
    "        - Perform forward pass, compute loss, backward pass, and update the model parameters using gradient scaling for mixed precision training.\n",
    "        - Accumulate the training losses.\n",
    "    - **Validation Phase**:\n",
    "        - Set the model to evaluation mode.\n",
    "        - Iterate over the validation data in batches.\n",
    "        - Perform forward pass and compute loss.\n",
    "        - Accumulate the validation loss and compute validation accuracy.\n",
    "        - Update the minimum validation loss and reset the counter if a new minimum is found; otherwise, increment the counter.\n",
    "\n",
    "3. **Plot Training Metrics**: Visualize the training and validation losses, as well as validation accuracy, over epochs."
   ]
  },
  {
   "cell_type": "markdown",
   "id": "9b74c30a-77b8-47dc-840d-76a6cf2a95d4",
   "metadata": {},
   "source": [
    "## Using the Trainer Class"
   ]
  },
  {
   "cell_type": "code",
   "execution_count": 2,
   "id": "a86cb405-0640-4c68-b5fa-5e05d598d504",
   "metadata": {},
   "outputs": [],
   "source": [
    "import torch\n",
    "import torch.nn as nn\n",
    "import torch.nn.functional as F\n",
    "\n",
    "class MLP(nn.Module):\n",
    "    def __init__(self, input_size, output_size):\n",
    "        super().__init__()\n",
    "        \n",
    "        self.input_fc = nn.Linear(input_size, 256)\n",
    "        self.hidden_fc_1 = nn.Linear(256, 128)\n",
    "        self.output_fc = nn.Linear(128, output_size)\n",
    "        \n",
    "    def forward(self, x):\n",
    "        batch_size = x.shape[0]\n",
    "        x = x.view(batch_size, -1)\n",
    "        \n",
    "        x = F.relu(self.input_fc(x))\n",
    "        x = F.relu(self.hidden_fc_1(x))\n",
    "        y_hat = self.output_fc(x)\n",
    "        \n",
    "        return y_hat"
   ]
  },
  {
   "cell_type": "code",
   "execution_count": 9,
   "id": "1e534455-9400-42e0-b762-2ed660bac3ad",
   "metadata": {},
   "outputs": [
    {
     "name": "stdout",
     "output_type": "stream",
     "text": [
      "=======================================================================================================================================\n",
      "2024-05-24 02:07:39\n",
      "Epoch 1 / 20\n"
     ]
    },
    {
     "name": "stderr",
     "output_type": "stream",
     "text": [
      "[Train]: 100%|█████████████████████████| 422/422 [00:14<00:00, 30.12it/s, train_loss=1.15]\n",
      "[Valid]: 100%|██████████████████████| 47/47 [00:01<00:00, 32.48it/s, val_acc=68.8, val_loss=0.00648]\n"
     ]
    },
    {
     "name": "stdout",
     "output_type": "stream",
     "text": [
      "Validation loss decreased (inf --> 0.006480).\n",
      "=======================================================================================================================================\n",
      "2024-05-24 02:07:55\n",
      "Epoch 2 / 20\n"
     ]
    },
    {
     "name": "stderr",
     "output_type": "stream",
     "text": [
      "[Train]: 100%|█████████████████████████| 422/422 [00:14<00:00, 29.69it/s, train_loss=0.77]\n",
      "[Valid]: 100%|██████████████████████| 47/47 [00:01<00:00, 33.82it/s, val_acc=72.3, val_loss=0.00571]\n"
     ]
    },
    {
     "name": "stdout",
     "output_type": "stream",
     "text": [
      "Validation loss decreased (0.006480 --> 0.005709).\n",
      "=======================================================================================================================================\n",
      "2024-05-24 02:08:10\n",
      "Epoch 3 / 20\n"
     ]
    },
    {
     "name": "stderr",
     "output_type": "stream",
     "text": [
      "[Train]: 100%|████████████████████████| 422/422 [00:14<00:00, 29.82it/s, train_loss=0.702]\n",
      "[Valid]: 100%|███████████████████████| 47/47 [00:01<00:00, 30.83it/s, val_acc=74.3, val_loss=0.0052]\n"
     ]
    },
    {
     "name": "stdout",
     "output_type": "stream",
     "text": [
      "Validation loss decreased (0.005709 --> 0.005203).\n",
      "=======================================================================================================================================\n",
      "2024-05-24 02:08:26\n",
      "Epoch 4 / 20\n"
     ]
    },
    {
     "name": "stderr",
     "output_type": "stream",
     "text": [
      "[Train]: 100%|████████████████████████| 422/422 [00:14<00:00, 29.81it/s, train_loss=0.657]\n",
      "[Valid]: 100%|████████████████████████| 47/47 [00:01<00:00, 32.92it/s, val_acc=75, val_loss=0.00511]\n"
     ]
    },
    {
     "name": "stdout",
     "output_type": "stream",
     "text": [
      "Validation loss decreased (0.005203 --> 0.005109).\n",
      "=======================================================================================================================================\n",
      "2024-05-24 02:08:41\n",
      "Epoch 5 / 20\n"
     ]
    },
    {
     "name": "stderr",
     "output_type": "stream",
     "text": [
      "[Train]: 100%|█████████████████████████| 422/422 [00:14<00:00, 29.61it/s, train_loss=0.63]\n",
      "[Valid]: 100%|██████████████████████| 47/47 [00:01<00:00, 32.07it/s, val_acc=76.2, val_loss=0.00484]\n"
     ]
    },
    {
     "name": "stdout",
     "output_type": "stream",
     "text": [
      "Validation loss decreased (0.005109 --> 0.004841).\n",
      "=======================================================================================================================================\n",
      "2024-05-24 02:08:57\n",
      "Epoch 6 / 20\n"
     ]
    },
    {
     "name": "stderr",
     "output_type": "stream",
     "text": [
      "[Train]: 100%|█████████████████████████| 422/422 [00:14<00:00, 29.76it/s, train_loss=0.61]\n",
      "[Valid]: 100%|██████████████████████| 47/47 [00:01<00:00, 30.51it/s, val_acc=77.8, val_loss=0.00456]\n"
     ]
    },
    {
     "name": "stdout",
     "output_type": "stream",
     "text": [
      "Validation loss decreased (0.004841 --> 0.004564).\n",
      "=======================================================================================================================================\n",
      "2024-05-24 02:09:13\n",
      "Epoch 7 / 20\n"
     ]
    },
    {
     "name": "stderr",
     "output_type": "stream",
     "text": [
      "[Train]: 100%|████████████████████████| 422/422 [00:14<00:00, 29.53it/s, train_loss=0.591]\n",
      "[Valid]: 100%|███████████████████████| 47/47 [00:01<00:00, 32.41it/s, val_acc=77.7, val_loss=0.0045]\n"
     ]
    },
    {
     "name": "stdout",
     "output_type": "stream",
     "text": [
      "Validation loss decreased (0.004564 --> 0.004500).\n",
      "=======================================================================================================================================\n",
      "2024-05-24 02:09:29\n",
      "Epoch 8 / 20\n"
     ]
    },
    {
     "name": "stderr",
     "output_type": "stream",
     "text": [
      "[Train]: 100%|█████████████████████████| 422/422 [00:14<00:00, 29.56it/s, train_loss=0.58]\n",
      "[Valid]: 100%|███████████████████████| 47/47 [00:01<00:00, 32.78it/s, val_acc=78.3, val_loss=0.0045]\n"
     ]
    },
    {
     "name": "stdout",
     "output_type": "stream",
     "text": [
      "=======================================================================================================================================\n",
      "2024-05-24 02:09:44\n",
      "Epoch 9 / 20\n"
     ]
    },
    {
     "name": "stderr",
     "output_type": "stream",
     "text": [
      "[Train]: 100%|████████████████████████| 422/422 [00:14<00:00, 29.88it/s, train_loss=0.564]\n",
      "[Valid]: 100%|██████████████████████| 47/47 [00:01<00:00, 32.81it/s, val_acc=78.8, val_loss=0.00439]\n"
     ]
    },
    {
     "name": "stdout",
     "output_type": "stream",
     "text": [
      "Validation loss decreased (0.004500 --> 0.004392).\n",
      "=======================================================================================================================================\n",
      "2024-05-24 02:10:00\n",
      "Epoch 10 / 20\n"
     ]
    },
    {
     "name": "stderr",
     "output_type": "stream",
     "text": [
      "[Train]: 100%|████████████████████████| 422/422 [00:13<00:00, 30.82it/s, train_loss=0.553]\n",
      "[Valid]: 100%|██████████████████████| 47/47 [00:01<00:00, 33.12it/s, val_acc=79.3, val_loss=0.00421]\n"
     ]
    },
    {
     "name": "stdout",
     "output_type": "stream",
     "text": [
      "Validation loss decreased (0.004392 --> 0.004209).\n",
      "=======================================================================================================================================\n",
      "2024-05-24 02:10:15\n",
      "Epoch 11 / 20\n"
     ]
    },
    {
     "name": "stderr",
     "output_type": "stream",
     "text": [
      "[Train]: 100%|████████████████████████| 422/422 [00:14<00:00, 29.98it/s, train_loss=0.545]\n",
      "[Valid]: 100%|███████████████████████| 47/47 [00:01<00:00, 31.53it/s, val_acc=80.1, val_loss=0.0041]\n"
     ]
    },
    {
     "name": "stdout",
     "output_type": "stream",
     "text": [
      "Validation loss decreased (0.004209 --> 0.004096).\n",
      "=======================================================================================================================================\n",
      "2024-05-24 02:10:31\n",
      "Epoch 12 / 20\n"
     ]
    },
    {
     "name": "stderr",
     "output_type": "stream",
     "text": [
      "[Train]: 100%|████████████████████████| 422/422 [00:13<00:00, 30.23it/s, train_loss=0.538]\n",
      "[Valid]: 100%|███████████████████████| 47/47 [00:01<00:00, 33.49it/s, val_acc=79.9, val_loss=0.0042]\n"
     ]
    },
    {
     "name": "stdout",
     "output_type": "stream",
     "text": [
      "=======================================================================================================================================\n",
      "2024-05-24 02:10:46\n",
      "Epoch 13 / 20\n"
     ]
    },
    {
     "name": "stderr",
     "output_type": "stream",
     "text": [
      "[Train]: 100%|████████████████████████| 422/422 [00:14<00:00, 29.67it/s, train_loss=0.531]\n",
      "[Valid]: 100%|██████████████████████| 47/47 [00:01<00:00, 32.65it/s, val_acc=81.1, val_loss=0.00389]\n"
     ]
    },
    {
     "name": "stdout",
     "output_type": "stream",
     "text": [
      "Validation loss decreased (0.004096 --> 0.003893).\n",
      "=======================================================================================================================================\n",
      "2024-05-24 02:11:02\n",
      "Epoch 14 / 20\n"
     ]
    },
    {
     "name": "stderr",
     "output_type": "stream",
     "text": [
      "[Train]: 100%|████████████████████████| 422/422 [00:14<00:00, 29.71it/s, train_loss=0.522]\n",
      "[Valid]: 100%|██████████████████████| 47/47 [00:01<00:00, 31.70it/s, val_acc=79.8, val_loss=0.00408]\n"
     ]
    },
    {
     "name": "stdout",
     "output_type": "stream",
     "text": [
      "=======================================================================================================================================\n",
      "2024-05-24 02:11:17\n",
      "Epoch 15 / 20\n"
     ]
    },
    {
     "name": "stderr",
     "output_type": "stream",
     "text": [
      "[Train]: 100%|████████████████████████| 422/422 [00:14<00:00, 29.50it/s, train_loss=0.517]\n",
      "[Valid]: 100%|██████████████████████| 47/47 [00:01<00:00, 28.58it/s, val_acc=80.8, val_loss=0.00398]\n"
     ]
    },
    {
     "name": "stdout",
     "output_type": "stream",
     "text": [
      "=======================================================================================================================================\n",
      "2024-05-24 02:11:33\n",
      "Epoch 16 / 20\n"
     ]
    },
    {
     "name": "stderr",
     "output_type": "stream",
     "text": [
      "[Train]: 100%|████████████████████████| 422/422 [00:14<00:00, 29.48it/s, train_loss=0.511]\n",
      "[Valid]: 100%|██████████████████████| 47/47 [00:01<00:00, 32.69it/s, val_acc=81.4, val_loss=0.00391]\n"
     ]
    },
    {
     "name": "stdout",
     "output_type": "stream",
     "text": [
      "=======================================================================================================================================\n",
      "2024-05-24 02:11:49\n",
      "Epoch 17 / 20\n"
     ]
    },
    {
     "name": "stderr",
     "output_type": "stream",
     "text": [
      "[Train]: 100%|████████████████████████| 422/422 [00:14<00:00, 29.57it/s, train_loss=0.507]\n",
      "[Valid]: 100%|██████████████████████| 47/47 [00:01<00:00, 33.26it/s, val_acc=82.4, val_loss=0.00375]\n"
     ]
    },
    {
     "name": "stdout",
     "output_type": "stream",
     "text": [
      "Validation loss decreased (0.003893 --> 0.003747).\n",
      "=======================================================================================================================================\n",
      "2024-05-24 02:12:05\n",
      "Epoch 18 / 20\n"
     ]
    },
    {
     "name": "stderr",
     "output_type": "stream",
     "text": [
      "[Train]: 100%|████████████████████████| 422/422 [00:14<00:00, 29.62it/s, train_loss=0.499]\n",
      "[Valid]: 100%|██████████████████████| 47/47 [00:01<00:00, 31.18it/s, val_acc=81.4, val_loss=0.00382]\n"
     ]
    },
    {
     "name": "stdout",
     "output_type": "stream",
     "text": [
      "=======================================================================================================================================\n",
      "2024-05-24 02:12:21\n",
      "Epoch 19 / 20\n"
     ]
    },
    {
     "name": "stderr",
     "output_type": "stream",
     "text": [
      "[Train]: 100%|████████████████████████| 422/422 [00:14<00:00, 29.53it/s, train_loss=0.495]\n",
      "[Valid]: 100%|███████████████████████| 47/47 [00:01<00:00, 31.33it/s, val_acc=81.8, val_loss=0.0037]\n"
     ]
    },
    {
     "name": "stdout",
     "output_type": "stream",
     "text": [
      "Validation loss decreased (0.003747 --> 0.003698).\n",
      "=======================================================================================================================================\n",
      "2024-05-24 02:12:36\n",
      "Epoch 20 / 20\n"
     ]
    },
    {
     "name": "stderr",
     "output_type": "stream",
     "text": [
      "[Train]: 100%|████████████████████████| 422/422 [00:14<00:00, 29.78it/s, train_loss=0.488]\n",
      "[Valid]: 100%|██████████████████████| 47/47 [00:01<00:00, 31.29it/s, val_acc=81.4, val_loss=0.00378]\n"
     ]
    },
    {
     "data": {
      "image/png": "[encoded data removed]",
      "text/plain": [
       "<Figure size 1000x500 with 1 Axes>"
      ]
     },
     "metadata": {},
     "output_type": "display_data"
    },
    {
     "name": "stderr",
     "output_type": "stream",
     "text": [
      "Testing [Test]: 100%|████████████████████████████████| 79/79 [00:01<00:00, 51.22it/s, test_acc=83.3, test_loss=0.00359]\n"
     ]
    }
   ],
   "source": [
    "import torchvision.transforms as transforms\n",
    "\n",
    "train_transforms = transforms.Compose([\n",
    "    transforms.RandomHorizontalFlip(),\n",
    "    transforms.RandomCrop(28, padding=4),\n",
    "    transforms.ToTensor(),\n",
    "    transforms.Normalize((0.5,), (0.5,))\n",
    "])\n",
    "\n",
    "test_transforms = transforms.Compose([\n",
    "    transforms.ToTensor(),\n",
    "    transforms.Normalize((0.5,), (0.5,))\n",
    "])\n",
    "\n",
    "model = MLP(input_size=28*28, output_size=10)\n",
    "trainer = fashion_mnist_trainer(model=model, lr=0.01, batch_size=128, epoch=20, train_transforms=train_transforms, test_transforms=test_transforms)\n",
    "trainer.train()\n",
    "trainer.test()"
   ]
  }
 ],
 "metadata": {
  "kernelspec": {
   "display_name": "bdl",
   "language": "python",
   "name": "bdl"
  },
  "language_info": {
   "codemirror_mode": {
    "name": "ipython",
    "version": 3
   },
   "file_extension": ".py",
   "mimetype": "text/x-python",
   "name": "python",
   "nbconvert_exporter": "python",
   "pygments_lexer": "ipython3",
   "version": "3.9.0"
  }
 },
 "nbformat": 4,
 "nbformat_minor": 5
}
