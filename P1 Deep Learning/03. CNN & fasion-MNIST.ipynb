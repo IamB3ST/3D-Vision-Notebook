{
 "cells": [
  {
   "cell_type": "markdown",
   "id": "cc1ad281",
   "metadata": {},
   "source": [
    "# Convoluntional Neural Networks"
   ]
  },
  {
   "cell_type": "markdown",
   "id": "2f0de103",
   "metadata": {},
   "source": [
    "<div style=\"display: flex; align-items: center;\">\n",
    "    <img src=\"../imgs/CNN.jpg\" alt=\"Your Image\" width=\"600\" style=\"margin-right: 20px;\">\n",
    "    <div>\n",
    "        <p>Convolutional Neural Networks are deep learning models or multi-layer perceptrons similar to artificial neural networks, commonly used to analyze visual images. The founder of convolutional neural networks is renowned computer scientist Yann LeCun. He was the first person to solve handwritten digit problems using convolutional neural networks on the MNIST dataset.</p>\n",
    "        <p>The architecture of convolutional neural networks is very similar to that of conventional artificial neural networks, especially in the last layer of the network, which is fully connected. Furthermore, it is noted that convolutional neural networks can accept multiple feature maps as inputs rather than vectors.</p>\n",
    "    </div>\n",
    "</div>"
   ]
  },
  {
   "cell_type": "markdown",
   "id": "d2f29f6f",
   "metadata": {},
   "source": [
    "A convolutional neural network mainly consists of the following 5 layers:\n",
    "- **Data input layer/Input layer**: Preprocessing the raw image data.(In this chapter, we don't use it, because we have already preprocessed the MNIST data in the class MNISTTrainer.)\n",
    "- **Convolutional computation layer/CONV layer**: Processing image data, which extracts image features by performing element multiplication operations on the input image through filters (also known as convolution kernels) and summing them up.\n",
    "- **ReLU incentive layer**: Perform nonlinear mapping on the output results of convolutional layers.\n",
    "- **Pooling layer**: Used to compress data and parameters, reduce overfitting\n",
    "- **Fully connected layer/FC layer**: Like MLP."
   ]
  },
  {
   "cell_type": "markdown",
   "id": "4eb538c3",
   "metadata": {},
   "source": [
    "## CNN\n",
    "Before building model.Let's see the parameters of the two new layers:<br>\n",
    "**nn.Conv2d**:<br>`in_channels`: Input channels.<br>`out_channels`: Output channels.<br>`kernel_size`: Size of the convolutional kernel.<br>`stride`: Stride of the convolution.<br>`padding`: Zero-padding added to both sides of the input.<br>`groups`:The number of groups. This is an optional parameter that defaults to 1. When groups is greater than 1, the input and output channels are divided into groups number of groups, and the convolutional kernel operates within these groups. Specifically, when groups is equal to in_channels, depthwise separable convolution can be performed, which can significantly reduce the number of model parameters and computational requirements.<br><br>\n",
    "**nn.MaxPool2d**:<br>`kernel_size`: Size of the max pooling window.<br>`stride`: Stride of the max pooling operation."
   ]
  },
  {
   "cell_type": "code",
   "execution_count": 2,
   "id": "f5b1888f",
   "metadata": {},
   "outputs": [],
   "source": [
    "import torch\n",
    "import torch.nn as nn\n",
    "\n",
    "class CNN(nn.Module):\n",
    "    def __init__(self, input_channels, output_size):\n",
    "        super(CNN, self).__init__()\n",
    "        self.conv1 = nn.Conv2d(input_channels, 32, kernel_size=3, padding=1)\n",
    "        self.conv2 = nn.Conv2d(32, 64, kernel_size=3, padding=1)\n",
    "        self.pool = nn.MaxPool2d(2, 2)\n",
    "        # we can see fc1 and fc2 as a MLP\n",
    "        self.fc1 = nn.Linear(64 * 7 * 7, 128)\n",
    "        self.fc2 = nn.Linear(128, output_size)\n",
    "\n",
    "    def forward(self, x):\n",
    "        x = self.pool(torch.relu(self.conv1(x)))\n",
    "        x = self.pool(torch.relu(self.conv2(x)))\n",
    "        x = x.view(-1, 64 * 7 * 7)\n",
    "        x = torch.relu(self.fc1(x))\n",
    "        x = self.fc2(x)\n",
    "        return x"
   ]
  },
  {
   "cell_type": "markdown",
   "id": "7301e2a8",
   "metadata": {},
   "source": [
    "## Train CNN on FashionMNIST"
   ]
  },
  {
   "cell_type": "code",
   "execution_count": 5,
   "id": "4202ad2e",
   "metadata": {
    "scrolled": true
   },
   "outputs": [
    {
     "name": "stdout",
     "output_type": "stream",
     "text": [
      "=======================================================================================================================================\n",
      "2024-05-24 14:32:57\n",
      "Epoch 1 / 30\n"
     ]
    },
    {
     "name": "stderr",
     "output_type": "stream",
     "text": [
      "[Train]: 100%|█████████████████████████| 211/211 [00:20<00:00, 10.39it/s, train_loss=1.06]\n",
      "[Valid]: 100%|██████████████████████| 24/24 [00:02<00:00, 11.28it/s, val_acc=75.9, val_loss=0.00261]\n"
     ]
    },
    {
     "name": "stdout",
     "output_type": "stream",
     "text": [
      "Validation loss decreased (inf --> 0.002607).\n",
      "=======================================================================================================================================\n",
      "2024-05-24 14:33:19\n",
      "Epoch 2 / 30\n"
     ]
    },
    {
     "name": "stderr",
     "output_type": "stream",
     "text": [
      "[Train]: 100%|████████████████████████| 211/211 [00:19<00:00, 10.57it/s, train_loss=0.587]\n",
      "[Valid]: 100%|██████████████████████| 24/24 [00:02<00:00, 11.64it/s, val_acc=79.9, val_loss=0.00214]\n"
     ]
    },
    {
     "name": "stdout",
     "output_type": "stream",
     "text": [
      "Validation loss decreased (0.002607 --> 0.002137).\n",
      "=======================================================================================================================================\n",
      "2024-05-24 14:33:41\n",
      "Epoch 3 / 30\n"
     ]
    },
    {
     "name": "stderr",
     "output_type": "stream",
     "text": [
      "[Train]: 100%|████████████████████████| 211/211 [00:19<00:00, 10.56it/s, train_loss=0.512]\n",
      "[Valid]: 100%|███████████████████████| 24/24 [00:02<00:00, 11.31it/s, val_acc=82.1, val_loss=0.0019]\n"
     ]
    },
    {
     "name": "stdout",
     "output_type": "stream",
     "text": [
      "Validation loss decreased (0.002137 --> 0.001900).\n",
      "=======================================================================================================================================\n",
      "2024-05-24 14:34:03\n",
      "Epoch 4 / 30\n"
     ]
    },
    {
     "name": "stderr",
     "output_type": "stream",
     "text": [
      "[Train]: 100%|████████████████████████| 211/211 [00:20<00:00, 10.40it/s, train_loss=0.459]\n",
      "[Valid]: 100%|█████████████████████████| 24/24 [00:02<00:00, 11.13it/s, val_acc=83, val_loss=0.0018]\n"
     ]
    },
    {
     "name": "stdout",
     "output_type": "stream",
     "text": [
      "Validation loss decreased (0.001900 --> 0.001799).\n",
      "=======================================================================================================================================\n",
      "2024-05-24 14:34:26\n",
      "Epoch 5 / 30\n"
     ]
    },
    {
     "name": "stderr",
     "output_type": "stream",
     "text": [
      "[Train]: 100%|████████████████████████| 211/211 [00:20<00:00, 10.37it/s, train_loss=0.431]\n",
      "[Valid]: 100%|████████████████████████| 24/24 [00:02<00:00, 11.71it/s, val_acc=84, val_loss=0.00172]\n"
     ]
    },
    {
     "name": "stdout",
     "output_type": "stream",
     "text": [
      "Validation loss decreased (0.001799 --> 0.001718).\n",
      "=======================================================================================================================================\n",
      "2024-05-24 14:34:48\n",
      "Epoch 6 / 30\n"
     ]
    },
    {
     "name": "stderr",
     "output_type": "stream",
     "text": [
      "[Train]: 100%|████████████████████████| 211/211 [00:19<00:00, 10.57it/s, train_loss=0.407]\n",
      "[Valid]: 100%|██████████████████████| 24/24 [00:02<00:00, 11.56it/s, val_acc=86.1, val_loss=0.00152]\n"
     ]
    },
    {
     "name": "stdout",
     "output_type": "stream",
     "text": [
      "Validation loss decreased (0.001718 --> 0.001519).\n",
      "=======================================================================================================================================\n",
      "2024-05-24 14:35:10\n",
      "Epoch 7 / 30\n"
     ]
    },
    {
     "name": "stderr",
     "output_type": "stream",
     "text": [
      "[Train]: 100%|████████████████████████| 211/211 [00:20<00:00, 10.47it/s, train_loss=0.382]\n",
      "[Valid]: 100%|████████████████████████| 24/24 [00:02<00:00, 11.43it/s, val_acc=86, val_loss=0.00151]\n"
     ]
    },
    {
     "name": "stdout",
     "output_type": "stream",
     "text": [
      "Validation loss decreased (0.001519 --> 0.001512).\n",
      "=======================================================================================================================================\n",
      "2024-05-24 14:35:32\n",
      "Epoch 8 / 30\n"
     ]
    },
    {
     "name": "stderr",
     "output_type": "stream",
     "text": [
      "[Train]: 100%|████████████████████████| 211/211 [00:19<00:00, 10.60it/s, train_loss=0.373]\n",
      "[Valid]: 100%|██████████████████████| 24/24 [00:02<00:00, 11.49it/s, val_acc=86.7, val_loss=0.00147]\n"
     ]
    },
    {
     "name": "stdout",
     "output_type": "stream",
     "text": [
      "Validation loss decreased (0.001512 --> 0.001465).\n",
      "=======================================================================================================================================\n",
      "2024-05-24 14:35:54\n",
      "Epoch 9 / 30\n"
     ]
    },
    {
     "name": "stderr",
     "output_type": "stream",
     "text": [
      "[Train]: 100%|████████████████████████| 211/211 [00:20<00:00, 10.42it/s, train_loss=0.356]\n",
      "[Valid]: 100%|█████████████████████████| 24/24 [00:02<00:00, 11.15it/s, val_acc=87, val_loss=0.0014]\n"
     ]
    },
    {
     "name": "stdout",
     "output_type": "stream",
     "text": [
      "Validation loss decreased (0.001465 --> 0.001397).\n",
      "=======================================================================================================================================\n",
      "2024-05-24 14:36:17\n",
      "Epoch 10 / 30\n"
     ]
    },
    {
     "name": "stderr",
     "output_type": "stream",
     "text": [
      "[Train]: 100%|████████████████████████| 211/211 [00:20<00:00, 10.54it/s, train_loss=0.347]\n",
      "[Valid]: 100%|██████████████████████| 24/24 [00:02<00:00, 11.40it/s, val_acc=86.3, val_loss=0.00148]\n"
     ]
    },
    {
     "name": "stdout",
     "output_type": "stream",
     "text": [
      "=======================================================================================================================================\n",
      "2024-05-24 14:36:39\n",
      "Epoch 11 / 30\n"
     ]
    },
    {
     "name": "stderr",
     "output_type": "stream",
     "text": [
      "[Train]: 100%|████████████████████████| 211/211 [00:20<00:00, 10.28it/s, train_loss=0.332]\n",
      "[Valid]: 100%|██████████████████████| 24/24 [00:02<00:00, 11.03it/s, val_acc=88.2, val_loss=0.00131]\n"
     ]
    },
    {
     "name": "stdout",
     "output_type": "stream",
     "text": [
      "Validation loss decreased (0.001397 --> 0.001308).\n",
      "=======================================================================================================================================\n",
      "2024-05-24 14:37:02\n",
      "Epoch 12 / 30\n"
     ]
    },
    {
     "name": "stderr",
     "output_type": "stream",
     "text": [
      "[Train]: 100%|████████████████████████| 211/211 [00:23<00:00,  8.98it/s, train_loss=0.327]\n",
      "[Valid]: 100%|██████████████████████| 24/24 [00:02<00:00, 10.57it/s, val_acc=87.8, val_loss=0.00134]\n"
     ]
    },
    {
     "name": "stdout",
     "output_type": "stream",
     "text": [
      "=======================================================================================================================================\n",
      "2024-05-24 14:37:27\n",
      "Epoch 13 / 30\n"
     ]
    },
    {
     "name": "stderr",
     "output_type": "stream",
     "text": [
      "[Train]: 100%|████████████████████████| 211/211 [00:20<00:00, 10.19it/s, train_loss=0.319]\n",
      "[Valid]: 100%|██████████████████████| 24/24 [00:02<00:00, 11.54it/s, val_acc=87.3, val_loss=0.00141]\n"
     ]
    },
    {
     "name": "stdout",
     "output_type": "stream",
     "text": [
      "=======================================================================================================================================\n",
      "2024-05-24 14:37:50\n",
      "Epoch 14 / 30\n"
     ]
    },
    {
     "name": "stderr",
     "output_type": "stream",
     "text": [
      "[Train]: 100%|████████████████████████| 211/211 [00:19<00:00, 10.64it/s, train_loss=0.315]\n",
      "[Valid]: 100%|██████████████████████| 24/24 [00:02<00:00, 11.00it/s, val_acc=88.3, val_loss=0.00127]\n"
     ]
    },
    {
     "name": "stdout",
     "output_type": "stream",
     "text": [
      "Validation loss decreased (0.001308 --> 0.001269).\n",
      "=======================================================================================================================================\n",
      "2024-05-24 14:38:12\n",
      "Epoch 15 / 30\n"
     ]
    },
    {
     "name": "stderr",
     "output_type": "stream",
     "text": [
      "[Train]: 100%|████████████████████████| 211/211 [00:20<00:00, 10.52it/s, train_loss=0.303]\n",
      "[Valid]: 100%|██████████████████████| 24/24 [00:02<00:00, 11.28it/s, val_acc=88.5, val_loss=0.00126]\n"
     ]
    },
    {
     "name": "stdout",
     "output_type": "stream",
     "text": [
      "Validation loss decreased (0.001269 --> 0.001258).\n",
      "=======================================================================================================================================\n",
      "2024-05-24 14:38:34\n",
      "Epoch 16 / 30\n"
     ]
    },
    {
     "name": "stderr",
     "output_type": "stream",
     "text": [
      "[Train]: 100%|████████████████████████| 211/211 [00:20<00:00, 10.42it/s, train_loss=0.299]\n",
      "[Valid]: 100%|██████████████████████| 24/24 [00:02<00:00, 11.85it/s, val_acc=88.3, val_loss=0.00127]\n"
     ]
    },
    {
     "name": "stdout",
     "output_type": "stream",
     "text": [
      "=======================================================================================================================================\n",
      "2024-05-24 14:38:57\n",
      "Epoch 17 / 30\n"
     ]
    },
    {
     "name": "stderr",
     "output_type": "stream",
     "text": [
      "[Train]: 100%|████████████████████████| 211/211 [00:20<00:00, 10.45it/s, train_loss=0.291]\n",
      "[Valid]: 100%|██████████████████████| 24/24 [00:02<00:00, 11.69it/s, val_acc=89.2, val_loss=0.00119]\n"
     ]
    },
    {
     "name": "stdout",
     "output_type": "stream",
     "text": [
      "Validation loss decreased (0.001258 --> 0.001190).\n",
      "=======================================================================================================================================\n",
      "2024-05-24 14:39:19\n",
      "Epoch 18 / 30\n"
     ]
    },
    {
     "name": "stderr",
     "output_type": "stream",
     "text": [
      "[Train]: 100%|████████████████████████| 211/211 [00:19<00:00, 10.64it/s, train_loss=0.283]\n",
      "[Valid]: 100%|██████████████████████| 24/24 [00:02<00:00, 11.43it/s, val_acc=89.4, val_loss=0.00115]\n"
     ]
    },
    {
     "name": "stdout",
     "output_type": "stream",
     "text": [
      "Validation loss decreased (0.001190 --> 0.001152).\n",
      "=======================================================================================================================================\n",
      "2024-05-24 14:39:41\n",
      "Epoch 19 / 30\n"
     ]
    },
    {
     "name": "stderr",
     "output_type": "stream",
     "text": [
      "[Train]: 100%|████████████████████████| 211/211 [00:19<00:00, 10.66it/s, train_loss=0.278]\n",
      "[Valid]: 100%|██████████████████████| 24/24 [00:02<00:00, 11.66it/s, val_acc=88.8, val_loss=0.00121]\n"
     ]
    },
    {
     "name": "stdout",
     "output_type": "stream",
     "text": [
      "=======================================================================================================================================\n",
      "2024-05-24 14:40:03\n",
      "Epoch 20 / 30\n"
     ]
    },
    {
     "name": "stderr",
     "output_type": "stream",
     "text": [
      "[Train]: 100%|█████████████████████████| 211/211 [00:20<00:00, 10.46it/s, train_loss=0.28]\n",
      "[Valid]: 100%|██████████████████████| 24/24 [00:02<00:00, 11.49it/s, val_acc=89.3, val_loss=0.00118]\n"
     ]
    },
    {
     "name": "stdout",
     "output_type": "stream",
     "text": [
      "=======================================================================================================================================\n",
      "2024-05-24 14:40:25\n",
      "Epoch 21 / 30\n"
     ]
    },
    {
     "name": "stderr",
     "output_type": "stream",
     "text": [
      "[Train]: 100%|████████████████████████| 211/211 [00:20<00:00, 10.54it/s, train_loss=0.273]\n",
      "[Valid]: 100%|██████████████████████| 24/24 [00:02<00:00, 11.48it/s, val_acc=89.6, val_loss=0.00115]\n"
     ]
    },
    {
     "name": "stdout",
     "output_type": "stream",
     "text": [
      "=======================================================================================================================================\n",
      "2024-05-24 14:40:47\n",
      "Epoch 22 / 30\n"
     ]
    },
    {
     "name": "stderr",
     "output_type": "stream",
     "text": [
      "[Train]: 100%|████████████████████████| 211/211 [00:20<00:00, 10.23it/s, train_loss=0.272]\n",
      "[Valid]: 100%|██████████████████████| 24/24 [00:02<00:00, 11.14it/s, val_acc=89.6, val_loss=0.00113]\n"
     ]
    },
    {
     "name": "stdout",
     "output_type": "stream",
     "text": [
      "Validation loss decreased (0.001152 --> 0.001126).\n",
      "=======================================================================================================================================\n",
      "2024-05-24 14:41:10\n",
      "Epoch 23 / 30\n"
     ]
    },
    {
     "name": "stderr",
     "output_type": "stream",
     "text": [
      "[Train]: 100%|████████████████████████| 211/211 [00:18<00:00, 11.11it/s, train_loss=0.262]\n",
      "[Valid]: 100%|██████████████████████| 24/24 [00:01<00:00, 12.77it/s, val_acc=90.3, val_loss=0.00106]\n"
     ]
    },
    {
     "name": "stdout",
     "output_type": "stream",
     "text": [
      "Validation loss decreased (0.001126 --> 0.001061).\n",
      "=======================================================================================================================================\n",
      "2024-05-24 14:41:31\n",
      "Epoch 24 / 30\n"
     ]
    },
    {
     "name": "stderr",
     "output_type": "stream",
     "text": [
      "[Train]: 100%|████████████████████████| 211/211 [00:18<00:00, 11.49it/s, train_loss=0.263]\n",
      "[Valid]: 100%|██████████████████████| 24/24 [00:02<00:00, 11.62it/s, val_acc=90.1, val_loss=0.00106]\n"
     ]
    },
    {
     "name": "stdout",
     "output_type": "stream",
     "text": [
      "Validation loss decreased (0.001061 --> 0.001060).\n",
      "=======================================================================================================================================\n",
      "2024-05-24 14:41:51\n",
      "Epoch 25 / 30\n"
     ]
    },
    {
     "name": "stderr",
     "output_type": "stream",
     "text": [
      "[Train]: 100%|████████████████████████| 211/211 [00:20<00:00, 10.31it/s, train_loss=0.259]\n",
      "[Valid]: 100%|██████████████████████| 24/24 [00:02<00:00, 11.70it/s, val_acc=90.3, val_loss=0.00111]\n"
     ]
    },
    {
     "name": "stdout",
     "output_type": "stream",
     "text": [
      "=======================================================================================================================================\n",
      "2024-05-24 14:42:14\n",
      "Epoch 26 / 30\n"
     ]
    },
    {
     "name": "stderr",
     "output_type": "stream",
     "text": [
      "[Train]: 100%|████████████████████████| 211/211 [00:21<00:00,  9.83it/s, train_loss=0.253]\n",
      "[Valid]: 100%|██████████████████████| 24/24 [00:02<00:00, 10.69it/s, val_acc=90.5, val_loss=0.00107]\n"
     ]
    },
    {
     "name": "stdout",
     "output_type": "stream",
     "text": [
      "=======================================================================================================================================\n",
      "2024-05-24 14:42:37\n",
      "Epoch 27 / 30\n"
     ]
    },
    {
     "name": "stderr",
     "output_type": "stream",
     "text": [
      "[Train]: 100%|████████████████████████| 211/211 [00:22<00:00,  9.52it/s, train_loss=0.252]\n",
      "[Valid]: 100%|██████████████████████| 24/24 [00:02<00:00, 10.72it/s, val_acc=90.3, val_loss=0.00106]\n"
     ]
    },
    {
     "name": "stdout",
     "output_type": "stream",
     "text": [
      "=======================================================================================================================================\n",
      "2024-05-24 14:43:02\n",
      "Epoch 28 / 30\n"
     ]
    },
    {
     "name": "stderr",
     "output_type": "stream",
     "text": [
      "[Train]: 100%|████████████████████████| 211/211 [00:22<00:00,  9.56it/s, train_loss=0.251]\n",
      "[Valid]: 100%|██████████████████████| 24/24 [00:02<00:00, 10.07it/s, val_acc=90.7, val_loss=0.00102]\n"
     ]
    },
    {
     "name": "stdout",
     "output_type": "stream",
     "text": [
      "Validation loss decreased (0.001060 --> 0.001021).\n",
      "=======================================================================================================================================\n",
      "2024-05-24 14:43:26\n",
      "Epoch 29 / 30\n"
     ]
    },
    {
     "name": "stderr",
     "output_type": "stream",
     "text": [
      "[Train]: 100%|████████████████████████| 211/211 [00:21<00:00,  9.61it/s, train_loss=0.245]\n",
      "[Valid]: 100%|██████████████████████| 24/24 [00:02<00:00, 10.57it/s, val_acc=90.6, val_loss=0.00104]\n"
     ]
    },
    {
     "name": "stdout",
     "output_type": "stream",
     "text": [
      "=======================================================================================================================================\n",
      "2024-05-24 14:43:51\n",
      "Epoch 30 / 30\n"
     ]
    },
    {
     "name": "stderr",
     "output_type": "stream",
     "text": [
      "[Train]: 100%|████████████████████████| 211/211 [00:21<00:00,  9.65it/s, train_loss=0.242]\n",
      "[Valid]: 100%|██████████████████████| 24/24 [00:02<00:00, 10.28it/s, val_acc=90.4, val_loss=0.00104]\n"
     ]
    },
    {
     "data": {
      "image/png": "[encoded data removed]",
      "text/plain": [
       "<Figure size 1000x500 with 1 Axes>"
      ]
     },
     "metadata": {},
     "output_type": "display_data"
    },
    {
     "name": "stderr",
     "output_type": "stream",
     "text": [
      "Testing [Test]: 100%|██████████████████████████| 40/40 [00:02<00:00, 16.40it/s, test_acc=91, test_loss=0.00103]\n"
     ]
    }
   ],
   "source": [
    "import sys\n",
    "sys.path.append('../tools')\n",
    "from FashionMNIST import fashion_mnist_trainer\n",
    "from torchvision import transforms\n",
    "\n",
    "train_transforms = transforms.Compose([\n",
    "    transforms.RandomHorizontalFlip(),\n",
    "    transforms.RandomCrop(28, padding=2),\n",
    "    transforms.ToTensor(),\n",
    "    transforms.Normalize((0.5,), (0.5,))\n",
    "])\n",
    "\n",
    "test_transforms = transforms.Compose([\n",
    "    transforms.ToTensor(),\n",
    "    transforms.Normalize((0.5,), (0.5,))\n",
    "])\n",
    "\n",
    "model = CNN(input_channels=1, output_size=10)\n",
    "trainer = fashion_mnist_trainer(model=model, lr=0.01, batch_size=256, epoch=30, train_transforms=train_transforms, test_transforms=test_transforms)\n",
    "trainer.train()\n",
    "trainer.test()"
   ]
  }
 ],
 "metadata": {
  "kernelspec": {
   "display_name": "bdl",
   "language": "python",
   "name": "bdl"
  },
  "language_info": {
   "codemirror_mode": {
    "name": "ipython",
    "version": 3
   },
   "file_extension": ".py",
   "mimetype": "text/x-python",
   "name": "python",
   "nbconvert_exporter": "python",
   "pygments_lexer": "ipython3",
   "version": "3.9.0"
  }
 },
 "nbformat": 4,
 "nbformat_minor": 5
}
