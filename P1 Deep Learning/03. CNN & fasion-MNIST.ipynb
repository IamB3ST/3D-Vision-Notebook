{
 "cells": [
  {
   "cell_type": "markdown",
   "id": "cc1ad281",
   "metadata": {},
   "source": [
    "# Convoluntional Neural Networks"
   ]
  },
  {
   "cell_type": "markdown",
   "id": "2f0de103",
   "metadata": {},
   "source": [
    "<div style=\"display: flex; align-items: center;\">\n",
    "    <img src=\"../imgs/CNN.jpg\" alt=\"Your Image\" width=\"600\" style=\"margin-right: 20px;\">\n",
    "    <div>\n",
    "        <p>Convolutional Neural Networks are deep learning models or multi-layer perceptrons similar to artificial neural networks, commonly used to analyze visual images. The founder of convolutional neural networks is renowned computer scientist Yann LeCun. He was the first person to solve handwritten digit problems using convolutional neural networks on the MNIST dataset.</p>\n",
    "        <p>The architecture of convolutional neural networks is very similar to that of conventional artificial neural networks, especially in the last layer of the network, which is fully connected. Furthermore, it is noted that convolutional neural networks can accept multiple feature maps as inputs rather than vectors.</p>\n",
    "    </div>\n",
    "</div>"
   ]
  },
  {
   "cell_type": "markdown",
   "id": "d2f29f6f",
   "metadata": {},
   "source": [
    "A convolutional neural network mainly consists of the following 5 layers:\n",
    "- **Data input layer/Input layer**: Preprocessing the raw image data.(In this chapter, we don't use it, because we have already preprocessed the MNIST data in the class MNISTTrainer.)\n",
    "- **Convolutional computation layer/CONV layer**: Processing image data, which extracts image features by performing element multiplication operations on the input image through filters (also known as convolution kernels) and summing them up.\n",
    "- **ReLU incentive layer**: Perform nonlinear mapping on the output results of convolutional layers.\n",
    "- **Pooling layer**: Used to compress data and parameters, reduce overfitting\n",
    "- **Fully connected layer/FC layer**: Like MLP."
   ]
  },
  {
   "cell_type": "markdown",
   "id": "4eb538c3",
   "metadata": {},
   "source": [
    "## CNN\n",
    "Before building model.Let's see the parameters of the two new layers:<br>\n",
    "**nn.Conv2d**:<br>`in_channels`: Input channels.<br>`out_channels`: Output channels.<br>`kernel_size`: Size of the convolutional kernel.<br>`stride`: Stride of the convolution.<br>`padding`: Zero-padding added to both sides of the input.<br>`groups`:The number of groups. This is an optional parameter that defaults to 1. When groups is greater than 1, the input and output channels are divided into groups number of groups, and the convolutional kernel operates within these groups. Specifically, when groups is equal to in_channels, depthwise separable convolution can be performed, which can significantly reduce the number of model parameters and computational requirements.<br><br>\n",
    "**nn.MaxPool2d**:<br>`kernel_size`: Size of the max pooling window.<br>`stride`: Stride of the max pooling operation."
   ]
  },
  {
   "cell_type": "code",
   "execution_count": 1,
   "id": "f5b1888f",
   "metadata": {},
   "outputs": [
    {
     "name": "stderr",
     "output_type": "stream",
     "text": [
      "D:\\Anaconda\\envs\\bdl\\lib\\site-packages\\numpy\\_distributor_init.py:30: UserWarning: loaded more than 1 DLL from .libs:\n",
      "D:\\Anaconda\\envs\\bdl\\lib\\site-packages\\numpy\\.libs\\libopenblas64__v0.3.23-246-g3d31191b-gcc_10_3_0.dll\n",
      "D:\\Anaconda\\envs\\bdl\\lib\\site-packages\\numpy\\.libs\\libopenblas64__v0.3.23-gcc_10_3_0.dll\n",
      "  warnings.warn(\"loaded more than 1 DLL from .libs:\"\n"
     ]
    }
   ],
   "source": [
    "import torch\n",
    "import torch.nn as nn\n",
    "\n",
    "class CNN(nn.Module):\n",
    "    def __init__(self, input_channels, output_size):\n",
    "        super(CNN, self).__init__()\n",
    "        self.conv1 = nn.Conv2d(input_channels, 32, kernel_size=3, padding=1)\n",
    "        self.conv2 = nn.Conv2d(32, 64, kernel_size=3, padding=1)\n",
    "        self.pool = nn.MaxPool2d(2, 2)\n",
    "        # we can see fc1 and fc2 as a MLP\n",
    "        self.fc1 = nn.Linear(64 * 7 * 7, 128)\n",
    "        self.fc2 = nn.Linear(128, output_size)\n",
    "\n",
    "    def forward(self, x):\n",
    "        x = self.pool(torch.relu(self.conv1(x)))\n",
    "        x = self.pool(torch.relu(self.conv2(x)))\n",
    "        x = x.view(-1, 64 * 7 * 7)\n",
    "        x = torch.relu(self.fc1(x))\n",
    "        x = self.fc2(x)\n",
    "        return x"
   ]
  },
  {
   "cell_type": "markdown",
   "id": "7301e2a8",
   "metadata": {},
   "source": [
    "## Train CNN on FashionMNIST"
   ]
  },
  {
   "cell_type": "code",
   "execution_count": 3,
   "id": "4202ad2e",
   "metadata": {
    "scrolled": true
   },
   "outputs": [
    {
     "name": "stdout",
     "output_type": "stream",
     "text": [
      "=======================================================================================================================================\n",
      "2024-05-24 02:14:19\n",
      "Epoch 1 / 20\n"
     ]
    },
    {
     "name": "stderr",
     "output_type": "stream",
     "text": [
      "[Train]: 100%|█████████████████████████| 422/422 [00:15<00:00, 27.97it/s, train_loss=1.01]\n",
      "[Valid]: 100%|██████████████████████| 47/47 [00:01<00:00, 25.56it/s, val_acc=74.2, val_loss=0.00514]\n"
     ]
    },
    {
     "name": "stdout",
     "output_type": "stream",
     "text": [
      "Validation loss decreased (inf --> 0.005144).\n",
      "=======================================================================================================================================\n",
      "2024-05-24 02:14:36\n",
      "Epoch 2 / 20\n"
     ]
    },
    {
     "name": "stderr",
     "output_type": "stream",
     "text": [
      "[Train]: 100%|████████████████████████| 422/422 [00:16<00:00, 26.19it/s, train_loss=0.624]\n",
      "[Valid]: 100%|██████████████████████| 47/47 [00:01<00:00, 30.21it/s, val_acc=78.8, val_loss=0.00432]\n"
     ]
    },
    {
     "name": "stdout",
     "output_type": "stream",
     "text": [
      "Validation loss decreased (0.005144 --> 0.004321).\n",
      "=======================================================================================================================================\n",
      "2024-05-24 02:14:54\n",
      "Epoch 3 / 20\n"
     ]
    },
    {
     "name": "stderr",
     "output_type": "stream",
     "text": [
      "[Train]: 100%|████████████████████████| 422/422 [00:15<00:00, 26.47it/s, train_loss=0.546]\n",
      "[Valid]: 100%|██████████████████████| 47/47 [00:01<00:00, 30.68it/s, val_acc=81.2, val_loss=0.00387]\n"
     ]
    },
    {
     "name": "stdout",
     "output_type": "stream",
     "text": [
      "Validation loss decreased (0.004321 --> 0.003871).\n",
      "=======================================================================================================================================\n",
      "2024-05-24 02:15:11\n",
      "Epoch 4 / 20\n"
     ]
    },
    {
     "name": "stderr",
     "output_type": "stream",
     "text": [
      "[Train]: 100%|████████████████████████| 422/422 [00:16<00:00, 26.32it/s, train_loss=0.506]\n",
      "[Valid]: 100%|███████████████████████| 47/47 [00:01<00:00, 26.41it/s, val_acc=81.1, val_loss=0.0037]\n"
     ]
    },
    {
     "name": "stdout",
     "output_type": "stream",
     "text": [
      "Validation loss decreased (0.003871 --> 0.003699).\n",
      "=======================================================================================================================================\n",
      "2024-05-24 02:15:29\n",
      "Epoch 5 / 20\n"
     ]
    },
    {
     "name": "stderr",
     "output_type": "stream",
     "text": [
      "[Train]: 100%|████████████████████████| 422/422 [00:15<00:00, 26.93it/s, train_loss=0.467]\n",
      "[Valid]: 100%|██████████████████████| 47/47 [00:01<00:00, 30.55it/s, val_acc=84.3, val_loss=0.00336]\n"
     ]
    },
    {
     "name": "stdout",
     "output_type": "stream",
     "text": [
      "Validation loss decreased (0.003699 --> 0.003357).\n",
      "=======================================================================================================================================\n",
      "2024-05-24 02:15:46\n",
      "Epoch 6 / 20\n"
     ]
    },
    {
     "name": "stderr",
     "output_type": "stream",
     "text": [
      "[Train]: 100%|████████████████████████| 422/422 [00:16<00:00, 26.19it/s, train_loss=0.441]\n",
      "[Valid]: 100%|██████████████████████| 47/47 [00:01<00:00, 30.93it/s, val_acc=83.3, val_loss=0.00341]\n"
     ]
    },
    {
     "name": "stdout",
     "output_type": "stream",
     "text": [
      "=======================================================================================================================================\n",
      "2024-05-24 02:16:04\n",
      "Epoch 7 / 20\n"
     ]
    },
    {
     "name": "stderr",
     "output_type": "stream",
     "text": [
      "[Train]: 100%|████████████████████████| 422/422 [00:16<00:00, 26.15it/s, train_loss=0.416]\n",
      "[Valid]: 100%|███████████████████████| 47/47 [00:01<00:00, 29.44it/s, val_acc=84.2, val_loss=0.0032]\n"
     ]
    },
    {
     "name": "stdout",
     "output_type": "stream",
     "text": [
      "Validation loss decreased (0.003357 --> 0.003196).\n",
      "=======================================================================================================================================\n",
      "2024-05-24 02:16:21\n",
      "Epoch 8 / 20\n"
     ]
    },
    {
     "name": "stderr",
     "output_type": "stream",
     "text": [
      "[Train]: 100%|████████████████████████| 422/422 [00:15<00:00, 26.51it/s, train_loss=0.399]\n",
      "[Valid]: 100%|██████████████████████| 47/47 [00:01<00:00, 27.34it/s, val_acc=85.3, val_loss=0.00306]\n"
     ]
    },
    {
     "name": "stdout",
     "output_type": "stream",
     "text": [
      "Validation loss decreased (0.003196 --> 0.003059).\n",
      "=======================================================================================================================================\n",
      "2024-05-24 02:16:39\n",
      "Epoch 9 / 20\n"
     ]
    },
    {
     "name": "stderr",
     "output_type": "stream",
     "text": [
      "[Train]: 100%|████████████████████████| 422/422 [00:15<00:00, 26.41it/s, train_loss=0.388]\n",
      "[Valid]: 100%|██████████████████████| 47/47 [00:01<00:00, 26.06it/s, val_acc=85.8, val_loss=0.00299]\n"
     ]
    },
    {
     "name": "stdout",
     "output_type": "stream",
     "text": [
      "Validation loss decreased (0.003059 --> 0.002993).\n",
      "=======================================================================================================================================\n",
      "2024-05-24 02:16:57\n",
      "Epoch 10 / 20\n"
     ]
    },
    {
     "name": "stderr",
     "output_type": "stream",
     "text": [
      "[Train]: 100%|████████████████████████| 422/422 [00:16<00:00, 26.02it/s, train_loss=0.373]\n",
      "[Valid]: 100%|███████████████████████| 47/47 [00:01<00:00, 27.09it/s, val_acc=85.2, val_loss=0.0031]\n"
     ]
    },
    {
     "name": "stdout",
     "output_type": "stream",
     "text": [
      "=======================================================================================================================================\n",
      "2024-05-24 02:17:15\n",
      "Epoch 11 / 20\n"
     ]
    },
    {
     "name": "stderr",
     "output_type": "stream",
     "text": [
      "[Train]: 100%|████████████████████████| 422/422 [00:16<00:00, 26.04it/s, train_loss=0.359]\n",
      "[Valid]: 100%|██████████████████████| 47/47 [00:01<00:00, 24.95it/s, val_acc=86.9, val_loss=0.00267]\n"
     ]
    },
    {
     "name": "stdout",
     "output_type": "stream",
     "text": [
      "Validation loss decreased (0.002993 --> 0.002670).\n",
      "=======================================================================================================================================\n",
      "2024-05-24 02:17:33\n",
      "Epoch 12 / 20\n"
     ]
    },
    {
     "name": "stderr",
     "output_type": "stream",
     "text": [
      "[Train]: 100%|████████████████████████| 422/422 [00:16<00:00, 26.29it/s, train_loss=0.352]\n",
      "[Valid]: 100%|██████████████████████| 47/47 [00:01<00:00, 27.24it/s, val_acc=87.1, val_loss=0.00274]\n"
     ]
    },
    {
     "name": "stdout",
     "output_type": "stream",
     "text": [
      "=======================================================================================================================================\n",
      "2024-05-24 02:17:51\n",
      "Epoch 13 / 20\n"
     ]
    },
    {
     "name": "stderr",
     "output_type": "stream",
     "text": [
      "[Train]: 100%|████████████████████████| 422/422 [00:16<00:00, 26.37it/s, train_loss=0.339]\n",
      "[Valid]: 100%|██████████████████████| 47/47 [00:01<00:00, 27.99it/s, val_acc=87.4, val_loss=0.00265]\n"
     ]
    },
    {
     "name": "stdout",
     "output_type": "stream",
     "text": [
      "Validation loss decreased (0.002670 --> 0.002653).\n",
      "=======================================================================================================================================\n",
      "2024-05-24 02:18:08\n",
      "Epoch 14 / 20\n"
     ]
    },
    {
     "name": "stderr",
     "output_type": "stream",
     "text": [
      "[Train]: 100%|████████████████████████| 422/422 [00:16<00:00, 25.59it/s, train_loss=0.333]\n",
      "[Valid]: 100%|██████████████████████| 47/47 [00:01<00:00, 30.83it/s, val_acc=88.2, val_loss=0.00251]\n"
     ]
    },
    {
     "name": "stdout",
     "output_type": "stream",
     "text": [
      "Validation loss decreased (0.002653 --> 0.002508).\n",
      "=======================================================================================================================================\n",
      "2024-05-24 02:18:26\n",
      "Epoch 15 / 20\n"
     ]
    },
    {
     "name": "stderr",
     "output_type": "stream",
     "text": [
      "[Train]: 100%|████████████████████████| 422/422 [00:16<00:00, 25.49it/s, train_loss=0.325]\n",
      "[Valid]: 100%|██████████████████████| 47/47 [00:01<00:00, 28.11it/s, val_acc=86.5, val_loss=0.00278]\n"
     ]
    },
    {
     "name": "stdout",
     "output_type": "stream",
     "text": [
      "=======================================================================================================================================\n",
      "2024-05-24 02:18:45\n",
      "Epoch 16 / 20\n"
     ]
    },
    {
     "name": "stderr",
     "output_type": "stream",
     "text": [
      "[Train]: 100%|████████████████████████| 422/422 [00:16<00:00, 25.72it/s, train_loss=0.317]\n",
      "[Valid]: 100%|██████████████████████| 47/47 [00:01<00:00, 30.61it/s, val_acc=87.8, val_loss=0.00255]\n"
     ]
    },
    {
     "name": "stdout",
     "output_type": "stream",
     "text": [
      "=======================================================================================================================================\n",
      "2024-05-24 02:19:03\n",
      "Epoch 17 / 20\n"
     ]
    },
    {
     "name": "stderr",
     "output_type": "stream",
     "text": [
      "[Train]: 100%|████████████████████████| 422/422 [00:16<00:00, 25.37it/s, train_loss=0.312]\n",
      "[Valid]: 100%|█████████████████████████| 47/47 [00:01<00:00, 30.83it/s, val_acc=88, val_loss=0.0025]\n"
     ]
    },
    {
     "name": "stdout",
     "output_type": "stream",
     "text": [
      "Validation loss decreased (0.002508 --> 0.002495).\n",
      "=======================================================================================================================================\n",
      "2024-05-24 02:19:21\n",
      "Epoch 18 / 20\n"
     ]
    },
    {
     "name": "stderr",
     "output_type": "stream",
     "text": [
      "[Train]: 100%|█████████████████████████| 422/422 [00:16<00:00, 25.40it/s, train_loss=0.31]\n",
      "[Valid]: 100%|███████████████████████| 47/47 [00:01<00:00, 30.31it/s, val_acc=88.3, val_loss=0.0024]\n"
     ]
    },
    {
     "name": "stdout",
     "output_type": "stream",
     "text": [
      "Validation loss decreased (0.002495 --> 0.002396).\n",
      "=======================================================================================================================================\n",
      "2024-05-24 02:19:39\n",
      "Epoch 19 / 20\n"
     ]
    },
    {
     "name": "stderr",
     "output_type": "stream",
     "text": [
      "[Train]: 100%|████████████████████████| 422/422 [00:16<00:00, 26.10it/s, train_loss=0.306]\n",
      "[Valid]: 100%|██████████████████████| 47/47 [00:01<00:00, 24.65it/s, val_acc=87.7, val_loss=0.00251]\n"
     ]
    },
    {
     "name": "stdout",
     "output_type": "stream",
     "text": [
      "=======================================================================================================================================\n",
      "2024-05-24 02:19:57\n",
      "Epoch 20 / 20\n"
     ]
    },
    {
     "name": "stderr",
     "output_type": "stream",
     "text": [
      "[Train]: 100%|████████████████████████| 422/422 [00:16<00:00, 25.95it/s, train_loss=0.302]\n",
      "[Valid]: 100%|███████████████████████| 47/47 [00:01<00:00, 28.72it/s, val_acc=88.5, val_loss=0.0024]\n"
     ]
    },
    {
     "data": {
      "image/png": "[encoded data removed]",
      "text/plain": [
       "<Figure size 1000x500 with 1 Axes>"
      ]
     },
     "metadata": {},
     "output_type": "display_data"
    },
    {
     "name": "stderr",
     "output_type": "stream",
     "text": [
      "Testing [Test]: 100%|██████████████████████████████████| 79/79 [00:01<00:00, 39.94it/s, test_acc=90, test_loss=0.00228]\n"
     ]
    }
   ],
   "source": [
    "import sys\n",
    "sys.path.append('../tools')\n",
    "from FashionMNIST import fashion_mnist_trainer\n",
    "from torchvision import transforms\n",
    "\n",
    "train_transforms = transforms.Compose([\n",
    "    transforms.RandomHorizontalFlip(),\n",
    "    transforms.RandomCrop(28, padding=4),\n",
    "    transforms.ToTensor(),\n",
    "    transforms.Normalize((0.5,), (0.5,))\n",
    "])\n",
    "\n",
    "test_transforms = transforms.Compose([\n",
    "    transforms.ToTensor(),\n",
    "    transforms.Normalize((0.5,), (0.5,))\n",
    "])\n",
    "\n",
    "model = CNN(input_channels=1, output_size=10)\n",
    "trainer = fashion_mnist_trainer(model=model, lr=0.01, batch_size=128, epoch=20, train_transforms=train_transforms, test_transforms=test_transforms)\n",
    "trainer.train()\n",
    "trainer.test()"
   ]
  }
 ],
 "metadata": {
  "kernelspec": {
   "display_name": "bdl",
   "language": "python",
   "name": "bdl"
  },
  "language_info": {
   "codemirror_mode": {
    "name": "ipython",
    "version": 3
   },
   "file_extension": ".py",
   "mimetype": "text/x-python",
   "name": "python",
   "nbconvert_exporter": "python",
   "pygments_lexer": "ipython3",
   "version": "3.9.0"
  }
 },
 "nbformat": 4,
 "nbformat_minor": 5
}
