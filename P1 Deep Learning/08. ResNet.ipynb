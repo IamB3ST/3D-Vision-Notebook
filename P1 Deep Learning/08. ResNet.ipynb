{
 "cells": [
  {
   "cell_type": "markdown",
   "id": "40964c20",
   "metadata": {},
   "source": [
    "# ResNet"
   ]
  },
  {
   "cell_type": "markdown",
   "id": "0eb45603",
   "metadata": {},
   "source": [
    "<div style=\"display: flex; align-items: center;\">\n",
    "    <img src=\"../imgs/ResNet.jpg\" alt=\"Your Image\" width=\"500\" style=\"margin-right: 20px;\">\n",
    "    <div>\n",
    "        <p>In chapter 7, we introduced a new dataset CIFAR, and tried to challenge it, but the result is limited by using the current knowledge we had learned. In the following chapters, we will aim to achieve a accuracy with 95% on both CIFAR10 and CIFAR100 and continuously introduce new models. In this chapter, we will introduce ResNet.</p>\n",
    "        <p>From experience, the depth of the network is crucial to the performance of the model. When the number of network layers is increased, the network can extract more complex feature patterns, so theoretically, better results can be achieved when the model is deeper. But will deeper networks necessarily have better performance? As the depth of the network increases, the accuracy of the network saturates or even decreases.\n",
    "</p>\n",
    "        <p>The degradation problem of deep networks at least indicates that deep networks are not easy to train. Residual learning solves the problem of difficult training and even degradation of networks, making it easier to learn the original features directly compared to residual learning. When the residual is 0, the stacked layer only performs identity mapping, at least the network performance will not decrease. In fact, the residual will not be 0, which will enable the stacked layer to learn new features based on the input features, thus having better performance. This is somewhat similar to a \"short circuit\" in a circuit, so it is a short circuit connection.</p>\n",
    "        <p></p>\n",
    "    </div>\n",
    "</div>"
   ]
  },
  {
   "cell_type": "markdown",
   "id": "575aafec",
   "metadata": {},
   "source": [
    "## ResNet"
   ]
  },
  {
   "cell_type": "code",
   "execution_count": 1,
   "id": "3d26cb9c",
   "metadata": {},
   "outputs": [],
   "source": [
    "import torch\n",
    "import torch.nn as nn\n",
    "import torch.nn.functional as F\n",
    "\n",
    "class ResNet(nn.Module):\n",
    "    def __init__(self, input_channels, output_size):\n",
    "        super(ResNet, self).__init__()\n",
    "        self.in_channels = 64\n",
    "        \n",
    "        self.conv1 = nn.Conv2d(input_channels, self.in_channels, kernel_size=7, stride=2, padding=3, bias=False)\n",
    "        self.bn1 = nn.BatchNorm2d(self.in_channels)\n",
    "        self.relu = nn.ReLU(inplace=True)\n",
    "        self.maxpool = nn.MaxPool2d(kernel_size=3, stride=2, padding=1)\n",
    "        \n",
    "        self.blocks_layer = nn.Sequential(\n",
    "            self._make_layer(64),\n",
    "            self._make_layer(128, stride=2),\n",
    "            self._make_layer(256, stride=2)\n",
    "        )\n",
    "        \n",
    "        self.avgpool = nn.AdaptiveAvgPool2d((1, 1))\n",
    "        self.fc = nn.Linear(256, output_size)\n",
    "\n",
    "    def _make_layer(self, out_channels, stride=1):\n",
    "        layers = []\n",
    "        layers.append(BasicBlock(self.in_channels, out_channels, stride))\n",
    "        self.in_channels = out_channels\n",
    "        layers.append(BasicBlock(self.in_channels, out_channels))\n",
    "        return nn.Sequential(*layers)\n",
    "\n",
    "    def forward(self, x):\n",
    "        x = self.conv1(x)\n",
    "        x = self.bn1(x)\n",
    "        x = self.relu(x)\n",
    "        x = self.maxpool(x)\n",
    "        x = self.blocks_layer(x)\n",
    "        x = self.avgpool(x)\n",
    "        x = torch.flatten(x, 1)\n",
    "        x = self.fc(x)\n",
    "        return x\n",
    "\n",
    "class BasicBlock(nn.Module):\n",
    "    def __init__(self, in_channels, out_channels, stride=1):\n",
    "        super(BasicBlock, self).__init__()\n",
    "        self.conv1 = nn.Conv2d(in_channels, out_channels, kernel_size=3, stride=stride, padding=1, bias=False)\n",
    "        self.bn1 = nn.BatchNorm2d(out_channels)\n",
    "        self.relu = nn.ReLU(inplace=True)\n",
    "        self.conv2 = nn.Conv2d(out_channels, out_channels, kernel_size=3, stride=1, padding=1, bias=False)\n",
    "        self.bn2 = nn.BatchNorm2d(out_channels)\n",
    "\n",
    "        self.shortcut = nn.Sequential()\n",
    "        if stride != 1 or in_channels != out_channels:\n",
    "            self.shortcut = nn.Sequential(\n",
    "                nn.Conv2d(in_channels, out_channels, kernel_size=1, stride=stride, bias=False),\n",
    "                nn.BatchNorm2d(out_channels)\n",
    "            )\n",
    "\n",
    "    def forward(self, x):\n",
    "        identity = x\n",
    "        out = self.conv1(x)\n",
    "        out = self.bn1(out)\n",
    "        out = self.relu(out)\n",
    "        out = self.conv2(out)\n",
    "        out = self.bn2(out)\n",
    "        out += self.shortcut(identity)\n",
    "        out = self.relu(out)\n",
    "        return out"
   ]
  },
  {
   "cell_type": "markdown",
   "id": "f751d18f",
   "metadata": {},
   "source": [
    "# Train ResNet on CIFAR10/100"
   ]
  },
  {
   "cell_type": "code",
   "execution_count": 2,
   "id": "fe0b81e3",
   "metadata": {},
   "outputs": [],
   "source": [
    "import sys\n",
    "import torch.nn as nn\n",
    "sys.path.append('../tools')\n",
    "from CIFAR10 import CIFAR10Trainer\n",
    "from CIFAR100 import CIFAR100Trainer"
   ]
  },
  {
   "cell_type": "code",
   "execution_count": 3,
   "id": "8dfdbec1",
   "metadata": {
    "scrolled": true
   },
   "outputs": [
    {
     "name": "stdout",
     "output_type": "stream",
     "text": [
      "Files already downloaded and verified\n",
      "Files already downloaded and verified\n",
      "=======================================================================================================================================\n",
      "2024-05-21 22:08:12\n",
      "Epoch 1 / 30\n"
     ]
    },
    {
     "name": "stderr",
     "output_type": "stream",
     "text": [
      "[Train]:   0%|                                                    | 0/352 [00:00<?, ?it/s]D:\\Anaconda\\envs\\bdl\\lib\\site-packages\\torch\\nn\\modules\\conv.py:456: UserWarning: Plan failed with a cudnnException: CUDNN_BACKEND_EXECUTION_PLAN_DESCRIPTOR: cudnnFinalize Descriptor Failed cudnn_status: CUDNN_STATUS_NOT_SUPPORTED (Triggered internally at C:\\actions-runner\\_work\\pytorch\\pytorch\\builder\\windows\\pytorch\\aten\\src\\ATen\\native\\cudnn\\Conv_v8.cpp:919.)\n",
      "  return F.conv2d(input, weight, bias, self.stride,\n",
      "[Train]: 100%|█████████████████████████| 352/352 [00:12<00:00, 27.54it/s, train_loss=1.33]\n",
      "[Valid]: 100%|██████████████████████| 40/40 [00:01<00:00, 34.12it/s, val_acc=57.3, val_loss=0.00981]\n"
     ]
    },
    {
     "name": "stdout",
     "output_type": "stream",
     "text": [
      "=======================================================================================================================================\n",
      "2024-05-21 22:08:26\n",
      "Epoch 2 / 30\n"
     ]
    },
    {
     "name": "stderr",
     "output_type": "stream",
     "text": [
      "[Train]: 100%|████████████████████████| 352/352 [00:13<00:00, 27.02it/s, train_loss=0.934]\n",
      "[Valid]: 100%|██████████████████████| 40/40 [00:01<00:00, 34.79it/s, val_acc=67.6, val_loss=0.00729]\n"
     ]
    },
    {
     "name": "stdout",
     "output_type": "stream",
     "text": [
      "=======================================================================================================================================\n",
      "2024-05-21 22:08:40\n",
      "Epoch 3 / 30\n"
     ]
    },
    {
     "name": "stderr",
     "output_type": "stream",
     "text": [
      "[Train]: 100%|████████████████████████| 352/352 [00:13<00:00, 26.84it/s, train_loss=0.747]\n",
      "[Valid]: 100%|██████████████████████| 40/40 [00:01<00:00, 36.15it/s, val_acc=68.4, val_loss=0.00727]\n"
     ]
    },
    {
     "name": "stdout",
     "output_type": "stream",
     "text": [
      "=======================================================================================================================================\n",
      "2024-05-21 22:08:54\n",
      "Epoch 4 / 30\n"
     ]
    },
    {
     "name": "stderr",
     "output_type": "stream",
     "text": [
      "[Train]: 100%|█████████████████████████| 352/352 [00:13<00:00, 26.56it/s, train_loss=0.61]\n",
      "[Valid]: 100%|██████████████████████| 40/40 [00:01<00:00, 36.34it/s, val_acc=72.3, val_loss=0.00664]\n"
     ]
    },
    {
     "name": "stdout",
     "output_type": "stream",
     "text": [
      "=======================================================================================================================================\n",
      "2024-05-21 22:09:08\n",
      "Epoch 5 / 30\n"
     ]
    },
    {
     "name": "stderr",
     "output_type": "stream",
     "text": [
      "[Train]: 100%|████████████████████████| 352/352 [00:13<00:00, 26.51it/s, train_loss=0.499]\n",
      "[Valid]: 100%|███████████████████████| 40/40 [00:01<00:00, 33.34it/s, val_acc=72.3, val_loss=0.0067]\n"
     ]
    },
    {
     "name": "stdout",
     "output_type": "stream",
     "text": [
      "=======================================================================================================================================\n",
      "2024-05-21 22:09:23\n",
      "Epoch 6 / 30\n"
     ]
    },
    {
     "name": "stderr",
     "output_type": "stream",
     "text": [
      "[Train]: 100%|████████████████████████| 352/352 [00:13<00:00, 26.29it/s, train_loss=0.396]\n",
      "[Valid]: 100%|██████████████████████| 40/40 [00:01<00:00, 35.49it/s, val_acc=73.3, val_loss=0.00659]\n"
     ]
    },
    {
     "name": "stdout",
     "output_type": "stream",
     "text": [
      "=======================================================================================================================================\n",
      "2024-05-21 22:09:37\n",
      "Epoch 7 / 30\n"
     ]
    },
    {
     "name": "stderr",
     "output_type": "stream",
     "text": [
      "[Train]: 100%|████████████████████████| 352/352 [00:13<00:00, 25.98it/s, train_loss=0.321]\n",
      "[Valid]: 100%|██████████████████████| 40/40 [00:01<00:00, 32.80it/s, val_acc=73.3, val_loss=0.00703]\n"
     ]
    },
    {
     "name": "stdout",
     "output_type": "stream",
     "text": [
      "=======================================================================================================================================\n",
      "2024-05-21 22:09:52\n",
      "Epoch 8 / 30\n"
     ]
    },
    {
     "name": "stderr",
     "output_type": "stream",
     "text": [
      "[Train]: 100%|█████████████████████████| 352/352 [00:13<00:00, 25.43it/s, train_loss=0.24]\n",
      "[Valid]: 100%|██████████████████████| 40/40 [00:01<00:00, 35.20it/s, val_acc=74.3, val_loss=0.00729]\n"
     ]
    },
    {
     "name": "stdout",
     "output_type": "stream",
     "text": [
      "=======================================================================================================================================\n",
      "2024-05-21 22:10:07\n",
      "Epoch 9 / 30\n"
     ]
    },
    {
     "name": "stderr",
     "output_type": "stream",
     "text": [
      "[Train]: 100%|█████████████████████████| 352/352 [00:13<00:00, 25.85it/s, train_loss=0.19]\n",
      "[Valid]: 100%|██████████████████████| 40/40 [00:01<00:00, 31.23it/s, val_acc=73.5, val_loss=0.00811]\n"
     ]
    },
    {
     "name": "stdout",
     "output_type": "stream",
     "text": [
      "=======================================================================================================================================\n",
      "2024-05-21 22:10:22\n",
      "Epoch 10 / 30\n"
     ]
    },
    {
     "name": "stderr",
     "output_type": "stream",
     "text": [
      "[Train]: 100%|████████████████████████| 352/352 [00:13<00:00, 25.91it/s, train_loss=0.153]\n",
      "[Valid]: 100%|██████████████████████| 40/40 [00:01<00:00, 33.85it/s, val_acc=73.1, val_loss=0.00908]\n"
     ]
    },
    {
     "name": "stdout",
     "output_type": "stream",
     "text": [
      "=======================================================================================================================================\n",
      "2024-05-21 22:10:37\n",
      "Epoch 11 / 30\n"
     ]
    },
    {
     "name": "stderr",
     "output_type": "stream",
     "text": [
      "[Train]: 100%|████████████████████████| 352/352 [00:13<00:00, 26.34it/s, train_loss=0.131]\n",
      "[Valid]: 100%|██████████████████████| 40/40 [00:01<00:00, 34.16it/s, val_acc=74.2, val_loss=0.00899]\n"
     ]
    },
    {
     "name": "stdout",
     "output_type": "stream",
     "text": [
      "=======================================================================================================================================\n",
      "2024-05-21 22:10:51\n",
      "Epoch 12 / 30\n"
     ]
    },
    {
     "name": "stderr",
     "output_type": "stream",
     "text": [
      "[Train]: 100%|███████████████████████| 352/352 [00:13<00:00, 25.68it/s, train_loss=0.0946]\n",
      "[Valid]: 100%|██████████████████████| 40/40 [00:01<00:00, 32.66it/s, val_acc=74.4, val_loss=0.00937]\n"
     ]
    },
    {
     "name": "stdout",
     "output_type": "stream",
     "text": [
      "=======================================================================================================================================\n",
      "2024-05-21 22:11:06\n",
      "Epoch 13 / 30\n"
     ]
    },
    {
     "name": "stderr",
     "output_type": "stream",
     "text": [
      "[Train]: 100%|███████████████████████| 352/352 [00:13<00:00, 26.12it/s, train_loss=0.0831]\n",
      "[Valid]: 100%|██████████████████████| 40/40 [00:01<00:00, 34.32it/s, val_acc=74.6, val_loss=0.00952]\n"
     ]
    },
    {
     "name": "stdout",
     "output_type": "stream",
     "text": [
      "=======================================================================================================================================\n",
      "2024-05-21 22:11:21\n",
      "Epoch 14 / 30\n"
     ]
    },
    {
     "name": "stderr",
     "output_type": "stream",
     "text": [
      "[Train]: 100%|███████████████████████| 352/352 [00:13<00:00, 25.90it/s, train_loss=0.0672]\n",
      "[Valid]: 100%|███████████████████████| 40/40 [00:01<00:00, 34.48it/s, val_acc=74.8, val_loss=0.0102]\n"
     ]
    },
    {
     "name": "stdout",
     "output_type": "stream",
     "text": [
      "=======================================================================================================================================\n",
      "2024-05-21 22:11:36\n",
      "Epoch 15 / 30\n"
     ]
    },
    {
     "name": "stderr",
     "output_type": "stream",
     "text": [
      "[Train]: 100%|███████████████████████| 352/352 [00:13<00:00, 26.05it/s, train_loss=0.0563]\n",
      "[Valid]: 100%|█████████████████████████| 40/40 [00:01<00:00, 34.81it/s, val_acc=74, val_loss=0.0103]\n"
     ]
    },
    {
     "name": "stdout",
     "output_type": "stream",
     "text": [
      "=======================================================================================================================================\n",
      "2024-05-21 22:11:50\n",
      "Epoch 16 / 30\n"
     ]
    },
    {
     "name": "stderr",
     "output_type": "stream",
     "text": [
      "[Train]: 100%|███████████████████████| 352/352 [00:13<00:00, 26.39it/s, train_loss=0.0551]\n",
      "[Valid]: 100%|█████████████████████████| 40/40 [00:01<00:00, 34.75it/s, val_acc=75.5, val_loss=0.01]\n"
     ]
    },
    {
     "name": "stdout",
     "output_type": "stream",
     "text": [
      "=======================================================================================================================================\n",
      "2024-05-21 22:12:05\n",
      "Epoch 17 / 30\n"
     ]
    },
    {
     "name": "stderr",
     "output_type": "stream",
     "text": [
      "[Train]: 100%|███████████████████████| 352/352 [00:13<00:00, 26.25it/s, train_loss=0.0346]\n",
      "[Valid]: 100%|███████████████████████| 40/40 [00:01<00:00, 33.82it/s, val_acc=75.7, val_loss=0.0104]\n"
     ]
    },
    {
     "name": "stdout",
     "output_type": "stream",
     "text": [
      "=======================================================================================================================================\n",
      "2024-05-21 22:12:19\n",
      "Epoch 18 / 30\n"
     ]
    },
    {
     "name": "stderr",
     "output_type": "stream",
     "text": [
      "[Train]: 100%|███████████████████████| 352/352 [00:13<00:00, 26.02it/s, train_loss=0.0312]\n",
      "[Valid]: 100%|███████████████████████| 40/40 [00:01<00:00, 33.57it/s, val_acc=75.3, val_loss=0.0109]\n"
     ]
    },
    {
     "name": "stdout",
     "output_type": "stream",
     "text": [
      "=======================================================================================================================================\n",
      "2024-05-21 22:12:34\n",
      "Epoch 19 / 30\n"
     ]
    },
    {
     "name": "stderr",
     "output_type": "stream",
     "text": [
      "[Train]: 100%|███████████████████████| 352/352 [00:13<00:00, 26.35it/s, train_loss=0.0349]\n",
      "[Valid]: 100%|█████████████████████████| 40/40 [00:01<00:00, 34.25it/s, val_acc=76, val_loss=0.0103]\n"
     ]
    },
    {
     "name": "stdout",
     "output_type": "stream",
     "text": [
      "=======================================================================================================================================\n",
      "2024-05-21 22:12:49\n",
      "Epoch 20 / 30\n"
     ]
    },
    {
     "name": "stderr",
     "output_type": "stream",
     "text": [
      "[Train]: 100%|███████████████████████| 352/352 [00:13<00:00, 26.30it/s, train_loss=0.0232]\n",
      "[Valid]: 100%|█████████████████████████| 40/40 [00:01<00:00, 33.94it/s, val_acc=76, val_loss=0.0108]\n"
     ]
    },
    {
     "name": "stdout",
     "output_type": "stream",
     "text": [
      "=======================================================================================================================================\n",
      "2024-05-21 22:13:03\n",
      "Epoch 21 / 30\n"
     ]
    },
    {
     "name": "stderr",
     "output_type": "stream",
     "text": [
      "[Train]: 100%|███████████████████████| 352/352 [00:13<00:00, 25.62it/s, train_loss=0.0181]\n",
      "[Valid]: 100%|████████████████████████| 40/40 [00:01<00:00, 33.37it/s, val_acc=75.4, val_loss=0.011]\n"
     ]
    },
    {
     "name": "stdout",
     "output_type": "stream",
     "text": [
      "=======================================================================================================================================\n",
      "2024-05-21 22:13:18\n",
      "Epoch 22 / 30\n"
     ]
    },
    {
     "name": "stderr",
     "output_type": "stream",
     "text": [
      "[Train]: 100%|███████████████████████| 352/352 [00:13<00:00, 26.09it/s, train_loss=0.0206]\n",
      "[Valid]: 100%|███████████████████████| 40/40 [00:01<00:00, 33.28it/s, val_acc=75.6, val_loss=0.0113]\n"
     ]
    },
    {
     "name": "stdout",
     "output_type": "stream",
     "text": [
      "=======================================================================================================================================\n",
      "2024-05-21 22:13:33\n",
      "Epoch 23 / 30\n"
     ]
    },
    {
     "name": "stderr",
     "output_type": "stream",
     "text": [
      "[Train]: 100%|███████████████████████| 352/352 [00:13<00:00, 26.34it/s, train_loss=0.0231]\n",
      "[Valid]: 100%|███████████████████████| 40/40 [00:01<00:00, 32.80it/s, val_acc=75.8, val_loss=0.0119]\n"
     ]
    },
    {
     "name": "stdout",
     "output_type": "stream",
     "text": [
      "=======================================================================================================================================\n",
      "2024-05-21 22:13:48\n",
      "Epoch 24 / 30\n"
     ]
    },
    {
     "name": "stderr",
     "output_type": "stream",
     "text": [
      "[Train]: 100%|████████████████████████| 352/352 [00:13<00:00, 25.97it/s, train_loss=0.025]\n",
      "[Valid]: 100%|███████████████████████| 40/40 [00:01<00:00, 36.43it/s, val_acc=76.1, val_loss=0.0112]\n"
     ]
    },
    {
     "name": "stdout",
     "output_type": "stream",
     "text": [
      "=======================================================================================================================================\n",
      "2024-05-21 22:14:02\n",
      "Epoch 25 / 30\n"
     ]
    },
    {
     "name": "stderr",
     "output_type": "stream",
     "text": [
      "[Train]: 100%|███████████████████████| 352/352 [00:13<00:00, 26.55it/s, train_loss=0.0167]\n",
      "[Valid]: 100%|███████████████████████| 40/40 [00:01<00:00, 36.12it/s, val_acc=76.7, val_loss=0.0113]\n"
     ]
    },
    {
     "name": "stdout",
     "output_type": "stream",
     "text": [
      "=======================================================================================================================================\n",
      "2024-05-21 22:14:17\n",
      "Epoch 26 / 30\n"
     ]
    },
    {
     "name": "stderr",
     "output_type": "stream",
     "text": [
      "[Train]: 100%|███████████████████████| 352/352 [00:13<00:00, 26.16it/s, train_loss=0.0111]\n",
      "[Valid]: 100%|███████████████████████| 40/40 [00:01<00:00, 35.27it/s, val_acc=76.7, val_loss=0.0112]\n"
     ]
    },
    {
     "name": "stdout",
     "output_type": "stream",
     "text": [
      "=======================================================================================================================================\n",
      "2024-05-21 22:14:31\n",
      "Epoch 27 / 30\n"
     ]
    },
    {
     "name": "stderr",
     "output_type": "stream",
     "text": [
      "[Train]: 100%|██████████████████████| 352/352 [00:13<00:00, 26.15it/s, train_loss=0.00562]\n",
      "[Valid]: 100%|███████████████████████| 40/40 [00:01<00:00, 32.93it/s, val_acc=76.6, val_loss=0.0113]\n"
     ]
    },
    {
     "name": "stdout",
     "output_type": "stream",
     "text": [
      "=======================================================================================================================================\n",
      "2024-05-21 22:14:46\n",
      "Epoch 28 / 30\n"
     ]
    },
    {
     "name": "stderr",
     "output_type": "stream",
     "text": [
      "[Train]: 100%|██████████████████████| 352/352 [00:13<00:00, 25.90it/s, train_loss=0.00244]\n",
      "[Valid]: 100%|███████████████████████| 40/40 [00:01<00:00, 35.12it/s, val_acc=77.6, val_loss=0.0108]\n"
     ]
    },
    {
     "name": "stdout",
     "output_type": "stream",
     "text": [
      "=======================================================================================================================================\n",
      "2024-05-21 22:15:01\n",
      "Epoch 29 / 30\n"
     ]
    },
    {
     "name": "stderr",
     "output_type": "stream",
     "text": [
      "[Train]: 100%|█████████████████████| 352/352 [00:13<00:00, 26.24it/s, train_loss=0.000685]\n",
      "[Valid]: 100%|█████████████████████████| 40/40 [00:01<00:00, 35.50it/s, val_acc=78, val_loss=0.0109]\n"
     ]
    },
    {
     "name": "stdout",
     "output_type": "stream",
     "text": [
      "=======================================================================================================================================\n",
      "2024-05-21 22:15:15\n",
      "Epoch 30 / 30\n"
     ]
    },
    {
     "name": "stderr",
     "output_type": "stream",
     "text": [
      "[Train]: 100%|█████████████████████| 352/352 [00:13<00:00, 25.91it/s, train_loss=0.000366]\n",
      "[Valid]: 100%|███████████████████████| 40/40 [00:01<00:00, 37.55it/s, val_acc=78.2, val_loss=0.0109]\n"
     ]
    },
    {
     "data": {
      "image/png": "[encoded data removed]",
      "text/plain": [
       "<Figure size 1000x500 with 1 Axes>"
      ]
     },
     "metadata": {},
     "output_type": "display_data"
    },
    {
     "name": "stderr",
     "output_type": "stream",
     "text": [
      "Testing [Test]: 100%|█████████████████████████████████| 79/79 [00:02<00:00, 31.98it/s, test_acc=77.7, test_loss=0.0111]\n"
     ]
    }
   ],
   "source": [
    "model = ResNet(input_channels=3, output_size=10)\n",
    "trainer = CIFAR10Trainer(model, loss='CE', lr=0.01, optimizer='SGD', batch_size=128, epoch=30, model_type='classification')\n",
    "trainer.train()\n",
    "trainer.test()"
   ]
  },
  {
   "cell_type": "code",
   "execution_count": 4,
   "id": "edb573b4",
   "metadata": {
    "scrolled": true
   },
   "outputs": [
    {
     "name": "stdout",
     "output_type": "stream",
     "text": [
      "Files already downloaded and verified\n",
      "Files already downloaded and verified\n",
      "=======================================================================================================================================\n",
      "2024-05-21 22:15:35\n",
      "Epoch 1 / 30\n"
     ]
    },
    {
     "name": "stderr",
     "output_type": "stream",
     "text": [
      "[Train]: 100%|█████████████████████████| 352/352 [00:13<00:00, 25.97it/s, train_loss=3.49]\n",
      "[Valid]: 100%|███████████████████████| 40/40 [00:01<00:00, 33.29it/s, val_acc=23.6, val_loss=0.0249]\n"
     ]
    },
    {
     "name": "stdout",
     "output_type": "stream",
     "text": [
      "=======================================================================================================================================\n",
      "2024-05-21 22:15:49\n",
      "Epoch 2 / 30\n"
     ]
    },
    {
     "name": "stderr",
     "output_type": "stream",
     "text": [
      "[Train]: 100%|██████████████████████████| 352/352 [00:13<00:00, 26.37it/s, train_loss=2.7]\n",
      "[Valid]: 100%|███████████████████████| 40/40 [00:01<00:00, 33.80it/s, val_acc=30.8, val_loss=0.0216]\n"
     ]
    },
    {
     "name": "stdout",
     "output_type": "stream",
     "text": [
      "=======================================================================================================================================\n",
      "2024-05-21 22:16:04\n",
      "Epoch 3 / 30\n"
     ]
    },
    {
     "name": "stderr",
     "output_type": "stream",
     "text": [
      "[Train]: 100%|█████████████████████████| 352/352 [00:13<00:00, 26.16it/s, train_loss=2.28]\n",
      "[Valid]: 100%|███████████████████████| 40/40 [00:01<00:00, 35.27it/s, val_acc=36.7, val_loss=0.0194]\n"
     ]
    },
    {
     "name": "stdout",
     "output_type": "stream",
     "text": [
      "=======================================================================================================================================\n",
      "2024-05-21 22:16:19\n",
      "Epoch 4 / 30\n"
     ]
    },
    {
     "name": "stderr",
     "output_type": "stream",
     "text": [
      "[Train]: 100%|█████████████████████████| 352/352 [00:13<00:00, 26.44it/s, train_loss=1.97]\n",
      "[Valid]: 100%|█████████████████████████| 40/40 [00:01<00:00, 33.61it/s, val_acc=38, val_loss=0.0193]\n"
     ]
    },
    {
     "name": "stdout",
     "output_type": "stream",
     "text": [
      "=======================================================================================================================================\n",
      "2024-05-21 22:16:33\n",
      "Epoch 5 / 30\n"
     ]
    },
    {
     "name": "stderr",
     "output_type": "stream",
     "text": [
      "[Train]: 100%|█████████████████████████| 352/352 [00:13<00:00, 26.22it/s, train_loss=1.69]\n",
      "[Valid]: 100%|███████████████████████| 40/40 [00:01<00:00, 36.49it/s, val_acc=40.3, val_loss=0.0184]\n"
     ]
    },
    {
     "name": "stdout",
     "output_type": "stream",
     "text": [
      "=======================================================================================================================================\n",
      "2024-05-21 22:16:48\n",
      "Epoch 6 / 30\n"
     ]
    },
    {
     "name": "stderr",
     "output_type": "stream",
     "text": [
      "[Train]: 100%|█████████████████████████| 352/352 [00:13<00:00, 26.05it/s, train_loss=1.43]\n",
      "[Valid]: 100%|████████████████████████| 40/40 [00:01<00:00, 35.41it/s, val_acc=42.9, val_loss=0.018]\n"
     ]
    },
    {
     "name": "stdout",
     "output_type": "stream",
     "text": [
      "=======================================================================================================================================\n",
      "2024-05-21 22:17:02\n",
      "Epoch 7 / 30\n"
     ]
    },
    {
     "name": "stderr",
     "output_type": "stream",
     "text": [
      "[Train]: 100%|█████████████████████████| 352/352 [00:13<00:00, 25.91it/s, train_loss=1.17]\n",
      "[Valid]: 100%|███████████████████████| 40/40 [00:01<00:00, 34.44it/s, val_acc=41.2, val_loss=0.0195]\n"
     ]
    },
    {
     "name": "stdout",
     "output_type": "stream",
     "text": [
      "=======================================================================================================================================\n",
      "2024-05-21 22:17:17\n",
      "Epoch 8 / 30\n"
     ]
    },
    {
     "name": "stderr",
     "output_type": "stream",
     "text": [
      "[Train]: 100%|████████████████████████| 352/352 [00:13<00:00, 26.09it/s, train_loss=0.924]\n",
      "[Valid]: 100%|███████████████████████| 40/40 [00:01<00:00, 34.74it/s, val_acc=42.8, val_loss=0.0191]\n"
     ]
    },
    {
     "name": "stdout",
     "output_type": "stream",
     "text": [
      "=======================================================================================================================================\n",
      "2024-05-21 22:17:32\n",
      "Epoch 9 / 30\n"
     ]
    },
    {
     "name": "stderr",
     "output_type": "stream",
     "text": [
      "[Train]: 100%|████████████████████████| 352/352 [00:13<00:00, 26.12it/s, train_loss=0.679]\n",
      "[Valid]: 100%|███████████████████████| 40/40 [00:01<00:00, 36.12it/s, val_acc=42.8, val_loss=0.0206]\n"
     ]
    },
    {
     "name": "stdout",
     "output_type": "stream",
     "text": [
      "=======================================================================================================================================\n",
      "2024-05-21 22:17:46\n",
      "Epoch 10 / 30\n"
     ]
    },
    {
     "name": "stderr",
     "output_type": "stream",
     "text": [
      "[Train]: 100%|████████████████████████| 352/352 [00:13<00:00, 26.50it/s, train_loss=0.468]\n",
      "[Valid]: 100%|███████████████████████| 40/40 [00:01<00:00, 35.92it/s, val_acc=42.4, val_loss=0.0218]\n"
     ]
    },
    {
     "name": "stdout",
     "output_type": "stream",
     "text": [
      "=======================================================================================================================================\n",
      "2024-05-21 22:18:01\n",
      "Epoch 11 / 30\n"
     ]
    },
    {
     "name": "stderr",
     "output_type": "stream",
     "text": [
      "[Train]: 100%|████████████████████████| 352/352 [00:13<00:00, 26.18it/s, train_loss=0.286]\n",
      "[Valid]: 100%|███████████████████████| 40/40 [00:01<00:00, 36.22it/s, val_acc=42.4, val_loss=0.0221]\n"
     ]
    },
    {
     "name": "stdout",
     "output_type": "stream",
     "text": [
      "=======================================================================================================================================\n",
      "2024-05-21 22:18:15\n",
      "Epoch 12 / 30\n"
     ]
    },
    {
     "name": "stderr",
     "output_type": "stream",
     "text": [
      "[Train]: 100%|████████████████████████| 352/352 [00:13<00:00, 25.97it/s, train_loss=0.163]\n",
      "[Valid]: 100%|███████████████████████| 40/40 [00:01<00:00, 33.81it/s, val_acc=44.1, val_loss=0.0222]\n"
     ]
    },
    {
     "name": "stdout",
     "output_type": "stream",
     "text": [
      "=======================================================================================================================================\n",
      "2024-05-21 22:18:30\n",
      "Epoch 13 / 30\n"
     ]
    },
    {
     "name": "stderr",
     "output_type": "stream",
     "text": [
      "[Train]: 100%|███████████████████████| 352/352 [00:13<00:00, 26.01it/s, train_loss=0.0798]\n",
      "[Valid]: 100%|███████████████████████| 40/40 [00:01<00:00, 34.56it/s, val_acc=45.2, val_loss=0.0221]\n"
     ]
    },
    {
     "name": "stdout",
     "output_type": "stream",
     "text": [
      "=======================================================================================================================================\n",
      "2024-05-21 22:18:45\n",
      "Epoch 14 / 30\n"
     ]
    },
    {
     "name": "stderr",
     "output_type": "stream",
     "text": [
      "[Train]: 100%|████████████████████████| 352/352 [00:13<00:00, 26.20it/s, train_loss=0.032]\n",
      "[Valid]: 100%|███████████████████████| 40/40 [00:01<00:00, 33.75it/s, val_acc=46.6, val_loss=0.0222]\n"
     ]
    },
    {
     "name": "stdout",
     "output_type": "stream",
     "text": [
      "=======================================================================================================================================\n",
      "2024-05-21 22:18:59\n",
      "Epoch 15 / 30\n"
     ]
    },
    {
     "name": "stderr",
     "output_type": "stream",
     "text": [
      "[Train]: 100%|████████████████████████| 352/352 [00:13<00:00, 26.10it/s, train_loss=0.014]\n",
      "[Valid]: 100%|███████████████████████| 40/40 [00:01<00:00, 34.40it/s, val_acc=46.7, val_loss=0.0222]\n"
     ]
    },
    {
     "name": "stdout",
     "output_type": "stream",
     "text": [
      "=======================================================================================================================================\n",
      "2024-05-21 22:19:14\n",
      "Epoch 16 / 30\n"
     ]
    },
    {
     "name": "stderr",
     "output_type": "stream",
     "text": [
      "[Train]: 100%|██████████████████████| 352/352 [00:13<00:00, 25.81it/s, train_loss=0.00876]\n",
      "[Valid]: 100%|███████████████████████| 40/40 [00:01<00:00, 32.92it/s, val_acc=46.6, val_loss=0.0224]\n"
     ]
    },
    {
     "name": "stdout",
     "output_type": "stream",
     "text": [
      "=======================================================================================================================================\n",
      "2024-05-21 22:19:29\n",
      "Epoch 17 / 30\n"
     ]
    },
    {
     "name": "stderr",
     "output_type": "stream",
     "text": [
      "[Train]: 100%|██████████████████████| 352/352 [00:13<00:00, 25.66it/s, train_loss=0.00767]\n",
      "[Valid]: 100%|███████████████████████| 40/40 [00:01<00:00, 34.71it/s, val_acc=47.3, val_loss=0.0224]\n"
     ]
    },
    {
     "name": "stdout",
     "output_type": "stream",
     "text": [
      "=======================================================================================================================================\n",
      "2024-05-21 22:19:44\n",
      "Epoch 18 / 30\n"
     ]
    },
    {
     "name": "stderr",
     "output_type": "stream",
     "text": [
      "[Train]: 100%|██████████████████████| 352/352 [00:13<00:00, 25.62it/s, train_loss=0.00595]\n",
      "[Valid]: 100%|█████████████████████████| 40/40 [00:01<00:00, 33.10it/s, val_acc=47, val_loss=0.0226]\n"
     ]
    },
    {
     "name": "stdout",
     "output_type": "stream",
     "text": [
      "=======================================================================================================================================\n",
      "2024-05-21 22:19:59\n",
      "Epoch 19 / 30\n"
     ]
    },
    {
     "name": "stderr",
     "output_type": "stream",
     "text": [
      "[Train]: 100%|██████████████████████| 352/352 [00:13<00:00, 25.41it/s, train_loss=0.00496]\n",
      "[Valid]: 100%|███████████████████████| 40/40 [00:01<00:00, 34.42it/s, val_acc=46.9, val_loss=0.0226]\n"
     ]
    },
    {
     "name": "stdout",
     "output_type": "stream",
     "text": [
      "=======================================================================================================================================\n",
      "2024-05-21 22:20:14\n",
      "Epoch 20 / 30\n"
     ]
    },
    {
     "name": "stderr",
     "output_type": "stream",
     "text": [
      "[Train]: 100%|███████████████████████| 352/352 [00:13<00:00, 25.80it/s, train_loss=0.0049]\n",
      "[Valid]: 100%|███████████████████████| 40/40 [00:01<00:00, 33.76it/s, val_acc=46.9, val_loss=0.0227]\n"
     ]
    },
    {
     "name": "stdout",
     "output_type": "stream",
     "text": [
      "=======================================================================================================================================\n",
      "2024-05-21 22:20:29\n",
      "Epoch 21 / 30\n"
     ]
    },
    {
     "name": "stderr",
     "output_type": "stream",
     "text": [
      "[Train]: 100%|██████████████████████| 352/352 [00:13<00:00, 26.20it/s, train_loss=0.00407]\n",
      "[Valid]: 100%|███████████████████████| 40/40 [00:01<00:00, 34.06it/s, val_acc=47.1, val_loss=0.0228]\n"
     ]
    },
    {
     "name": "stdout",
     "output_type": "stream",
     "text": [
      "=======================================================================================================================================\n",
      "2024-05-21 22:20:43\n",
      "Epoch 22 / 30\n"
     ]
    },
    {
     "name": "stderr",
     "output_type": "stream",
     "text": [
      "[Train]: 100%|██████████████████████| 352/352 [00:13<00:00, 25.27it/s, train_loss=0.00418]\n",
      "[Valid]: 100%|████████████████████████| 40/40 [00:01<00:00, 33.22it/s, val_acc=46.6, val_loss=0.023]\n"
     ]
    },
    {
     "name": "stdout",
     "output_type": "stream",
     "text": [
      "=======================================================================================================================================\n",
      "2024-05-21 22:20:58\n",
      "Epoch 23 / 30\n"
     ]
    },
    {
     "name": "stderr",
     "output_type": "stream",
     "text": [
      "[Train]: 100%|██████████████████████| 352/352 [00:13<00:00, 25.63it/s, train_loss=0.00376]\n",
      "[Valid]: 100%|███████████████████████| 40/40 [00:01<00:00, 32.72it/s, val_acc=46.9, val_loss=0.0231]\n"
     ]
    },
    {
     "name": "stdout",
     "output_type": "stream",
     "text": [
      "=======================================================================================================================================\n",
      "2024-05-21 22:21:13\n",
      "Epoch 24 / 30\n"
     ]
    },
    {
     "name": "stderr",
     "output_type": "stream",
     "text": [
      "[Train]: 100%|██████████████████████| 352/352 [00:13<00:00, 26.00it/s, train_loss=0.00312]\n",
      "[Valid]: 100%|███████████████████████| 40/40 [00:01<00:00, 33.20it/s, val_acc=46.7, val_loss=0.0231]\n"
     ]
    },
    {
     "name": "stdout",
     "output_type": "stream",
     "text": [
      "=======================================================================================================================================\n",
      "2024-05-21 22:21:28\n",
      "Epoch 25 / 30\n"
     ]
    },
    {
     "name": "stderr",
     "output_type": "stream",
     "text": [
      "[Train]: 100%|██████████████████████| 352/352 [00:13<00:00, 26.04it/s, train_loss=0.00334]\n",
      "[Valid]: 100%|███████████████████████| 40/40 [00:01<00:00, 33.87it/s, val_acc=47.2, val_loss=0.0231]\n"
     ]
    },
    {
     "name": "stdout",
     "output_type": "stream",
     "text": [
      "=======================================================================================================================================\n",
      "2024-05-21 22:21:43\n",
      "Epoch 26 / 30\n"
     ]
    },
    {
     "name": "stderr",
     "output_type": "stream",
     "text": [
      "[Train]: 100%|██████████████████████| 352/352 [00:13<00:00, 26.24it/s, train_loss=0.00281]\n",
      "[Valid]: 100%|███████████████████████| 40/40 [00:01<00:00, 35.05it/s, val_acc=46.6, val_loss=0.0233]\n"
     ]
    },
    {
     "name": "stdout",
     "output_type": "stream",
     "text": [
      "=======================================================================================================================================\n",
      "2024-05-21 22:21:57\n",
      "Epoch 27 / 30\n"
     ]
    },
    {
     "name": "stderr",
     "output_type": "stream",
     "text": [
      "[Train]: 100%|██████████████████████| 352/352 [00:13<00:00, 26.32it/s, train_loss=0.00331]\n",
      "[Valid]: 100%|███████████████████████| 40/40 [00:01<00:00, 34.77it/s, val_acc=47.3, val_loss=0.0233]\n"
     ]
    },
    {
     "name": "stdout",
     "output_type": "stream",
     "text": [
      "=======================================================================================================================================\n",
      "2024-05-21 22:22:12\n",
      "Epoch 28 / 30\n"
     ]
    },
    {
     "name": "stderr",
     "output_type": "stream",
     "text": [
      "[Train]: 100%|██████████████████████| 352/352 [00:13<00:00, 26.50it/s, train_loss=0.00293]\n",
      "[Valid]: 100%|███████████████████████| 40/40 [00:01<00:00, 34.72it/s, val_acc=47.1, val_loss=0.0233]\n"
     ]
    },
    {
     "name": "stdout",
     "output_type": "stream",
     "text": [
      "=======================================================================================================================================\n",
      "2024-05-21 22:22:26\n",
      "Epoch 29 / 30\n"
     ]
    },
    {
     "name": "stderr",
     "output_type": "stream",
     "text": [
      "[Train]: 100%|██████████████████████| 352/352 [00:13<00:00, 26.63it/s, train_loss=0.00297]\n",
      "[Valid]: 100%|███████████████████████| 40/40 [00:01<00:00, 34.58it/s, val_acc=46.9, val_loss=0.0234]\n"
     ]
    },
    {
     "name": "stdout",
     "output_type": "stream",
     "text": [
      "=======================================================================================================================================\n",
      "2024-05-21 22:22:41\n",
      "Epoch 30 / 30\n"
     ]
    },
    {
     "name": "stderr",
     "output_type": "stream",
     "text": [
      "[Train]: 100%|██████████████████████| 352/352 [00:13<00:00, 26.46it/s, train_loss=0.00257]\n",
      "[Valid]: 100%|███████████████████████| 40/40 [00:01<00:00, 32.16it/s, val_acc=47.2, val_loss=0.0236]\n"
     ]
    },
    {
     "data": {
      "image/png": "[encoded data removed]",
      "text/plain": [
       "<Figure size 1000x500 with 1 Axes>"
      ]
     },
     "metadata": {},
     "output_type": "display_data"
    },
    {
     "name": "stderr",
     "output_type": "stream",
     "text": [
      "Testing [Test]: 100%|█████████████████████████████████| 79/79 [00:02<00:00, 32.43it/s, test_acc=48.4, test_loss=0.0232]\n"
     ]
    }
   ],
   "source": [
    "model_100 = ResNet(input_channels=3, output_size=100)\n",
    "trainer_100 = CIFAR100Trainer(model_100, loss='CE', lr=0.01, optimizer='SGD', batch_size=128, epoch=30, model_type='classification')\n",
    "trainer_100.train()\n",
    "trainer_100.test()"
   ]
  }
 ],
 "metadata": {
  "kernelspec": {
   "display_name": "bdl",
   "language": "python",
   "name": "bdl"
  },
  "language_info": {
   "codemirror_mode": {
    "name": "ipython",
    "version": 3
   },
   "file_extension": ".py",
   "mimetype": "text/x-python",
   "name": "python",
   "nbconvert_exporter": "python",
   "pygments_lexer": "ipython3",
   "version": "3.9.0"
  }
 },
 "nbformat": 4,
 "nbformat_minor": 5
}
