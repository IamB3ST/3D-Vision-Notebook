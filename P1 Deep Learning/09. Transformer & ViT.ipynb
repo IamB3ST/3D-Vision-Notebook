{
 "cells": [
  {
   "cell_type": "markdown",
   "id": "f91a5865",
   "metadata": {},
   "source": [
    "# Transformer"
   ]
  },
  {
   "cell_type": "markdown",
   "id": "c662d374",
   "metadata": {},
   "source": [
    "<div style=\"display: flex; align-items: center;\">\n",
    "    <img src=\"../imgs/Transformer.jpg\" alt=\"Your Image\" width=\"300\" style=\"margin-right: 20px;\">\n",
    "    <div>\n",
    "        <p>The Transformer model is a revolutionary deep learning architecture that, with its unique self attention mechanism as its core, completely changes the way sequence modeling is done. This mechanism allows the model to consider all elements in parallel when processing sequences, rather than gradually processing them in order like traditional recurrent neural networks, greatly improving computational efficiency. Through multi head attention, Transformer can simultaneously capture sequence information from different perspectives, enhancing the model's ability to learn complex features.</p>\n",
    "        <p>In addition to self attention mechanism, Transformer also introduces positional encoding to solve the problem of element order in sequences, which is crucial for maintaining the temporal sensitivity of sequence data. In each encoder and decoder layer of the model, the output of the self attention layer is transmitted to the feedforward network for further feature extraction and processing. In order to improve the training stability of deep networks, Transformer adopts layer normalization technology and alleviates the problem of gradient vanishing through residual connections, making the training of deep networks more feasible.</p>\n",
    "        <p>These design features of the Transformer model have quickly made it mainstream in the field of natural language processing, especially in tasks such as machine translation, text summarization, and question answering systems. Its flexibility and powerful representation ability have also shown wide application potential in other fields such as speech recognition and image processing, making it one of the most influential models in the current field of deep learning.</p>\n",
    "    </div>\n",
    "</div>"
   ]
  },
  {
   "cell_type": "markdown",
   "id": "b3234342",
   "metadata": {},
   "source": [
    "# Vision Transformer"
   ]
  },
  {
   "cell_type": "markdown",
   "id": "0401b33f",
   "metadata": {},
   "source": [
    "<div style=\"display: flex; align-items: center;\">\n",
    "    <img src=\"../imgs/ViT.jpg\" alt=\"Your Image\" width=\"600\" style=\"margin-right: 20px;\">\n",
    "    <div>\n",
    "        <p>ViT (vision transformer) is a model proposed by Google in 2020 that directly applies transformer to image classification. Many subsequent works have been improved based on ViT. The idea of ViT is simple: directly divide the image into fixed size patches, and then obtain patch embeddings through linear transformation, which is similar to NLP's words and word embeddings. Since the input of the transformer is a sequence of token embeddings, the patch embeddings of the image can be fed into the transformer for feature extraction and classification. As shown in the schematic diagram of the ViT model, in fact, the ViT model only uses the Encoder of the transformer to extract features (the original transformer also has a decoder section, which is used to implement sequence to sequence, such as machine translation).</p>\n",
    "        <p></p>\n",
    "    </div>\n",
    "</div>"
   ]
  },
  {
   "cell_type": "markdown",
   "id": "b12966d1",
   "metadata": {},
   "source": [
    "## ViT"
   ]
  },
  {
   "cell_type": "code",
   "execution_count": 1,
   "id": "806c3f64",
   "metadata": {},
   "outputs": [],
   "source": [
    "import torch\n",
    "import torch.nn as nn\n",
    "import torch.nn.functional as F\n",
    "import math\n",
    "\n",
    "# Patch Embedding\n",
    "class PatchEmbed(nn.Module):\n",
    "    def __init__(self, img_size=224, patch_size=16, in_chans=3, embed_dim=768):\n",
    "        super(PatchEmbed, self).__init__()\n",
    "        self.img_size = img_size\n",
    "        self.patch_size = patch_size\n",
    "        self.grid_size = img_size // patch_size\n",
    "        self.num_patches = self.grid_size * self.grid_size\n",
    "        self.embed_dim = embed_dim\n",
    "        \n",
    "        self.proj = nn.Conv2d(in_chans, embed_dim, kernel_size=patch_size, stride=patch_size)\n",
    "\n",
    "    def forward(self, x):\n",
    "        x = self.proj(x)  # (B, embed_dim, H/P, W/P)\n",
    "        x = x.flatten(2)  # (B, embed_dim, N)\n",
    "        x = x.transpose(1, 2)  # (B, N, embed_dim)\n",
    "        return x\n",
    "\n",
    "# Attention\n",
    "class Attention(nn.Module):\n",
    "    def __init__(self, dim, num_heads=8, qkv_bias=False):\n",
    "        super(Attention, self).__init__()\n",
    "        self.num_heads = num_heads\n",
    "        self.head_dim = dim // num_heads\n",
    "        self.scale = self.head_dim ** -0.5\n",
    "        \n",
    "        self.qkv = nn.Linear(dim, dim * 3, bias=qkv_bias)\n",
    "        self.proj = nn.Linear(dim, dim)\n",
    "\n",
    "    def forward(self, x):\n",
    "        B, N, C = x.shape\n",
    "        qkv = self.qkv(x).reshape(B, N, 3, self.num_heads, self.head_dim)\n",
    "        qkv = qkv.permute(2, 0, 3, 1, 4)  # (3, B, num_heads, N, head_dim)\n",
    "        q, k, v = qkv[0], qkv[1], qkv[2]  # each shape: (B, num_heads, N, head_dim)\n",
    "\n",
    "        attn = (q @ k.transpose(-2, -1)) * self.scale\n",
    "        attn = attn.softmax(dim=-1)\n",
    "\n",
    "        x = (attn @ v).transpose(1, 2).reshape(B, N, C)\n",
    "        x = self.proj(x)\n",
    "        return x\n",
    "\n",
    "# Encoder Block\n",
    "class EncoderBlock(nn.Module):\n",
    "    def __init__(self, dim, num_heads, mlp_ratio=4., qkv_bias=False):\n",
    "        super(EncoderBlock, self).__init__()\n",
    "        self.norm1 = nn.LayerNorm(dim)\n",
    "        self.attn = Attention(dim, num_heads, qkv_bias)\n",
    "        self.norm2 = nn.LayerNorm(dim)\n",
    "        \n",
    "        mlp_hidden_dim = int(dim * mlp_ratio)\n",
    "        self.mlp = nn.Sequential(\n",
    "            nn.Linear(dim, mlp_hidden_dim),\n",
    "            nn.GELU(),\n",
    "            nn.Linear(mlp_hidden_dim, dim),\n",
    "        )\n",
    "\n",
    "    def forward(self, x):\n",
    "        x = x + self.attn(self.norm1(x))\n",
    "        x = x + self.mlp(self.norm2(x))\n",
    "        return x\n",
    "\n",
    "# Encoder\n",
    "class Encoder(nn.Module):\n",
    "    def __init__(self, depth, dim, num_heads, mlp_ratio=4., qkv_bias=False):\n",
    "        super(Encoder, self).__init__()\n",
    "        self.layers = nn.ModuleList([\n",
    "            EncoderBlock(dim, num_heads, mlp_ratio, qkv_bias) for _ in range(depth)\n",
    "        ])\n",
    "        self.norm = nn.LayerNorm(dim)\n",
    "\n",
    "    def forward(self, x):\n",
    "        for layer in self.layers:\n",
    "            x = layer(x)\n",
    "        x = self.norm(x)\n",
    "        return x\n",
    "\n",
    "# Vision Transformer (ViT)\n",
    "class VisionTransformer(nn.Module):\n",
    "    def __init__(self, img_size=224, patch_size=16, in_chans=3, num_classes=1000, \n",
    "                 embed_dim=768, depth=12, num_heads=12, mlp_ratio=4., qkv_bias=False):\n",
    "        super(VisionTransformer, self).__init__()\n",
    "        self.patch_embed = PatchEmbed(img_size, patch_size, in_chans, embed_dim)\n",
    "        num_patches = self.patch_embed.num_patches\n",
    "        self.cls_token = nn.Parameter(torch.zeros(1, 1, embed_dim))\n",
    "        self.pos_embed = nn.Parameter(torch.zeros(1, num_patches + 1, embed_dim))\n",
    "        self.pos_drop = nn.Dropout(0.1)\n",
    "        \n",
    "        self.encoder = Encoder(depth, embed_dim, num_heads, mlp_ratio, qkv_bias)\n",
    "        self.head = nn.Linear(embed_dim, num_classes)\n",
    "\n",
    "        self._init_weights()\n",
    "\n",
    "    def _init_weights(self):\n",
    "        nn.init.trunc_normal_(self.pos_embed, std=.02)\n",
    "        nn.init.trunc_normal_(self.cls_token, std=.02)\n",
    "        self.apply(self._init_layer_weights)\n",
    "\n",
    "    def _init_layer_weights(self, m):\n",
    "        if isinstance(m, nn.Linear):\n",
    "            nn.init.trunc_normal_(m.weight, std=.02)\n",
    "            if isinstance(m, nn.Linear) and m.bias is not None:\n",
    "                nn.init.constant_(m.bias, 0)\n",
    "        elif isinstance(m, nn.LayerNorm):\n",
    "            nn.init.constant_(m.bias, 0)\n",
    "            nn.init.constant_(m.weight, 1.0)\n",
    "\n",
    "    def forward(self, x):\n",
    "        B = x.shape[0]\n",
    "        x = self.patch_embed(x)\n",
    "        cls_tokens = self.cls_token.expand(B, -1, -1)  # (B, 1, embed_dim)\n",
    "        x = torch.cat((cls_tokens, x), dim=1)  # (B, 1 + N, embed_dim)\n",
    "        x = x + self.pos_embed\n",
    "        x = self.pos_drop(x)\n",
    "\n",
    "        x = self.encoder(x)\n",
    "        cls_token_final = x[:, 0]  # Extract the class token\n",
    "        x = self.head(cls_token_final)\n",
    "        return x"
   ]
  },
  {
   "cell_type": "markdown",
   "id": "05b509ed",
   "metadata": {},
   "source": [
    "## Train ViT on CIFAR100"
   ]
  },
  {
   "cell_type": "code",
   "execution_count": 2,
   "id": "b34241e0",
   "metadata": {},
   "outputs": [],
   "source": [
    "import sys\n",
    "import torch.nn as nn\n",
    "sys.path.append('../tools')\n",
    "from CIFAR10 import CIFAR10Trainer\n",
    "from CIFAR100 import CIFAR100Trainer"
   ]
  },
  {
   "cell_type": "markdown",
   "id": "1d843b63",
   "metadata": {},
   "source": [
    "Vision Transformers (ViTs), while highly effective on large-scale datasets, may underperform compared to Convolutional Neural Networks (CNNs) on smaller or simpler datasets without pre-training due to several factors. ViTs require substantial data to leverage their large model capacity, which can lead to overfitting on limited data. Their design focuses on capturing global dependencies, which might be excessive for the local pattern recognition needed in smaller datasets. Additionally, without the feature-rich initialization provided by pre-training, ViTs struggle to learn from scratch, unlike CNNs that are inherently efficient and can quickly adapt to available data due to their architectural advantages in processing spatial hierarchies. So in this chapter, we will only introduce the concept and structure of ViT. For application scenarios, you can explore them yourself, and I will also try to demonstrate them in later chapters."
   ]
  },
  {
   "cell_type": "code",
   "execution_count": 4,
   "id": "7564afd2",
   "metadata": {
    "scrolled": true
   },
   "outputs": [
    {
     "name": "stdout",
     "output_type": "stream",
     "text": [
      "Files already downloaded and verified\n",
      "Files already downloaded and verified\n",
      "=======================================================================================================================================\n",
      "2024-05-22 18:18:33\n",
      "Epoch 1 / 50\n"
     ]
    },
    {
     "name": "stderr",
     "output_type": "stream",
     "text": [
      "[Train]: 100%|█████████████████████████| 352/352 [00:49<00:00,  7.07it/s, train_loss=3.93]\n",
      "[Valid]: 100%|███████████████████████| 40/40 [00:05<00:00,  7.08it/s, val_acc=14.1, val_loss=0.0292]\n"
     ]
    },
    {
     "name": "stdout",
     "output_type": "stream",
     "text": [
      "=======================================================================================================================================\n",
      "2024-05-22 18:19:29\n",
      "Epoch 2 / 50\n"
     ]
    },
    {
     "name": "stderr",
     "output_type": "stream",
     "text": [
      "[Train]: 100%|█████████████████████████| 352/352 [00:57<00:00,  6.14it/s, train_loss=3.44]\n",
      "[Valid]: 100%|███████████████████████| 40/40 [00:08<00:00,  4.89it/s, val_acc=18.8, val_loss=0.0271]\n"
     ]
    },
    {
     "name": "stdout",
     "output_type": "stream",
     "text": [
      "=======================================================================================================================================\n",
      "2024-05-22 18:20:34\n",
      "Epoch 3 / 50\n"
     ]
    },
    {
     "name": "stderr",
     "output_type": "stream",
     "text": [
      "[Train]: 100%|█████████████████████████| 352/352 [01:04<00:00,  5.42it/s, train_loss=3.18]\n",
      "[Valid]: 100%|███████████████████████| 40/40 [00:08<00:00,  4.74it/s, val_acc=21.7, val_loss=0.0257]\n"
     ]
    },
    {
     "name": "stdout",
     "output_type": "stream",
     "text": [
      "=======================================================================================================================================\n",
      "2024-05-22 18:21:48\n",
      "Epoch 4 / 50\n"
     ]
    },
    {
     "name": "stderr",
     "output_type": "stream",
     "text": [
      "[Train]: 100%|█████████████████████████| 352/352 [01:10<00:00,  5.00it/s, train_loss=2.95]\n",
      "[Valid]: 100%|███████████████████████| 40/40 [00:10<00:00,  3.81it/s, val_acc=24.4, val_loss=0.0245]\n"
     ]
    },
    {
     "name": "stdout",
     "output_type": "stream",
     "text": [
      "=======================================================================================================================================\n",
      "2024-05-22 18:23:09\n",
      "Epoch 5 / 50\n"
     ]
    },
    {
     "name": "stderr",
     "output_type": "stream",
     "text": [
      "[Train]: 100%|█████████████████████████| 352/352 [01:13<00:00,  4.81it/s, train_loss=2.77]\n",
      "[Valid]: 100%|█████████████████████████| 40/40 [00:09<00:00,  4.20it/s, val_acc=27, val_loss=0.0236]\n"
     ]
    },
    {
     "name": "stdout",
     "output_type": "stream",
     "text": [
      "=======================================================================================================================================\n",
      "2024-05-22 18:24:31\n",
      "Epoch 6 / 50\n"
     ]
    },
    {
     "name": "stderr",
     "output_type": "stream",
     "text": [
      "[Train]: 100%|██████████████████████████| 352/352 [01:07<00:00,  5.22it/s, train_loss=2.6]\n",
      "[Valid]: 100%|███████████████████████| 40/40 [00:09<00:00,  4.29it/s, val_acc=29.3, val_loss=0.0227]\n"
     ]
    },
    {
     "name": "stdout",
     "output_type": "stream",
     "text": [
      "=======================================================================================================================================\n",
      "2024-05-22 18:25:48\n",
      "Epoch 7 / 50\n"
     ]
    },
    {
     "name": "stderr",
     "output_type": "stream",
     "text": [
      "[Train]: 100%|█████████████████████████| 352/352 [01:11<00:00,  4.94it/s, train_loss=2.45]\n",
      "[Valid]: 100%|███████████████████████| 40/40 [00:09<00:00,  4.44it/s, val_acc=29.5, val_loss=0.0228]\n"
     ]
    },
    {
     "name": "stdout",
     "output_type": "stream",
     "text": [
      "=======================================================================================================================================\n",
      "2024-05-22 18:27:08\n",
      "Epoch 8 / 50\n"
     ]
    },
    {
     "name": "stderr",
     "output_type": "stream",
     "text": [
      "[Train]: 100%|█████████████████████████| 352/352 [01:08<00:00,  5.14it/s, train_loss=2.31]\n",
      "[Valid]: 100%|███████████████████████| 40/40 [00:09<00:00,  4.03it/s, val_acc=30.5, val_loss=0.0222]\n"
     ]
    },
    {
     "name": "stdout",
     "output_type": "stream",
     "text": [
      "=======================================================================================================================================\n",
      "2024-05-22 18:28:27\n",
      "Epoch 9 / 50\n"
     ]
    },
    {
     "name": "stderr",
     "output_type": "stream",
     "text": [
      "[Train]: 100%|█████████████████████████| 352/352 [01:12<00:00,  4.88it/s, train_loss=2.17]\n",
      "[Valid]: 100%|███████████████████████| 40/40 [00:11<00:00,  3.61it/s, val_acc=31.5, val_loss=0.0218]\n"
     ]
    },
    {
     "name": "stdout",
     "output_type": "stream",
     "text": [
      "=======================================================================================================================================\n",
      "2024-05-22 18:29:50\n",
      "Epoch 10 / 50\n"
     ]
    },
    {
     "name": "stderr",
     "output_type": "stream",
     "text": [
      "[Train]: 100%|█████████████████████████| 352/352 [01:14<00:00,  4.74it/s, train_loss=2.01]\n",
      "[Valid]: 100%|███████████████████████| 40/40 [00:09<00:00,  4.07it/s, val_acc=30.5, val_loss=0.0224]\n"
     ]
    },
    {
     "name": "stdout",
     "output_type": "stream",
     "text": [
      "=======================================================================================================================================\n",
      "2024-05-22 18:31:14\n",
      "Epoch 11 / 50\n"
     ]
    },
    {
     "name": "stderr",
     "output_type": "stream",
     "text": [
      "[Train]: 100%|█████████████████████████| 352/352 [01:11<00:00,  4.91it/s, train_loss=1.87]\n",
      "[Valid]: 100%|███████████████████████| 40/40 [00:08<00:00,  4.78it/s, val_acc=31.8, val_loss=0.0225]\n"
     ]
    },
    {
     "name": "stdout",
     "output_type": "stream",
     "text": [
      "=======================================================================================================================================\n",
      "2024-05-22 18:32:34\n",
      "Epoch 12 / 50\n"
     ]
    },
    {
     "name": "stderr",
     "output_type": "stream",
     "text": [
      "[Train]: 100%|█████████████████████████| 352/352 [01:03<00:00,  5.53it/s, train_loss=1.69]\n",
      "[Valid]: 100%|████████████████████████| 40/40 [00:08<00:00,  4.46it/s, val_acc=31.3, val_loss=0.023]\n"
     ]
    },
    {
     "name": "stdout",
     "output_type": "stream",
     "text": [
      "=======================================================================================================================================\n",
      "2024-05-22 18:33:47\n",
      "Epoch 13 / 50\n"
     ]
    },
    {
     "name": "stderr",
     "output_type": "stream",
     "text": [
      "[Train]: 100%|█████████████████████████| 352/352 [01:07<00:00,  5.19it/s, train_loss=1.51]\n",
      "[Valid]: 100%|███████████████████████| 40/40 [00:08<00:00,  4.54it/s, val_acc=32.1, val_loss=0.0233]\n"
     ]
    },
    {
     "name": "stdout",
     "output_type": "stream",
     "text": [
      "=======================================================================================================================================\n",
      "2024-05-22 18:35:04\n",
      "Epoch 14 / 50\n"
     ]
    },
    {
     "name": "stderr",
     "output_type": "stream",
     "text": [
      "[Train]: 100%|█████████████████████████| 352/352 [01:07<00:00,  5.20it/s, train_loss=1.31]\n",
      "[Valid]: 100%|███████████████████████| 40/40 [00:08<00:00,  4.51it/s, val_acc=31.9, val_loss=0.0245]\n"
     ]
    },
    {
     "name": "stdout",
     "output_type": "stream",
     "text": [
      "=======================================================================================================================================\n",
      "2024-05-22 18:36:20\n",
      "Epoch 15 / 50\n"
     ]
    },
    {
     "name": "stderr",
     "output_type": "stream",
     "text": [
      "[Train]: 100%|█████████████████████████| 352/352 [01:07<00:00,  5.23it/s, train_loss=1.11]\n",
      "[Valid]: 100%|███████████████████████| 40/40 [00:08<00:00,  4.76it/s, val_acc=31.7, val_loss=0.0254]\n"
     ]
    },
    {
     "name": "stdout",
     "output_type": "stream",
     "text": [
      "=======================================================================================================================================\n",
      "2024-05-22 18:37:36\n",
      "Epoch 16 / 50\n"
     ]
    },
    {
     "name": "stderr",
     "output_type": "stream",
     "text": [
      "[Train]: 100%|████████████████████████| 352/352 [01:20<00:00,  4.39it/s, train_loss=0.878]\n",
      "[Valid]: 100%|████████████████████████| 40/40 [00:13<00:00,  3.04it/s, val_acc=32.1, val_loss=0.026]\n"
     ]
    },
    {
     "name": "stdout",
     "output_type": "stream",
     "text": [
      "=======================================================================================================================================\n",
      "2024-05-22 18:39:09\n",
      "Epoch 17 / 50\n"
     ]
    },
    {
     "name": "stderr",
     "output_type": "stream",
     "text": [
      "[Train]: 100%|████████████████████████| 352/352 [01:24<00:00,  4.14it/s, train_loss=0.671]\n",
      "[Valid]: 100%|███████████████████████| 40/40 [00:11<00:00,  3.37it/s, val_acc=31.7, val_loss=0.0278]\n"
     ]
    },
    {
     "name": "stdout",
     "output_type": "stream",
     "text": [
      "=======================================================================================================================================\n",
      "2024-05-22 18:40:46\n",
      "Epoch 18 / 50\n"
     ]
    },
    {
     "name": "stderr",
     "output_type": "stream",
     "text": [
      "[Train]: 100%|████████████████████████| 352/352 [01:27<00:00,  4.05it/s, train_loss=0.452]\n",
      "[Valid]: 100%|███████████████████████| 40/40 [00:13<00:00,  2.90it/s, val_acc=31.8, val_loss=0.0287]\n"
     ]
    },
    {
     "name": "stdout",
     "output_type": "stream",
     "text": [
      "=======================================================================================================================================\n",
      "2024-05-22 18:42:27\n",
      "Epoch 19 / 50\n"
     ]
    },
    {
     "name": "stderr",
     "output_type": "stream",
     "text": [
      "[Train]: 100%|████████████████████████| 352/352 [01:28<00:00,  3.98it/s, train_loss=0.309]\n",
      "[Valid]: 100%|███████████████████████| 40/40 [00:12<00:00,  3.18it/s, val_acc=33.2, val_loss=0.0293]\n"
     ]
    },
    {
     "name": "stdout",
     "output_type": "stream",
     "text": [
      "=======================================================================================================================================\n",
      "2024-05-22 18:44:08\n",
      "Epoch 20 / 50\n"
     ]
    },
    {
     "name": "stderr",
     "output_type": "stream",
     "text": [
      "[Train]: 100%|████████████████████████| 352/352 [01:15<00:00,  4.64it/s, train_loss=0.189]\n",
      "[Valid]: 100%|███████████████████████| 40/40 [00:10<00:00,  3.89it/s, val_acc=32.8, val_loss=0.0309]\n"
     ]
    },
    {
     "name": "stdout",
     "output_type": "stream",
     "text": [
      "=======================================================================================================================================\n",
      "2024-05-22 18:45:34\n",
      "Epoch 21 / 50\n"
     ]
    },
    {
     "name": "stderr",
     "output_type": "stream",
     "text": [
      "[Train]: 100%|████████████████████████| 352/352 [01:10<00:00,  5.03it/s, train_loss=0.113]\n",
      "[Valid]: 100%|███████████████████████| 40/40 [00:09<00:00,  4.30it/s, val_acc=33.8, val_loss=0.0306]\n"
     ]
    },
    {
     "name": "stdout",
     "output_type": "stream",
     "text": [
      "=======================================================================================================================================\n",
      "2024-05-22 18:46:54\n",
      "Epoch 22 / 50\n"
     ]
    },
    {
     "name": "stderr",
     "output_type": "stream",
     "text": [
      "[Train]: 100%|███████████████████████| 352/352 [01:08<00:00,  5.10it/s, train_loss=0.0627]\n",
      "[Valid]: 100%|███████████████████████| 40/40 [00:10<00:00,  3.91it/s, val_acc=34.5, val_loss=0.0312]\n"
     ]
    },
    {
     "name": "stdout",
     "output_type": "stream",
     "text": [
      "=======================================================================================================================================\n",
      "2024-05-22 18:48:13\n",
      "Epoch 23 / 50\n"
     ]
    },
    {
     "name": "stderr",
     "output_type": "stream",
     "text": [
      "[Train]: 100%|███████████████████████| 352/352 [01:09<00:00,  5.06it/s, train_loss=0.0324]\n",
      "[Valid]: 100%|███████████████████████| 40/40 [00:09<00:00,  4.04it/s, val_acc=35.5, val_loss=0.0311]\n"
     ]
    },
    {
     "name": "stdout",
     "output_type": "stream",
     "text": [
      "=======================================================================================================================================\n",
      "2024-05-22 18:49:32\n",
      "Epoch 24 / 50\n"
     ]
    },
    {
     "name": "stderr",
     "output_type": "stream",
     "text": [
      "[Train]: 100%|███████████████████████| 352/352 [01:09<00:00,  5.03it/s, train_loss=0.0208]\n",
      "[Valid]: 100%|███████████████████████| 40/40 [00:09<00:00,  4.26it/s, val_acc=35.4, val_loss=0.0314]\n"
     ]
    },
    {
     "name": "stdout",
     "output_type": "stream",
     "text": [
      "=======================================================================================================================================\n",
      "2024-05-22 18:50:52\n",
      "Epoch 25 / 50\n"
     ]
    },
    {
     "name": "stderr",
     "output_type": "stream",
     "text": [
      "[Train]: 100%|███████████████████████| 352/352 [01:09<00:00,  5.05it/s, train_loss=0.0137]\n",
      "[Valid]: 100%|███████████████████████| 40/40 [00:09<00:00,  4.39it/s, val_acc=35.9, val_loss=0.0311]\n"
     ]
    },
    {
     "name": "stdout",
     "output_type": "stream",
     "text": [
      "=======================================================================================================================================\n",
      "2024-05-22 18:52:10\n",
      "Epoch 26 / 50\n"
     ]
    },
    {
     "name": "stderr",
     "output_type": "stream",
     "text": [
      "[Train]: 100%|███████████████████████| 352/352 [01:09<00:00,  5.05it/s, train_loss=0.0116]\n",
      "[Valid]: 100%|███████████████████████| 40/40 [00:10<00:00,  3.83it/s, val_acc=36.3, val_loss=0.0316]\n"
     ]
    },
    {
     "name": "stdout",
     "output_type": "stream",
     "text": [
      "=======================================================================================================================================\n",
      "2024-05-22 18:53:31\n",
      "Epoch 27 / 50\n"
     ]
    },
    {
     "name": "stderr",
     "output_type": "stream",
     "text": [
      "[Train]: 100%|██████████████████████| 352/352 [01:22<00:00,  4.27it/s, train_loss=0.00867]\n",
      "[Valid]: 100%|█████████████████████████| 40/40 [00:11<00:00,  3.61it/s, val_acc=36, val_loss=0.0316]\n"
     ]
    },
    {
     "name": "stdout",
     "output_type": "stream",
     "text": [
      "=======================================================================================================================================\n",
      "2024-05-22 18:55:04\n",
      "Epoch 28 / 50\n"
     ]
    },
    {
     "name": "stderr",
     "output_type": "stream",
     "text": [
      "[Train]: 100%|██████████████████████| 352/352 [01:20<00:00,  4.40it/s, train_loss=0.00656]\n",
      "[Valid]: 100%|███████████████████████| 40/40 [00:10<00:00,  3.72it/s, val_acc=36.4, val_loss=0.0316]\n"
     ]
    },
    {
     "name": "stdout",
     "output_type": "stream",
     "text": [
      "=======================================================================================================================================\n",
      "2024-05-22 18:56:35\n",
      "Epoch 29 / 50\n"
     ]
    },
    {
     "name": "stderr",
     "output_type": "stream",
     "text": [
      "[Train]: 100%|██████████████████████| 352/352 [01:22<00:00,  4.29it/s, train_loss=0.00578]\n",
      "[Valid]: 100%|███████████████████████| 40/40 [00:11<00:00,  3.63it/s, val_acc=36.4, val_loss=0.0319]\n"
     ]
    },
    {
     "name": "stdout",
     "output_type": "stream",
     "text": [
      "=======================================================================================================================================\n",
      "2024-05-22 18:58:08\n",
      "Epoch 30 / 50\n"
     ]
    },
    {
     "name": "stderr",
     "output_type": "stream",
     "text": [
      "[Train]: 100%|██████████████████████| 352/352 [01:15<00:00,  4.64it/s, train_loss=0.00444]\n",
      "[Valid]: 100%|███████████████████████| 40/40 [00:11<00:00,  3.42it/s, val_acc=36.5, val_loss=0.0318]\n"
     ]
    },
    {
     "name": "stdout",
     "output_type": "stream",
     "text": [
      "=======================================================================================================================================\n",
      "2024-05-22 18:59:36\n",
      "Epoch 31 / 50\n"
     ]
    },
    {
     "name": "stderr",
     "output_type": "stream",
     "text": [
      "[Train]: 100%|██████████████████████| 352/352 [01:24<00:00,  4.18it/s, train_loss=0.00394]\n",
      "[Valid]: 100%|████████████████████████| 40/40 [00:11<00:00,  3.49it/s, val_acc=36.9, val_loss=0.032]\n"
     ]
    },
    {
     "name": "stdout",
     "output_type": "stream",
     "text": [
      "=======================================================================================================================================\n",
      "2024-05-22 19:01:11\n",
      "Epoch 32 / 50\n"
     ]
    },
    {
     "name": "stderr",
     "output_type": "stream",
     "text": [
      "[Train]: 100%|██████████████████████| 352/352 [01:17<00:00,  4.55it/s, train_loss=0.00367]\n",
      "[Valid]: 100%|████████████████████████| 40/40 [00:11<00:00,  3.60it/s, val_acc=36.6, val_loss=0.032]\n"
     ]
    },
    {
     "name": "stdout",
     "output_type": "stream",
     "text": [
      "=======================================================================================================================================\n",
      "2024-05-22 19:02:40\n",
      "Epoch 33 / 50\n"
     ]
    },
    {
     "name": "stderr",
     "output_type": "stream",
     "text": [
      "[Train]: 100%|██████████████████████| 352/352 [01:13<00:00,  4.78it/s, train_loss=0.00277]\n",
      "[Valid]: 100%|███████████████████████| 40/40 [00:10<00:00,  3.92it/s, val_acc=36.7, val_loss=0.0322]\n"
     ]
    },
    {
     "name": "stdout",
     "output_type": "stream",
     "text": [
      "=======================================================================================================================================\n",
      "2024-05-22 19:04:04\n",
      "Epoch 34 / 50\n"
     ]
    },
    {
     "name": "stderr",
     "output_type": "stream",
     "text": [
      "[Train]: 100%|██████████████████████| 352/352 [01:11<00:00,  4.90it/s, train_loss=0.00272]\n",
      "[Valid]: 100%|███████████████████████| 40/40 [00:09<00:00,  4.06it/s, val_acc=36.8, val_loss=0.0323]\n"
     ]
    },
    {
     "name": "stdout",
     "output_type": "stream",
     "text": [
      "=======================================================================================================================================\n",
      "2024-05-22 19:05:25\n",
      "Epoch 35 / 50\n"
     ]
    },
    {
     "name": "stderr",
     "output_type": "stream",
     "text": [
      "[Train]: 100%|██████████████████████| 352/352 [01:24<00:00,  4.17it/s, train_loss=0.00255]\n",
      "[Valid]: 100%|███████████████████████| 40/40 [00:12<00:00,  3.25it/s, val_acc=37.1, val_loss=0.0324]\n"
     ]
    },
    {
     "name": "stdout",
     "output_type": "stream",
     "text": [
      "=======================================================================================================================================\n",
      "2024-05-22 19:07:02\n",
      "Epoch 36 / 50\n"
     ]
    },
    {
     "name": "stderr",
     "output_type": "stream",
     "text": [
      "[Train]: 100%|██████████████████████| 352/352 [01:23<00:00,  4.23it/s, train_loss=0.00241]\n",
      "[Valid]: 100%|███████████████████████| 40/40 [00:10<00:00,  3.92it/s, val_acc=36.9, val_loss=0.0324]\n"
     ]
    },
    {
     "name": "stdout",
     "output_type": "stream",
     "text": [
      "=======================================================================================================================================\n",
      "2024-05-22 19:08:36\n",
      "Epoch 37 / 50\n"
     ]
    },
    {
     "name": "stderr",
     "output_type": "stream",
     "text": [
      "[Train]: 100%|██████████████████████| 352/352 [01:09<00:00,  5.04it/s, train_loss=0.00232]\n",
      "[Valid]: 100%|█████████████████████████| 40/40 [00:09<00:00,  4.24it/s, val_acc=37, val_loss=0.0324]\n"
     ]
    },
    {
     "name": "stdout",
     "output_type": "stream",
     "text": [
      "=======================================================================================================================================\n",
      "2024-05-22 19:09:55\n",
      "Epoch 38 / 50\n"
     ]
    },
    {
     "name": "stderr",
     "output_type": "stream",
     "text": [
      "[Train]: 100%|██████████████████████| 352/352 [01:08<00:00,  5.14it/s, train_loss=0.00241]\n",
      "[Valid]: 100%|███████████████████████| 40/40 [00:09<00:00,  4.02it/s, val_acc=37.2, val_loss=0.0325]\n"
     ]
    },
    {
     "name": "stdout",
     "output_type": "stream",
     "text": [
      "=======================================================================================================================================\n",
      "2024-05-22 19:11:13\n",
      "Epoch 39 / 50\n"
     ]
    },
    {
     "name": "stderr",
     "output_type": "stream",
     "text": [
      "[Train]: 100%|██████████████████████| 352/352 [01:08<00:00,  5.10it/s, train_loss=0.00214]\n",
      "[Valid]: 100%|███████████████████████| 40/40 [00:09<00:00,  4.32it/s, val_acc=36.8, val_loss=0.0325]\n"
     ]
    },
    {
     "name": "stdout",
     "output_type": "stream",
     "text": [
      "=======================================================================================================================================\n",
      "2024-05-22 19:12:32\n",
      "Epoch 40 / 50\n"
     ]
    },
    {
     "name": "stderr",
     "output_type": "stream",
     "text": [
      "[Train]: 100%|███████████████████████| 352/352 [01:11<00:00,  4.93it/s, train_loss=0.0018]\n",
      "[Valid]: 100%|█████████████████████████| 40/40 [00:09<00:00,  4.11it/s, val_acc=37, val_loss=0.0326]\n"
     ]
    },
    {
     "name": "stdout",
     "output_type": "stream",
     "text": [
      "=======================================================================================================================================\n",
      "2024-05-22 19:13:53\n",
      "Epoch 41 / 50\n"
     ]
    },
    {
     "name": "stderr",
     "output_type": "stream",
     "text": [
      "[Train]: 100%|██████████████████████| 352/352 [01:10<00:00,  4.97it/s, train_loss=0.00194]\n",
      "[Valid]: 100%|███████████████████████| 40/40 [00:09<00:00,  4.07it/s, val_acc=37.1, val_loss=0.0326]\n"
     ]
    },
    {
     "name": "stdout",
     "output_type": "stream",
     "text": [
      "=======================================================================================================================================\n",
      "2024-05-22 19:15:13\n",
      "Epoch 42 / 50\n"
     ]
    },
    {
     "name": "stderr",
     "output_type": "stream",
     "text": [
      "[Train]: 100%|██████████████████████| 352/352 [01:11<00:00,  4.91it/s, train_loss=0.00185]\n",
      "[Valid]: 100%|███████████████████████| 40/40 [00:09<00:00,  4.30it/s, val_acc=37.2, val_loss=0.0327]\n"
     ]
    },
    {
     "name": "stdout",
     "output_type": "stream",
     "text": [
      "=======================================================================================================================================\n",
      "2024-05-22 19:16:34\n",
      "Epoch 43 / 50\n"
     ]
    },
    {
     "name": "stderr",
     "output_type": "stream",
     "text": [
      "[Train]: 100%|██████████████████████| 352/352 [01:13<00:00,  4.81it/s, train_loss=0.00173]\n",
      "[Valid]: 100%|█████████████████████████| 40/40 [00:10<00:00,  3.99it/s, val_acc=37, val_loss=0.0327]\n"
     ]
    },
    {
     "name": "stdout",
     "output_type": "stream",
     "text": [
      "=======================================================================================================================================\n",
      "2024-05-22 19:17:58\n",
      "Epoch 44 / 50\n"
     ]
    },
    {
     "name": "stderr",
     "output_type": "stream",
     "text": [
      "[Train]: 100%|██████████████████████| 352/352 [01:09<00:00,  5.04it/s, train_loss=0.00169]\n",
      "[Valid]: 100%|█████████████████████████| 40/40 [00:09<00:00,  4.14it/s, val_acc=37, val_loss=0.0328]\n"
     ]
    },
    {
     "name": "stdout",
     "output_type": "stream",
     "text": [
      "=======================================================================================================================================\n",
      "2024-05-22 19:19:17\n",
      "Epoch 45 / 50\n"
     ]
    },
    {
     "name": "stderr",
     "output_type": "stream",
     "text": [
      "[Train]: 100%|██████████████████████| 352/352 [01:10<00:00,  5.02it/s, train_loss=0.00162]\n",
      "[Valid]: 100%|███████████████████████| 40/40 [00:08<00:00,  4.66it/s, val_acc=36.9, val_loss=0.0328]\n"
     ]
    },
    {
     "name": "stdout",
     "output_type": "stream",
     "text": [
      "=======================================================================================================================================\n",
      "2024-05-22 19:20:36\n",
      "Epoch 46 / 50\n"
     ]
    },
    {
     "name": "stderr",
     "output_type": "stream",
     "text": [
      "[Train]: 100%|██████████████████████| 352/352 [01:09<00:00,  5.06it/s, train_loss=0.00154]\n",
      "[Valid]: 100%|███████████████████████| 40/40 [00:09<00:00,  4.31it/s, val_acc=37.1, val_loss=0.0329]\n"
     ]
    },
    {
     "name": "stdout",
     "output_type": "stream",
     "text": [
      "=======================================================================================================================================\n",
      "2024-05-22 19:21:55\n",
      "Epoch 47 / 50\n"
     ]
    },
    {
     "name": "stderr",
     "output_type": "stream",
     "text": [
      "[Train]: 100%|██████████████████████| 352/352 [01:08<00:00,  5.12it/s, train_loss=0.00147]\n",
      "[Valid]: 100%|████████████████████████| 40/40 [00:09<00:00,  4.31it/s, val_acc=37.2, val_loss=0.033]\n"
     ]
    },
    {
     "name": "stdout",
     "output_type": "stream",
     "text": [
      "=======================================================================================================================================\n",
      "2024-05-22 19:23:13\n",
      "Epoch 48 / 50\n"
     ]
    },
    {
     "name": "stderr",
     "output_type": "stream",
     "text": [
      "[Train]: 100%|██████████████████████| 352/352 [01:06<00:00,  5.31it/s, train_loss=0.00151]\n",
      "[Valid]: 100%|███████████████████████| 40/40 [00:09<00:00,  4.27it/s, val_acc=36.9, val_loss=0.0331]\n"
     ]
    },
    {
     "name": "stdout",
     "output_type": "stream",
     "text": [
      "=======================================================================================================================================\n",
      "2024-05-22 19:24:28\n",
      "Epoch 49 / 50\n"
     ]
    },
    {
     "name": "stderr",
     "output_type": "stream",
     "text": [
      "[Train]: 100%|██████████████████████| 352/352 [01:06<00:00,  5.26it/s, train_loss=0.00171]\n",
      "[Valid]: 100%|██████████████████████████| 40/40 [00:09<00:00,  4.21it/s, val_acc=37, val_loss=0.033]\n"
     ]
    },
    {
     "name": "stdout",
     "output_type": "stream",
     "text": [
      "=======================================================================================================================================\n",
      "2024-05-22 19:25:45\n",
      "Epoch 50 / 50\n"
     ]
    },
    {
     "name": "stderr",
     "output_type": "stream",
     "text": [
      "[Train]: 100%|██████████████████████| 352/352 [01:08<00:00,  5.17it/s, train_loss=0.00142]\n",
      "[Valid]: 100%|████████████████████████| 40/40 [00:09<00:00,  4.08it/s, val_acc=37.2, val_loss=0.033]\n"
     ]
    },
    {
     "data": {
      "image/png": "[encoded data removed]",
      "text/plain": [
       "<Figure size 1000x500 with 1 Axes>"
      ]
     },
     "metadata": {},
     "output_type": "display_data"
    },
    {
     "name": "stderr",
     "output_type": "stream",
     "text": [
      "Testing [Test]: 100%|██████████████████████████████████| 79/79 [00:17<00:00,  4.52it/s, test_acc=36.9, test_loss=0.032]\n"
     ]
    }
   ],
   "source": [
    "model = VisionTransformer(img_size=32, patch_size=4, in_chans=3, num_heads=3, depth=3, embed_dim=768, mlp_ratio=2, num_classes=100)\n",
    "trainer = CIFAR100Trainer(model, loss='CE', lr=0.01, optimizer='SGD', batch_size=128, epoch=50, model_type='classification')\n",
    "trainer.train()\n",
    "trainer.test()"
   ]
  }
 ],
 "metadata": {
  "kernelspec": {
   "display_name": "bdl",
   "language": "python",
   "name": "bdl"
  },
  "language_info": {
   "codemirror_mode": {
    "name": "ipython",
    "version": 3
   },
   "file_extension": ".py",
   "mimetype": "text/x-python",
   "name": "python",
   "nbconvert_exporter": "python",
   "pygments_lexer": "ipython3",
   "version": "3.9.0"
  }
 },
 "nbformat": 4,
 "nbformat_minor": 5
}
