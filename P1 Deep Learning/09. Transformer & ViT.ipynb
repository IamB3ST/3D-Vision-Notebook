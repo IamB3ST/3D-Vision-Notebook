{
 "cells": [
  {
   "cell_type": "markdown",
   "id": "f91a5865",
   "metadata": {},
   "source": [
    "# Transformer"
   ]
  },
  {
   "cell_type": "markdown",
   "id": "c662d374",
   "metadata": {},
   "source": [
    "<div style=\"display: flex; align-items: center;\">\n",
    "    <img src=\"../imgs/Transformer.jpg\" alt=\"Your Image\" width=\"300\" style=\"margin-right: 20px;\">\n",
    "    <div>\n",
    "        <p>The Transformer model is a revolutionary deep learning architecture that, with its unique self attention mechanism as its core, completely changes the way sequence modeling is done. This mechanism allows the model to consider all elements in parallel when processing sequences, rather than gradually processing them in order like traditional recurrent neural networks, greatly improving computational efficiency. Through multi head attention, Transformer can simultaneously capture sequence information from different perspectives, enhancing the model's ability to learn complex features.</p>\n",
    "        <p>In addition to self attention mechanism, Transformer also introduces positional encoding to solve the problem of element order in sequences, which is crucial for maintaining the temporal sensitivity of sequence data. In each encoder and decoder layer of the model, the output of the self attention layer is transmitted to the feedforward network for further feature extraction and processing. In order to improve the training stability of deep networks, Transformer adopts layer normalization technology and alleviates the problem of gradient vanishing through residual connections, making the training of deep networks more feasible.</p>\n",
    "        <p>These design features of the Transformer model have quickly made it mainstream in the field of natural language processing, especially in tasks such as machine translation, text summarization, and question answering systems. Its flexibility and powerful representation ability have also shown wide application potential in other fields such as speech recognition and image processing, making it one of the most influential models in the current field of deep learning.</p>\n",
    "    </div>\n",
    "</div>"
   ]
  },
  {
   "cell_type": "markdown",
   "id": "b3234342",
   "metadata": {},
   "source": [
    "# Vision Transformer"
   ]
  },
  {
   "cell_type": "markdown",
   "id": "0401b33f",
   "metadata": {},
   "source": [
    "<div style=\"display: flex; align-items: center;\">\n",
    "    <img src=\"../imgs/ViT.jpg\" alt=\"Your Image\" width=\"600\" style=\"margin-right: 20px;\">\n",
    "    <div>\n",
    "        <p>ViT (vision transformer) is a model proposed by Google in 2020 that directly applies transformer to image classification. Many subsequent works have been improved based on ViT. The idea of ViT is simple: directly divide the image into fixed size patches, and then obtain patch embeddings through linear transformation, which is similar to NLP's words and word embeddings. Since the input of the transformer is a sequence of token embeddings, the patch embeddings of the image can be fed into the transformer for feature extraction and classification. As shown in the schematic diagram of the ViT model, in fact, the ViT model only uses the Encoder of the transformer to extract features (the original transformer also has a decoder section, which is used to implement sequence to sequence, such as machine translation).</p>\n",
    "        <p></p>\n",
    "    </div>\n",
    "</div>"
   ]
  },
  {
   "cell_type": "markdown",
   "id": "35825e24",
   "metadata": {},
   "source": [
    "Before building the model, let's review the parameters of the new layer:\n",
    "\n",
    "**nn.TransformerEncoderLayer** is a module implemented in PyTorch that standardizes the common functions for a Transformer encoder layer. This layer is a building block for the Transformer encoder architecture, which can be stacked multiple times to form the full Transformer encoder. The common parameters for nn.TransformerEncoderLayer are as follows:\n",
    "\n",
    "`d_model`: The feature dimension of the input and output of the layer, which corresponds to the number of expected features in the input (seq_len, batch, d_model).\n",
    "\n",
    "`nhead`: The number of heads for the multiheadattention mechanisms in the layer.\n",
    "\n",
    "`dim_feedforward`: The dimension of the feedforward network inside the transformer block.\n",
    "\n",
    "`dropout`: (optional) The dropout probability for the dropout layer inside the transformer block. Default is 0.1.\n",
    "\n",
    "`activation`: (optional) The activation function to use in the feedforward network. Default is \"relu\".\n",
    "\n",
    "`batch_first`: (optional) If True, the input and output tensors are provided as (batch, seq, feature). If False, they are provided as (seq, batch, feature). Default is False.\n",
    "\n",
    "`bias`: (optional) Whether to include bias terms in the attention scores and feedforward network. Default is True.\n",
    "\n",
    "`norm_eps`: (optional) The epsilon constant to use for the layer normalization. Default is 1e-5.\n",
    "\n",
    "`norm_first`: (optional) Whether to perform layer normalization before the feedforward network. If False, the feedforward network is performed first, followed by layer normalization. Default is False."
   ]
  },
  {
   "cell_type": "markdown",
   "id": "b12966d1",
   "metadata": {},
   "source": [
    "## Train ViT on CIFAR100"
   ]
  },
  {
   "cell_type": "code",
   "execution_count": 1,
   "id": "806c3f64",
   "metadata": {},
   "outputs": [],
   "source": [
    "import torch\n",
    "import torch.nn as nn\n",
    "import torch.nn.functional as F\n",
    "\n",
    "class ViT(nn.Module):\n",
    "    def __init__(self, input_channels, image_size, patch_size, num_classes, num_heads, num_encoder_layers, dim_feedforward):\n",
    "        super(ViT, self).__init__()\n",
    "        self.image_size = image_size\n",
    "        self.patch_size = patch_size\n",
    "        self.num_classes = num_classes\n",
    "        self.num_patches = (image_size // patch_size) ** 2\n",
    "        self.patch_dim = input_channels * patch_size * patch_size\n",
    "\n",
    "        self.conv1 = nn.Conv2d(input_channels, 768, kernel_size=patch_size, stride=patch_size, bias=False)  # Patch embedding\n",
    "        self.positional_encoding = nn.Parameter(self._generate_positional_encoding(self.num_patches, 768))\n",
    "\n",
    "        encoder_layer = nn.TransformerEncoderLayer(d_model=768, nhead=num_heads, dim_feedforward=dim_feedforward)\n",
    "        self.transformer_encoder = nn.TransformerEncoder(encoder_layer, num_encoder_layers)\n",
    "\n",
    "        self.fc = nn.Linear(768, num_classes)\n",
    "        \n",
    "    def _generate_positional_encoding(self, num_patches, d_model, dtype=torch.float):\n",
    "        \"\"\"\n",
    "        Generate a 2D positional encoding as per the Transformer model\n",
    "        \"\"\"\n",
    "        position = torch.arange(num_patches, dtype=dtype).unsqueeze(1)\n",
    "        div_term = torch.exp(torch.arange(0, d_model, 2, dtype=dtype) * -(torch.log(torch.tensor(10000.0)) / d_model))\n",
    "        positional_encoding = torch.zeros((num_patches, d_model), dtype=dtype)\n",
    "        positional_encoding[:, 0::2] = torch.sin(position * div_term)\n",
    "        positional_encoding[:, 1::2] = torch.cos(position * div_term)\n",
    "        return positional_encoding.unsqueeze(0)\n",
    "\n",
    "    def forward(self, x):\n",
    "        x = self.conv1(x).flatten(2)  # Patchify the image\n",
    "        x = x.transpose(1, 2)  # Change to N C L\n",
    "        x += self.positional_encoding[:, :x.size(1), :].to(x.device)\n",
    "        x = self.transformer_encoder(x)\n",
    "        x = x.mean(dim=1)  # Global average pooling\n",
    "        x = self.fc(x)\n",
    "        return x"
   ]
  },
  {
   "cell_type": "code",
   "execution_count": 2,
   "id": "b34241e0",
   "metadata": {},
   "outputs": [],
   "source": [
    "import sys\n",
    "import torch.nn as nn\n",
    "sys.path.append('../tools')\n",
    "from CIFAR10 import CIFAR10Trainer\n",
    "from CIFAR100 import CIFAR100Trainer"
   ]
  },
  {
   "cell_type": "markdown",
   "id": "1d843b63",
   "metadata": {},
   "source": [
    "Vision Transformers (ViTs), while highly effective on large-scale datasets, may underperform compared to Convolutional Neural Networks (CNNs) on smaller or simpler datasets without pre-training due to several factors. ViTs require substantial data to leverage their large model capacity, which can lead to overfitting on limited data. Their design focuses on capturing global dependencies, which might be excessive for the local pattern recognition needed in smaller datasets. Additionally, without the feature-rich initialization provided by pre-training, ViTs struggle to learn from scratch, unlike CNNs that are inherently efficient and can quickly adapt to available data due to their architectural advantages in processing spatial hierarchies. So in this chapter, we will only introduce the concept and structure of ViT. For application scenarios, you can explore them yourself, and I will also try to demonstrate them in later chapters."
   ]
  },
  {
   "cell_type": "code",
   "execution_count": 3,
   "id": "7564afd2",
   "metadata": {
    "scrolled": true
   },
   "outputs": [
    {
     "name": "stderr",
     "output_type": "stream",
     "text": [
      "D:\\Anaconda\\envs\\bdl\\lib\\site-packages\\torch\\nn\\modules\\transformer.py:306: UserWarning: enable_nested_tensor is True, but self.use_nested_tensor is False because encoder_layer.self_attn.batch_first was not True(use batch_first for better inference performance)\n",
      "  warnings.warn(f\"enable_nested_tensor is True, but self.use_nested_tensor is False because {why_not_sparsity_fast_path}\")\n"
     ]
    },
    {
     "name": "stdout",
     "output_type": "stream",
     "text": [
      "Files already downloaded and verified\n",
      "Files already downloaded and verified\n",
      "=======================================================================================================================================\n",
      "2024-05-21 22:25:47\n",
      "Epoch 1 / 50\n"
     ]
    },
    {
     "name": "stderr",
     "output_type": "stream",
     "text": [
      "[Train]:   0%|                                                    | 0/352 [00:00<?, ?it/s]D:\\Anaconda\\envs\\bdl\\lib\\site-packages\\torch\\nn\\functional.py:5504: UserWarning: 1Torch was not compiled with flash attention. (Triggered internally at C:\\actions-runner\\_work\\pytorch\\pytorch\\builder\\windows\\pytorch\\aten\\src\\ATen\\native\\transformers\\cuda\\sdp_utils.cpp:455.)\n",
      "  attn_output = scaled_dot_product_attention(q, k, v, attn_mask, dropout_p, is_causal)\n",
      "[Train]: 100%|█████████████████████████| 352/352 [00:20<00:00, 17.41it/s, train_loss=4.13]\n",
      "[Valid]: 100%|███████████████████████| 40/40 [00:01<00:00, 24.35it/s, val_acc=10.2, val_loss=0.0312]\n"
     ]
    },
    {
     "name": "stdout",
     "output_type": "stream",
     "text": [
      "=======================================================================================================================================\n",
      "2024-05-21 22:26:09\n",
      "Epoch 2 / 50\n"
     ]
    },
    {
     "name": "stderr",
     "output_type": "stream",
     "text": [
      "[Train]: 100%|█████████████████████████| 352/352 [00:19<00:00, 17.60it/s, train_loss=3.78]\n",
      "[Valid]: 100%|█████████████████████████| 40/40 [00:01<00:00, 23.58it/s, val_acc=13, val_loss=0.0297]\n"
     ]
    },
    {
     "name": "stdout",
     "output_type": "stream",
     "text": [
      "=======================================================================================================================================\n",
      "2024-05-21 22:26:31\n",
      "Epoch 3 / 50\n"
     ]
    },
    {
     "name": "stderr",
     "output_type": "stream",
     "text": [
      "[Train]: 100%|█████████████████████████| 352/352 [00:20<00:00, 17.35it/s, train_loss=3.59]\n",
      "[Valid]: 100%|███████████████████████| 40/40 [00:01<00:00, 23.59it/s, val_acc=16.1, val_loss=0.0284]\n"
     ]
    },
    {
     "name": "stdout",
     "output_type": "stream",
     "text": [
      "=======================================================================================================================================\n",
      "2024-05-21 22:26:53\n",
      "Epoch 4 / 50\n"
     ]
    },
    {
     "name": "stderr",
     "output_type": "stream",
     "text": [
      "[Train]: 100%|█████████████████████████| 352/352 [00:20<00:00, 16.96it/s, train_loss=3.45]\n",
      "[Valid]: 100%|███████████████████████| 40/40 [00:01<00:00, 23.09it/s, val_acc=19.1, val_loss=0.0272]\n"
     ]
    },
    {
     "name": "stdout",
     "output_type": "stream",
     "text": [
      "=======================================================================================================================================\n",
      "2024-05-21 22:27:15\n",
      "Epoch 5 / 50\n"
     ]
    },
    {
     "name": "stderr",
     "output_type": "stream",
     "text": [
      "[Train]: 100%|█████████████████████████| 352/352 [00:21<00:00, 16.51it/s, train_loss=3.32]\n",
      "[Valid]: 100%|███████████████████████| 40/40 [00:01<00:00, 21.94it/s, val_acc=21.4, val_loss=0.0263]\n"
     ]
    },
    {
     "name": "stdout",
     "output_type": "stream",
     "text": [
      "=======================================================================================================================================\n",
      "2024-05-21 22:27:38\n",
      "Epoch 6 / 50\n"
     ]
    },
    {
     "name": "stderr",
     "output_type": "stream",
     "text": [
      "[Train]: 100%|██████████████████████████| 352/352 [00:22<00:00, 15.95it/s, train_loss=3.2]\n",
      "[Valid]: 100%|███████████████████████| 40/40 [00:01<00:00, 21.52it/s, val_acc=22.4, val_loss=0.0256]\n"
     ]
    },
    {
     "name": "stdout",
     "output_type": "stream",
     "text": [
      "=======================================================================================================================================\n",
      "2024-05-21 22:28:02\n",
      "Epoch 7 / 50\n"
     ]
    },
    {
     "name": "stderr",
     "output_type": "stream",
     "text": [
      "[Train]: 100%|█████████████████████████| 352/352 [00:22<00:00, 15.38it/s, train_loss=3.11]\n",
      "[Valid]: 100%|████████████████████████| 40/40 [00:01<00:00, 20.48it/s, val_acc=24.4, val_loss=0.025]\n"
     ]
    },
    {
     "name": "stdout",
     "output_type": "stream",
     "text": [
      "=======================================================================================================================================\n",
      "2024-05-21 22:28:27\n",
      "Epoch 8 / 50\n"
     ]
    },
    {
     "name": "stderr",
     "output_type": "stream",
     "text": [
      "[Train]: 100%|█████████████████████████| 352/352 [00:23<00:00, 15.09it/s, train_loss=3.01]\n",
      "[Valid]: 100%|███████████████████████| 40/40 [00:01<00:00, 20.96it/s, val_acc=25.9, val_loss=0.0241]\n"
     ]
    },
    {
     "name": "stdout",
     "output_type": "stream",
     "text": [
      "=======================================================================================================================================\n",
      "2024-05-21 22:28:52\n",
      "Epoch 9 / 50\n"
     ]
    },
    {
     "name": "stderr",
     "output_type": "stream",
     "text": [
      "[Train]: 100%|█████████████████████████| 352/352 [00:22<00:00, 15.32it/s, train_loss=2.91]\n",
      "[Valid]: 100%|███████████████████████| 40/40 [00:01<00:00, 21.26it/s, val_acc=27.9, val_loss=0.0235]\n"
     ]
    },
    {
     "name": "stdout",
     "output_type": "stream",
     "text": [
      "=======================================================================================================================================\n",
      "2024-05-21 22:29:17\n",
      "Epoch 10 / 50\n"
     ]
    },
    {
     "name": "stderr",
     "output_type": "stream",
     "text": [
      "[Train]: 100%|█████████████████████████| 352/352 [00:23<00:00, 15.16it/s, train_loss=2.82]\n",
      "[Valid]: 100%|███████████████████████| 40/40 [00:02<00:00, 19.11it/s, val_acc=28.9, val_loss=0.0229]\n"
     ]
    },
    {
     "name": "stdout",
     "output_type": "stream",
     "text": [
      "=======================================================================================================================================\n",
      "2024-05-21 22:29:43\n",
      "Epoch 11 / 50\n"
     ]
    },
    {
     "name": "stderr",
     "output_type": "stream",
     "text": [
      "[Train]: 100%|█████████████████████████| 352/352 [00:22<00:00, 15.33it/s, train_loss=2.73]\n",
      "[Valid]: 100%|█████████████████████████| 40/40 [00:01<00:00, 21.20it/s, val_acc=30, val_loss=0.0224]\n"
     ]
    },
    {
     "name": "stdout",
     "output_type": "stream",
     "text": [
      "=======================================================================================================================================\n",
      "2024-05-21 22:30:07\n",
      "Epoch 12 / 50\n"
     ]
    },
    {
     "name": "stderr",
     "output_type": "stream",
     "text": [
      "[Train]: 100%|█████████████████████████| 352/352 [00:23<00:00, 14.94it/s, train_loss=2.66]\n",
      "[Valid]: 100%|███████████████████████| 40/40 [00:01<00:00, 20.14it/s, val_acc=30.2, val_loss=0.0223]\n"
     ]
    },
    {
     "name": "stdout",
     "output_type": "stream",
     "text": [
      "=======================================================================================================================================\n",
      "2024-05-21 22:30:33\n",
      "Epoch 13 / 50\n"
     ]
    },
    {
     "name": "stderr",
     "output_type": "stream",
     "text": [
      "[Train]: 100%|█████████████████████████| 352/352 [00:23<00:00, 14.96it/s, train_loss=2.59]\n",
      "[Valid]: 100%|███████████████████████| 40/40 [00:02<00:00, 18.27it/s, val_acc=33.1, val_loss=0.0215]\n"
     ]
    },
    {
     "name": "stdout",
     "output_type": "stream",
     "text": [
      "=======================================================================================================================================\n",
      "2024-05-21 22:30:59\n",
      "Epoch 14 / 50\n"
     ]
    },
    {
     "name": "stderr",
     "output_type": "stream",
     "text": [
      "[Train]: 100%|█████████████████████████| 352/352 [00:23<00:00, 15.10it/s, train_loss=2.52]\n",
      "[Valid]: 100%|███████████████████████| 40/40 [00:01<00:00, 21.05it/s, val_acc=33.7, val_loss=0.0211]\n"
     ]
    },
    {
     "name": "stdout",
     "output_type": "stream",
     "text": [
      "=======================================================================================================================================\n",
      "2024-05-21 22:31:24\n",
      "Epoch 15 / 50\n"
     ]
    },
    {
     "name": "stderr",
     "output_type": "stream",
     "text": [
      "[Train]: 100%|█████████████████████████| 352/352 [00:23<00:00, 15.22it/s, train_loss=2.46]\n",
      "[Valid]: 100%|███████████████████████| 40/40 [00:02<00:00, 19.67it/s, val_acc=34.4, val_loss=0.0209]\n"
     ]
    },
    {
     "name": "stdout",
     "output_type": "stream",
     "text": [
      "=======================================================================================================================================\n",
      "2024-05-21 22:31:49\n",
      "Epoch 16 / 50\n"
     ]
    },
    {
     "name": "stderr",
     "output_type": "stream",
     "text": [
      "[Train]: 100%|██████████████████████████| 352/352 [00:23<00:00, 15.26it/s, train_loss=2.4]\n",
      "[Valid]: 100%|████████████████████████| 40/40 [00:02<00:00, 18.46it/s, val_acc=35.4, val_loss=0.021]\n"
     ]
    },
    {
     "name": "stdout",
     "output_type": "stream",
     "text": [
      "=======================================================================================================================================\n",
      "2024-05-21 22:32:14\n",
      "Epoch 17 / 50\n"
     ]
    },
    {
     "name": "stderr",
     "output_type": "stream",
     "text": [
      "[Train]: 100%|█████████████████████████| 352/352 [00:23<00:00, 15.12it/s, train_loss=2.34]\n",
      "[Valid]: 100%|███████████████████████| 40/40 [00:02<00:00, 19.78it/s, val_acc=35.8, val_loss=0.0203]\n"
     ]
    },
    {
     "name": "stdout",
     "output_type": "stream",
     "text": [
      "=======================================================================================================================================\n",
      "2024-05-21 22:32:40\n",
      "Epoch 18 / 50\n"
     ]
    },
    {
     "name": "stderr",
     "output_type": "stream",
     "text": [
      "[Train]: 100%|█████████████████████████| 352/352 [00:23<00:00, 15.17it/s, train_loss=2.29]\n",
      "[Valid]: 100%|███████████████████████| 40/40 [00:02<00:00, 18.43it/s, val_acc=36.4, val_loss=0.0203]\n"
     ]
    },
    {
     "name": "stdout",
     "output_type": "stream",
     "text": [
      "=======================================================================================================================================\n",
      "2024-05-21 22:33:05\n",
      "Epoch 19 / 50\n"
     ]
    },
    {
     "name": "stderr",
     "output_type": "stream",
     "text": [
      "[Train]: 100%|█████████████████████████| 352/352 [00:23<00:00, 15.17it/s, train_loss=2.23]\n",
      "[Valid]: 100%|███████████████████████| 40/40 [00:02<00:00, 18.95it/s, val_acc=36.1, val_loss=0.0202]\n"
     ]
    },
    {
     "name": "stdout",
     "output_type": "stream",
     "text": [
      "=======================================================================================================================================\n",
      "2024-05-21 22:33:30\n",
      "Epoch 20 / 50\n"
     ]
    },
    {
     "name": "stderr",
     "output_type": "stream",
     "text": [
      "[Train]: 100%|█████████████████████████| 352/352 [00:23<00:00, 15.11it/s, train_loss=2.17]\n",
      "[Valid]: 100%|█████████████████████████| 40/40 [00:02<00:00, 19.12it/s, val_acc=37.1, val_loss=0.02]\n"
     ]
    },
    {
     "name": "stdout",
     "output_type": "stream",
     "text": [
      "=======================================================================================================================================\n",
      "2024-05-21 22:33:56\n",
      "Epoch 21 / 50\n"
     ]
    },
    {
     "name": "stderr",
     "output_type": "stream",
     "text": [
      "[Train]: 100%|█████████████████████████| 352/352 [00:23<00:00, 15.12it/s, train_loss=2.13]\n",
      "[Valid]: 100%|█████████████████████████| 40/40 [00:02<00:00, 18.99it/s, val_acc=36.7, val_loss=0.02]\n"
     ]
    },
    {
     "name": "stdout",
     "output_type": "stream",
     "text": [
      "=======================================================================================================================================\n",
      "2024-05-21 22:34:21\n",
      "Epoch 22 / 50\n"
     ]
    },
    {
     "name": "stderr",
     "output_type": "stream",
     "text": [
      "[Train]: 100%|█████████████████████████| 352/352 [00:23<00:00, 15.06it/s, train_loss=2.07]\n",
      "[Valid]: 100%|███████████████████████| 40/40 [00:02<00:00, 18.68it/s, val_acc=38.2, val_loss=0.0194]\n"
     ]
    },
    {
     "name": "stdout",
     "output_type": "stream",
     "text": [
      "=======================================================================================================================================\n",
      "2024-05-21 22:34:47\n",
      "Epoch 23 / 50\n"
     ]
    },
    {
     "name": "stderr",
     "output_type": "stream",
     "text": [
      "[Train]: 100%|█████████████████████████| 352/352 [00:23<00:00, 15.02it/s, train_loss=2.02]\n",
      "[Valid]: 100%|███████████████████████| 40/40 [00:02<00:00, 18.47it/s, val_acc=38.5, val_loss=0.0195]\n"
     ]
    },
    {
     "name": "stdout",
     "output_type": "stream",
     "text": [
      "=======================================================================================================================================\n",
      "2024-05-21 22:35:12\n",
      "Epoch 24 / 50\n"
     ]
    },
    {
     "name": "stderr",
     "output_type": "stream",
     "text": [
      "[Train]: 100%|█████████████████████████| 352/352 [00:23<00:00, 14.96it/s, train_loss=1.97]\n",
      "[Valid]: 100%|███████████████████████| 40/40 [00:02<00:00, 18.78it/s, val_acc=38.5, val_loss=0.0196]\n"
     ]
    },
    {
     "name": "stdout",
     "output_type": "stream",
     "text": [
      "=======================================================================================================================================\n",
      "2024-05-21 22:35:38\n",
      "Epoch 25 / 50\n"
     ]
    },
    {
     "name": "stderr",
     "output_type": "stream",
     "text": [
      "[Train]: 100%|█████████████████████████| 352/352 [00:23<00:00, 14.98it/s, train_loss=1.91]\n",
      "[Valid]: 100%|███████████████████████| 40/40 [00:01<00:00, 20.04it/s, val_acc=39.1, val_loss=0.0193]\n"
     ]
    },
    {
     "name": "stdout",
     "output_type": "stream",
     "text": [
      "=======================================================================================================================================\n",
      "2024-05-21 22:36:03\n",
      "Epoch 26 / 50\n"
     ]
    },
    {
     "name": "stderr",
     "output_type": "stream",
     "text": [
      "[Train]: 100%|█████████████████████████| 352/352 [00:23<00:00, 14.94it/s, train_loss=1.85]\n",
      "[Valid]: 100%|███████████████████████| 40/40 [00:02<00:00, 19.94it/s, val_acc=39.1, val_loss=0.0192]\n"
     ]
    },
    {
     "name": "stdout",
     "output_type": "stream",
     "text": [
      "=======================================================================================================================================\n",
      "2024-05-21 22:36:29\n",
      "Epoch 27 / 50\n"
     ]
    },
    {
     "name": "stderr",
     "output_type": "stream",
     "text": [
      "[Train]: 100%|█████████████████████████| 352/352 [00:23<00:00, 14.89it/s, train_loss=1.81]\n",
      "[Valid]: 100%|███████████████████████| 40/40 [00:02<00:00, 19.02it/s, val_acc=39.3, val_loss=0.0192]\n"
     ]
    },
    {
     "name": "stdout",
     "output_type": "stream",
     "text": [
      "=======================================================================================================================================\n",
      "2024-05-21 22:36:55\n",
      "Epoch 28 / 50\n"
     ]
    },
    {
     "name": "stderr",
     "output_type": "stream",
     "text": [
      "[Train]: 100%|█████████████████████████| 352/352 [00:23<00:00, 14.90it/s, train_loss=1.75]\n",
      "[Valid]: 100%|█████████████████████████| 40/40 [00:02<00:00, 18.34it/s, val_acc=40, val_loss=0.0193]\n"
     ]
    },
    {
     "name": "stdout",
     "output_type": "stream",
     "text": [
      "=======================================================================================================================================\n",
      "2024-05-21 22:37:21\n",
      "Epoch 29 / 50\n"
     ]
    },
    {
     "name": "stderr",
     "output_type": "stream",
     "text": [
      "[Train]: 100%|█████████████████████████| 352/352 [00:23<00:00, 14.80it/s, train_loss=1.69]\n",
      "[Valid]: 100%|███████████████████████| 40/40 [00:02<00:00, 18.53it/s, val_acc=40.4, val_loss=0.0194]\n"
     ]
    },
    {
     "name": "stdout",
     "output_type": "stream",
     "text": [
      "=======================================================================================================================================\n",
      "2024-05-21 22:37:47\n",
      "Epoch 30 / 50\n"
     ]
    },
    {
     "name": "stderr",
     "output_type": "stream",
     "text": [
      "[Train]: 100%|█████████████████████████| 352/352 [00:23<00:00, 14.94it/s, train_loss=1.63]\n",
      "[Valid]: 100%|███████████████████████| 40/40 [00:02<00:00, 19.05it/s, val_acc=40.4, val_loss=0.0193]\n"
     ]
    },
    {
     "name": "stdout",
     "output_type": "stream",
     "text": [
      "=======================================================================================================================================\n",
      "2024-05-21 22:38:12\n",
      "Epoch 31 / 50\n"
     ]
    },
    {
     "name": "stderr",
     "output_type": "stream",
     "text": [
      "[Train]: 100%|█████████████████████████| 352/352 [00:23<00:00, 14.81it/s, train_loss=1.58]\n",
      "[Valid]: 100%|███████████████████████| 40/40 [00:02<00:00, 19.17it/s, val_acc=39.7, val_loss=0.0195]\n"
     ]
    },
    {
     "name": "stdout",
     "output_type": "stream",
     "text": [
      "=======================================================================================================================================\n",
      "2024-05-21 22:38:38\n",
      "Epoch 32 / 50\n"
     ]
    },
    {
     "name": "stderr",
     "output_type": "stream",
     "text": [
      "[Train]: 100%|█████████████████████████| 352/352 [00:24<00:00, 14.59it/s, train_loss=1.53]\n",
      "[Valid]: 100%|███████████████████████| 40/40 [00:02<00:00, 17.21it/s, val_acc=40.1, val_loss=0.0195]\n"
     ]
    },
    {
     "name": "stdout",
     "output_type": "stream",
     "text": [
      "=======================================================================================================================================\n",
      "2024-05-21 22:39:05\n",
      "Epoch 33 / 50\n"
     ]
    },
    {
     "name": "stderr",
     "output_type": "stream",
     "text": [
      "[Train]: 100%|█████████████████████████| 352/352 [00:24<00:00, 14.65it/s, train_loss=1.46]\n",
      "[Valid]: 100%|███████████████████████| 40/40 [00:02<00:00, 16.93it/s, val_acc=39.8, val_loss=0.0195]\n"
     ]
    },
    {
     "name": "stdout",
     "output_type": "stream",
     "text": [
      "=======================================================================================================================================\n",
      "2024-05-21 22:39:31\n",
      "Epoch 34 / 50\n"
     ]
    },
    {
     "name": "stderr",
     "output_type": "stream",
     "text": [
      "[Train]: 100%|█████████████████████████| 352/352 [00:24<00:00, 14.58it/s, train_loss=1.41]\n",
      "[Valid]: 100%|███████████████████████| 40/40 [00:02<00:00, 18.39it/s, val_acc=40.4, val_loss=0.0197]\n"
     ]
    },
    {
     "name": "stdout",
     "output_type": "stream",
     "text": [
      "=======================================================================================================================================\n",
      "2024-05-21 22:39:57\n",
      "Epoch 35 / 50\n"
     ]
    },
    {
     "name": "stderr",
     "output_type": "stream",
     "text": [
      "[Train]: 100%|█████████████████████████| 352/352 [00:24<00:00, 14.46it/s, train_loss=1.35]\n",
      "[Valid]: 100%|█████████████████████████| 40/40 [00:02<00:00, 15.76it/s, val_acc=41, val_loss=0.0197]\n"
     ]
    },
    {
     "name": "stdout",
     "output_type": "stream",
     "text": [
      "=======================================================================================================================================\n",
      "2024-05-21 22:40:24\n",
      "Epoch 36 / 50\n"
     ]
    },
    {
     "name": "stderr",
     "output_type": "stream",
     "text": [
      "[Train]: 100%|█████████████████████████| 352/352 [00:24<00:00, 14.58it/s, train_loss=1.29]\n",
      "[Valid]: 100%|█████████████████████████| 40/40 [00:02<00:00, 15.91it/s, val_acc=40.3, val_loss=0.02]\n"
     ]
    },
    {
     "name": "stdout",
     "output_type": "stream",
     "text": [
      "=======================================================================================================================================\n",
      "2024-05-21 22:40:51\n",
      "Epoch 37 / 50\n"
     ]
    },
    {
     "name": "stderr",
     "output_type": "stream",
     "text": [
      "[Train]: 100%|█████████████████████████| 352/352 [00:24<00:00, 14.42it/s, train_loss=1.23]\n",
      "[Valid]: 100%|███████████████████████| 40/40 [00:02<00:00, 18.06it/s, val_acc=41.6, val_loss=0.0197]\n"
     ]
    },
    {
     "name": "stdout",
     "output_type": "stream",
     "text": [
      "=======================================================================================================================================\n",
      "2024-05-21 22:41:17\n",
      "Epoch 38 / 50\n"
     ]
    },
    {
     "name": "stderr",
     "output_type": "stream",
     "text": [
      "[Train]: 100%|█████████████████████████| 352/352 [00:24<00:00, 14.60it/s, train_loss=1.16]\n",
      "[Valid]: 100%|███████████████████████| 40/40 [00:02<00:00, 18.32it/s, val_acc=40.3, val_loss=0.0205]\n"
     ]
    },
    {
     "name": "stdout",
     "output_type": "stream",
     "text": [
      "=======================================================================================================================================\n",
      "2024-05-21 22:41:44\n",
      "Epoch 39 / 50\n"
     ]
    },
    {
     "name": "stderr",
     "output_type": "stream",
     "text": [
      "[Train]: 100%|██████████████████████████| 352/352 [00:24<00:00, 14.28it/s, train_loss=1.1]\n",
      "[Valid]: 100%|███████████████████████| 40/40 [00:02<00:00, 18.07it/s, val_acc=41.1, val_loss=0.0205]\n"
     ]
    },
    {
     "name": "stdout",
     "output_type": "stream",
     "text": [
      "=======================================================================================================================================\n",
      "2024-05-21 22:42:11\n",
      "Epoch 40 / 50\n"
     ]
    },
    {
     "name": "stderr",
     "output_type": "stream",
     "text": [
      "[Train]: 100%|█████████████████████████| 352/352 [00:24<00:00, 14.64it/s, train_loss=1.04]\n",
      "[Valid]: 100%|█████████████████████████| 40/40 [00:02<00:00, 17.05it/s, val_acc=41, val_loss=0.0207]\n"
     ]
    },
    {
     "name": "stdout",
     "output_type": "stream",
     "text": [
      "=======================================================================================================================================\n",
      "2024-05-21 22:42:37\n",
      "Epoch 41 / 50\n"
     ]
    },
    {
     "name": "stderr",
     "output_type": "stream",
     "text": [
      "[Train]: 100%|████████████████████████| 352/352 [00:24<00:00, 14.41it/s, train_loss=0.974]\n",
      "[Valid]: 100%|███████████████████████| 40/40 [00:02<00:00, 18.56it/s, val_acc=40.6, val_loss=0.0207]\n"
     ]
    },
    {
     "name": "stdout",
     "output_type": "stream",
     "text": [
      "=======================================================================================================================================\n",
      "2024-05-21 22:43:04\n",
      "Epoch 42 / 50\n"
     ]
    },
    {
     "name": "stderr",
     "output_type": "stream",
     "text": [
      "[Train]: 100%|████████████████████████| 352/352 [00:24<00:00, 14.42it/s, train_loss=0.905]\n",
      "[Valid]: 100%|███████████████████████| 40/40 [00:02<00:00, 15.91it/s, val_acc=40.8, val_loss=0.0218]\n"
     ]
    },
    {
     "name": "stdout",
     "output_type": "stream",
     "text": [
      "=======================================================================================================================================\n",
      "2024-05-21 22:43:30\n",
      "Epoch 43 / 50\n"
     ]
    },
    {
     "name": "stderr",
     "output_type": "stream",
     "text": [
      "[Train]: 100%|████████████████████████| 352/352 [00:24<00:00, 14.56it/s, train_loss=0.856]\n",
      "[Valid]: 100%|███████████████████████| 40/40 [00:02<00:00, 16.83it/s, val_acc=39.6, val_loss=0.0215]\n"
     ]
    },
    {
     "name": "stdout",
     "output_type": "stream",
     "text": [
      "=======================================================================================================================================\n",
      "2024-05-21 22:43:57\n",
      "Epoch 44 / 50\n"
     ]
    },
    {
     "name": "stderr",
     "output_type": "stream",
     "text": [
      "[Train]: 100%|████████████████████████| 352/352 [00:24<00:00, 14.28it/s, train_loss=0.794]\n",
      "[Valid]: 100%|███████████████████████| 40/40 [00:02<00:00, 18.35it/s, val_acc=41.1, val_loss=0.0215]\n"
     ]
    },
    {
     "name": "stdout",
     "output_type": "stream",
     "text": [
      "=======================================================================================================================================\n",
      "2024-05-21 22:44:24\n",
      "Epoch 45 / 50\n"
     ]
    },
    {
     "name": "stderr",
     "output_type": "stream",
     "text": [
      "[Train]: 100%|████████████████████████| 352/352 [00:24<00:00, 14.20it/s, train_loss=0.722]\n",
      "[Valid]: 100%|███████████████████████| 40/40 [00:02<00:00, 17.45it/s, val_acc=41.1, val_loss=0.0219]\n"
     ]
    },
    {
     "name": "stdout",
     "output_type": "stream",
     "text": [
      "=======================================================================================================================================\n",
      "2024-05-21 22:44:51\n",
      "Epoch 46 / 50\n"
     ]
    },
    {
     "name": "stderr",
     "output_type": "stream",
     "text": [
      "[Train]: 100%|████████████████████████| 352/352 [00:24<00:00, 14.32it/s, train_loss=0.667]\n",
      "[Valid]: 100%|███████████████████████| 40/40 [00:02<00:00, 17.94it/s, val_acc=41.1, val_loss=0.0223]\n"
     ]
    },
    {
     "name": "stdout",
     "output_type": "stream",
     "text": [
      "=======================================================================================================================================\n",
      "2024-05-21 22:45:18\n",
      "Epoch 47 / 50\n"
     ]
    },
    {
     "name": "stderr",
     "output_type": "stream",
     "text": [
      "[Train]: 100%|████████████████████████| 352/352 [00:24<00:00, 14.35it/s, train_loss=0.604]\n",
      "[Valid]: 100%|███████████████████████| 40/40 [00:02<00:00, 14.98it/s, val_acc=41.5, val_loss=0.0222]\n"
     ]
    },
    {
     "name": "stdout",
     "output_type": "stream",
     "text": [
      "=======================================================================================================================================\n",
      "2024-05-21 22:45:45\n",
      "Epoch 48 / 50\n"
     ]
    },
    {
     "name": "stderr",
     "output_type": "stream",
     "text": [
      "[Train]: 100%|████████████████████████| 352/352 [00:24<00:00, 14.33it/s, train_loss=0.548]\n",
      "[Valid]: 100%|███████████████████████| 40/40 [00:02<00:00, 16.74it/s, val_acc=40.3, val_loss=0.0231]\n"
     ]
    },
    {
     "name": "stdout",
     "output_type": "stream",
     "text": [
      "=======================================================================================================================================\n",
      "2024-05-21 22:46:12\n",
      "Epoch 49 / 50\n"
     ]
    },
    {
     "name": "stderr",
     "output_type": "stream",
     "text": [
      "[Train]: 100%|████████████████████████| 352/352 [00:24<00:00, 14.25it/s, train_loss=0.503]\n",
      "[Valid]: 100%|███████████████████████| 40/40 [00:02<00:00, 16.75it/s, val_acc=41.2, val_loss=0.0231]\n"
     ]
    },
    {
     "name": "stdout",
     "output_type": "stream",
     "text": [
      "=======================================================================================================================================\n",
      "2024-05-21 22:46:39\n",
      "Epoch 50 / 50\n"
     ]
    },
    {
     "name": "stderr",
     "output_type": "stream",
     "text": [
      "[Train]: 100%|████████████████████████| 352/352 [00:25<00:00, 13.82it/s, train_loss=0.448]\n",
      "[Valid]: 100%|████████████████████████| 40/40 [00:02<00:00, 15.56it/s, val_acc=42.2, val_loss=0.023]\n"
     ]
    },
    {
     "data": {
      "image/png": "[encoded data removed]",
      "text/plain": [
       "<Figure size 1000x500 with 1 Axes>"
      ]
     },
     "metadata": {},
     "output_type": "display_data"
    },
    {
     "name": "stderr",
     "output_type": "stream",
     "text": [
      "Testing [Test]: 100%|█████████████████████████| 79/79 [00:04<00:00, 16.32it/s, test_acc=41.3, test_loss=0.0224]\n"
     ]
    }
   ],
   "source": [
    "model = ViT(input_channels=3, image_size=32, patch_size=8, num_classes=100, num_heads=8, num_encoder_layers=3, dim_feedforward=2048)\n",
    "trainer = CIFAR100Trainer(model, loss='CE', lr=0.01, optimizer='SGD', batch_size=128, epoch=50, model_type='classification')\n",
    "trainer.train()\n",
    "trainer.test()"
   ]
  }
 ],
 "metadata": {
  "kernelspec": {
   "display_name": "bdl",
   "language": "python",
   "name": "bdl"
  },
  "language_info": {
   "codemirror_mode": {
    "name": "ipython",
    "version": 3
   },
   "file_extension": ".py",
   "mimetype": "text/x-python",
   "name": "python",
   "nbconvert_exporter": "python",
   "pygments_lexer": "ipython3",
   "version": "3.9.0"
  }
 },
 "nbformat": 4,
 "nbformat_minor": 5
}
