{
 "cells": [
  {
   "cell_type": "markdown",
   "id": "81568f4d",
   "metadata": {},
   "source": [
    "# KO the CIFAR with ResNet"
   ]
  },
  {
   "cell_type": "markdown",
   "id": "0520d1a9",
   "metadata": {},
   "source": [
    "In the world of deep learning, the selection of datasets and the architecture of models are crucial for ultimate performance. The CIFAR-10/100 dataset, as a more complex image recognition task than MNIST, provides us with a challenging platform. In the previous chapter, we explored the application of Vision Transformer (ViT) on the CIFAR dataset and pointed out its limitations on small datasets. In this chapter, we will return to deep convolutional neural networks (CNNs), especially the ResNet architecture, and explore how to further improve the performance of the model on the CIFAR-10/100 dataset through carefully designed training strategies."
   ]
  },
  {
   "cell_type": "markdown",
   "id": "510a2b99",
   "metadata": {},
   "source": [
    "## ResNet architecture review"
   ]
  },
  {
   "cell_type": "markdown",
   "id": "fac8c67e",
   "metadata": {},
   "source": [
    "ResNet solves the degradation problem in deep network training by introducing residual learning, allowing us to build deeper networks without worrying about vanishing or exploding gradients. ResNet has shown higher accuracy than traditional CNN on the CIFAR dataset.\n",
    "\n",
    "In this chapter, we use ResNet18, which is more complex than the custom ResNet in Chapter 8, and make some adjustments to make it suitable for the CIFAR dataset"
   ]
  },
  {
   "cell_type": "code",
   "execution_count": 1,
   "id": "ba1fb450",
   "metadata": {},
   "outputs": [],
   "source": [
    "import torch\n",
    "import torch.nn as nn\n",
    "\n",
    "class ResNet(nn.Module):\n",
    "    def __init__(self, input_channels, num_classes, zero_init_residual=False, groups=1, width_per_group=64):\n",
    "        super(ResNet, self).__init__()\n",
    "        \n",
    "        norm_layer = nn.BatchNorm2d\n",
    "        self._norm_layer = norm_layer\n",
    "\n",
    "        self.inplanes = 64\n",
    "        self.dilation = 1\n",
    "\n",
    "        self.groups = groups\n",
    "        self.base_width = width_per_group\n",
    "\n",
    "        self.conv1 = nn.Conv2d(input_channels, self.inplanes, kernel_size=3, stride=1, padding=1, bias=False)\n",
    "        self.bn1 = norm_layer(self.inplanes)\n",
    "        self.relu = nn.ReLU(inplace=True)\n",
    "        self.blocks_layer = nn.Sequential(\n",
    "            self._make_layer(BasicBlock, 64, 2),\n",
    "            self._make_layer(BasicBlock, 128, 2, stride=2, dilate=False),\n",
    "            self._make_layer(BasicBlock, 256, 2, stride=2, dilate=False),\n",
    "            self._make_layer(BasicBlock, 512, 2, stride=2, dilate=False)\n",
    "        )\n",
    "        self.avgpool = nn.AdaptiveAvgPool2d((1, 1))\n",
    "        self.fc = nn.Linear(512 * BasicBlock.expansion, num_classes)\n",
    "\n",
    "        self._initialize_weights(zero_init_residual)\n",
    "\n",
    "    def _make_layer(self, block, planes, blocks, stride=1, dilate=False):\n",
    "        norm_layer = self._norm_layer\n",
    "        downsample = None\n",
    "        previous_dilation = self.dilation\n",
    "        if dilate:\n",
    "            self.dilation *= stride\n",
    "            stride = 1\n",
    "        if stride != 1 or self.inplanes != planes * block.expansion:\n",
    "            downsample = nn.Sequential(\n",
    "                nn.Conv2d(self.inplanes, planes * block.expansion, kernel_size=1, stride=stride, bias=False),\n",
    "                norm_layer(planes * block.expansion),\n",
    "            )\n",
    "\n",
    "        layers = []\n",
    "        layers.append(block(self.inplanes, planes, stride, downsample, self.groups, self.base_width, previous_dilation, norm_layer))\n",
    "        self.inplanes = planes * block.expansion\n",
    "        for _ in range(1, blocks):\n",
    "            layers.append(block(self.inplanes, planes, groups=self.groups, base_width=self.base_width, dilation=self.dilation, norm_layer=norm_layer))\n",
    "        return nn.Sequential(*layers)\n",
    "\n",
    "    def _initialize_weights(self, zero_init_residual):\n",
    "        for m in self.modules():\n",
    "            if isinstance(m, nn.Conv2d):\n",
    "                nn.init.kaiming_normal_(m.weight, mode='fan_out', nonlinearity='relu')\n",
    "            elif isinstance(m, (nn.BatchNorm2d, nn.GroupNorm)):\n",
    "                nn.init.constant_(m.weight, 1)\n",
    "                nn.init.constant_(m.bias, 0)\n",
    "\n",
    "        if zero_init_residual:\n",
    "            for m in self.modules():\n",
    "                if isinstance(m, BasicBlock):\n",
    "                    nn.init.constant_(m.bn2.weight, 0)\n",
    "\n",
    "    def forward(self, x):\n",
    "        x = self.conv1(x)\n",
    "        x = self.bn1(x)\n",
    "        x = self.relu(x)\n",
    "        x = self.blocks_layer(x)\n",
    "        x = self.avgpool(x)\n",
    "        x = torch.flatten(x, 1)\n",
    "        x = self.fc(x)\n",
    "        return x\n",
    "\n",
    "class BasicBlock(nn.Module):\n",
    "    expansion = 1\n",
    "\n",
    "    def __init__(self, inplanes, planes, stride=1, downsample=None, groups=1, base_width=64, dilation=1, norm_layer=None):\n",
    "        super(BasicBlock, self).__init__()\n",
    "        if norm_layer is None:\n",
    "            norm_layer = nn.BatchNorm2d\n",
    "        self.conv1 = nn.Conv2d(inplanes, planes, kernel_size=3, stride=stride, padding=1, bias=False)\n",
    "        self.bn1 = norm_layer(planes)\n",
    "        self.relu = nn.ReLU(inplace=True)\n",
    "        self.conv2 = nn.Conv2d(planes, planes, kernel_size=3, stride=1, padding=1, bias=False)\n",
    "        self.bn2 = norm_layer(planes)\n",
    "        self.downsample = downsample\n",
    "        self.stride = stride\n",
    "\n",
    "    def forward(self, x):\n",
    "        identity = x\n",
    "        out = self.conv1(x)\n",
    "        out = self.bn1(out)\n",
    "        out = self.relu(out)\n",
    "        out = self.conv2(out)\n",
    "        out = self.bn2(out)\n",
    "        if self.downsample is not None:\n",
    "            identity = self.downsample(x)\n",
    "        out += identity\n",
    "        out = self.relu(out)\n",
    "        return out"
   ]
  },
  {
   "cell_type": "markdown",
   "id": "d604b8cb",
   "metadata": {},
   "source": [
    "## Adjust the Trainer\n",
    "\n",
    "In terms of training, we defined a Cutout function that can randomly apply black patches to images for further data augmentation to improve the robustness of the model. In the training of the model, we adopt a strategy of setting the initial learning rate to 0.1. Whenever the validation set loss does not decrease after 10 epochs of training, the learning rate becomes the original 0.5, and a total of 250 epochs are trained."
   ]
  },
  {
   "cell_type": "code",
   "execution_count": 2,
   "id": "72854123",
   "metadata": {},
   "outputs": [],
   "source": [
    "import torch\n",
    "import torch.nn as nn\n",
    "import torch.optim as optim\n",
    "import torchvision\n",
    "import numpy as np\n",
    "import random\n",
    "from torch.cuda.amp import GradScaler, autocast\n",
    "from tqdm import tqdm\n",
    "import matplotlib.pyplot as plt\n",
    "import datetime\n",
    "\n",
    "\n",
    "class CIFARTrainer:\n",
    "    def __init__(self, model, batch_size, epoch, num_classes, seed=1234):\n",
    "        self.model = model\n",
    "        self.num_classes = num_classes\n",
    "        self.batch_size = batch_size\n",
    "        self.epoch = epoch\n",
    "        self.seed = seed\n",
    "        self.loss_f = nn.CrossEntropyLoss()\n",
    "\n",
    "        self.train_losses = []\n",
    "        self.val_losses = []\n",
    "        self.val_accuracies = []\n",
    "\n",
    "        \"\"\"load model, loss_fn and optimizer\"\"\"\n",
    "        if torch.cuda.is_available():\n",
    "            self.model = self.model.cuda()\n",
    "        if torch.cuda.is_available():\n",
    "            self.loss_f = self.loss_f.cuda()\n",
    "        self.scaler = GradScaler()\n",
    "\n",
    "        \"\"\"download and allocate data\"\"\"\n",
    "        self.ROOT = '.data'\n",
    "        if num_classes==10:\n",
    "            self.train_valid_data = torchvision.datasets.CIFAR10(root=self.ROOT, train=True, download=True)\n",
    "            self.test_data = torchvision.datasets.CIFAR10(root=self.ROOT, train=False, download=True)\n",
    "        elif num_classes==100:\n",
    "            self.train_valid_data = torchvision.datasets.CIFAR100(root=self.ROOT, train=True, download=True)\n",
    "            self.test_data = torchvision.datasets.CIFAR100(root=self.ROOT, train=False, download=True)\n",
    "            \n",
    "        self.VALID_RATE = 0.1\n",
    "        self.train_data, self.valid_data = torch.utils.data.random_split(self.train_valid_data,\n",
    "                                                               [int(len(self.train_valid_data) * (1 - self.VALID_RATE)),\n",
    "                                                                int(len(self.train_valid_data) * self.VALID_RATE)])\n",
    "\n",
    "\n",
    "        \"\"\"data augmentation\"\"\"\n",
    "        self.train_transforms = torchvision.transforms.Compose([\n",
    "            torchvision.transforms.RandomCrop(32, padding=4),\n",
    "            torchvision.transforms.RandomHorizontalFlip(),\n",
    "            torchvision.transforms.ToTensor(),\n",
    "            torchvision.transforms.Normalize(mean=[0.485, 0.456, 0.406],std=[0.229, 0.224, 0.225]),\n",
    "            Cutout(n_holes=2, length=16)\n",
    "        ])\n",
    "        self.test_transforms = torchvision.transforms.Compose([\n",
    "            torchvision.transforms.ToTensor(),\n",
    "            torchvision.transforms.Normalize(mean=[0.485, 0.456, 0.406],std=[0.229, 0.224, 0.225])\n",
    "        ])\n",
    "\n",
    "        self.train_data.dataset.transform = self.train_transforms\n",
    "        self.valid_data.dataset.transform = self.test_transforms\n",
    "        self.test_data.transform = self.test_transforms\n",
    "\n",
    "        \"\"\"load data\"\"\"\n",
    "        self.train_dataloader = torch.utils.data.DataLoader(self.train_data, shuffle=True, batch_size=self.batch_size)\n",
    "        self.valid_dataloader = torch.utils.data.DataLoader(self.valid_data, batch_size=self.batch_size)\n",
    "        self.test_dataloader = torch.utils.data.DataLoader(self.test_data, batch_size=self.batch_size)\n",
    "\n",
    "        \"\"\"set the seed\"\"\"\n",
    "        random.seed(self.seed)\n",
    "        np.random.seed(self.seed)\n",
    "        torch.manual_seed(self.seed)\n",
    "        torch.cuda.manual_seed(self.seed)\n",
    "        torch.backends.cudnn.deterministic = True\n",
    "\n",
    "    def train(self):\n",
    "        valid_loss_min = np.Inf\n",
    "        counter = 0\n",
    "        lr = 0.1\n",
    "        for epoch in range(self.epoch):\n",
    "            print('=' * 135)\n",
    "            print(datetime.datetime.now().strftime('%Y-%m-%d %H:%M:%S'))\n",
    "            print(f\"Epoch {epoch + 1} / {self.epoch}\")\n",
    "    \n",
    "            if counter/10 ==1:\n",
    "                counter = 0\n",
    "                lr = lr*0.5\n",
    "                print(f\"lr is updated to {lr}\")\n",
    "            optimizer_f = optim.SGD(self.model.parameters(), lr=lr, momentum=0.9, weight_decay=5e-4)\n",
    "            \n",
    "            self.model.train()\n",
    "            train_bar = tqdm(self.train_dataloader, desc=\"[Train]\", ncols=90)\n",
    "            train_losses = []\n",
    "            for inputs, targets in train_bar:\n",
    "                if torch.cuda.is_available():\n",
    "                    inputs, targets = inputs.cuda(), targets.cuda()\n",
    "                optimizer_f.zero_grad()\n",
    "                with autocast(enabled=torch.cuda.is_available()):\n",
    "                    outputs = self.model(inputs)\n",
    "                    loss = self.loss_f(outputs, targets)\n",
    "                    \n",
    "                self.scaler.scale(loss).backward()\n",
    "                self.scaler.step(optimizer_f)\n",
    "                self.scaler.update()\n",
    "                train_losses.append(loss.item())\n",
    "                train_bar.set_postfix(train_loss=sum(train_losses) / len(train_bar))\n",
    "            train_bar.close()\n",
    "            self.train_losses.append(sum(train_losses) / len(train_bar))\n",
    "\n",
    "            self.model.eval()\n",
    "            valid_loss = 0\n",
    "            valid_accuracy = 0\n",
    "            valid_samples = 0\n",
    "            valid_bar = tqdm(self.valid_dataloader, desc=\"[Valid]\", ncols=100)\n",
    "            with torch.no_grad():\n",
    "                for inputs, targets in valid_bar:\n",
    "                    if torch.cuda.is_available():\n",
    "                        inputs, targets = inputs.cuda(), targets.cuda()\n",
    "                    outputs = self.model(inputs)\n",
    "                    loss = self.loss_f(outputs, targets)\n",
    "\n",
    "                    valid_loss += loss.item()\n",
    "                    pred = outputs.argmax(1)\n",
    "                    correct = (pred == targets).sum().item()\n",
    "                    valid_accuracy += correct\n",
    "                    valid_samples += targets.size(0)\n",
    "                    val_loss = valid_loss / valid_samples\n",
    "                    val_acc = valid_accuracy / valid_samples\n",
    "                    valid_bar.set_postfix(val_loss=val_loss, val_acc=val_acc * 100)\n",
    "                    \n",
    "            valid_bar.close()\n",
    "            self.val_losses.append(val_loss)\n",
    "            self.val_accuracies.append(val_acc)\n",
    "            \n",
    "            if val_loss <= valid_loss_min:\n",
    "                print('Validation loss decreased ({:.6f} --> {:.6f}).  Saving model ...'.format(valid_loss_min,val_loss))\n",
    "                if self.num_classes==10:\n",
    "                    torch.save(model.state_dict(), './.ipynb_checkpoints/resnet18_cifar10.pt')\n",
    "                elif self.num_classes==100:\n",
    "                    torch.save(model.state_dict(), './.ipynb_checkpoints/resnet18_cifar100.pt')\n",
    "                valid_loss_min = val_loss\n",
    "                counter = 0\n",
    "            else:\n",
    "                counter += 1\n",
    "\n",
    "        self.plot_training()\n",
    "\n",
    "    def plot_training(self):\n",
    "        plt.figure(figsize=(10, 5))\n",
    "        plt.plot(range(1, self.epoch + 1), self.train_losses, label='Train Loss')\n",
    "        plt.plot(range(1, self.epoch + 1), self.val_losses, label='Val Loss')\n",
    "        plt.plot(range(1, self.epoch + 1), self.val_accuracies, label='Val Accuracy')\n",
    "        plt.xlabel('Epoch')\n",
    "        plt.ylabel('Metrics')\n",
    "        plt.title('Training Progress')\n",
    "        plt.legend()\n",
    "        plt.show()\n",
    "\n",
    "    def test(self):\n",
    "        if self.num_classes==10:\n",
    "            torch.save(model.state_dict(), './.ipynb_checkpoints/resnet18_cifar10.pt')\n",
    "        elif self.num_classes==100:\n",
    "            torch.save(model.state_dict(), './.ipynb_checkpoints/resnet18_cifar100.pt')\n",
    "        self.model.eval()\n",
    "        total_test_loss = 0\n",
    "        total_test_accuracy = 0\n",
    "        num_samples = 0\n",
    "        test_bar = tqdm(self.test_dataloader, desc=\"Testing [Test]\")\n",
    "        with torch.no_grad():\n",
    "            for inputs, targets in test_bar:\n",
    "                if torch.cuda.is_available():\n",
    "                    inputs = inputs.cuda()\n",
    "                    targets = targets.cuda()\n",
    "                outputs = self.model(inputs)\n",
    "                loss = self.loss_f(outputs, targets)\n",
    "\n",
    "                total_test_loss += loss.item()\n",
    "                accuracy = (outputs.argmax(1) == targets).sum().item()\n",
    "                total_test_accuracy += accuracy\n",
    "                num_samples += len(inputs)\n",
    "                test_bar.set_postfix(test_loss=total_test_loss / num_samples,\n",
    "                                     test_acc=total_test_accuracy / num_samples * 100)\n",
    "                test_bar.update()\n",
    "        test_bar.close()\n",
    "    \n",
    "    \n",
    "class Cutout(object):\n",
    "    \"\"\"\n",
    "    Args:\n",
    "        n_holes (int): Number of patches to cut out of each image.\n",
    "        length (int): The length (in pixels) of each square patch.\n",
    "    \"\"\"\n",
    "    def __init__(self, n_holes, length):\n",
    "        self.n_holes = n_holes\n",
    "        self.length = length\n",
    "\n",
    "    def __call__(self, img):\n",
    "        h = img.size(1)\n",
    "        w = img.size(2)\n",
    "\n",
    "        mask = np.ones((h, w), np.float32)\n",
    "\n",
    "        for n in range(self.n_holes):\n",
    "            y = np.random.randint(h)\n",
    "            x = np.random.randint(w)\n",
    "\n",
    "            y1 = np.clip(y - self.length // 2, 0, h)\n",
    "            y2 = np.clip(y + self.length // 2, 0, h)\n",
    "            x1 = np.clip(x - self.length // 2, 0, w)\n",
    "            x2 = np.clip(x + self.length // 2, 0, w)\n",
    "\n",
    "            mask[y1: y2, x1: x2] = 0.\n",
    "\n",
    "        mask = torch.from_numpy(mask)\n",
    "        mask = mask.expand_as(img)\n",
    "        img = img * mask\n",
    "\n",
    "        return img"
   ]
  },
  {
   "cell_type": "markdown",
   "id": "d5d6759e",
   "metadata": {},
   "source": [
    "## Start Training"
   ]
  },
  {
   "cell_type": "markdown",
   "id": "a91e3bcd-4874-4a1f-b431-b4bb9fe62660",
   "metadata": {},
   "source": [
    "In my personal experiment, I set the epoch to 250. But in reality, I found that after reaching epoch 100, the model's valid loss tends to stabilize and is difficult to further reduce (both CIFAR10 and CIFAR100). So here, in order to save time and computing resources, you can modify the epoch to 100."
   ]
  },
  {
   "cell_type": "code",
   "execution_count": 3,
   "id": "973a8ccb",
   "metadata": {
    "scrolled": true
   },
   "outputs": [
    {
     "name": "stdout",
     "output_type": "stream",
     "text": [
      "Files already downloaded and verified\n",
      "Files already downloaded and verified\n",
      "=======================================================================================================================================\n",
      "2024-05-23 00:38:05\n",
      "Epoch 1 / 250\n"
     ]
    },
    {
     "name": "stderr",
     "output_type": "stream",
     "text": [
      "[Train]: 100%|█████████████████████████| 352/352 [00:35<00:00,  9.88it/s, train_loss=1.88]\n",
      "[Valid]: 100%|███████████████████████| 40/40 [00:02<00:00, 15.34it/s, val_acc=45.5, val_loss=0.0119]\n"
     ]
    },
    {
     "name": "stdout",
     "output_type": "stream",
     "text": [
      "Validation loss decreased (inf --> 0.011865).  Saving model ...\n",
      "=======================================================================================================================================\n",
      "2024-05-23 00:38:43\n",
      "Epoch 2 / 250\n"
     ]
    },
    {
     "name": "stderr",
     "output_type": "stream",
     "text": [
      "[Train]: 100%|██████████████████████████| 352/352 [00:37<00:00,  9.37it/s, train_loss=1.3]\n",
      "[Valid]: 100%|██████████████████████| 40/40 [00:02<00:00, 15.34it/s, val_acc=58.7, val_loss=0.00915]\n"
     ]
    },
    {
     "name": "stdout",
     "output_type": "stream",
     "text": [
      "Validation loss decreased (0.011865 --> 0.009150).  Saving model ...\n",
      "=======================================================================================================================================\n",
      "2024-05-23 00:39:23\n",
      "Epoch 3 / 250\n"
     ]
    },
    {
     "name": "stderr",
     "output_type": "stream",
     "text": [
      "[Train]: 100%|████████████████████████| 352/352 [00:41<00:00,  8.53it/s, train_loss=0.989]\n",
      "[Valid]: 100%|███████████████████████| 40/40 [00:02<00:00, 14.49it/s, val_acc=64.7, val_loss=0.0078]\n"
     ]
    },
    {
     "name": "stdout",
     "output_type": "stream",
     "text": [
      "Validation loss decreased (0.009150 --> 0.007805).  Saving model ...\n",
      "=======================================================================================================================================\n",
      "2024-05-23 00:40:07\n",
      "Epoch 4 / 250\n"
     ]
    },
    {
     "name": "stderr",
     "output_type": "stream",
     "text": [
      "[Train]: 100%|████████████████████████| 352/352 [00:43<00:00,  8.09it/s, train_loss=0.759]\n",
      "[Valid]: 100%|██████████████████████| 40/40 [00:02<00:00, 14.15it/s, val_acc=70.6, val_loss=0.00698]\n"
     ]
    },
    {
     "name": "stdout",
     "output_type": "stream",
     "text": [
      "Validation loss decreased (0.007805 --> 0.006976).  Saving model ...\n",
      "=======================================================================================================================================\n",
      "2024-05-23 00:40:54\n",
      "Epoch 5 / 250\n"
     ]
    },
    {
     "name": "stderr",
     "output_type": "stream",
     "text": [
      "[Train]: 100%|████████████████████████| 352/352 [00:44<00:00,  7.90it/s, train_loss=0.599]\n",
      "[Valid]: 100%|███████████████████████| 40/40 [00:02<00:00, 13.76it/s, val_acc=76.9, val_loss=0.0053]\n"
     ]
    },
    {
     "name": "stdout",
     "output_type": "stream",
     "text": [
      "Validation loss decreased (0.006976 --> 0.005297).  Saving model ...\n",
      "=======================================================================================================================================\n",
      "2024-05-23 00:41:41\n",
      "Epoch 6 / 250\n"
     ]
    },
    {
     "name": "stderr",
     "output_type": "stream",
     "text": [
      "[Train]: 100%|████████████████████████| 352/352 [00:44<00:00,  7.86it/s, train_loss=0.499]\n",
      "[Valid]: 100%|██████████████████████| 40/40 [00:02<00:00, 14.27it/s, val_acc=74.1, val_loss=0.00612]\n"
     ]
    },
    {
     "name": "stdout",
     "output_type": "stream",
     "text": [
      "=======================================================================================================================================\n",
      "2024-05-23 00:42:29\n",
      "Epoch 7 / 250\n"
     ]
    },
    {
     "name": "stderr",
     "output_type": "stream",
     "text": [
      "[Train]: 100%|████████████████████████| 352/352 [00:43<00:00,  8.08it/s, train_loss=0.427]\n",
      "[Valid]: 100%|█████████████████████████| 40/40 [00:02<00:00, 14.09it/s, val_acc=78, val_loss=0.0052]\n"
     ]
    },
    {
     "name": "stdout",
     "output_type": "stream",
     "text": [
      "Validation loss decreased (0.005297 --> 0.005198).  Saving model ...\n",
      "=======================================================================================================================================\n",
      "2024-05-23 00:43:15\n",
      "Epoch 8 / 250\n"
     ]
    },
    {
     "name": "stderr",
     "output_type": "stream",
     "text": [
      "[Train]: 100%|████████████████████████| 352/352 [00:43<00:00,  8.15it/s, train_loss=0.366]\n",
      "[Valid]: 100%|████████████████████████| 40/40 [00:03<00:00, 13.25it/s, val_acc=76, val_loss=0.00587]\n"
     ]
    },
    {
     "name": "stdout",
     "output_type": "stream",
     "text": [
      "=======================================================================================================================================\n",
      "2024-05-23 00:44:02\n",
      "Epoch 9 / 250\n"
     ]
    },
    {
     "name": "stderr",
     "output_type": "stream",
     "text": [
      "[Train]: 100%|████████████████████████| 352/352 [00:43<00:00,  8.04it/s, train_loss=0.327]\n",
      "[Valid]: 100%|██████████████████████| 40/40 [00:02<00:00, 14.23it/s, val_acc=76.5, val_loss=0.00594]\n"
     ]
    },
    {
     "name": "stdout",
     "output_type": "stream",
     "text": [
      "=======================================================================================================================================\n",
      "2024-05-23 00:44:48\n",
      "Epoch 10 / 250\n"
     ]
    },
    {
     "name": "stderr",
     "output_type": "stream",
     "text": [
      "[Train]: 100%|████████████████████████| 352/352 [00:41<00:00,  8.44it/s, train_loss=0.305]\n",
      "[Valid]: 100%|██████████████████████| 40/40 [00:02<00:00, 14.25it/s, val_acc=77.4, val_loss=0.00569]\n"
     ]
    },
    {
     "name": "stdout",
     "output_type": "stream",
     "text": [
      "=======================================================================================================================================\n",
      "2024-05-23 00:45:33\n",
      "Epoch 11 / 250\n"
     ]
    },
    {
     "name": "stderr",
     "output_type": "stream",
     "text": [
      "[Train]: 100%|████████████████████████| 352/352 [00:41<00:00,  8.47it/s, train_loss=0.268]\n",
      "[Valid]: 100%|██████████████████████| 40/40 [00:02<00:00, 14.28it/s, val_acc=76.9, val_loss=0.00586]\n"
     ]
    },
    {
     "name": "stdout",
     "output_type": "stream",
     "text": [
      "=======================================================================================================================================\n",
      "2024-05-23 00:46:17\n",
      "Epoch 12 / 250\n"
     ]
    },
    {
     "name": "stderr",
     "output_type": "stream",
     "text": [
      "[Train]: 100%|████████████████████████| 352/352 [00:41<00:00,  8.43it/s, train_loss=0.258]\n",
      "[Valid]: 100%|██████████████████████| 40/40 [00:02<00:00, 14.56it/s, val_acc=76.1, val_loss=0.00625]\n"
     ]
    },
    {
     "name": "stdout",
     "output_type": "stream",
     "text": [
      "=======================================================================================================================================\n",
      "2024-05-23 00:47:02\n",
      "Epoch 13 / 250\n"
     ]
    },
    {
     "name": "stderr",
     "output_type": "stream",
     "text": [
      "[Train]: 100%|████████████████████████| 352/352 [00:41<00:00,  8.52it/s, train_loss=0.233]\n",
      "[Valid]: 100%|██████████████████████| 40/40 [00:02<00:00, 14.77it/s, val_acc=75.8, val_loss=0.00642]\n"
     ]
    },
    {
     "name": "stdout",
     "output_type": "stream",
     "text": [
      "=======================================================================================================================================\n",
      "2024-05-23 00:47:46\n",
      "Epoch 14 / 250\n"
     ]
    },
    {
     "name": "stderr",
     "output_type": "stream",
     "text": [
      "[Train]: 100%|████████████████████████| 352/352 [00:41<00:00,  8.58it/s, train_loss=0.229]\n",
      "[Valid]: 100%|██████████████████████| 40/40 [00:03<00:00, 13.03it/s, val_acc=77.8, val_loss=0.00563]\n"
     ]
    },
    {
     "name": "stdout",
     "output_type": "stream",
     "text": [
      "=======================================================================================================================================\n",
      "2024-05-23 00:48:30\n",
      "Epoch 15 / 250\n"
     ]
    },
    {
     "name": "stderr",
     "output_type": "stream",
     "text": [
      "[Train]: 100%|█████████████████████████| 352/352 [00:44<00:00,  7.87it/s, train_loss=0.22]\n",
      "[Valid]: 100%|██████████████████████| 40/40 [00:02<00:00, 14.61it/s, val_acc=77.5, val_loss=0.00596]\n"
     ]
    },
    {
     "name": "stdout",
     "output_type": "stream",
     "text": [
      "=======================================================================================================================================\n",
      "2024-05-23 00:49:17\n",
      "Epoch 16 / 250\n"
     ]
    },
    {
     "name": "stderr",
     "output_type": "stream",
     "text": [
      "[Train]: 100%|████████████████████████| 352/352 [00:46<00:00,  7.52it/s, train_loss=0.213]\n",
      "[Valid]: 100%|████████████████████████| 40/40 [00:02<00:00, 14.84it/s, val_acc=78, val_loss=0.00609]\n"
     ]
    },
    {
     "name": "stdout",
     "output_type": "stream",
     "text": [
      "=======================================================================================================================================\n",
      "2024-05-23 00:50:07\n",
      "Epoch 17 / 250\n"
     ]
    },
    {
     "name": "stderr",
     "output_type": "stream",
     "text": [
      "[Train]: 100%|████████████████████████| 352/352 [00:46<00:00,  7.63it/s, train_loss=0.198]\n",
      "[Valid]: 100%|████████████████████████| 40/40 [00:02<00:00, 13.95it/s, val_acc=78, val_loss=0.00541]\n"
     ]
    },
    {
     "name": "stdout",
     "output_type": "stream",
     "text": [
      "=======================================================================================================================================\n",
      "2024-05-23 00:50:56\n",
      "Epoch 18 / 250\n",
      "lr is updated to 0.05\n"
     ]
    },
    {
     "name": "stderr",
     "output_type": "stream",
     "text": [
      "[Train]: 100%|███████████████████████| 352/352 [00:43<00:00,  8.15it/s, train_loss=0.0518]\n",
      "[Valid]: 100%|██████████████████████| 40/40 [00:02<00:00, 14.18it/s, val_acc=85.1, val_loss=0.00418]\n"
     ]
    },
    {
     "name": "stdout",
     "output_type": "stream",
     "text": [
      "Validation loss decreased (0.005198 --> 0.004175).  Saving model ...\n",
      "=======================================================================================================================================\n",
      "2024-05-23 00:51:42\n",
      "Epoch 19 / 250\n"
     ]
    },
    {
     "name": "stderr",
     "output_type": "stream",
     "text": [
      "[Train]: 100%|██████████████████████| 352/352 [00:43<00:00,  8.10it/s, train_loss=0.00966]\n",
      "[Valid]: 100%|██████████████████████| 40/40 [00:02<00:00, 13.97it/s, val_acc=86.7, val_loss=0.00374]\n"
     ]
    },
    {
     "name": "stdout",
     "output_type": "stream",
     "text": [
      "Validation loss decreased (0.004175 --> 0.003742).  Saving model ...\n",
      "=======================================================================================================================================\n",
      "2024-05-23 00:52:28\n",
      "Epoch 20 / 250\n"
     ]
    },
    {
     "name": "stderr",
     "output_type": "stream",
     "text": [
      "[Train]: 100%|██████████████████████| 352/352 [00:44<00:00,  8.00it/s, train_loss=0.00353]\n",
      "[Valid]: 100%|██████████████████████| 40/40 [00:02<00:00, 13.68it/s, val_acc=87.1, val_loss=0.00373]\n"
     ]
    },
    {
     "name": "stdout",
     "output_type": "stream",
     "text": [
      "Validation loss decreased (0.003742 --> 0.003725).  Saving model ...\n",
      "=======================================================================================================================================\n",
      "2024-05-23 00:53:15\n",
      "Epoch 21 / 250\n"
     ]
    },
    {
     "name": "stderr",
     "output_type": "stream",
     "text": [
      "[Train]: 100%|██████████████████████| 352/352 [00:44<00:00,  7.85it/s, train_loss=0.00255]\n",
      "[Valid]: 100%|██████████████████████| 40/40 [00:02<00:00, 14.16it/s, val_acc=87.8, val_loss=0.00347]\n"
     ]
    },
    {
     "name": "stdout",
     "output_type": "stream",
     "text": [
      "Validation loss decreased (0.003725 --> 0.003467).  Saving model ...\n",
      "=======================================================================================================================================\n",
      "2024-05-23 00:54:03\n",
      "Epoch 22 / 250\n"
     ]
    },
    {
     "name": "stderr",
     "output_type": "stream",
     "text": [
      "[Train]: 100%|██████████████████████| 352/352 [00:43<00:00,  8.10it/s, train_loss=0.00246]\n",
      "[Valid]: 100%|██████████████████████| 40/40 [00:02<00:00, 14.71it/s, val_acc=87.9, val_loss=0.00339]\n"
     ]
    },
    {
     "name": "stdout",
     "output_type": "stream",
     "text": [
      "Validation loss decreased (0.003467 --> 0.003392).  Saving model ...\n",
      "=======================================================================================================================================\n",
      "2024-05-23 00:54:49\n",
      "Epoch 23 / 250\n"
     ]
    },
    {
     "name": "stderr",
     "output_type": "stream",
     "text": [
      "[Train]: 100%|██████████████████████| 352/352 [00:41<00:00,  8.38it/s, train_loss=0.00243]\n",
      "[Valid]: 100%|██████████████████████| 40/40 [00:02<00:00, 14.55it/s, val_acc=87.9, val_loss=0.00333]\n"
     ]
    },
    {
     "name": "stdout",
     "output_type": "stream",
     "text": [
      "Validation loss decreased (0.003392 --> 0.003330).  Saving model ...\n",
      "=======================================================================================================================================\n",
      "2024-05-23 00:55:34\n",
      "Epoch 24 / 250\n"
     ]
    },
    {
     "name": "stderr",
     "output_type": "stream",
     "text": [
      "[Train]: 100%|██████████████████████| 352/352 [00:41<00:00,  8.52it/s, train_loss=0.00234]\n",
      "[Valid]: 100%|██████████████████████| 40/40 [00:02<00:00, 14.50it/s, val_acc=88.1, val_loss=0.00328]\n"
     ]
    },
    {
     "name": "stdout",
     "output_type": "stream",
     "text": [
      "Validation loss decreased (0.003330 --> 0.003281).  Saving model ...\n",
      "=======================================================================================================================================\n",
      "2024-05-23 00:56:18\n",
      "Epoch 25 / 250\n"
     ]
    },
    {
     "name": "stderr",
     "output_type": "stream",
     "text": [
      "[Train]: 100%|██████████████████████| 352/352 [00:41<00:00,  8.38it/s, train_loss=0.00233]\n",
      "[Valid]: 100%|██████████████████████| 40/40 [00:02<00:00, 14.73it/s, val_acc=88.1, val_loss=0.00327]\n"
     ]
    },
    {
     "name": "stdout",
     "output_type": "stream",
     "text": [
      "Validation loss decreased (0.003281 --> 0.003268).  Saving model ...\n",
      "=======================================================================================================================================\n",
      "2024-05-23 00:57:03\n",
      "Epoch 26 / 250\n"
     ]
    },
    {
     "name": "stderr",
     "output_type": "stream",
     "text": [
      "[Train]: 100%|███████████████████████| 352/352 [00:40<00:00,  8.80it/s, train_loss=0.0022]\n",
      "[Valid]: 100%|████████████████████████| 40/40 [00:02<00:00, 14.71it/s, val_acc=88, val_loss=0.00325]\n"
     ]
    },
    {
     "name": "stdout",
     "output_type": "stream",
     "text": [
      "Validation loss decreased (0.003268 --> 0.003249).  Saving model ...\n",
      "=======================================================================================================================================\n",
      "2024-05-23 00:57:46\n",
      "Epoch 27 / 250\n"
     ]
    },
    {
     "name": "stderr",
     "output_type": "stream",
     "text": [
      "[Train]: 100%|██████████████████████| 352/352 [00:40<00:00,  8.69it/s, train_loss=0.00218]\n",
      "[Valid]: 100%|██████████████████████| 40/40 [00:02<00:00, 14.68it/s, val_acc=88.1, val_loss=0.00325]\n"
     ]
    },
    {
     "name": "stdout",
     "output_type": "stream",
     "text": [
      "Validation loss decreased (0.003249 --> 0.003246).  Saving model ...\n",
      "=======================================================================================================================================\n",
      "2024-05-23 00:58:29\n",
      "Epoch 28 / 250\n"
     ]
    },
    {
     "name": "stderr",
     "output_type": "stream",
     "text": [
      "[Train]: 100%|██████████████████████| 352/352 [00:41<00:00,  8.55it/s, train_loss=0.00204]\n",
      "[Valid]: 100%|██████████████████████| 40/40 [00:02<00:00, 14.78it/s, val_acc=87.8, val_loss=0.00327]\n"
     ]
    },
    {
     "name": "stdout",
     "output_type": "stream",
     "text": [
      "=======================================================================================================================================\n",
      "2024-05-23 00:59:13\n",
      "Epoch 29 / 250\n"
     ]
    },
    {
     "name": "stderr",
     "output_type": "stream",
     "text": [
      "[Train]: 100%|██████████████████████| 352/352 [00:42<00:00,  8.24it/s, train_loss=0.00213]\n",
      "[Valid]: 100%|████████████████████████| 40/40 [00:02<00:00, 14.81it/s, val_acc=88, val_loss=0.00337]\n"
     ]
    },
    {
     "name": "stdout",
     "output_type": "stream",
     "text": [
      "=======================================================================================================================================\n",
      "2024-05-23 00:59:58\n",
      "Epoch 30 / 250\n"
     ]
    },
    {
     "name": "stderr",
     "output_type": "stream",
     "text": [
      "[Train]: 100%|████████████████████████| 352/352 [00:40<00:00,  8.62it/s, train_loss=0.422]\n",
      "[Valid]: 100%|██████████████████████| 40/40 [00:02<00:00, 14.17it/s, val_acc=76.8, val_loss=0.00574]\n"
     ]
    },
    {
     "name": "stdout",
     "output_type": "stream",
     "text": [
      "=======================================================================================================================================\n",
      "2024-05-23 01:00:42\n",
      "Epoch 31 / 250\n"
     ]
    },
    {
     "name": "stderr",
     "output_type": "stream",
     "text": [
      "[Train]: 100%|████████████████████████| 352/352 [00:42<00:00,  8.28it/s, train_loss=0.376]\n",
      "[Valid]: 100%|████████████████████████| 40/40 [00:02<00:00, 14.63it/s, val_acc=81, val_loss=0.00466]\n"
     ]
    },
    {
     "name": "stdout",
     "output_type": "stream",
     "text": [
      "=======================================================================================================================================\n",
      "2024-05-23 01:01:27\n",
      "Epoch 32 / 250\n"
     ]
    },
    {
     "name": "stderr",
     "output_type": "stream",
     "text": [
      "[Train]: 100%|████████████████████████| 352/352 [00:42<00:00,  8.29it/s, train_loss=0.233]\n",
      "[Valid]: 100%|██████████████████████| 40/40 [00:02<00:00, 14.62it/s, val_acc=79.7, val_loss=0.00534]\n"
     ]
    },
    {
     "name": "stdout",
     "output_type": "stream",
     "text": [
      "=======================================================================================================================================\n",
      "2024-05-23 01:02:13\n",
      "Epoch 33 / 250\n"
     ]
    },
    {
     "name": "stderr",
     "output_type": "stream",
     "text": [
      "[Train]: 100%|████████████████████████| 352/352 [00:42<00:00,  8.21it/s, train_loss=0.176]\n",
      "[Valid]: 100%|██████████████████████| 40/40 [00:02<00:00, 15.41it/s, val_acc=79.9, val_loss=0.00559]\n"
     ]
    },
    {
     "name": "stdout",
     "output_type": "stream",
     "text": [
      "=======================================================================================================================================\n",
      "2024-05-23 01:02:58\n",
      "Epoch 34 / 250\n"
     ]
    },
    {
     "name": "stderr",
     "output_type": "stream",
     "text": [
      "[Train]: 100%|████████████████████████| 352/352 [00:41<00:00,  8.41it/s, train_loss=0.129]\n",
      "[Valid]: 100%|██████████████████████| 40/40 [00:02<00:00, 14.33it/s, val_acc=79.4, val_loss=0.00576]\n"
     ]
    },
    {
     "name": "stdout",
     "output_type": "stream",
     "text": [
      "=======================================================================================================================================\n",
      "2024-05-23 01:03:43\n",
      "Epoch 35 / 250\n"
     ]
    },
    {
     "name": "stderr",
     "output_type": "stream",
     "text": [
      "[Train]: 100%|█████████████████████████| 352/352 [00:42<00:00,  8.28it/s, train_loss=0.11]\n",
      "[Valid]: 100%|███████████████████████| 40/40 [00:02<00:00, 14.72it/s, val_acc=81.6, val_loss=0.0053]\n"
     ]
    },
    {
     "name": "stdout",
     "output_type": "stream",
     "text": [
      "=======================================================================================================================================\n",
      "2024-05-23 01:04:28\n",
      "Epoch 36 / 250\n"
     ]
    },
    {
     "name": "stderr",
     "output_type": "stream",
     "text": [
      "[Train]: 100%|███████████████████████| 352/352 [00:40<00:00,  8.61it/s, train_loss=0.0994]\n",
      "[Valid]: 100%|██████████████████████| 40/40 [00:02<00:00, 14.58it/s, val_acc=75.6, val_loss=0.00758]\n"
     ]
    },
    {
     "name": "stdout",
     "output_type": "stream",
     "text": [
      "=======================================================================================================================================\n",
      "2024-05-23 01:05:12\n",
      "Epoch 37 / 250\n"
     ]
    },
    {
     "name": "stderr",
     "output_type": "stream",
     "text": [
      "[Train]: 100%|███████████████████████| 352/352 [00:40<00:00,  8.60it/s, train_loss=0.0925]\n",
      "[Valid]: 100%|██████████████████████| 40/40 [00:02<00:00, 14.87it/s, val_acc=79.8, val_loss=0.00624]\n"
     ]
    },
    {
     "name": "stdout",
     "output_type": "stream",
     "text": [
      "=======================================================================================================================================\n",
      "2024-05-23 01:05:55\n",
      "Epoch 38 / 250\n",
      "lr is updated to 0.025\n"
     ]
    },
    {
     "name": "stderr",
     "output_type": "stream",
     "text": [
      "[Train]: 100%|████████████████████████| 352/352 [00:41<00:00,  8.55it/s, train_loss=0.023]\n",
      "[Valid]: 100%|██████████████████████| 40/40 [00:02<00:00, 14.83it/s, val_acc=86.9, val_loss=0.00384]\n"
     ]
    },
    {
     "name": "stdout",
     "output_type": "stream",
     "text": [
      "=======================================================================================================================================\n",
      "2024-05-23 01:06:39\n",
      "Epoch 39 / 250\n"
     ]
    },
    {
     "name": "stderr",
     "output_type": "stream",
     "text": [
      "[Train]: 100%|██████████████████████| 352/352 [00:43<00:00,  8.14it/s, train_loss=0.00425]\n",
      "[Valid]: 100%|██████████████████████| 40/40 [00:02<00:00, 14.69it/s, val_acc=87.5, val_loss=0.00366]\n"
     ]
    },
    {
     "name": "stdout",
     "output_type": "stream",
     "text": [
      "=======================================================================================================================================\n",
      "2024-05-23 01:07:25\n",
      "Epoch 40 / 250\n"
     ]
    },
    {
     "name": "stderr",
     "output_type": "stream",
     "text": [
      "[Train]: 100%|██████████████████████| 352/352 [00:41<00:00,  8.57it/s, train_loss=0.00228]\n",
      "[Valid]: 100%|██████████████████████| 40/40 [00:02<00:00, 14.46it/s, val_acc=87.7, val_loss=0.00353]\n"
     ]
    },
    {
     "name": "stdout",
     "output_type": "stream",
     "text": [
      "=======================================================================================================================================\n",
      "2024-05-23 01:08:09\n",
      "Epoch 41 / 250\n"
     ]
    },
    {
     "name": "stderr",
     "output_type": "stream",
     "text": [
      "[Train]: 100%|████████████████████████| 352/352 [00:41<00:00,  8.39it/s, train_loss=0.002]\n",
      "[Valid]: 100%|██████████████████████| 40/40 [00:02<00:00, 14.57it/s, val_acc=87.6, val_loss=0.00346]\n"
     ]
    },
    {
     "name": "stdout",
     "output_type": "stream",
     "text": [
      "=======================================================================================================================================\n",
      "2024-05-23 01:08:54\n",
      "Epoch 42 / 250\n"
     ]
    },
    {
     "name": "stderr",
     "output_type": "stream",
     "text": [
      "[Train]: 100%|██████████████████████| 352/352 [00:41<00:00,  8.43it/s, train_loss=0.00196]\n",
      "[Valid]: 100%|███████████████████████| 40/40 [00:02<00:00, 14.50it/s, val_acc=87.7, val_loss=0.0034]\n"
     ]
    },
    {
     "name": "stdout",
     "output_type": "stream",
     "text": [
      "=======================================================================================================================================\n",
      "2024-05-23 01:09:38\n",
      "Epoch 43 / 250\n"
     ]
    },
    {
     "name": "stderr",
     "output_type": "stream",
     "text": [
      "[Train]: 100%|██████████████████████| 352/352 [00:41<00:00,  8.48it/s, train_loss=0.00203]\n",
      "[Valid]: 100%|████████████████████████| 40/40 [00:02<00:00, 14.37it/s, val_acc=88, val_loss=0.00335]\n"
     ]
    },
    {
     "name": "stdout",
     "output_type": "stream",
     "text": [
      "=======================================================================================================================================\n",
      "2024-05-23 01:10:22\n",
      "Epoch 44 / 250\n"
     ]
    },
    {
     "name": "stderr",
     "output_type": "stream",
     "text": [
      "[Train]: 100%|██████████████████████| 352/352 [00:41<00:00,  8.49it/s, train_loss=0.00209]\n",
      "[Valid]: 100%|███████████████████████| 40/40 [00:02<00:00, 14.28it/s, val_acc=88.1, val_loss=0.0033]\n"
     ]
    },
    {
     "name": "stdout",
     "output_type": "stream",
     "text": [
      "=======================================================================================================================================\n",
      "2024-05-23 01:11:07\n",
      "Epoch 45 / 250\n"
     ]
    },
    {
     "name": "stderr",
     "output_type": "stream",
     "text": [
      "[Train]: 100%|██████████████████████| 352/352 [00:41<00:00,  8.46it/s, train_loss=0.00208]\n",
      "[Valid]: 100%|██████████████████████| 40/40 [00:02<00:00, 14.51it/s, val_acc=88.2, val_loss=0.00329]\n"
     ]
    },
    {
     "name": "stdout",
     "output_type": "stream",
     "text": [
      "=======================================================================================================================================\n",
      "2024-05-23 01:11:51\n",
      "Epoch 46 / 250\n"
     ]
    },
    {
     "name": "stderr",
     "output_type": "stream",
     "text": [
      "[Train]: 100%|██████████████████████| 352/352 [00:43<00:00,  8.12it/s, train_loss=0.00207]\n",
      "[Valid]: 100%|██████████████████████| 40/40 [00:02<00:00, 13.90it/s, val_acc=88.1, val_loss=0.00326]\n"
     ]
    },
    {
     "name": "stdout",
     "output_type": "stream",
     "text": [
      "=======================================================================================================================================\n",
      "2024-05-23 01:12:37\n",
      "Epoch 47 / 250\n"
     ]
    },
    {
     "name": "stderr",
     "output_type": "stream",
     "text": [
      "[Train]: 100%|██████████████████████| 352/352 [00:41<00:00,  8.55it/s, train_loss=0.00213]\n",
      "[Valid]: 100%|██████████████████████| 40/40 [00:02<00:00, 14.78it/s, val_acc=88.1, val_loss=0.00324]\n"
     ]
    },
    {
     "name": "stdout",
     "output_type": "stream",
     "text": [
      "Validation loss decreased (0.003246 --> 0.003235).  Saving model ...\n",
      "=======================================================================================================================================\n",
      "2024-05-23 01:13:21\n",
      "Epoch 48 / 250\n"
     ]
    },
    {
     "name": "stderr",
     "output_type": "stream",
     "text": [
      "[Train]: 100%|██████████████████████| 352/352 [00:42<00:00,  8.19it/s, train_loss=0.00211]\n",
      "[Valid]: 100%|██████████████████████| 40/40 [00:02<00:00, 14.02it/s, val_acc=88.2, val_loss=0.00322]\n"
     ]
    },
    {
     "name": "stdout",
     "output_type": "stream",
     "text": [
      "Validation loss decreased (0.003235 --> 0.003222).  Saving model ...\n",
      "=======================================================================================================================================\n",
      "2024-05-23 01:14:07\n",
      "Epoch 49 / 250\n"
     ]
    },
    {
     "name": "stderr",
     "output_type": "stream",
     "text": [
      "[Train]: 100%|███████████████████████| 352/352 [00:42<00:00,  8.31it/s, train_loss=0.0021]\n",
      "[Valid]: 100%|██████████████████████| 40/40 [00:02<00:00, 14.08it/s, val_acc=88.2, val_loss=0.00322]\n"
     ]
    },
    {
     "name": "stdout",
     "output_type": "stream",
     "text": [
      "=======================================================================================================================================\n",
      "2024-05-23 01:14:52\n",
      "Epoch 50 / 250\n"
     ]
    },
    {
     "name": "stderr",
     "output_type": "stream",
     "text": [
      "[Train]: 100%|██████████████████████| 352/352 [00:42<00:00,  8.32it/s, train_loss=0.00202]\n",
      "[Valid]: 100%|███████████████████████| 40/40 [00:02<00:00, 14.25it/s, val_acc=88.4, val_loss=0.0032]\n"
     ]
    },
    {
     "name": "stdout",
     "output_type": "stream",
     "text": [
      "Validation loss decreased (0.003222 --> 0.003201).  Saving model ...\n",
      "=======================================================================================================================================\n",
      "2024-05-23 01:15:38\n",
      "Epoch 51 / 250\n"
     ]
    },
    {
     "name": "stderr",
     "output_type": "stream",
     "text": [
      "[Train]: 100%|██████████████████████| 352/352 [00:42<00:00,  8.29it/s, train_loss=0.00213]\n",
      "[Valid]: 100%|██████████████████████| 40/40 [00:02<00:00, 13.97it/s, val_acc=88.1, val_loss=0.00323]\n"
     ]
    },
    {
     "name": "stdout",
     "output_type": "stream",
     "text": [
      "=======================================================================================================================================\n",
      "2024-05-23 01:16:23\n",
      "Epoch 52 / 250\n"
     ]
    },
    {
     "name": "stderr",
     "output_type": "stream",
     "text": [
      "[Train]: 100%|██████████████████████| 352/352 [00:41<00:00,  8.42it/s, train_loss=0.00201]\n",
      "[Valid]: 100%|██████████████████████| 40/40 [00:02<00:00, 14.50it/s, val_acc=88.3, val_loss=0.00321]\n"
     ]
    },
    {
     "name": "stdout",
     "output_type": "stream",
     "text": [
      "=======================================================================================================================================\n",
      "2024-05-23 01:17:07\n",
      "Epoch 53 / 250\n"
     ]
    },
    {
     "name": "stderr",
     "output_type": "stream",
     "text": [
      "[Train]: 100%|████████████████████████| 352/352 [00:42<00:00,  8.23it/s, train_loss=0.002]\n",
      "[Valid]: 100%|██████████████████████| 40/40 [00:02<00:00, 14.61it/s, val_acc=88.3, val_loss=0.00319]\n"
     ]
    },
    {
     "name": "stdout",
     "output_type": "stream",
     "text": [
      "Validation loss decreased (0.003201 --> 0.003192).  Saving model ...\n",
      "=======================================================================================================================================\n",
      "2024-05-23 01:17:53\n",
      "Epoch 54 / 250\n"
     ]
    },
    {
     "name": "stderr",
     "output_type": "stream",
     "text": [
      "[Train]: 100%|██████████████████████| 352/352 [00:42<00:00,  8.25it/s, train_loss=0.00189]\n",
      "[Valid]: 100%|██████████████████████| 40/40 [00:02<00:00, 14.59it/s, val_acc=88.4, val_loss=0.00318]\n"
     ]
    },
    {
     "name": "stdout",
     "output_type": "stream",
     "text": [
      "Validation loss decreased (0.003192 --> 0.003184).  Saving model ...\n",
      "=======================================================================================================================================\n",
      "2024-05-23 01:18:39\n",
      "Epoch 55 / 250\n"
     ]
    },
    {
     "name": "stderr",
     "output_type": "stream",
     "text": [
      "[Train]: 100%|██████████████████████| 352/352 [00:41<00:00,  8.53it/s, train_loss=0.00192]\n",
      "[Valid]: 100%|██████████████████████| 40/40 [00:02<00:00, 14.50it/s, val_acc=88.4, val_loss=0.00321]\n"
     ]
    },
    {
     "name": "stdout",
     "output_type": "stream",
     "text": [
      "=======================================================================================================================================\n",
      "2024-05-23 01:19:23\n",
      "Epoch 56 / 250\n"
     ]
    },
    {
     "name": "stderr",
     "output_type": "stream",
     "text": [
      "[Train]: 100%|██████████████████████| 352/352 [00:43<00:00,  8.14it/s, train_loss=0.00192]\n",
      "[Valid]: 100%|██████████████████████| 40/40 [00:02<00:00, 14.39it/s, val_acc=88.4, val_loss=0.00318]\n"
     ]
    },
    {
     "name": "stdout",
     "output_type": "stream",
     "text": [
      "Validation loss decreased (0.003184 --> 0.003177).  Saving model ...\n",
      "=======================================================================================================================================\n",
      "2024-05-23 01:20:09\n",
      "Epoch 57 / 250\n"
     ]
    },
    {
     "name": "stderr",
     "output_type": "stream",
     "text": [
      "[Train]: 100%|██████████████████████| 352/352 [00:42<00:00,  8.37it/s, train_loss=0.00187]\n",
      "[Valid]: 100%|████████████████████████| 40/40 [00:02<00:00, 14.55it/s, val_acc=88, val_loss=0.00322]\n"
     ]
    },
    {
     "name": "stdout",
     "output_type": "stream",
     "text": [
      "=======================================================================================================================================\n",
      "2024-05-23 01:20:53\n",
      "Epoch 58 / 250\n"
     ]
    },
    {
     "name": "stderr",
     "output_type": "stream",
     "text": [
      "[Train]: 100%|██████████████████████| 352/352 [00:43<00:00,  8.03it/s, train_loss=0.00186]\n",
      "[Valid]: 100%|██████████████████████| 40/40 [00:02<00:00, 14.63it/s, val_acc=88.3, val_loss=0.00318]\n"
     ]
    },
    {
     "name": "stdout",
     "output_type": "stream",
     "text": [
      "=======================================================================================================================================\n",
      "2024-05-23 01:21:40\n",
      "Epoch 59 / 250\n"
     ]
    },
    {
     "name": "stderr",
     "output_type": "stream",
     "text": [
      "[Train]: 100%|██████████████████████| 352/352 [00:41<00:00,  8.42it/s, train_loss=0.00187]\n",
      "[Valid]: 100%|██████████████████████| 40/40 [00:02<00:00, 14.42it/s, val_acc=88.2, val_loss=0.00321]\n"
     ]
    },
    {
     "name": "stdout",
     "output_type": "stream",
     "text": [
      "=======================================================================================================================================\n",
      "2024-05-23 01:22:25\n",
      "Epoch 60 / 250\n"
     ]
    },
    {
     "name": "stderr",
     "output_type": "stream",
     "text": [
      "[Train]: 100%|██████████████████████| 352/352 [00:41<00:00,  8.38it/s, train_loss=0.00182]\n",
      "[Valid]: 100%|███████████████████████| 40/40 [00:02<00:00, 14.54it/s, val_acc=88.4, val_loss=0.0032]\n"
     ]
    },
    {
     "name": "stdout",
     "output_type": "stream",
     "text": [
      "=======================================================================================================================================\n",
      "2024-05-23 01:23:09\n",
      "Epoch 61 / 250\n"
     ]
    },
    {
     "name": "stderr",
     "output_type": "stream",
     "text": [
      "[Train]: 100%|██████████████████████| 352/352 [00:41<00:00,  8.43it/s, train_loss=0.00181]\n",
      "[Valid]: 100%|██████████████████████| 40/40 [00:02<00:00, 14.16it/s, val_acc=88.2, val_loss=0.00322]\n"
     ]
    },
    {
     "name": "stdout",
     "output_type": "stream",
     "text": [
      "=======================================================================================================================================\n",
      "2024-05-23 01:23:54\n",
      "Epoch 62 / 250\n"
     ]
    },
    {
     "name": "stderr",
     "output_type": "stream",
     "text": [
      "[Train]: 100%|██████████████████████| 352/352 [00:43<00:00,  8.08it/s, train_loss=0.00178]\n",
      "[Valid]: 100%|███████████████████████| 40/40 [00:02<00:00, 14.81it/s, val_acc=88.6, val_loss=0.0032]\n"
     ]
    },
    {
     "name": "stdout",
     "output_type": "stream",
     "text": [
      "=======================================================================================================================================\n",
      "2024-05-23 01:24:40\n",
      "Epoch 63 / 250\n"
     ]
    },
    {
     "name": "stderr",
     "output_type": "stream",
     "text": [
      "[Train]: 100%|██████████████████████| 352/352 [00:41<00:00,  8.43it/s, train_loss=0.00181]\n",
      "[Valid]: 100%|██████████████████████| 40/40 [00:02<00:00, 14.45it/s, val_acc=88.5, val_loss=0.00322]\n"
     ]
    },
    {
     "name": "stdout",
     "output_type": "stream",
     "text": [
      "=======================================================================================================================================\n",
      "2024-05-23 01:25:25\n",
      "Epoch 64 / 250\n"
     ]
    },
    {
     "name": "stderr",
     "output_type": "stream",
     "text": [
      "[Train]: 100%|███████████████████████| 352/352 [00:43<00:00,  8.03it/s, train_loss=0.0018]\n",
      "[Valid]: 100%|██████████████████████| 40/40 [00:02<00:00, 15.00it/s, val_acc=88.5, val_loss=0.00325]\n"
     ]
    },
    {
     "name": "stdout",
     "output_type": "stream",
     "text": [
      "=======================================================================================================================================\n",
      "2024-05-23 01:26:11\n",
      "Epoch 65 / 250\n"
     ]
    },
    {
     "name": "stderr",
     "output_type": "stream",
     "text": [
      "[Train]: 100%|████████████████████████| 352/352 [00:42<00:00,  8.32it/s, train_loss=0.169]\n",
      "[Valid]: 100%|██████████████████████| 40/40 [00:02<00:00, 14.44it/s, val_acc=67.3, val_loss=0.00783]\n"
     ]
    },
    {
     "name": "stdout",
     "output_type": "stream",
     "text": [
      "=======================================================================================================================================\n",
      "2024-05-23 01:26:56\n",
      "Epoch 66 / 250\n"
     ]
    },
    {
     "name": "stderr",
     "output_type": "stream",
     "text": [
      "[Train]: 100%|████████████████████████| 352/352 [00:42<00:00,  8.36it/s, train_loss=0.492]\n",
      "[Valid]: 100%|██████████████████████| 40/40 [00:02<00:00, 14.34it/s, val_acc=80.4, val_loss=0.00461]\n"
     ]
    },
    {
     "name": "stdout",
     "output_type": "stream",
     "text": [
      "=======================================================================================================================================\n",
      "2024-05-23 01:27:41\n",
      "Epoch 67 / 250\n",
      "lr is updated to 0.0125\n"
     ]
    },
    {
     "name": "stderr",
     "output_type": "stream",
     "text": [
      "[Train]: 100%|████████████████████████| 352/352 [00:41<00:00,  8.39it/s, train_loss=0.127]\n",
      "[Valid]: 100%|██████████████████████| 40/40 [00:02<00:00, 14.41it/s, val_acc=84.6, val_loss=0.00378]\n"
     ]
    },
    {
     "name": "stdout",
     "output_type": "stream",
     "text": [
      "=======================================================================================================================================\n",
      "2024-05-23 01:28:26\n",
      "Epoch 68 / 250\n"
     ]
    },
    {
     "name": "stderr",
     "output_type": "stream",
     "text": [
      "[Train]: 100%|███████████████████████| 352/352 [00:42<00:00,  8.35it/s, train_loss=0.0275]\n",
      "[Valid]: 100%|██████████████████████| 40/40 [00:02<00:00, 14.30it/s, val_acc=86.4, val_loss=0.00369]\n"
     ]
    },
    {
     "name": "stdout",
     "output_type": "stream",
     "text": [
      "=======================================================================================================================================\n",
      "2024-05-23 01:29:11\n",
      "Epoch 69 / 250\n"
     ]
    },
    {
     "name": "stderr",
     "output_type": "stream",
     "text": [
      "[Train]: 100%|██████████████████████| 352/352 [00:42<00:00,  8.23it/s, train_loss=0.00741]\n",
      "[Valid]: 100%|██████████████████████| 40/40 [00:02<00:00, 14.28it/s, val_acc=87.4, val_loss=0.00349]\n"
     ]
    },
    {
     "name": "stdout",
     "output_type": "stream",
     "text": [
      "=======================================================================================================================================\n",
      "2024-05-23 01:29:57\n",
      "Epoch 70 / 250\n"
     ]
    },
    {
     "name": "stderr",
     "output_type": "stream",
     "text": [
      "[Train]: 100%|██████████████████████| 352/352 [00:41<00:00,  8.40it/s, train_loss=0.00318]\n",
      "[Valid]: 100%|██████████████████████| 40/40 [00:02<00:00, 14.59it/s, val_acc=87.8, val_loss=0.00332]\n"
     ]
    },
    {
     "name": "stdout",
     "output_type": "stream",
     "text": [
      "=======================================================================================================================================\n",
      "2024-05-23 01:30:41\n",
      "Epoch 71 / 250\n"
     ]
    },
    {
     "name": "stderr",
     "output_type": "stream",
     "text": [
      "[Train]: 100%|██████████████████████| 352/352 [00:41<00:00,  8.40it/s, train_loss=0.00221]\n",
      "[Valid]: 100%|██████████████████████| 40/40 [00:02<00:00, 14.15it/s, val_acc=87.5, val_loss=0.00344]\n"
     ]
    },
    {
     "name": "stdout",
     "output_type": "stream",
     "text": [
      "=======================================================================================================================================\n",
      "2024-05-23 01:31:26\n",
      "Epoch 72 / 250\n"
     ]
    },
    {
     "name": "stderr",
     "output_type": "stream",
     "text": [
      "[Train]: 100%|██████████████████████| 352/352 [00:42<00:00,  8.36it/s, train_loss=0.00181]\n",
      "[Valid]: 100%|██████████████████████| 40/40 [00:02<00:00, 14.17it/s, val_acc=88.1, val_loss=0.00328]\n"
     ]
    },
    {
     "name": "stdout",
     "output_type": "stream",
     "text": [
      "=======================================================================================================================================\n",
      "2024-05-23 01:32:11\n",
      "Epoch 73 / 250\n"
     ]
    },
    {
     "name": "stderr",
     "output_type": "stream",
     "text": [
      "[Train]: 100%|██████████████████████| 352/352 [00:41<00:00,  8.42it/s, train_loss=0.00166]\n",
      "[Valid]: 100%|██████████████████████| 40/40 [00:02<00:00, 14.44it/s, val_acc=88.1, val_loss=0.00326]\n"
     ]
    },
    {
     "name": "stdout",
     "output_type": "stream",
     "text": [
      "=======================================================================================================================================\n",
      "2024-05-23 01:32:56\n",
      "Epoch 74 / 250\n"
     ]
    },
    {
     "name": "stderr",
     "output_type": "stream",
     "text": [
      "[Train]: 100%|███████████████████████| 352/352 [00:42<00:00,  8.30it/s, train_loss=0.0016]\n",
      "[Valid]: 100%|██████████████████████| 40/40 [00:02<00:00, 14.32it/s, val_acc=88.2, val_loss=0.00324]\n"
     ]
    },
    {
     "name": "stdout",
     "output_type": "stream",
     "text": [
      "=======================================================================================================================================\n",
      "2024-05-23 01:33:41\n",
      "Epoch 75 / 250\n"
     ]
    },
    {
     "name": "stderr",
     "output_type": "stream",
     "text": [
      "[Train]: 100%|██████████████████████| 352/352 [00:42<00:00,  8.25it/s, train_loss=0.00167]\n",
      "[Valid]: 100%|███████████████████████| 40/40 [00:02<00:00, 14.40it/s, val_acc=88.2, val_loss=0.0032]\n"
     ]
    },
    {
     "name": "stdout",
     "output_type": "stream",
     "text": [
      "=======================================================================================================================================\n",
      "2024-05-23 01:34:26\n",
      "Epoch 76 / 250\n"
     ]
    },
    {
     "name": "stderr",
     "output_type": "stream",
     "text": [
      "[Train]: 100%|██████████████████████| 352/352 [00:41<00:00,  8.47it/s, train_loss=0.00161]\n",
      "[Valid]: 100%|██████████████████████| 40/40 [00:02<00:00, 14.40it/s, val_acc=88.2, val_loss=0.00319]\n"
     ]
    },
    {
     "name": "stdout",
     "output_type": "stream",
     "text": [
      "=======================================================================================================================================\n",
      "2024-05-23 01:35:11\n",
      "Epoch 77 / 250\n",
      "lr is updated to 0.00625\n"
     ]
    },
    {
     "name": "stderr",
     "output_type": "stream",
     "text": [
      "[Train]: 100%|██████████████████████| 352/352 [00:41<00:00,  8.49it/s, train_loss=0.00158]\n",
      "[Valid]: 100%|██████████████████████| 40/40 [00:02<00:00, 14.52it/s, val_acc=88.2, val_loss=0.00319]\n"
     ]
    },
    {
     "name": "stdout",
     "output_type": "stream",
     "text": [
      "=======================================================================================================================================\n",
      "2024-05-23 01:35:55\n",
      "Epoch 78 / 250\n"
     ]
    },
    {
     "name": "stderr",
     "output_type": "stream",
     "text": [
      "[Train]: 100%|███████████████████████| 352/352 [00:41<00:00,  8.42it/s, train_loss=0.0016]\n",
      "[Valid]: 100%|██████████████████████| 40/40 [00:02<00:00, 14.23it/s, val_acc=88.3, val_loss=0.00317]\n"
     ]
    },
    {
     "name": "stdout",
     "output_type": "stream",
     "text": [
      "Validation loss decreased (0.003177 --> 0.003166).  Saving model ...\n",
      "=======================================================================================================================================\n",
      "2024-05-23 01:36:39\n",
      "Epoch 79 / 250\n"
     ]
    },
    {
     "name": "stderr",
     "output_type": "stream",
     "text": [
      "[Train]: 100%|███████████████████████| 352/352 [00:42<00:00,  8.31it/s, train_loss=0.0016]\n",
      "[Valid]: 100%|██████████████████████| 40/40 [00:02<00:00, 15.01it/s, val_acc=88.1, val_loss=0.00316]\n"
     ]
    },
    {
     "name": "stdout",
     "output_type": "stream",
     "text": [
      "Validation loss decreased (0.003166 --> 0.003159).  Saving model ...\n",
      "=======================================================================================================================================\n",
      "2024-05-23 01:37:25\n",
      "Epoch 80 / 250\n"
     ]
    },
    {
     "name": "stderr",
     "output_type": "stream",
     "text": [
      "[Train]: 100%|██████████████████████| 352/352 [00:41<00:00,  8.41it/s, train_loss=0.00159]\n",
      "[Valid]: 100%|██████████████████████| 40/40 [00:02<00:00, 14.64it/s, val_acc=88.1, val_loss=0.00317]\n"
     ]
    },
    {
     "name": "stdout",
     "output_type": "stream",
     "text": [
      "=======================================================================================================================================\n",
      "2024-05-23 01:38:09\n",
      "Epoch 81 / 250\n"
     ]
    },
    {
     "name": "stderr",
     "output_type": "stream",
     "text": [
      "[Train]: 100%|██████████████████████| 352/352 [00:41<00:00,  8.46it/s, train_loss=0.00158]\n",
      "[Valid]: 100%|██████████████████████| 40/40 [00:02<00:00, 14.34it/s, val_acc=88.3, val_loss=0.00315]\n"
     ]
    },
    {
     "name": "stdout",
     "output_type": "stream",
     "text": [
      "Validation loss decreased (0.003159 --> 0.003148).  Saving model ...\n",
      "=======================================================================================================================================\n",
      "2024-05-23 01:38:54\n",
      "Epoch 82 / 250\n"
     ]
    },
    {
     "name": "stderr",
     "output_type": "stream",
     "text": [
      "[Train]: 100%|██████████████████████| 352/352 [00:44<00:00,  7.94it/s, train_loss=0.00162]\n",
      "[Valid]: 100%|██████████████████████| 40/40 [00:02<00:00, 15.09it/s, val_acc=88.4, val_loss=0.00315]\n"
     ]
    },
    {
     "name": "stdout",
     "output_type": "stream",
     "text": [
      "=======================================================================================================================================\n",
      "2024-05-23 01:39:41\n",
      "Epoch 83 / 250\n"
     ]
    },
    {
     "name": "stderr",
     "output_type": "stream",
     "text": [
      "[Train]: 100%|██████████████████████| 352/352 [00:42<00:00,  8.33it/s, train_loss=0.00168]\n",
      "[Valid]: 100%|██████████████████████| 40/40 [00:02<00:00, 14.26it/s, val_acc=88.3, val_loss=0.00315]\n"
     ]
    },
    {
     "name": "stdout",
     "output_type": "stream",
     "text": [
      "=======================================================================================================================================\n",
      "2024-05-23 01:40:26\n",
      "Epoch 84 / 250\n"
     ]
    },
    {
     "name": "stderr",
     "output_type": "stream",
     "text": [
      "[Train]: 100%|██████████████████████| 352/352 [00:42<00:00,  8.32it/s, train_loss=0.00165]\n",
      "[Valid]: 100%|██████████████████████| 40/40 [00:02<00:00, 14.25it/s, val_acc=88.3, val_loss=0.00312]\n"
     ]
    },
    {
     "name": "stdout",
     "output_type": "stream",
     "text": [
      "Validation loss decreased (0.003148 --> 0.003124).  Saving model ...\n",
      "=======================================================================================================================================\n",
      "2024-05-23 01:41:11\n",
      "Epoch 85 / 250\n"
     ]
    },
    {
     "name": "stderr",
     "output_type": "stream",
     "text": [
      "[Train]: 100%|██████████████████████| 352/352 [00:42<00:00,  8.33it/s, train_loss=0.00165]\n",
      "[Valid]: 100%|██████████████████████| 40/40 [00:02<00:00, 14.58it/s, val_acc=88.4, val_loss=0.00313]\n"
     ]
    },
    {
     "name": "stdout",
     "output_type": "stream",
     "text": [
      "=======================================================================================================================================\n",
      "2024-05-23 01:41:56\n",
      "Epoch 86 / 250\n"
     ]
    },
    {
     "name": "stderr",
     "output_type": "stream",
     "text": [
      "[Train]: 100%|███████████████████████| 352/352 [00:41<00:00,  8.39it/s, train_loss=0.0017]\n",
      "[Valid]: 100%|██████████████████████| 40/40 [00:02<00:00, 14.28it/s, val_acc=88.2, val_loss=0.00313]\n"
     ]
    },
    {
     "name": "stdout",
     "output_type": "stream",
     "text": [
      "=======================================================================================================================================\n",
      "2024-05-23 01:42:41\n",
      "Epoch 87 / 250\n"
     ]
    },
    {
     "name": "stderr",
     "output_type": "stream",
     "text": [
      "[Train]: 100%|██████████████████████| 352/352 [00:42<00:00,  8.36it/s, train_loss=0.00167]\n",
      "[Valid]: 100%|██████████████████████| 40/40 [00:02<00:00, 14.52it/s, val_acc=88.3, val_loss=0.00315]\n"
     ]
    },
    {
     "name": "stdout",
     "output_type": "stream",
     "text": [
      "=======================================================================================================================================\n",
      "2024-05-23 01:43:25\n",
      "Epoch 88 / 250\n"
     ]
    },
    {
     "name": "stderr",
     "output_type": "stream",
     "text": [
      "[Train]: 100%|██████████████████████| 352/352 [00:42<00:00,  8.31it/s, train_loss=0.00164]\n",
      "[Valid]: 100%|██████████████████████| 40/40 [00:02<00:00, 14.62it/s, val_acc=88.2, val_loss=0.00314]\n"
     ]
    },
    {
     "name": "stdout",
     "output_type": "stream",
     "text": [
      "=======================================================================================================================================\n",
      "2024-05-23 01:44:11\n",
      "Epoch 89 / 250\n"
     ]
    },
    {
     "name": "stderr",
     "output_type": "stream",
     "text": [
      "[Train]: 100%|██████████████████████| 352/352 [00:41<00:00,  8.46it/s, train_loss=0.00162]\n",
      "[Valid]: 100%|██████████████████████| 40/40 [00:02<00:00, 14.80it/s, val_acc=88.4, val_loss=0.00312]\n"
     ]
    },
    {
     "name": "stdout",
     "output_type": "stream",
     "text": [
      "Validation loss decreased (0.003124 --> 0.003124).  Saving model ...\n",
      "=======================================================================================================================================\n",
      "2024-05-23 01:44:55\n",
      "Epoch 90 / 250\n"
     ]
    },
    {
     "name": "stderr",
     "output_type": "stream",
     "text": [
      "[Train]: 100%|██████████████████████| 352/352 [00:41<00:00,  8.44it/s, train_loss=0.00167]\n",
      "[Valid]: 100%|██████████████████████| 40/40 [00:02<00:00, 14.55it/s, val_acc=88.2, val_loss=0.00312]\n"
     ]
    },
    {
     "name": "stdout",
     "output_type": "stream",
     "text": [
      "Validation loss decreased (0.003124 --> 0.003118).  Saving model ...\n",
      "=======================================================================================================================================\n",
      "2024-05-23 01:45:39\n",
      "Epoch 91 / 250\n"
     ]
    },
    {
     "name": "stderr",
     "output_type": "stream",
     "text": [
      "[Train]: 100%|██████████████████████| 352/352 [00:42<00:00,  8.23it/s, train_loss=0.00168]\n",
      "[Valid]: 100%|██████████████████████| 40/40 [00:02<00:00, 14.36it/s, val_acc=88.4, val_loss=0.00313]\n"
     ]
    },
    {
     "name": "stdout",
     "output_type": "stream",
     "text": [
      "=======================================================================================================================================\n",
      "2024-05-23 01:46:25\n",
      "Epoch 92 / 250\n"
     ]
    },
    {
     "name": "stderr",
     "output_type": "stream",
     "text": [
      "[Train]: 100%|██████████████████████| 352/352 [00:41<00:00,  8.49it/s, train_loss=0.00168]\n",
      "[Valid]: 100%|██████████████████████| 40/40 [00:02<00:00, 14.35it/s, val_acc=88.1, val_loss=0.00312]\n"
     ]
    },
    {
     "name": "stdout",
     "output_type": "stream",
     "text": [
      "=======================================================================================================================================\n",
      "2024-05-23 01:47:09\n",
      "Epoch 93 / 250\n"
     ]
    },
    {
     "name": "stderr",
     "output_type": "stream",
     "text": [
      "[Train]: 100%|██████████████████████| 352/352 [00:43<00:00,  8.11it/s, train_loss=0.00173]\n",
      "[Valid]: 100%|██████████████████████| 40/40 [00:02<00:00, 14.02it/s, val_acc=88.3, val_loss=0.00315]\n"
     ]
    },
    {
     "name": "stdout",
     "output_type": "stream",
     "text": [
      "=======================================================================================================================================\n",
      "2024-05-23 01:47:56\n",
      "Epoch 94 / 250\n"
     ]
    },
    {
     "name": "stderr",
     "output_type": "stream",
     "text": [
      "[Train]: 100%|██████████████████████| 352/352 [00:41<00:00,  8.38it/s, train_loss=0.00169]\n",
      "[Valid]: 100%|██████████████████████| 40/40 [00:02<00:00, 14.68it/s, val_acc=88.2, val_loss=0.00314]\n"
     ]
    },
    {
     "name": "stdout",
     "output_type": "stream",
     "text": [
      "=======================================================================================================================================\n",
      "2024-05-23 01:48:40\n",
      "Epoch 95 / 250\n"
     ]
    },
    {
     "name": "stderr",
     "output_type": "stream",
     "text": [
      "[Train]: 100%|██████████████████████| 352/352 [00:42<00:00,  8.28it/s, train_loss=0.00168]\n",
      "[Valid]: 100%|██████████████████████| 40/40 [00:02<00:00, 14.78it/s, val_acc=88.1, val_loss=0.00312]\n"
     ]
    },
    {
     "name": "stdout",
     "output_type": "stream",
     "text": [
      "Validation loss decreased (0.003118 --> 0.003118).  Saving model ...\n",
      "=======================================================================================================================================\n",
      "2024-05-23 01:49:26\n",
      "Epoch 96 / 250\n"
     ]
    },
    {
     "name": "stderr",
     "output_type": "stream",
     "text": [
      "[Train]: 100%|██████████████████████| 352/352 [00:44<00:00,  7.99it/s, train_loss=0.00165]\n",
      "[Valid]: 100%|██████████████████████| 40/40 [00:02<00:00, 14.97it/s, val_acc=88.3, val_loss=0.00314]\n"
     ]
    },
    {
     "name": "stdout",
     "output_type": "stream",
     "text": [
      "=======================================================================================================================================\n",
      "2024-05-23 01:50:12\n",
      "Epoch 97 / 250\n"
     ]
    },
    {
     "name": "stderr",
     "output_type": "stream",
     "text": [
      "[Train]: 100%|██████████████████████| 352/352 [00:42<00:00,  8.31it/s, train_loss=0.00169]\n",
      "[Valid]: 100%|██████████████████████| 40/40 [00:02<00:00, 14.74it/s, val_acc=88.3, val_loss=0.00313]\n"
     ]
    },
    {
     "name": "stdout",
     "output_type": "stream",
     "text": [
      "=======================================================================================================================================\n",
      "2024-05-23 01:50:57\n",
      "Epoch 98 / 250\n"
     ]
    },
    {
     "name": "stderr",
     "output_type": "stream",
     "text": [
      "[Train]: 100%|██████████████████████| 352/352 [00:41<00:00,  8.53it/s, train_loss=0.00172]\n",
      "[Valid]: 100%|██████████████████████| 40/40 [00:02<00:00, 14.44it/s, val_acc=88.4, val_loss=0.00313]\n"
     ]
    },
    {
     "name": "stdout",
     "output_type": "stream",
     "text": [
      "=======================================================================================================================================\n",
      "2024-05-23 01:51:41\n",
      "Epoch 99 / 250\n"
     ]
    },
    {
     "name": "stderr",
     "output_type": "stream",
     "text": [
      "[Train]: 100%|██████████████████████| 352/352 [00:41<00:00,  8.47it/s, train_loss=0.00167]\n",
      "[Valid]: 100%|██████████████████████| 40/40 [00:02<00:00, 14.83it/s, val_acc=88.2, val_loss=0.00313]\n"
     ]
    },
    {
     "name": "stdout",
     "output_type": "stream",
     "text": [
      "=======================================================================================================================================\n",
      "2024-05-23 01:52:26\n",
      "Epoch 100 / 250\n"
     ]
    },
    {
     "name": "stderr",
     "output_type": "stream",
     "text": [
      "[Train]: 100%|███████████████████████| 352/352 [00:43<00:00,  8.08it/s, train_loss=0.0017]\n",
      "[Valid]: 100%|██████████████████████| 40/40 [00:02<00:00, 13.88it/s, val_acc=88.3, val_loss=0.00314]\n"
     ]
    },
    {
     "name": "stdout",
     "output_type": "stream",
     "text": [
      "=======================================================================================================================================\n",
      "2024-05-23 01:53:12\n",
      "Epoch 101 / 250\n"
     ]
    },
    {
     "name": "stderr",
     "output_type": "stream",
     "text": [
      "[Train]: 100%|██████████████████████| 352/352 [00:42<00:00,  8.36it/s, train_loss=0.00172]\n",
      "[Valid]: 100%|██████████████████████| 40/40 [00:02<00:00, 14.76it/s, val_acc=88.4, val_loss=0.00314]\n"
     ]
    },
    {
     "name": "stdout",
     "output_type": "stream",
     "text": [
      "=======================================================================================================================================\n",
      "2024-05-23 01:53:57\n",
      "Epoch 102 / 250\n"
     ]
    },
    {
     "name": "stderr",
     "output_type": "stream",
     "text": [
      "[Train]: 100%|██████████████████████| 352/352 [00:41<00:00,  8.55it/s, train_loss=0.00172]\n",
      "[Valid]: 100%|██████████████████████| 40/40 [00:02<00:00, 14.42it/s, val_acc=88.4, val_loss=0.00314]\n"
     ]
    },
    {
     "name": "stdout",
     "output_type": "stream",
     "text": [
      "=======================================================================================================================================\n",
      "2024-05-23 01:54:41\n",
      "Epoch 103 / 250\n"
     ]
    },
    {
     "name": "stderr",
     "output_type": "stream",
     "text": [
      "[Train]: 100%|██████████████████████| 352/352 [00:42<00:00,  8.23it/s, train_loss=0.00175]\n",
      "[Valid]: 100%|██████████████████████| 40/40 [00:02<00:00, 14.52it/s, val_acc=88.2, val_loss=0.00317]\n"
     ]
    },
    {
     "name": "stdout",
     "output_type": "stream",
     "text": [
      "=======================================================================================================================================\n",
      "2024-05-23 01:55:26\n",
      "Epoch 104 / 250\n"
     ]
    },
    {
     "name": "stderr",
     "output_type": "stream",
     "text": [
      "[Train]: 100%|██████████████████████| 352/352 [00:42<00:00,  8.31it/s, train_loss=0.00168]\n",
      "[Valid]: 100%|██████████████████████| 40/40 [00:02<00:00, 15.01it/s, val_acc=88.4, val_loss=0.00315]\n"
     ]
    },
    {
     "name": "stdout",
     "output_type": "stream",
     "text": [
      "=======================================================================================================================================\n",
      "2024-05-23 01:56:12\n",
      "Epoch 105 / 250\n"
     ]
    },
    {
     "name": "stderr",
     "output_type": "stream",
     "text": [
      "[Train]: 100%|██████████████████████| 352/352 [00:41<00:00,  8.45it/s, train_loss=0.00171]\n",
      "[Valid]: 100%|██████████████████████| 40/40 [00:02<00:00, 14.72it/s, val_acc=88.4, val_loss=0.00313]\n"
     ]
    },
    {
     "name": "stdout",
     "output_type": "stream",
     "text": [
      "=======================================================================================================================================\n",
      "2024-05-23 01:56:56\n",
      "Epoch 106 / 250\n",
      "lr is updated to 0.003125\n"
     ]
    },
    {
     "name": "stderr",
     "output_type": "stream",
     "text": [
      "[Train]: 100%|███████████████████████| 352/352 [00:43<00:00,  8.14it/s, train_loss=0.0017]\n",
      "[Valid]: 100%|██████████████████████| 40/40 [00:02<00:00, 14.56it/s, val_acc=88.3, val_loss=0.00315]\n"
     ]
    },
    {
     "name": "stdout",
     "output_type": "stream",
     "text": [
      "=======================================================================================================================================\n",
      "2024-05-23 01:57:42\n",
      "Epoch 107 / 250\n"
     ]
    },
    {
     "name": "stderr",
     "output_type": "stream",
     "text": [
      "[Train]: 100%|██████████████████████| 352/352 [00:40<00:00,  8.63it/s, train_loss=0.00171]\n",
      "[Valid]: 100%|████████████████████████| 40/40 [00:02<00:00, 14.62it/s, val_acc=88, val_loss=0.00316]\n"
     ]
    },
    {
     "name": "stdout",
     "output_type": "stream",
     "text": [
      "=======================================================================================================================================\n",
      "2024-05-23 01:58:25\n",
      "Epoch 108 / 250\n"
     ]
    },
    {
     "name": "stderr",
     "output_type": "stream",
     "text": [
      "[Train]: 100%|██████████████████████| 352/352 [00:43<00:00,  8.05it/s, train_loss=0.00168]\n",
      "[Valid]: 100%|██████████████████████| 40/40 [00:02<00:00, 14.77it/s, val_acc=88.2, val_loss=0.00319]\n"
     ]
    },
    {
     "name": "stdout",
     "output_type": "stream",
     "text": [
      "=======================================================================================================================================\n",
      "2024-05-23 01:59:12\n",
      "Epoch 109 / 250\n"
     ]
    },
    {
     "name": "stderr",
     "output_type": "stream",
     "text": [
      "[Train]: 100%|██████████████████████| 352/352 [00:43<00:00,  8.15it/s, train_loss=0.00166]\n",
      "[Valid]: 100%|██████████████████████| 40/40 [00:02<00:00, 14.61it/s, val_acc=88.3, val_loss=0.00316]\n"
     ]
    },
    {
     "name": "stdout",
     "output_type": "stream",
     "text": [
      "=======================================================================================================================================\n",
      "2024-05-23 01:59:58\n",
      "Epoch 110 / 250\n"
     ]
    },
    {
     "name": "stderr",
     "output_type": "stream",
     "text": [
      "[Train]: 100%|██████████████████████| 352/352 [00:43<00:00,  8.18it/s, train_loss=0.00173]\n",
      "[Valid]: 100%|██████████████████████| 40/40 [00:02<00:00, 15.04it/s, val_acc=88.4, val_loss=0.00317]\n"
     ]
    },
    {
     "name": "stdout",
     "output_type": "stream",
     "text": [
      "=======================================================================================================================================\n",
      "2024-05-23 02:00:43\n",
      "Epoch 111 / 250\n"
     ]
    },
    {
     "name": "stderr",
     "output_type": "stream",
     "text": [
      "[Train]: 100%|██████████████████████| 352/352 [00:43<00:00,  8.12it/s, train_loss=0.00172]\n",
      "[Valid]: 100%|██████████████████████| 40/40 [00:02<00:00, 14.44it/s, val_acc=88.3, val_loss=0.00315]\n"
     ]
    },
    {
     "name": "stdout",
     "output_type": "stream",
     "text": [
      "=======================================================================================================================================\n",
      "2024-05-23 02:01:30\n",
      "Epoch 112 / 250\n"
     ]
    },
    {
     "name": "stderr",
     "output_type": "stream",
     "text": [
      "[Train]: 100%|███████████████████████| 352/352 [00:41<00:00,  8.50it/s, train_loss=0.0017]\n",
      "[Valid]: 100%|██████████████████████| 40/40 [00:02<00:00, 14.46it/s, val_acc=88.3, val_loss=0.00315]\n"
     ]
    },
    {
     "name": "stdout",
     "output_type": "stream",
     "text": [
      "=======================================================================================================================================\n",
      "2024-05-23 02:02:14\n",
      "Epoch 113 / 250\n"
     ]
    },
    {
     "name": "stderr",
     "output_type": "stream",
     "text": [
      "[Train]: 100%|██████████████████████| 352/352 [00:41<00:00,  8.50it/s, train_loss=0.00171]\n",
      "[Valid]: 100%|██████████████████████| 40/40 [00:02<00:00, 14.44it/s, val_acc=88.3, val_loss=0.00315]\n"
     ]
    },
    {
     "name": "stdout",
     "output_type": "stream",
     "text": [
      "=======================================================================================================================================\n",
      "2024-05-23 02:02:58\n",
      "Epoch 114 / 250\n"
     ]
    },
    {
     "name": "stderr",
     "output_type": "stream",
     "text": [
      "[Train]: 100%|██████████████████████| 352/352 [00:41<00:00,  8.48it/s, train_loss=0.00174]\n",
      "[Valid]: 100%|██████████████████████| 40/40 [00:02<00:00, 14.17it/s, val_acc=88.1, val_loss=0.00317]\n"
     ]
    },
    {
     "name": "stdout",
     "output_type": "stream",
     "text": [
      "=======================================================================================================================================\n",
      "2024-05-23 02:03:42\n",
      "Epoch 115 / 250\n"
     ]
    },
    {
     "name": "stderr",
     "output_type": "stream",
     "text": [
      "[Train]: 100%|██████████████████████| 352/352 [00:41<00:00,  8.43it/s, train_loss=0.00174]\n",
      "[Valid]: 100%|██████████████████████| 40/40 [00:02<00:00, 14.29it/s, val_acc=88.3, val_loss=0.00316]\n"
     ]
    },
    {
     "name": "stdout",
     "output_type": "stream",
     "text": [
      "=======================================================================================================================================\n",
      "2024-05-23 02:04:27\n",
      "Epoch 116 / 250\n",
      "lr is updated to 0.0015625\n"
     ]
    },
    {
     "name": "stderr",
     "output_type": "stream",
     "text": [
      "[Train]: 100%|██████████████████████| 352/352 [00:41<00:00,  8.50it/s, train_loss=0.00173]\n",
      "[Valid]: 100%|██████████████████████| 40/40 [00:02<00:00, 14.38it/s, val_acc=88.2, val_loss=0.00316]\n"
     ]
    },
    {
     "name": "stdout",
     "output_type": "stream",
     "text": [
      "=======================================================================================================================================\n",
      "2024-05-23 02:05:11\n",
      "Epoch 117 / 250\n"
     ]
    },
    {
     "name": "stderr",
     "output_type": "stream",
     "text": [
      "[Train]: 100%|██████████████████████| 352/352 [00:41<00:00,  8.48it/s, train_loss=0.00166]\n",
      "[Valid]: 100%|██████████████████████| 40/40 [00:02<00:00, 14.27it/s, val_acc=88.2, val_loss=0.00317]\n"
     ]
    },
    {
     "name": "stdout",
     "output_type": "stream",
     "text": [
      "=======================================================================================================================================\n",
      "2024-05-23 02:05:55\n",
      "Epoch 118 / 250\n"
     ]
    },
    {
     "name": "stderr",
     "output_type": "stream",
     "text": [
      "[Train]: 100%|██████████████████████| 352/352 [00:41<00:00,  8.48it/s, train_loss=0.00173]\n",
      "[Valid]: 100%|██████████████████████| 40/40 [00:02<00:00, 14.47it/s, val_acc=88.3, val_loss=0.00317]\n"
     ]
    },
    {
     "name": "stdout",
     "output_type": "stream",
     "text": [
      "=======================================================================================================================================\n",
      "2024-05-23 02:06:40\n",
      "Epoch 119 / 250\n"
     ]
    },
    {
     "name": "stderr",
     "output_type": "stream",
     "text": [
      "[Train]: 100%|██████████████████████| 352/352 [00:43<00:00,  8.14it/s, train_loss=0.00169]\n",
      "[Valid]: 100%|██████████████████████| 40/40 [00:02<00:00, 14.23it/s, val_acc=88.2, val_loss=0.00316]\n"
     ]
    },
    {
     "name": "stdout",
     "output_type": "stream",
     "text": [
      "=======================================================================================================================================\n",
      "2024-05-23 02:07:26\n",
      "Epoch 120 / 250\n"
     ]
    },
    {
     "name": "stderr",
     "output_type": "stream",
     "text": [
      "[Train]: 100%|██████████████████████| 352/352 [00:42<00:00,  8.35it/s, train_loss=0.00174]\n",
      "[Valid]: 100%|██████████████████████| 40/40 [00:02<00:00, 14.33it/s, val_acc=88.1, val_loss=0.00317]\n"
     ]
    },
    {
     "name": "stdout",
     "output_type": "stream",
     "text": [
      "=======================================================================================================================================\n",
      "2024-05-23 02:08:11\n",
      "Epoch 121 / 250\n"
     ]
    },
    {
     "name": "stderr",
     "output_type": "stream",
     "text": [
      "[Train]: 100%|███████████████████████| 352/352 [00:41<00:00,  8.48it/s, train_loss=0.0017]\n",
      "[Valid]: 100%|██████████████████████| 40/40 [00:02<00:00, 14.31it/s, val_acc=88.4, val_loss=0.00317]\n"
     ]
    },
    {
     "name": "stdout",
     "output_type": "stream",
     "text": [
      "=======================================================================================================================================\n",
      "2024-05-23 02:08:55\n",
      "Epoch 122 / 250\n"
     ]
    },
    {
     "name": "stderr",
     "output_type": "stream",
     "text": [
      "[Train]: 100%|██████████████████████| 352/352 [00:41<00:00,  8.52it/s, train_loss=0.00173]\n",
      "[Valid]: 100%|██████████████████████| 40/40 [00:02<00:00, 14.79it/s, val_acc=88.3, val_loss=0.00316]\n"
     ]
    },
    {
     "name": "stdout",
     "output_type": "stream",
     "text": [
      "=======================================================================================================================================\n",
      "2024-05-23 02:09:39\n",
      "Epoch 123 / 250\n"
     ]
    },
    {
     "name": "stderr",
     "output_type": "stream",
     "text": [
      "[Train]: 100%|███████████████████████| 352/352 [00:43<00:00,  8.06it/s, train_loss=0.0017]\n",
      "[Valid]: 100%|██████████████████████| 40/40 [00:02<00:00, 14.34it/s, val_acc=88.2, val_loss=0.00317]\n"
     ]
    },
    {
     "name": "stdout",
     "output_type": "stream",
     "text": [
      "=======================================================================================================================================\n",
      "2024-05-23 02:10:26\n",
      "Epoch 124 / 250\n"
     ]
    },
    {
     "name": "stderr",
     "output_type": "stream",
     "text": [
      "[Train]: 100%|██████████████████████| 352/352 [00:42<00:00,  8.28it/s, train_loss=0.00173]\n",
      "[Valid]: 100%|██████████████████████| 40/40 [00:02<00:00, 13.97it/s, val_acc=88.2, val_loss=0.00317]\n"
     ]
    },
    {
     "name": "stdout",
     "output_type": "stream",
     "text": [
      "=======================================================================================================================================\n",
      "2024-05-23 02:11:11\n",
      "Epoch 125 / 250\n"
     ]
    },
    {
     "name": "stderr",
     "output_type": "stream",
     "text": [
      "[Train]: 100%|███████████████████████| 352/352 [00:41<00:00,  8.55it/s, train_loss=0.0017]\n",
      "[Valid]: 100%|██████████████████████| 40/40 [00:02<00:00, 13.63it/s, val_acc=88.3, val_loss=0.00317]\n"
     ]
    },
    {
     "name": "stdout",
     "output_type": "stream",
     "text": [
      "=======================================================================================================================================\n",
      "2024-05-23 02:11:55\n",
      "Epoch 126 / 250\n",
      "lr is updated to 0.00078125\n"
     ]
    },
    {
     "name": "stderr",
     "output_type": "stream",
     "text": [
      "[Train]: 100%|██████████████████████| 352/352 [00:42<00:00,  8.32it/s, train_loss=0.00174]\n",
      "[Valid]: 100%|██████████████████████| 40/40 [00:02<00:00, 13.79it/s, val_acc=88.3, val_loss=0.00316]\n"
     ]
    },
    {
     "name": "stdout",
     "output_type": "stream",
     "text": [
      "=======================================================================================================================================\n",
      "2024-05-23 02:12:40\n",
      "Epoch 127 / 250\n"
     ]
    },
    {
     "name": "stderr",
     "output_type": "stream",
     "text": [
      "[Train]: 100%|██████████████████████| 352/352 [00:43<00:00,  8.03it/s, train_loss=0.00171]\n",
      "[Valid]: 100%|██████████████████████| 40/40 [00:02<00:00, 14.08it/s, val_acc=88.4, val_loss=0.00315]\n"
     ]
    },
    {
     "name": "stdout",
     "output_type": "stream",
     "text": [
      "=======================================================================================================================================\n",
      "2024-05-23 02:13:27\n",
      "Epoch 128 / 250\n"
     ]
    },
    {
     "name": "stderr",
     "output_type": "stream",
     "text": [
      "[Train]: 100%|██████████████████████| 352/352 [00:41<00:00,  8.53it/s, train_loss=0.00172]\n",
      "[Valid]: 100%|██████████████████████| 40/40 [00:02<00:00, 14.56it/s, val_acc=88.2, val_loss=0.00319]\n"
     ]
    },
    {
     "name": "stdout",
     "output_type": "stream",
     "text": [
      "=======================================================================================================================================\n",
      "2024-05-23 02:14:11\n",
      "Epoch 129 / 250\n"
     ]
    },
    {
     "name": "stderr",
     "output_type": "stream",
     "text": [
      "[Train]: 100%|██████████████████████| 352/352 [00:41<00:00,  8.51it/s, train_loss=0.00171]\n",
      "[Valid]: 100%|██████████████████████| 40/40 [00:02<00:00, 14.44it/s, val_acc=88.3, val_loss=0.00316]\n"
     ]
    },
    {
     "name": "stdout",
     "output_type": "stream",
     "text": [
      "=======================================================================================================================================\n",
      "2024-05-23 02:14:55\n",
      "Epoch 130 / 250\n"
     ]
    },
    {
     "name": "stderr",
     "output_type": "stream",
     "text": [
      "[Train]: 100%|██████████████████████| 352/352 [00:41<00:00,  8.46it/s, train_loss=0.00176]\n",
      "[Valid]: 100%|██████████████████████| 40/40 [00:02<00:00, 14.44it/s, val_acc=88.2, val_loss=0.00317]\n"
     ]
    },
    {
     "name": "stdout",
     "output_type": "stream",
     "text": [
      "=======================================================================================================================================\n",
      "2024-05-23 02:15:39\n",
      "Epoch 131 / 250\n"
     ]
    },
    {
     "name": "stderr",
     "output_type": "stream",
     "text": [
      "[Train]: 100%|██████████████████████| 352/352 [00:43<00:00,  8.18it/s, train_loss=0.00171]\n",
      "[Valid]: 100%|██████████████████████| 40/40 [00:02<00:00, 15.01it/s, val_acc=88.1, val_loss=0.00316]\n"
     ]
    },
    {
     "name": "stdout",
     "output_type": "stream",
     "text": [
      "=======================================================================================================================================\n",
      "2024-05-23 02:16:25\n",
      "Epoch 132 / 250\n"
     ]
    },
    {
     "name": "stderr",
     "output_type": "stream",
     "text": [
      "[Train]: 100%|██████████████████████| 352/352 [00:42<00:00,  8.20it/s, train_loss=0.00171]\n",
      "[Valid]: 100%|██████████████████████| 40/40 [00:02<00:00, 14.30it/s, val_acc=88.2, val_loss=0.00317]\n"
     ]
    },
    {
     "name": "stdout",
     "output_type": "stream",
     "text": [
      "=======================================================================================================================================\n",
      "2024-05-23 02:17:11\n",
      "Epoch 133 / 250\n"
     ]
    },
    {
     "name": "stderr",
     "output_type": "stream",
     "text": [
      "[Train]: 100%|██████████████████████| 352/352 [00:41<00:00,  8.39it/s, train_loss=0.00173]\n",
      "[Valid]: 100%|██████████████████████| 40/40 [00:02<00:00, 14.83it/s, val_acc=88.2, val_loss=0.00317]\n"
     ]
    },
    {
     "name": "stdout",
     "output_type": "stream",
     "text": [
      "=======================================================================================================================================\n",
      "2024-05-23 02:17:56\n",
      "Epoch 134 / 250\n"
     ]
    },
    {
     "name": "stderr",
     "output_type": "stream",
     "text": [
      "[Train]: 100%|██████████████████████| 352/352 [00:41<00:00,  8.39it/s, train_loss=0.00174]\n",
      "[Valid]: 100%|███████████████████████| 40/40 [00:02<00:00, 14.26it/s, val_acc=88.1, val_loss=0.0032]\n"
     ]
    },
    {
     "name": "stdout",
     "output_type": "stream",
     "text": [
      "=======================================================================================================================================\n",
      "2024-05-23 02:18:40\n",
      "Epoch 135 / 250\n"
     ]
    },
    {
     "name": "stderr",
     "output_type": "stream",
     "text": [
      "[Train]: 100%|██████████████████████| 352/352 [00:42<00:00,  8.36it/s, train_loss=0.00173]\n",
      "[Valid]: 100%|██████████████████████| 40/40 [00:02<00:00, 14.42it/s, val_acc=88.3, val_loss=0.00318]\n"
     ]
    },
    {
     "name": "stdout",
     "output_type": "stream",
     "text": [
      "=======================================================================================================================================\n",
      "2024-05-23 02:19:25\n",
      "Epoch 136 / 250\n",
      "lr is updated to 0.000390625\n"
     ]
    },
    {
     "name": "stderr",
     "output_type": "stream",
     "text": [
      "[Train]: 100%|██████████████████████| 352/352 [00:41<00:00,  8.46it/s, train_loss=0.00175]\n",
      "[Valid]: 100%|██████████████████████| 40/40 [00:02<00:00, 14.29it/s, val_acc=88.4, val_loss=0.00317]\n"
     ]
    },
    {
     "name": "stdout",
     "output_type": "stream",
     "text": [
      "=======================================================================================================================================\n",
      "2024-05-23 02:20:10\n",
      "Epoch 137 / 250\n"
     ]
    },
    {
     "name": "stderr",
     "output_type": "stream",
     "text": [
      "[Train]: 100%|██████████████████████| 352/352 [00:42<00:00,  8.20it/s, train_loss=0.00173]\n",
      "[Valid]: 100%|██████████████████████| 40/40 [00:02<00:00, 14.47it/s, val_acc=88.4, val_loss=0.00318]\n"
     ]
    },
    {
     "name": "stdout",
     "output_type": "stream",
     "text": [
      "=======================================================================================================================================\n",
      "2024-05-23 02:20:55\n",
      "Epoch 138 / 250\n"
     ]
    },
    {
     "name": "stderr",
     "output_type": "stream",
     "text": [
      "[Train]: 100%|██████████████████████| 352/352 [00:42<00:00,  8.27it/s, train_loss=0.00171]\n",
      "[Valid]: 100%|██████████████████████| 40/40 [00:02<00:00, 14.96it/s, val_acc=88.3, val_loss=0.00316]\n"
     ]
    },
    {
     "name": "stdout",
     "output_type": "stream",
     "text": [
      "=======================================================================================================================================\n",
      "2024-05-23 02:21:40\n",
      "Epoch 139 / 250\n"
     ]
    },
    {
     "name": "stderr",
     "output_type": "stream",
     "text": [
      "[Train]: 100%|███████████████████████| 352/352 [00:41<00:00,  8.46it/s, train_loss=0.0017]\n",
      "[Valid]: 100%|██████████████████████| 40/40 [00:02<00:00, 14.33it/s, val_acc=88.2, val_loss=0.00317]\n"
     ]
    },
    {
     "name": "stdout",
     "output_type": "stream",
     "text": [
      "=======================================================================================================================================\n",
      "2024-05-23 02:22:25\n",
      "Epoch 140 / 250\n"
     ]
    },
    {
     "name": "stderr",
     "output_type": "stream",
     "text": [
      "[Train]: 100%|██████████████████████| 352/352 [00:41<00:00,  8.50it/s, train_loss=0.00168]\n",
      "[Valid]: 100%|██████████████████████| 40/40 [00:02<00:00, 14.44it/s, val_acc=88.2, val_loss=0.00317]\n"
     ]
    },
    {
     "name": "stdout",
     "output_type": "stream",
     "text": [
      "=======================================================================================================================================\n",
      "2024-05-23 02:23:09\n",
      "Epoch 141 / 250\n"
     ]
    },
    {
     "name": "stderr",
     "output_type": "stream",
     "text": [
      "[Train]: 100%|██████████████████████| 352/352 [00:41<00:00,  8.41it/s, train_loss=0.00171]\n",
      "[Valid]: 100%|██████████████████████| 40/40 [00:02<00:00, 14.47it/s, val_acc=88.3, val_loss=0.00317]\n"
     ]
    },
    {
     "name": "stdout",
     "output_type": "stream",
     "text": [
      "=======================================================================================================================================\n",
      "2024-05-23 02:23:54\n",
      "Epoch 142 / 250\n"
     ]
    },
    {
     "name": "stderr",
     "output_type": "stream",
     "text": [
      "[Train]: 100%|███████████████████████| 352/352 [00:42<00:00,  8.19it/s, train_loss=0.0017]\n",
      "[Valid]: 100%|██████████████████████| 40/40 [00:02<00:00, 15.18it/s, val_acc=88.2, val_loss=0.00316]\n"
     ]
    },
    {
     "name": "stdout",
     "output_type": "stream",
     "text": [
      "=======================================================================================================================================\n",
      "2024-05-23 02:24:39\n",
      "Epoch 143 / 250\n"
     ]
    },
    {
     "name": "stderr",
     "output_type": "stream",
     "text": [
      "[Train]: 100%|██████████████████████| 352/352 [00:43<00:00,  8.17it/s, train_loss=0.00171]\n",
      "[Valid]: 100%|██████████████████████| 40/40 [00:02<00:00, 14.21it/s, val_acc=88.1, val_loss=0.00318]\n"
     ]
    },
    {
     "name": "stdout",
     "output_type": "stream",
     "text": [
      "=======================================================================================================================================\n",
      "2024-05-23 02:25:25\n",
      "Epoch 144 / 250\n"
     ]
    },
    {
     "name": "stderr",
     "output_type": "stream",
     "text": [
      "[Train]: 100%|██████████████████████| 352/352 [00:42<00:00,  8.36it/s, train_loss=0.00167]\n",
      "[Valid]: 100%|██████████████████████| 40/40 [00:02<00:00, 14.38it/s, val_acc=88.2, val_loss=0.00317]\n"
     ]
    },
    {
     "name": "stdout",
     "output_type": "stream",
     "text": [
      "=======================================================================================================================================\n",
      "2024-05-23 02:26:10\n",
      "Epoch 145 / 250\n"
     ]
    },
    {
     "name": "stderr",
     "output_type": "stream",
     "text": [
      "[Train]: 100%|██████████████████████| 352/352 [00:41<00:00,  8.47it/s, train_loss=0.00173]\n",
      "[Valid]: 100%|██████████████████████| 40/40 [00:02<00:00, 14.53it/s, val_acc=88.4, val_loss=0.00316]\n"
     ]
    },
    {
     "name": "stdout",
     "output_type": "stream",
     "text": [
      "=======================================================================================================================================\n",
      "2024-05-23 02:26:54\n",
      "Epoch 146 / 250\n",
      "lr is updated to 0.0001953125\n"
     ]
    },
    {
     "name": "stderr",
     "output_type": "stream",
     "text": [
      "[Train]: 100%|███████████████████████| 352/352 [00:43<00:00,  8.10it/s, train_loss=0.0017]\n",
      "[Valid]: 100%|██████████████████████| 40/40 [00:02<00:00, 14.72it/s, val_acc=88.1, val_loss=0.00317]\n"
     ]
    },
    {
     "name": "stdout",
     "output_type": "stream",
     "text": [
      "=======================================================================================================================================\n",
      "2024-05-23 02:27:41\n",
      "Epoch 147 / 250\n"
     ]
    },
    {
     "name": "stderr",
     "output_type": "stream",
     "text": [
      "[Train]: 100%|██████████████████████| 352/352 [00:40<00:00,  8.59it/s, train_loss=0.00172]\n",
      "[Valid]: 100%|██████████████████████| 40/40 [00:02<00:00, 14.90it/s, val_acc=88.3, val_loss=0.00317]\n"
     ]
    },
    {
     "name": "stdout",
     "output_type": "stream",
     "text": [
      "=======================================================================================================================================\n",
      "2024-05-23 02:28:24\n",
      "Epoch 148 / 250\n"
     ]
    },
    {
     "name": "stderr",
     "output_type": "stream",
     "text": [
      "[Train]: 100%|██████████████████████| 352/352 [00:42<00:00,  8.21it/s, train_loss=0.00171]\n",
      "[Valid]: 100%|██████████████████████| 40/40 [00:02<00:00, 15.21it/s, val_acc=88.1, val_loss=0.00319]\n"
     ]
    },
    {
     "name": "stdout",
     "output_type": "stream",
     "text": [
      "=======================================================================================================================================\n",
      "2024-05-23 02:29:10\n",
      "Epoch 149 / 250\n"
     ]
    },
    {
     "name": "stderr",
     "output_type": "stream",
     "text": [
      "[Train]: 100%|██████████████████████| 352/352 [00:41<00:00,  8.42it/s, train_loss=0.00172]\n",
      "[Valid]: 100%|██████████████████████| 40/40 [00:02<00:00, 14.30it/s, val_acc=88.2, val_loss=0.00317]\n"
     ]
    },
    {
     "name": "stdout",
     "output_type": "stream",
     "text": [
      "=======================================================================================================================================\n",
      "2024-05-23 02:29:54\n",
      "Epoch 150 / 250\n"
     ]
    },
    {
     "name": "stderr",
     "output_type": "stream",
     "text": [
      "[Train]: 100%|██████████████████████| 352/352 [00:42<00:00,  8.23it/s, train_loss=0.00172]\n",
      "[Valid]: 100%|██████████████████████| 40/40 [00:02<00:00, 14.98it/s, val_acc=88.3, val_loss=0.00316]\n"
     ]
    },
    {
     "name": "stdout",
     "output_type": "stream",
     "text": [
      "=======================================================================================================================================\n",
      "2024-05-23 02:30:40\n",
      "Epoch 151 / 250\n"
     ]
    },
    {
     "name": "stderr",
     "output_type": "stream",
     "text": [
      "[Train]: 100%|██████████████████████| 352/352 [00:42<00:00,  8.26it/s, train_loss=0.00172]\n",
      "[Valid]: 100%|██████████████████████| 40/40 [00:02<00:00, 15.00it/s, val_acc=88.4, val_loss=0.00317]\n"
     ]
    },
    {
     "name": "stdout",
     "output_type": "stream",
     "text": [
      "=======================================================================================================================================\n",
      "2024-05-23 02:31:25\n",
      "Epoch 152 / 250\n"
     ]
    },
    {
     "name": "stderr",
     "output_type": "stream",
     "text": [
      "[Train]: 100%|██████████████████████| 352/352 [00:41<00:00,  8.56it/s, train_loss=0.00171]\n",
      "[Valid]: 100%|██████████████████████| 40/40 [00:02<00:00, 14.60it/s, val_acc=88.3, val_loss=0.00319]\n"
     ]
    },
    {
     "name": "stdout",
     "output_type": "stream",
     "text": [
      "=======================================================================================================================================\n",
      "2024-05-23 02:32:09\n",
      "Epoch 153 / 250\n"
     ]
    },
    {
     "name": "stderr",
     "output_type": "stream",
     "text": [
      "[Train]: 100%|██████████████████████| 352/352 [00:41<00:00,  8.53it/s, train_loss=0.00173]\n",
      "[Valid]: 100%|██████████████████████| 40/40 [00:02<00:00, 14.34it/s, val_acc=88.3, val_loss=0.00317]\n"
     ]
    },
    {
     "name": "stdout",
     "output_type": "stream",
     "text": [
      "=======================================================================================================================================\n",
      "2024-05-23 02:32:53\n",
      "Epoch 154 / 250\n"
     ]
    },
    {
     "name": "stderr",
     "output_type": "stream",
     "text": [
      "[Train]: 100%|███████████████████████| 352/352 [00:40<00:00,  8.59it/s, train_loss=0.0017]\n",
      "[Valid]: 100%|██████████████████████| 40/40 [00:02<00:00, 14.61it/s, val_acc=88.1, val_loss=0.00319]\n"
     ]
    },
    {
     "name": "stdout",
     "output_type": "stream",
     "text": [
      "=======================================================================================================================================\n",
      "2024-05-23 02:33:37\n",
      "Epoch 155 / 250\n"
     ]
    },
    {
     "name": "stderr",
     "output_type": "stream",
     "text": [
      "[Train]: 100%|██████████████████████| 352/352 [00:41<00:00,  8.42it/s, train_loss=0.00169]\n",
      "[Valid]: 100%|████████████████████████| 40/40 [00:02<00:00, 14.35it/s, val_acc=88, val_loss=0.00319]\n"
     ]
    },
    {
     "name": "stdout",
     "output_type": "stream",
     "text": [
      "=======================================================================================================================================\n",
      "2024-05-23 02:34:21\n",
      "Epoch 156 / 250\n",
      "lr is updated to 9.765625e-05\n"
     ]
    },
    {
     "name": "stderr",
     "output_type": "stream",
     "text": [
      "[Train]: 100%|███████████████████████| 352/352 [00:42<00:00,  8.37it/s, train_loss=0.0017]\n",
      "[Valid]: 100%|██████████████████████| 40/40 [00:02<00:00, 13.81it/s, val_acc=88.2, val_loss=0.00318]\n"
     ]
    },
    {
     "name": "stdout",
     "output_type": "stream",
     "text": [
      "=======================================================================================================================================\n",
      "2024-05-23 02:35:06\n",
      "Epoch 157 / 250\n"
     ]
    },
    {
     "name": "stderr",
     "output_type": "stream",
     "text": [
      "[Train]: 100%|██████████████████████| 352/352 [00:42<00:00,  8.23it/s, train_loss=0.00173]\n",
      "[Valid]: 100%|██████████████████████| 40/40 [00:02<00:00, 15.05it/s, val_acc=88.3, val_loss=0.00316]\n"
     ]
    },
    {
     "name": "stdout",
     "output_type": "stream",
     "text": [
      "=======================================================================================================================================\n",
      "2024-05-23 02:35:52\n",
      "Epoch 158 / 250\n"
     ]
    },
    {
     "name": "stderr",
     "output_type": "stream",
     "text": [
      "[Train]: 100%|██████████████████████| 352/352 [00:43<00:00,  8.18it/s, train_loss=0.00169]\n",
      "[Valid]: 100%|██████████████████████| 40/40 [00:02<00:00, 14.88it/s, val_acc=88.2, val_loss=0.00317]\n"
     ]
    },
    {
     "name": "stdout",
     "output_type": "stream",
     "text": [
      "=======================================================================================================================================\n",
      "2024-05-23 02:36:38\n",
      "Epoch 159 / 250\n"
     ]
    },
    {
     "name": "stderr",
     "output_type": "stream",
     "text": [
      "[Train]: 100%|██████████████████████| 352/352 [00:42<00:00,  8.37it/s, train_loss=0.00172]\n",
      "[Valid]: 100%|██████████████████████| 40/40 [00:02<00:00, 14.56it/s, val_acc=88.3, val_loss=0.00316]\n"
     ]
    },
    {
     "name": "stdout",
     "output_type": "stream",
     "text": [
      "=======================================================================================================================================\n",
      "2024-05-23 02:37:22\n",
      "Epoch 160 / 250\n"
     ]
    },
    {
     "name": "stderr",
     "output_type": "stream",
     "text": [
      "[Train]: 100%|██████████████████████| 352/352 [00:42<00:00,  8.26it/s, train_loss=0.00169]\n",
      "[Valid]: 100%|██████████████████████| 40/40 [00:02<00:00, 15.13it/s, val_acc=88.3, val_loss=0.00317]\n"
     ]
    },
    {
     "name": "stdout",
     "output_type": "stream",
     "text": [
      "=======================================================================================================================================\n",
      "2024-05-23 02:38:08\n",
      "Epoch 161 / 250\n"
     ]
    },
    {
     "name": "stderr",
     "output_type": "stream",
     "text": [
      "[Train]: 100%|██████████████████████| 352/352 [00:42<00:00,  8.34it/s, train_loss=0.00169]\n",
      "[Valid]: 100%|██████████████████████| 40/40 [00:02<00:00, 14.93it/s, val_acc=88.2, val_loss=0.00316]\n"
     ]
    },
    {
     "name": "stdout",
     "output_type": "stream",
     "text": [
      "=======================================================================================================================================\n",
      "2024-05-23 02:38:53\n",
      "Epoch 162 / 250\n"
     ]
    },
    {
     "name": "stderr",
     "output_type": "stream",
     "text": [
      "[Train]: 100%|██████████████████████| 352/352 [00:41<00:00,  8.49it/s, train_loss=0.00173]\n",
      "[Valid]: 100%|██████████████████████| 40/40 [00:02<00:00, 14.74it/s, val_acc=88.3, val_loss=0.00318]\n"
     ]
    },
    {
     "name": "stdout",
     "output_type": "stream",
     "text": [
      "=======================================================================================================================================\n",
      "2024-05-23 02:39:37\n",
      "Epoch 163 / 250\n"
     ]
    },
    {
     "name": "stderr",
     "output_type": "stream",
     "text": [
      "[Train]: 100%|██████████████████████| 352/352 [00:41<00:00,  8.41it/s, train_loss=0.00168]\n",
      "[Valid]: 100%|██████████████████████| 40/40 [00:02<00:00, 14.29it/s, val_acc=88.1, val_loss=0.00317]\n"
     ]
    },
    {
     "name": "stdout",
     "output_type": "stream",
     "text": [
      "=======================================================================================================================================\n",
      "2024-05-23 02:40:21\n",
      "Epoch 164 / 250\n"
     ]
    },
    {
     "name": "stderr",
     "output_type": "stream",
     "text": [
      "[Train]: 100%|██████████████████████| 352/352 [00:42<00:00,  8.32it/s, train_loss=0.00172]\n",
      "[Valid]: 100%|██████████████████████| 40/40 [00:02<00:00, 14.96it/s, val_acc=88.3, val_loss=0.00317]\n"
     ]
    },
    {
     "name": "stdout",
     "output_type": "stream",
     "text": [
      "=======================================================================================================================================\n",
      "2024-05-23 02:41:06\n",
      "Epoch 165 / 250\n"
     ]
    },
    {
     "name": "stderr",
     "output_type": "stream",
     "text": [
      "[Train]: 100%|███████████████████████| 352/352 [00:43<00:00,  8.18it/s, train_loss=0.0017]\n",
      "[Valid]: 100%|██████████████████████| 40/40 [00:02<00:00, 15.25it/s, val_acc=88.1, val_loss=0.00317]\n"
     ]
    },
    {
     "name": "stdout",
     "output_type": "stream",
     "text": [
      "=======================================================================================================================================\n",
      "2024-05-23 02:41:52\n",
      "Epoch 166 / 250\n",
      "lr is updated to 4.8828125e-05\n"
     ]
    },
    {
     "name": "stderr",
     "output_type": "stream",
     "text": [
      "[Train]: 100%|██████████████████████| 352/352 [00:42<00:00,  8.37it/s, train_loss=0.00173]\n",
      "[Valid]: 100%|██████████████████████| 40/40 [00:02<00:00, 14.92it/s, val_acc=88.3, val_loss=0.00317]\n"
     ]
    },
    {
     "name": "stdout",
     "output_type": "stream",
     "text": [
      "=======================================================================================================================================\n",
      "2024-05-23 02:42:37\n",
      "Epoch 167 / 250\n"
     ]
    },
    {
     "name": "stderr",
     "output_type": "stream",
     "text": [
      "[Train]: 100%|██████████████████████| 352/352 [00:42<00:00,  8.25it/s, train_loss=0.00174]\n",
      "[Valid]: 100%|██████████████████████| 40/40 [00:02<00:00, 15.40it/s, val_acc=88.3, val_loss=0.00318]\n"
     ]
    },
    {
     "name": "stdout",
     "output_type": "stream",
     "text": [
      "=======================================================================================================================================\n",
      "2024-05-23 02:43:22\n",
      "Epoch 168 / 250\n"
     ]
    },
    {
     "name": "stderr",
     "output_type": "stream",
     "text": [
      "[Train]: 100%|██████████████████████| 352/352 [00:41<00:00,  8.50it/s, train_loss=0.00173]\n",
      "[Valid]: 100%|██████████████████████| 40/40 [00:02<00:00, 14.89it/s, val_acc=88.3, val_loss=0.00318]\n"
     ]
    },
    {
     "name": "stdout",
     "output_type": "stream",
     "text": [
      "=======================================================================================================================================\n",
      "2024-05-23 02:44:06\n",
      "Epoch 169 / 250\n"
     ]
    },
    {
     "name": "stderr",
     "output_type": "stream",
     "text": [
      "[Train]: 100%|██████████████████████| 352/352 [00:42<00:00,  8.28it/s, train_loss=0.00173]\n",
      "[Valid]: 100%|██████████████████████| 40/40 [00:02<00:00, 14.06it/s, val_acc=88.1, val_loss=0.00319]\n"
     ]
    },
    {
     "name": "stdout",
     "output_type": "stream",
     "text": [
      "=======================================================================================================================================\n",
      "2024-05-23 02:44:52\n",
      "Epoch 170 / 250\n"
     ]
    },
    {
     "name": "stderr",
     "output_type": "stream",
     "text": [
      "[Train]: 100%|██████████████████████| 352/352 [00:42<00:00,  8.26it/s, train_loss=0.00171]\n",
      "[Valid]: 100%|██████████████████████| 40/40 [00:02<00:00, 14.40it/s, val_acc=88.2, val_loss=0.00317]\n"
     ]
    },
    {
     "name": "stdout",
     "output_type": "stream",
     "text": [
      "=======================================================================================================================================\n",
      "2024-05-23 02:45:37\n",
      "Epoch 171 / 250\n"
     ]
    },
    {
     "name": "stderr",
     "output_type": "stream",
     "text": [
      "[Train]: 100%|██████████████████████| 352/352 [00:41<00:00,  8.43it/s, train_loss=0.00169]\n",
      "[Valid]: 100%|██████████████████████| 40/40 [00:02<00:00, 14.91it/s, val_acc=88.2, val_loss=0.00317]\n"
     ]
    },
    {
     "name": "stdout",
     "output_type": "stream",
     "text": [
      "=======================================================================================================================================\n",
      "2024-05-23 02:46:21\n",
      "Epoch 172 / 250\n"
     ]
    },
    {
     "name": "stderr",
     "output_type": "stream",
     "text": [
      "[Train]: 100%|██████████████████████| 352/352 [00:43<00:00,  8.16it/s, train_loss=0.00171]\n",
      "[Valid]: 100%|██████████████████████| 40/40 [00:02<00:00, 13.44it/s, val_acc=88.2, val_loss=0.00317]\n"
     ]
    },
    {
     "name": "stdout",
     "output_type": "stream",
     "text": [
      "=======================================================================================================================================\n",
      "2024-05-23 02:47:08\n",
      "Epoch 173 / 250\n"
     ]
    },
    {
     "name": "stderr",
     "output_type": "stream",
     "text": [
      "[Train]: 100%|██████████████████████| 352/352 [00:42<00:00,  8.36it/s, train_loss=0.00173]\n",
      "[Valid]: 100%|██████████████████████| 40/40 [00:02<00:00, 14.45it/s, val_acc=88.2, val_loss=0.00317]\n"
     ]
    },
    {
     "name": "stdout",
     "output_type": "stream",
     "text": [
      "=======================================================================================================================================\n",
      "2024-05-23 02:47:52\n",
      "Epoch 174 / 250\n"
     ]
    },
    {
     "name": "stderr",
     "output_type": "stream",
     "text": [
      "[Train]: 100%|██████████████████████| 352/352 [00:42<00:00,  8.30it/s, train_loss=0.00173]\n",
      "[Valid]: 100%|██████████████████████| 40/40 [00:02<00:00, 14.60it/s, val_acc=88.1, val_loss=0.00316]\n"
     ]
    },
    {
     "name": "stdout",
     "output_type": "stream",
     "text": [
      "=======================================================================================================================================\n",
      "2024-05-23 02:48:38\n",
      "Epoch 175 / 250\n"
     ]
    },
    {
     "name": "stderr",
     "output_type": "stream",
     "text": [
      "[Train]: 100%|██████████████████████| 352/352 [00:41<00:00,  8.39it/s, train_loss=0.00169]\n",
      "[Valid]: 100%|██████████████████████| 40/40 [00:02<00:00, 14.60it/s, val_acc=88.1, val_loss=0.00318]\n"
     ]
    },
    {
     "name": "stdout",
     "output_type": "stream",
     "text": [
      "=======================================================================================================================================\n",
      "2024-05-23 02:49:22\n",
      "Epoch 176 / 250\n",
      "lr is updated to 2.44140625e-05\n"
     ]
    },
    {
     "name": "stderr",
     "output_type": "stream",
     "text": [
      "[Train]: 100%|██████████████████████| 352/352 [00:41<00:00,  8.55it/s, train_loss=0.00172]\n",
      "[Valid]: 100%|██████████████████████| 40/40 [00:02<00:00, 14.92it/s, val_acc=88.1, val_loss=0.00318]\n"
     ]
    },
    {
     "name": "stdout",
     "output_type": "stream",
     "text": [
      "=======================================================================================================================================\n",
      "2024-05-23 02:50:06\n",
      "Epoch 177 / 250\n"
     ]
    },
    {
     "name": "stderr",
     "output_type": "stream",
     "text": [
      "[Train]: 100%|██████████████████████| 352/352 [00:42<00:00,  8.33it/s, train_loss=0.00171]\n",
      "[Valid]: 100%|██████████████████████| 40/40 [00:02<00:00, 14.47it/s, val_acc=88.2, val_loss=0.00317]\n"
     ]
    },
    {
     "name": "stdout",
     "output_type": "stream",
     "text": [
      "=======================================================================================================================================\n",
      "2024-05-23 02:50:51\n",
      "Epoch 178 / 250\n"
     ]
    },
    {
     "name": "stderr",
     "output_type": "stream",
     "text": [
      "[Train]: 100%|██████████████████████| 352/352 [00:41<00:00,  8.53it/s, train_loss=0.00175]\n",
      "[Valid]: 100%|████████████████████████| 40/40 [00:02<00:00, 14.55it/s, val_acc=88, val_loss=0.00319]\n"
     ]
    },
    {
     "name": "stdout",
     "output_type": "stream",
     "text": [
      "=======================================================================================================================================\n",
      "2024-05-23 02:51:35\n",
      "Epoch 179 / 250\n"
     ]
    },
    {
     "name": "stderr",
     "output_type": "stream",
     "text": [
      "[Train]: 100%|██████████████████████| 352/352 [00:41<00:00,  8.53it/s, train_loss=0.00171]\n",
      "[Valid]: 100%|███████████████████████| 40/40 [00:02<00:00, 14.49it/s, val_acc=88.2, val_loss=0.0032]\n"
     ]
    },
    {
     "name": "stdout",
     "output_type": "stream",
     "text": [
      "=======================================================================================================================================\n",
      "2024-05-23 02:52:19\n",
      "Epoch 180 / 250\n"
     ]
    },
    {
     "name": "stderr",
     "output_type": "stream",
     "text": [
      "[Train]: 100%|██████████████████████| 352/352 [00:41<00:00,  8.53it/s, train_loss=0.00171]\n",
      "[Valid]: 100%|██████████████████████| 40/40 [00:02<00:00, 14.39it/s, val_acc=88.3, val_loss=0.00316]\n"
     ]
    },
    {
     "name": "stdout",
     "output_type": "stream",
     "text": [
      "=======================================================================================================================================\n",
      "2024-05-23 02:53:03\n",
      "Epoch 181 / 250\n"
     ]
    },
    {
     "name": "stderr",
     "output_type": "stream",
     "text": [
      "[Train]: 100%|███████████████████████| 352/352 [00:41<00:00,  8.53it/s, train_loss=0.0017]\n",
      "[Valid]: 100%|██████████████████████| 40/40 [00:02<00:00, 14.34it/s, val_acc=88.2, val_loss=0.00315]\n"
     ]
    },
    {
     "name": "stdout",
     "output_type": "stream",
     "text": [
      "=======================================================================================================================================\n",
      "2024-05-23 02:53:47\n",
      "Epoch 182 / 250\n"
     ]
    },
    {
     "name": "stderr",
     "output_type": "stream",
     "text": [
      "[Train]: 100%|███████████████████████| 352/352 [00:41<00:00,  8.51it/s, train_loss=0.0017]\n",
      "[Valid]: 100%|██████████████████████| 40/40 [00:02<00:00, 14.47it/s, val_acc=88.3, val_loss=0.00319]\n"
     ]
    },
    {
     "name": "stdout",
     "output_type": "stream",
     "text": [
      "=======================================================================================================================================\n",
      "2024-05-23 02:54:31\n",
      "Epoch 183 / 250\n"
     ]
    },
    {
     "name": "stderr",
     "output_type": "stream",
     "text": [
      "[Train]: 100%|██████████████████████| 352/352 [00:41<00:00,  8.52it/s, train_loss=0.00172]\n",
      "[Valid]: 100%|██████████████████████| 40/40 [00:02<00:00, 14.75it/s, val_acc=88.2, val_loss=0.00319]\n"
     ]
    },
    {
     "name": "stdout",
     "output_type": "stream",
     "text": [
      "=======================================================================================================================================\n",
      "2024-05-23 02:55:16\n",
      "Epoch 184 / 250\n"
     ]
    },
    {
     "name": "stderr",
     "output_type": "stream",
     "text": [
      "[Train]: 100%|██████████████████████| 352/352 [00:41<00:00,  8.46it/s, train_loss=0.00171]\n",
      "[Valid]: 100%|██████████████████████| 40/40 [00:02<00:00, 14.45it/s, val_acc=88.1, val_loss=0.00319]\n"
     ]
    },
    {
     "name": "stdout",
     "output_type": "stream",
     "text": [
      "=======================================================================================================================================\n",
      "2024-05-23 02:56:00\n",
      "Epoch 185 / 250\n"
     ]
    },
    {
     "name": "stderr",
     "output_type": "stream",
     "text": [
      "[Train]: 100%|███████████████████████| 352/352 [00:41<00:00,  8.47it/s, train_loss=0.0017]\n",
      "[Valid]: 100%|██████████████████████| 40/40 [00:02<00:00, 14.68it/s, val_acc=88.2, val_loss=0.00318]\n"
     ]
    },
    {
     "name": "stdout",
     "output_type": "stream",
     "text": [
      "=======================================================================================================================================\n",
      "2024-05-23 02:56:44\n",
      "Epoch 186 / 250\n",
      "lr is updated to 1.220703125e-05\n"
     ]
    },
    {
     "name": "stderr",
     "output_type": "stream",
     "text": [
      "[Train]: 100%|██████████████████████| 352/352 [00:42<00:00,  8.37it/s, train_loss=0.00173]\n",
      "[Valid]: 100%|██████████████████████| 40/40 [00:02<00:00, 14.32it/s, val_acc=88.3, val_loss=0.00317]\n"
     ]
    },
    {
     "name": "stdout",
     "output_type": "stream",
     "text": [
      "=======================================================================================================================================\n",
      "2024-05-23 02:57:29\n",
      "Epoch 187 / 250\n"
     ]
    },
    {
     "name": "stderr",
     "output_type": "stream",
     "text": [
      "[Train]: 100%|██████████████████████| 352/352 [00:42<00:00,  8.30it/s, train_loss=0.00171]\n",
      "[Valid]: 100%|██████████████████████| 40/40 [00:02<00:00, 14.99it/s, val_acc=88.2, val_loss=0.00319]\n"
     ]
    },
    {
     "name": "stdout",
     "output_type": "stream",
     "text": [
      "=======================================================================================================================================\n",
      "2024-05-23 02:58:14\n",
      "Epoch 188 / 250\n"
     ]
    },
    {
     "name": "stderr",
     "output_type": "stream",
     "text": [
      "[Train]: 100%|██████████████████████| 352/352 [00:43<00:00,  8.11it/s, train_loss=0.00171]\n",
      "[Valid]: 100%|██████████████████████| 40/40 [00:02<00:00, 14.51it/s, val_acc=88.2, val_loss=0.00317]\n"
     ]
    },
    {
     "name": "stdout",
     "output_type": "stream",
     "text": [
      "=======================================================================================================================================\n",
      "2024-05-23 02:59:00\n",
      "Epoch 189 / 250\n"
     ]
    },
    {
     "name": "stderr",
     "output_type": "stream",
     "text": [
      "[Train]: 100%|██████████████████████| 352/352 [00:41<00:00,  8.50it/s, train_loss=0.00174]\n",
      "[Valid]: 100%|██████████████████████| 40/40 [00:02<00:00, 14.61it/s, val_acc=88.3, val_loss=0.00316]\n"
     ]
    },
    {
     "name": "stdout",
     "output_type": "stream",
     "text": [
      "=======================================================================================================================================\n",
      "2024-05-23 02:59:44\n",
      "Epoch 190 / 250\n"
     ]
    },
    {
     "name": "stderr",
     "output_type": "stream",
     "text": [
      "[Train]: 100%|██████████████████████| 352/352 [00:42<00:00,  8.28it/s, train_loss=0.00171]\n",
      "[Valid]: 100%|██████████████████████| 40/40 [00:02<00:00, 14.35it/s, val_acc=88.1, val_loss=0.00317]\n"
     ]
    },
    {
     "name": "stdout",
     "output_type": "stream",
     "text": [
      "=======================================================================================================================================\n",
      "2024-05-23 03:00:30\n",
      "Epoch 191 / 250\n"
     ]
    },
    {
     "name": "stderr",
     "output_type": "stream",
     "text": [
      "[Train]: 100%|██████████████████████| 352/352 [00:41<00:00,  8.39it/s, train_loss=0.00173]\n",
      "[Valid]: 100%|██████████████████████| 40/40 [00:02<00:00, 14.27it/s, val_acc=88.1, val_loss=0.00317]\n"
     ]
    },
    {
     "name": "stdout",
     "output_type": "stream",
     "text": [
      "=======================================================================================================================================\n",
      "2024-05-23 03:01:15\n",
      "Epoch 192 / 250\n"
     ]
    },
    {
     "name": "stderr",
     "output_type": "stream",
     "text": [
      "[Train]: 100%|██████████████████████| 352/352 [00:42<00:00,  8.21it/s, train_loss=0.00173]\n",
      "[Valid]: 100%|██████████████████████| 40/40 [00:02<00:00, 14.32it/s, val_acc=88.2, val_loss=0.00317]\n"
     ]
    },
    {
     "name": "stdout",
     "output_type": "stream",
     "text": [
      "=======================================================================================================================================\n",
      "2024-05-23 03:02:00\n",
      "Epoch 193 / 250\n"
     ]
    },
    {
     "name": "stderr",
     "output_type": "stream",
     "text": [
      "[Train]: 100%|██████████████████████| 352/352 [00:42<00:00,  8.38it/s, train_loss=0.00175]\n",
      "[Valid]: 100%|██████████████████████| 40/40 [00:02<00:00, 14.34it/s, val_acc=88.2, val_loss=0.00319]\n"
     ]
    },
    {
     "name": "stdout",
     "output_type": "stream",
     "text": [
      "=======================================================================================================================================\n",
      "2024-05-23 03:02:45\n",
      "Epoch 194 / 250\n"
     ]
    },
    {
     "name": "stderr",
     "output_type": "stream",
     "text": [
      "[Train]: 100%|██████████████████████| 352/352 [00:41<00:00,  8.40it/s, train_loss=0.00172]\n",
      "[Valid]: 100%|██████████████████████| 40/40 [00:02<00:00, 14.42it/s, val_acc=88.2, val_loss=0.00317]\n"
     ]
    },
    {
     "name": "stdout",
     "output_type": "stream",
     "text": [
      "=======================================================================================================================================\n",
      "2024-05-23 03:03:30\n",
      "Epoch 195 / 250\n"
     ]
    },
    {
     "name": "stderr",
     "output_type": "stream",
     "text": [
      "[Train]: 100%|███████████████████████| 352/352 [00:41<00:00,  8.47it/s, train_loss=0.0017]\n",
      "[Valid]: 100%|██████████████████████| 40/40 [00:02<00:00, 15.00it/s, val_acc=88.3, val_loss=0.00319]\n"
     ]
    },
    {
     "name": "stdout",
     "output_type": "stream",
     "text": [
      "=======================================================================================================================================\n",
      "2024-05-23 03:04:14\n",
      "Epoch 196 / 250\n",
      "lr is updated to 6.103515625e-06\n"
     ]
    },
    {
     "name": "stderr",
     "output_type": "stream",
     "text": [
      "[Train]: 100%|██████████████████████| 352/352 [00:43<00:00,  8.07it/s, train_loss=0.00175]\n",
      "[Valid]: 100%|██████████████████████| 40/40 [00:02<00:00, 14.21it/s, val_acc=88.2, val_loss=0.00316]\n"
     ]
    },
    {
     "name": "stdout",
     "output_type": "stream",
     "text": [
      "=======================================================================================================================================\n",
      "2024-05-23 03:05:00\n",
      "Epoch 197 / 250\n"
     ]
    },
    {
     "name": "stderr",
     "output_type": "stream",
     "text": [
      "[Train]: 100%|██████████████████████| 352/352 [00:43<00:00,  8.17it/s, train_loss=0.00172]\n",
      "[Valid]: 100%|██████████████████████| 40/40 [00:02<00:00, 14.48it/s, val_acc=88.2, val_loss=0.00317]\n"
     ]
    },
    {
     "name": "stdout",
     "output_type": "stream",
     "text": [
      "=======================================================================================================================================\n",
      "2024-05-23 03:05:46\n",
      "Epoch 198 / 250\n"
     ]
    },
    {
     "name": "stderr",
     "output_type": "stream",
     "text": [
      "[Train]: 100%|██████████████████████| 352/352 [00:43<00:00,  8.15it/s, train_loss=0.00173]\n",
      "[Valid]: 100%|██████████████████████| 40/40 [00:02<00:00, 14.57it/s, val_acc=88.1, val_loss=0.00317]\n"
     ]
    },
    {
     "name": "stdout",
     "output_type": "stream",
     "text": [
      "=======================================================================================================================================\n",
      "2024-05-23 03:06:32\n",
      "Epoch 199 / 250\n"
     ]
    },
    {
     "name": "stderr",
     "output_type": "stream",
     "text": [
      "[Train]: 100%|██████████████████████| 352/352 [00:43<00:00,  8.19it/s, train_loss=0.00171]\n",
      "[Valid]: 100%|██████████████████████| 40/40 [00:03<00:00, 13.28it/s, val_acc=88.2, val_loss=0.00318]\n"
     ]
    },
    {
     "name": "stdout",
     "output_type": "stream",
     "text": [
      "=======================================================================================================================================\n",
      "2024-05-23 03:07:18\n",
      "Epoch 200 / 250\n"
     ]
    },
    {
     "name": "stderr",
     "output_type": "stream",
     "text": [
      "[Train]: 100%|██████████████████████| 352/352 [00:43<00:00,  8.09it/s, train_loss=0.00171]\n",
      "[Valid]: 100%|██████████████████████| 40/40 [00:02<00:00, 14.10it/s, val_acc=88.1, val_loss=0.00319]\n"
     ]
    },
    {
     "name": "stdout",
     "output_type": "stream",
     "text": [
      "=======================================================================================================================================\n",
      "2024-05-23 03:08:05\n",
      "Epoch 201 / 250\n"
     ]
    },
    {
     "name": "stderr",
     "output_type": "stream",
     "text": [
      "[Train]: 100%|██████████████████████| 352/352 [00:43<00:00,  8.18it/s, train_loss=0.00171]\n",
      "[Valid]: 100%|██████████████████████| 40/40 [00:02<00:00, 14.44it/s, val_acc=88.2, val_loss=0.00317]\n"
     ]
    },
    {
     "name": "stdout",
     "output_type": "stream",
     "text": [
      "=======================================================================================================================================\n",
      "2024-05-23 03:08:50\n",
      "Epoch 202 / 250\n"
     ]
    },
    {
     "name": "stderr",
     "output_type": "stream",
     "text": [
      "[Train]: 100%|██████████████████████| 352/352 [00:42<00:00,  8.35it/s, train_loss=0.00174]\n",
      "[Valid]: 100%|██████████████████████| 40/40 [00:02<00:00, 14.42it/s, val_acc=88.2, val_loss=0.00317]\n"
     ]
    },
    {
     "name": "stdout",
     "output_type": "stream",
     "text": [
      "=======================================================================================================================================\n",
      "2024-05-23 03:09:35\n",
      "Epoch 203 / 250\n"
     ]
    },
    {
     "name": "stderr",
     "output_type": "stream",
     "text": [
      "[Train]: 100%|███████████████████████| 352/352 [00:41<00:00,  8.46it/s, train_loss=0.0017]\n",
      "[Valid]: 100%|██████████████████████| 40/40 [00:02<00:00, 14.15it/s, val_acc=88.1, val_loss=0.00317]\n"
     ]
    },
    {
     "name": "stdout",
     "output_type": "stream",
     "text": [
      "=======================================================================================================================================\n",
      "2024-05-23 03:10:20\n",
      "Epoch 204 / 250\n"
     ]
    },
    {
     "name": "stderr",
     "output_type": "stream",
     "text": [
      "[Train]: 100%|██████████████████████| 352/352 [00:41<00:00,  8.47it/s, train_loss=0.00173]\n",
      "[Valid]: 100%|██████████████████████| 40/40 [00:02<00:00, 14.33it/s, val_acc=88.4, val_loss=0.00316]\n"
     ]
    },
    {
     "name": "stdout",
     "output_type": "stream",
     "text": [
      "=======================================================================================================================================\n",
      "2024-05-23 03:11:04\n",
      "Epoch 205 / 250\n"
     ]
    },
    {
     "name": "stderr",
     "output_type": "stream",
     "text": [
      "[Train]: 100%|██████████████████████| 352/352 [00:41<00:00,  8.45it/s, train_loss=0.00175]\n",
      "[Valid]: 100%|██████████████████████| 40/40 [00:02<00:00, 14.87it/s, val_acc=88.2, val_loss=0.00317]\n"
     ]
    },
    {
     "name": "stdout",
     "output_type": "stream",
     "text": [
      "=======================================================================================================================================\n",
      "2024-05-23 03:11:48\n",
      "Epoch 206 / 250\n",
      "lr is updated to 3.0517578125e-06\n"
     ]
    },
    {
     "name": "stderr",
     "output_type": "stream",
     "text": [
      "[Train]: 100%|██████████████████████| 352/352 [00:44<00:00,  7.94it/s, train_loss=0.00169]\n",
      "[Valid]: 100%|██████████████████████| 40/40 [00:02<00:00, 15.23it/s, val_acc=88.3, val_loss=0.00317]\n"
     ]
    },
    {
     "name": "stdout",
     "output_type": "stream",
     "text": [
      "=======================================================================================================================================\n",
      "2024-05-23 03:12:35\n",
      "Epoch 207 / 250\n"
     ]
    },
    {
     "name": "stderr",
     "output_type": "stream",
     "text": [
      "[Train]: 100%|██████████████████████| 352/352 [00:41<00:00,  8.42it/s, train_loss=0.00171]\n",
      "[Valid]: 100%|██████████████████████| 40/40 [00:02<00:00, 13.97it/s, val_acc=88.1, val_loss=0.00318]\n"
     ]
    },
    {
     "name": "stdout",
     "output_type": "stream",
     "text": [
      "=======================================================================================================================================\n",
      "2024-05-23 03:13:20\n",
      "Epoch 208 / 250\n"
     ]
    },
    {
     "name": "stderr",
     "output_type": "stream",
     "text": [
      "[Train]: 100%|██████████████████████| 352/352 [00:42<00:00,  8.33it/s, train_loss=0.00171]\n",
      "[Valid]: 100%|██████████████████████| 40/40 [00:02<00:00, 14.17it/s, val_acc=88.4, val_loss=0.00315]\n"
     ]
    },
    {
     "name": "stdout",
     "output_type": "stream",
     "text": [
      "=======================================================================================================================================\n",
      "2024-05-23 03:14:05\n",
      "Epoch 209 / 250\n"
     ]
    },
    {
     "name": "stderr",
     "output_type": "stream",
     "text": [
      "[Train]: 100%|██████████████████████| 352/352 [00:42<00:00,  8.19it/s, train_loss=0.00172]\n",
      "[Valid]: 100%|██████████████████████| 40/40 [00:03<00:00, 13.14it/s, val_acc=88.1, val_loss=0.00319]\n"
     ]
    },
    {
     "name": "stdout",
     "output_type": "stream",
     "text": [
      "=======================================================================================================================================\n",
      "2024-05-23 03:14:51\n",
      "Epoch 210 / 250\n"
     ]
    },
    {
     "name": "stderr",
     "output_type": "stream",
     "text": [
      "[Train]: 100%|██████████████████████| 352/352 [00:44<00:00,  7.87it/s, train_loss=0.00172]\n",
      "[Valid]: 100%|██████████████████████| 40/40 [00:02<00:00, 13.85it/s, val_acc=88.1, val_loss=0.00323]\n"
     ]
    },
    {
     "name": "stdout",
     "output_type": "stream",
     "text": [
      "=======================================================================================================================================\n",
      "2024-05-23 03:15:39\n",
      "Epoch 211 / 250\n"
     ]
    },
    {
     "name": "stderr",
     "output_type": "stream",
     "text": [
      "[Train]: 100%|██████████████████████| 352/352 [00:43<00:00,  8.16it/s, train_loss=0.00173]\n",
      "[Valid]: 100%|██████████████████████| 40/40 [00:02<00:00, 14.41it/s, val_acc=88.2, val_loss=0.00318]\n"
     ]
    },
    {
     "name": "stdout",
     "output_type": "stream",
     "text": [
      "=======================================================================================================================================\n",
      "2024-05-23 03:16:25\n",
      "Epoch 212 / 250\n"
     ]
    },
    {
     "name": "stderr",
     "output_type": "stream",
     "text": [
      "[Train]: 100%|██████████████████████| 352/352 [00:42<00:00,  8.36it/s, train_loss=0.00172]\n",
      "[Valid]: 100%|██████████████████████| 40/40 [00:02<00:00, 14.39it/s, val_acc=88.3, val_loss=0.00318]\n"
     ]
    },
    {
     "name": "stdout",
     "output_type": "stream",
     "text": [
      "=======================================================================================================================================\n",
      "2024-05-23 03:17:10\n",
      "Epoch 213 / 250\n"
     ]
    },
    {
     "name": "stderr",
     "output_type": "stream",
     "text": [
      "[Train]: 100%|██████████████████████| 352/352 [00:43<00:00,  8.14it/s, train_loss=0.00172]\n",
      "[Valid]: 100%|██████████████████████| 40/40 [00:02<00:00, 14.60it/s, val_acc=88.2, val_loss=0.00318]\n"
     ]
    },
    {
     "name": "stdout",
     "output_type": "stream",
     "text": [
      "=======================================================================================================================================\n",
      "2024-05-23 03:17:56\n",
      "Epoch 214 / 250\n"
     ]
    },
    {
     "name": "stderr",
     "output_type": "stream",
     "text": [
      "[Train]: 100%|███████████████████████| 352/352 [00:43<00:00,  8.15it/s, train_loss=0.0017]\n",
      "[Valid]: 100%|██████████████████████| 40/40 [00:02<00:00, 14.35it/s, val_acc=88.3, val_loss=0.00318]\n"
     ]
    },
    {
     "name": "stdout",
     "output_type": "stream",
     "text": [
      "=======================================================================================================================================\n",
      "2024-05-23 03:18:42\n",
      "Epoch 215 / 250\n"
     ]
    },
    {
     "name": "stderr",
     "output_type": "stream",
     "text": [
      "[Train]: 100%|██████████████████████| 352/352 [00:41<00:00,  8.44it/s, train_loss=0.00168]\n",
      "[Valid]: 100%|██████████████████████| 40/40 [00:02<00:00, 14.44it/s, val_acc=88.1, val_loss=0.00319]\n"
     ]
    },
    {
     "name": "stdout",
     "output_type": "stream",
     "text": [
      "=======================================================================================================================================\n",
      "2024-05-23 03:19:26\n",
      "Epoch 216 / 250\n",
      "lr is updated to 1.52587890625e-06\n"
     ]
    },
    {
     "name": "stderr",
     "output_type": "stream",
     "text": [
      "[Train]: 100%|██████████████████████| 352/352 [00:42<00:00,  8.27it/s, train_loss=0.00171]\n",
      "[Valid]: 100%|████████████████████████| 40/40 [00:02<00:00, 14.56it/s, val_acc=88, val_loss=0.00319]\n"
     ]
    },
    {
     "name": "stdout",
     "output_type": "stream",
     "text": [
      "=======================================================================================================================================\n",
      "2024-05-23 03:20:11\n",
      "Epoch 217 / 250\n"
     ]
    },
    {
     "name": "stderr",
     "output_type": "stream",
     "text": [
      "[Train]: 100%|███████████████████████| 352/352 [00:43<00:00,  8.15it/s, train_loss=0.0017]\n",
      "[Valid]: 100%|██████████████████████| 40/40 [00:02<00:00, 14.87it/s, val_acc=88.1, val_loss=0.00316]\n"
     ]
    },
    {
     "name": "stdout",
     "output_type": "stream",
     "text": [
      "=======================================================================================================================================\n",
      "2024-05-23 03:20:57\n",
      "Epoch 218 / 250\n"
     ]
    },
    {
     "name": "stderr",
     "output_type": "stream",
     "text": [
      "[Train]: 100%|██████████████████████| 352/352 [00:42<00:00,  8.35it/s, train_loss=0.00174]\n",
      "[Valid]: 100%|██████████████████████| 40/40 [00:02<00:00, 14.37it/s, val_acc=88.1, val_loss=0.00318]\n"
     ]
    },
    {
     "name": "stdout",
     "output_type": "stream",
     "text": [
      "=======================================================================================================================================\n",
      "2024-05-23 03:21:42\n",
      "Epoch 219 / 250\n"
     ]
    },
    {
     "name": "stderr",
     "output_type": "stream",
     "text": [
      "[Train]: 100%|██████████████████████| 352/352 [00:42<00:00,  8.33it/s, train_loss=0.00168]\n",
      "[Valid]: 100%|██████████████████████| 40/40 [00:02<00:00, 14.11it/s, val_acc=88.2, val_loss=0.00318]\n"
     ]
    },
    {
     "name": "stdout",
     "output_type": "stream",
     "text": [
      "=======================================================================================================================================\n",
      "2024-05-23 03:22:27\n",
      "Epoch 220 / 250\n"
     ]
    },
    {
     "name": "stderr",
     "output_type": "stream",
     "text": [
      "[Train]: 100%|██████████████████████| 352/352 [00:42<00:00,  8.34it/s, train_loss=0.00169]\n",
      "[Valid]: 100%|██████████████████████| 40/40 [00:02<00:00, 14.96it/s, val_acc=88.2, val_loss=0.00318]\n"
     ]
    },
    {
     "name": "stdout",
     "output_type": "stream",
     "text": [
      "=======================================================================================================================================\n",
      "2024-05-23 03:23:12\n",
      "Epoch 221 / 250\n"
     ]
    },
    {
     "name": "stderr",
     "output_type": "stream",
     "text": [
      "[Train]: 100%|██████████████████████| 352/352 [00:44<00:00,  7.99it/s, train_loss=0.00171]\n",
      "[Valid]: 100%|███████████████████████| 40/40 [00:02<00:00, 14.64it/s, val_acc=88.2, val_loss=0.0032]\n"
     ]
    },
    {
     "name": "stdout",
     "output_type": "stream",
     "text": [
      "=======================================================================================================================================\n",
      "2024-05-23 03:23:59\n",
      "Epoch 222 / 250\n"
     ]
    },
    {
     "name": "stderr",
     "output_type": "stream",
     "text": [
      "[Train]: 100%|██████████████████████| 352/352 [00:41<00:00,  8.43it/s, train_loss=0.00173]\n",
      "[Valid]: 100%|██████████████████████| 40/40 [00:02<00:00, 14.40it/s, val_acc=88.3, val_loss=0.00317]\n"
     ]
    },
    {
     "name": "stdout",
     "output_type": "stream",
     "text": [
      "=======================================================================================================================================\n",
      "2024-05-23 03:24:44\n",
      "Epoch 223 / 250\n"
     ]
    },
    {
     "name": "stderr",
     "output_type": "stream",
     "text": [
      "[Train]: 100%|██████████████████████| 352/352 [00:41<00:00,  8.42it/s, train_loss=0.00173]\n",
      "[Valid]: 100%|██████████████████████| 40/40 [00:02<00:00, 14.12it/s, val_acc=88.2, val_loss=0.00317]\n"
     ]
    },
    {
     "name": "stdout",
     "output_type": "stream",
     "text": [
      "=======================================================================================================================================\n",
      "2024-05-23 03:25:28\n",
      "Epoch 224 / 250\n"
     ]
    },
    {
     "name": "stderr",
     "output_type": "stream",
     "text": [
      "[Train]: 100%|███████████████████████| 352/352 [00:41<00:00,  8.44it/s, train_loss=0.0017]\n",
      "[Valid]: 100%|██████████████████████| 40/40 [00:02<00:00, 14.29it/s, val_acc=88.1, val_loss=0.00318]\n"
     ]
    },
    {
     "name": "stdout",
     "output_type": "stream",
     "text": [
      "=======================================================================================================================================\n",
      "2024-05-23 03:26:13\n",
      "Epoch 225 / 250\n"
     ]
    },
    {
     "name": "stderr",
     "output_type": "stream",
     "text": [
      "[Train]: 100%|██████████████████████| 352/352 [00:42<00:00,  8.20it/s, train_loss=0.00169]\n",
      "[Valid]: 100%|██████████████████████| 40/40 [00:02<00:00, 14.36it/s, val_acc=88.1, val_loss=0.00318]\n"
     ]
    },
    {
     "name": "stdout",
     "output_type": "stream",
     "text": [
      "=======================================================================================================================================\n",
      "2024-05-23 03:26:58\n",
      "Epoch 226 / 250\n",
      "lr is updated to 7.62939453125e-07\n"
     ]
    },
    {
     "name": "stderr",
     "output_type": "stream",
     "text": [
      "[Train]: 100%|██████████████████████| 352/352 [00:41<00:00,  8.44it/s, train_loss=0.00177]\n",
      "[Valid]: 100%|██████████████████████| 40/40 [00:02<00:00, 14.51it/s, val_acc=88.2, val_loss=0.00318]\n"
     ]
    },
    {
     "name": "stdout",
     "output_type": "stream",
     "text": [
      "=======================================================================================================================================\n",
      "2024-05-23 03:27:43\n",
      "Epoch 227 / 250\n"
     ]
    },
    {
     "name": "stderr",
     "output_type": "stream",
     "text": [
      "[Train]: 100%|██████████████████████| 352/352 [00:41<00:00,  8.45it/s, train_loss=0.00173]\n",
      "[Valid]: 100%|██████████████████████| 40/40 [00:02<00:00, 14.35it/s, val_acc=88.2, val_loss=0.00316]\n"
     ]
    },
    {
     "name": "stdout",
     "output_type": "stream",
     "text": [
      "=======================================================================================================================================\n",
      "2024-05-23 03:28:27\n",
      "Epoch 228 / 250\n"
     ]
    },
    {
     "name": "stderr",
     "output_type": "stream",
     "text": [
      "[Train]: 100%|██████████████████████| 352/352 [00:41<00:00,  8.43it/s, train_loss=0.00171]\n",
      "[Valid]: 100%|██████████████████████| 40/40 [00:02<00:00, 14.44it/s, val_acc=88.2, val_loss=0.00318]\n"
     ]
    },
    {
     "name": "stdout",
     "output_type": "stream",
     "text": [
      "=======================================================================================================================================\n",
      "2024-05-23 03:29:12\n",
      "Epoch 229 / 250\n"
     ]
    },
    {
     "name": "stderr",
     "output_type": "stream",
     "text": [
      "[Train]: 100%|██████████████████████| 352/352 [00:42<00:00,  8.33it/s, train_loss=0.00173]\n",
      "[Valid]: 100%|██████████████████████| 40/40 [00:02<00:00, 14.38it/s, val_acc=88.3, val_loss=0.00317]\n"
     ]
    },
    {
     "name": "stdout",
     "output_type": "stream",
     "text": [
      "=======================================================================================================================================\n",
      "2024-05-23 03:29:57\n",
      "Epoch 230 / 250\n"
     ]
    },
    {
     "name": "stderr",
     "output_type": "stream",
     "text": [
      "[Train]: 100%|███████████████████████| 352/352 [00:42<00:00,  8.33it/s, train_loss=0.0017]\n",
      "[Valid]: 100%|██████████████████████| 40/40 [00:02<00:00, 14.69it/s, val_acc=88.3, val_loss=0.00318]\n"
     ]
    },
    {
     "name": "stdout",
     "output_type": "stream",
     "text": [
      "=======================================================================================================================================\n",
      "2024-05-23 03:30:42\n",
      "Epoch 231 / 250\n"
     ]
    },
    {
     "name": "stderr",
     "output_type": "stream",
     "text": [
      "[Train]: 100%|██████████████████████| 352/352 [00:42<00:00,  8.28it/s, train_loss=0.00173]\n",
      "[Valid]: 100%|██████████████████████| 40/40 [00:02<00:00, 14.49it/s, val_acc=88.2, val_loss=0.00317]\n"
     ]
    },
    {
     "name": "stdout",
     "output_type": "stream",
     "text": [
      "=======================================================================================================================================\n",
      "2024-05-23 03:31:27\n",
      "Epoch 232 / 250\n"
     ]
    },
    {
     "name": "stderr",
     "output_type": "stream",
     "text": [
      "[Train]: 100%|██████████████████████| 352/352 [00:41<00:00,  8.41it/s, train_loss=0.00174]\n",
      "[Valid]: 100%|██████████████████████| 40/40 [00:02<00:00, 14.41it/s, val_acc=88.2, val_loss=0.00317]\n"
     ]
    },
    {
     "name": "stdout",
     "output_type": "stream",
     "text": [
      "=======================================================================================================================================\n",
      "2024-05-23 03:32:12\n",
      "Epoch 233 / 250\n"
     ]
    },
    {
     "name": "stderr",
     "output_type": "stream",
     "text": [
      "[Train]: 100%|██████████████████████| 352/352 [00:41<00:00,  8.43it/s, train_loss=0.00171]\n",
      "[Valid]: 100%|██████████████████████| 40/40 [00:02<00:00, 14.34it/s, val_acc=88.1, val_loss=0.00319]\n"
     ]
    },
    {
     "name": "stdout",
     "output_type": "stream",
     "text": [
      "=======================================================================================================================================\n",
      "2024-05-23 03:32:56\n",
      "Epoch 234 / 250\n"
     ]
    },
    {
     "name": "stderr",
     "output_type": "stream",
     "text": [
      "[Train]: 100%|██████████████████████| 352/352 [00:41<00:00,  8.44it/s, train_loss=0.00168]\n",
      "[Valid]: 100%|██████████████████████| 40/40 [00:02<00:00, 14.31it/s, val_acc=88.2, val_loss=0.00318]\n"
     ]
    },
    {
     "name": "stdout",
     "output_type": "stream",
     "text": [
      "=======================================================================================================================================\n",
      "2024-05-23 03:33:41\n",
      "Epoch 235 / 250\n"
     ]
    },
    {
     "name": "stderr",
     "output_type": "stream",
     "text": [
      "[Train]: 100%|██████████████████████| 352/352 [00:41<00:00,  8.41it/s, train_loss=0.00171]\n",
      "[Valid]: 100%|██████████████████████| 40/40 [00:02<00:00, 14.25it/s, val_acc=88.2, val_loss=0.00317]\n"
     ]
    },
    {
     "name": "stdout",
     "output_type": "stream",
     "text": [
      "=======================================================================================================================================\n",
      "2024-05-23 03:34:25\n",
      "Epoch 236 / 250\n",
      "lr is updated to 3.814697265625e-07\n"
     ]
    },
    {
     "name": "stderr",
     "output_type": "stream",
     "text": [
      "[Train]: 100%|███████████████████████| 352/352 [00:43<00:00,  8.11it/s, train_loss=0.0017]\n",
      "[Valid]: 100%|██████████████████████| 40/40 [00:02<00:00, 14.80it/s, val_acc=88.1, val_loss=0.00318]\n"
     ]
    },
    {
     "name": "stdout",
     "output_type": "stream",
     "text": [
      "=======================================================================================================================================\n",
      "2024-05-23 03:35:12\n",
      "Epoch 237 / 250\n"
     ]
    },
    {
     "name": "stderr",
     "output_type": "stream",
     "text": [
      "[Train]: 100%|██████████████████████| 352/352 [00:42<00:00,  8.24it/s, train_loss=0.00173]\n",
      "[Valid]: 100%|██████████████████████| 40/40 [00:02<00:00, 14.27it/s, val_acc=88.3, val_loss=0.00318]\n"
     ]
    },
    {
     "name": "stdout",
     "output_type": "stream",
     "text": [
      "=======================================================================================================================================\n",
      "2024-05-23 03:35:57\n",
      "Epoch 238 / 250\n"
     ]
    },
    {
     "name": "stderr",
     "output_type": "stream",
     "text": [
      "[Train]: 100%|██████████████████████| 352/352 [00:42<00:00,  8.27it/s, train_loss=0.00172]\n",
      "[Valid]: 100%|██████████████████████| 40/40 [00:02<00:00, 14.52it/s, val_acc=88.2, val_loss=0.00316]\n"
     ]
    },
    {
     "name": "stdout",
     "output_type": "stream",
     "text": [
      "=======================================================================================================================================\n",
      "2024-05-23 03:36:42\n",
      "Epoch 239 / 250\n"
     ]
    },
    {
     "name": "stderr",
     "output_type": "stream",
     "text": [
      "[Train]: 100%|██████████████████████| 352/352 [00:40<00:00,  8.61it/s, train_loss=0.00175]\n",
      "[Valid]: 100%|██████████████████████| 40/40 [00:02<00:00, 14.54it/s, val_acc=88.4, val_loss=0.00317]\n"
     ]
    },
    {
     "name": "stdout",
     "output_type": "stream",
     "text": [
      "=======================================================================================================================================\n",
      "2024-05-23 03:37:26\n",
      "Epoch 240 / 250\n"
     ]
    },
    {
     "name": "stderr",
     "output_type": "stream",
     "text": [
      "[Train]: 100%|██████████████████████| 352/352 [00:43<00:00,  8.13it/s, train_loss=0.00174]\n",
      "[Valid]: 100%|██████████████████████| 40/40 [00:02<00:00, 14.84it/s, val_acc=88.4, val_loss=0.00318]\n"
     ]
    },
    {
     "name": "stdout",
     "output_type": "stream",
     "text": [
      "=======================================================================================================================================\n",
      "2024-05-23 03:38:12\n",
      "Epoch 241 / 250\n"
     ]
    },
    {
     "name": "stderr",
     "output_type": "stream",
     "text": [
      "[Train]: 100%|██████████████████████| 352/352 [00:42<00:00,  8.24it/s, train_loss=0.00174]\n",
      "[Valid]: 100%|██████████████████████| 40/40 [00:02<00:00, 14.13it/s, val_acc=88.3, val_loss=0.00317]\n"
     ]
    },
    {
     "name": "stdout",
     "output_type": "stream",
     "text": [
      "=======================================================================================================================================\n",
      "2024-05-23 03:38:58\n",
      "Epoch 242 / 250\n"
     ]
    },
    {
     "name": "stderr",
     "output_type": "stream",
     "text": [
      "[Train]: 100%|██████████████████████| 352/352 [00:42<00:00,  8.19it/s, train_loss=0.00175]\n",
      "[Valid]: 100%|██████████████████████| 40/40 [00:02<00:00, 14.57it/s, val_acc=88.1, val_loss=0.00318]\n"
     ]
    },
    {
     "name": "stdout",
     "output_type": "stream",
     "text": [
      "=======================================================================================================================================\n",
      "2024-05-23 03:39:43\n",
      "Epoch 243 / 250\n"
     ]
    },
    {
     "name": "stderr",
     "output_type": "stream",
     "text": [
      "[Train]: 100%|██████████████████████| 352/352 [00:41<00:00,  8.52it/s, train_loss=0.00171]\n",
      "[Valid]: 100%|██████████████████████| 40/40 [00:02<00:00, 14.74it/s, val_acc=88.1, val_loss=0.00317]\n"
     ]
    },
    {
     "name": "stdout",
     "output_type": "stream",
     "text": [
      "=======================================================================================================================================\n",
      "2024-05-23 03:40:27\n",
      "Epoch 244 / 250\n"
     ]
    },
    {
     "name": "stderr",
     "output_type": "stream",
     "text": [
      "[Train]: 100%|██████████████████████| 352/352 [00:42<00:00,  8.20it/s, train_loss=0.00173]\n",
      "[Valid]: 100%|██████████████████████| 40/40 [00:02<00:00, 14.36it/s, val_acc=88.1, val_loss=0.00319]\n"
     ]
    },
    {
     "name": "stdout",
     "output_type": "stream",
     "text": [
      "=======================================================================================================================================\n",
      "2024-05-23 03:41:13\n",
      "Epoch 245 / 250\n"
     ]
    },
    {
     "name": "stderr",
     "output_type": "stream",
     "text": [
      "[Train]: 100%|██████████████████████| 352/352 [00:42<00:00,  8.32it/s, train_loss=0.00171]\n",
      "[Valid]: 100%|██████████████████████| 40/40 [00:02<00:00, 14.82it/s, val_acc=88.1, val_loss=0.00318]\n"
     ]
    },
    {
     "name": "stdout",
     "output_type": "stream",
     "text": [
      "=======================================================================================================================================\n",
      "2024-05-23 03:41:58\n",
      "Epoch 246 / 250\n",
      "lr is updated to 1.9073486328125e-07\n"
     ]
    },
    {
     "name": "stderr",
     "output_type": "stream",
     "text": [
      "[Train]: 100%|██████████████████████| 352/352 [00:42<00:00,  8.24it/s, train_loss=0.00171]\n",
      "[Valid]: 100%|████████████████████████| 40/40 [00:02<00:00, 14.44it/s, val_acc=88, val_loss=0.00317]\n"
     ]
    },
    {
     "name": "stdout",
     "output_type": "stream",
     "text": [
      "=======================================================================================================================================\n",
      "2024-05-23 03:42:44\n",
      "Epoch 247 / 250\n"
     ]
    },
    {
     "name": "stderr",
     "output_type": "stream",
     "text": [
      "[Train]: 100%|███████████████████████| 352/352 [00:42<00:00,  8.36it/s, train_loss=0.0017]\n",
      "[Valid]: 100%|██████████████████████| 40/40 [00:02<00:00, 14.28it/s, val_acc=88.2, val_loss=0.00318]\n"
     ]
    },
    {
     "name": "stdout",
     "output_type": "stream",
     "text": [
      "=======================================================================================================================================\n",
      "2024-05-23 03:43:29\n",
      "Epoch 248 / 250\n"
     ]
    },
    {
     "name": "stderr",
     "output_type": "stream",
     "text": [
      "[Train]: 100%|██████████████████████| 352/352 [00:40<00:00,  8.63it/s, train_loss=0.00169]\n",
      "[Valid]: 100%|██████████████████████| 40/40 [00:02<00:00, 14.27it/s, val_acc=88.1, val_loss=0.00318]\n"
     ]
    },
    {
     "name": "stdout",
     "output_type": "stream",
     "text": [
      "=======================================================================================================================================\n",
      "2024-05-23 03:44:12\n",
      "Epoch 249 / 250\n"
     ]
    },
    {
     "name": "stderr",
     "output_type": "stream",
     "text": [
      "[Train]: 100%|███████████████████████| 352/352 [00:43<00:00,  8.04it/s, train_loss=0.0017]\n",
      "[Valid]: 100%|██████████████████████| 40/40 [00:02<00:00, 14.15it/s, val_acc=88.2, val_loss=0.00317]\n"
     ]
    },
    {
     "name": "stdout",
     "output_type": "stream",
     "text": [
      "=======================================================================================================================================\n",
      "2024-05-23 03:44:59\n",
      "Epoch 250 / 250\n"
     ]
    },
    {
     "name": "stderr",
     "output_type": "stream",
     "text": [
      "[Train]: 100%|██████████████████████| 352/352 [00:42<00:00,  8.26it/s, train_loss=0.00171]\n",
      "[Valid]: 100%|██████████████████████| 40/40 [00:02<00:00, 14.43it/s, val_acc=88.2, val_loss=0.00317]\n"
     ]
    },
    {
     "data": {
      "image/png": "[encoded data removed]",
      "text/plain": [
       "<Figure size 1000x500 with 1 Axes>"
      ]
     },
     "metadata": {},
     "output_type": "display_data"
    },
    {
     "name": "stderr",
     "output_type": "stream",
     "text": [
      "Testing [Test]: 100%|███████████████████████████████████| 79/79 [00:05<00:00, 14.52it/s, test_acc=87, test_loss=0.0035]\n"
     ]
    }
   ],
   "source": [
    "model = ResNet(input_channels=3, num_classes=10)\n",
    "trainer = CIFARTrainer(model=model, batch_size=128, epoch=250, num_classes=10)\n",
    "trainer.train()\n",
    "trainer.test()"
   ]
  },
  {
   "cell_type": "code",
   "execution_count": 4,
   "id": "9073eda3-a9d7-4686-8336-139644757e25",
   "metadata": {
    "scrolled": true
   },
   "outputs": [
    {
     "name": "stdout",
     "output_type": "stream",
     "text": [
      "Files already downloaded and verified\n",
      "Files already downloaded and verified\n",
      "=======================================================================================================================================\n",
      "2024-05-23 03:45:52\n",
      "Epoch 1 / 250\n"
     ]
    },
    {
     "name": "stderr",
     "output_type": "stream",
     "text": [
      "[Train]: 100%|█████████████████████████| 352/352 [00:40<00:00,  8.68it/s, train_loss=3.94]\n",
      "[Valid]: 100%|████████████████████████| 40/40 [00:02<00:00, 14.37it/s, val_acc=15.1, val_loss=0.028]\n"
     ]
    },
    {
     "name": "stdout",
     "output_type": "stream",
     "text": [
      "Validation loss decreased (inf --> 0.028005).  Saving model ...\n",
      "=======================================================================================================================================\n",
      "2024-05-23 03:46:36\n",
      "Epoch 2 / 250\n"
     ]
    },
    {
     "name": "stderr",
     "output_type": "stream",
     "text": [
      "[Train]: 100%|█████████████████████████| 352/352 [00:42<00:00,  8.25it/s, train_loss=3.18]\n",
      "[Valid]: 100%|███████████████████████| 40/40 [00:02<00:00, 14.34it/s, val_acc=22.8, val_loss=0.0253]\n"
     ]
    },
    {
     "name": "stdout",
     "output_type": "stream",
     "text": [
      "Validation loss decreased (0.028005 --> 0.025288).  Saving model ...\n",
      "=======================================================================================================================================\n",
      "2024-05-23 03:47:21\n",
      "Epoch 3 / 250\n"
     ]
    },
    {
     "name": "stderr",
     "output_type": "stream",
     "text": [
      "[Train]: 100%|██████████████████████████| 352/352 [00:43<00:00,  8.09it/s, train_loss=2.6]\n",
      "[Valid]: 100%|███████████████████████| 40/40 [00:02<00:00, 14.54it/s, val_acc=34.8, val_loss=0.0201]\n"
     ]
    },
    {
     "name": "stdout",
     "output_type": "stream",
     "text": [
      "Validation loss decreased (0.025288 --> 0.020068).  Saving model ...\n",
      "=======================================================================================================================================\n",
      "2024-05-23 03:48:08\n",
      "Epoch 4 / 250\n"
     ]
    },
    {
     "name": "stderr",
     "output_type": "stream",
     "text": [
      "[Train]: 100%|█████████████████████████| 352/352 [00:42<00:00,  8.19it/s, train_loss=2.11]\n",
      "[Valid]: 100%|███████████████████████| 40/40 [00:02<00:00, 14.92it/s, val_acc=41.8, val_loss=0.0177]\n"
     ]
    },
    {
     "name": "stdout",
     "output_type": "stream",
     "text": [
      "Validation loss decreased (0.020068 --> 0.017742).  Saving model ...\n",
      "=======================================================================================================================================\n",
      "2024-05-23 03:48:53\n",
      "Epoch 5 / 250\n"
     ]
    },
    {
     "name": "stderr",
     "output_type": "stream",
     "text": [
      "[Train]: 100%|█████████████████████████| 352/352 [00:42<00:00,  8.25it/s, train_loss=1.77]\n",
      "[Valid]: 100%|███████████████████████| 40/40 [00:02<00:00, 14.45it/s, val_acc=44.5, val_loss=0.0166]\n"
     ]
    },
    {
     "name": "stdout",
     "output_type": "stream",
     "text": [
      "Validation loss decreased (0.017742 --> 0.016622).  Saving model ...\n",
      "=======================================================================================================================================\n",
      "2024-05-23 03:49:39\n",
      "Epoch 6 / 250\n"
     ]
    },
    {
     "name": "stderr",
     "output_type": "stream",
     "text": [
      "[Train]: 100%|█████████████████████████| 352/352 [00:43<00:00,  8.01it/s, train_loss=1.52]\n",
      "[Valid]: 100%|█████████████████████████| 40/40 [00:02<00:00, 14.52it/s, val_acc=46, val_loss=0.0163]\n"
     ]
    },
    {
     "name": "stdout",
     "output_type": "stream",
     "text": [
      "Validation loss decreased (0.016622 --> 0.016263).  Saving model ...\n",
      "=======================================================================================================================================\n",
      "2024-05-23 03:50:25\n",
      "Epoch 7 / 250\n"
     ]
    },
    {
     "name": "stderr",
     "output_type": "stream",
     "text": [
      "[Train]: 100%|█████████████████████████| 352/352 [00:41<00:00,  8.44it/s, train_loss=1.33]\n",
      "[Valid]: 100%|███████████████████████| 40/40 [00:02<00:00, 14.21it/s, val_acc=42.1, val_loss=0.0188]\n"
     ]
    },
    {
     "name": "stdout",
     "output_type": "stream",
     "text": [
      "=======================================================================================================================================\n",
      "2024-05-23 03:51:10\n",
      "Epoch 8 / 250\n"
     ]
    },
    {
     "name": "stderr",
     "output_type": "stream",
     "text": [
      "[Train]: 100%|█████████████████████████| 352/352 [00:42<00:00,  8.34it/s, train_loss=1.15]\n",
      "[Valid]: 100%|█████████████████████████| 40/40 [00:02<00:00, 14.23it/s, val_acc=41.1, val_loss=0.02]\n"
     ]
    },
    {
     "name": "stdout",
     "output_type": "stream",
     "text": [
      "=======================================================================================================================================\n",
      "2024-05-23 03:51:55\n",
      "Epoch 9 / 250\n"
     ]
    },
    {
     "name": "stderr",
     "output_type": "stream",
     "text": [
      "[Train]: 100%|█████████████████████████| 352/352 [00:42<00:00,  8.31it/s, train_loss=1.02]\n",
      "[Valid]: 100%|███████████████████████| 40/40 [00:02<00:00, 14.38it/s, val_acc=47.7, val_loss=0.0162]\n"
     ]
    },
    {
     "name": "stdout",
     "output_type": "stream",
     "text": [
      "Validation loss decreased (0.016263 --> 0.016177).  Saving model ...\n",
      "=======================================================================================================================================\n",
      "2024-05-23 03:52:40\n",
      "Epoch 10 / 250\n"
     ]
    },
    {
     "name": "stderr",
     "output_type": "stream",
     "text": [
      "[Train]: 100%|████████████████████████| 352/352 [00:40<00:00,  8.60it/s, train_loss=0.884]\n",
      "[Valid]: 100%|███████████████████████| 40/40 [00:02<00:00, 14.54it/s, val_acc=46.3, val_loss=0.0184]\n"
     ]
    },
    {
     "name": "stdout",
     "output_type": "stream",
     "text": [
      "=======================================================================================================================================\n",
      "2024-05-23 03:53:24\n",
      "Epoch 11 / 250\n"
     ]
    },
    {
     "name": "stderr",
     "output_type": "stream",
     "text": [
      "[Train]: 100%|████████████████████████| 352/352 [00:41<00:00,  8.57it/s, train_loss=0.796]\n",
      "[Valid]: 100%|███████████████████████| 40/40 [00:02<00:00, 14.41it/s, val_acc=46.7, val_loss=0.0179]\n"
     ]
    },
    {
     "name": "stdout",
     "output_type": "stream",
     "text": [
      "=======================================================================================================================================\n",
      "2024-05-23 03:54:08\n",
      "Epoch 12 / 250\n"
     ]
    },
    {
     "name": "stderr",
     "output_type": "stream",
     "text": [
      "[Train]: 100%|████████████████████████| 352/352 [00:42<00:00,  8.23it/s, train_loss=0.714]\n",
      "[Valid]: 100%|███████████████████████| 40/40 [00:02<00:00, 14.40it/s, val_acc=48.2, val_loss=0.0185]\n"
     ]
    },
    {
     "name": "stdout",
     "output_type": "stream",
     "text": [
      "=======================================================================================================================================\n",
      "2024-05-23 03:54:53\n",
      "Epoch 13 / 250\n"
     ]
    },
    {
     "name": "stderr",
     "output_type": "stream",
     "text": [
      "[Train]: 100%|████████████████████████| 352/352 [00:42<00:00,  8.38it/s, train_loss=0.646]\n",
      "[Valid]: 100%|███████████████████████| 40/40 [00:02<00:00, 13.84it/s, val_acc=45.5, val_loss=0.0199]\n"
     ]
    },
    {
     "name": "stdout",
     "output_type": "stream",
     "text": [
      "=======================================================================================================================================\n",
      "2024-05-23 03:55:38\n",
      "Epoch 14 / 250\n"
     ]
    },
    {
     "name": "stderr",
     "output_type": "stream",
     "text": [
      "[Train]: 100%|████████████████████████| 352/352 [00:43<00:00,  8.16it/s, train_loss=0.605]\n",
      "[Valid]: 100%|███████████████████████| 40/40 [00:02<00:00, 14.55it/s, val_acc=41.1, val_loss=0.0222]\n"
     ]
    },
    {
     "name": "stdout",
     "output_type": "stream",
     "text": [
      "=======================================================================================================================================\n",
      "2024-05-23 03:56:24\n",
      "Epoch 15 / 250\n"
     ]
    },
    {
     "name": "stderr",
     "output_type": "stream",
     "text": [
      "[Train]: 100%|████████████████████████| 352/352 [00:41<00:00,  8.43it/s, train_loss=0.561]\n",
      "[Valid]: 100%|███████████████████████| 40/40 [00:02<00:00, 14.46it/s, val_acc=45.2, val_loss=0.0199]\n"
     ]
    },
    {
     "name": "stdout",
     "output_type": "stream",
     "text": [
      "=======================================================================================================================================\n",
      "2024-05-23 03:57:09\n",
      "Epoch 16 / 250\n"
     ]
    },
    {
     "name": "stderr",
     "output_type": "stream",
     "text": [
      "[Train]: 100%|████████████████████████| 352/352 [00:41<00:00,  8.43it/s, train_loss=0.536]\n",
      "[Valid]: 100%|███████████████████████| 40/40 [00:02<00:00, 14.42it/s, val_acc=45.9, val_loss=0.0193]\n"
     ]
    },
    {
     "name": "stdout",
     "output_type": "stream",
     "text": [
      "=======================================================================================================================================\n",
      "2024-05-23 03:57:53\n",
      "Epoch 17 / 250\n"
     ]
    },
    {
     "name": "stderr",
     "output_type": "stream",
     "text": [
      "[Train]: 100%|████████████████████████| 352/352 [00:42<00:00,  8.25it/s, train_loss=0.509]\n",
      "[Valid]: 100%|███████████████████████| 40/40 [00:02<00:00, 14.39it/s, val_acc=45.5, val_loss=0.0208]\n"
     ]
    },
    {
     "name": "stdout",
     "output_type": "stream",
     "text": [
      "=======================================================================================================================================\n",
      "2024-05-23 03:58:39\n",
      "Epoch 18 / 250\n"
     ]
    },
    {
     "name": "stderr",
     "output_type": "stream",
     "text": [
      "[Train]: 100%|████████████████████████| 352/352 [00:42<00:00,  8.35it/s, train_loss=0.486]\n",
      "[Valid]: 100%|█████████████████████████| 40/40 [00:02<00:00, 14.63it/s, val_acc=45, val_loss=0.0209]\n"
     ]
    },
    {
     "name": "stdout",
     "output_type": "stream",
     "text": [
      "=======================================================================================================================================\n",
      "2024-05-23 03:59:24\n",
      "Epoch 19 / 250\n"
     ]
    },
    {
     "name": "stderr",
     "output_type": "stream",
     "text": [
      "[Train]: 100%|████████████████████████| 352/352 [00:43<00:00,  8.12it/s, train_loss=0.493]\n",
      "[Valid]: 100%|█████████████████████████| 40/40 [00:02<00:00, 14.56it/s, val_acc=44, val_loss=0.0208]\n"
     ]
    },
    {
     "name": "stdout",
     "output_type": "stream",
     "text": [
      "=======================================================================================================================================\n",
      "2024-05-23 04:00:10\n",
      "Epoch 20 / 250\n",
      "lr is updated to 0.05\n"
     ]
    },
    {
     "name": "stderr",
     "output_type": "stream",
     "text": [
      "[Train]: 100%|████████████████████████| 352/352 [00:42<00:00,  8.35it/s, train_loss=0.123]\n",
      "[Valid]: 100%|███████████████████████| 40/40 [00:02<00:00, 14.95it/s, val_acc=57.4, val_loss=0.0138]\n"
     ]
    },
    {
     "name": "stdout",
     "output_type": "stream",
     "text": [
      "Validation loss decreased (0.016177 --> 0.013845).  Saving model ...\n",
      "=======================================================================================================================================\n",
      "2024-05-23 04:00:55\n",
      "Epoch 21 / 250\n"
     ]
    },
    {
     "name": "stderr",
     "output_type": "stream",
     "text": [
      "[Train]: 100%|███████████████████████| 352/352 [00:41<00:00,  8.56it/s, train_loss=0.0198]\n",
      "[Valid]: 100%|███████████████████████| 40/40 [00:02<00:00, 14.55it/s, val_acc=59.4, val_loss=0.0129]\n"
     ]
    },
    {
     "name": "stdout",
     "output_type": "stream",
     "text": [
      "Validation loss decreased (0.013845 --> 0.012906).  Saving model ...\n",
      "=======================================================================================================================================\n",
      "2024-05-23 04:01:39\n",
      "Epoch 22 / 250\n"
     ]
    },
    {
     "name": "stderr",
     "output_type": "stream",
     "text": [
      "[Train]: 100%|████████████████████████| 352/352 [00:42<00:00,  8.35it/s, train_loss=0.013]\n",
      "[Valid]: 100%|███████████████████████| 40/40 [00:02<00:00, 14.28it/s, val_acc=59.8, val_loss=0.0125]\n"
     ]
    },
    {
     "name": "stdout",
     "output_type": "stream",
     "text": [
      "Validation loss decreased (0.012906 --> 0.012469).  Saving model ...\n",
      "=======================================================================================================================================\n",
      "2024-05-23 04:02:24\n",
      "Epoch 23 / 250\n"
     ]
    },
    {
     "name": "stderr",
     "output_type": "stream",
     "text": [
      "[Train]: 100%|███████████████████████| 352/352 [00:42<00:00,  8.27it/s, train_loss=0.0122]\n",
      "[Valid]: 100%|███████████████████████| 40/40 [00:02<00:00, 14.55it/s, val_acc=60.3, val_loss=0.0123]\n"
     ]
    },
    {
     "name": "stdout",
     "output_type": "stream",
     "text": [
      "Validation loss decreased (0.012469 --> 0.012330).  Saving model ...\n",
      "=======================================================================================================================================\n",
      "2024-05-23 04:03:09\n",
      "Epoch 24 / 250\n"
     ]
    },
    {
     "name": "stderr",
     "output_type": "stream",
     "text": [
      "[Train]: 100%|████████████████████████| 352/352 [00:43<00:00,  8.18it/s, train_loss=0.012]\n",
      "[Valid]: 100%|███████████████████████| 40/40 [00:02<00:00, 14.38it/s, val_acc=60.6, val_loss=0.0123]\n"
     ]
    },
    {
     "name": "stdout",
     "output_type": "stream",
     "text": [
      "Validation loss decreased (0.012330 --> 0.012270).  Saving model ...\n",
      "=======================================================================================================================================\n",
      "2024-05-23 04:03:55\n",
      "Epoch 25 / 250\n"
     ]
    },
    {
     "name": "stderr",
     "output_type": "stream",
     "text": [
      "[Train]: 100%|███████████████████████| 352/352 [00:42<00:00,  8.35it/s, train_loss=0.0118]\n",
      "[Valid]: 100%|███████████████████████| 40/40 [00:02<00:00, 14.59it/s, val_acc=60.7, val_loss=0.0124]\n"
     ]
    },
    {
     "name": "stdout",
     "output_type": "stream",
     "text": [
      "=======================================================================================================================================\n",
      "2024-05-23 04:04:40\n",
      "Epoch 26 / 250\n"
     ]
    },
    {
     "name": "stderr",
     "output_type": "stream",
     "text": [
      "[Train]: 100%|███████████████████████| 352/352 [00:42<00:00,  8.30it/s, train_loss=0.0114]\n",
      "[Valid]: 100%|███████████████████████| 40/40 [00:02<00:00, 14.39it/s, val_acc=60.7, val_loss=0.0125]\n"
     ]
    },
    {
     "name": "stdout",
     "output_type": "stream",
     "text": [
      "=======================================================================================================================================\n",
      "2024-05-23 04:05:25\n",
      "Epoch 27 / 250\n"
     ]
    },
    {
     "name": "stderr",
     "output_type": "stream",
     "text": [
      "[Train]: 100%|███████████████████████| 352/352 [00:42<00:00,  8.34it/s, train_loss=0.0113]\n",
      "[Valid]: 100%|███████████████████████| 40/40 [00:02<00:00, 14.27it/s, val_acc=60.4, val_loss=0.0126]\n"
     ]
    },
    {
     "name": "stdout",
     "output_type": "stream",
     "text": [
      "=======================================================================================================================================\n",
      "2024-05-23 04:06:10\n",
      "Epoch 28 / 250\n"
     ]
    },
    {
     "name": "stderr",
     "output_type": "stream",
     "text": [
      "[Train]: 100%|███████████████████████| 352/352 [00:42<00:00,  8.36it/s, train_loss=0.0107]\n",
      "[Valid]: 100%|███████████████████████| 40/40 [00:02<00:00, 14.42it/s, val_acc=60.2, val_loss=0.0129]\n"
     ]
    },
    {
     "name": "stdout",
     "output_type": "stream",
     "text": [
      "=======================================================================================================================================\n",
      "2024-05-23 04:06:55\n",
      "Epoch 29 / 250\n"
     ]
    },
    {
     "name": "stderr",
     "output_type": "stream",
     "text": [
      "[Train]: 100%|███████████████████████| 352/352 [00:42<00:00,  8.38it/s, train_loss=0.0117]\n",
      "[Valid]: 100%|███████████████████████| 40/40 [00:02<00:00, 14.53it/s, val_acc=59.7, val_loss=0.0131]\n"
     ]
    },
    {
     "name": "stdout",
     "output_type": "stream",
     "text": [
      "=======================================================================================================================================\n",
      "2024-05-23 04:07:40\n",
      "Epoch 30 / 250\n"
     ]
    },
    {
     "name": "stderr",
     "output_type": "stream",
     "text": [
      "[Train]: 100%|████████████████████████| 352/352 [00:41<00:00,  8.41it/s, train_loss=0.011]\n",
      "[Valid]: 100%|███████████████████████| 40/40 [00:02<00:00, 14.44it/s, val_acc=59.7, val_loss=0.0133]\n"
     ]
    },
    {
     "name": "stdout",
     "output_type": "stream",
     "text": [
      "=======================================================================================================================================\n",
      "2024-05-23 04:08:24\n",
      "Epoch 31 / 250\n"
     ]
    },
    {
     "name": "stderr",
     "output_type": "stream",
     "text": [
      "[Train]: 100%|███████████████████████| 352/352 [00:42<00:00,  8.24it/s, train_loss=0.0201]\n",
      "[Valid]: 100%|███████████████████████| 40/40 [00:02<00:00, 14.46it/s, val_acc=42.6, val_loss=0.0198]\n"
     ]
    },
    {
     "name": "stdout",
     "output_type": "stream",
     "text": [
      "=======================================================================================================================================\n",
      "2024-05-23 04:09:10\n",
      "Epoch 32 / 250\n"
     ]
    },
    {
     "name": "stderr",
     "output_type": "stream",
     "text": [
      "[Train]: 100%|██████████████████████████| 352/352 [00:42<00:00,  8.25it/s, train_loss=1.4]\n",
      "[Valid]: 100%|████████████████████████| 40/40 [00:02<00:00, 14.36it/s, val_acc=45.5, val_loss=0.018]\n"
     ]
    },
    {
     "name": "stdout",
     "output_type": "stream",
     "text": [
      "=======================================================================================================================================\n",
      "2024-05-23 04:09:55\n",
      "Epoch 33 / 250\n"
     ]
    },
    {
     "name": "stderr",
     "output_type": "stream",
     "text": [
      "[Train]: 100%|████████████████████████| 352/352 [00:42<00:00,  8.38it/s, train_loss=0.825]\n",
      "[Valid]: 100%|█████████████████████████| 40/40 [00:02<00:00, 14.54it/s, val_acc=49, val_loss=0.0173]\n"
     ]
    },
    {
     "name": "stdout",
     "output_type": "stream",
     "text": [
      "=======================================================================================================================================\n",
      "2024-05-23 04:10:40\n",
      "Epoch 34 / 250\n"
     ]
    },
    {
     "name": "stderr",
     "output_type": "stream",
     "text": [
      "[Train]: 100%|████████████████████████| 352/352 [00:41<00:00,  8.42it/s, train_loss=0.421]\n",
      "[Valid]: 100%|█████████████████████████| 40/40 [00:02<00:00, 14.39it/s, val_acc=46.5, val_loss=0.02]\n"
     ]
    },
    {
     "name": "stdout",
     "output_type": "stream",
     "text": [
      "=======================================================================================================================================\n",
      "2024-05-23 04:11:25\n",
      "Epoch 35 / 250\n",
      "lr is updated to 0.025\n"
     ]
    },
    {
     "name": "stderr",
     "output_type": "stream",
     "text": [
      "[Train]: 100%|████████████████████████| 352/352 [00:41<00:00,  8.41it/s, train_loss=0.103]\n",
      "[Valid]: 100%|███████████████████████| 40/40 [00:02<00:00, 14.43it/s, val_acc=58.3, val_loss=0.0134]\n"
     ]
    },
    {
     "name": "stdout",
     "output_type": "stream",
     "text": [
      "=======================================================================================================================================\n",
      "2024-05-23 04:12:09\n",
      "Epoch 36 / 250\n"
     ]
    },
    {
     "name": "stderr",
     "output_type": "stream",
     "text": [
      "[Train]: 100%|████████████████████████| 352/352 [00:41<00:00,  8.40it/s, train_loss=0.017]\n",
      "[Valid]: 100%|███████████████████████| 40/40 [00:02<00:00, 14.47it/s, val_acc=60.9, val_loss=0.0126]\n"
     ]
    },
    {
     "name": "stdout",
     "output_type": "stream",
     "text": [
      "=======================================================================================================================================\n",
      "2024-05-23 04:12:54\n",
      "Epoch 37 / 250\n"
     ]
    },
    {
     "name": "stderr",
     "output_type": "stream",
     "text": [
      "[Train]: 100%|██████████████████████| 352/352 [00:41<00:00,  8.39it/s, train_loss=0.00951]\n",
      "[Valid]: 100%|███████████████████████| 40/40 [00:02<00:00, 14.44it/s, val_acc=60.9, val_loss=0.0125]\n"
     ]
    },
    {
     "name": "stdout",
     "output_type": "stream",
     "text": [
      "=======================================================================================================================================\n",
      "2024-05-23 04:13:39\n",
      "Epoch 38 / 250\n"
     ]
    },
    {
     "name": "stderr",
     "output_type": "stream",
     "text": [
      "[Train]: 100%|██████████████████████| 352/352 [00:43<00:00,  8.14it/s, train_loss=0.00836]\n",
      "[Valid]: 100%|███████████████████████| 40/40 [00:02<00:00, 14.26it/s, val_acc=61.3, val_loss=0.0123]\n"
     ]
    },
    {
     "name": "stdout",
     "output_type": "stream",
     "text": [
      "=======================================================================================================================================\n",
      "2024-05-23 04:14:25\n",
      "Epoch 39 / 250\n"
     ]
    },
    {
     "name": "stderr",
     "output_type": "stream",
     "text": [
      "[Train]: 100%|██████████████████████| 352/352 [00:41<00:00,  8.39it/s, train_loss=0.00858]\n",
      "[Valid]: 100%|███████████████████████| 40/40 [00:02<00:00, 14.35it/s, val_acc=61.1, val_loss=0.0123]\n"
     ]
    },
    {
     "name": "stdout",
     "output_type": "stream",
     "text": [
      "=======================================================================================================================================\n",
      "2024-05-23 04:15:09\n",
      "Epoch 40 / 250\n"
     ]
    },
    {
     "name": "stderr",
     "output_type": "stream",
     "text": [
      "[Train]: 100%|██████████████████████| 352/352 [00:41<00:00,  8.41it/s, train_loss=0.00838]\n",
      "[Valid]: 100%|███████████████████████| 40/40 [00:02<00:00, 14.59it/s, val_acc=61.2, val_loss=0.0122]\n"
     ]
    },
    {
     "name": "stdout",
     "output_type": "stream",
     "text": [
      "Validation loss decreased (0.012270 --> 0.012247).  Saving model ...\n",
      "=======================================================================================================================================\n",
      "2024-05-23 04:15:54\n",
      "Epoch 41 / 250\n"
     ]
    },
    {
     "name": "stderr",
     "output_type": "stream",
     "text": [
      "[Train]: 100%|██████████████████████| 352/352 [00:43<00:00,  8.11it/s, train_loss=0.00827]\n",
      "[Valid]: 100%|███████████████████████| 40/40 [00:02<00:00, 14.25it/s, val_acc=61.1, val_loss=0.0123]\n"
     ]
    },
    {
     "name": "stdout",
     "output_type": "stream",
     "text": [
      "=======================================================================================================================================\n",
      "2024-05-23 04:16:40\n",
      "Epoch 42 / 250\n"
     ]
    },
    {
     "name": "stderr",
     "output_type": "stream",
     "text": [
      "[Train]: 100%|██████████████████████| 352/352 [00:42<00:00,  8.36it/s, train_loss=0.00858]\n",
      "[Valid]: 100%|███████████████████████| 40/40 [00:02<00:00, 14.81it/s, val_acc=61.3, val_loss=0.0123]\n"
     ]
    },
    {
     "name": "stdout",
     "output_type": "stream",
     "text": [
      "=======================================================================================================================================\n",
      "2024-05-23 04:17:25\n",
      "Epoch 43 / 250\n"
     ]
    },
    {
     "name": "stderr",
     "output_type": "stream",
     "text": [
      "[Train]: 100%|██████████████████████| 352/352 [00:43<00:00,  8.05it/s, train_loss=0.00841]\n",
      "[Valid]: 100%|███████████████████████| 40/40 [00:02<00:00, 14.44it/s, val_acc=61.2, val_loss=0.0124]\n"
     ]
    },
    {
     "name": "stdout",
     "output_type": "stream",
     "text": [
      "=======================================================================================================================================\n",
      "2024-05-23 04:18:12\n",
      "Epoch 44 / 250\n"
     ]
    },
    {
     "name": "stderr",
     "output_type": "stream",
     "text": [
      "[Train]: 100%|███████████████████████| 352/352 [00:41<00:00,  8.45it/s, train_loss=0.0083]\n",
      "[Valid]: 100%|███████████████████████| 40/40 [00:02<00:00, 14.46it/s, val_acc=60.8, val_loss=0.0125]\n"
     ]
    },
    {
     "name": "stdout",
     "output_type": "stream",
     "text": [
      "=======================================================================================================================================\n",
      "2024-05-23 04:18:56\n",
      "Epoch 45 / 250\n"
     ]
    },
    {
     "name": "stderr",
     "output_type": "stream",
     "text": [
      "[Train]: 100%|██████████████████████| 352/352 [00:41<00:00,  8.44it/s, train_loss=0.00816]\n",
      "[Valid]: 100%|███████████████████████| 40/40 [00:02<00:00, 14.10it/s, val_acc=61.1, val_loss=0.0126]\n"
     ]
    },
    {
     "name": "stdout",
     "output_type": "stream",
     "text": [
      "=======================================================================================================================================\n",
      "2024-05-23 04:19:41\n",
      "Epoch 46 / 250\n"
     ]
    },
    {
     "name": "stderr",
     "output_type": "stream",
     "text": [
      "[Train]: 100%|██████████████████████| 352/352 [00:42<00:00,  8.19it/s, train_loss=0.00836]\n",
      "[Valid]: 100%|███████████████████████| 40/40 [00:02<00:00, 14.22it/s, val_acc=60.6, val_loss=0.0127]\n"
     ]
    },
    {
     "name": "stdout",
     "output_type": "stream",
     "text": [
      "=======================================================================================================================================\n",
      "2024-05-23 04:20:26\n",
      "Epoch 47 / 250\n"
     ]
    },
    {
     "name": "stderr",
     "output_type": "stream",
     "text": [
      "[Train]: 100%|██████████████████████| 352/352 [00:42<00:00,  8.30it/s, train_loss=0.00861]\n",
      "[Valid]: 100%|███████████████████████| 40/40 [00:02<00:00, 14.96it/s, val_acc=60.8, val_loss=0.0129]\n"
     ]
    },
    {
     "name": "stdout",
     "output_type": "stream",
     "text": [
      "=======================================================================================================================================\n",
      "2024-05-23 04:21:12\n",
      "Epoch 48 / 250\n"
     ]
    },
    {
     "name": "stderr",
     "output_type": "stream",
     "text": [
      "[Train]: 100%|██████████████████████| 352/352 [00:42<00:00,  8.29it/s, train_loss=0.00815]\n",
      "[Valid]: 100%|████████████████████████| 40/40 [00:02<00:00, 14.83it/s, val_acc=60.8, val_loss=0.013]\n"
     ]
    },
    {
     "name": "stdout",
     "output_type": "stream",
     "text": [
      "=======================================================================================================================================\n",
      "2024-05-23 04:21:57\n",
      "Epoch 49 / 250\n"
     ]
    },
    {
     "name": "stderr",
     "output_type": "stream",
     "text": [
      "[Train]: 100%|██████████████████████| 352/352 [00:43<00:00,  8.18it/s, train_loss=0.00808]\n",
      "[Valid]: 100%|███████████████████████| 40/40 [00:02<00:00, 14.74it/s, val_acc=60.6, val_loss=0.0131]\n"
     ]
    },
    {
     "name": "stdout",
     "output_type": "stream",
     "text": [
      "=======================================================================================================================================\n",
      "2024-05-23 04:22:42\n",
      "Epoch 50 / 250\n"
     ]
    },
    {
     "name": "stderr",
     "output_type": "stream",
     "text": [
      "[Train]: 100%|██████████████████████| 352/352 [00:41<00:00,  8.54it/s, train_loss=0.00804]\n",
      "[Valid]: 100%|███████████████████████| 40/40 [00:02<00:00, 14.61it/s, val_acc=60.6, val_loss=0.0133]\n"
     ]
    },
    {
     "name": "stdout",
     "output_type": "stream",
     "text": [
      "=======================================================================================================================================\n",
      "2024-05-23 04:23:26\n",
      "Epoch 51 / 250\n",
      "lr is updated to 0.0125\n"
     ]
    },
    {
     "name": "stderr",
     "output_type": "stream",
     "text": [
      "[Train]: 100%|██████████████████████| 352/352 [00:41<00:00,  8.51it/s, train_loss=0.00753]\n",
      "[Valid]: 100%|███████████████████████| 40/40 [00:02<00:00, 14.63it/s, val_acc=60.5, val_loss=0.0133]\n"
     ]
    },
    {
     "name": "stdout",
     "output_type": "stream",
     "text": [
      "=======================================================================================================================================\n",
      "2024-05-23 04:24:11\n",
      "Epoch 52 / 250\n"
     ]
    },
    {
     "name": "stderr",
     "output_type": "stream",
     "text": [
      "[Train]: 100%|███████████████████████| 352/352 [00:41<00:00,  8.39it/s, train_loss=0.0073]\n",
      "[Valid]: 100%|███████████████████████| 40/40 [00:02<00:00, 14.33it/s, val_acc=60.4, val_loss=0.0134]\n"
     ]
    },
    {
     "name": "stdout",
     "output_type": "stream",
     "text": [
      "=======================================================================================================================================\n",
      "2024-05-23 04:24:55\n",
      "Epoch 53 / 250\n"
     ]
    },
    {
     "name": "stderr",
     "output_type": "stream",
     "text": [
      "[Train]: 100%|██████████████████████| 352/352 [00:41<00:00,  8.45it/s, train_loss=0.00734]\n",
      "[Valid]: 100%|███████████████████████| 40/40 [00:02<00:00, 14.59it/s, val_acc=60.5, val_loss=0.0135]\n"
     ]
    },
    {
     "name": "stdout",
     "output_type": "stream",
     "text": [
      "=======================================================================================================================================\n",
      "2024-05-23 04:25:40\n",
      "Epoch 54 / 250\n"
     ]
    },
    {
     "name": "stderr",
     "output_type": "stream",
     "text": [
      "[Train]: 100%|██████████████████████| 352/352 [00:42<00:00,  8.19it/s, train_loss=0.00747]\n",
      "[Valid]: 100%|███████████████████████| 40/40 [00:02<00:00, 14.90it/s, val_acc=60.2, val_loss=0.0136]\n"
     ]
    },
    {
     "name": "stdout",
     "output_type": "stream",
     "text": [
      "=======================================================================================================================================\n",
      "2024-05-23 04:26:25\n",
      "Epoch 55 / 250\n"
     ]
    },
    {
     "name": "stderr",
     "output_type": "stream",
     "text": [
      "[Train]: 100%|██████████████████████| 352/352 [00:42<00:00,  8.29it/s, train_loss=0.00736]\n",
      "[Valid]: 100%|███████████████████████| 40/40 [00:02<00:00, 14.39it/s, val_acc=60.1, val_loss=0.0137]\n"
     ]
    },
    {
     "name": "stdout",
     "output_type": "stream",
     "text": [
      "=======================================================================================================================================\n",
      "2024-05-23 04:27:11\n",
      "Epoch 56 / 250\n"
     ]
    },
    {
     "name": "stderr",
     "output_type": "stream",
     "text": [
      "[Train]: 100%|██████████████████████| 352/352 [00:42<00:00,  8.30it/s, train_loss=0.00736]\n",
      "[Valid]: 100%|███████████████████████| 40/40 [00:02<00:00, 14.84it/s, val_acc=60.3, val_loss=0.0137]\n"
     ]
    },
    {
     "name": "stdout",
     "output_type": "stream",
     "text": [
      "=======================================================================================================================================\n",
      "2024-05-23 04:27:56\n",
      "Epoch 57 / 250\n"
     ]
    },
    {
     "name": "stderr",
     "output_type": "stream",
     "text": [
      "[Train]: 100%|███████████████████████| 352/352 [00:43<00:00,  8.18it/s, train_loss=0.0075]\n",
      "[Valid]: 100%|███████████████████████| 40/40 [00:02<00:00, 14.94it/s, val_acc=60.3, val_loss=0.0138]\n"
     ]
    },
    {
     "name": "stdout",
     "output_type": "stream",
     "text": [
      "=======================================================================================================================================\n",
      "2024-05-23 04:28:41\n",
      "Epoch 58 / 250\n"
     ]
    },
    {
     "name": "stderr",
     "output_type": "stream",
     "text": [
      "[Train]: 100%|███████████████████████| 352/352 [00:42<00:00,  8.22it/s, train_loss=0.0075]\n",
      "[Valid]: 100%|███████████████████████| 40/40 [00:02<00:00, 15.28it/s, val_acc=60.3, val_loss=0.0138]\n"
     ]
    },
    {
     "name": "stdout",
     "output_type": "stream",
     "text": [
      "=======================================================================================================================================\n",
      "2024-05-23 04:29:27\n",
      "Epoch 59 / 250\n"
     ]
    },
    {
     "name": "stderr",
     "output_type": "stream",
     "text": [
      "[Train]: 100%|██████████████████████| 352/352 [00:41<00:00,  8.50it/s, train_loss=0.00761]\n",
      "[Valid]: 100%|█████████████████████████| 40/40 [00:02<00:00, 14.01it/s, val_acc=60, val_loss=0.0139]\n"
     ]
    },
    {
     "name": "stdout",
     "output_type": "stream",
     "text": [
      "=======================================================================================================================================\n",
      "2024-05-23 04:30:11\n",
      "Epoch 60 / 250\n"
     ]
    },
    {
     "name": "stderr",
     "output_type": "stream",
     "text": [
      "[Train]: 100%|██████████████████████| 352/352 [00:42<00:00,  8.26it/s, train_loss=0.00774]\n",
      "[Valid]: 100%|███████████████████████| 40/40 [00:02<00:00, 14.10it/s, val_acc=60.3, val_loss=0.0139]\n"
     ]
    },
    {
     "name": "stdout",
     "output_type": "stream",
     "text": [
      "=======================================================================================================================================\n",
      "2024-05-23 04:30:57\n",
      "Epoch 61 / 250\n",
      "lr is updated to 0.00625\n"
     ]
    },
    {
     "name": "stderr",
     "output_type": "stream",
     "text": [
      "[Train]: 100%|██████████████████████| 352/352 [00:42<00:00,  8.25it/s, train_loss=0.00745]\n",
      "[Valid]: 100%|████████████████████████| 40/40 [00:02<00:00, 14.34it/s, val_acc=60.6, val_loss=0.014]\n"
     ]
    },
    {
     "name": "stdout",
     "output_type": "stream",
     "text": [
      "=======================================================================================================================================\n",
      "2024-05-23 04:31:42\n",
      "Epoch 62 / 250\n"
     ]
    },
    {
     "name": "stderr",
     "output_type": "stream",
     "text": [
      "[Train]: 100%|██████████████████████| 352/352 [00:41<00:00,  8.46it/s, train_loss=0.00731]\n",
      "[Valid]: 100%|████████████████████████| 40/40 [00:02<00:00, 14.39it/s, val_acc=60.1, val_loss=0.014]\n"
     ]
    },
    {
     "name": "stdout",
     "output_type": "stream",
     "text": [
      "=======================================================================================================================================\n",
      "2024-05-23 04:32:26\n",
      "Epoch 63 / 250\n"
     ]
    },
    {
     "name": "stderr",
     "output_type": "stream",
     "text": [
      "[Train]: 100%|██████████████████████| 352/352 [00:43<00:00,  8.17it/s, train_loss=0.00732]\n",
      "[Valid]: 100%|███████████████████████| 40/40 [00:02<00:00, 14.92it/s, val_acc=60.3, val_loss=0.0141]\n"
     ]
    },
    {
     "name": "stdout",
     "output_type": "stream",
     "text": [
      "=======================================================================================================================================\n",
      "2024-05-23 04:33:12\n",
      "Epoch 64 / 250\n"
     ]
    },
    {
     "name": "stderr",
     "output_type": "stream",
     "text": [
      "[Train]: 100%|██████████████████████| 352/352 [00:41<00:00,  8.43it/s, train_loss=0.00716]\n",
      "[Valid]: 100%|███████████████████████| 40/40 [00:02<00:00, 14.47it/s, val_acc=60.6, val_loss=0.0141]\n"
     ]
    },
    {
     "name": "stdout",
     "output_type": "stream",
     "text": [
      "=======================================================================================================================================\n",
      "2024-05-23 04:33:57\n",
      "Epoch 65 / 250\n"
     ]
    },
    {
     "name": "stderr",
     "output_type": "stream",
     "text": [
      "[Train]: 100%|██████████████████████| 352/352 [00:41<00:00,  8.57it/s, train_loss=0.00719]\n",
      "[Valid]: 100%|███████████████████████| 40/40 [00:02<00:00, 14.64it/s, val_acc=60.4, val_loss=0.0141]\n"
     ]
    },
    {
     "name": "stdout",
     "output_type": "stream",
     "text": [
      "=======================================================================================================================================\n",
      "2024-05-23 04:34:41\n",
      "Epoch 66 / 250\n"
     ]
    },
    {
     "name": "stderr",
     "output_type": "stream",
     "text": [
      "[Train]: 100%|██████████████████████| 352/352 [00:41<00:00,  8.58it/s, train_loss=0.00725]\n",
      "[Valid]: 100%|███████████████████████| 40/40 [00:02<00:00, 14.97it/s, val_acc=60.3, val_loss=0.0142]\n"
     ]
    },
    {
     "name": "stdout",
     "output_type": "stream",
     "text": [
      "=======================================================================================================================================\n",
      "2024-05-23 04:35:24\n",
      "Epoch 67 / 250\n"
     ]
    },
    {
     "name": "stderr",
     "output_type": "stream",
     "text": [
      "[Train]: 100%|██████████████████████| 352/352 [00:43<00:00,  8.09it/s, train_loss=0.00724]\n",
      "[Valid]: 100%|███████████████████████| 40/40 [00:02<00:00, 14.96it/s, val_acc=60.2, val_loss=0.0143]\n"
     ]
    },
    {
     "name": "stdout",
     "output_type": "stream",
     "text": [
      "=======================================================================================================================================\n",
      "2024-05-23 04:36:10\n",
      "Epoch 68 / 250\n"
     ]
    },
    {
     "name": "stderr",
     "output_type": "stream",
     "text": [
      "[Train]: 100%|██████████████████████| 352/352 [00:42<00:00,  8.25it/s, train_loss=0.00724]\n",
      "[Valid]: 100%|███████████████████████| 40/40 [00:02<00:00, 14.47it/s, val_acc=59.9, val_loss=0.0143]\n"
     ]
    },
    {
     "name": "stdout",
     "output_type": "stream",
     "text": [
      "=======================================================================================================================================\n",
      "2024-05-23 04:36:56\n",
      "Epoch 69 / 250\n"
     ]
    },
    {
     "name": "stderr",
     "output_type": "stream",
     "text": [
      "[Train]: 100%|██████████████████████| 352/352 [00:42<00:00,  8.19it/s, train_loss=0.00736]\n",
      "[Valid]: 100%|███████████████████████| 40/40 [00:02<00:00, 14.57it/s, val_acc=60.3, val_loss=0.0142]\n"
     ]
    },
    {
     "name": "stdout",
     "output_type": "stream",
     "text": [
      "=======================================================================================================================================\n",
      "2024-05-23 04:37:42\n",
      "Epoch 70 / 250\n"
     ]
    },
    {
     "name": "stderr",
     "output_type": "stream",
     "text": [
      "[Train]: 100%|██████████████████████| 352/352 [00:41<00:00,  8.45it/s, train_loss=0.00732]\n",
      "[Valid]: 100%|███████████████████████| 40/40 [00:02<00:00, 14.65it/s, val_acc=60.5, val_loss=0.0143]\n"
     ]
    },
    {
     "name": "stdout",
     "output_type": "stream",
     "text": [
      "=======================================================================================================================================\n",
      "2024-05-23 04:38:26\n",
      "Epoch 71 / 250\n",
      "lr is updated to 0.003125\n"
     ]
    },
    {
     "name": "stderr",
     "output_type": "stream",
     "text": [
      "[Train]: 100%|██████████████████████| 352/352 [00:42<00:00,  8.33it/s, train_loss=0.00721]\n",
      "[Valid]: 100%|█████████████████████████| 40/40 [00:02<00:00, 14.32it/s, val_acc=60, val_loss=0.0143]\n"
     ]
    },
    {
     "name": "stdout",
     "output_type": "stream",
     "text": [
      "=======================================================================================================================================\n",
      "2024-05-23 04:39:11\n",
      "Epoch 72 / 250\n"
     ]
    },
    {
     "name": "stderr",
     "output_type": "stream",
     "text": [
      "[Train]: 100%|██████████████████████| 352/352 [00:41<00:00,  8.41it/s, train_loss=0.00717]\n",
      "[Valid]: 100%|█████████████████████████| 40/40 [00:02<00:00, 14.35it/s, val_acc=60, val_loss=0.0144]\n"
     ]
    },
    {
     "name": "stdout",
     "output_type": "stream",
     "text": [
      "=======================================================================================================================================\n",
      "2024-05-23 04:39:56\n",
      "Epoch 73 / 250\n"
     ]
    },
    {
     "name": "stderr",
     "output_type": "stream",
     "text": [
      "[Train]: 100%|███████████████████████| 352/352 [00:42<00:00,  8.32it/s, train_loss=0.0071]\n",
      "[Valid]: 100%|███████████████████████| 40/40 [00:02<00:00, 14.60it/s, val_acc=59.9, val_loss=0.0144]\n"
     ]
    },
    {
     "name": "stdout",
     "output_type": "stream",
     "text": [
      "=======================================================================================================================================\n",
      "2024-05-23 04:40:41\n",
      "Epoch 74 / 250\n"
     ]
    },
    {
     "name": "stderr",
     "output_type": "stream",
     "text": [
      "[Train]: 100%|██████████████████████| 352/352 [00:43<00:00,  8.08it/s, train_loss=0.00708]\n",
      "[Valid]: 100%|███████████████████████| 40/40 [00:02<00:00, 15.29it/s, val_acc=59.7, val_loss=0.0144]\n"
     ]
    },
    {
     "name": "stdout",
     "output_type": "stream",
     "text": [
      "=======================================================================================================================================\n",
      "2024-05-23 04:41:27\n",
      "Epoch 75 / 250\n"
     ]
    },
    {
     "name": "stderr",
     "output_type": "stream",
     "text": [
      "[Train]: 100%|██████████████████████| 352/352 [00:42<00:00,  8.32it/s, train_loss=0.00705]\n",
      "[Valid]: 100%|███████████████████████| 40/40 [00:02<00:00, 14.53it/s, val_acc=59.8, val_loss=0.0144]\n"
     ]
    },
    {
     "name": "stdout",
     "output_type": "stream",
     "text": [
      "=======================================================================================================================================\n",
      "2024-05-23 04:42:12\n",
      "Epoch 76 / 250\n"
     ]
    },
    {
     "name": "stderr",
     "output_type": "stream",
     "text": [
      "[Train]: 100%|██████████████████████| 352/352 [00:41<00:00,  8.50it/s, train_loss=0.00709]\n",
      "[Valid]: 100%|███████████████████████| 40/40 [00:02<00:00, 14.40it/s, val_acc=59.8, val_loss=0.0144]\n"
     ]
    },
    {
     "name": "stdout",
     "output_type": "stream",
     "text": [
      "=======================================================================================================================================\n",
      "2024-05-23 04:42:56\n",
      "Epoch 77 / 250\n"
     ]
    },
    {
     "name": "stderr",
     "output_type": "stream",
     "text": [
      "[Train]: 100%|██████████████████████| 352/352 [00:41<00:00,  8.49it/s, train_loss=0.00716]\n",
      "[Valid]: 100%|███████████████████████| 40/40 [00:02<00:00, 14.51it/s, val_acc=59.8, val_loss=0.0144]\n"
     ]
    },
    {
     "name": "stdout",
     "output_type": "stream",
     "text": [
      "=======================================================================================================================================\n",
      "2024-05-23 04:43:40\n",
      "Epoch 78 / 250\n"
     ]
    },
    {
     "name": "stderr",
     "output_type": "stream",
     "text": [
      "[Train]: 100%|██████████████████████| 352/352 [00:41<00:00,  8.50it/s, train_loss=0.00714]\n",
      "[Valid]: 100%|███████████████████████| 40/40 [00:02<00:00, 14.48it/s, val_acc=59.8, val_loss=0.0145]\n"
     ]
    },
    {
     "name": "stdout",
     "output_type": "stream",
     "text": [
      "=======================================================================================================================================\n",
      "2024-05-23 04:44:25\n",
      "Epoch 79 / 250\n"
     ]
    },
    {
     "name": "stderr",
     "output_type": "stream",
     "text": [
      "[Train]: 100%|███████████████████████| 352/352 [00:41<00:00,  8.50it/s, train_loss=0.0072]\n",
      "[Valid]: 100%|███████████████████████| 40/40 [00:02<00:00, 14.50it/s, val_acc=59.9, val_loss=0.0145]\n"
     ]
    },
    {
     "name": "stdout",
     "output_type": "stream",
     "text": [
      "=======================================================================================================================================\n",
      "2024-05-23 04:45:09\n",
      "Epoch 80 / 250\n"
     ]
    },
    {
     "name": "stderr",
     "output_type": "stream",
     "text": [
      "[Train]: 100%|██████████████████████| 352/352 [00:41<00:00,  8.50it/s, train_loss=0.00707]\n",
      "[Valid]: 100%|███████████████████████| 40/40 [00:02<00:00, 14.31it/s, val_acc=59.7, val_loss=0.0145]\n"
     ]
    },
    {
     "name": "stdout",
     "output_type": "stream",
     "text": [
      "=======================================================================================================================================\n",
      "2024-05-23 04:45:53\n",
      "Epoch 81 / 250\n",
      "lr is updated to 0.0015625\n"
     ]
    },
    {
     "name": "stderr",
     "output_type": "stream",
     "text": [
      "[Train]: 100%|██████████████████████| 352/352 [00:42<00:00,  8.29it/s, train_loss=0.00703]\n",
      "[Valid]: 100%|█████████████████████████| 40/40 [00:02<00:00, 14.35it/s, val_acc=60, val_loss=0.0145]\n"
     ]
    },
    {
     "name": "stdout",
     "output_type": "stream",
     "text": [
      "=======================================================================================================================================\n",
      "2024-05-23 04:46:38\n",
      "Epoch 82 / 250\n"
     ]
    },
    {
     "name": "stderr",
     "output_type": "stream",
     "text": [
      "[Train]: 100%|██████████████████████| 352/352 [00:42<00:00,  8.36it/s, train_loss=0.00706]\n",
      "[Valid]: 100%|█████████████████████████| 40/40 [00:02<00:00, 14.24it/s, val_acc=60, val_loss=0.0145]\n"
     ]
    },
    {
     "name": "stdout",
     "output_type": "stream",
     "text": [
      "=======================================================================================================================================\n",
      "2024-05-23 04:47:23\n",
      "Epoch 83 / 250\n"
     ]
    },
    {
     "name": "stderr",
     "output_type": "stream",
     "text": [
      "[Train]: 100%|██████████████████████| 352/352 [00:42<00:00,  8.31it/s, train_loss=0.00708]\n",
      "[Valid]: 100%|███████████████████████| 40/40 [00:02<00:00, 14.59it/s, val_acc=60.2, val_loss=0.0145]\n"
     ]
    },
    {
     "name": "stdout",
     "output_type": "stream",
     "text": [
      "=======================================================================================================================================\n",
      "2024-05-23 04:48:08\n",
      "Epoch 84 / 250\n"
     ]
    },
    {
     "name": "stderr",
     "output_type": "stream",
     "text": [
      "[Train]: 100%|██████████████████████| 352/352 [00:42<00:00,  8.34it/s, train_loss=0.00714]\n",
      "[Valid]: 100%|███████████████████████| 40/40 [00:02<00:00, 13.84it/s, val_acc=59.7, val_loss=0.0145]\n"
     ]
    },
    {
     "name": "stdout",
     "output_type": "stream",
     "text": [
      "=======================================================================================================================================\n",
      "2024-05-23 04:48:53\n",
      "Epoch 85 / 250\n"
     ]
    },
    {
     "name": "stderr",
     "output_type": "stream",
     "text": [
      "[Train]: 100%|████████████████████████| 352/352 [00:42<00:00,  8.21it/s, train_loss=0.007]\n",
      "[Valid]: 100%|███████████████████████| 40/40 [00:02<00:00, 14.54it/s, val_acc=59.9, val_loss=0.0145]\n"
     ]
    },
    {
     "name": "stdout",
     "output_type": "stream",
     "text": [
      "=======================================================================================================================================\n",
      "2024-05-23 04:49:39\n",
      "Epoch 86 / 250\n"
     ]
    },
    {
     "name": "stderr",
     "output_type": "stream",
     "text": [
      "[Train]: 100%|████████████████████████| 352/352 [00:41<00:00,  8.54it/s, train_loss=0.007]\n",
      "[Valid]: 100%|███████████████████████| 40/40 [00:02<00:00, 14.66it/s, val_acc=59.9, val_loss=0.0146]\n"
     ]
    },
    {
     "name": "stdout",
     "output_type": "stream",
     "text": [
      "=======================================================================================================================================\n",
      "2024-05-23 04:50:23\n",
      "Epoch 87 / 250\n"
     ]
    },
    {
     "name": "stderr",
     "output_type": "stream",
     "text": [
      "[Train]: 100%|██████████████████████| 352/352 [00:40<00:00,  8.60it/s, train_loss=0.00696]\n",
      "[Valid]: 100%|███████████████████████| 40/40 [00:02<00:00, 14.47it/s, val_acc=60.1, val_loss=0.0146]\n"
     ]
    },
    {
     "name": "stdout",
     "output_type": "stream",
     "text": [
      "=======================================================================================================================================\n",
      "2024-05-23 04:51:07\n",
      "Epoch 88 / 250\n"
     ]
    },
    {
     "name": "stderr",
     "output_type": "stream",
     "text": [
      "[Train]: 100%|███████████████████████| 352/352 [00:41<00:00,  8.45it/s, train_loss=0.0071]\n",
      "[Valid]: 100%|███████████████████████| 40/40 [00:02<00:00, 14.84it/s, val_acc=59.9, val_loss=0.0146]\n"
     ]
    },
    {
     "name": "stdout",
     "output_type": "stream",
     "text": [
      "=======================================================================================================================================\n",
      "2024-05-23 04:51:51\n",
      "Epoch 89 / 250\n"
     ]
    },
    {
     "name": "stderr",
     "output_type": "stream",
     "text": [
      "[Train]: 100%|██████████████████████| 352/352 [00:42<00:00,  8.19it/s, train_loss=0.00711]\n",
      "[Valid]: 100%|███████████████████████| 40/40 [00:02<00:00, 14.38it/s, val_acc=59.7, val_loss=0.0146]\n"
     ]
    },
    {
     "name": "stdout",
     "output_type": "stream",
     "text": [
      "=======================================================================================================================================\n",
      "2024-05-23 04:52:37\n",
      "Epoch 90 / 250\n"
     ]
    },
    {
     "name": "stderr",
     "output_type": "stream",
     "text": [
      "[Train]: 100%|██████████████████████| 352/352 [00:41<00:00,  8.52it/s, train_loss=0.00702]\n",
      "[Valid]: 100%|███████████████████████| 40/40 [00:02<00:00, 14.48it/s, val_acc=59.7, val_loss=0.0146]\n"
     ]
    },
    {
     "name": "stdout",
     "output_type": "stream",
     "text": [
      "=======================================================================================================================================\n",
      "2024-05-23 04:53:21\n",
      "Epoch 91 / 250\n",
      "lr is updated to 0.00078125\n"
     ]
    },
    {
     "name": "stderr",
     "output_type": "stream",
     "text": [
      "[Train]: 100%|██████████████████████| 352/352 [00:43<00:00,  8.14it/s, train_loss=0.00699]\n",
      "[Valid]: 100%|███████████████████████| 40/40 [00:02<00:00, 14.15it/s, val_acc=60.1, val_loss=0.0146]\n"
     ]
    },
    {
     "name": "stdout",
     "output_type": "stream",
     "text": [
      "=======================================================================================================================================\n",
      "2024-05-23 04:54:07\n",
      "Epoch 92 / 250\n"
     ]
    },
    {
     "name": "stderr",
     "output_type": "stream",
     "text": [
      "[Train]: 100%|██████████████████████| 352/352 [00:42<00:00,  8.27it/s, train_loss=0.00703]\n",
      "[Valid]: 100%|█████████████████████████| 40/40 [00:02<00:00, 13.94it/s, val_acc=60, val_loss=0.0146]\n"
     ]
    },
    {
     "name": "stdout",
     "output_type": "stream",
     "text": [
      "=======================================================================================================================================\n",
      "2024-05-23 04:54:52\n",
      "Epoch 93 / 250\n"
     ]
    },
    {
     "name": "stderr",
     "output_type": "stream",
     "text": [
      "[Train]: 100%|██████████████████████| 352/352 [00:42<00:00,  8.28it/s, train_loss=0.00705]\n",
      "[Valid]: 100%|███████████████████████| 40/40 [00:02<00:00, 14.00it/s, val_acc=59.9, val_loss=0.0146]\n"
     ]
    },
    {
     "name": "stdout",
     "output_type": "stream",
     "text": [
      "=======================================================================================================================================\n",
      "2024-05-23 04:55:38\n",
      "Epoch 94 / 250\n"
     ]
    },
    {
     "name": "stderr",
     "output_type": "stream",
     "text": [
      "[Train]: 100%|██████████████████████| 352/352 [00:42<00:00,  8.24it/s, train_loss=0.00708]\n",
      "[Valid]: 100%|███████████████████████| 40/40 [00:02<00:00, 14.05it/s, val_acc=59.7, val_loss=0.0146]\n"
     ]
    },
    {
     "name": "stdout",
     "output_type": "stream",
     "text": [
      "=======================================================================================================================================\n",
      "2024-05-23 04:56:23\n",
      "Epoch 95 / 250\n"
     ]
    },
    {
     "name": "stderr",
     "output_type": "stream",
     "text": [
      "[Train]: 100%|███████████████████████| 352/352 [00:42<00:00,  8.26it/s, train_loss=0.0071]\n",
      "[Valid]: 100%|███████████████████████| 40/40 [00:02<00:00, 14.10it/s, val_acc=59.7, val_loss=0.0146]\n"
     ]
    },
    {
     "name": "stdout",
     "output_type": "stream",
     "text": [
      "=======================================================================================================================================\n",
      "2024-05-23 04:57:09\n",
      "Epoch 96 / 250\n"
     ]
    },
    {
     "name": "stderr",
     "output_type": "stream",
     "text": [
      "[Train]: 100%|██████████████████████| 352/352 [00:42<00:00,  8.27it/s, train_loss=0.00704]\n",
      "[Valid]: 100%|███████████████████████| 40/40 [00:02<00:00, 14.07it/s, val_acc=59.9, val_loss=0.0147]\n"
     ]
    },
    {
     "name": "stdout",
     "output_type": "stream",
     "text": [
      "=======================================================================================================================================\n",
      "2024-05-23 04:57:54\n",
      "Epoch 97 / 250\n"
     ]
    },
    {
     "name": "stderr",
     "output_type": "stream",
     "text": [
      "[Train]: 100%|██████████████████████| 352/352 [00:42<00:00,  8.26it/s, train_loss=0.00709]\n",
      "[Valid]: 100%|███████████████████████| 40/40 [00:02<00:00, 14.73it/s, val_acc=59.9, val_loss=0.0146]\n"
     ]
    },
    {
     "name": "stdout",
     "output_type": "stream",
     "text": [
      "=======================================================================================================================================\n",
      "2024-05-23 04:58:39\n",
      "Epoch 98 / 250\n"
     ]
    },
    {
     "name": "stderr",
     "output_type": "stream",
     "text": [
      "[Train]: 100%|██████████████████████| 352/352 [00:43<00:00,  8.07it/s, train_loss=0.00712]\n",
      "[Valid]: 100%|███████████████████████| 40/40 [00:02<00:00, 14.22it/s, val_acc=59.7, val_loss=0.0147]\n"
     ]
    },
    {
     "name": "stdout",
     "output_type": "stream",
     "text": [
      "=======================================================================================================================================\n",
      "2024-05-23 04:59:26\n",
      "Epoch 99 / 250\n"
     ]
    },
    {
     "name": "stderr",
     "output_type": "stream",
     "text": [
      "[Train]: 100%|██████████████████████| 352/352 [00:42<00:00,  8.29it/s, train_loss=0.00704]\n",
      "[Valid]: 100%|███████████████████████| 40/40 [00:02<00:00, 14.07it/s, val_acc=59.7, val_loss=0.0147]\n"
     ]
    },
    {
     "name": "stdout",
     "output_type": "stream",
     "text": [
      "=======================================================================================================================================\n",
      "2024-05-23 05:00:11\n",
      "Epoch 100 / 250\n"
     ]
    },
    {
     "name": "stderr",
     "output_type": "stream",
     "text": [
      "[Train]: 100%|██████████████████████| 352/352 [00:43<00:00,  8.18it/s, train_loss=0.00709]\n",
      "[Valid]: 100%|███████████████████████| 40/40 [00:02<00:00, 15.06it/s, val_acc=59.9, val_loss=0.0147]\n"
     ]
    },
    {
     "name": "stdout",
     "output_type": "stream",
     "text": [
      "=======================================================================================================================================\n",
      "2024-05-23 05:00:57\n",
      "Epoch 101 / 250\n",
      "lr is updated to 0.000390625\n"
     ]
    },
    {
     "name": "stderr",
     "output_type": "stream",
     "text": [
      "[Train]: 100%|████████████████████████| 352/352 [00:44<00:00,  7.97it/s, train_loss=0.007]\n",
      "[Valid]: 100%|███████████████████████| 40/40 [00:02<00:00, 15.03it/s, val_acc=59.8, val_loss=0.0147]\n"
     ]
    },
    {
     "name": "stdout",
     "output_type": "stream",
     "text": [
      "=======================================================================================================================================\n",
      "2024-05-23 05:01:44\n",
      "Epoch 102 / 250\n"
     ]
    },
    {
     "name": "stderr",
     "output_type": "stream",
     "text": [
      "[Train]: 100%|██████████████████████| 352/352 [00:42<00:00,  8.33it/s, train_loss=0.00699]\n",
      "[Valid]: 100%|███████████████████████| 40/40 [00:02<00:00, 14.43it/s, val_acc=60.1, val_loss=0.0147]\n"
     ]
    },
    {
     "name": "stdout",
     "output_type": "stream",
     "text": [
      "=======================================================================================================================================\n",
      "2024-05-23 05:02:29\n",
      "Epoch 103 / 250\n"
     ]
    },
    {
     "name": "stderr",
     "output_type": "stream",
     "text": [
      "[Train]: 100%|████████████████████████| 352/352 [00:42<00:00,  8.34it/s, train_loss=0.007]\n",
      "[Valid]: 100%|███████████████████████| 40/40 [00:02<00:00, 13.50it/s, val_acc=60.2, val_loss=0.0147]\n"
     ]
    },
    {
     "name": "stdout",
     "output_type": "stream",
     "text": [
      "=======================================================================================================================================\n",
      "2024-05-23 05:03:14\n",
      "Epoch 104 / 250\n"
     ]
    },
    {
     "name": "stderr",
     "output_type": "stream",
     "text": [
      "[Train]: 100%|██████████████████████| 352/352 [00:42<00:00,  8.21it/s, train_loss=0.00713]\n",
      "[Valid]: 100%|███████████████████████| 40/40 [00:02<00:00, 14.06it/s, val_acc=59.7, val_loss=0.0147]\n"
     ]
    },
    {
     "name": "stdout",
     "output_type": "stream",
     "text": [
      "=======================================================================================================================================\n",
      "2024-05-23 05:04:00\n",
      "Epoch 105 / 250\n"
     ]
    },
    {
     "name": "stderr",
     "output_type": "stream",
     "text": [
      "[Train]: 100%|██████████████████████| 352/352 [00:41<00:00,  8.44it/s, train_loss=0.00702]\n",
      "[Valid]: 100%|███████████████████████| 40/40 [00:02<00:00, 14.26it/s, val_acc=59.9, val_loss=0.0147]\n"
     ]
    },
    {
     "name": "stdout",
     "output_type": "stream",
     "text": [
      "=======================================================================================================================================\n",
      "2024-05-23 05:04:44\n",
      "Epoch 106 / 250\n"
     ]
    },
    {
     "name": "stderr",
     "output_type": "stream",
     "text": [
      "[Train]: 100%|███████████████████████| 352/352 [00:44<00:00,  7.97it/s, train_loss=0.0069]\n",
      "[Valid]: 100%|███████████████████████| 40/40 [00:02<00:00, 14.29it/s, val_acc=59.9, val_loss=0.0147]\n"
     ]
    },
    {
     "name": "stdout",
     "output_type": "stream",
     "text": [
      "=======================================================================================================================================\n",
      "2024-05-23 05:05:31\n",
      "Epoch 107 / 250\n"
     ]
    },
    {
     "name": "stderr",
     "output_type": "stream",
     "text": [
      "[Train]: 100%|██████████████████████| 352/352 [00:43<00:00,  8.05it/s, train_loss=0.00702]\n",
      "[Valid]: 100%|███████████████████████| 40/40 [00:02<00:00, 14.95it/s, val_acc=59.8, val_loss=0.0147]\n"
     ]
    },
    {
     "name": "stdout",
     "output_type": "stream",
     "text": [
      "=======================================================================================================================================\n",
      "2024-05-23 05:06:18\n",
      "Epoch 108 / 250\n"
     ]
    },
    {
     "name": "stderr",
     "output_type": "stream",
     "text": [
      "[Train]: 100%|██████████████████████| 352/352 [00:43<00:00,  8.15it/s, train_loss=0.00703]\n",
      "[Valid]: 100%|███████████████████████| 40/40 [00:02<00:00, 14.43it/s, val_acc=59.7, val_loss=0.0147]\n"
     ]
    },
    {
     "name": "stdout",
     "output_type": "stream",
     "text": [
      "=======================================================================================================================================\n",
      "2024-05-23 05:07:04\n",
      "Epoch 109 / 250\n"
     ]
    },
    {
     "name": "stderr",
     "output_type": "stream",
     "text": [
      "[Train]: 100%|██████████████████████| 352/352 [00:42<00:00,  8.30it/s, train_loss=0.00704]\n",
      "[Valid]: 100%|███████████████████████| 40/40 [00:02<00:00, 14.31it/s, val_acc=59.6, val_loss=0.0147]\n"
     ]
    },
    {
     "name": "stdout",
     "output_type": "stream",
     "text": [
      "=======================================================================================================================================\n",
      "2024-05-23 05:07:49\n",
      "Epoch 110 / 250\n"
     ]
    },
    {
     "name": "stderr",
     "output_type": "stream",
     "text": [
      "[Train]: 100%|██████████████████████| 352/352 [00:42<00:00,  8.31it/s, train_loss=0.00694]\n",
      "[Valid]: 100%|███████████████████████| 40/40 [00:02<00:00, 14.27it/s, val_acc=59.9, val_loss=0.0147]\n"
     ]
    },
    {
     "name": "stdout",
     "output_type": "stream",
     "text": [
      "=======================================================================================================================================\n",
      "2024-05-23 05:08:34\n",
      "Epoch 111 / 250\n",
      "lr is updated to 0.0001953125\n"
     ]
    },
    {
     "name": "stderr",
     "output_type": "stream",
     "text": [
      "[Train]: 100%|██████████████████████| 352/352 [00:42<00:00,  8.36it/s, train_loss=0.00696]\n",
      "[Valid]: 100%|███████████████████████| 40/40 [00:02<00:00, 14.33it/s, val_acc=59.9, val_loss=0.0147]\n"
     ]
    },
    {
     "name": "stdout",
     "output_type": "stream",
     "text": [
      "=======================================================================================================================================\n",
      "2024-05-23 05:09:19\n",
      "Epoch 112 / 250\n"
     ]
    },
    {
     "name": "stderr",
     "output_type": "stream",
     "text": [
      "[Train]: 100%|██████████████████████| 352/352 [00:42<00:00,  8.33it/s, train_loss=0.00693]\n",
      "[Valid]: 100%|███████████████████████| 40/40 [00:02<00:00, 14.65it/s, val_acc=59.7, val_loss=0.0147]\n"
     ]
    },
    {
     "name": "stdout",
     "output_type": "stream",
     "text": [
      "=======================================================================================================================================\n",
      "2024-05-23 05:10:04\n",
      "Epoch 113 / 250\n"
     ]
    },
    {
     "name": "stderr",
     "output_type": "stream",
     "text": [
      "[Train]: 100%|██████████████████████| 352/352 [00:44<00:00,  7.90it/s, train_loss=0.00709]\n",
      "[Valid]: 100%|███████████████████████| 40/40 [00:02<00:00, 14.38it/s, val_acc=59.7, val_loss=0.0147]\n"
     ]
    },
    {
     "name": "stdout",
     "output_type": "stream",
     "text": [
      "=======================================================================================================================================\n",
      "2024-05-23 05:10:51\n",
      "Epoch 114 / 250\n"
     ]
    },
    {
     "name": "stderr",
     "output_type": "stream",
     "text": [
      "[Train]: 100%|██████████████████████| 352/352 [00:42<00:00,  8.23it/s, train_loss=0.00696]\n",
      "[Valid]: 100%|███████████████████████| 40/40 [00:02<00:00, 13.83it/s, val_acc=59.9, val_loss=0.0147]\n"
     ]
    },
    {
     "name": "stdout",
     "output_type": "stream",
     "text": [
      "=======================================================================================================================================\n",
      "2024-05-23 05:11:37\n",
      "Epoch 115 / 250\n"
     ]
    },
    {
     "name": "stderr",
     "output_type": "stream",
     "text": [
      "[Train]: 100%|██████████████████████| 352/352 [00:42<00:00,  8.21it/s, train_loss=0.00708]\n",
      "[Valid]: 100%|███████████████████████| 40/40 [00:02<00:00, 15.08it/s, val_acc=60.2, val_loss=0.0147]\n"
     ]
    },
    {
     "name": "stdout",
     "output_type": "stream",
     "text": [
      "=======================================================================================================================================\n",
      "2024-05-23 05:12:22\n",
      "Epoch 116 / 250\n"
     ]
    },
    {
     "name": "stderr",
     "output_type": "stream",
     "text": [
      "[Train]: 100%|██████████████████████| 352/352 [00:41<00:00,  8.48it/s, train_loss=0.00702]\n",
      "[Valid]: 100%|███████████████████████| 40/40 [00:02<00:00, 15.31it/s, val_acc=59.6, val_loss=0.0147]\n"
     ]
    },
    {
     "name": "stdout",
     "output_type": "stream",
     "text": [
      "=======================================================================================================================================\n",
      "2024-05-23 05:13:07\n",
      "Epoch 117 / 250\n"
     ]
    },
    {
     "name": "stderr",
     "output_type": "stream",
     "text": [
      "[Train]: 100%|██████████████████████| 352/352 [00:42<00:00,  8.20it/s, train_loss=0.00701]\n",
      "[Valid]: 100%|███████████████████████| 40/40 [00:02<00:00, 15.06it/s, val_acc=59.7, val_loss=0.0147]\n"
     ]
    },
    {
     "name": "stdout",
     "output_type": "stream",
     "text": [
      "=======================================================================================================================================\n",
      "2024-05-23 05:13:52\n",
      "Epoch 118 / 250\n"
     ]
    },
    {
     "name": "stderr",
     "output_type": "stream",
     "text": [
      "[Train]: 100%|██████████████████████| 352/352 [00:42<00:00,  8.37it/s, train_loss=0.00703]\n",
      "[Valid]: 100%|███████████████████████| 40/40 [00:02<00:00, 14.24it/s, val_acc=59.7, val_loss=0.0147]\n"
     ]
    },
    {
     "name": "stdout",
     "output_type": "stream",
     "text": [
      "=======================================================================================================================================\n",
      "2024-05-23 05:14:37\n",
      "Epoch 119 / 250\n"
     ]
    },
    {
     "name": "stderr",
     "output_type": "stream",
     "text": [
      "[Train]: 100%|██████████████████████| 352/352 [00:41<00:00,  8.41it/s, train_loss=0.00698]\n",
      "[Valid]: 100%|███████████████████████| 40/40 [00:02<00:00, 14.43it/s, val_acc=59.9, val_loss=0.0147]\n"
     ]
    },
    {
     "name": "stdout",
     "output_type": "stream",
     "text": [
      "=======================================================================================================================================\n",
      "2024-05-23 05:15:22\n",
      "Epoch 120 / 250\n"
     ]
    },
    {
     "name": "stderr",
     "output_type": "stream",
     "text": [
      "[Train]: 100%|██████████████████████| 352/352 [00:42<00:00,  8.30it/s, train_loss=0.00709]\n",
      "[Valid]: 100%|███████████████████████| 40/40 [00:02<00:00, 14.13it/s, val_acc=59.9, val_loss=0.0147]\n"
     ]
    },
    {
     "name": "stdout",
     "output_type": "stream",
     "text": [
      "=======================================================================================================================================\n",
      "2024-05-23 05:16:07\n",
      "Epoch 121 / 250\n",
      "lr is updated to 9.765625e-05\n"
     ]
    },
    {
     "name": "stderr",
     "output_type": "stream",
     "text": [
      "[Train]: 100%|██████████████████████| 352/352 [00:42<00:00,  8.32it/s, train_loss=0.00696]\n",
      "[Valid]: 100%|███████████████████████| 40/40 [00:02<00:00, 14.32it/s, val_acc=59.8, val_loss=0.0147]\n"
     ]
    },
    {
     "name": "stdout",
     "output_type": "stream",
     "text": [
      "=======================================================================================================================================\n",
      "2024-05-23 05:16:52\n",
      "Epoch 122 / 250\n"
     ]
    },
    {
     "name": "stderr",
     "output_type": "stream",
     "text": [
      "[Train]: 100%|██████████████████████| 352/352 [00:42<00:00,  8.36it/s, train_loss=0.00693]\n",
      "[Valid]: 100%|███████████████████████| 40/40 [00:02<00:00, 14.36it/s, val_acc=59.5, val_loss=0.0147]\n"
     ]
    },
    {
     "name": "stdout",
     "output_type": "stream",
     "text": [
      "=======================================================================================================================================\n",
      "2024-05-23 05:17:37\n",
      "Epoch 123 / 250\n"
     ]
    },
    {
     "name": "stderr",
     "output_type": "stream",
     "text": [
      "[Train]: 100%|██████████████████████| 352/352 [00:42<00:00,  8.37it/s, train_loss=0.00698]\n",
      "[Valid]: 100%|███████████████████████| 40/40 [00:02<00:00, 14.41it/s, val_acc=59.5, val_loss=0.0147]\n"
     ]
    },
    {
     "name": "stdout",
     "output_type": "stream",
     "text": [
      "=======================================================================================================================================\n",
      "2024-05-23 05:18:22\n",
      "Epoch 124 / 250\n"
     ]
    },
    {
     "name": "stderr",
     "output_type": "stream",
     "text": [
      "[Train]: 100%|██████████████████████| 352/352 [00:42<00:00,  8.36it/s, train_loss=0.00701]\n",
      "[Valid]: 100%|███████████████████████| 40/40 [00:02<00:00, 14.04it/s, val_acc=60.3, val_loss=0.0147]\n"
     ]
    },
    {
     "name": "stdout",
     "output_type": "stream",
     "text": [
      "=======================================================================================================================================\n",
      "2024-05-23 05:19:07\n",
      "Epoch 125 / 250\n"
     ]
    },
    {
     "name": "stderr",
     "output_type": "stream",
     "text": [
      "[Train]: 100%|██████████████████████| 352/352 [00:42<00:00,  8.35it/s, train_loss=0.00697]\n",
      "[Valid]: 100%|███████████████████████| 40/40 [00:02<00:00, 14.18it/s, val_acc=59.8, val_loss=0.0147]\n"
     ]
    },
    {
     "name": "stdout",
     "output_type": "stream",
     "text": [
      "=======================================================================================================================================\n",
      "2024-05-23 05:19:52\n",
      "Epoch 126 / 250\n"
     ]
    },
    {
     "name": "stderr",
     "output_type": "stream",
     "text": [
      "[Train]: 100%|██████████████████████| 352/352 [00:42<00:00,  8.37it/s, train_loss=0.00704]\n",
      "[Valid]: 100%|███████████████████████| 40/40 [00:02<00:00, 14.36it/s, val_acc=59.8, val_loss=0.0147]\n"
     ]
    },
    {
     "name": "stdout",
     "output_type": "stream",
     "text": [
      "=======================================================================================================================================\n",
      "2024-05-23 05:20:36\n",
      "Epoch 127 / 250\n"
     ]
    },
    {
     "name": "stderr",
     "output_type": "stream",
     "text": [
      "[Train]: 100%|██████████████████████| 352/352 [00:42<00:00,  8.21it/s, train_loss=0.00693]\n",
      "[Valid]: 100%|███████████████████████| 40/40 [00:02<00:00, 14.04it/s, val_acc=59.9, val_loss=0.0147]\n"
     ]
    },
    {
     "name": "stdout",
     "output_type": "stream",
     "text": [
      "=======================================================================================================================================\n",
      "2024-05-23 05:21:22\n",
      "Epoch 128 / 250\n"
     ]
    },
    {
     "name": "stderr",
     "output_type": "stream",
     "text": [
      "[Train]: 100%|████████████████████████| 352/352 [00:42<00:00,  8.25it/s, train_loss=0.007]\n",
      "[Valid]: 100%|███████████████████████| 40/40 [00:02<00:00, 14.33it/s, val_acc=59.8, val_loss=0.0147]\n"
     ]
    },
    {
     "name": "stdout",
     "output_type": "stream",
     "text": [
      "=======================================================================================================================================\n",
      "2024-05-23 05:22:08\n",
      "Epoch 129 / 250\n"
     ]
    },
    {
     "name": "stderr",
     "output_type": "stream",
     "text": [
      "[Train]: 100%|██████████████████████| 352/352 [00:44<00:00,  7.94it/s, train_loss=0.00696]\n",
      "[Valid]: 100%|███████████████████████| 40/40 [00:02<00:00, 13.48it/s, val_acc=59.8, val_loss=0.0147]\n"
     ]
    },
    {
     "name": "stdout",
     "output_type": "stream",
     "text": [
      "=======================================================================================================================================\n",
      "2024-05-23 05:22:55\n",
      "Epoch 130 / 250\n"
     ]
    },
    {
     "name": "stderr",
     "output_type": "stream",
     "text": [
      "[Train]: 100%|██████████████████████| 352/352 [00:42<00:00,  8.36it/s, train_loss=0.00713]\n",
      "[Valid]: 100%|███████████████████████| 40/40 [00:02<00:00, 13.87it/s, val_acc=59.9, val_loss=0.0147]\n"
     ]
    },
    {
     "name": "stdout",
     "output_type": "stream",
     "text": [
      "=======================================================================================================================================\n",
      "2024-05-23 05:23:40\n",
      "Epoch 131 / 250\n",
      "lr is updated to 4.8828125e-05\n"
     ]
    },
    {
     "name": "stderr",
     "output_type": "stream",
     "text": [
      "[Train]: 100%|██████████████████████| 352/352 [00:43<00:00,  8.18it/s, train_loss=0.00698]\n",
      "[Valid]: 100%|█████████████████████████| 40/40 [00:02<00:00, 14.88it/s, val_acc=60, val_loss=0.0147]\n"
     ]
    },
    {
     "name": "stdout",
     "output_type": "stream",
     "text": [
      "=======================================================================================================================================\n",
      "2024-05-23 05:24:26\n",
      "Epoch 132 / 250\n"
     ]
    },
    {
     "name": "stderr",
     "output_type": "stream",
     "text": [
      "[Train]: 100%|██████████████████████| 352/352 [00:42<00:00,  8.32it/s, train_loss=0.00692]\n",
      "[Valid]: 100%|█████████████████████████| 40/40 [00:02<00:00, 14.57it/s, val_acc=60, val_loss=0.0147]\n"
     ]
    },
    {
     "name": "stdout",
     "output_type": "stream",
     "text": [
      "=======================================================================================================================================\n",
      "2024-05-23 05:25:11\n",
      "Epoch 133 / 250\n"
     ]
    },
    {
     "name": "stderr",
     "output_type": "stream",
     "text": [
      "[Train]: 100%|████████████████████████| 352/352 [00:41<00:00,  8.55it/s, train_loss=0.007]\n",
      "[Valid]: 100%|███████████████████████| 40/40 [00:02<00:00, 14.50it/s, val_acc=59.9, val_loss=0.0147]\n"
     ]
    },
    {
     "name": "stdout",
     "output_type": "stream",
     "text": [
      "=======================================================================================================================================\n",
      "2024-05-23 05:25:55\n",
      "Epoch 134 / 250\n"
     ]
    },
    {
     "name": "stderr",
     "output_type": "stream",
     "text": [
      "[Train]: 100%|██████████████████████| 352/352 [00:41<00:00,  8.39it/s, train_loss=0.00706]\n",
      "[Valid]: 100%|███████████████████████| 40/40 [00:02<00:00, 14.80it/s, val_acc=59.9, val_loss=0.0147]\n"
     ]
    },
    {
     "name": "stdout",
     "output_type": "stream",
     "text": [
      "=======================================================================================================================================\n",
      "2024-05-23 05:26:39\n",
      "Epoch 135 / 250\n"
     ]
    },
    {
     "name": "stderr",
     "output_type": "stream",
     "text": [
      "[Train]: 100%|██████████████████████| 352/352 [00:42<00:00,  8.31it/s, train_loss=0.00702]\n",
      "[Valid]: 100%|█████████████████████████| 40/40 [00:02<00:00, 14.02it/s, val_acc=60, val_loss=0.0147]\n"
     ]
    },
    {
     "name": "stdout",
     "output_type": "stream",
     "text": [
      "=======================================================================================================================================\n",
      "2024-05-23 05:27:25\n",
      "Epoch 136 / 250\n"
     ]
    },
    {
     "name": "stderr",
     "output_type": "stream",
     "text": [
      "[Train]: 100%|██████████████████████| 352/352 [00:42<00:00,  8.28it/s, train_loss=0.00698]\n",
      "[Valid]: 100%|███████████████████████| 40/40 [00:02<00:00, 14.58it/s, val_acc=59.7, val_loss=0.0147]\n"
     ]
    },
    {
     "name": "stdout",
     "output_type": "stream",
     "text": [
      "=======================================================================================================================================\n",
      "2024-05-23 05:28:10\n",
      "Epoch 137 / 250\n"
     ]
    },
    {
     "name": "stderr",
     "output_type": "stream",
     "text": [
      "[Train]: 100%|██████████████████████| 352/352 [00:41<00:00,  8.38it/s, train_loss=0.00698]\n",
      "[Valid]: 100%|███████████████████████| 40/40 [00:02<00:00, 14.45it/s, val_acc=59.8, val_loss=0.0147]\n"
     ]
    },
    {
     "name": "stdout",
     "output_type": "stream",
     "text": [
      "=======================================================================================================================================\n",
      "2024-05-23 05:28:55\n",
      "Epoch 138 / 250\n"
     ]
    },
    {
     "name": "stderr",
     "output_type": "stream",
     "text": [
      "[Train]: 100%|██████████████████████| 352/352 [00:41<00:00,  8.54it/s, train_loss=0.00702]\n",
      "[Valid]: 100%|███████████████████████| 40/40 [00:02<00:00, 14.42it/s, val_acc=59.9, val_loss=0.0147]\n"
     ]
    },
    {
     "name": "stdout",
     "output_type": "stream",
     "text": [
      "=======================================================================================================================================\n",
      "2024-05-23 05:29:39\n",
      "Epoch 139 / 250\n"
     ]
    },
    {
     "name": "stderr",
     "output_type": "stream",
     "text": [
      "[Train]: 100%|██████████████████████| 352/352 [00:43<00:00,  8.10it/s, train_loss=0.00698]\n",
      "[Valid]: 100%|███████████████████████| 40/40 [00:02<00:00, 14.11it/s, val_acc=59.9, val_loss=0.0147]\n"
     ]
    },
    {
     "name": "stdout",
     "output_type": "stream",
     "text": [
      "=======================================================================================================================================\n",
      "2024-05-23 05:30:25\n",
      "Epoch 140 / 250\n"
     ]
    },
    {
     "name": "stderr",
     "output_type": "stream",
     "text": [
      "[Train]: 100%|██████████████████████| 352/352 [00:43<00:00,  8.12it/s, train_loss=0.00698]\n",
      "[Valid]: 100%|███████████████████████| 40/40 [00:02<00:00, 14.48it/s, val_acc=59.9, val_loss=0.0147]\n"
     ]
    },
    {
     "name": "stdout",
     "output_type": "stream",
     "text": [
      "=======================================================================================================================================\n",
      "2024-05-23 05:31:11\n",
      "Epoch 141 / 250\n",
      "lr is updated to 2.44140625e-05\n"
     ]
    },
    {
     "name": "stderr",
     "output_type": "stream",
     "text": [
      "[Train]: 100%|██████████████████████| 352/352 [00:41<00:00,  8.40it/s, train_loss=0.00695]\n",
      "[Valid]: 100%|███████████████████████| 40/40 [00:02<00:00, 14.30it/s, val_acc=59.7, val_loss=0.0148]\n"
     ]
    },
    {
     "name": "stdout",
     "output_type": "stream",
     "text": [
      "=======================================================================================================================================\n",
      "2024-05-23 05:31:56\n",
      "Epoch 142 / 250\n"
     ]
    },
    {
     "name": "stderr",
     "output_type": "stream",
     "text": [
      "[Train]: 100%|██████████████████████| 352/352 [00:42<00:00,  8.30it/s, train_loss=0.00691]\n",
      "[Valid]: 100%|███████████████████████| 40/40 [00:02<00:00, 14.27it/s, val_acc=59.9, val_loss=0.0147]\n"
     ]
    },
    {
     "name": "stdout",
     "output_type": "stream",
     "text": [
      "=======================================================================================================================================\n",
      "2024-05-23 05:32:41\n",
      "Epoch 143 / 250\n"
     ]
    },
    {
     "name": "stderr",
     "output_type": "stream",
     "text": [
      "[Train]: 100%|████████████████████████| 352/352 [00:42<00:00,  8.24it/s, train_loss=0.007]\n",
      "[Valid]: 100%|███████████████████████| 40/40 [00:02<00:00, 14.37it/s, val_acc=59.9, val_loss=0.0147]\n"
     ]
    },
    {
     "name": "stdout",
     "output_type": "stream",
     "text": [
      "=======================================================================================================================================\n",
      "2024-05-23 05:33:26\n",
      "Epoch 144 / 250\n"
     ]
    },
    {
     "name": "stderr",
     "output_type": "stream",
     "text": [
      "[Train]: 100%|██████████████████████| 352/352 [00:44<00:00,  7.96it/s, train_loss=0.00703]\n",
      "[Valid]: 100%|███████████████████████| 40/40 [00:02<00:00, 14.43it/s, val_acc=59.8, val_loss=0.0147]\n"
     ]
    },
    {
     "name": "stdout",
     "output_type": "stream",
     "text": [
      "=======================================================================================================================================\n",
      "2024-05-23 05:34:13\n",
      "Epoch 145 / 250\n"
     ]
    },
    {
     "name": "stderr",
     "output_type": "stream",
     "text": [
      "[Train]: 100%|████████████████████████| 352/352 [00:42<00:00,  8.22it/s, train_loss=0.007]\n",
      "[Valid]: 100%|███████████████████████| 40/40 [00:02<00:00, 14.62it/s, val_acc=59.9, val_loss=0.0147]\n"
     ]
    },
    {
     "name": "stdout",
     "output_type": "stream",
     "text": [
      "=======================================================================================================================================\n",
      "2024-05-23 05:34:59\n",
      "Epoch 146 / 250\n"
     ]
    },
    {
     "name": "stderr",
     "output_type": "stream",
     "text": [
      "[Train]: 100%|██████████████████████| 352/352 [00:41<00:00,  8.49it/s, train_loss=0.00696]\n",
      "[Valid]: 100%|███████████████████████| 40/40 [00:02<00:00, 14.60it/s, val_acc=59.6, val_loss=0.0147]\n"
     ]
    },
    {
     "name": "stdout",
     "output_type": "stream",
     "text": [
      "=======================================================================================================================================\n",
      "2024-05-23 05:35:43\n",
      "Epoch 147 / 250\n"
     ]
    },
    {
     "name": "stderr",
     "output_type": "stream",
     "text": [
      "[Train]: 100%|██████████████████████| 352/352 [00:42<00:00,  8.22it/s, train_loss=0.00695]\n",
      "[Valid]: 100%|███████████████████████| 40/40 [00:02<00:00, 14.90it/s, val_acc=59.6, val_loss=0.0147]\n"
     ]
    },
    {
     "name": "stdout",
     "output_type": "stream",
     "text": [
      "=======================================================================================================================================\n",
      "2024-05-23 05:36:29\n",
      "Epoch 148 / 250\n"
     ]
    },
    {
     "name": "stderr",
     "output_type": "stream",
     "text": [
      "[Train]: 100%|██████████████████████| 352/352 [00:42<00:00,  8.28it/s, train_loss=0.00702]\n",
      "[Valid]: 100%|███████████████████████| 40/40 [00:02<00:00, 14.47it/s, val_acc=59.8, val_loss=0.0147]\n"
     ]
    },
    {
     "name": "stdout",
     "output_type": "stream",
     "text": [
      "=======================================================================================================================================\n",
      "2024-05-23 05:37:14\n",
      "Epoch 149 / 250\n"
     ]
    },
    {
     "name": "stderr",
     "output_type": "stream",
     "text": [
      "[Train]: 100%|██████████████████████| 352/352 [00:41<00:00,  8.49it/s, train_loss=0.00701]\n",
      "[Valid]: 100%|███████████████████████| 40/40 [00:02<00:00, 14.44it/s, val_acc=59.9, val_loss=0.0147]\n"
     ]
    },
    {
     "name": "stdout",
     "output_type": "stream",
     "text": [
      "=======================================================================================================================================\n",
      "2024-05-23 05:37:58\n",
      "Epoch 150 / 250\n"
     ]
    },
    {
     "name": "stderr",
     "output_type": "stream",
     "text": [
      "[Train]: 100%|██████████████████████| 352/352 [00:41<00:00,  8.52it/s, train_loss=0.00699]\n",
      "[Valid]: 100%|███████████████████████| 40/40 [00:02<00:00, 14.52it/s, val_acc=59.7, val_loss=0.0147]\n"
     ]
    },
    {
     "name": "stdout",
     "output_type": "stream",
     "text": [
      "=======================================================================================================================================\n",
      "2024-05-23 05:38:42\n",
      "Epoch 151 / 250\n",
      "lr is updated to 1.220703125e-05\n"
     ]
    },
    {
     "name": "stderr",
     "output_type": "stream",
     "text": [
      "[Train]: 100%|██████████████████████| 352/352 [00:42<00:00,  8.31it/s, train_loss=0.00696]\n",
      "[Valid]: 100%|███████████████████████| 40/40 [00:02<00:00, 14.39it/s, val_acc=59.8, val_loss=0.0147]\n"
     ]
    },
    {
     "name": "stdout",
     "output_type": "stream",
     "text": [
      "=======================================================================================================================================\n",
      "2024-05-23 05:39:27\n",
      "Epoch 152 / 250\n"
     ]
    },
    {
     "name": "stderr",
     "output_type": "stream",
     "text": [
      "[Train]: 100%|██████████████████████| 352/352 [00:42<00:00,  8.23it/s, train_loss=0.00705]\n",
      "[Valid]: 100%|███████████████████████| 40/40 [00:02<00:00, 14.27it/s, val_acc=59.9, val_loss=0.0147]\n"
     ]
    },
    {
     "name": "stdout",
     "output_type": "stream",
     "text": [
      "=======================================================================================================================================\n",
      "2024-05-23 05:40:13\n",
      "Epoch 153 / 250\n"
     ]
    },
    {
     "name": "stderr",
     "output_type": "stream",
     "text": [
      "[Train]: 100%|██████████████████████| 352/352 [00:42<00:00,  8.19it/s, train_loss=0.00706]\n",
      "[Valid]: 100%|███████████████████████| 40/40 [00:02<00:00, 14.92it/s, val_acc=59.9, val_loss=0.0147]\n"
     ]
    },
    {
     "name": "stdout",
     "output_type": "stream",
     "text": [
      "=======================================================================================================================================\n",
      "2024-05-23 05:40:59\n",
      "Epoch 154 / 250\n"
     ]
    },
    {
     "name": "stderr",
     "output_type": "stream",
     "text": [
      "[Train]: 100%|██████████████████████| 352/352 [00:42<00:00,  8.19it/s, train_loss=0.00688]\n",
      "[Valid]: 100%|███████████████████████| 40/40 [00:02<00:00, 14.47it/s, val_acc=59.8, val_loss=0.0147]\n"
     ]
    },
    {
     "name": "stdout",
     "output_type": "stream",
     "text": [
      "=======================================================================================================================================\n",
      "2024-05-23 05:41:44\n",
      "Epoch 155 / 250\n"
     ]
    },
    {
     "name": "stderr",
     "output_type": "stream",
     "text": [
      "[Train]: 100%|██████████████████████| 352/352 [00:42<00:00,  8.31it/s, train_loss=0.00693]\n",
      "[Valid]: 100%|███████████████████████| 40/40 [00:02<00:00, 14.42it/s, val_acc=60.1, val_loss=0.0147]\n"
     ]
    },
    {
     "name": "stdout",
     "output_type": "stream",
     "text": [
      "=======================================================================================================================================\n",
      "2024-05-23 05:42:30\n",
      "Epoch 156 / 250\n"
     ]
    },
    {
     "name": "stderr",
     "output_type": "stream",
     "text": [
      "[Train]: 100%|██████████████████████| 352/352 [00:42<00:00,  8.24it/s, train_loss=0.00716]\n",
      "[Valid]: 100%|███████████████████████| 40/40 [00:02<00:00, 14.71it/s, val_acc=59.6, val_loss=0.0147]\n"
     ]
    },
    {
     "name": "stdout",
     "output_type": "stream",
     "text": [
      "=======================================================================================================================================\n",
      "2024-05-23 05:43:15\n",
      "Epoch 157 / 250\n"
     ]
    },
    {
     "name": "stderr",
     "output_type": "stream",
     "text": [
      "[Train]: 100%|██████████████████████| 352/352 [00:42<00:00,  8.27it/s, train_loss=0.00698]\n",
      "[Valid]: 100%|███████████████████████| 40/40 [00:02<00:00, 14.35it/s, val_acc=59.9, val_loss=0.0147]\n"
     ]
    },
    {
     "name": "stdout",
     "output_type": "stream",
     "text": [
      "=======================================================================================================================================\n",
      "2024-05-23 05:44:00\n",
      "Epoch 158 / 250\n"
     ]
    },
    {
     "name": "stderr",
     "output_type": "stream",
     "text": [
      "[Train]: 100%|██████████████████████| 352/352 [00:42<00:00,  8.33it/s, train_loss=0.00707]\n",
      "[Valid]: 100%|███████████████████████| 40/40 [00:02<00:00, 14.29it/s, val_acc=59.5, val_loss=0.0147]\n"
     ]
    },
    {
     "name": "stdout",
     "output_type": "stream",
     "text": [
      "=======================================================================================================================================\n",
      "2024-05-23 05:44:45\n",
      "Epoch 159 / 250\n"
     ]
    },
    {
     "name": "stderr",
     "output_type": "stream",
     "text": [
      "[Train]: 100%|██████████████████████| 352/352 [00:42<00:00,  8.34it/s, train_loss=0.00705]\n",
      "[Valid]: 100%|███████████████████████| 40/40 [00:02<00:00, 14.19it/s, val_acc=59.9, val_loss=0.0147]\n"
     ]
    },
    {
     "name": "stdout",
     "output_type": "stream",
     "text": [
      "=======================================================================================================================================\n",
      "2024-05-23 05:45:30\n",
      "Epoch 160 / 250\n"
     ]
    },
    {
     "name": "stderr",
     "output_type": "stream",
     "text": [
      "[Train]: 100%|██████████████████████| 352/352 [00:43<00:00,  8.10it/s, train_loss=0.00708]\n",
      "[Valid]: 100%|███████████████████████| 40/40 [00:02<00:00, 14.02it/s, val_acc=59.9, val_loss=0.0147]\n"
     ]
    },
    {
     "name": "stdout",
     "output_type": "stream",
     "text": [
      "=======================================================================================================================================\n",
      "2024-05-23 05:46:17\n",
      "Epoch 161 / 250\n",
      "lr is updated to 6.103515625e-06\n"
     ]
    },
    {
     "name": "stderr",
     "output_type": "stream",
     "text": [
      "[Train]: 100%|███████████████████████| 352/352 [00:42<00:00,  8.22it/s, train_loss=0.0069]\n",
      "[Valid]: 100%|█████████████████████████| 40/40 [00:02<00:00, 14.75it/s, val_acc=60, val_loss=0.0147]\n"
     ]
    },
    {
     "name": "stdout",
     "output_type": "stream",
     "text": [
      "=======================================================================================================================================\n",
      "2024-05-23 05:47:02\n",
      "Epoch 162 / 250\n"
     ]
    },
    {
     "name": "stderr",
     "output_type": "stream",
     "text": [
      "[Train]: 100%|██████████████████████| 352/352 [00:41<00:00,  8.42it/s, train_loss=0.00702]\n",
      "[Valid]: 100%|███████████████████████| 40/40 [00:02<00:00, 14.24it/s, val_acc=59.9, val_loss=0.0147]\n"
     ]
    },
    {
     "name": "stdout",
     "output_type": "stream",
     "text": [
      "=======================================================================================================================================\n",
      "2024-05-23 05:47:47\n",
      "Epoch 163 / 250\n"
     ]
    },
    {
     "name": "stderr",
     "output_type": "stream",
     "text": [
      "[Train]: 100%|██████████████████████| 352/352 [00:41<00:00,  8.52it/s, train_loss=0.00699]\n",
      "[Valid]: 100%|███████████████████████| 40/40 [00:02<00:00, 14.35it/s, val_acc=59.8, val_loss=0.0147]\n"
     ]
    },
    {
     "name": "stdout",
     "output_type": "stream",
     "text": [
      "=======================================================================================================================================\n",
      "2024-05-23 05:48:31\n",
      "Epoch 164 / 250\n"
     ]
    },
    {
     "name": "stderr",
     "output_type": "stream",
     "text": [
      "[Train]: 100%|██████████████████████| 352/352 [00:42<00:00,  8.37it/s, train_loss=0.00693]\n",
      "[Valid]: 100%|███████████████████████| 40/40 [00:02<00:00, 14.35it/s, val_acc=59.9, val_loss=0.0147]\n"
     ]
    },
    {
     "name": "stdout",
     "output_type": "stream",
     "text": [
      "=======================================================================================================================================\n",
      "2024-05-23 05:49:16\n",
      "Epoch 165 / 250\n"
     ]
    },
    {
     "name": "stderr",
     "output_type": "stream",
     "text": [
      "[Train]: 100%|██████████████████████| 352/352 [00:43<00:00,  8.17it/s, train_loss=0.00692]\n",
      "[Valid]: 100%|███████████████████████| 40/40 [00:02<00:00, 14.37it/s, val_acc=59.9, val_loss=0.0147]\n"
     ]
    },
    {
     "name": "stdout",
     "output_type": "stream",
     "text": [
      "=======================================================================================================================================\n",
      "2024-05-23 05:50:02\n",
      "Epoch 166 / 250\n"
     ]
    },
    {
     "name": "stderr",
     "output_type": "stream",
     "text": [
      "[Train]: 100%|██████████████████████| 352/352 [00:42<00:00,  8.29it/s, train_loss=0.00699]\n",
      "[Valid]: 100%|███████████████████████| 40/40 [00:02<00:00, 14.54it/s, val_acc=59.9, val_loss=0.0147]\n"
     ]
    },
    {
     "name": "stdout",
     "output_type": "stream",
     "text": [
      "=======================================================================================================================================\n",
      "2024-05-23 05:50:47\n",
      "Epoch 167 / 250\n"
     ]
    },
    {
     "name": "stderr",
     "output_type": "stream",
     "text": [
      "[Train]: 100%|██████████████████████| 352/352 [00:42<00:00,  8.30it/s, train_loss=0.00698]\n",
      "[Valid]: 100%|███████████████████████| 40/40 [00:02<00:00, 14.50it/s, val_acc=59.6, val_loss=0.0147]\n"
     ]
    },
    {
     "name": "stdout",
     "output_type": "stream",
     "text": [
      "=======================================================================================================================================\n",
      "2024-05-23 05:51:32\n",
      "Epoch 168 / 250\n"
     ]
    },
    {
     "name": "stderr",
     "output_type": "stream",
     "text": [
      "[Train]: 100%|██████████████████████| 352/352 [00:44<00:00,  7.99it/s, train_loss=0.00695]\n",
      "[Valid]: 100%|███████████████████████| 40/40 [00:03<00:00, 13.01it/s, val_acc=59.9, val_loss=0.0147]\n"
     ]
    },
    {
     "name": "stdout",
     "output_type": "stream",
     "text": [
      "=======================================================================================================================================\n",
      "2024-05-23 05:52:19\n",
      "Epoch 169 / 250\n"
     ]
    },
    {
     "name": "stderr",
     "output_type": "stream",
     "text": [
      "[Train]: 100%|██████████████████████| 352/352 [00:42<00:00,  8.37it/s, train_loss=0.00698]\n",
      "[Valid]: 100%|███████████████████████| 40/40 [00:02<00:00, 14.33it/s, val_acc=59.6, val_loss=0.0147]\n"
     ]
    },
    {
     "name": "stdout",
     "output_type": "stream",
     "text": [
      "=======================================================================================================================================\n",
      "2024-05-23 05:53:04\n",
      "Epoch 170 / 250\n"
     ]
    },
    {
     "name": "stderr",
     "output_type": "stream",
     "text": [
      "[Train]: 100%|████████████████████████| 352/352 [00:43<00:00,  8.16it/s, train_loss=0.007]\n",
      "[Valid]: 100%|███████████████████████| 40/40 [00:02<00:00, 14.75it/s, val_acc=59.5, val_loss=0.0147]\n"
     ]
    },
    {
     "name": "stdout",
     "output_type": "stream",
     "text": [
      "=======================================================================================================================================\n",
      "2024-05-23 05:53:50\n",
      "Epoch 171 / 250\n",
      "lr is updated to 3.0517578125e-06\n"
     ]
    },
    {
     "name": "stderr",
     "output_type": "stream",
     "text": [
      "[Train]: 100%|██████████████████████| 352/352 [00:42<00:00,  8.28it/s, train_loss=0.00701]\n",
      "[Valid]: 100%|███████████████████████| 40/40 [00:02<00:00, 14.07it/s, val_acc=59.7, val_loss=0.0147]\n"
     ]
    },
    {
     "name": "stdout",
     "output_type": "stream",
     "text": [
      "=======================================================================================================================================\n",
      "2024-05-23 05:54:35\n",
      "Epoch 172 / 250\n"
     ]
    },
    {
     "name": "stderr",
     "output_type": "stream",
     "text": [
      "[Train]: 100%|██████████████████████| 352/352 [00:42<00:00,  8.30it/s, train_loss=0.00692]\n",
      "[Valid]: 100%|███████████████████████| 40/40 [00:02<00:00, 14.32it/s, val_acc=59.8, val_loss=0.0147]\n"
     ]
    },
    {
     "name": "stdout",
     "output_type": "stream",
     "text": [
      "=======================================================================================================================================\n",
      "2024-05-23 05:55:20\n",
      "Epoch 173 / 250\n"
     ]
    },
    {
     "name": "stderr",
     "output_type": "stream",
     "text": [
      "[Train]: 100%|██████████████████████| 352/352 [00:42<00:00,  8.28it/s, train_loss=0.00691]\n",
      "[Valid]: 100%|█████████████████████████| 40/40 [00:02<00:00, 14.31it/s, val_acc=60, val_loss=0.0147]\n"
     ]
    },
    {
     "name": "stdout",
     "output_type": "stream",
     "text": [
      "=======================================================================================================================================\n",
      "2024-05-23 05:56:06\n",
      "Epoch 174 / 250\n"
     ]
    },
    {
     "name": "stderr",
     "output_type": "stream",
     "text": [
      "[Train]: 100%|████████████████████████| 352/352 [00:42<00:00,  8.31it/s, train_loss=0.007]\n",
      "[Valid]: 100%|███████████████████████| 40/40 [00:02<00:00, 14.15it/s, val_acc=59.6, val_loss=0.0147]\n"
     ]
    },
    {
     "name": "stdout",
     "output_type": "stream",
     "text": [
      "=======================================================================================================================================\n",
      "2024-05-23 05:56:51\n",
      "Epoch 175 / 250\n"
     ]
    },
    {
     "name": "stderr",
     "output_type": "stream",
     "text": [
      "[Train]: 100%|██████████████████████| 352/352 [00:42<00:00,  8.19it/s, train_loss=0.00704]\n",
      "[Valid]: 100%|███████████████████████| 40/40 [00:02<00:00, 14.52it/s, val_acc=59.8, val_loss=0.0147]\n"
     ]
    },
    {
     "name": "stdout",
     "output_type": "stream",
     "text": [
      "=======================================================================================================================================\n",
      "2024-05-23 05:57:37\n",
      "Epoch 176 / 250\n"
     ]
    },
    {
     "name": "stderr",
     "output_type": "stream",
     "text": [
      "[Train]: 100%|██████████████████████| 352/352 [00:41<00:00,  8.50it/s, train_loss=0.00701]\n",
      "[Valid]: 100%|███████████████████████| 40/40 [00:02<00:00, 14.34it/s, val_acc=59.8, val_loss=0.0147]\n"
     ]
    },
    {
     "name": "stdout",
     "output_type": "stream",
     "text": [
      "=======================================================================================================================================\n",
      "2024-05-23 05:58:21\n",
      "Epoch 177 / 250\n"
     ]
    },
    {
     "name": "stderr",
     "output_type": "stream",
     "text": [
      "[Train]: 100%|██████████████████████| 352/352 [00:41<00:00,  8.38it/s, train_loss=0.00693]\n",
      "[Valid]: 100%|███████████████████████| 40/40 [00:02<00:00, 14.52it/s, val_acc=59.9, val_loss=0.0147]\n"
     ]
    },
    {
     "name": "stdout",
     "output_type": "stream",
     "text": [
      "=======================================================================================================================================\n",
      "2024-05-23 05:59:06\n",
      "Epoch 178 / 250\n"
     ]
    },
    {
     "name": "stderr",
     "output_type": "stream",
     "text": [
      "[Train]: 100%|██████████████████████| 352/352 [00:42<00:00,  8.27it/s, train_loss=0.00705]\n",
      "[Valid]: 100%|███████████████████████| 40/40 [00:02<00:00, 14.49it/s, val_acc=59.8, val_loss=0.0147]\n"
     ]
    },
    {
     "name": "stdout",
     "output_type": "stream",
     "text": [
      "=======================================================================================================================================\n",
      "2024-05-23 05:59:51\n",
      "Epoch 179 / 250\n"
     ]
    },
    {
     "name": "stderr",
     "output_type": "stream",
     "text": [
      "[Train]: 100%|██████████████████████| 352/352 [00:42<00:00,  8.23it/s, train_loss=0.00685]\n",
      "[Valid]: 100%|███████████████████████| 40/40 [00:02<00:00, 15.12it/s, val_acc=59.7, val_loss=0.0147]\n"
     ]
    },
    {
     "name": "stdout",
     "output_type": "stream",
     "text": [
      "=======================================================================================================================================\n",
      "2024-05-23 06:00:36\n",
      "Epoch 180 / 250\n"
     ]
    },
    {
     "name": "stderr",
     "output_type": "stream",
     "text": [
      "[Train]: 100%|██████████████████████| 352/352 [00:42<00:00,  8.29it/s, train_loss=0.00688]\n",
      "[Valid]: 100%|███████████████████████| 40/40 [00:02<00:00, 14.65it/s, val_acc=59.8, val_loss=0.0147]\n"
     ]
    },
    {
     "name": "stdout",
     "output_type": "stream",
     "text": [
      "=======================================================================================================================================\n",
      "2024-05-23 06:01:22\n",
      "Epoch 181 / 250\n",
      "lr is updated to 1.52587890625e-06\n"
     ]
    },
    {
     "name": "stderr",
     "output_type": "stream",
     "text": [
      "[Train]: 100%|███████████████████████| 352/352 [00:42<00:00,  8.26it/s, train_loss=0.0069]\n",
      "[Valid]: 100%|███████████████████████| 40/40 [00:02<00:00, 14.22it/s, val_acc=60.1, val_loss=0.0147]\n"
     ]
    },
    {
     "name": "stdout",
     "output_type": "stream",
     "text": [
      "=======================================================================================================================================\n",
      "2024-05-23 06:02:07\n",
      "Epoch 182 / 250\n"
     ]
    },
    {
     "name": "stderr",
     "output_type": "stream",
     "text": [
      "[Train]: 100%|██████████████████████| 352/352 [00:42<00:00,  8.32it/s, train_loss=0.00711]\n",
      "[Valid]: 100%|███████████████████████| 40/40 [00:02<00:00, 14.66it/s, val_acc=59.9, val_loss=0.0147]\n"
     ]
    },
    {
     "name": "stdout",
     "output_type": "stream",
     "text": [
      "=======================================================================================================================================\n",
      "2024-05-23 06:02:52\n",
      "Epoch 183 / 250\n"
     ]
    },
    {
     "name": "stderr",
     "output_type": "stream",
     "text": [
      "[Train]: 100%|██████████████████████| 352/352 [00:42<00:00,  8.36it/s, train_loss=0.00707]\n",
      "[Valid]: 100%|███████████████████████| 40/40 [00:02<00:00, 14.21it/s, val_acc=59.7, val_loss=0.0147]\n"
     ]
    },
    {
     "name": "stdout",
     "output_type": "stream",
     "text": [
      "=======================================================================================================================================\n",
      "2024-05-23 06:03:37\n",
      "Epoch 184 / 250\n"
     ]
    },
    {
     "name": "stderr",
     "output_type": "stream",
     "text": [
      "[Train]: 100%|██████████████████████| 352/352 [00:42<00:00,  8.25it/s, train_loss=0.00697]\n",
      "[Valid]: 100%|███████████████████████| 40/40 [00:02<00:00, 14.16it/s, val_acc=59.8, val_loss=0.0147]\n"
     ]
    },
    {
     "name": "stdout",
     "output_type": "stream",
     "text": [
      "=======================================================================================================================================\n",
      "2024-05-23 06:04:23\n",
      "Epoch 185 / 250\n"
     ]
    },
    {
     "name": "stderr",
     "output_type": "stream",
     "text": [
      "[Train]: 100%|██████████████████████| 352/352 [00:42<00:00,  8.35it/s, train_loss=0.00697]\n",
      "[Valid]: 100%|███████████████████████| 40/40 [00:02<00:00, 14.65it/s, val_acc=59.9, val_loss=0.0147]\n"
     ]
    },
    {
     "name": "stdout",
     "output_type": "stream",
     "text": [
      "=======================================================================================================================================\n",
      "2024-05-23 06:05:07\n",
      "Epoch 186 / 250\n"
     ]
    },
    {
     "name": "stderr",
     "output_type": "stream",
     "text": [
      "[Train]: 100%|██████████████████████| 352/352 [00:42<00:00,  8.27it/s, train_loss=0.00695]\n",
      "[Valid]: 100%|███████████████████████| 40/40 [00:02<00:00, 14.03it/s, val_acc=59.8, val_loss=0.0147]\n"
     ]
    },
    {
     "name": "stdout",
     "output_type": "stream",
     "text": [
      "=======================================================================================================================================\n",
      "2024-05-23 06:05:53\n",
      "Epoch 187 / 250\n"
     ]
    },
    {
     "name": "stderr",
     "output_type": "stream",
     "text": [
      "[Train]: 100%|██████████████████████| 352/352 [00:42<00:00,  8.28it/s, train_loss=0.00697]\n",
      "[Valid]: 100%|█████████████████████████| 40/40 [00:02<00:00, 14.10it/s, val_acc=60, val_loss=0.0147]\n"
     ]
    },
    {
     "name": "stdout",
     "output_type": "stream",
     "text": [
      "=======================================================================================================================================\n",
      "2024-05-23 06:06:38\n",
      "Epoch 188 / 250\n"
     ]
    },
    {
     "name": "stderr",
     "output_type": "stream",
     "text": [
      "[Train]: 100%|██████████████████████| 352/352 [00:42<00:00,  8.29it/s, train_loss=0.00696]\n",
      "[Valid]: 100%|███████████████████████| 40/40 [00:02<00:00, 14.08it/s, val_acc=59.9, val_loss=0.0147]\n"
     ]
    },
    {
     "name": "stdout",
     "output_type": "stream",
     "text": [
      "=======================================================================================================================================\n",
      "2024-05-23 06:07:24\n",
      "Epoch 189 / 250\n"
     ]
    },
    {
     "name": "stderr",
     "output_type": "stream",
     "text": [
      "[Train]: 100%|██████████████████████| 352/352 [00:42<00:00,  8.28it/s, train_loss=0.00696]\n",
      "[Valid]: 100%|███████████████████████| 40/40 [00:02<00:00, 14.57it/s, val_acc=59.6, val_loss=0.0147]\n"
     ]
    },
    {
     "name": "stdout",
     "output_type": "stream",
     "text": [
      "=======================================================================================================================================\n",
      "2024-05-23 06:08:09\n",
      "Epoch 190 / 250\n"
     ]
    },
    {
     "name": "stderr",
     "output_type": "stream",
     "text": [
      "[Train]: 100%|██████████████████████| 352/352 [00:43<00:00,  8.12it/s, train_loss=0.00698]\n",
      "[Valid]: 100%|███████████████████████| 40/40 [00:02<00:00, 14.31it/s, val_acc=59.8, val_loss=0.0147]\n"
     ]
    },
    {
     "name": "stdout",
     "output_type": "stream",
     "text": [
      "=======================================================================================================================================\n",
      "2024-05-23 06:08:55\n",
      "Epoch 191 / 250\n",
      "lr is updated to 7.62939453125e-07\n"
     ]
    },
    {
     "name": "stderr",
     "output_type": "stream",
     "text": [
      "[Train]: 100%|██████████████████████| 352/352 [00:42<00:00,  8.24it/s, train_loss=0.00704]\n",
      "[Valid]: 100%|███████████████████████| 40/40 [00:02<00:00, 14.59it/s, val_acc=59.7, val_loss=0.0147]\n"
     ]
    },
    {
     "name": "stdout",
     "output_type": "stream",
     "text": [
      "=======================================================================================================================================\n",
      "2024-05-23 06:09:40\n",
      "Epoch 192 / 250\n"
     ]
    },
    {
     "name": "stderr",
     "output_type": "stream",
     "text": [
      "[Train]: 100%|██████████████████████| 352/352 [00:43<00:00,  8.18it/s, train_loss=0.00701]\n",
      "[Valid]: 100%|███████████████████████| 40/40 [00:02<00:00, 14.38it/s, val_acc=59.7, val_loss=0.0147]\n"
     ]
    },
    {
     "name": "stdout",
     "output_type": "stream",
     "text": [
      "=======================================================================================================================================\n",
      "2024-05-23 06:10:26\n",
      "Epoch 193 / 250\n"
     ]
    },
    {
     "name": "stderr",
     "output_type": "stream",
     "text": [
      "[Train]: 100%|██████████████████████| 352/352 [00:42<00:00,  8.36it/s, train_loss=0.00711]\n",
      "[Valid]: 100%|█████████████████████████| 40/40 [00:02<00:00, 14.73it/s, val_acc=60, val_loss=0.0147]\n"
     ]
    },
    {
     "name": "stdout",
     "output_type": "stream",
     "text": [
      "=======================================================================================================================================\n",
      "2024-05-23 06:11:11\n",
      "Epoch 194 / 250\n"
     ]
    },
    {
     "name": "stderr",
     "output_type": "stream",
     "text": [
      "[Train]: 100%|██████████████████████| 352/352 [00:43<00:00,  8.15it/s, train_loss=0.00693]\n",
      "[Valid]: 100%|███████████████████████| 40/40 [00:02<00:00, 14.16it/s, val_acc=59.8, val_loss=0.0147]\n"
     ]
    },
    {
     "name": "stdout",
     "output_type": "stream",
     "text": [
      "=======================================================================================================================================\n",
      "2024-05-23 06:11:57\n",
      "Epoch 195 / 250\n"
     ]
    },
    {
     "name": "stderr",
     "output_type": "stream",
     "text": [
      "[Train]: 100%|██████████████████████| 352/352 [00:41<00:00,  8.46it/s, train_loss=0.00705]\n",
      "[Valid]: 100%|█████████████████████████| 40/40 [00:02<00:00, 14.81it/s, val_acc=60, val_loss=0.0147]\n"
     ]
    },
    {
     "name": "stdout",
     "output_type": "stream",
     "text": [
      "=======================================================================================================================================\n",
      "2024-05-23 06:12:41\n",
      "Epoch 196 / 250\n"
     ]
    },
    {
     "name": "stderr",
     "output_type": "stream",
     "text": [
      "[Train]: 100%|██████████████████████| 352/352 [00:43<00:00,  8.18it/s, train_loss=0.00706]\n",
      "[Valid]: 100%|███████████████████████| 40/40 [00:02<00:00, 14.86it/s, val_acc=59.6, val_loss=0.0147]\n"
     ]
    },
    {
     "name": "stdout",
     "output_type": "stream",
     "text": [
      "=======================================================================================================================================\n",
      "2024-05-23 06:13:27\n",
      "Epoch 197 / 250\n"
     ]
    },
    {
     "name": "stderr",
     "output_type": "stream",
     "text": [
      "[Train]: 100%|██████████████████████| 352/352 [00:43<00:00,  8.16it/s, train_loss=0.00699]\n",
      "[Valid]: 100%|███████████████████████| 40/40 [00:02<00:00, 14.67it/s, val_acc=59.9, val_loss=0.0147]\n"
     ]
    },
    {
     "name": "stdout",
     "output_type": "stream",
     "text": [
      "=======================================================================================================================================\n",
      "2024-05-23 06:14:13\n",
      "Epoch 198 / 250\n"
     ]
    },
    {
     "name": "stderr",
     "output_type": "stream",
     "text": [
      "[Train]: 100%|██████████████████████| 352/352 [00:42<00:00,  8.24it/s, train_loss=0.00689]\n",
      "[Valid]: 100%|█████████████████████████| 40/40 [00:02<00:00, 14.93it/s, val_acc=60, val_loss=0.0147]\n"
     ]
    },
    {
     "name": "stdout",
     "output_type": "stream",
     "text": [
      "=======================================================================================================================================\n",
      "2024-05-23 06:14:58\n",
      "Epoch 199 / 250\n"
     ]
    },
    {
     "name": "stderr",
     "output_type": "stream",
     "text": [
      "[Train]: 100%|██████████████████████| 352/352 [00:41<00:00,  8.40it/s, train_loss=0.00697]\n",
      "[Valid]: 100%|███████████████████████| 40/40 [00:02<00:00, 14.37it/s, val_acc=60.1, val_loss=0.0147]\n"
     ]
    },
    {
     "name": "stdout",
     "output_type": "stream",
     "text": [
      "=======================================================================================================================================\n",
      "2024-05-23 06:15:43\n",
      "Epoch 200 / 250\n"
     ]
    },
    {
     "name": "stderr",
     "output_type": "stream",
     "text": [
      "[Train]: 100%|██████████████████████| 352/352 [00:42<00:00,  8.32it/s, train_loss=0.00705]\n",
      "[Valid]: 100%|███████████████████████| 40/40 [00:02<00:00, 14.43it/s, val_acc=59.8, val_loss=0.0147]\n"
     ]
    },
    {
     "name": "stdout",
     "output_type": "stream",
     "text": [
      "=======================================================================================================================================\n",
      "2024-05-23 06:16:28\n",
      "Epoch 201 / 250\n",
      "lr is updated to 3.814697265625e-07\n"
     ]
    },
    {
     "name": "stderr",
     "output_type": "stream",
     "text": [
      "[Train]: 100%|██████████████████████| 352/352 [00:43<00:00,  8.16it/s, train_loss=0.00696]\n",
      "[Valid]: 100%|███████████████████████| 40/40 [00:02<00:00, 14.69it/s, val_acc=59.7, val_loss=0.0147]\n"
     ]
    },
    {
     "name": "stdout",
     "output_type": "stream",
     "text": [
      "=======================================================================================================================================\n",
      "2024-05-23 06:17:14\n",
      "Epoch 202 / 250\n"
     ]
    },
    {
     "name": "stderr",
     "output_type": "stream",
     "text": [
      "[Train]: 100%|██████████████████████| 352/352 [00:42<00:00,  8.34it/s, train_loss=0.00702]\n",
      "[Valid]: 100%|███████████████████████| 40/40 [00:02<00:00, 14.50it/s, val_acc=59.7, val_loss=0.0147]\n"
     ]
    },
    {
     "name": "stdout",
     "output_type": "stream",
     "text": [
      "=======================================================================================================================================\n",
      "2024-05-23 06:17:59\n",
      "Epoch 203 / 250\n"
     ]
    },
    {
     "name": "stderr",
     "output_type": "stream",
     "text": [
      "[Train]: 100%|██████████████████████| 352/352 [00:41<00:00,  8.46it/s, train_loss=0.00697]\n",
      "[Valid]: 100%|███████████████████████| 40/40 [00:02<00:00, 14.29it/s, val_acc=59.9, val_loss=0.0147]\n"
     ]
    },
    {
     "name": "stdout",
     "output_type": "stream",
     "text": [
      "=======================================================================================================================================\n",
      "2024-05-23 06:18:43\n",
      "Epoch 204 / 250\n"
     ]
    },
    {
     "name": "stderr",
     "output_type": "stream",
     "text": [
      "[Train]: 100%|██████████████████████| 352/352 [00:43<00:00,  8.15it/s, train_loss=0.00703]\n",
      "[Valid]: 100%|███████████████████████| 40/40 [00:02<00:00, 14.63it/s, val_acc=59.9, val_loss=0.0148]\n"
     ]
    },
    {
     "name": "stdout",
     "output_type": "stream",
     "text": [
      "=======================================================================================================================================\n",
      "2024-05-23 06:19:29\n",
      "Epoch 205 / 250\n"
     ]
    },
    {
     "name": "stderr",
     "output_type": "stream",
     "text": [
      "[Train]: 100%|██████████████████████| 352/352 [00:42<00:00,  8.19it/s, train_loss=0.00692]\n",
      "[Valid]: 100%|███████████████████████| 40/40 [00:02<00:00, 14.69it/s, val_acc=59.7, val_loss=0.0147]\n"
     ]
    },
    {
     "name": "stdout",
     "output_type": "stream",
     "text": [
      "=======================================================================================================================================\n",
      "2024-05-23 06:20:15\n",
      "Epoch 206 / 250\n"
     ]
    },
    {
     "name": "stderr",
     "output_type": "stream",
     "text": [
      "[Train]: 100%|██████████████████████| 352/352 [00:42<00:00,  8.22it/s, train_loss=0.00693]\n",
      "[Valid]: 100%|█████████████████████████| 40/40 [00:02<00:00, 14.00it/s, val_acc=60, val_loss=0.0147]\n"
     ]
    },
    {
     "name": "stdout",
     "output_type": "stream",
     "text": [
      "=======================================================================================================================================\n",
      "2024-05-23 06:21:01\n",
      "Epoch 207 / 250\n"
     ]
    },
    {
     "name": "stderr",
     "output_type": "stream",
     "text": [
      "[Train]: 100%|██████████████████████| 352/352 [00:42<00:00,  8.27it/s, train_loss=0.00705]\n",
      "[Valid]: 100%|███████████████████████| 40/40 [00:02<00:00, 14.12it/s, val_acc=59.7, val_loss=0.0147]\n"
     ]
    },
    {
     "name": "stdout",
     "output_type": "stream",
     "text": [
      "=======================================================================================================================================\n",
      "2024-05-23 06:21:46\n",
      "Epoch 208 / 250\n"
     ]
    },
    {
     "name": "stderr",
     "output_type": "stream",
     "text": [
      "[Train]: 100%|██████████████████████| 352/352 [00:42<00:00,  8.27it/s, train_loss=0.00697]\n",
      "[Valid]: 100%|███████████████████████| 40/40 [00:02<00:00, 14.15it/s, val_acc=59.6, val_loss=0.0147]\n"
     ]
    },
    {
     "name": "stdout",
     "output_type": "stream",
     "text": [
      "=======================================================================================================================================\n",
      "2024-05-23 06:22:32\n",
      "Epoch 209 / 250\n"
     ]
    },
    {
     "name": "stderr",
     "output_type": "stream",
     "text": [
      "[Train]: 100%|██████████████████████| 352/352 [00:41<00:00,  8.41it/s, train_loss=0.00693]\n",
      "[Valid]: 100%|█████████████████████████| 40/40 [00:02<00:00, 14.43it/s, val_acc=60, val_loss=0.0147]\n"
     ]
    },
    {
     "name": "stdout",
     "output_type": "stream",
     "text": [
      "=======================================================================================================================================\n",
      "2024-05-23 06:23:16\n",
      "Epoch 210 / 250\n"
     ]
    },
    {
     "name": "stderr",
     "output_type": "stream",
     "text": [
      "[Train]: 100%|██████████████████████| 352/352 [00:41<00:00,  8.53it/s, train_loss=0.00712]\n",
      "[Valid]: 100%|███████████████████████| 40/40 [00:02<00:00, 14.75it/s, val_acc=59.5, val_loss=0.0147]\n"
     ]
    },
    {
     "name": "stdout",
     "output_type": "stream",
     "text": [
      "=======================================================================================================================================\n",
      "2024-05-23 06:24:00\n",
      "Epoch 211 / 250\n",
      "lr is updated to 1.9073486328125e-07\n"
     ]
    },
    {
     "name": "stderr",
     "output_type": "stream",
     "text": [
      "[Train]: 100%|██████████████████████| 352/352 [00:43<00:00,  8.09it/s, train_loss=0.00695]\n",
      "[Valid]: 100%|█████████████████████████| 40/40 [00:02<00:00, 13.97it/s, val_acc=60, val_loss=0.0148]\n"
     ]
    },
    {
     "name": "stdout",
     "output_type": "stream",
     "text": [
      "=======================================================================================================================================\n",
      "2024-05-23 06:24:47\n",
      "Epoch 212 / 250\n"
     ]
    },
    {
     "name": "stderr",
     "output_type": "stream",
     "text": [
      "[Train]: 100%|██████████████████████| 352/352 [00:42<00:00,  8.27it/s, train_loss=0.00703]\n",
      "[Valid]: 100%|███████████████████████| 40/40 [00:02<00:00, 14.24it/s, val_acc=59.8, val_loss=0.0147]\n"
     ]
    },
    {
     "name": "stdout",
     "output_type": "stream",
     "text": [
      "=======================================================================================================================================\n",
      "2024-05-23 06:25:32\n",
      "Epoch 213 / 250\n"
     ]
    },
    {
     "name": "stderr",
     "output_type": "stream",
     "text": [
      "[Train]: 100%|██████████████████████| 352/352 [00:42<00:00,  8.34it/s, train_loss=0.00691]\n",
      "[Valid]: 100%|███████████████████████| 40/40 [00:02<00:00, 14.75it/s, val_acc=59.8, val_loss=0.0147]\n"
     ]
    },
    {
     "name": "stdout",
     "output_type": "stream",
     "text": [
      "=======================================================================================================================================\n",
      "2024-05-23 06:26:17\n",
      "Epoch 214 / 250\n"
     ]
    },
    {
     "name": "stderr",
     "output_type": "stream",
     "text": [
      "[Train]: 100%|██████████████████████| 352/352 [00:42<00:00,  8.33it/s, train_loss=0.00699]\n",
      "[Valid]: 100%|███████████████████████| 40/40 [00:02<00:00, 14.90it/s, val_acc=59.9, val_loss=0.0147]\n"
     ]
    },
    {
     "name": "stdout",
     "output_type": "stream",
     "text": [
      "=======================================================================================================================================\n",
      "2024-05-23 06:27:02\n",
      "Epoch 215 / 250\n"
     ]
    },
    {
     "name": "stderr",
     "output_type": "stream",
     "text": [
      "[Train]: 100%|██████████████████████| 352/352 [00:43<00:00,  8.14it/s, train_loss=0.00696]\n",
      "[Valid]: 100%|███████████████████████| 40/40 [00:02<00:00, 13.94it/s, val_acc=59.7, val_loss=0.0147]\n"
     ]
    },
    {
     "name": "stdout",
     "output_type": "stream",
     "text": [
      "=======================================================================================================================================\n",
      "2024-05-23 06:27:48\n",
      "Epoch 216 / 250\n"
     ]
    },
    {
     "name": "stderr",
     "output_type": "stream",
     "text": [
      "[Train]: 100%|██████████████████████| 352/352 [00:43<00:00,  8.14it/s, train_loss=0.00706]\n",
      "[Valid]: 100%|███████████████████████| 40/40 [00:02<00:00, 14.72it/s, val_acc=59.8, val_loss=0.0147]\n"
     ]
    },
    {
     "name": "stdout",
     "output_type": "stream",
     "text": [
      "=======================================================================================================================================\n",
      "2024-05-23 06:28:34\n",
      "Epoch 217 / 250\n"
     ]
    },
    {
     "name": "stderr",
     "output_type": "stream",
     "text": [
      "[Train]: 100%|██████████████████████| 352/352 [00:42<00:00,  8.26it/s, train_loss=0.00697]\n",
      "[Valid]: 100%|█████████████████████████| 40/40 [00:02<00:00, 14.56it/s, val_acc=60, val_loss=0.0147]\n"
     ]
    },
    {
     "name": "stdout",
     "output_type": "stream",
     "text": [
      "=======================================================================================================================================\n",
      "2024-05-23 06:29:19\n",
      "Epoch 218 / 250\n"
     ]
    },
    {
     "name": "stderr",
     "output_type": "stream",
     "text": [
      "[Train]: 100%|██████████████████████| 352/352 [00:42<00:00,  8.20it/s, train_loss=0.00696]\n",
      "[Valid]: 100%|███████████████████████| 40/40 [00:02<00:00, 14.82it/s, val_acc=59.7, val_loss=0.0147]\n"
     ]
    },
    {
     "name": "stdout",
     "output_type": "stream",
     "text": [
      "=======================================================================================================================================\n",
      "2024-05-23 06:30:05\n",
      "Epoch 219 / 250\n"
     ]
    },
    {
     "name": "stderr",
     "output_type": "stream",
     "text": [
      "[Train]: 100%|██████████████████████| 352/352 [00:41<00:00,  8.39it/s, train_loss=0.00689]\n",
      "[Valid]: 100%|███████████████████████| 40/40 [00:02<00:00, 14.44it/s, val_acc=59.6, val_loss=0.0147]\n"
     ]
    },
    {
     "name": "stdout",
     "output_type": "stream",
     "text": [
      "=======================================================================================================================================\n",
      "2024-05-23 06:30:50\n",
      "Epoch 220 / 250\n"
     ]
    },
    {
     "name": "stderr",
     "output_type": "stream",
     "text": [
      "[Train]: 100%|████████████████████████| 352/352 [00:41<00:00,  8.52it/s, train_loss=0.007]\n",
      "[Valid]: 100%|███████████████████████| 40/40 [00:02<00:00, 14.59it/s, val_acc=59.9, val_loss=0.0147]\n"
     ]
    },
    {
     "name": "stdout",
     "output_type": "stream",
     "text": [
      "=======================================================================================================================================\n",
      "2024-05-23 06:31:34\n",
      "Epoch 221 / 250\n",
      "lr is updated to 9.5367431640625e-08\n"
     ]
    },
    {
     "name": "stderr",
     "output_type": "stream",
     "text": [
      "[Train]: 100%|██████████████████████| 352/352 [00:42<00:00,  8.33it/s, train_loss=0.00694]\n",
      "[Valid]: 100%|███████████████████████| 40/40 [00:02<00:00, 14.29it/s, val_acc=59.7, val_loss=0.0147]\n"
     ]
    },
    {
     "name": "stdout",
     "output_type": "stream",
     "text": [
      "=======================================================================================================================================\n",
      "2024-05-23 06:32:19\n",
      "Epoch 222 / 250\n"
     ]
    },
    {
     "name": "stderr",
     "output_type": "stream",
     "text": [
      "[Train]: 100%|██████████████████████| 352/352 [00:41<00:00,  8.38it/s, train_loss=0.00696]\n",
      "[Valid]: 100%|█████████████████████████| 40/40 [00:02<00:00, 14.54it/s, val_acc=60, val_loss=0.0147]\n"
     ]
    },
    {
     "name": "stdout",
     "output_type": "stream",
     "text": [
      "=======================================================================================================================================\n",
      "2024-05-23 06:33:03\n",
      "Epoch 223 / 250\n"
     ]
    },
    {
     "name": "stderr",
     "output_type": "stream",
     "text": [
      "[Train]: 100%|██████████████████████| 352/352 [00:43<00:00,  8.11it/s, train_loss=0.00701]\n",
      "[Valid]: 100%|███████████████████████| 40/40 [00:02<00:00, 14.76it/s, val_acc=59.8, val_loss=0.0147]\n"
     ]
    },
    {
     "name": "stdout",
     "output_type": "stream",
     "text": [
      "=======================================================================================================================================\n",
      "2024-05-23 06:33:50\n",
      "Epoch 224 / 250\n"
     ]
    },
    {
     "name": "stderr",
     "output_type": "stream",
     "text": [
      "[Train]: 100%|██████████████████████| 352/352 [00:43<00:00,  8.09it/s, train_loss=0.00702]\n",
      "[Valid]: 100%|███████████████████████| 40/40 [00:02<00:00, 14.55it/s, val_acc=59.8, val_loss=0.0147]\n"
     ]
    },
    {
     "name": "stdout",
     "output_type": "stream",
     "text": [
      "=======================================================================================================================================\n",
      "2024-05-23 06:34:36\n",
      "Epoch 225 / 250\n"
     ]
    },
    {
     "name": "stderr",
     "output_type": "stream",
     "text": [
      "[Train]: 100%|██████████████████████| 352/352 [00:41<00:00,  8.40it/s, train_loss=0.00701]\n",
      "[Valid]: 100%|███████████████████████| 40/40 [00:02<00:00, 14.68it/s, val_acc=60.1, val_loss=0.0147]\n"
     ]
    },
    {
     "name": "stdout",
     "output_type": "stream",
     "text": [
      "=======================================================================================================================================\n",
      "2024-05-23 06:35:21\n",
      "Epoch 226 / 250\n"
     ]
    },
    {
     "name": "stderr",
     "output_type": "stream",
     "text": [
      "[Train]: 100%|██████████████████████| 352/352 [00:42<00:00,  8.21it/s, train_loss=0.00699]\n",
      "[Valid]: 100%|█████████████████████████| 40/40 [00:02<00:00, 14.48it/s, val_acc=60, val_loss=0.0147]\n"
     ]
    },
    {
     "name": "stdout",
     "output_type": "stream",
     "text": [
      "=======================================================================================================================================\n",
      "2024-05-23 06:36:06\n",
      "Epoch 227 / 250\n"
     ]
    },
    {
     "name": "stderr",
     "output_type": "stream",
     "text": [
      "[Train]: 100%|██████████████████████| 352/352 [00:43<00:00,  8.14it/s, train_loss=0.00689]\n",
      "[Valid]: 100%|███████████████████████| 40/40 [00:02<00:00, 14.57it/s, val_acc=59.7, val_loss=0.0147]\n"
     ]
    },
    {
     "name": "stdout",
     "output_type": "stream",
     "text": [
      "=======================================================================================================================================\n",
      "2024-05-23 06:36:52\n",
      "Epoch 228 / 250\n"
     ]
    },
    {
     "name": "stderr",
     "output_type": "stream",
     "text": [
      "[Train]: 100%|██████████████████████| 352/352 [00:41<00:00,  8.47it/s, train_loss=0.00711]\n",
      "[Valid]: 100%|███████████████████████| 40/40 [00:02<00:00, 14.28it/s, val_acc=59.9, val_loss=0.0147]\n"
     ]
    },
    {
     "name": "stdout",
     "output_type": "stream",
     "text": [
      "=======================================================================================================================================\n",
      "2024-05-23 06:37:37\n",
      "Epoch 229 / 250\n"
     ]
    },
    {
     "name": "stderr",
     "output_type": "stream",
     "text": [
      "[Train]: 100%|██████████████████████| 352/352 [00:42<00:00,  8.28it/s, train_loss=0.00696]\n",
      "[Valid]: 100%|███████████████████████| 40/40 [00:02<00:00, 14.33it/s, val_acc=59.8, val_loss=0.0147]\n"
     ]
    },
    {
     "name": "stdout",
     "output_type": "stream",
     "text": [
      "=======================================================================================================================================\n",
      "2024-05-23 06:38:22\n",
      "Epoch 230 / 250\n"
     ]
    },
    {
     "name": "stderr",
     "output_type": "stream",
     "text": [
      "[Train]: 100%|██████████████████████| 352/352 [00:42<00:00,  8.30it/s, train_loss=0.00701]\n",
      "[Valid]: 100%|███████████████████████| 40/40 [00:02<00:00, 14.37it/s, val_acc=59.9, val_loss=0.0147]\n"
     ]
    },
    {
     "name": "stdout",
     "output_type": "stream",
     "text": [
      "=======================================================================================================================================\n",
      "2024-05-23 06:39:07\n",
      "Epoch 231 / 250\n",
      "lr is updated to 4.76837158203125e-08\n"
     ]
    },
    {
     "name": "stderr",
     "output_type": "stream",
     "text": [
      "[Train]: 100%|██████████████████████| 352/352 [00:42<00:00,  8.28it/s, train_loss=0.00704]\n",
      "[Valid]: 100%|███████████████████████| 40/40 [00:02<00:00, 14.07it/s, val_acc=59.8, val_loss=0.0147]\n"
     ]
    },
    {
     "name": "stdout",
     "output_type": "stream",
     "text": [
      "=======================================================================================================================================\n",
      "2024-05-23 06:39:52\n",
      "Epoch 232 / 250\n"
     ]
    },
    {
     "name": "stderr",
     "output_type": "stream",
     "text": [
      "[Train]: 100%|██████████████████████| 352/352 [00:42<00:00,  8.30it/s, train_loss=0.00707]\n",
      "[Valid]: 100%|███████████████████████| 40/40 [00:02<00:00, 14.24it/s, val_acc=59.7, val_loss=0.0148]\n"
     ]
    },
    {
     "name": "stdout",
     "output_type": "stream",
     "text": [
      "=======================================================================================================================================\n",
      "2024-05-23 06:40:38\n",
      "Epoch 233 / 250\n"
     ]
    },
    {
     "name": "stderr",
     "output_type": "stream",
     "text": [
      "[Train]: 100%|██████████████████████| 352/352 [00:42<00:00,  8.31it/s, train_loss=0.00708]\n",
      "[Valid]: 100%|███████████████████████| 40/40 [00:02<00:00, 14.25it/s, val_acc=59.8, val_loss=0.0147]\n"
     ]
    },
    {
     "name": "stdout",
     "output_type": "stream",
     "text": [
      "=======================================================================================================================================\n",
      "2024-05-23 06:41:23\n",
      "Epoch 234 / 250\n"
     ]
    },
    {
     "name": "stderr",
     "output_type": "stream",
     "text": [
      "[Train]: 100%|██████████████████████| 352/352 [00:42<00:00,  8.32it/s, train_loss=0.00692]\n",
      "[Valid]: 100%|███████████████████████| 40/40 [00:02<00:00, 13.64it/s, val_acc=59.9, val_loss=0.0148]\n"
     ]
    },
    {
     "name": "stdout",
     "output_type": "stream",
     "text": [
      "=======================================================================================================================================\n",
      "2024-05-23 06:42:08\n",
      "Epoch 235 / 250\n"
     ]
    },
    {
     "name": "stderr",
     "output_type": "stream",
     "text": [
      "[Train]: 100%|██████████████████████| 352/352 [00:42<00:00,  8.35it/s, train_loss=0.00697]\n",
      "[Valid]: 100%|███████████████████████| 40/40 [00:02<00:00, 13.50it/s, val_acc=59.8, val_loss=0.0147]\n"
     ]
    },
    {
     "name": "stdout",
     "output_type": "stream",
     "text": [
      "=======================================================================================================================================\n",
      "2024-05-23 06:42:53\n",
      "Epoch 236 / 250\n"
     ]
    },
    {
     "name": "stderr",
     "output_type": "stream",
     "text": [
      "[Train]: 100%|██████████████████████| 352/352 [00:43<00:00,  8.12it/s, train_loss=0.00711]\n",
      "[Valid]: 100%|███████████████████████| 40/40 [00:02<00:00, 14.89it/s, val_acc=59.7, val_loss=0.0147]\n"
     ]
    },
    {
     "name": "stdout",
     "output_type": "stream",
     "text": [
      "=======================================================================================================================================\n",
      "2024-05-23 06:43:39\n",
      "Epoch 237 / 250\n"
     ]
    },
    {
     "name": "stderr",
     "output_type": "stream",
     "text": [
      "[Train]: 100%|██████████████████████| 352/352 [00:43<00:00,  8.11it/s, train_loss=0.00702]\n",
      "[Valid]: 100%|███████████████████████| 40/40 [00:02<00:00, 14.83it/s, val_acc=59.8, val_loss=0.0147]\n"
     ]
    },
    {
     "name": "stdout",
     "output_type": "stream",
     "text": [
      "=======================================================================================================================================\n",
      "2024-05-23 06:44:25\n",
      "Epoch 238 / 250\n"
     ]
    },
    {
     "name": "stderr",
     "output_type": "stream",
     "text": [
      "[Train]: 100%|██████████████████████| 352/352 [00:42<00:00,  8.32it/s, train_loss=0.00696]\n",
      "[Valid]: 100%|█████████████████████████| 40/40 [00:02<00:00, 14.29it/s, val_acc=60, val_loss=0.0147]\n"
     ]
    },
    {
     "name": "stdout",
     "output_type": "stream",
     "text": [
      "=======================================================================================================================================\n",
      "2024-05-23 06:45:10\n",
      "Epoch 239 / 250\n"
     ]
    },
    {
     "name": "stderr",
     "output_type": "stream",
     "text": [
      "[Train]: 100%|████████████████████████| 352/352 [00:42<00:00,  8.37it/s, train_loss=0.007]\n",
      "[Valid]: 100%|█████████████████████████| 40/40 [00:02<00:00, 14.74it/s, val_acc=60, val_loss=0.0147]\n"
     ]
    },
    {
     "name": "stdout",
     "output_type": "stream",
     "text": [
      "=======================================================================================================================================\n",
      "2024-05-23 06:45:55\n",
      "Epoch 240 / 250\n"
     ]
    },
    {
     "name": "stderr",
     "output_type": "stream",
     "text": [
      "[Train]: 100%|██████████████████████| 352/352 [00:42<00:00,  8.37it/s, train_loss=0.00697]\n",
      "[Valid]: 100%|█████████████████████████| 40/40 [00:02<00:00, 14.34it/s, val_acc=60, val_loss=0.0147]\n"
     ]
    },
    {
     "name": "stdout",
     "output_type": "stream",
     "text": [
      "=======================================================================================================================================\n",
      "2024-05-23 06:46:40\n",
      "Epoch 241 / 250\n",
      "lr is updated to 2.384185791015625e-08\n"
     ]
    },
    {
     "name": "stderr",
     "output_type": "stream",
     "text": [
      "[Train]: 100%|████████████████████████| 352/352 [00:41<00:00,  8.38it/s, train_loss=0.007]\n",
      "[Valid]: 100%|███████████████████████| 40/40 [00:02<00:00, 14.08it/s, val_acc=59.9, val_loss=0.0147]\n"
     ]
    },
    {
     "name": "stdout",
     "output_type": "stream",
     "text": [
      "=======================================================================================================================================\n",
      "2024-05-23 06:47:25\n",
      "Epoch 242 / 250\n"
     ]
    },
    {
     "name": "stderr",
     "output_type": "stream",
     "text": [
      "[Train]: 100%|██████████████████████| 352/352 [00:42<00:00,  8.28it/s, train_loss=0.00692]\n",
      "[Valid]: 100%|█████████████████████████| 40/40 [00:02<00:00, 14.87it/s, val_acc=60, val_loss=0.0147]\n"
     ]
    },
    {
     "name": "stdout",
     "output_type": "stream",
     "text": [
      "=======================================================================================================================================\n",
      "2024-05-23 06:48:10\n",
      "Epoch 243 / 250\n"
     ]
    },
    {
     "name": "stderr",
     "output_type": "stream",
     "text": [
      "[Train]: 100%|██████████████████████| 352/352 [00:43<00:00,  8.18it/s, train_loss=0.00693]\n",
      "[Valid]: 100%|███████████████████████| 40/40 [00:02<00:00, 14.09it/s, val_acc=59.7, val_loss=0.0147]\n"
     ]
    },
    {
     "name": "stdout",
     "output_type": "stream",
     "text": [
      "=======================================================================================================================================\n",
      "2024-05-23 06:48:56\n",
      "Epoch 244 / 250\n"
     ]
    },
    {
     "name": "stderr",
     "output_type": "stream",
     "text": [
      "[Train]: 100%|██████████████████████| 352/352 [00:41<00:00,  8.41it/s, train_loss=0.00704]\n",
      "[Valid]: 100%|███████████████████████| 40/40 [00:02<00:00, 14.34it/s, val_acc=60.2, val_loss=0.0147]\n"
     ]
    },
    {
     "name": "stdout",
     "output_type": "stream",
     "text": [
      "=======================================================================================================================================\n",
      "2024-05-23 06:49:41\n",
      "Epoch 245 / 250\n"
     ]
    },
    {
     "name": "stderr",
     "output_type": "stream",
     "text": [
      "[Train]: 100%|████████████████████████| 352/352 [00:42<00:00,  8.25it/s, train_loss=0.007]\n",
      "[Valid]: 100%|███████████████████████| 40/40 [00:02<00:00, 14.12it/s, val_acc=59.9, val_loss=0.0147]\n"
     ]
    },
    {
     "name": "stdout",
     "output_type": "stream",
     "text": [
      "=======================================================================================================================================\n",
      "2024-05-23 06:50:26\n",
      "Epoch 246 / 250\n"
     ]
    },
    {
     "name": "stderr",
     "output_type": "stream",
     "text": [
      "[Train]: 100%|██████████████████████| 352/352 [00:42<00:00,  8.30it/s, train_loss=0.00683]\n",
      "[Valid]: 100%|███████████████████████| 40/40 [00:02<00:00, 14.32it/s, val_acc=59.7, val_loss=0.0147]\n"
     ]
    },
    {
     "name": "stdout",
     "output_type": "stream",
     "text": [
      "=======================================================================================================================================\n",
      "2024-05-23 06:51:11\n",
      "Epoch 247 / 250\n"
     ]
    },
    {
     "name": "stderr",
     "output_type": "stream",
     "text": [
      "[Train]: 100%|██████████████████████| 352/352 [00:43<00:00,  8.13it/s, train_loss=0.00692]\n",
      "[Valid]: 100%|███████████████████████| 40/40 [00:02<00:00, 14.74it/s, val_acc=59.6, val_loss=0.0147]\n"
     ]
    },
    {
     "name": "stdout",
     "output_type": "stream",
     "text": [
      "=======================================================================================================================================\n",
      "2024-05-23 06:51:57\n",
      "Epoch 248 / 250\n"
     ]
    },
    {
     "name": "stderr",
     "output_type": "stream",
     "text": [
      "[Train]: 100%|██████████████████████| 352/352 [00:43<00:00,  8.12it/s, train_loss=0.00702]\n",
      "[Valid]: 100%|███████████████████████| 40/40 [00:02<00:00, 14.07it/s, val_acc=59.9, val_loss=0.0147]\n"
     ]
    },
    {
     "name": "stdout",
     "output_type": "stream",
     "text": [
      "=======================================================================================================================================\n",
      "2024-05-23 06:52:44\n",
      "Epoch 249 / 250\n"
     ]
    },
    {
     "name": "stderr",
     "output_type": "stream",
     "text": [
      "[Train]: 100%|██████████████████████| 352/352 [00:42<00:00,  8.33it/s, train_loss=0.00697]\n",
      "[Valid]: 100%|███████████████████████| 40/40 [00:02<00:00, 14.10it/s, val_acc=59.9, val_loss=0.0147]\n"
     ]
    },
    {
     "name": "stdout",
     "output_type": "stream",
     "text": [
      "=======================================================================================================================================\n",
      "2024-05-23 06:53:29\n",
      "Epoch 250 / 250\n"
     ]
    },
    {
     "name": "stderr",
     "output_type": "stream",
     "text": [
      "[Train]: 100%|██████████████████████| 352/352 [00:42<00:00,  8.28it/s, train_loss=0.00705]\n",
      "[Valid]: 100%|███████████████████████| 40/40 [00:02<00:00, 14.15it/s, val_acc=59.9, val_loss=0.0147]\n"
     ]
    },
    {
     "data": {
      "image/png": "[encoded data removed]",
      "text/plain": [
       "<Figure size 1000x500 with 1 Axes>"
      ]
     },
     "metadata": {},
     "output_type": "display_data"
    },
    {
     "name": "stderr",
     "output_type": "stream",
     "text": [
      "Testing [Test]: 100%|█████████████████████████████████| 79/79 [00:05<00:00, 14.01it/s, test_acc=59.8, test_loss=0.0144]\n"
     ]
    }
   ],
   "source": [
    "model_100 = ResNet(input_channels=3, num_classes=100)\n",
    "trainer_100 = CIFARTrainer(model=model_100, batch_size=128, epoch=250, num_classes=100)\n",
    "trainer_100.train()\n",
    "trainer_100.test()"
   ]
  }
 ],
 "metadata": {
  "kernelspec": {
   "display_name": "bdl",
   "language": "python",
   "name": "bdl"
  },
  "language_info": {
   "codemirror_mode": {
    "name": "ipython",
    "version": 3
   },
   "file_extension": ".py",
   "mimetype": "text/x-python",
   "name": "python",
   "nbconvert_exporter": "python",
   "pygments_lexer": "ipython3",
   "version": "3.9.0"
  }
 },
 "nbformat": 4,
 "nbformat_minor": 5
}
