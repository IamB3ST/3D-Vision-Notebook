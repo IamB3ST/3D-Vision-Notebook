{
 "cells": [
  {
   "cell_type": "markdown",
   "id": "5803e68d-ecb1-4a81-a704-231b5c9f8117",
   "metadata": {},
   "source": [
    "# Autoencoders"
   ]
  },
  {
   "cell_type": "markdown",
   "id": "9bdf3e48-12e5-49ed-b214-ba5a8a87dcc4",
   "metadata": {},
   "source": [
    "<div style=\"display: flex; align-items: center;\">\n",
    "    <img src=\"../imgs/Autoencoders.jpg\" alt=\"Your Image\" width=\"600\" style=\"margin-right: 20px;\">\n",
    "    <div>\n",
    "        <p>Autoencoder can be understood as a system that attempts to restore its original input. From the above figure, it can be seen that the autoencoder model mainly consists of an encoder and a decoder. Its main purpose is to convert the input x into an intermediate variable y, and then convert y into ~x, and then compare the input x and output ~x to make them infinitely close.\n",
    "</p>\n",
    "    </div>\n",
    "</div>"
   ]
  },
  {
   "cell_type": "markdown",
   "id": "76bb0a7a-fb11-4cf5-8bcf-0d13814ed958",
   "metadata": {},
   "source": [
    "In deep learning, an autoencoder is an unsupervised neural network model that can learn the implicit features of input data, which is called encoding. At the same time, the learned new features can reconstruct the original input data, which is called decoding. From an intuitive perspective, autoencoders can be used for feature dimensionality reduction. In addition to performing feature dimensionality reduction, new features learned by autoencoders can be fed into supervised learning models, so autoencoders can act as feature extractors.\n",
    "\n",
    "In this chapter, we will first build an autoencoder. Then we train it in MNIST and use the Encoder from the trained autoencoder as the feature processor to serve the MLP we used in the previous section. In the end, train the entire network in MNIST."
   ]
  },
  {
   "cell_type": "markdown",
   "id": "4f95bbbe-6dec-410f-8de2-828472dab7bf",
   "metadata": {},
   "source": [
    "## Autoencoder"
   ]
  },
  {
   "cell_type": "code",
   "execution_count": 1,
   "id": "c5119a0a-ae09-4cc2-bafb-3373748cb07c",
   "metadata": {},
   "outputs": [],
   "source": [
    "import torch\n",
    "import torch.nn as nn\n",
    "import torch.nn.functional as F\n",
    "\n",
    "class Encoder(torch.nn.Module):\n",
    "    def __init__(self, input_size, hidden_size, latent_size):\n",
    "        super(Encoder, self).__init__()\n",
    "        self.linear1 = nn.Linear(input_size, hidden_size)\n",
    "        self.linear2 = nn.Linear(hidden_size, latent_size)\n",
    "\n",
    "    def forward(self, x):# x: bs,input_size\n",
    "        x = F.relu(self.linear1(x)) #-> bs,hidden_size\n",
    "        x = self.linear2(x) #-> bs,latent_size\n",
    "        return x\n",
    "\n",
    "class Decoder(torch.nn.Module):\n",
    "    def __init__(self, latent_size, hidden_size, output_size):\n",
    "        super(Decoder, self).__init__()\n",
    "        self.linear1 = torch.nn.Linear(latent_size, hidden_size)\n",
    "        self.linear2 = torch.nn.Linear(hidden_size, output_size)        \n",
    "\n",
    "    def forward(self, x): # x:bs,latent_size\n",
    "        x = F.relu(self.linear1(x)) #->bs,hidden_size\n",
    "        x = torch.sigmoid(self.linear2(x)) #->bs,output_size\n",
    "        return x\n",
    "\n",
    "class AE(torch.nn.Module):\n",
    "    def __init__(self, input_size, output_size, latent_size, hidden_size):\n",
    "        super(AE, self).__init__()\n",
    "        self.encoder = Encoder(input_size, hidden_size, latent_size)\n",
    "        self.decoder = Decoder(latent_size, hidden_size, output_size)\n",
    "    def forward(self, x):\n",
    "        batch_size = x.shape[0]\n",
    "        x = x.view(batch_size, -1)\n",
    "        feat = self.encoder(x) #feat: bs,latent_size\n",
    "        re_x = self.decoder(feat) #re_x: bs, output_size\n",
    "        return re_x"
   ]
  },
  {
   "cell_type": "markdown",
   "id": "efc5729c-e9b3-4c1c-a12d-bb87f7af5650",
   "metadata": {},
   "source": [
    "## Use class MINISTTrainer to train AE\n",
    "\n",
    "The `MNISTTrainer` class is designed to facilitate training and evaluation of neural network models on the MNIST dataset. It provides functionalities for model training, validation, testing, and plotting training progress.\n",
    "\n",
    "Parameters:<br>\n",
    "- `model`: The neural network model to be trained. It should be an instance of a PyTorch nn.Module.<br>\n",
    "- `lr`: The learning rate used by the optimizer for updating model parameters during training.<br>\n",
    "- `loss`: The loss function used to calculate the discrepancy between predicted and actual values during training.It could be one of the following: `MSE`, `CE`, `BCE`, `Logistic` or `MAE`.<br>\n",
    "- `optimizer`: The optimization algorithm used to update model parameters during training. It could be one of the following: `SGD`, `Adam`, `RMSprop`, `AdamW`, `Adagrad`, or `Adadelta`.<br>\n",
    "- `batch_size`: The number of samples per batch during training.<br>\n",
    "- `epoch`: The number of training epochs, i.e., the number of times the entire dataset is passed through the model during training.<br>\n",
    "- `model_type`: Specifies the type of the model, which can be either `classification` or `recovery`. If `classification`, the model is trained for image classification tasks; if `recovery`, the model is trained for image recovery tasks.<br>\n",
    "- `seed`: The random seed used for reproducibility.<br>"
   ]
  },
  {
   "cell_type": "code",
   "execution_count": null,
   "id": "263aa106-afaf-4e00-8741-292bedf7721e",
   "metadata": {
    "scrolled": true
   },
   "outputs": [
    {
     "name": "stdout",
     "output_type": "stream",
     "text": [
      "=======================================================================================================================================\n",
      "2024-05-15 19:25:44\n",
      "Epoch 1 / 20\n"
     ]
    },
    {
     "name": "stderr",
     "output_type": "stream",
     "text": [
      "[Train]: 100%|██████████████████████| 1688/1688 [00:15<00:00, 105.81it/s, train_loss=0.83]\n",
      "[Valid]: 100%|███████████████████████| 188/188 [00:01<00:00, 140.82it/s, val_acc=0, val_loss=0.0261]\n"
     ]
    },
    {
     "name": "stdout",
     "output_type": "stream",
     "text": [
      "=======================================================================================================================================\n",
      "2024-05-15 19:26:02\n",
      "Epoch 2 / 20\n"
     ]
    },
    {
     "name": "stderr",
     "output_type": "stream",
     "text": [
      "[Train]: 100%|██████████████████████| 1688/1688 [00:18<00:00, 90.47it/s, train_loss=0.835]\n",
      "[Valid]: 100%|███████████████████████| 188/188 [00:01<00:00, 141.30it/s, val_acc=0, val_loss=0.0261]\n"
     ]
    },
    {
     "name": "stdout",
     "output_type": "stream",
     "text": [
      "=======================================================================================================================================\n",
      "2024-05-15 19:26:22\n",
      "Epoch 3 / 20\n"
     ]
    },
    {
     "name": "stderr",
     "output_type": "stream",
     "text": [
      "[Train]: 100%|██████████████████████| 1688/1688 [00:18<00:00, 92.15it/s, train_loss=0.839]\n",
      "[Valid]: 100%|███████████████████████| 188/188 [00:01<00:00, 140.79it/s, val_acc=0, val_loss=0.0262]\n"
     ]
    },
    {
     "name": "stdout",
     "output_type": "stream",
     "text": [
      "=======================================================================================================================================\n",
      "2024-05-15 19:26:41\n",
      "Epoch 4 / 20\n"
     ]
    },
    {
     "name": "stderr",
     "output_type": "stream",
     "text": [
      "[Train]: 100%|██████████████████████| 1688/1688 [00:17<00:00, 94.30it/s, train_loss=0.836]\n",
      "[Valid]: 100%|███████████████████████| 188/188 [00:01<00:00, 141.57it/s, val_acc=0, val_loss=0.0264]\n"
     ]
    },
    {
     "name": "stdout",
     "output_type": "stream",
     "text": [
      "=======================================================================================================================================\n",
      "2024-05-15 19:27:00\n",
      "Epoch 5 / 20\n"
     ]
    },
    {
     "name": "stderr",
     "output_type": "stream",
     "text": [
      "[Train]: 100%|██████████████████████| 1688/1688 [00:17<00:00, 94.44it/s, train_loss=0.844]\n",
      "[Valid]: 100%|███████████████████████| 188/188 [00:01<00:00, 137.87it/s, val_acc=0, val_loss=0.0265]\n"
     ]
    },
    {
     "name": "stdout",
     "output_type": "stream",
     "text": [
      "=======================================================================================================================================\n",
      "2024-05-15 19:27:20\n",
      "Epoch 6 / 20\n"
     ]
    },
    {
     "name": "stderr",
     "output_type": "stream",
     "text": [
      "[Train]: 100%|████████████████████████| 1688/1688 [00:17<00:00, 95.59it/s, train_loss=nan]\n",
      "[Valid]: 100%|███████████████████████| 188/188 [00:01<00:00, 142.47it/s, val_acc=9.88, val_loss=nan]\n"
     ]
    },
    {
     "name": "stdout",
     "output_type": "stream",
     "text": [
      "=======================================================================================================================================\n",
      "2024-05-15 19:27:39\n",
      "Epoch 7 / 20\n"
     ]
    },
    {
     "name": "stderr",
     "output_type": "stream",
     "text": [
      "[Train]: 100%|███████████████████████| 1688/1688 [00:14<00:00, 114.29it/s, train_loss=nan]\n",
      "[Valid]: 100%|███████████████████████| 188/188 [00:01<00:00, 146.74it/s, val_acc=9.88, val_loss=nan]\n"
     ]
    },
    {
     "name": "stdout",
     "output_type": "stream",
     "text": [
      "=======================================================================================================================================\n",
      "2024-05-15 19:27:55\n",
      "Epoch 8 / 20\n"
     ]
    },
    {
     "name": "stderr",
     "output_type": "stream",
     "text": [
      "[Train]: 100%|███████████████████████| 1688/1688 [00:14<00:00, 114.86it/s, train_loss=nan]\n",
      "[Valid]: 100%|███████████████████████| 188/188 [00:01<00:00, 144.93it/s, val_acc=9.88, val_loss=nan]\n"
     ]
    },
    {
     "name": "stdout",
     "output_type": "stream",
     "text": [
      "=======================================================================================================================================\n",
      "2024-05-15 19:28:11\n",
      "Epoch 9 / 20\n"
     ]
    },
    {
     "name": "stderr",
     "output_type": "stream",
     "text": [
      "[Train]: 100%|███████████████████████| 1688/1688 [00:14<00:00, 113.63it/s, train_loss=nan]\n",
      "[Valid]: 100%|███████████████████████| 188/188 [00:01<00:00, 141.47it/s, val_acc=9.88, val_loss=nan]\n"
     ]
    },
    {
     "name": "stdout",
     "output_type": "stream",
     "text": [
      "=======================================================================================================================================\n",
      "2024-05-15 19:28:27\n",
      "Epoch 10 / 20\n"
     ]
    },
    {
     "name": "stderr",
     "output_type": "stream",
     "text": [
      "[Train]: 100%|███████████████████████| 1688/1688 [00:14<00:00, 112.96it/s, train_loss=nan]\n",
      "[Valid]: 100%|███████████████████████| 188/188 [00:01<00:00, 145.74it/s, val_acc=9.88, val_loss=nan]\n"
     ]
    },
    {
     "name": "stdout",
     "output_type": "stream",
     "text": [
      "=======================================================================================================================================\n",
      "2024-05-15 19:28:43\n",
      "Epoch 11 / 20\n"
     ]
    },
    {
     "name": "stderr",
     "output_type": "stream",
     "text": [
      "[Train]: 100%|███████████████████████| 1688/1688 [00:15<00:00, 112.23it/s, train_loss=nan]\n",
      "[Valid]: 100%|███████████████████████| 188/188 [00:01<00:00, 145.41it/s, val_acc=9.88, val_loss=nan]\n"
     ]
    },
    {
     "name": "stdout",
     "output_type": "stream",
     "text": [
      "=======================================================================================================================================\n",
      "2024-05-15 19:28:59\n",
      "Epoch 12 / 20\n"
     ]
    },
    {
     "name": "stderr",
     "output_type": "stream",
     "text": [
      "[Train]: 100%|███████████████████████| 1688/1688 [00:15<00:00, 110.41it/s, train_loss=nan]\n",
      "[Valid]: 100%|███████████████████████| 188/188 [00:01<00:00, 141.37it/s, val_acc=9.88, val_loss=nan]\n"
     ]
    },
    {
     "name": "stdout",
     "output_type": "stream",
     "text": [
      "=======================================================================================================================================\n",
      "2024-05-15 19:29:16\n",
      "Epoch 13 / 20\n"
     ]
    },
    {
     "name": "stderr",
     "output_type": "stream",
     "text": [
      "[Train]: 100%|███████████████████████| 1688/1688 [00:14<00:00, 112.72it/s, train_loss=nan]\n",
      "[Valid]: 100%|███████████████████████| 188/188 [00:01<00:00, 140.07it/s, val_acc=9.88, val_loss=nan]\n"
     ]
    },
    {
     "name": "stdout",
     "output_type": "stream",
     "text": [
      "=======================================================================================================================================\n",
      "2024-05-15 19:29:32\n",
      "Epoch 14 / 20\n"
     ]
    },
    {
     "name": "stderr",
     "output_type": "stream",
     "text": [
      "[Train]: 100%|███████████████████████| 1688/1688 [00:14<00:00, 112.91it/s, train_loss=nan]\n",
      "[Valid]: 100%|███████████████████████| 188/188 [00:01<00:00, 141.13it/s, val_acc=9.88, val_loss=nan]\n"
     ]
    },
    {
     "name": "stdout",
     "output_type": "stream",
     "text": [
      "=======================================================================================================================================\n",
      "2024-05-15 19:29:49\n",
      "Epoch 15 / 20\n"
     ]
    },
    {
     "name": "stderr",
     "output_type": "stream",
     "text": [
      "[Train]: 100%|███████████████████████| 1688/1688 [00:15<00:00, 111.37it/s, train_loss=nan]\n",
      "[Valid]: 100%|███████████████████████| 188/188 [00:01<00:00, 137.37it/s, val_acc=9.88, val_loss=nan]\n"
     ]
    },
    {
     "name": "stdout",
     "output_type": "stream",
     "text": [
      "=======================================================================================================================================\n",
      "2024-05-15 19:30:05\n",
      "Epoch 16 / 20\n"
     ]
    },
    {
     "name": "stderr",
     "output_type": "stream",
     "text": [
      "[Train]: 100%|███████████████████████| 1688/1688 [00:15<00:00, 109.69it/s, train_loss=nan]\n",
      "[Valid]: 100%|███████████████████████| 188/188 [00:01<00:00, 129.44it/s, val_acc=9.88, val_loss=nan]\n"
     ]
    },
    {
     "name": "stdout",
     "output_type": "stream",
     "text": [
      "=======================================================================================================================================\n",
      "2024-05-15 19:30:22\n",
      "Epoch 17 / 20\n"
     ]
    },
    {
     "name": "stderr",
     "output_type": "stream",
     "text": [
      "[Train]: 100%|███████████████████████| 1688/1688 [00:15<00:00, 111.11it/s, train_loss=nan]\n",
      "[Valid]: 100%|███████████████████████| 188/188 [00:01<00:00, 135.37it/s, val_acc=9.88, val_loss=nan]\n"
     ]
    },
    {
     "name": "stdout",
     "output_type": "stream",
     "text": [
      "=======================================================================================================================================\n",
      "2024-05-15 19:30:39\n",
      "Epoch 18 / 20\n"
     ]
    },
    {
     "name": "stderr",
     "output_type": "stream",
     "text": [
      "[Train]: 100%|███████████████████████| 1688/1688 [00:15<00:00, 108.93it/s, train_loss=nan]\n",
      "[Valid]: 100%|███████████████████████| 188/188 [00:01<00:00, 136.01it/s, val_acc=9.88, val_loss=nan]\n"
     ]
    },
    {
     "name": "stdout",
     "output_type": "stream",
     "text": [
      "=======================================================================================================================================\n",
      "2024-05-15 19:30:56\n",
      "Epoch 19 / 20\n"
     ]
    },
    {
     "name": "stderr",
     "output_type": "stream",
     "text": [
      "[Train]: 100%|███████████████████████| 1688/1688 [00:15<00:00, 109.78it/s, train_loss=nan]\n",
      "[Valid]: 100%|███████████████████████| 188/188 [00:01<00:00, 139.96it/s, val_acc=9.88, val_loss=nan]\n"
     ]
    },
    {
     "name": "stdout",
     "output_type": "stream",
     "text": [
      "=======================================================================================================================================\n",
      "2024-05-15 19:31:12\n",
      "Epoch 20 / 20\n"
     ]
    },
    {
     "name": "stderr",
     "output_type": "stream",
     "text": [
      "[Train]: 100%|███████████████████████| 1688/1688 [00:15<00:00, 109.58it/s, train_loss=nan]\n",
      "[Valid]: 100%|███████████████████████| 188/188 [00:01<00:00, 134.51it/s, val_acc=9.88, val_loss=nan]\n"
     ]
    }
   ],
   "source": [
    "import sys\n",
    "sys.path.append('../tools')\n",
    "from MNIST import MNISTTrainer\n",
    "\n",
    "ae = AE(input_size=28*28, output_size=28*28, latent_size=16, hidden_size=128)\n",
    "trainer_ae = MNISTTrainer(ae, loss='MSE', lr=0.01, optimizer='Adam', batch_size=32, epoch=20, model_type='recovery')\n",
    "trainer_ae.train()"
   ]
  },
  {
   "cell_type": "markdown",
   "id": "41169689-1bf6-4097-860e-0300797f9759",
   "metadata": {},
   "source": [
    "### Feature Dimensionality Reduction\n",
    "We have sucessfully trained the AE on the MNIST, now let's check the ability of feature dimensionality reduction!"
   ]
  },
  {
   "cell_type": "code",
   "execution_count": 28,
   "id": "7b13c767-8ef5-44a9-af35-ecdf1f8d3e10",
   "metadata": {},
   "outputs": [
    {
     "name": "stdout",
     "output_type": "stream",
     "text": [
      "torch.Size([1, 784]) -> torch.Size([1, 16])\n"
     ]
    }
   ],
   "source": [
    "import torchvision.datasets as datasets\n",
    "import torchvision.transforms as transforms\n",
    "\n",
    "dataset = datasets.MNIST(root='.data', train=True, download=False, transform=transforms.ToTensor())\n",
    "raw = dataset[0][0].view(1,-1) #raw: bs,28,28->bs,28*28\n",
    "feat = ae.encoder(raw)\n",
    "print(raw.shape,'->',feat.shape)"
   ]
  },
  {
   "cell_type": "markdown",
   "id": "4af2a667-a23d-4315-9877-20539831b98c",
   "metadata": {},
   "source": [
    "## Feature Extractors\n",
    "Now, let's take a look at the ability of AE as a feature extractor. We integrated the encoder from AE into the MLP we used in the previous section, and trained and tested it in MNIST. And we also train the common MLP, to compare them.<br>\n",
    "One thing need to say is that you may see a very closed result between MLP and new_MLP, because the MNIST dataset is very simple, a simple model is sufficient to handle it, and deeper models will not have a more significant improvement."
   ]
  },
  {
   "cell_type": "code",
   "execution_count": 29,
   "id": "39b7de14-3402-44d1-b879-2f821763c822",
   "metadata": {},
   "outputs": [],
   "source": [
    "import torch\n",
    "import torch.nn as nn\n",
    "import torch.nn.functional as F\n",
    "\n",
    "ae.eval()\n",
    "encoder = ae.encoder\n",
    "\n",
    "class new_MLP(nn.Module):\n",
    "    def __init__(self, output_size):\n",
    "        super().__init__()\n",
    "        self.encoder = encoder\n",
    "        self.input_fc = nn.Linear(16, 256)\n",
    "        self.hidden_fc_1 = nn.Linear(256, 128)\n",
    "        self.output_fc = nn.Linear(128, output_size)\n",
    "        \n",
    "    def forward(self, x):\n",
    "        batch_size = x.shape[0]\n",
    "        x = x.view(batch_size, -1)\n",
    "        feature = self.encoder(x)\n",
    "        x = F.relu(self.input_fc(feature))\n",
    "        x = F.relu(self.hidden_fc_1(x))\n",
    "        y_hat = self.output_fc(x)\n",
    "        return y_hat\n",
    "\n",
    "class MLP(nn.Module):\n",
    "    def __init__(self, input_size, output_size):\n",
    "        super().__init__()\n",
    "        \n",
    "        self.input_fc = nn.Linear(input_size, 256)\n",
    "        self.hidden_fc_1 = nn.Linear(256, 128)\n",
    "        self.output_fc = nn.Linear(128, output_size)\n",
    "        \n",
    "    def forward(self, x):\n",
    "        batch_size = x.shape[0]\n",
    "        x = x.view(batch_size, -1)\n",
    "        \n",
    "        x = F.relu(self.input_fc(x))\n",
    "        x = F.relu(self.hidden_fc_1(x))\n",
    "        y_hat = self.output_fc(x)\n",
    "        \n",
    "        return y_hat"
   ]
  },
  {
   "cell_type": "code",
   "execution_count": 30,
   "id": "95b97471-2e6f-40ce-b087-b43caf4c690f",
   "metadata": {
    "scrolled": true
   },
   "outputs": [],
   "source": [
    "import sys\n",
    "sys.path.append('../tools')\n",
    "from MNIST import MNISTTrainer\n",
    "\n",
    "model = new_MLP(output_size=10)\n",
    "mlp = MLP(input_size=28*28, output_size=10)\n",
    "trainer_model = MNISTTrainer(model, loss='CE', lr=0.01, optimizer='Adam', batch_size=256, epoch=10, model_type='classification')\n",
    "trainer_mlp = MNISTTrainer(mlp, loss='CE', lr=0.01, optimizer='Adam', batch_size=256, epoch=10, model_type='classification')"
   ]
  },
  {
   "cell_type": "code",
   "execution_count": 31,
   "id": "f6e8073a-bdc8-4c4a-9cdc-81dc6d4b8c81",
   "metadata": {
    "scrolled": true
   },
   "outputs": [
    {
     "name": "stdout",
     "output_type": "stream",
     "text": [
      "=======================================================================================================================================\n",
      "2024-05-13 22:06:26\n",
      "Epoch 1 / 10\n"
     ]
    },
    {
     "name": "stderr",
     "output_type": "stream",
     "text": [
      "[Train]: 100%|████████████████████████| 211/211 [00:11<00:00, 18.62it/s, train_loss=0.363]\n",
      "[Valid]: 100%|█████████████████████| 24/24 [00:01<00:00, 20.35it/s, val_acc=94.8, val_loss=0.000681]\n"
     ]
    },
    {
     "name": "stdout",
     "output_type": "stream",
     "text": [
      "=======================================================================================================================================\n",
      "2024-05-13 22:06:38\n",
      "Epoch 2 / 10\n"
     ]
    },
    {
     "name": "stderr",
     "output_type": "stream",
     "text": [
      "[Train]: 100%|████████████████████████| 211/211 [00:11<00:00, 18.29it/s, train_loss=0.136]\n",
      "[Valid]: 100%|█████████████████████| 24/24 [00:01<00:00, 19.67it/s, val_acc=95.6, val_loss=0.000588]\n"
     ]
    },
    {
     "name": "stdout",
     "output_type": "stream",
     "text": [
      "=======================================================================================================================================\n",
      "2024-05-13 22:06:51\n",
      "Epoch 3 / 10\n"
     ]
    },
    {
     "name": "stderr",
     "output_type": "stream",
     "text": [
      "[Train]: 100%|████████████████████████| 211/211 [00:11<00:00, 17.97it/s, train_loss=0.111]\n",
      "[Valid]: 100%|█████████████████████| 24/24 [00:01<00:00, 19.80it/s, val_acc=95.6, val_loss=0.000651]\n"
     ]
    },
    {
     "name": "stdout",
     "output_type": "stream",
     "text": [
      "=======================================================================================================================================\n",
      "2024-05-13 22:07:04\n",
      "Epoch 4 / 10\n"
     ]
    },
    {
     "name": "stderr",
     "output_type": "stream",
     "text": [
      "[Train]: 100%|████████████████████████| 211/211 [00:11<00:00, 17.73it/s, train_loss=0.101]\n",
      "[Valid]: 100%|█████████████████████| 24/24 [00:01<00:00, 19.57it/s, val_acc=95.4, val_loss=0.000646]\n"
     ]
    },
    {
     "name": "stdout",
     "output_type": "stream",
     "text": [
      "=======================================================================================================================================\n",
      "2024-05-13 22:07:17\n",
      "Epoch 5 / 10\n"
     ]
    },
    {
     "name": "stderr",
     "output_type": "stream",
     "text": [
      "[Train]: 100%|███████████████████████| 211/211 [00:12<00:00, 17.52it/s, train_loss=0.0957]\n",
      "[Valid]: 100%|█████████████████████| 24/24 [00:01<00:00, 19.40it/s, val_acc=96.4, val_loss=0.000511]\n"
     ]
    },
    {
     "name": "stdout",
     "output_type": "stream",
     "text": [
      "=======================================================================================================================================\n",
      "2024-05-13 22:07:31\n",
      "Epoch 6 / 10\n"
     ]
    },
    {
     "name": "stderr",
     "output_type": "stream",
     "text": [
      "[Train]: 100%|███████████████████████| 211/211 [00:11<00:00, 17.88it/s, train_loss=0.0907]\n",
      "[Valid]: 100%|█████████████████████| 24/24 [00:01<00:00, 20.15it/s, val_acc=96.9, val_loss=0.000469]\n"
     ]
    },
    {
     "name": "stdout",
     "output_type": "stream",
     "text": [
      "=======================================================================================================================================\n",
      "2024-05-13 22:07:44\n",
      "Epoch 7 / 10\n"
     ]
    },
    {
     "name": "stderr",
     "output_type": "stream",
     "text": [
      "[Train]: 100%|███████████████████████| 211/211 [00:11<00:00, 17.84it/s, train_loss=0.0937]\n",
      "[Valid]: 100%|█████████████████████| 24/24 [00:01<00:00, 19.85it/s, val_acc=96.4, val_loss=0.000586]\n"
     ]
    },
    {
     "name": "stdout",
     "output_type": "stream",
     "text": [
      "=======================================================================================================================================\n",
      "2024-05-13 22:07:57\n",
      "Epoch 8 / 10\n"
     ]
    },
    {
     "name": "stderr",
     "output_type": "stream",
     "text": [
      "[Train]: 100%|███████████████████████| 211/211 [00:11<00:00, 17.85it/s, train_loss=0.0927]\n",
      "[Valid]: 100%|█████████████████████| 24/24 [00:01<00:00, 20.13it/s, val_acc=96.7, val_loss=0.000537]\n"
     ]
    },
    {
     "name": "stdout",
     "output_type": "stream",
     "text": [
      "=======================================================================================================================================\n",
      "2024-05-13 22:08:10\n",
      "Epoch 9 / 10\n"
     ]
    },
    {
     "name": "stderr",
     "output_type": "stream",
     "text": [
      "[Train]: 100%|███████████████████████| 211/211 [00:11<00:00, 17.82it/s, train_loss=0.0847]\n",
      "[Valid]: 100%|█████████████████████| 24/24 [00:01<00:00, 19.77it/s, val_acc=95.5, val_loss=0.000828]\n"
     ]
    },
    {
     "name": "stdout",
     "output_type": "stream",
     "text": [
      "=======================================================================================================================================\n",
      "2024-05-13 22:08:23\n",
      "Epoch 10 / 10\n"
     ]
    },
    {
     "name": "stderr",
     "output_type": "stream",
     "text": [
      "[Train]: 100%|███████████████████████| 211/211 [00:11<00:00, 17.90it/s, train_loss=0.0967]\n",
      "[Valid]: 100%|█████████████████████| 24/24 [00:01<00:00, 20.01it/s, val_acc=96.4, val_loss=0.000643]\n"
     ]
    },
    {
     "data": {
      "image/png": "[encoded data removed]",
      "text/plain": [
       "<Figure size 1000x500 with 1 Axes>"
      ]
     },
     "metadata": {},
     "output_type": "display_data"
    },
    {
     "name": "stderr",
     "output_type": "stream",
     "text": [
      "Testing [Test]: 100%|███████████████████████| 40/40 [00:01<00:00, 20.40it/s, test_acc=96.5, test_loss=0.000583]\n"
     ]
    }
   ],
   "source": [
    "trainer_model.train()\n",
    "trainer_model.test()"
   ]
  },
  {
   "cell_type": "code",
   "execution_count": 32,
   "id": "71d36db0-b769-49fa-9d7f-28ef1a256496",
   "metadata": {
    "scrolled": true
   },
   "outputs": [
    {
     "name": "stdout",
     "output_type": "stream",
     "text": [
      "=======================================================================================================================================\n",
      "2024-05-13 22:09:57\n",
      "Epoch 1 / 10\n"
     ]
    },
    {
     "name": "stderr",
     "output_type": "stream",
     "text": [
      "[Train]: 100%|████████████████████████| 211/211 [00:10<00:00, 19.48it/s, train_loss=0.289]\n",
      "[Valid]: 100%|█████████████████████| 24/24 [00:01<00:00, 21.53it/s, val_acc=95.3, val_loss=0.000666]\n"
     ]
    },
    {
     "name": "stdout",
     "output_type": "stream",
     "text": [
      "=======================================================================================================================================\n",
      "2024-05-13 22:10:09\n",
      "Epoch 2 / 10\n"
     ]
    },
    {
     "name": "stderr",
     "output_type": "stream",
     "text": [
      "[Train]: 100%|█████████████████████████| 211/211 [00:10<00:00, 19.27it/s, train_loss=0.13]\n",
      "[Valid]: 100%|██████████████████████| 24/24 [00:01<00:00, 21.10it/s, val_acc=95.7, val_loss=0.00063]\n"
     ]
    },
    {
     "name": "stdout",
     "output_type": "stream",
     "text": [
      "=======================================================================================================================================\n",
      "2024-05-13 22:10:21\n",
      "Epoch 3 / 10\n"
     ]
    },
    {
     "name": "stderr",
     "output_type": "stream",
     "text": [
      "[Train]: 100%|████████████████████████| 211/211 [00:10<00:00, 19.67it/s, train_loss=0.102]\n",
      "[Valid]: 100%|██████████████████████| 24/24 [00:01<00:00, 21.63it/s, val_acc=96.4, val_loss=0.00053]\n"
     ]
    },
    {
     "name": "stdout",
     "output_type": "stream",
     "text": [
      "=======================================================================================================================================\n",
      "2024-05-13 22:10:32\n",
      "Epoch 4 / 10\n"
     ]
    },
    {
     "name": "stderr",
     "output_type": "stream",
     "text": [
      "[Train]: 100%|███████████████████████| 211/211 [00:11<00:00, 19.10it/s, train_loss=0.0915]\n",
      "[Valid]: 100%|█████████████████████| 24/24 [00:01<00:00, 21.40it/s, val_acc=96.1, val_loss=0.000548]\n"
     ]
    },
    {
     "name": "stdout",
     "output_type": "stream",
     "text": [
      "=======================================================================================================================================\n",
      "2024-05-13 22:10:45\n",
      "Epoch 5 / 10\n"
     ]
    },
    {
     "name": "stderr",
     "output_type": "stream",
     "text": [
      "[Train]: 100%|███████████████████████| 211/211 [00:11<00:00, 18.70it/s, train_loss=0.0873]\n",
      "[Valid]: 100%|█████████████████████| 24/24 [00:01<00:00, 20.56it/s, val_acc=96.2, val_loss=0.000588]\n"
     ]
    },
    {
     "name": "stdout",
     "output_type": "stream",
     "text": [
      "=======================================================================================================================================\n",
      "2024-05-13 22:10:57\n",
      "Epoch 6 / 10\n"
     ]
    },
    {
     "name": "stderr",
     "output_type": "stream",
     "text": [
      "[Train]: 100%|███████████████████████| 211/211 [00:11<00:00, 18.53it/s, train_loss=0.0846]\n",
      "[Valid]: 100%|█████████████████████| 24/24 [00:01<00:00, 20.87it/s, val_acc=96.1, val_loss=0.000626]\n"
     ]
    },
    {
     "name": "stdout",
     "output_type": "stream",
     "text": [
      "=======================================================================================================================================\n",
      "2024-05-13 22:11:10\n",
      "Epoch 7 / 10\n"
     ]
    },
    {
     "name": "stderr",
     "output_type": "stream",
     "text": [
      "[Train]: 100%|████████████████████████| 211/211 [00:11<00:00, 18.44it/s, train_loss=0.088]\n",
      "[Valid]: 100%|█████████████████████| 24/24 [00:01<00:00, 20.76it/s, val_acc=96.4, val_loss=0.000597]\n"
     ]
    },
    {
     "name": "stdout",
     "output_type": "stream",
     "text": [
      "=======================================================================================================================================\n",
      "2024-05-13 22:11:22\n",
      "Epoch 8 / 10\n"
     ]
    },
    {
     "name": "stderr",
     "output_type": "stream",
     "text": [
      "[Train]: 100%|███████████████████████| 211/211 [00:11<00:00, 18.41it/s, train_loss=0.0792]\n",
      "[Valid]: 100%|█████████████████████| 24/24 [00:01<00:00, 20.68it/s, val_acc=96.6, val_loss=0.000626]\n"
     ]
    },
    {
     "name": "stdout",
     "output_type": "stream",
     "text": [
      "=======================================================================================================================================\n",
      "2024-05-13 22:11:35\n",
      "Epoch 9 / 10\n"
     ]
    },
    {
     "name": "stderr",
     "output_type": "stream",
     "text": [
      "[Train]: 100%|███████████████████████| 211/211 [00:11<00:00, 18.35it/s, train_loss=0.0745]\n",
      "[Valid]: 100%|█████████████████████| 24/24 [00:01<00:00, 20.79it/s, val_acc=96.4, val_loss=0.000718]\n"
     ]
    },
    {
     "name": "stdout",
     "output_type": "stream",
     "text": [
      "=======================================================================================================================================\n",
      "2024-05-13 22:11:47\n",
      "Epoch 10 / 10\n"
     ]
    },
    {
     "name": "stderr",
     "output_type": "stream",
     "text": [
      "[Train]: 100%|███████████████████████| 211/211 [00:11<00:00, 18.06it/s, train_loss=0.0696]\n",
      "[Valid]: 100%|█████████████████████| 24/24 [00:01<00:00, 20.53it/s, val_acc=96.4, val_loss=0.000813]\n"
     ]
    },
    {
     "data": {
      "image/png": "[encoded data removed]",
      "text/plain": [
       "<Figure size 1000x500 with 1 Axes>"
      ]
     },
     "metadata": {},
     "output_type": "display_data"
    },
    {
     "name": "stderr",
     "output_type": "stream",
     "text": [
      "Testing [Test]: 100%|█████████████████████████| 40/40 [00:01<00:00, 20.80it/s, test_acc=97, test_loss=0.000612]\n"
     ]
    }
   ],
   "source": [
    "trainer_mlp.train()\n",
    "trainer_mlp.test()"
   ]
  }
 ],
 "metadata": {
  "kernelspec": {
   "display_name": "bdl",
   "language": "python",
   "name": "bdl"
  },
  "language_info": {
   "codemirror_mode": {
    "name": "ipython",
    "version": 3
   },
   "file_extension": ".py",
   "mimetype": "text/x-python",
   "name": "python",
   "nbconvert_exporter": "python",
   "pygments_lexer": "ipython3",
   "version": "3.8.19"
  }
 },
 "nbformat": 4,
 "nbformat_minor": 5
}
