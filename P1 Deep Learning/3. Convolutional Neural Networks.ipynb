{
 "cells": [
  {
   "cell_type": "markdown",
   "id": "cc1ad281",
   "metadata": {},
   "source": [
    "# Convoluntional Neural Networks"
   ]
  },
  {
   "cell_type": "markdown",
   "id": "2f0de103",
   "metadata": {},
   "source": [
    "<div style=\"display: flex; align-items: center;\">\n",
    "    <img src=\"../imgs/CNN.jpg\" alt=\"Your Image\" width=\"600\" style=\"margin-right: 20px;\">\n",
    "    <div>\n",
    "        <p>Convolutional Neural Networks are deep learning models or multi-layer perceptrons similar to artificial neural networks, commonly used to analyze visual images. The founder of convolutional neural networks is renowned computer scientist Yann LeCun. He was the first person to solve handwritten digit problems using convolutional neural networks on the MNIST dataset.</p>\n",
    "        <p>The architecture of convolutional neural networks is very similar to that of conventional artificial neural networks, especially in the last layer of the network, which is fully connected. Furthermore, it is noted that convolutional neural networks can accept multiple feature maps as inputs rather than vectors.</p>\n",
    "    </div>\n",
    "</div>"
   ]
  },
  {
   "cell_type": "markdown",
   "id": "d2f29f6f",
   "metadata": {},
   "source": [
    "A convolutional neural network mainly consists of the following 5 layers:\n",
    "- **Data input layer/Input layer**: Preprocessing the raw image data.(In this chapter, we don't use it, because we have already preprocessed the MNIST data in the class MNISTTrainer.)\n",
    "- **Convolutional computation layer/CONV layer**: Processing image data, which extracts image features by performing element multiplication operations on the input image through filters (also known as convolution kernels) and summing them up.\n",
    "- **ReLU incentive layer**: Perform nonlinear mapping on the output results of convolutional layers.\n",
    "- **Pooling layer**: Used to compress data and parameters, reduce overfitting\n",
    "- **Fully connected layer/FC layer**: Like MLP."
   ]
  },
  {
   "cell_type": "markdown",
   "id": "4eb538c3",
   "metadata": {},
   "source": [
    "## CNN\n",
    "Before building model.Let's see the parameters of the two new layers:<br>\n",
    "**nn.Conv2d**:<br>`in_channels`: Input channels.<br>`out_channels`: Output channels.<br>`kernel_size`: Size of the convolutional kernel.<br>`stride`: Stride of the convolution.<br>`padding`: Zero-padding added to both sides of the input.<br>`groups`:The number of groups. This is an optional parameter that defaults to 1. When groups is greater than 1, the input and output channels are divided into groups number of groups, and the convolutional kernel operates within these groups. Specifically, when groups is equal to in_channels, depthwise separable convolution can be performed, which can significantly reduce the number of model parameters and computational requirements.<br><br>\n",
    "**nn.MaxPool2d**:<br>`kernel_size`: Size of the max pooling window.<br>`stride`: Stride of the max pooling operation."
   ]
  },
  {
   "cell_type": "code",
   "execution_count": 1,
   "id": "f5b1888f",
   "metadata": {},
   "outputs": [],
   "source": [
    "import torch\n",
    "import torch.nn as nn\n",
    "\n",
    "class CNN(nn.Module):\n",
    "    def __init__(self, input_channels, output_size):\n",
    "        super(CNN, self).__init__()\n",
    "        self.conv1 = nn.Conv2d(input_channels, 32, kernel_size=3, padding=1)\n",
    "        self.conv2 = nn.Conv2d(32, 64, kernel_size=3, padding=1)\n",
    "        self.pool = nn.MaxPool2d(2, 2)\n",
    "        # we can see fc1 and fc2 as a MLP\n",
    "        self.fc1 = nn.Linear(64 * 7 * 7, 128)\n",
    "        self.fc2 = nn.Linear(128, output_size)\n",
    "\n",
    "    def forward(self, x):\n",
    "        x = self.pool(torch.relu(self.conv1(x)))\n",
    "        x = self.pool(torch.relu(self.conv2(x)))\n",
    "        x = x.view(-1, 64 * 7 * 7)\n",
    "        x = torch.relu(self.fc1(x))\n",
    "        x = self.fc2(x)\n",
    "        return x"
   ]
  },
  {
   "cell_type": "markdown",
   "id": "7301e2a8",
   "metadata": {},
   "source": [
    "## Use class MINISTTrainer to train CNN"
   ]
  },
  {
   "cell_type": "code",
   "execution_count": null,
   "id": "4202ad2e",
   "metadata": {
    "scrolled": true
   },
   "outputs": [
    {
     "name": "stdout",
     "output_type": "stream",
     "text": [
      "=======================================================================================================================================\n",
      "2024-05-18 15:24:46\n",
      "Epoch 1 / 10\n"
     ]
    },
    {
     "name": "stderr",
     "output_type": "stream",
     "text": [
      "[Train]: 100%|████████████████████████| 211/211 [00:11<00:00, 17.62it/s, train_loss=0.309]\n",
      "[Valid]: 100%|█████████████████████| 24/24 [00:01<00:00, 17.33it/s, val_acc=97.5, val_loss=0.000343]\n"
     ]
    },
    {
     "name": "stdout",
     "output_type": "stream",
     "text": [
      "=======================================================================================================================================\n",
      "2024-05-18 15:24:59\n",
      "Epoch 2 / 10\n"
     ]
    },
    {
     "name": "stderr",
     "output_type": "stream",
     "text": [
      "[Train]: 100%|███████████████████████| 211/211 [00:13<00:00, 16.02it/s, train_loss=0.0632]\n",
      "[Valid]: 100%|█████████████████████| 24/24 [00:01<00:00, 17.89it/s, val_acc=98.6, val_loss=0.000177]\n"
     ]
    },
    {
     "name": "stdout",
     "output_type": "stream",
     "text": [
      "=======================================================================================================================================\n",
      "2024-05-18 15:25:14\n",
      "Epoch 3 / 10\n"
     ]
    },
    {
     "name": "stderr",
     "output_type": "stream",
     "text": [
      "[Train]: 100%|███████████████████████| 211/211 [00:13<00:00, 15.74it/s, train_loss=0.0491]\n",
      "[Valid]: 100%|█████████████████████| 24/24 [00:01<00:00, 17.09it/s, val_acc=98.7, val_loss=0.000174]\n"
     ]
    },
    {
     "name": "stdout",
     "output_type": "stream",
     "text": [
      "=======================================================================================================================================\n",
      "2024-05-18 15:25:28\n",
      "Epoch 4 / 10\n"
     ]
    },
    {
     "name": "stderr",
     "output_type": "stream",
     "text": [
      "[Train]: 100%|███████████████████████| 211/211 [00:14<00:00, 14.73it/s, train_loss=0.0411]\n",
      "[Valid]: 100%|█████████████████████| 24/24 [00:01<00:00, 19.02it/s, val_acc=98.2, val_loss=0.000264]\n"
     ]
    },
    {
     "name": "stdout",
     "output_type": "stream",
     "text": [
      "=======================================================================================================================================\n",
      "2024-05-18 15:25:44\n",
      "Epoch 5 / 10\n"
     ]
    },
    {
     "name": "stderr",
     "output_type": "stream",
     "text": [
      "[Train]: 100%|███████████████████████| 211/211 [00:12<00:00, 16.90it/s, train_loss=0.0381]\n",
      "[Valid]: 100%|█████████████████████| 24/24 [00:01<00:00, 17.33it/s, val_acc=98.3, val_loss=0.000226]\n"
     ]
    },
    {
     "name": "stdout",
     "output_type": "stream",
     "text": [
      "=======================================================================================================================================\n",
      "2024-05-18 15:25:58\n",
      "Epoch 6 / 10\n"
     ]
    },
    {
     "name": "stderr",
     "output_type": "stream",
     "text": [
      "[Train]: 100%|███████████████████████| 211/211 [00:14<00:00, 14.33it/s, train_loss=0.0368]\n",
      "[Valid]: 100%|█████████████████████| 24/24 [00:01<00:00, 16.59it/s, val_acc=98.8, val_loss=0.000189]\n"
     ]
    },
    {
     "name": "stdout",
     "output_type": "stream",
     "text": [
      "=======================================================================================================================================\n",
      "2024-05-18 15:26:14\n",
      "Epoch 7 / 10\n"
     ]
    },
    {
     "name": "stderr",
     "output_type": "stream",
     "text": [
      "[Train]: 100%|█████████████████████████| 211/211 [00:14<00:00, 14.53it/s, train_loss=0.03]\n",
      "[Valid]: 100%|█████████████████████| 24/24 [00:01<00:00, 16.76it/s, val_acc=98.3, val_loss=0.000251]\n"
     ]
    },
    {
     "name": "stdout",
     "output_type": "stream",
     "text": [
      "=======================================================================================================================================\n",
      "2024-05-18 15:26:30\n",
      "Epoch 8 / 10\n"
     ]
    },
    {
     "name": "stderr",
     "output_type": "stream",
     "text": [
      "[Train]: 100%|███████████████████████| 211/211 [00:14<00:00, 14.32it/s, train_loss=0.0322]\n",
      "[Valid]: 100%|██████████████████████| 24/24 [00:01<00:00, 16.30it/s, val_acc=98.2, val_loss=0.00027]\n"
     ]
    },
    {
     "name": "stdout",
     "output_type": "stream",
     "text": [
      "=======================================================================================================================================\n",
      "2024-05-18 15:26:46\n",
      "Epoch 9 / 10\n"
     ]
    },
    {
     "name": "stderr",
     "output_type": "stream",
     "text": [
      "[Train]: 100%|███████████████████████| 211/211 [00:14<00:00, 14.52it/s, train_loss=0.0296]\n",
      "[Valid]: 100%|█████████████████████| 24/24 [00:01<00:00, 17.36it/s, val_acc=98.6, val_loss=0.000202]\n"
     ]
    },
    {
     "name": "stdout",
     "output_type": "stream",
     "text": [
      "=======================================================================================================================================\n",
      "2024-05-18 15:27:02\n",
      "Epoch 10 / 10\n"
     ]
    },
    {
     "name": "stderr",
     "output_type": "stream",
     "text": [
      "[Train]: 100%|███████████████████████| 211/211 [00:14<00:00, 14.42it/s, train_loss=0.0307]\n",
      "[Valid]: 100%|█████████████████████| 24/24 [00:01<00:00, 17.43it/s, val_acc=98.7, val_loss=0.000197]\n"
     ]
    }
   ],
   "source": [
    "import sys\n",
    "sys.path.append('../tools')\n",
    "from MNIST import MNISTTrainer\n",
    "\n",
    "model = CNN(input_channels=1, output_size=10)\n",
    "trainer = MNISTTrainer(model, loss='CE', lr=0.01, optimizer='Adam', batch_size=256, epoch=10, model_type='classification')\n",
    "trainer.train()"
   ]
  },
  {
   "cell_type": "code",
   "execution_count": null,
   "id": "42be113f",
   "metadata": {},
   "outputs": [],
   "source": [
    "trainer.test()"
   ]
  }
 ],
 "metadata": {
  "kernelspec": {
   "display_name": "bdl",
   "language": "python",
   "name": "bdl"
  },
  "language_info": {
   "codemirror_mode": {
    "name": "ipython",
    "version": 3
   },
   "file_extension": ".py",
   "mimetype": "text/x-python",
   "name": "python",
   "nbconvert_exporter": "python",
   "pygments_lexer": "ipython3",
   "version": "3.8.19"
  }
 },
 "nbformat": 4,
 "nbformat_minor": 5
}
