{
 "cells": [
  {
   "cell_type": "markdown",
   "id": "cc1ad281",
   "metadata": {},
   "source": [
    "# Convoluntional Neural Networks"
   ]
  },
  {
   "cell_type": "markdown",
   "id": "2f0de103",
   "metadata": {},
   "source": [
    "<div style=\"display: flex; align-items: center;\">\n",
    "    <img src=\"../imgs/CNN.jpg\" alt=\"Your Image\" width=\"600\" style=\"margin-right: 20px;\">\n",
    "    <div>\n",
    "        <p>Convolutional Neural Networks are deep learning models or multi-layer perceptrons similar to artificial neural networks, commonly used to analyze visual images. The founder of convolutional neural networks is renowned computer scientist Yann LeCun. He was the first person to solve handwritten digit problems using convolutional neural networks on the MNIST dataset.</p>\n",
    "        <p>The architecture of convolutional neural networks is very similar to that of conventional artificial neural networks, especially in the last layer of the network, which is fully connected. Furthermore, it is noted that convolutional neural networks can accept multiple feature maps as inputs rather than vectors.</p>\n",
    "    </div>\n",
    "</div>"
   ]
  },
  {
   "cell_type": "markdown",
   "id": "d2f29f6f",
   "metadata": {},
   "source": [
    "A convolutional neural network mainly consists of the following 5 layers:\n",
    "- **Data input layer/Input layer**: Preprocessing the raw image data.(In this chapter, we don't use it, because we have already preprocessed the MNIST data in the class MNISTTrainer.)\n",
    "- **Convolutional computation layer/CONV layer**: Processing image data, which extracts image features by performing element multiplication operations on the input image through filters (also known as convolution kernels) and summing them up.\n",
    "- **ReLU incentive layer**: Perform nonlinear mapping on the output results of convolutional layers.\n",
    "- **Pooling layer**: Used to compress data and parameters, reduce overfitting\n",
    "- **Fully connected layer/FC layer**: Like MLP."
   ]
  },
  {
   "cell_type": "markdown",
   "id": "4eb538c3",
   "metadata": {},
   "source": [
    "## CNN\n",
    "Before building model.Let's see the parameters of the two new layers:<br>\n",
    "**nn.Conv2d**:<br>`in_channels`: Input channels.<br>`out_channels`: Output channels.<br>`kernel_size`: Size of the convolutional kernel.<br>`stride`: Stride of the convolution.<br>`padding`: Zero-padding added to both sides of the input.<br>`groups`:The number of groups. This is an optional parameter that defaults to 1. When groups is greater than 1, the input and output channels are divided into groups number of groups, and the convolutional kernel operates within these groups. Specifically, when groups is equal to in_channels, depthwise separable convolution can be performed, which can significantly reduce the number of model parameters and computational requirements.<br><br>\n",
    "**nn.MaxPool2d**:<br>`kernel_size`: Size of the max pooling window.<br>`stride`: Stride of the max pooling operation."
   ]
  },
  {
   "cell_type": "code",
   "execution_count": 2,
   "id": "f5b1888f",
   "metadata": {},
   "outputs": [],
   "source": [
    "import torch\n",
    "import torch.nn as nn\n",
    "\n",
    "class CNN(nn.Module):\n",
    "    def __init__(self):\n",
    "        super(CNN, self).__init__()\n",
    "        self.conv1 = nn.Conv2d(1, 32, kernel_size=3, padding=1)\n",
    "        self.conv2 = nn.Conv2d(32, 64, kernel_size=3, padding=1)\n",
    "        self.pool = nn.MaxPool2d(2, 2)\n",
    "        # we can see fc1 and fc2 as a MLP\n",
    "        self.fc1 = nn.Linear(64 * 7 * 7, 128)\n",
    "        self.fc2 = nn.Linear(128, 10)\n",
    "\n",
    "    def forward(self, x):\n",
    "        x = self.pool(torch.relu(self.conv1(x)))\n",
    "        x = self.pool(torch.relu(self.conv2(x)))\n",
    "        x = x.view(-1, 64 * 7 * 7)\n",
    "        x = torch.relu(self.fc1(x))\n",
    "        x = self.fc2(x)\n",
    "        return x"
   ]
  },
  {
   "cell_type": "markdown",
   "id": "7301e2a8",
   "metadata": {},
   "source": [
    "## Use class MINISTTrainer to train CNN"
   ]
  },
  {
   "cell_type": "code",
   "execution_count": null,
   "id": "4202ad2e",
   "metadata": {
    "scrolled": true
   },
   "outputs": [
    {
     "name": "stdout",
     "output_type": "stream",
     "text": [
      "=======================================================================================================================================\n",
      "2024-05-15 19:37:34\n",
      "Epoch 1 / 10\n"
     ]
    },
    {
     "name": "stderr",
     "output_type": "stream",
     "text": [
      "[Train]: 100%|████████████████████████| 211/211 [00:09<00:00, 21.82it/s, train_loss=0.302]\n",
      "[Valid]: 100%|█████████████████████| 24/24 [00:01<00:00, 22.78it/s, val_acc=97.8, val_loss=0.000274]\n"
     ]
    },
    {
     "name": "stdout",
     "output_type": "stream",
     "text": [
      "=======================================================================================================================================\n",
      "2024-05-15 19:37:45\n",
      "Epoch 2 / 10\n"
     ]
    },
    {
     "name": "stderr",
     "output_type": "stream",
     "text": [
      "[Train]: 100%|███████████████████████| 211/211 [00:11<00:00, 19.08it/s, train_loss=0.0638]\n",
      "[Valid]: 100%|█████████████████████| 24/24 [00:01<00:00, 23.72it/s, val_acc=98.3, val_loss=0.000192]\n"
     ]
    },
    {
     "name": "stdout",
     "output_type": "stream",
     "text": [
      "=======================================================================================================================================\n",
      "2024-05-15 19:37:57\n",
      "Epoch 3 / 10\n"
     ]
    },
    {
     "name": "stderr",
     "output_type": "stream",
     "text": [
      "[Train]: 100%|███████████████████████| 211/211 [00:12<00:00, 17.40it/s, train_loss=0.0511]\n",
      "[Valid]: 100%|█████████████████████| 24/24 [00:01<00:00, 18.10it/s, val_acc=98.2, val_loss=0.000224]\n"
     ]
    },
    {
     "name": "stdout",
     "output_type": "stream",
     "text": [
      "=======================================================================================================================================\n",
      "2024-05-15 19:38:10\n",
      "Epoch 4 / 10\n"
     ]
    },
    {
     "name": "stderr",
     "output_type": "stream",
     "text": [
      "[Train]: 100%|███████████████████████| 211/211 [00:11<00:00, 18.86it/s, train_loss=0.0431]\n",
      "[Valid]: 100%|█████████████████████| 24/24 [00:01<00:00, 23.64it/s, val_acc=98.6, val_loss=0.000165]\n"
     ]
    },
    {
     "name": "stdout",
     "output_type": "stream",
     "text": [
      "=======================================================================================================================================\n",
      "2024-05-15 19:38:22\n",
      "Epoch 5 / 10\n"
     ]
    },
    {
     "name": "stderr",
     "output_type": "stream",
     "text": [
      "[Train]: 100%|███████████████████████| 211/211 [00:11<00:00, 17.96it/s, train_loss=0.0358]\n",
      "[Valid]: 100%|█████████████████████| 24/24 [00:01<00:00, 20.43it/s, val_acc=98.6, val_loss=0.000183]\n"
     ]
    },
    {
     "name": "stdout",
     "output_type": "stream",
     "text": [
      "=======================================================================================================================================\n",
      "2024-05-15 19:38:35\n",
      "Epoch 6 / 10\n"
     ]
    },
    {
     "name": "stderr",
     "output_type": "stream",
     "text": [
      "[Train]: 100%|███████████████████████| 211/211 [00:11<00:00, 18.72it/s, train_loss=0.0347]\n",
      "[Valid]: 100%|█████████████████████| 24/24 [00:01<00:00, 18.88it/s, val_acc=98.6, val_loss=0.000158]\n"
     ]
    },
    {
     "name": "stdout",
     "output_type": "stream",
     "text": [
      "=======================================================================================================================================\n",
      "2024-05-15 19:38:48\n",
      "Epoch 7 / 10\n"
     ]
    },
    {
     "name": "stderr",
     "output_type": "stream",
     "text": [
      "[Train]: 100%|███████████████████████| 211/211 [00:12<00:00, 16.54it/s, train_loss=0.0331]\n",
      "[Valid]: 100%|█████████████████████| 24/24 [00:00<00:00, 24.71it/s, val_acc=98.3, val_loss=0.000224]\n"
     ]
    },
    {
     "name": "stdout",
     "output_type": "stream",
     "text": [
      "=======================================================================================================================================\n",
      "2024-05-15 19:39:02\n",
      "Epoch 8 / 10\n"
     ]
    },
    {
     "name": "stderr",
     "output_type": "stream",
     "text": [
      "[Train]: 100%|███████████████████████| 211/211 [00:12<00:00, 16.70it/s, train_loss=0.0279]\n",
      "[Valid]: 100%|█████████████████████| 24/24 [00:00<00:00, 27.39it/s, val_acc=98.6, val_loss=0.000198]\n"
     ]
    },
    {
     "name": "stdout",
     "output_type": "stream",
     "text": [
      "=======================================================================================================================================\n",
      "2024-05-15 19:39:15\n",
      "Epoch 9 / 10\n"
     ]
    },
    {
     "name": "stderr",
     "output_type": "stream",
     "text": [
      "[Train]: 100%|███████████████████████| 211/211 [00:12<00:00, 16.79it/s, train_loss=0.0257]\n",
      "[Valid]: 100%|█████████████████████| 24/24 [00:01<00:00, 18.86it/s, val_acc=98.6, val_loss=0.000233]\n"
     ]
    },
    {
     "name": "stdout",
     "output_type": "stream",
     "text": [
      "=======================================================================================================================================\n",
      "2024-05-15 19:39:29\n",
      "Epoch 10 / 10\n"
     ]
    },
    {
     "name": "stderr",
     "output_type": "stream",
     "text": [
      "[Train]: 100%|███████████████████████| 211/211 [00:11<00:00, 18.27it/s, train_loss=0.0361]\n",
      "[Valid]: 100%|█████████████████████| 24/24 [00:01<00:00, 19.94it/s, val_acc=98.3, val_loss=0.000222]\n"
     ]
    }
   ],
   "source": [
    "import sys\n",
    "sys.path.append('../tools')\n",
    "from MNIST import MNISTTrainer\n",
    "\n",
    "model = CNN()\n",
    "trainer = MNISTTrainer(model, loss='CE', lr=0.01, optimizer='Adam', batch_size=256, epoch=10, model_type='classification')\n",
    "trainer.train()"
   ]
  },
  {
   "cell_type": "code",
   "execution_count": null,
   "id": "e00261b4",
   "metadata": {},
   "outputs": [],
   "source": [
    "trainer.test()"
   ]
  }
 ],
 "metadata": {
  "kernelspec": {
   "display_name": "bdl",
   "language": "python",
   "name": "bdl"
  },
  "language_info": {
   "codemirror_mode": {
    "name": "ipython",
    "version": 3
   },
   "file_extension": ".py",
   "mimetype": "text/x-python",
   "name": "python",
   "nbconvert_exporter": "python",
   "pygments_lexer": "ipython3",
   "version": "3.8.19"
  }
 },
 "nbformat": 4,
 "nbformat_minor": 5
}
