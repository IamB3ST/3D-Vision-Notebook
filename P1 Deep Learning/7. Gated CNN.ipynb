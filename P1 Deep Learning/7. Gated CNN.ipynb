{
 "cells": [
  {
   "cell_type": "markdown",
   "id": "017311e9-f752-4260-b2a4-f3bb016f4cbd",
   "metadata": {},
   "source": [
    "# Gated Convoluntional Neural Networks"
   ]
  },
  {
   "cell_type": "markdown",
   "id": "5a0de2c6-69d8-46f3-bbfd-354ecacef9c1",
   "metadata": {},
   "source": [
    "<div style=\"display: flex; align-items: center;\">\n",
    "    <img src=\"../imgs/GatedCNN.jpg\" alt=\"Your Image\" width=\"300\" style=\"margin-right: 20px;\">\n",
    "    <div>\n",
    "        <p>Gated Convolutional Neural Networks (Gated CNNs) are an advanced architectural variant of traditional Convolutional Neural Networks (CNNs) that incorporate gating mechanisms to regulate the flow of information through the network. These gating units act like learnable switches that can open or close, allowing certain features to pass while suppressing others, thus enabling the network to focus on relevant information.</p>\n",
    "        <p>The core of a Gated CNN is its gating mechanism, which typically uses sigmoid functions to generate gate signals. These signals produce values between 0 and 1, determining how much of the input should be let through.</p>\n",
    "        <p>Gated CNNs often employ depthwise separable convolutions for the token mixer, which are computationally efficient. This involves first performing a depthwise convolution that acts on each input channel separately, followed by a pointwise convolution that combines the outputs.</p>\n",
    "        <p>In addition, this chapter will introduce a more challenging dataset: CIFAR10/CIFAR100, and attempt to challenge them.</p>\n",
    "    </div>\n",
    "</div>"
   ]
  },
  {
   "cell_type": "markdown",
   "id": "4f4184d8-abae-48cd-a26b-bae918e51d7a",
   "metadata": {},
   "source": [
    "## Gated CNN\n",
    "Before building model.Let's see the parameters of the new layer:<br>\n",
    "**nn.LayerNorm**:<br>\n",
    "`normalized_shape`: The shape of the normalization, this could be a single integer N or a tuple of integers representing the last N dimensions to normalize over.<br>\n",
    "`eps`: A small constant added for numerical stability. This prevents the division by zero error during the normalization process.<br>\n",
    "`elementwise_affine`: A boolean value which, when set to True, applies a learnable scaling and shifting transformation after normalization."
   ]
  },
  {
   "cell_type": "code",
   "execution_count": 1,
   "id": "3212b272-d28b-4e07-814b-3bf04e7d4d56",
   "metadata": {},
   "outputs": [],
   "source": [
    "import torch\n",
    "import torch.nn as nn\n",
    "from functools import partial\n",
    "\n",
    "class GatedCNN(nn.Module):\n",
    "    \n",
    "    def __init__(self, input_channels, output_size):\n",
    "        super().__init__()\n",
    "        self.stem = nn.Sequential(\n",
    "            nn.Conv2d(input_channels, 64, kernel_size=7, stride=2, padding=3),\n",
    "            nn.ReLU(),\n",
    "            nn.BatchNorm2d(64)\n",
    "        )\n",
    "        self.downsample = nn.Sequential(\n",
    "            nn.Conv2d(64, 128, kernel_size=3, stride=2, padding=1),\n",
    "            nn.ReLU(),\n",
    "            nn.BatchNorm2d(128)\n",
    "        )\n",
    "        self.blocks = nn.Sequential(\n",
    "            GatedCNNBlock(128, kernel_size=3),\n",
    "            GatedCNNBlock(128, kernel_size=3),\n",
    "            GatedCNNBlock(128, kernel_size=3),\n",
    "            GatedCNNBlock(128, kernel_size=3),\n",
    "            GatedCNNBlock(128, kernel_size=3)\n",
    "        )\n",
    "        self.avg_pool = nn.AdaptiveAvgPool2d((1, 1))\n",
    "        self.fc = nn.Linear(128, output_size)\n",
    "\n",
    "    def forward(self, x):\n",
    "        x = self.stem(x)\n",
    "        x = self.downsample(x)\n",
    "        x = self.blocks(x)\n",
    "        x = self.avg_pool(x)\n",
    "        x = torch.flatten(x, 1)\n",
    "        x = self.fc(x)\n",
    "        return x\n",
    "\n",
    "class GatedCNNBlock(nn.Module):\n",
    "\n",
    "    def __init__(self, dim, expension_ratio=8/3, kernel_size=7, conv_ratio=1.0,\n",
    "                 norm_layer=partial(nn.LayerNorm, eps=1e-6), \n",
    "                 act_layer=nn.GELU,\n",
    "                 drop_path=0.,\n",
    "                 **kwargs):\n",
    "        super().__init__()\n",
    "        hidden = int(expension_ratio * dim)\n",
    "        conv_channels = int(conv_ratio * dim)\n",
    "        self.split_indices = (hidden, hidden - conv_channels, conv_channels)\n",
    "        \n",
    "        self.norm = norm_layer(dim)\n",
    "        self.fc1 = nn.Linear(dim, hidden * 2)\n",
    "        self.act = act_layer()\n",
    "        self.conv = nn.Conv2d(conv_channels, conv_channels, kernel_size=kernel_size, padding=kernel_size//2, groups=conv_channels)\n",
    "        self.fc2 = nn.Linear(hidden, dim)\n",
    "\n",
    "    def forward(self, x):\n",
    "        shortcut = x  # [B, C, H, W]\n",
    "        x = x.permute(0, 2, 3, 1)  # [B, C, H, W] -> [B, H, W, C]\n",
    "        x = self.norm(x)\n",
    "        g, i, c = torch.split(self.fc1(x), self.split_indices, dim=-1)\n",
    "        c = c.permute(0, 3, 1, 2)  # [B, H, W, C] -> [B, C, H, W]\n",
    "        c = self.conv(c)\n",
    "        c = c.permute(0, 2, 3, 1)  # [B, C, H, W] -> [B, H, W, C]\n",
    "        x = self.fc2(self.act(g) * torch.cat((i, c), dim=-1))\n",
    "        x = x.permute(0, 3, 1, 2)  # [B, H, W, C] -> [B, C, H, W]\n",
    "        return x + shortcut"
   ]
  },
  {
   "cell_type": "markdown",
   "id": "f7ff78a8",
   "metadata": {},
   "source": [
    "## CIFAR10/100 dataset\n",
    "The CIFAR dataset is a widely used benchmark in the field of machine learning and computer vision, particularly for image classification tasks. Here are some of its key characteristics:\n",
    "\n",
    "### CIFAR Dataset Characteristics\n",
    "**Two Variants**: CIFAR comes in two versions - CIFAR-10 and CIFAR-100:<br>\n",
    "`CIFAR-10`: Contains 60,000 32x32 color images in 10 classes, with 6,000 images per class. It is split into 50,000 training images and 10,000 test images.\n",
    "`CIFAR-100`: Similar to `CIFAR-10` but has 100 classes with 600 images per class. Each class in CIFAR-100 is divided into a \"fine\" and \"coarse\" label structure.\n",
    "\n",
    "- Image Size: All images are 32x32 pixels with 3 color channels (RGB), making the dataset relatively small in terms of image resolution.\n",
    "\n",
    "- Diversity: The dataset includes a wide variety of images in each class, making it more challenging than simpler datasets like MNIST.\n",
    "\n",
    "**Comparison with MNIST Complexity**:<br>\n",
    "`MNIST`: Consists of grayscale images of handwritten digits (0-9), with each image being 28x28 pixels. The dataset is relatively simple with less variation in the data.<br>\n",
    "`CIFAR`: Contains color images with greater variability in terms of objects, backgrounds, and lighting conditions, making classification more challenging.<br>\n",
    "**Number of Classes**:<br>\n",
    "MNIST: 10 classes (digits 0-9).<br>\n",
    "CIFAR-10: 10 classes (airplane, automobile, bird, cat, deer, dog, frog, horse, ship, truck).<br>\n",
    "CIFAR-100: 100 classes, adding significantly more complexity compared to both MNIST and CIFAR-10.<br>\n",
    "\n",
    "**Image Resolution and Color Channels**:<br>\n",
    "MNIST: 28x28 pixel grayscale images (1 channel).<br>\n",
    "CIFAR: 32x32 pixel color images (3 channels), requiring models to handle more data and more complex features."
   ]
  },
  {
   "cell_type": "code",
   "execution_count": 2,
   "id": "d96cb05c-eb71-42c2-9351-8c07bbfd8d1d",
   "metadata": {},
   "outputs": [],
   "source": [
    "import sys\n",
    "sys.path.append('../tools')\n",
    "from CIFAR10 import CIFAR10Trainer\n",
    "from CIFAR100 import CIFAR100Trainer"
   ]
  },
  {
   "cell_type": "markdown",
   "id": "c38836e9",
   "metadata": {},
   "source": [
    "### Using CIFAR10 to train a simple CNN in Chapter 3\n",
    "After a time, we can see a limited accuracy compared with the performance of MNIST dataset although both the train and valid loss is very low. Because the complex dataset always need deeper network to train and test. Until 5/18/2024, the sota has 99.5% accuracy."
   ]
  },
  {
   "cell_type": "code",
   "execution_count": 1,
   "id": "0aa2b488",
   "metadata": {},
   "outputs": [],
   "source": [
    "import torch\n",
    "import torch.nn as nn\n",
    "\n",
    "class CNN(nn.Module):\n",
    "    def __init__(self, input_channels, output_size):\n",
    "        super(CNN, self).__init__()\n",
    "        self.conv1 = nn.Conv2d(input_channels, 32, kernel_size=3, padding=1)\n",
    "        self.conv2 = nn.Conv2d(32, 64, kernel_size=3, padding=1)\n",
    "        self.pool = nn.MaxPool2d(2, 2)\n",
    "        # we can see fc1 and fc2 as a MLP\n",
    "        self.fc1 = nn.Linear(64 * 8 * 8, 128)\n",
    "        self.fc2 = nn.Linear(128, output_size)\n",
    "\n",
    "    def forward(self, x):\n",
    "        x = self.pool(torch.relu(self.conv1(x)))\n",
    "        x = self.pool(torch.relu(self.conv2(x)))\n",
    "        x = x.view(-1, 64 * 8 * 8)\n",
    "        x = torch.relu(self.fc1(x))\n",
    "        x = self.fc2(x)\n",
    "        return x"
   ]
  },
  {
   "cell_type": "code",
   "execution_count": null,
   "id": "98a05f04-a005-4cf0-a74f-12ab0613c095",
   "metadata": {
    "scrolled": true
   },
   "outputs": [
    {
     "name": "stdout",
     "output_type": "stream",
     "text": [
      "Files already downloaded and verified\n",
      "Files already downloaded and verified\n",
      "=======================================================================================================================================\n",
      "2024-05-18 22:23:44\n",
      "Epoch 1 / 30\n"
     ]
    },
    {
     "name": "stderr",
     "output_type": "stream",
     "text": [
      "[Train]: 100%|█████████████████████████| 352/352 [00:10<00:00, 32.36it/s, train_loss=1.61]\n",
      "[Valid]: 100%|███████████████████████| 40/40 [00:01<00:00, 38.55it/s, val_acc=53.4, val_loss=0.0103]\n"
     ]
    },
    {
     "name": "stdout",
     "output_type": "stream",
     "text": [
      "=======================================================================================================================================\n",
      "2024-05-18 22:23:56\n",
      "Epoch 2 / 30\n"
     ]
    },
    {
     "name": "stderr",
     "output_type": "stream",
     "text": [
      "[Train]: 100%|█████████████████████████| 352/352 [00:11<00:00, 31.49it/s, train_loss=1.16]\n",
      "[Valid]: 100%|██████████████████████| 40/40 [00:01<00:00, 36.81it/s, val_acc=60.4, val_loss=0.00895]\n"
     ]
    },
    {
     "name": "stdout",
     "output_type": "stream",
     "text": [
      "=======================================================================================================================================\n",
      "2024-05-18 22:24:08\n",
      "Epoch 3 / 30\n"
     ]
    },
    {
     "name": "stderr",
     "output_type": "stream",
     "text": [
      "[Train]: 100%|████████████████████████| 352/352 [00:11<00:00, 31.69it/s, train_loss=0.967]\n",
      "[Valid]: 100%|██████████████████████| 40/40 [00:01<00:00, 36.05it/s, val_acc=65.1, val_loss=0.00777]\n"
     ]
    },
    {
     "name": "stdout",
     "output_type": "stream",
     "text": [
      "=======================================================================================================================================\n",
      "2024-05-18 22:24:20\n",
      "Epoch 4 / 30\n"
     ]
    },
    {
     "name": "stderr",
     "output_type": "stream",
     "text": [
      "[Train]: 100%|████████████████████████| 352/352 [00:11<00:00, 29.97it/s, train_loss=0.832]\n",
      "[Valid]: 100%|██████████████████████| 40/40 [00:01<00:00, 37.21it/s, val_acc=68.4, val_loss=0.00714]\n"
     ]
    },
    {
     "name": "stdout",
     "output_type": "stream",
     "text": [
      "=======================================================================================================================================\n",
      "2024-05-18 22:24:33\n",
      "Epoch 5 / 30\n"
     ]
    },
    {
     "name": "stderr",
     "output_type": "stream",
     "text": [
      "[Train]: 100%|████████████████████████| 352/352 [00:12<00:00, 28.98it/s, train_loss=0.722]\n",
      "[Valid]: 100%|████████████████████████| 40/40 [00:01<00:00, 31.12it/s, val_acc=70, val_loss=0.00694]\n"
     ]
    },
    {
     "name": "stdout",
     "output_type": "stream",
     "text": [
      "=======================================================================================================================================\n",
      "2024-05-18 22:24:47\n",
      "Epoch 6 / 30\n"
     ]
    },
    {
     "name": "stderr",
     "output_type": "stream",
     "text": [
      "[Train]: 100%|████████████████████████| 352/352 [00:11<00:00, 30.13it/s, train_loss=0.614]\n",
      "[Valid]: 100%|██████████████████████| 40/40 [00:01<00:00, 30.58it/s, val_acc=70.1, val_loss=0.00698]\n"
     ]
    },
    {
     "name": "stdout",
     "output_type": "stream",
     "text": [
      "=======================================================================================================================================\n",
      "2024-05-18 22:25:00\n",
      "Epoch 7 / 30\n"
     ]
    },
    {
     "name": "stderr",
     "output_type": "stream",
     "text": [
      "[Train]: 100%|████████████████████████| 352/352 [00:11<00:00, 29.97it/s, train_loss=0.533]\n",
      "[Valid]: 100%|████████████████████████| 40/40 [00:01<00:00, 30.55it/s, val_acc=71, val_loss=0.00701]\n"
     ]
    },
    {
     "name": "stdout",
     "output_type": "stream",
     "text": [
      "=======================================================================================================================================\n",
      "2024-05-18 22:25:13\n",
      "Epoch 8 / 30\n"
     ]
    },
    {
     "name": "stderr",
     "output_type": "stream",
     "text": [
      "[Train]: 100%|████████████████████████| 352/352 [00:11<00:00, 29.88it/s, train_loss=0.439]\n",
      "[Valid]: 100%|███████████████████████| 40/40 [00:01<00:00, 32.97it/s, val_acc=70.5, val_loss=0.0074]\n"
     ]
    },
    {
     "name": "stdout",
     "output_type": "stream",
     "text": [
      "=======================================================================================================================================\n",
      "2024-05-18 22:25:26\n",
      "Epoch 9 / 30\n"
     ]
    },
    {
     "name": "stderr",
     "output_type": "stream",
     "text": [
      "[Train]: 100%|████████████████████████| 352/352 [00:12<00:00, 28.93it/s, train_loss=0.354]\n",
      "[Valid]: 100%|██████████████████████| 40/40 [00:01<00:00, 34.84it/s, val_acc=70.1, val_loss=0.00769]\n"
     ]
    },
    {
     "name": "stdout",
     "output_type": "stream",
     "text": [
      "=======================================================================================================================================\n",
      "2024-05-18 22:25:39\n",
      "Epoch 10 / 30\n"
     ]
    },
    {
     "name": "stderr",
     "output_type": "stream",
     "text": [
      "[Train]: 100%|████████████████████████| 352/352 [00:11<00:00, 30.04it/s, train_loss=0.276]\n",
      "[Valid]: 100%|██████████████████████| 40/40 [00:01<00:00, 32.54it/s, val_acc=71.8, val_loss=0.00806]\n"
     ]
    },
    {
     "name": "stdout",
     "output_type": "stream",
     "text": [
      "=======================================================================================================================================\n",
      "2024-05-18 22:25:52\n",
      "Epoch 11 / 30\n"
     ]
    },
    {
     "name": "stderr",
     "output_type": "stream",
     "text": [
      "[Train]: 100%|████████████████████████| 352/352 [00:11<00:00, 29.75it/s, train_loss=0.208]\n",
      "[Valid]: 100%|██████████████████████| 40/40 [00:01<00:00, 35.19it/s, val_acc=72.2, val_loss=0.00884]\n"
     ]
    },
    {
     "name": "stdout",
     "output_type": "stream",
     "text": [
      "=======================================================================================================================================\n",
      "2024-05-18 22:26:05\n",
      "Epoch 12 / 30\n"
     ]
    },
    {
     "name": "stderr",
     "output_type": "stream",
     "text": [
      "[Train]: 100%|█████████████████████████| 352/352 [00:12<00:00, 27.96it/s, train_loss=0.15]\n",
      "[Valid]: 100%|███████████████████████| 40/40 [00:01<00:00, 34.57it/s, val_acc=70.8, val_loss=0.0103]\n"
     ]
    },
    {
     "name": "stdout",
     "output_type": "stream",
     "text": [
      "=======================================================================================================================================\n",
      "2024-05-18 22:26:19\n",
      "Epoch 13 / 30\n"
     ]
    },
    {
     "name": "stderr",
     "output_type": "stream",
     "text": [
      "[Train]: 100%|████████████████████████| 352/352 [00:13<00:00, 27.03it/s, train_loss=0.115]\n",
      "[Valid]: 100%|███████████████████████| 40/40 [00:01<00:00, 29.58it/s, val_acc=71.6, val_loss=0.0106]\n"
     ]
    },
    {
     "name": "stdout",
     "output_type": "stream",
     "text": [
      "=======================================================================================================================================\n",
      "2024-05-18 22:26:33\n",
      "Epoch 14 / 30\n"
     ]
    },
    {
     "name": "stderr",
     "output_type": "stream",
     "text": [
      "[Train]: 100%|███████████████████████| 352/352 [00:12<00:00, 27.75it/s, train_loss=0.0834]\n",
      "[Valid]: 100%|███████████████████████| 40/40 [00:01<00:00, 27.95it/s, val_acc=71.5, val_loss=0.0113]\n"
     ]
    },
    {
     "name": "stdout",
     "output_type": "stream",
     "text": [
      "=======================================================================================================================================\n",
      "2024-05-18 22:26:47\n",
      "Epoch 15 / 30\n"
     ]
    },
    {
     "name": "stderr",
     "output_type": "stream",
     "text": [
      "[Train]: 100%|███████████████████████| 352/352 [00:12<00:00, 27.42it/s, train_loss=0.0597]\n",
      "[Valid]: 100%|████████████████████████| 40/40 [00:01<00:00, 28.88it/s, val_acc=71.2, val_loss=0.012]\n"
     ]
    },
    {
     "name": "stdout",
     "output_type": "stream",
     "text": [
      "=======================================================================================================================================\n",
      "2024-05-18 22:27:01\n",
      "Epoch 16 / 30\n"
     ]
    },
    {
     "name": "stderr",
     "output_type": "stream",
     "text": [
      "[Train]: 100%|███████████████████████| 352/352 [00:12<00:00, 27.73it/s, train_loss=0.0555]\n",
      "[Valid]: 100%|███████████████████████| 40/40 [00:01<00:00, 28.58it/s, val_acc=69.9, val_loss=0.0133]\n"
     ]
    },
    {
     "name": "stdout",
     "output_type": "stream",
     "text": [
      "=======================================================================================================================================\n",
      "2024-05-18 22:27:15\n",
      "Epoch 17 / 30\n"
     ]
    },
    {
     "name": "stderr",
     "output_type": "stream",
     "text": [
      "[Train]: 100%|███████████████████████| 352/352 [00:12<00:00, 27.96it/s, train_loss=0.0489]\n",
      "[Valid]: 100%|███████████████████████| 40/40 [00:01<00:00, 27.84it/s, val_acc=70.8, val_loss=0.0141]\n"
     ]
    },
    {
     "name": "stdout",
     "output_type": "stream",
     "text": [
      "=======================================================================================================================================\n",
      "2024-05-18 22:27:29\n",
      "Epoch 18 / 30\n"
     ]
    },
    {
     "name": "stderr",
     "output_type": "stream",
     "text": [
      "[Train]: 100%|███████████████████████| 352/352 [00:12<00:00, 28.17it/s, train_loss=0.0364]\n",
      "[Valid]: 100%|███████████████████████| 40/40 [00:01<00:00, 30.89it/s, val_acc=71.5, val_loss=0.0144]\n"
     ]
    },
    {
     "name": "stdout",
     "output_type": "stream",
     "text": [
      "=======================================================================================================================================\n",
      "2024-05-18 22:27:43\n",
      "Epoch 19 / 30\n"
     ]
    },
    {
     "name": "stderr",
     "output_type": "stream",
     "text": [
      "[Train]: 100%|███████████████████████| 352/352 [00:12<00:00, 28.64it/s, train_loss=0.0187]\n",
      "[Valid]: 100%|███████████████████████| 40/40 [00:01<00:00, 31.02it/s, val_acc=71.6, val_loss=0.0152]\n"
     ]
    },
    {
     "name": "stdout",
     "output_type": "stream",
     "text": [
      "=======================================================================================================================================\n",
      "2024-05-18 22:27:57\n",
      "Epoch 20 / 30\n"
     ]
    },
    {
     "name": "stderr",
     "output_type": "stream",
     "text": [
      "[Train]: 100%|███████████████████████| 352/352 [00:12<00:00, 29.26it/s, train_loss=0.0112]\n",
      "[Valid]: 100%|███████████████████████| 40/40 [00:01<00:00, 33.46it/s, val_acc=72.4, val_loss=0.0157]\n"
     ]
    },
    {
     "name": "stdout",
     "output_type": "stream",
     "text": [
      "=======================================================================================================================================\n",
      "2024-05-18 22:28:10\n",
      "Epoch 21 / 30\n"
     ]
    },
    {
     "name": "stderr",
     "output_type": "stream",
     "text": [
      "[Train]: 100%|██████████████████████| 352/352 [00:12<00:00, 27.36it/s, train_loss=0.00441]\n",
      "[Valid]: 100%|███████████████████████| 40/40 [00:01<00:00, 28.52it/s, val_acc=72.6, val_loss=0.0159]\n"
     ]
    },
    {
     "name": "stdout",
     "output_type": "stream",
     "text": [
      "=======================================================================================================================================\n",
      "2024-05-18 22:28:24\n",
      "Epoch 22 / 30\n"
     ]
    },
    {
     "name": "stderr",
     "output_type": "stream",
     "text": [
      "[Train]: 100%|██████████████████████| 352/352 [00:12<00:00, 28.58it/s, train_loss=0.00141]\n",
      "[Valid]: 100%|███████████████████████| 40/40 [00:01<00:00, 30.28it/s, val_acc=72.5, val_loss=0.0164]\n"
     ]
    },
    {
     "name": "stdout",
     "output_type": "stream",
     "text": [
      "=======================================================================================================================================\n",
      "2024-05-18 22:28:38\n",
      "Epoch 23 / 30\n"
     ]
    },
    {
     "name": "stderr",
     "output_type": "stream",
     "text": [
      "[Train]: 100%|█████████████████████| 352/352 [00:12<00:00, 28.60it/s, train_loss=0.000774]\n",
      "[Valid]: 100%|███████████████████████| 40/40 [00:01<00:00, 31.83it/s, val_acc=72.4, val_loss=0.0167]\n"
     ]
    },
    {
     "name": "stdout",
     "output_type": "stream",
     "text": [
      "=======================================================================================================================================\n",
      "2024-05-18 22:28:52\n",
      "Epoch 24 / 30\n"
     ]
    },
    {
     "name": "stderr",
     "output_type": "stream",
     "text": [
      "[Train]: 100%|█████████████████████| 352/352 [00:12<00:00, 28.08it/s, train_loss=0.000682]\n",
      "[Valid]: 100%|████████████████████████| 40/40 [00:01<00:00, 27.94it/s, val_acc=72.6, val_loss=0.017]\n"
     ]
    },
    {
     "name": "stdout",
     "output_type": "stream",
     "text": [
      "=======================================================================================================================================\n",
      "2024-05-18 22:29:06\n",
      "Epoch 25 / 30\n"
     ]
    },
    {
     "name": "stderr",
     "output_type": "stream",
     "text": [
      "[Train]: 100%|█████████████████████| 352/352 [00:12<00:00, 28.25it/s, train_loss=0.000547]\n",
      "[Valid]: 100%|███████████████████████| 40/40 [00:01<00:00, 30.61it/s, val_acc=72.4, val_loss=0.0172]\n"
     ]
    },
    {
     "name": "stdout",
     "output_type": "stream",
     "text": [
      "=======================================================================================================================================\n",
      "2024-05-18 22:29:19\n",
      "Epoch 26 / 30\n"
     ]
    },
    {
     "name": "stderr",
     "output_type": "stream",
     "text": [
      "[Train]: 100%|█████████████████████| 352/352 [00:12<00:00, 28.48it/s, train_loss=0.000463]\n",
      "[Valid]: 100%|███████████████████████| 40/40 [00:01<00:00, 30.07it/s, val_acc=72.5, val_loss=0.0173]\n"
     ]
    },
    {
     "name": "stdout",
     "output_type": "stream",
     "text": [
      "=======================================================================================================================================\n",
      "2024-05-18 22:29:33\n",
      "Epoch 27 / 30\n"
     ]
    },
    {
     "name": "stderr",
     "output_type": "stream",
     "text": [
      "[Train]: 100%|█████████████████████| 352/352 [00:12<00:00, 28.33it/s, train_loss=0.000416]\n",
      "[Valid]: 100%|███████████████████████| 40/40 [00:01<00:00, 27.24it/s, val_acc=72.6, val_loss=0.0175]\n"
     ]
    },
    {
     "name": "stdout",
     "output_type": "stream",
     "text": [
      "=======================================================================================================================================\n",
      "2024-05-18 22:29:47\n",
      "Epoch 28 / 30\n"
     ]
    },
    {
     "name": "stderr",
     "output_type": "stream",
     "text": [
      "[Train]: 100%|█████████████████████| 352/352 [00:12<00:00, 28.67it/s, train_loss=0.000381]\n",
      "[Valid]: 100%|███████████████████████| 40/40 [00:01<00:00, 28.85it/s, val_acc=72.5, val_loss=0.0177]\n"
     ]
    },
    {
     "name": "stdout",
     "output_type": "stream",
     "text": [
      "=======================================================================================================================================\n",
      "2024-05-18 22:30:01\n",
      "Epoch 29 / 30\n"
     ]
    },
    {
     "name": "stderr",
     "output_type": "stream",
     "text": [
      "[Train]: 100%|█████████████████████| 352/352 [00:12<00:00, 28.73it/s, train_loss=0.000351]\n",
      "[Valid]: 100%|███████████████████████| 40/40 [00:01<00:00, 30.13it/s, val_acc=72.5, val_loss=0.0178]\n"
     ]
    },
    {
     "name": "stdout",
     "output_type": "stream",
     "text": [
      "=======================================================================================================================================\n",
      "2024-05-18 22:30:14\n",
      "Epoch 30 / 30\n"
     ]
    },
    {
     "name": "stderr",
     "output_type": "stream",
     "text": [
      "[Train]: 100%|█████████████████████| 352/352 [00:12<00:00, 28.42it/s, train_loss=0.000324]\n",
      "[Valid]: 100%|███████████████████████| 40/40 [00:01<00:00, 29.10it/s, val_acc=72.5, val_loss=0.0179]\n"
     ]
    }
   ],
   "source": [
    "cnn = CNN(input_channels=3, output_size=10)\n",
    "cnn_trainer_10 = CIFAR10Trainer(cnn, loss='CE', lr=0.01, optimizer='SGD', batch_size=128, epoch=30, model_type='classification')\n",
    "cnn_trainer_10.train()\n",
    "cnn_trainer_10.test()"
   ]
  },
  {
   "cell_type": "markdown",
   "id": "d1a1a413",
   "metadata": {},
   "source": [
    "### Using CIFAR100 to train a simple CNN in Chapter 3\n",
    "On CIFAR100, CNN is very limited.Until 5/18/2024, the sota has 96.08% accuracy."
   ]
  },
  {
   "cell_type": "code",
   "execution_count": null,
   "id": "a5ab6647",
   "metadata": {},
   "outputs": [
    {
     "name": "stdout",
     "output_type": "stream",
     "text": [
      "Files already downloaded and verified\n",
      "Files already downloaded and verified\n",
      "=======================================================================================================================================\n",
      "2024-05-18 22:48:23\n",
      "Epoch 1 / 30\n"
     ]
    },
    {
     "name": "stderr",
     "output_type": "stream",
     "text": [
      "[Train]: 100%|█████████████████████████| 352/352 [00:11<00:00, 31.13it/s, train_loss=4.04]\n",
      "[Valid]: 100%|███████████████████████| 40/40 [00:01<00:00, 35.84it/s, val_acc=16.3, val_loss=0.0286]\n"
     ]
    },
    {
     "name": "stdout",
     "output_type": "stream",
     "text": [
      "=======================================================================================================================================\n",
      "2024-05-18 22:48:36\n",
      "Epoch 2 / 30\n"
     ]
    },
    {
     "name": "stderr",
     "output_type": "stream",
     "text": [
      "[Train]: 100%|█████████████████████████| 352/352 [00:11<00:00, 30.03it/s, train_loss=3.33]\n",
      "[Valid]: 100%|████████████████████████| 40/40 [00:01<00:00, 32.76it/s, val_acc=23.5, val_loss=0.025]\n"
     ]
    },
    {
     "name": "stdout",
     "output_type": "stream",
     "text": [
      "=======================================================================================================================================\n",
      "2024-05-18 22:48:48\n",
      "Epoch 3 / 30\n"
     ]
    },
    {
     "name": "stderr",
     "output_type": "stream",
     "text": [
      "[Train]: 100%|█████████████████████████| 352/352 [00:11<00:00, 30.19it/s, train_loss=2.92]\n",
      "[Valid]: 100%|███████████████████████| 40/40 [00:01<00:00, 34.50it/s, val_acc=29.7, val_loss=0.0224]\n"
     ]
    },
    {
     "name": "stdout",
     "output_type": "stream",
     "text": [
      "=======================================================================================================================================\n",
      "2024-05-18 22:49:01\n",
      "Epoch 4 / 30\n"
     ]
    },
    {
     "name": "stderr",
     "output_type": "stream",
     "text": [
      "[Train]: 100%|█████████████████████████| 352/352 [00:11<00:00, 29.79it/s, train_loss=2.63]\n",
      "[Valid]: 100%|█████████████████████████| 40/40 [00:01<00:00, 35.99it/s, val_acc=32, val_loss=0.0213]\n"
     ]
    },
    {
     "name": "stdout",
     "output_type": "stream",
     "text": [
      "=======================================================================================================================================\n",
      "2024-05-18 22:49:14\n",
      "Epoch 5 / 30\n"
     ]
    },
    {
     "name": "stderr",
     "output_type": "stream",
     "text": [
      "[Train]: 100%|█████████████████████████| 352/352 [00:12<00:00, 29.31it/s, train_loss=2.39]\n",
      "[Valid]: 100%|███████████████████████| 40/40 [00:01<00:00, 36.96it/s, val_acc=35.5, val_loss=0.0204]\n"
     ]
    },
    {
     "name": "stdout",
     "output_type": "stream",
     "text": [
      "=======================================================================================================================================\n",
      "2024-05-18 22:49:27\n",
      "Epoch 6 / 30\n"
     ]
    },
    {
     "name": "stderr",
     "output_type": "stream",
     "text": [
      "[Train]: 100%|█████████████████████████| 352/352 [00:12<00:00, 27.67it/s, train_loss=2.18]\n",
      "[Valid]: 100%|███████████████████████| 40/40 [00:01<00:00, 35.31it/s, val_acc=36.8, val_loss=0.0196]\n"
     ]
    },
    {
     "name": "stdout",
     "output_type": "stream",
     "text": [
      "=======================================================================================================================================\n",
      "2024-05-18 22:49:41\n",
      "Epoch 7 / 30\n"
     ]
    },
    {
     "name": "stderr",
     "output_type": "stream",
     "text": [
      "[Train]: 100%|█████████████████████████| 352/352 [00:12<00:00, 29.19it/s, train_loss=1.98]\n",
      "[Valid]: 100%|████████████████████████| 40/40 [00:01<00:00, 34.66it/s, val_acc=39.8, val_loss=0.019]\n"
     ]
    },
    {
     "name": "stdout",
     "output_type": "stream",
     "text": [
      "=======================================================================================================================================\n",
      "2024-05-18 22:49:54\n",
      "Epoch 8 / 30\n"
     ]
    },
    {
     "name": "stderr",
     "output_type": "stream",
     "text": [
      "[Train]: 100%|██████████████████████████| 352/352 [00:12<00:00, 28.51it/s, train_loss=1.8]\n",
      "[Valid]: 100%|███████████████████████| 40/40 [00:01<00:00, 30.85it/s, val_acc=38.9, val_loss=0.0197]\n"
     ]
    },
    {
     "name": "stdout",
     "output_type": "stream",
     "text": [
      "=======================================================================================================================================\n",
      "2024-05-18 22:50:08\n",
      "Epoch 9 / 30\n"
     ]
    },
    {
     "name": "stderr",
     "output_type": "stream",
     "text": [
      "[Train]: 100%|█████████████████████████| 352/352 [00:11<00:00, 30.51it/s, train_loss=1.62]\n",
      "[Valid]: 100%|███████████████████████| 40/40 [00:01<00:00, 36.07it/s, val_acc=38.5, val_loss=0.0197]\n"
     ]
    },
    {
     "name": "stdout",
     "output_type": "stream",
     "text": [
      "=======================================================================================================================================\n",
      "2024-05-18 22:50:21\n",
      "Epoch 10 / 30\n"
     ]
    },
    {
     "name": "stderr",
     "output_type": "stream",
     "text": [
      "[Train]: 100%|█████████████████████████| 352/352 [00:12<00:00, 27.23it/s, train_loss=1.45]\n",
      "[Valid]: 100%|███████████████████████| 40/40 [00:01<00:00, 31.78it/s, val_acc=38.6, val_loss=0.0205]\n"
     ]
    },
    {
     "name": "stdout",
     "output_type": "stream",
     "text": [
      "=======================================================================================================================================\n",
      "2024-05-18 22:50:35\n",
      "Epoch 11 / 30\n"
     ]
    },
    {
     "name": "stderr",
     "output_type": "stream",
     "text": [
      "[Train]: 100%|█████████████████████████| 352/352 [00:12<00:00, 29.20it/s, train_loss=1.27]\n",
      "[Valid]: 100%|███████████████████████| 40/40 [00:01<00:00, 35.66it/s, val_acc=38.1, val_loss=0.0214]\n"
     ]
    },
    {
     "name": "stdout",
     "output_type": "stream",
     "text": [
      "=======================================================================================================================================\n",
      "2024-05-18 22:50:48\n",
      "Epoch 12 / 30\n"
     ]
    },
    {
     "name": "stderr",
     "output_type": "stream",
     "text": [
      "[Train]: 100%|█████████████████████████| 352/352 [00:13<00:00, 26.89it/s, train_loss=1.09]\n",
      "[Valid]: 100%|███████████████████████| 40/40 [00:01<00:00, 31.62it/s, val_acc=38.9, val_loss=0.0228]\n"
     ]
    },
    {
     "name": "stdout",
     "output_type": "stream",
     "text": [
      "=======================================================================================================================================\n",
      "2024-05-18 22:51:02\n",
      "Epoch 13 / 30\n"
     ]
    },
    {
     "name": "stderr",
     "output_type": "stream",
     "text": [
      "[Train]: 100%|████████████████████████| 352/352 [00:12<00:00, 28.67it/s, train_loss=0.925]\n",
      "[Valid]: 100%|███████████████████████| 40/40 [00:01<00:00, 34.85it/s, val_acc=37.7, val_loss=0.0251]\n"
     ]
    },
    {
     "name": "stdout",
     "output_type": "stream",
     "text": [
      "=======================================================================================================================================\n",
      "2024-05-18 22:51:16\n",
      "Epoch 14 / 30\n"
     ]
    },
    {
     "name": "stderr",
     "output_type": "stream",
     "text": [
      "[Train]: 100%|████████████████████████| 352/352 [00:12<00:00, 27.85it/s, train_loss=0.762]\n",
      "[Valid]: 100%|███████████████████████| 40/40 [00:01<00:00, 32.51it/s, val_acc=36.9, val_loss=0.0269]\n"
     ]
    },
    {
     "name": "stdout",
     "output_type": "stream",
     "text": [
      "=======================================================================================================================================\n",
      "2024-05-18 22:51:30\n",
      "Epoch 15 / 30\n"
     ]
    },
    {
     "name": "stderr",
     "output_type": "stream",
     "text": [
      "[Train]: 100%|████████████████████████| 352/352 [00:11<00:00, 30.57it/s, train_loss=0.623]\n",
      "[Valid]: 100%|███████████████████████| 40/40 [00:01<00:00, 36.18it/s, val_acc=36.5, val_loss=0.0291]\n"
     ]
    },
    {
     "name": "stdout",
     "output_type": "stream",
     "text": [
      "=======================================================================================================================================\n",
      "2024-05-18 22:51:42\n",
      "Epoch 16 / 30\n"
     ]
    },
    {
     "name": "stderr",
     "output_type": "stream",
     "text": [
      "[Train]: 100%|████████████████████████| 352/352 [00:13<00:00, 26.25it/s, train_loss=0.512]\n",
      "[Valid]: 100%|███████████████████████| 40/40 [00:01<00:00, 33.27it/s, val_acc=36.4, val_loss=0.0314]\n"
     ]
    },
    {
     "name": "stdout",
     "output_type": "stream",
     "text": [
      "=======================================================================================================================================\n",
      "2024-05-18 22:51:57\n",
      "Epoch 17 / 30\n"
     ]
    },
    {
     "name": "stderr",
     "output_type": "stream",
     "text": [
      "[Train]: 100%|████████████████████████| 352/352 [00:12<00:00, 28.44it/s, train_loss=0.403]\n",
      "[Valid]: 100%|███████████████████████| 40/40 [00:01<00:00, 34.72it/s, val_acc=35.9, val_loss=0.0346]\n"
     ]
    },
    {
     "name": "stdout",
     "output_type": "stream",
     "text": [
      "=======================================================================================================================================\n",
      "2024-05-18 22:52:11\n",
      "Epoch 18 / 30\n"
     ]
    },
    {
     "name": "stderr",
     "output_type": "stream",
     "text": [
      "[Train]: 100%|████████████████████████| 352/352 [00:11<00:00, 29.73it/s, train_loss=0.358]\n",
      "[Valid]: 100%|███████████████████████| 40/40 [00:01<00:00, 33.46it/s, val_acc=35.7, val_loss=0.0361]\n"
     ]
    },
    {
     "name": "stdout",
     "output_type": "stream",
     "text": [
      "=======================================================================================================================================\n",
      "2024-05-18 22:52:24\n",
      "Epoch 19 / 30\n"
     ]
    },
    {
     "name": "stderr",
     "output_type": "stream",
     "text": [
      "[Train]: 100%|████████████████████████| 352/352 [00:12<00:00, 28.52it/s, train_loss=0.302]\n",
      "[Valid]: 100%|███████████████████████| 40/40 [00:01<00:00, 33.89it/s, val_acc=34.9, val_loss=0.0405]\n"
     ]
    },
    {
     "name": "stdout",
     "output_type": "stream",
     "text": [
      "=======================================================================================================================================\n",
      "2024-05-18 22:52:37\n",
      "Epoch 20 / 30\n"
     ]
    },
    {
     "name": "stderr",
     "output_type": "stream",
     "text": [
      "[Train]: 100%|████████████████████████| 352/352 [00:12<00:00, 27.34it/s, train_loss=0.245]\n",
      "[Valid]: 100%|███████████████████████| 40/40 [00:01<00:00, 35.80it/s, val_acc=36.7, val_loss=0.0417]\n"
     ]
    },
    {
     "name": "stdout",
     "output_type": "stream",
     "text": [
      "=======================================================================================================================================\n",
      "2024-05-18 22:52:51\n",
      "Epoch 21 / 30\n"
     ]
    },
    {
     "name": "stderr",
     "output_type": "stream",
     "text": [
      "[Train]: 100%|████████████████████████| 352/352 [00:12<00:00, 28.15it/s, train_loss=0.209]\n",
      "[Valid]: 100%|███████████████████████| 40/40 [00:01<00:00, 35.38it/s, val_acc=36.1, val_loss=0.0442]\n"
     ]
    },
    {
     "name": "stdout",
     "output_type": "stream",
     "text": [
      "=======================================================================================================================================\n",
      "2024-05-18 22:53:05\n",
      "Epoch 22 / 30\n"
     ]
    },
    {
     "name": "stderr",
     "output_type": "stream",
     "text": [
      "[Train]: 100%|████████████████████████| 352/352 [00:12<00:00, 28.02it/s, train_loss=0.173]\n",
      "[Valid]: 100%|███████████████████████| 40/40 [00:01<00:00, 35.57it/s, val_acc=35.7, val_loss=0.0467]\n"
     ]
    },
    {
     "name": "stdout",
     "output_type": "stream",
     "text": [
      "=======================================================================================================================================\n",
      "2024-05-18 22:53:18\n",
      "Epoch 23 / 30\n"
     ]
    },
    {
     "name": "stderr",
     "output_type": "stream",
     "text": [
      "[Train]: 100%|████████████████████████| 352/352 [00:13<00:00, 27.06it/s, train_loss=0.166]\n",
      "[Valid]: 100%|████████████████████████| 40/40 [00:01<00:00, 37.44it/s, val_acc=36.3, val_loss=0.047]\n"
     ]
    },
    {
     "name": "stdout",
     "output_type": "stream",
     "text": [
      "=======================================================================================================================================\n",
      "2024-05-18 22:53:33\n",
      "Epoch 24 / 30\n"
     ]
    },
    {
     "name": "stderr",
     "output_type": "stream",
     "text": [
      "[Train]: 100%|████████████████████████| 352/352 [00:11<00:00, 29.52it/s, train_loss=0.131]\n",
      "[Valid]: 100%|███████████████████████| 40/40 [00:01<00:00, 34.00it/s, val_acc=35.8, val_loss=0.0474]\n"
     ]
    },
    {
     "name": "stdout",
     "output_type": "stream",
     "text": [
      "=======================================================================================================================================\n",
      "2024-05-18 22:53:46\n",
      "Epoch 25 / 30\n"
     ]
    },
    {
     "name": "stderr",
     "output_type": "stream",
     "text": [
      "[Train]: 100%|████████████████████████| 352/352 [00:12<00:00, 28.20it/s, train_loss=0.123]\n",
      "[Valid]: 100%|███████████████████████| 40/40 [00:01<00:00, 34.75it/s, val_acc=36.1, val_loss=0.0505]\n"
     ]
    },
    {
     "name": "stdout",
     "output_type": "stream",
     "text": [
      "=======================================================================================================================================\n",
      "2024-05-18 22:53:59\n",
      "Epoch 26 / 30\n"
     ]
    },
    {
     "name": "stderr",
     "output_type": "stream",
     "text": [
      "[Train]: 100%|█████████████████████████| 352/352 [00:13<00:00, 26.41it/s, train_loss=0.12]\n",
      "[Valid]: 100%|███████████████████████| 40/40 [00:01<00:00, 33.01it/s, val_acc=35.9, val_loss=0.0528]\n"
     ]
    },
    {
     "name": "stdout",
     "output_type": "stream",
     "text": [
      "=======================================================================================================================================\n",
      "2024-05-18 22:54:14\n",
      "Epoch 27 / 30\n"
     ]
    },
    {
     "name": "stderr",
     "output_type": "stream",
     "text": [
      "[Train]: 100%|████████████████████████| 352/352 [00:12<00:00, 28.45it/s, train_loss=0.108]\n",
      "[Valid]: 100%|███████████████████████| 40/40 [00:01<00:00, 32.97it/s, val_acc=35.7, val_loss=0.0537]\n"
     ]
    },
    {
     "name": "stdout",
     "output_type": "stream",
     "text": [
      "=======================================================================================================================================\n",
      "2024-05-18 22:54:27\n",
      "Epoch 28 / 30\n"
     ]
    },
    {
     "name": "stderr",
     "output_type": "stream",
     "text": [
      "[Train]: 100%|████████████████████████| 352/352 [00:12<00:00, 28.16it/s, train_loss=0.119]\n",
      "[Valid]: 100%|███████████████████████| 40/40 [00:01<00:00, 34.31it/s, val_acc=36.1, val_loss=0.0553]\n"
     ]
    },
    {
     "name": "stdout",
     "output_type": "stream",
     "text": [
      "=======================================================================================================================================\n",
      "2024-05-18 22:54:41\n",
      "Epoch 29 / 30\n"
     ]
    },
    {
     "name": "stderr",
     "output_type": "stream",
     "text": [
      "[Train]: 100%|████████████████████████| 352/352 [00:13<00:00, 26.33it/s, train_loss=0.132]\n",
      "[Valid]: 100%|███████████████████████| 40/40 [00:01<00:00, 34.12it/s, val_acc=35.8, val_loss=0.0568]\n"
     ]
    },
    {
     "name": "stdout",
     "output_type": "stream",
     "text": [
      "=======================================================================================================================================\n",
      "2024-05-18 22:54:56\n",
      "Epoch 30 / 30\n"
     ]
    },
    {
     "name": "stderr",
     "output_type": "stream",
     "text": [
      "[Train]: 100%|████████████████████████| 352/352 [00:12<00:00, 28.14it/s, train_loss=0.102]\n",
      "[Valid]: 100%|██████████████████████████| 40/40 [00:01<00:00, 32.88it/s, val_acc=37, val_loss=0.058]\n"
     ]
    }
   ],
   "source": [
    "cnn_100 = CNN(input_channels=3, output_size=100)\n",
    "cnn_trainer_100 = CIFAR100Trainer(cnn_100, loss='CE', lr=0.01, optimizer='SGD', batch_size=128, epoch=30, model_type='classification')\n",
    "cnn_trainer_100.train()\n",
    "cnn_trainer_100.test()"
   ]
  },
  {
   "cell_type": "markdown",
   "id": "d3a71a93",
   "metadata": {},
   "source": [
    "# Train GatedCNN on CIFAR10/100\n",
    "GatedCNN has deeper network, let's what result we will get on CIFAR10/100. We use the same settings(lr, optimizer, bs and epoch) from the CNN training."
   ]
  },
  {
   "cell_type": "code",
   "execution_count": 2,
   "id": "68ae5b07",
   "metadata": {},
   "outputs": [],
   "source": [
    "import sys\n",
    "import torch.nn as nn\n",
    "sys.path.append('../tools')\n",
    "from CIFAR10 import CIFAR10Trainer\n",
    "from CIFAR100 import CIFAR100Trainer"
   ]
  },
  {
   "cell_type": "code",
   "execution_count": null,
   "id": "902e9ac3",
   "metadata": {
    "scrolled": true
   },
   "outputs": [
    {
     "name": "stdout",
     "output_type": "stream",
     "text": [
      "Files already downloaded and verified\n",
      "Files already downloaded and verified\n",
      "=======================================================================================================================================\n",
      "2024-05-18 22:57:18\n",
      "Epoch 1 / 30\n"
     ]
    },
    {
     "name": "stderr",
     "output_type": "stream",
     "text": [
      "[Train]: 100%|██████████████████████████| 352/352 [00:14<00:00, 23.73it/s, train_loss=1.7]\n",
      "[Valid]: 100%|███████████████████████| 40/40 [00:01<00:00, 29.74it/s, val_acc=43.5, val_loss=0.0125]\n"
     ]
    },
    {
     "name": "stdout",
     "output_type": "stream",
     "text": [
      "=======================================================================================================================================\n",
      "2024-05-18 22:57:34\n",
      "Epoch 2 / 30\n"
     ]
    },
    {
     "name": "stderr",
     "output_type": "stream",
     "text": [
      "[Train]: 100%|█████████████████████████| 352/352 [00:14<00:00, 24.39it/s, train_loss=1.42]\n",
      "[Valid]: 100%|███████████████████████| 40/40 [00:01<00:00, 30.63it/s, val_acc=52.6, val_loss=0.0107]\n"
     ]
    },
    {
     "name": "stdout",
     "output_type": "stream",
     "text": [
      "=======================================================================================================================================\n",
      "2024-05-18 22:57:50\n",
      "Epoch 3 / 30\n"
     ]
    },
    {
     "name": "stderr",
     "output_type": "stream",
     "text": [
      "[Train]: 100%|█████████████████████████| 352/352 [00:14<00:00, 24.13it/s, train_loss=1.27]\n",
      "[Valid]: 100%|███████████████████████| 40/40 [00:01<00:00, 30.79it/s, val_acc=54.6, val_loss=0.0102]\n"
     ]
    },
    {
     "name": "stdout",
     "output_type": "stream",
     "text": [
      "=======================================================================================================================================\n",
      "2024-05-18 22:58:06\n",
      "Epoch 4 / 30\n"
     ]
    },
    {
     "name": "stderr",
     "output_type": "stream",
     "text": [
      "[Train]: 100%|█████████████████████████| 352/352 [00:14<00:00, 24.09it/s, train_loss=1.17]\n",
      "[Valid]: 100%|██████████████████████| 40/40 [00:01<00:00, 29.84it/s, val_acc=59.3, val_loss=0.00925]\n"
     ]
    },
    {
     "name": "stdout",
     "output_type": "stream",
     "text": [
      "=======================================================================================================================================\n",
      "2024-05-18 22:58:22\n",
      "Epoch 5 / 30\n"
     ]
    },
    {
     "name": "stderr",
     "output_type": "stream",
     "text": [
      "[Train]: 100%|█████████████████████████| 352/352 [00:14<00:00, 23.99it/s, train_loss=1.07]\n",
      "[Valid]: 100%|██████████████████████| 40/40 [00:01<00:00, 30.36it/s, val_acc=60.3, val_loss=0.00885]\n"
     ]
    },
    {
     "name": "stdout",
     "output_type": "stream",
     "text": [
      "=======================================================================================================================================\n",
      "2024-05-18 22:58:38\n",
      "Epoch 6 / 30\n"
     ]
    },
    {
     "name": "stderr",
     "output_type": "stream",
     "text": [
      "[Train]: 100%|████████████████████████████| 352/352 [00:14<00:00, 23.52it/s, train_loss=1]\n",
      "[Valid]: 100%|██████████████████████| 40/40 [00:01<00:00, 29.66it/s, val_acc=63.9, val_loss=0.00811]\n"
     ]
    },
    {
     "name": "stdout",
     "output_type": "stream",
     "text": [
      "=======================================================================================================================================\n",
      "2024-05-18 22:58:54\n",
      "Epoch 7 / 30\n"
     ]
    },
    {
     "name": "stderr",
     "output_type": "stream",
     "text": [
      "[Train]: 100%|█████████████████████████| 352/352 [00:14<00:00, 23.62it/s, train_loss=0.94]\n",
      "[Valid]: 100%|██████████████████████| 40/40 [00:01<00:00, 29.80it/s, val_acc=65.8, val_loss=0.00785]\n"
     ]
    },
    {
     "name": "stdout",
     "output_type": "stream",
     "text": [
      "=======================================================================================================================================\n",
      "2024-05-18 22:59:10\n",
      "Epoch 8 / 30\n"
     ]
    },
    {
     "name": "stderr",
     "output_type": "stream",
     "text": [
      "[Train]: 100%|████████████████████████| 352/352 [00:15<00:00, 23.33it/s, train_loss=0.877]\n",
      "[Valid]: 100%|██████████████████████| 40/40 [00:01<00:00, 28.45it/s, val_acc=65.6, val_loss=0.00776]\n"
     ]
    },
    {
     "name": "stdout",
     "output_type": "stream",
     "text": [
      "=======================================================================================================================================\n",
      "2024-05-18 22:59:27\n",
      "Epoch 9 / 30\n"
     ]
    },
    {
     "name": "stderr",
     "output_type": "stream",
     "text": [
      "[Train]: 100%|████████████████████████| 352/352 [00:15<00:00, 22.73it/s, train_loss=0.826]\n",
      "[Valid]: 100%|██████████████████████| 40/40 [00:01<00:00, 28.61it/s, val_acc=64.6, val_loss=0.00802]\n"
     ]
    },
    {
     "name": "stdout",
     "output_type": "stream",
     "text": [
      "=======================================================================================================================================\n",
      "2024-05-18 22:59:44\n",
      "Epoch 10 / 30\n"
     ]
    },
    {
     "name": "stderr",
     "output_type": "stream",
     "text": [
      "[Train]: 100%|████████████████████████| 352/352 [00:15<00:00, 22.75it/s, train_loss=0.782]\n",
      "[Valid]: 100%|██████████████████████| 40/40 [00:01<00:00, 27.75it/s, val_acc=68.7, val_loss=0.00715]\n"
     ]
    },
    {
     "name": "stdout",
     "output_type": "stream",
     "text": [
      "=======================================================================================================================================\n",
      "2024-05-18 23:00:01\n",
      "Epoch 11 / 30\n"
     ]
    },
    {
     "name": "stderr",
     "output_type": "stream",
     "text": [
      "[Train]: 100%|████████████████████████| 352/352 [00:15<00:00, 22.55it/s, train_loss=0.724]\n",
      "[Valid]: 100%|██████████████████████| 40/40 [00:01<00:00, 28.47it/s, val_acc=66.4, val_loss=0.00779]\n"
     ]
    },
    {
     "name": "stdout",
     "output_type": "stream",
     "text": [
      "=======================================================================================================================================\n",
      "2024-05-18 23:00:18\n",
      "Epoch 12 / 30\n"
     ]
    },
    {
     "name": "stderr",
     "output_type": "stream",
     "text": [
      "[Train]: 100%|████████████████████████| 352/352 [00:15<00:00, 22.16it/s, train_loss=0.677]\n",
      "[Valid]: 100%|█████████████████████████| 40/40 [00:01<00:00, 28.07it/s, val_acc=69, val_loss=0.0072]\n"
     ]
    },
    {
     "name": "stdout",
     "output_type": "stream",
     "text": [
      "=======================================================================================================================================\n",
      "2024-05-18 23:00:35\n",
      "Epoch 13 / 30\n"
     ]
    },
    {
     "name": "stderr",
     "output_type": "stream",
     "text": [
      "[Train]: 100%|████████████████████████| 352/352 [00:15<00:00, 22.35it/s, train_loss=0.633]\n",
      "[Valid]: 100%|██████████████████████| 40/40 [00:01<00:00, 28.00it/s, val_acc=69.3, val_loss=0.00736]\n"
     ]
    },
    {
     "name": "stdout",
     "output_type": "stream",
     "text": [
      "=======================================================================================================================================\n",
      "2024-05-18 23:00:52\n",
      "Epoch 14 / 30\n"
     ]
    },
    {
     "name": "stderr",
     "output_type": "stream",
     "text": [
      "[Train]: 100%|████████████████████████| 352/352 [00:15<00:00, 22.31it/s, train_loss=0.579]\n",
      "[Valid]: 100%|██████████████████████| 40/40 [00:01<00:00, 28.00it/s, val_acc=69.2, val_loss=0.00751]\n"
     ]
    },
    {
     "name": "stdout",
     "output_type": "stream",
     "text": [
      "=======================================================================================================================================\n",
      "2024-05-18 23:01:09\n",
      "Epoch 15 / 30\n"
     ]
    },
    {
     "name": "stderr",
     "output_type": "stream",
     "text": [
      "[Train]: 100%|████████████████████████| 352/352 [00:15<00:00, 22.08it/s, train_loss=0.529]\n",
      "[Valid]: 100%|██████████████████████| 40/40 [00:01<00:00, 27.17it/s, val_acc=69.8, val_loss=0.00751]\n"
     ]
    },
    {
     "name": "stdout",
     "output_type": "stream",
     "text": [
      "=======================================================================================================================================\n",
      "2024-05-18 23:01:27\n",
      "Epoch 16 / 30\n"
     ]
    },
    {
     "name": "stderr",
     "output_type": "stream",
     "text": [
      "[Train]: 100%|████████████████████████| 352/352 [00:15<00:00, 22.08it/s, train_loss=0.482]\n",
      "[Valid]: 100%|██████████████████████| 40/40 [00:01<00:00, 27.57it/s, val_acc=71.3, val_loss=0.00727]\n"
     ]
    },
    {
     "name": "stdout",
     "output_type": "stream",
     "text": [
      "=======================================================================================================================================\n",
      "2024-05-18 23:01:44\n",
      "Epoch 17 / 30\n"
     ]
    },
    {
     "name": "stderr",
     "output_type": "stream",
     "text": [
      "[Train]: 100%|█████████████████████████| 352/352 [00:15<00:00, 22.25it/s, train_loss=0.43]\n",
      "[Valid]: 100%|██████████████████████| 40/40 [00:01<00:00, 27.85it/s, val_acc=69.9, val_loss=0.00801]\n"
     ]
    },
    {
     "name": "stdout",
     "output_type": "stream",
     "text": [
      "=======================================================================================================================================\n",
      "2024-05-18 23:02:02\n",
      "Epoch 18 / 30\n"
     ]
    },
    {
     "name": "stderr",
     "output_type": "stream",
     "text": [
      "[Train]: 100%|████████████████████████| 352/352 [00:15<00:00, 22.05it/s, train_loss=0.391]\n",
      "[Valid]: 100%|████████████████████████| 40/40 [00:01<00:00, 27.66it/s, val_acc=70, val_loss=0.00768]\n"
     ]
    },
    {
     "name": "stdout",
     "output_type": "stream",
     "text": [
      "=======================================================================================================================================\n",
      "2024-05-18 23:02:19\n",
      "Epoch 19 / 30\n"
     ]
    },
    {
     "name": "stderr",
     "output_type": "stream",
     "text": [
      "[Train]: 100%|████████████████████████| 352/352 [00:16<00:00, 21.78it/s, train_loss=0.335]\n",
      "[Valid]: 100%|██████████████████████| 40/40 [00:01<00:00, 27.65it/s, val_acc=68.5, val_loss=0.00855]\n"
     ]
    },
    {
     "name": "stdout",
     "output_type": "stream",
     "text": [
      "=======================================================================================================================================\n",
      "2024-05-18 23:02:37\n",
      "Epoch 20 / 30\n"
     ]
    },
    {
     "name": "stderr",
     "output_type": "stream",
     "text": [
      "[Train]: 100%|████████████████████████| 352/352 [00:16<00:00, 21.79it/s, train_loss=0.296]\n",
      "[Valid]: 100%|██████████████████████| 40/40 [00:01<00:00, 26.93it/s, val_acc=68.8, val_loss=0.00903]\n"
     ]
    },
    {
     "name": "stdout",
     "output_type": "stream",
     "text": [
      "=======================================================================================================================================\n",
      "2024-05-18 23:02:54\n",
      "Epoch 21 / 30\n"
     ]
    },
    {
     "name": "stderr",
     "output_type": "stream",
     "text": [
      "[Train]: 100%|████████████████████████| 352/352 [00:16<00:00, 21.67it/s, train_loss=0.261]\n",
      "[Valid]: 100%|██████████████████████| 40/40 [00:01<00:00, 27.41it/s, val_acc=69.7, val_loss=0.00963]\n"
     ]
    },
    {
     "name": "stdout",
     "output_type": "stream",
     "text": [
      "=======================================================================================================================================\n",
      "2024-05-18 23:03:12\n",
      "Epoch 22 / 30\n"
     ]
    },
    {
     "name": "stderr",
     "output_type": "stream",
     "text": [
      "[Train]: 100%|████████████████████████| 352/352 [00:16<00:00, 21.75it/s, train_loss=0.225]\n",
      "[Valid]: 100%|██████████████████████| 40/40 [00:01<00:00, 27.70it/s, val_acc=68.9, val_loss=0.00961]\n"
     ]
    },
    {
     "name": "stdout",
     "output_type": "stream",
     "text": [
      "=======================================================================================================================================\n",
      "2024-05-18 23:03:30\n",
      "Epoch 23 / 30\n"
     ]
    },
    {
     "name": "stderr",
     "output_type": "stream",
     "text": [
      "[Train]: 100%|█████████████████████████| 352/352 [00:16<00:00, 21.83it/s, train_loss=0.19]\n",
      "[Valid]: 100%|██████████████████████| 40/40 [00:01<00:00, 27.95it/s, val_acc=71.2, val_loss=0.00984]\n"
     ]
    },
    {
     "name": "stdout",
     "output_type": "stream",
     "text": [
      "=======================================================================================================================================\n",
      "2024-05-18 23:03:47\n",
      "Epoch 24 / 30\n"
     ]
    },
    {
     "name": "stderr",
     "output_type": "stream",
     "text": [
      "[Train]: 100%|████████████████████████| 352/352 [00:16<00:00, 21.80it/s, train_loss=0.165]\n",
      "[Valid]: 100%|████████████████████████| 40/40 [00:01<00:00, 27.07it/s, val_acc=69.7, val_loss=0.011]\n"
     ]
    },
    {
     "name": "stdout",
     "output_type": "stream",
     "text": [
      "=======================================================================================================================================\n",
      "2024-05-18 23:04:05\n",
      "Epoch 25 / 30\n"
     ]
    },
    {
     "name": "stderr",
     "output_type": "stream",
     "text": [
      "[Train]: 100%|█████████████████████████| 352/352 [00:16<00:00, 21.72it/s, train_loss=0.15]\n",
      "[Valid]: 100%|███████████████████████| 40/40 [00:01<00:00, 26.92it/s, val_acc=70.9, val_loss=0.0106]\n"
     ]
    },
    {
     "name": "stdout",
     "output_type": "stream",
     "text": [
      "=======================================================================================================================================\n",
      "2024-05-18 23:04:22\n",
      "Epoch 26 / 30\n"
     ]
    },
    {
     "name": "stderr",
     "output_type": "stream",
     "text": [
      "[Train]: 100%|████████████████████████| 352/352 [00:16<00:00, 21.37it/s, train_loss=0.115]\n",
      "[Valid]: 100%|█████████████████████████| 40/40 [00:01<00:00, 27.13it/s, val_acc=70, val_loss=0.0126]\n"
     ]
    },
    {
     "name": "stdout",
     "output_type": "stream",
     "text": [
      "=======================================================================================================================================\n",
      "2024-05-18 23:04:40\n",
      "Epoch 27 / 30\n"
     ]
    },
    {
     "name": "stderr",
     "output_type": "stream",
     "text": [
      "[Train]: 100%|████████████████████████| 352/352 [00:16<00:00, 21.65it/s, train_loss=0.117]\n",
      "[Valid]: 100%|███████████████████████| 40/40 [00:01<00:00, 27.35it/s, val_acc=70.3, val_loss=0.0123]\n"
     ]
    },
    {
     "name": "stdout",
     "output_type": "stream",
     "text": [
      "=======================================================================================================================================\n",
      "2024-05-18 23:04:58\n",
      "Epoch 28 / 30\n"
     ]
    },
    {
     "name": "stderr",
     "output_type": "stream",
     "text": [
      "[Train]: 100%|████████████████████████| 352/352 [00:16<00:00, 21.53it/s, train_loss=0.106]\n",
      "[Valid]: 100%|█████████████████████████| 40/40 [00:01<00:00, 26.66it/s, val_acc=70, val_loss=0.0118]\n"
     ]
    },
    {
     "name": "stdout",
     "output_type": "stream",
     "text": [
      "=======================================================================================================================================\n",
      "2024-05-18 23:05:16\n",
      "Epoch 29 / 30\n"
     ]
    },
    {
     "name": "stderr",
     "output_type": "stream",
     "text": [
      "[Train]: 100%|███████████████████████| 352/352 [00:16<00:00, 21.63it/s, train_loss=0.0881]\n",
      "[Valid]: 100%|███████████████████████| 40/40 [00:01<00:00, 27.00it/s, val_acc=68.9, val_loss=0.0137]\n"
     ]
    },
    {
     "name": "stdout",
     "output_type": "stream",
     "text": [
      "=======================================================================================================================================\n",
      "2024-05-18 23:05:34\n",
      "Epoch 30 / 30\n"
     ]
    },
    {
     "name": "stderr",
     "output_type": "stream",
     "text": [
      "[Train]: 100%|███████████████████████| 352/352 [00:16<00:00, 21.42it/s, train_loss=0.0845]\n",
      "[Valid]: 100%|███████████████████████| 40/40 [00:01<00:00, 26.48it/s, val_acc=70.9, val_loss=0.0131]\n"
     ]
    }
   ],
   "source": [
    "model = GatedCNN(input_channels=3, output_size=10)\n",
    "trainer = CIFAR10Trainer(model, loss='CE', lr=0.01, optimizer='SGD', batch_size=128, epoch=30, model_type='classification')\n",
    "trainer.train()\n",
    "trainer.test()"
   ]
  },
  {
   "cell_type": "code",
   "execution_count": null,
   "id": "eba093da",
   "metadata": {},
   "outputs": [
    {
     "name": "stdout",
     "output_type": "stream",
     "text": [
      "Files already downloaded and verified\n",
      "Files already downloaded and verified\n",
      "=======================================================================================================================================\n",
      "2024-05-18 23:06:43\n",
      "Epoch 1 / 30\n"
     ]
    },
    {
     "name": "stderr",
     "output_type": "stream",
     "text": [
      "[Train]: 100%|█████████████████████████| 352/352 [00:15<00:00, 23.13it/s, train_loss=4.03]\n",
      "[Valid]: 100%|█████████████████████████| 40/40 [00:01<00:00, 27.86it/s, val_acc=12, val_loss=0.0302]\n"
     ]
    },
    {
     "name": "stdout",
     "output_type": "stream",
     "text": [
      "=======================================================================================================================================\n",
      "2024-05-18 23:07:00\n",
      "Epoch 2 / 30\n"
     ]
    },
    {
     "name": "stderr",
     "output_type": "stream",
     "text": [
      "[Train]: 100%|█████████████████████████| 352/352 [00:15<00:00, 23.00it/s, train_loss=3.58]\n",
      "[Valid]: 100%|███████████████████████| 40/40 [00:01<00:00, 28.56it/s, val_acc=16.9, val_loss=0.0275]\n"
     ]
    },
    {
     "name": "stdout",
     "output_type": "stream",
     "text": [
      "=======================================================================================================================================\n",
      "2024-05-18 23:07:16\n",
      "Epoch 3 / 30\n"
     ]
    },
    {
     "name": "stderr",
     "output_type": "stream",
     "text": [
      "[Train]: 100%|██████████████████████████| 352/352 [00:15<00:00, 22.72it/s, train_loss=3.3]\n",
      "[Valid]: 100%|███████████████████████| 40/40 [00:01<00:00, 27.75it/s, val_acc=20.5, val_loss=0.0264]\n"
     ]
    },
    {
     "name": "stdout",
     "output_type": "stream",
     "text": [
      "=======================================================================================================================================\n",
      "2024-05-18 23:07:33\n",
      "Epoch 4 / 30\n"
     ]
    },
    {
     "name": "stderr",
     "output_type": "stream",
     "text": [
      "[Train]: 100%|█████████████████████████| 352/352 [00:15<00:00, 22.58it/s, train_loss=3.09]\n",
      "[Valid]: 100%|███████████████████████| 40/40 [00:01<00:00, 28.08it/s, val_acc=24.7, val_loss=0.0245]\n"
     ]
    },
    {
     "name": "stdout",
     "output_type": "stream",
     "text": [
      "=======================================================================================================================================\n",
      "2024-05-18 23:07:50\n",
      "Epoch 5 / 30\n"
     ]
    },
    {
     "name": "stderr",
     "output_type": "stream",
     "text": [
      "[Train]: 100%|█████████████████████████| 352/352 [00:15<00:00, 22.11it/s, train_loss=2.93]\n",
      "[Valid]: 100%|███████████████████████| 40/40 [00:01<00:00, 27.77it/s, val_acc=26.1, val_loss=0.0235]\n"
     ]
    },
    {
     "name": "stdout",
     "output_type": "stream",
     "text": [
      "=======================================================================================================================================\n",
      "2024-05-18 23:08:08\n",
      "Epoch 6 / 30\n"
     ]
    },
    {
     "name": "stderr",
     "output_type": "stream",
     "text": [
      "[Train]: 100%|██████████████████████████| 352/352 [00:15<00:00, 22.12it/s, train_loss=2.8]\n",
      "[Valid]: 100%|███████████████████████| 40/40 [00:01<00:00, 26.54it/s, val_acc=28.3, val_loss=0.0227]\n"
     ]
    },
    {
     "name": "stdout",
     "output_type": "stream",
     "text": [
      "=======================================================================================================================================\n",
      "2024-05-18 23:08:25\n",
      "Epoch 7 / 30\n"
     ]
    },
    {
     "name": "stderr",
     "output_type": "stream",
     "text": [
      "[Train]: 100%|█████████████████████████| 352/352 [00:16<00:00, 21.82it/s, train_loss=2.66]\n",
      "[Valid]: 100%|███████████████████████| 40/40 [00:01<00:00, 27.07it/s, val_acc=30.6, val_loss=0.0217]\n"
     ]
    },
    {
     "name": "stdout",
     "output_type": "stream",
     "text": [
      "=======================================================================================================================================\n",
      "2024-05-18 23:08:43\n",
      "Epoch 8 / 30\n"
     ]
    },
    {
     "name": "stderr",
     "output_type": "stream",
     "text": [
      "[Train]: 100%|█████████████████████████| 352/352 [00:16<00:00, 21.98it/s, train_loss=2.54]\n",
      "[Valid]: 100%|███████████████████████| 40/40 [00:01<00:00, 28.15it/s, val_acc=32.3, val_loss=0.0211]\n"
     ]
    },
    {
     "name": "stdout",
     "output_type": "stream",
     "text": [
      "=======================================================================================================================================\n",
      "2024-05-18 23:09:00\n",
      "Epoch 9 / 30\n"
     ]
    },
    {
     "name": "stderr",
     "output_type": "stream",
     "text": [
      "[Train]: 100%|█████████████████████████| 352/352 [00:15<00:00, 22.07it/s, train_loss=2.43]\n",
      "[Valid]: 100%|███████████████████████| 40/40 [00:01<00:00, 28.14it/s, val_acc=33.7, val_loss=0.0202]\n"
     ]
    },
    {
     "name": "stdout",
     "output_type": "stream",
     "text": [
      "=======================================================================================================================================\n",
      "2024-05-18 23:09:18\n",
      "Epoch 10 / 30\n"
     ]
    },
    {
     "name": "stderr",
     "output_type": "stream",
     "text": [
      "[Train]: 100%|█████████████████████████| 352/352 [00:16<00:00, 21.78it/s, train_loss=2.32]\n",
      "[Valid]: 100%|███████████████████████| 40/40 [00:01<00:00, 27.76it/s, val_acc=35.1, val_loss=0.0197]\n"
     ]
    },
    {
     "name": "stdout",
     "output_type": "stream",
     "text": [
      "=======================================================================================================================================\n",
      "2024-05-18 23:09:35\n",
      "Epoch 11 / 30\n"
     ]
    },
    {
     "name": "stderr",
     "output_type": "stream",
     "text": [
      "[Train]: 100%|█████████████████████████| 352/352 [00:16<00:00, 21.75it/s, train_loss=2.24]\n",
      "[Valid]: 100%|███████████████████████| 40/40 [00:01<00:00, 27.50it/s, val_acc=35.2, val_loss=0.0199]\n"
     ]
    },
    {
     "name": "stdout",
     "output_type": "stream",
     "text": [
      "=======================================================================================================================================\n",
      "2024-05-18 23:09:53\n",
      "Epoch 12 / 30\n"
     ]
    },
    {
     "name": "stderr",
     "output_type": "stream",
     "text": [
      "[Train]: 100%|█████████████████████████| 352/352 [00:16<00:00, 21.81it/s, train_loss=2.14]\n",
      "[Valid]: 100%|███████████████████████| 40/40 [00:01<00:00, 27.46it/s, val_acc=37.3, val_loss=0.0189]\n"
     ]
    },
    {
     "name": "stdout",
     "output_type": "stream",
     "text": [
      "=======================================================================================================================================\n",
      "2024-05-18 23:10:11\n",
      "Epoch 13 / 30\n"
     ]
    },
    {
     "name": "stderr",
     "output_type": "stream",
     "text": [
      "[Train]: 100%|█████████████████████████| 352/352 [00:16<00:00, 21.64it/s, train_loss=2.05]\n",
      "[Valid]: 100%|███████████████████████| 40/40 [00:01<00:00, 27.14it/s, val_acc=38.3, val_loss=0.0183]\n"
     ]
    },
    {
     "name": "stdout",
     "output_type": "stream",
     "text": [
      "=======================================================================================================================================\n",
      "2024-05-18 23:10:28\n",
      "Epoch 14 / 30\n"
     ]
    },
    {
     "name": "stderr",
     "output_type": "stream",
     "text": [
      "[Train]: 100%|█████████████████████████| 352/352 [00:16<00:00, 21.96it/s, train_loss=1.96]\n",
      "[Valid]: 100%|███████████████████████| 40/40 [00:01<00:00, 27.11it/s, val_acc=39.7, val_loss=0.0182]\n"
     ]
    },
    {
     "name": "stdout",
     "output_type": "stream",
     "text": [
      "=======================================================================================================================================\n",
      "2024-05-18 23:10:46\n",
      "Epoch 15 / 30\n"
     ]
    },
    {
     "name": "stderr",
     "output_type": "stream",
     "text": [
      "[Train]: 100%|█████████████████████████| 352/352 [00:16<00:00, 21.40it/s, train_loss=1.87]\n",
      "[Valid]: 100%|███████████████████████| 40/40 [00:01<00:00, 27.42it/s, val_acc=40.7, val_loss=0.0176]\n"
     ]
    },
    {
     "name": "stdout",
     "output_type": "stream",
     "text": [
      "=======================================================================================================================================\n",
      "2024-05-18 23:11:04\n",
      "Epoch 16 / 30\n"
     ]
    },
    {
     "name": "stderr",
     "output_type": "stream",
     "text": [
      "[Train]: 100%|█████████████████████████| 352/352 [00:16<00:00, 21.61it/s, train_loss=1.78]\n",
      "[Valid]: 100%|███████████████████████| 40/40 [00:01<00:00, 27.07it/s, val_acc=41.6, val_loss=0.0177]\n"
     ]
    },
    {
     "name": "stdout",
     "output_type": "stream",
     "text": [
      "=======================================================================================================================================\n",
      "2024-05-18 23:11:21\n",
      "Epoch 17 / 30\n"
     ]
    },
    {
     "name": "stderr",
     "output_type": "stream",
     "text": [
      "[Train]: 100%|██████████████████████████| 352/352 [00:16<00:00, 21.63it/s, train_loss=1.7]\n",
      "[Valid]: 100%|███████████████████████| 40/40 [00:01<00:00, 26.60it/s, val_acc=41.7, val_loss=0.0174]\n"
     ]
    },
    {
     "name": "stdout",
     "output_type": "stream",
     "text": [
      "=======================================================================================================================================\n",
      "2024-05-18 23:11:39\n",
      "Epoch 18 / 30\n"
     ]
    },
    {
     "name": "stderr",
     "output_type": "stream",
     "text": [
      "[Train]: 100%|█████████████████████████| 352/352 [00:16<00:00, 21.42it/s, train_loss=1.62]\n",
      "[Valid]: 100%|███████████████████████| 40/40 [00:01<00:00, 26.98it/s, val_acc=41.5, val_loss=0.0176]\n"
     ]
    },
    {
     "name": "stdout",
     "output_type": "stream",
     "text": [
      "=======================================================================================================================================\n",
      "2024-05-18 23:11:57\n",
      "Epoch 19 / 30\n"
     ]
    },
    {
     "name": "stderr",
     "output_type": "stream",
     "text": [
      "[Train]: 100%|█████████████████████████| 352/352 [00:16<00:00, 21.63it/s, train_loss=1.54]\n",
      "[Valid]: 100%|███████████████████████| 40/40 [00:01<00:00, 26.66it/s, val_acc=43.1, val_loss=0.0172]\n"
     ]
    },
    {
     "name": "stdout",
     "output_type": "stream",
     "text": [
      "=======================================================================================================================================\n",
      "2024-05-18 23:12:15\n",
      "Epoch 20 / 30\n"
     ]
    },
    {
     "name": "stderr",
     "output_type": "stream",
     "text": [
      "[Train]: 100%|█████████████████████████| 352/352 [00:16<00:00, 21.61it/s, train_loss=1.44]\n",
      "[Valid]: 100%|███████████████████████| 40/40 [00:01<00:00, 27.72it/s, val_acc=42.3, val_loss=0.0175]\n"
     ]
    },
    {
     "name": "stdout",
     "output_type": "stream",
     "text": [
      "=======================================================================================================================================\n",
      "2024-05-18 23:12:33\n",
      "Epoch 21 / 30\n"
     ]
    },
    {
     "name": "stderr",
     "output_type": "stream",
     "text": [
      "[Train]: 100%|█████████████████████████| 352/352 [00:16<00:00, 21.78it/s, train_loss=1.35]\n",
      "[Valid]: 100%|████████████████████████| 40/40 [00:01<00:00, 27.04it/s, val_acc=42.4, val_loss=0.018]\n"
     ]
    },
    {
     "name": "stdout",
     "output_type": "stream",
     "text": [
      "=======================================================================================================================================\n",
      "2024-05-18 23:12:50\n",
      "Epoch 22 / 30\n"
     ]
    },
    {
     "name": "stderr",
     "output_type": "stream",
     "text": [
      "[Train]: 100%|█████████████████████████| 352/352 [00:16<00:00, 21.64it/s, train_loss=1.26]\n",
      "[Valid]: 100%|████████████████████████| 40/40 [00:01<00:00, 27.30it/s, val_acc=43.5, val_loss=0.018]\n"
     ]
    },
    {
     "name": "stdout",
     "output_type": "stream",
     "text": [
      "=======================================================================================================================================\n",
      "2024-05-18 23:13:08\n",
      "Epoch 23 / 30\n"
     ]
    },
    {
     "name": "stderr",
     "output_type": "stream",
     "text": [
      "[Train]: 100%|█████████████████████████| 352/352 [00:16<00:00, 21.49it/s, train_loss=1.16]\n",
      "[Valid]: 100%|█████████████████████████| 40/40 [00:01<00:00, 25.97it/s, val_acc=43, val_loss=0.0185]\n"
     ]
    },
    {
     "name": "stdout",
     "output_type": "stream",
     "text": [
      "=======================================================================================================================================\n",
      "2024-05-18 23:13:26\n",
      "Epoch 24 / 30\n"
     ]
    },
    {
     "name": "stderr",
     "output_type": "stream",
     "text": [
      "[Train]: 100%|█████████████████████████| 352/352 [00:16<00:00, 21.70it/s, train_loss=1.07]\n",
      "[Valid]: 100%|███████████████████████| 40/40 [00:01<00:00, 27.26it/s, val_acc=41.5, val_loss=0.0192]\n"
     ]
    },
    {
     "name": "stdout",
     "output_type": "stream",
     "text": [
      "=======================================================================================================================================\n",
      "2024-05-18 23:13:44\n",
      "Epoch 25 / 30\n"
     ]
    },
    {
     "name": "stderr",
     "output_type": "stream",
     "text": [
      "[Train]: 100%|████████████████████████| 352/352 [00:16<00:00, 21.80it/s, train_loss=0.993]\n",
      "[Valid]: 100%|███████████████████████| 40/40 [00:01<00:00, 27.26it/s, val_acc=42.7, val_loss=0.0193]\n"
     ]
    },
    {
     "name": "stdout",
     "output_type": "stream",
     "text": [
      "=======================================================================================================================================\n",
      "2024-05-18 23:14:01\n",
      "Epoch 26 / 30\n"
     ]
    },
    {
     "name": "stderr",
     "output_type": "stream",
     "text": [
      "[Train]: 100%|████████████████████████| 352/352 [00:16<00:00, 21.59it/s, train_loss=0.899]\n",
      "[Valid]: 100%|███████████████████████| 40/40 [00:01<00:00, 27.62it/s, val_acc=42.6, val_loss=0.0202]\n"
     ]
    },
    {
     "name": "stdout",
     "output_type": "stream",
     "text": [
      "=======================================================================================================================================\n",
      "2024-05-18 23:14:19\n",
      "Epoch 27 / 30\n"
     ]
    },
    {
     "name": "stderr",
     "output_type": "stream",
     "text": [
      "[Train]: 100%|████████████████████████| 352/352 [00:16<00:00, 21.50it/s, train_loss=0.823]\n",
      "[Valid]: 100%|████████████████████████| 40/40 [00:01<00:00, 27.59it/s, val_acc=42.2, val_loss=0.021]\n"
     ]
    },
    {
     "name": "stdout",
     "output_type": "stream",
     "text": [
      "=======================================================================================================================================\n",
      "2024-05-18 23:14:37\n",
      "Epoch 28 / 30\n"
     ]
    },
    {
     "name": "stderr",
     "output_type": "stream",
     "text": [
      "[Train]: 100%|████████████████████████| 352/352 [00:16<00:00, 21.84it/s, train_loss=0.739]\n",
      "[Valid]: 100%|███████████████████████| 40/40 [00:01<00:00, 26.94it/s, val_acc=42.1, val_loss=0.0214]\n"
     ]
    },
    {
     "name": "stdout",
     "output_type": "stream",
     "text": [
      "=======================================================================================================================================\n",
      "2024-05-18 23:14:55\n",
      "Epoch 29 / 30\n"
     ]
    },
    {
     "name": "stderr",
     "output_type": "stream",
     "text": [
      "[Train]: 100%|████████████████████████| 352/352 [00:16<00:00, 21.57it/s, train_loss=0.653]\n",
      "[Valid]: 100%|████████████████████████| 40/40 [00:01<00:00, 27.49it/s, val_acc=42.1, val_loss=0.023]\n"
     ]
    },
    {
     "name": "stdout",
     "output_type": "stream",
     "text": [
      "=======================================================================================================================================\n",
      "2024-05-18 23:15:12\n",
      "Epoch 30 / 30\n"
     ]
    },
    {
     "name": "stderr",
     "output_type": "stream",
     "text": [
      "[Train]: 100%|████████████████████████| 352/352 [00:16<00:00, 21.77it/s, train_loss=0.595]\n",
      "[Valid]: 100%|████████████████████████| 40/40 [00:01<00:00, 26.94it/s, val_acc=41.8, val_loss=0.023]\n"
     ]
    }
   ],
   "source": [
    "model_100 = GatedCNN(input_channels=3, output_size=100)\n",
    "trainer_100 = CIFAR100Trainer(model_100, loss='CE', lr=0.01, optimizer='SGD', batch_size=128, epoch=30, model_type='classification')\n",
    "trainer_100.train()\n",
    "trainer_100.test()"
   ]
  }
 ],
 "metadata": {
  "kernelspec": {
   "display_name": "bdl",
   "language": "python",
   "name": "bdl"
  },
  "language_info": {
   "codemirror_mode": {
    "name": "ipython",
    "version": 3
   },
   "file_extension": ".py",
   "mimetype": "text/x-python",
   "name": "python",
   "nbconvert_exporter": "python",
   "pygments_lexer": "ipython3",
   "version": "3.8.19"
  }
 },
 "nbformat": 4,
 "nbformat_minor": 5
}
