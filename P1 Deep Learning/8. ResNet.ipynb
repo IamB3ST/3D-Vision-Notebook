{
 "cells": [
  {
   "cell_type": "markdown",
   "id": "40964c20",
   "metadata": {},
   "source": [
    "# ResNet"
   ]
  },
  {
   "cell_type": "markdown",
   "id": "0eb45603",
   "metadata": {},
   "source": [
    "<div style=\"display: flex; align-items: center;\">\n",
    "    <img src=\"../imgs/ResNet.jpg\" alt=\"Your Image\" width=\"500\" style=\"margin-right: 20px;\">\n",
    "    <div>\n",
    "        <p>In chapter 7, we introduced a new dataset CIFAR, and tried to challenge it, but the result is limited by using the current knowledge we had learned. In the following chapters, we will aim to achieve a accuracy with 95% on both CIFAR10 and CIFAR100 and continuously introduce new models. In this chapter, we will introduce ResNet.</p>\n",
    "        <p>From experience, the depth of the network is crucial to the performance of the model. When the number of network layers is increased, the network can extract more complex feature patterns, so theoretically, better results can be achieved when the model is deeper. But will deeper networks necessarily have better performance? As the depth of the network increases, the accuracy of the network saturates or even decreases.\n",
    "</p>\n",
    "        <p>The degradation problem of deep networks at least indicates that deep networks are not easy to train. Residual learning solves the problem of difficult training and even degradation of networks, making it easier to learn the original features directly compared to residual learning. When the residual is 0, the stacked layer only performs identity mapping, at least the network performance will not decrease. In fact, the residual will not be 0, which will enable the stacked layer to learn new features based on the input features, thus having better performance. This is somewhat similar to a \"short circuit\" in a circuit, so it is a short circuit connection.</p>\n",
    "        <p></p>\n",
    "    </div>\n",
    "</div>"
   ]
  },
  {
   "cell_type": "markdown",
   "id": "575aafec",
   "metadata": {},
   "source": [
    "## ResNet"
   ]
  },
  {
   "cell_type": "code",
   "execution_count": 1,
   "id": "3d26cb9c",
   "metadata": {},
   "outputs": [],
   "source": [
    "import torch\n",
    "import torch.nn as nn\n",
    "import torch.nn.functional as F\n",
    "\n",
    "class ResNet(nn.Module):\n",
    "    def __init__(self, input_channels, output_size):\n",
    "        super(ResNet, self).__init__()\n",
    "        self.in_channels = 64\n",
    "        \n",
    "        self.conv1 = nn.Conv2d(input_channels, self.in_channels, kernel_size=7, stride=2, padding=3, bias=False)\n",
    "        self.bn1 = nn.BatchNorm2d(self.in_channels)\n",
    "        self.relu = nn.ReLU(inplace=True)\n",
    "        self.maxpool = nn.MaxPool2d(kernel_size=3, stride=2, padding=1)\n",
    "        \n",
    "        self.blocks_layer = nn.Sequential(\n",
    "            self._make_layer(64),\n",
    "            self._make_layer(128, stride=2),\n",
    "            self._make_layer(256, stride=2)\n",
    "        )\n",
    "        \n",
    "        self.avgpool = nn.AdaptiveAvgPool2d((1, 1))\n",
    "        self.fc = nn.Linear(256, output_size)\n",
    "\n",
    "    def _make_layer(self, out_channels, stride=1):\n",
    "        layers = []\n",
    "        layers.append(BasicBlock(self.in_channels, out_channels, stride))\n",
    "        self.in_channels = out_channels\n",
    "        layers.append(BasicBlock(self.in_channels, out_channels))\n",
    "        return nn.Sequential(*layers)\n",
    "\n",
    "    def forward(self, x):\n",
    "        x = self.conv1(x)\n",
    "        x = self.bn1(x)\n",
    "        x = self.relu(x)\n",
    "        x = self.maxpool(x)\n",
    "        x = self.blocks_layer(x)\n",
    "        x = self.avgpool(x)\n",
    "        x = torch.flatten(x, 1)\n",
    "        x = self.fc(x)\n",
    "        return x\n",
    "\n",
    "class BasicBlock(nn.Module):\n",
    "    def __init__(self, in_channels, out_channels, stride=1):\n",
    "        super(BasicBlock, self).__init__()\n",
    "        self.conv1 = nn.Conv2d(in_channels, out_channels, kernel_size=3, stride=stride, padding=1, bias=False)\n",
    "        self.bn1 = nn.BatchNorm2d(out_channels)\n",
    "        self.relu = nn.ReLU(inplace=True)\n",
    "        self.conv2 = nn.Conv2d(out_channels, out_channels, kernel_size=3, stride=1, padding=1, bias=False)\n",
    "        self.bn2 = nn.BatchNorm2d(out_channels)\n",
    "\n",
    "        self.shortcut = nn.Sequential()\n",
    "        if stride != 1 or in_channels != out_channels:\n",
    "            self.shortcut = nn.Sequential(\n",
    "                nn.Conv2d(in_channels, out_channels, kernel_size=1, stride=stride, bias=False),\n",
    "                nn.BatchNorm2d(out_channels)\n",
    "            )\n",
    "\n",
    "    def forward(self, x):\n",
    "        identity = x\n",
    "        out = self.conv1(x)\n",
    "        out = self.bn1(out)\n",
    "        out = self.relu(out)\n",
    "        out = self.conv2(out)\n",
    "        out = self.bn2(out)\n",
    "        out += self.shortcut(identity)\n",
    "        out = self.relu(out)\n",
    "        return out"
   ]
  },
  {
   "cell_type": "markdown",
   "id": "f751d18f",
   "metadata": {},
   "source": [
    "# Train ResNet on CIFAR10/100"
   ]
  },
  {
   "cell_type": "code",
   "execution_count": 2,
   "id": "fe0b81e3",
   "metadata": {},
   "outputs": [],
   "source": [
    "import sys\n",
    "import torch.nn as nn\n",
    "sys.path.append('../tools')\n",
    "from CIFAR10 import CIFAR10Trainer\n",
    "from CIFAR100 import CIFAR100Trainer"
   ]
  },
  {
   "cell_type": "code",
   "execution_count": null,
   "id": "8dfdbec1",
   "metadata": {
    "scrolled": true
   },
   "outputs": [
    {
     "name": "stdout",
     "output_type": "stream",
     "text": [
      "Files already downloaded and verified\n",
      "Files already downloaded and verified\n",
      "=======================================================================================================================================\n",
      "2024-05-20 00:18:28\n",
      "Epoch 1 / 30\n"
     ]
    },
    {
     "name": "stderr",
     "output_type": "stream",
     "text": [
      "[Train]: 100%|█████████████████████████| 352/352 [00:13<00:00, 26.19it/s, train_loss=1.34]\n",
      "[Valid]: 100%|██████████████████████| 40/40 [00:01<00:00, 31.92it/s, val_acc=59.2, val_loss=0.00917]\n"
     ]
    },
    {
     "name": "stdout",
     "output_type": "stream",
     "text": [
      "=======================================================================================================================================\n",
      "2024-05-20 00:18:42\n",
      "Epoch 2 / 30\n"
     ]
    },
    {
     "name": "stderr",
     "output_type": "stream",
     "text": [
      "[Train]: 100%|████████████████████████| 352/352 [00:13<00:00, 25.55it/s, train_loss=0.924]\n",
      "[Valid]: 100%|██████████████████████| 40/40 [00:01<00:00, 33.29it/s, val_acc=66.9, val_loss=0.00749]\n"
     ]
    },
    {
     "name": "stdout",
     "output_type": "stream",
     "text": [
      "=======================================================================================================================================\n",
      "2024-05-20 00:18:57\n",
      "Epoch 3 / 30\n"
     ]
    },
    {
     "name": "stderr",
     "output_type": "stream",
     "text": [
      "[Train]: 100%|████████████████████████| 352/352 [00:14<00:00, 24.98it/s, train_loss=0.738]\n",
      "[Valid]: 100%|██████████████████████| 40/40 [00:01<00:00, 31.70it/s, val_acc=71.6, val_loss=0.00646]\n"
     ]
    },
    {
     "name": "stdout",
     "output_type": "stream",
     "text": [
      "=======================================================================================================================================\n",
      "2024-05-20 00:19:13\n",
      "Epoch 4 / 30\n"
     ]
    },
    {
     "name": "stderr",
     "output_type": "stream",
     "text": [
      "[Train]: 100%|████████████████████████| 352/352 [00:14<00:00, 24.69it/s, train_loss=0.615]\n",
      "[Valid]: 100%|██████████████████████| 40/40 [00:01<00:00, 31.50it/s, val_acc=73.7, val_loss=0.00612]\n"
     ]
    },
    {
     "name": "stdout",
     "output_type": "stream",
     "text": [
      "=======================================================================================================================================\n",
      "2024-05-20 00:19:28\n",
      "Epoch 5 / 30\n"
     ]
    },
    {
     "name": "stderr",
     "output_type": "stream",
     "text": [
      "[Train]: 100%|████████████████████████| 352/352 [00:14<00:00, 24.78it/s, train_loss=0.495]\n",
      "[Valid]: 100%|██████████████████████| 40/40 [00:01<00:00, 32.70it/s, val_acc=73.5, val_loss=0.00621]\n"
     ]
    },
    {
     "name": "stdout",
     "output_type": "stream",
     "text": [
      "=======================================================================================================================================\n",
      "2024-05-20 00:19:44\n",
      "Epoch 6 / 30\n"
     ]
    },
    {
     "name": "stderr",
     "output_type": "stream",
     "text": [
      "[Train]: 100%|████████████████████████| 352/352 [00:13<00:00, 25.24it/s, train_loss=0.393]\n",
      "[Valid]: 100%|██████████████████████| 40/40 [00:01<00:00, 32.22it/s, val_acc=72.5, val_loss=0.00689]\n"
     ]
    },
    {
     "name": "stdout",
     "output_type": "stream",
     "text": [
      "=======================================================================================================================================\n",
      "2024-05-20 00:19:59\n",
      "Epoch 7 / 30\n"
     ]
    },
    {
     "name": "stderr",
     "output_type": "stream",
     "text": [
      "[Train]: 100%|████████████████████████| 352/352 [00:13<00:00, 25.50it/s, train_loss=0.314]\n",
      "[Valid]: 100%|██████████████████████| 40/40 [00:01<00:00, 32.56it/s, val_acc=73.8, val_loss=0.00689]\n"
     ]
    },
    {
     "name": "stdout",
     "output_type": "stream",
     "text": [
      "=======================================================================================================================================\n",
      "2024-05-20 00:20:14\n",
      "Epoch 8 / 30\n"
     ]
    },
    {
     "name": "stderr",
     "output_type": "stream",
     "text": [
      "[Train]: 100%|████████████████████████| 352/352 [00:14<00:00, 24.61it/s, train_loss=0.247]\n",
      "[Valid]: 100%|██████████████████████| 40/40 [00:01<00:00, 31.64it/s, val_acc=75.2, val_loss=0.00718]\n"
     ]
    },
    {
     "name": "stdout",
     "output_type": "stream",
     "text": [
      "=======================================================================================================================================\n",
      "2024-05-20 00:20:30\n",
      "Epoch 9 / 30\n"
     ]
    },
    {
     "name": "stderr",
     "output_type": "stream",
     "text": [
      "[Train]: 100%|█████████████████████████| 352/352 [00:14<00:00, 24.78it/s, train_loss=0.19]\n",
      "[Valid]: 100%|██████████████████████| 40/40 [00:01<00:00, 32.12it/s, val_acc=72.9, val_loss=0.00796]\n"
     ]
    },
    {
     "name": "stdout",
     "output_type": "stream",
     "text": [
      "=======================================================================================================================================\n",
      "2024-05-20 00:20:45\n",
      "Epoch 10 / 30\n"
     ]
    },
    {
     "name": "stderr",
     "output_type": "stream",
     "text": [
      "[Train]: 100%|████████████████████████| 352/352 [00:14<00:00, 24.28it/s, train_loss=0.153]\n",
      "[Valid]: 100%|██████████████████████| 40/40 [00:01<00:00, 31.72it/s, val_acc=72.9, val_loss=0.00881]\n"
     ]
    },
    {
     "name": "stdout",
     "output_type": "stream",
     "text": [
      "=======================================================================================================================================\n",
      "2024-05-20 00:21:01\n",
      "Epoch 11 / 30\n"
     ]
    },
    {
     "name": "stderr",
     "output_type": "stream",
     "text": [
      "[Train]: 100%|████████████████████████| 352/352 [00:14<00:00, 24.55it/s, train_loss=0.114]\n",
      "[Valid]: 100%|██████████████████████| 40/40 [00:01<00:00, 31.37it/s, val_acc=73.7, val_loss=0.00873]\n"
     ]
    },
    {
     "name": "stdout",
     "output_type": "stream",
     "text": [
      "=======================================================================================================================================\n",
      "2024-05-20 00:21:16\n",
      "Epoch 12 / 30\n"
     ]
    },
    {
     "name": "stderr",
     "output_type": "stream",
     "text": [
      "[Train]: 100%|████████████████████████| 352/352 [00:14<00:00, 24.84it/s, train_loss=0.096]\n",
      "[Valid]: 100%|██████████████████████| 40/40 [00:01<00:00, 30.54it/s, val_acc=74.6, val_loss=0.00865]\n"
     ]
    },
    {
     "name": "stdout",
     "output_type": "stream",
     "text": [
      "=======================================================================================================================================\n",
      "2024-05-20 00:21:32\n",
      "Epoch 13 / 30\n"
     ]
    },
    {
     "name": "stderr",
     "output_type": "stream",
     "text": [
      "[Train]: 100%|███████████████████████| 352/352 [00:14<00:00, 24.64it/s, train_loss=0.0716]\n",
      "[Valid]: 100%|██████████████████████| 40/40 [00:01<00:00, 31.09it/s, val_acc=75.5, val_loss=0.00911]\n"
     ]
    },
    {
     "name": "stdout",
     "output_type": "stream",
     "text": [
      "=======================================================================================================================================\n",
      "2024-05-20 00:21:47\n",
      "Epoch 14 / 30\n"
     ]
    },
    {
     "name": "stderr",
     "output_type": "stream",
     "text": [
      "[Train]: 100%|███████████████████████| 352/352 [00:14<00:00, 24.53it/s, train_loss=0.0659]\n",
      "[Valid]: 100%|█████████████████████████| 40/40 [00:01<00:00, 30.95it/s, val_acc=74, val_loss=0.0102]\n"
     ]
    },
    {
     "name": "stdout",
     "output_type": "stream",
     "text": [
      "=======================================================================================================================================\n",
      "2024-05-20 00:22:03\n",
      "Epoch 15 / 30\n"
     ]
    },
    {
     "name": "stderr",
     "output_type": "stream",
     "text": [
      "[Train]: 100%|███████████████████████| 352/352 [00:14<00:00, 23.99it/s, train_loss=0.0635]\n",
      "[Valid]: 100%|███████████████████████| 40/40 [00:01<00:00, 32.20it/s, val_acc=75.4, val_loss=0.0096]\n"
     ]
    },
    {
     "name": "stdout",
     "output_type": "stream",
     "text": [
      "=======================================================================================================================================\n",
      "2024-05-20 00:22:19\n",
      "Epoch 16 / 30\n"
     ]
    },
    {
     "name": "stderr",
     "output_type": "stream",
     "text": [
      "[Train]: 100%|███████████████████████| 352/352 [00:14<00:00, 24.15it/s, train_loss=0.0514]\n",
      "[Valid]: 100%|██████████████████████| 40/40 [00:01<00:00, 31.10it/s, val_acc=76.4, val_loss=0.00985]\n"
     ]
    },
    {
     "name": "stdout",
     "output_type": "stream",
     "text": [
      "=======================================================================================================================================\n",
      "2024-05-20 00:22:35\n",
      "Epoch 17 / 30\n"
     ]
    },
    {
     "name": "stderr",
     "output_type": "stream",
     "text": [
      "[Train]: 100%|███████████████████████| 352/352 [00:14<00:00, 24.35it/s, train_loss=0.0337]\n",
      "[Valid]: 100%|██████████████████████| 40/40 [00:01<00:00, 30.65it/s, val_acc=77.2, val_loss=0.00951]\n"
     ]
    },
    {
     "name": "stdout",
     "output_type": "stream",
     "text": [
      "=======================================================================================================================================\n",
      "2024-05-20 00:22:51\n",
      "Epoch 18 / 30\n"
     ]
    },
    {
     "name": "stderr",
     "output_type": "stream",
     "text": [
      "[Train]: 100%|███████████████████████| 352/352 [00:14<00:00, 24.57it/s, train_loss=0.0197]\n",
      "[Valid]: 100%|██████████████████████| 40/40 [00:01<00:00, 31.14it/s, val_acc=77.2, val_loss=0.00988]\n"
     ]
    },
    {
     "name": "stdout",
     "output_type": "stream",
     "text": [
      "=======================================================================================================================================\n",
      "2024-05-20 00:23:06\n",
      "Epoch 19 / 30\n"
     ]
    },
    {
     "name": "stderr",
     "output_type": "stream",
     "text": [
      "[Train]: 100%|███████████████████████| 352/352 [00:14<00:00, 24.35it/s, train_loss=0.0136]\n",
      "[Valid]: 100%|███████████████████████| 40/40 [00:01<00:00, 32.03it/s, val_acc=77.6, val_loss=0.0102]\n"
     ]
    },
    {
     "name": "stdout",
     "output_type": "stream",
     "text": [
      "=======================================================================================================================================\n",
      "2024-05-20 00:23:22\n",
      "Epoch 20 / 30\n"
     ]
    },
    {
     "name": "stderr",
     "output_type": "stream",
     "text": [
      "[Train]: 100%|██████████████████████| 352/352 [00:14<00:00, 24.83it/s, train_loss=0.00695]\n",
      "[Valid]: 100%|███████████████████████| 40/40 [00:01<00:00, 31.13it/s, val_acc=77.4, val_loss=0.0103]\n"
     ]
    },
    {
     "name": "stdout",
     "output_type": "stream",
     "text": [
      "=======================================================================================================================================\n",
      "2024-05-20 00:23:37\n",
      "Epoch 21 / 30\n"
     ]
    },
    {
     "name": "stderr",
     "output_type": "stream",
     "text": [
      "[Train]: 100%|██████████████████████| 352/352 [00:14<00:00, 24.01it/s, train_loss=0.00812]\n",
      "[Valid]: 100%|███████████████████████| 40/40 [00:01<00:00, 31.23it/s, val_acc=76.9, val_loss=0.0111]\n"
     ]
    },
    {
     "name": "stdout",
     "output_type": "stream",
     "text": [
      "=======================================================================================================================================\n",
      "2024-05-20 00:23:53\n",
      "Epoch 22 / 30\n"
     ]
    },
    {
     "name": "stderr",
     "output_type": "stream",
     "text": [
      "[Train]: 100%|███████████████████████| 352/352 [00:14<00:00, 24.16it/s, train_loss=0.0136]\n",
      "[Valid]: 100%|███████████████████████| 40/40 [00:01<00:00, 29.97it/s, val_acc=76.2, val_loss=0.0114]\n"
     ]
    },
    {
     "name": "stdout",
     "output_type": "stream",
     "text": [
      "=======================================================================================================================================\n",
      "2024-05-20 00:24:09\n",
      "Epoch 23 / 30\n"
     ]
    },
    {
     "name": "stderr",
     "output_type": "stream",
     "text": [
      "[Train]: 100%|███████████████████████| 352/352 [00:14<00:00, 23.95it/s, train_loss=0.0262]\n",
      "[Valid]: 100%|███████████████████████| 40/40 [00:01<00:00, 29.85it/s, val_acc=75.2, val_loss=0.0116]\n"
     ]
    },
    {
     "name": "stdout",
     "output_type": "stream",
     "text": [
      "=======================================================================================================================================\n",
      "2024-05-20 00:24:25\n",
      "Epoch 24 / 30\n"
     ]
    },
    {
     "name": "stderr",
     "output_type": "stream",
     "text": [
      "[Train]: 100%|███████████████████████| 352/352 [00:14<00:00, 24.31it/s, train_loss=0.0489]\n",
      "[Valid]: 100%|███████████████████████| 40/40 [00:01<00:00, 31.40it/s, val_acc=75.2, val_loss=0.0113]\n"
     ]
    },
    {
     "name": "stdout",
     "output_type": "stream",
     "text": [
      "=======================================================================================================================================\n",
      "2024-05-20 00:24:41\n",
      "Epoch 25 / 30\n"
     ]
    },
    {
     "name": "stderr",
     "output_type": "stream",
     "text": [
      "[Train]: 100%|███████████████████████| 352/352 [00:14<00:00, 24.52it/s, train_loss=0.0389]\n",
      "[Valid]: 100%|███████████████████████| 40/40 [00:01<00:00, 31.04it/s, val_acc=76.3, val_loss=0.0106]\n"
     ]
    },
    {
     "name": "stdout",
     "output_type": "stream",
     "text": [
      "=======================================================================================================================================\n",
      "2024-05-20 00:24:57\n",
      "Epoch 26 / 30\n"
     ]
    },
    {
     "name": "stderr",
     "output_type": "stream",
     "text": [
      "[Train]: 100%|███████████████████████| 352/352 [00:14<00:00, 24.29it/s, train_loss=0.0218]\n",
      "[Valid]: 100%|███████████████████████| 40/40 [00:01<00:00, 31.57it/s, val_acc=76.3, val_loss=0.0106]\n"
     ]
    },
    {
     "name": "stdout",
     "output_type": "stream",
     "text": [
      "=======================================================================================================================================\n",
      "2024-05-20 00:25:13\n",
      "Epoch 27 / 30\n"
     ]
    },
    {
     "name": "stderr",
     "output_type": "stream",
     "text": [
      "[Train]: 100%|███████████████████████| 352/352 [00:14<00:00, 24.02it/s, train_loss=0.0128]\n",
      "[Valid]: 100%|███████████████████████| 40/40 [00:01<00:00, 30.80it/s, val_acc=76.7, val_loss=0.0107]\n"
     ]
    },
    {
     "name": "stdout",
     "output_type": "stream",
     "text": [
      "=======================================================================================================================================\n",
      "2024-05-20 00:25:29\n",
      "Epoch 28 / 30\n"
     ]
    },
    {
     "name": "stderr",
     "output_type": "stream",
     "text": [
      "[Train]: 100%|██████████████████████| 352/352 [00:14<00:00, 24.08it/s, train_loss=0.00491]\n",
      "[Valid]: 100%|███████████████████████| 40/40 [00:01<00:00, 32.17it/s, val_acc=77.7, val_loss=0.0104]\n"
     ]
    },
    {
     "name": "stdout",
     "output_type": "stream",
     "text": [
      "=======================================================================================================================================\n",
      "2024-05-20 00:25:44\n",
      "Epoch 29 / 30\n"
     ]
    },
    {
     "name": "stderr",
     "output_type": "stream",
     "text": [
      "[Train]: 100%|███████████████████████| 352/352 [00:14<00:00, 24.14it/s, train_loss=0.0021]\n",
      "[Valid]: 100%|███████████████████████| 40/40 [00:01<00:00, 31.05it/s, val_acc=77.9, val_loss=0.0107]\n"
     ]
    },
    {
     "name": "stdout",
     "output_type": "stream",
     "text": [
      "=======================================================================================================================================\n",
      "2024-05-20 00:26:00\n",
      "Epoch 30 / 30\n"
     ]
    },
    {
     "name": "stderr",
     "output_type": "stream",
     "text": [
      "[Train]: 100%|███████████████████████| 352/352 [00:14<00:00, 23.91it/s, train_loss=0.0011]\n",
      "[Valid]: 100%|███████████████████████| 40/40 [00:01<00:00, 30.56it/s, val_acc=78.3, val_loss=0.0107]\n"
     ]
    }
   ],
   "source": [
    "model = ResNet(input_channels=3, output_size=10)\n",
    "trainer = CIFAR10Trainer(model, loss='CE', lr=0.01, optimizer='SGD', batch_size=128, epoch=30, model_type='classification')\n",
    "trainer.train()\n",
    "trainer.test()"
   ]
  },
  {
   "cell_type": "code",
   "execution_count": null,
   "id": "edb573b4",
   "metadata": {
    "scrolled": true
   },
   "outputs": [
    {
     "name": "stdout",
     "output_type": "stream",
     "text": [
      "Files already downloaded and verified\n",
      "Files already downloaded and verified\n",
      "=======================================================================================================================================\n",
      "2024-05-20 00:27:53\n",
      "Epoch 1 / 30\n"
     ]
    },
    {
     "name": "stderr",
     "output_type": "stream",
     "text": [
      "[Train]: 100%|█████████████████████████| 352/352 [00:13<00:00, 26.26it/s, train_loss=3.49]\n",
      "[Valid]: 100%|███████████████████████| 40/40 [00:01<00:00, 30.64it/s, val_acc=22.1, val_loss=0.0254]\n"
     ]
    },
    {
     "name": "stdout",
     "output_type": "stream",
     "text": [
      "=======================================================================================================================================\n",
      "2024-05-20 00:28:08\n",
      "Epoch 2 / 30\n"
     ]
    },
    {
     "name": "stderr",
     "output_type": "stream",
     "text": [
      "[Train]: 100%|██████████████████████████| 352/352 [00:13<00:00, 26.09it/s, train_loss=2.7]\n",
      "[Valid]: 100%|███████████████████████| 40/40 [00:01<00:00, 32.79it/s, val_acc=31.8, val_loss=0.0212]\n"
     ]
    },
    {
     "name": "stdout",
     "output_type": "stream",
     "text": [
      "=======================================================================================================================================\n",
      "2024-05-20 00:28:23\n",
      "Epoch 3 / 30\n"
     ]
    },
    {
     "name": "stderr",
     "output_type": "stream",
     "text": [
      "[Train]: 100%|██████████████████████████| 352/352 [00:14<00:00, 25.04it/s, train_loss=2.3]\n",
      "[Valid]: 100%|█████████████████████████| 40/40 [00:01<00:00, 32.03it/s, val_acc=35.1, val_loss=0.02]\n"
     ]
    },
    {
     "name": "stdout",
     "output_type": "stream",
     "text": [
      "=======================================================================================================================================\n",
      "2024-05-20 00:28:38\n",
      "Epoch 4 / 30\n"
     ]
    },
    {
     "name": "stderr",
     "output_type": "stream",
     "text": [
      "[Train]: 100%|█████████████████████████| 352/352 [00:13<00:00, 25.21it/s, train_loss=1.99]\n",
      "[Valid]: 100%|███████████████████████| 40/40 [00:01<00:00, 32.55it/s, val_acc=37.6, val_loss=0.0191]\n"
     ]
    },
    {
     "name": "stdout",
     "output_type": "stream",
     "text": [
      "=======================================================================================================================================\n",
      "2024-05-20 00:28:53\n",
      "Epoch 5 / 30\n"
     ]
    },
    {
     "name": "stderr",
     "output_type": "stream",
     "text": [
      "[Train]: 100%|█████████████████████████| 352/352 [00:14<00:00, 24.80it/s, train_loss=1.71]\n",
      "[Valid]: 100%|████████████████████████| 40/40 [00:01<00:00, 32.83it/s, val_acc=39.3, val_loss=0.019]\n"
     ]
    },
    {
     "name": "stdout",
     "output_type": "stream",
     "text": [
      "=======================================================================================================================================\n",
      "2024-05-20 00:29:08\n",
      "Epoch 6 / 30\n"
     ]
    },
    {
     "name": "stderr",
     "output_type": "stream",
     "text": [
      "[Train]: 100%|█████████████████████████| 352/352 [00:14<00:00, 25.07it/s, train_loss=1.46]\n",
      "[Valid]: 100%|███████████████████████| 40/40 [00:01<00:00, 31.61it/s, val_acc=41.3, val_loss=0.0185]\n"
     ]
    },
    {
     "name": "stdout",
     "output_type": "stream",
     "text": [
      "=======================================================================================================================================\n",
      "2024-05-20 00:29:24\n",
      "Epoch 7 / 30\n"
     ]
    },
    {
     "name": "stderr",
     "output_type": "stream",
     "text": [
      "[Train]: 100%|█████████████████████████| 352/352 [00:14<00:00, 25.11it/s, train_loss=1.19]\n",
      "[Valid]: 100%|███████████████████████| 40/40 [00:01<00:00, 32.46it/s, val_acc=40.1, val_loss=0.0194]\n"
     ]
    },
    {
     "name": "stdout",
     "output_type": "stream",
     "text": [
      "=======================================================================================================================================\n",
      "2024-05-20 00:29:39\n",
      "Epoch 8 / 30\n"
     ]
    },
    {
     "name": "stderr",
     "output_type": "stream",
     "text": [
      "[Train]: 100%|████████████████████████| 352/352 [00:14<00:00, 24.60it/s, train_loss=0.937]\n",
      "[Valid]: 100%|███████████████████████| 40/40 [00:01<00:00, 32.25it/s, val_acc=40.4, val_loss=0.0201]\n"
     ]
    },
    {
     "name": "stdout",
     "output_type": "stream",
     "text": [
      "=======================================================================================================================================\n",
      "2024-05-20 00:29:55\n",
      "Epoch 9 / 30\n"
     ]
    },
    {
     "name": "stderr",
     "output_type": "stream",
     "text": [
      "[Train]: 100%|████████████████████████| 352/352 [00:13<00:00, 25.57it/s, train_loss=0.703]\n",
      "[Valid]: 100%|███████████████████████| 40/40 [00:01<00:00, 32.81it/s, val_acc=40.9, val_loss=0.0209]\n"
     ]
    },
    {
     "name": "stdout",
     "output_type": "stream",
     "text": [
      "=======================================================================================================================================\n",
      "2024-05-20 00:30:10\n",
      "Epoch 10 / 30\n"
     ]
    },
    {
     "name": "stderr",
     "output_type": "stream",
     "text": [
      "[Train]: 100%|████████████████████████| 352/352 [00:14<00:00, 24.77it/s, train_loss=0.485]\n",
      "[Valid]: 100%|███████████████████████| 40/40 [00:01<00:00, 32.97it/s, val_acc=40.6, val_loss=0.0217]\n"
     ]
    },
    {
     "name": "stdout",
     "output_type": "stream",
     "text": [
      "=======================================================================================================================================\n",
      "2024-05-20 00:30:25\n",
      "Epoch 11 / 30\n"
     ]
    },
    {
     "name": "stderr",
     "output_type": "stream",
     "text": [
      "[Train]: 100%|████████████████████████| 352/352 [00:14<00:00, 24.64it/s, train_loss=0.303]\n",
      "[Valid]: 100%|███████████████████████| 40/40 [00:01<00:00, 32.28it/s, val_acc=42.4, val_loss=0.0224]\n"
     ]
    },
    {
     "name": "stdout",
     "output_type": "stream",
     "text": [
      "=======================================================================================================================================\n",
      "2024-05-20 00:30:41\n",
      "Epoch 12 / 30\n"
     ]
    },
    {
     "name": "stderr",
     "output_type": "stream",
     "text": [
      "[Train]: 100%|████████████████████████| 352/352 [00:14<00:00, 24.65it/s, train_loss=0.171]\n",
      "[Valid]: 100%|███████████████████████| 40/40 [00:01<00:00, 31.97it/s, val_acc=42.4, val_loss=0.0231]\n"
     ]
    },
    {
     "name": "stdout",
     "output_type": "stream",
     "text": [
      "=======================================================================================================================================\n",
      "2024-05-20 00:30:56\n",
      "Epoch 13 / 30\n"
     ]
    },
    {
     "name": "stderr",
     "output_type": "stream",
     "text": [
      "[Train]: 100%|███████████████████████| 352/352 [00:14<00:00, 24.84it/s, train_loss=0.0888]\n",
      "[Valid]: 100%|███████████████████████| 40/40 [00:01<00:00, 32.56it/s, val_acc=44.2, val_loss=0.0232]\n"
     ]
    },
    {
     "name": "stdout",
     "output_type": "stream",
     "text": [
      "=======================================================================================================================================\n",
      "2024-05-20 00:31:11\n",
      "Epoch 14 / 30\n"
     ]
    },
    {
     "name": "stderr",
     "output_type": "stream",
     "text": [
      "[Train]: 100%|███████████████████████| 352/352 [00:14<00:00, 24.85it/s, train_loss=0.0392]\n",
      "[Valid]: 100%|███████████████████████| 40/40 [00:01<00:00, 31.78it/s, val_acc=45.7, val_loss=0.0229]\n"
     ]
    },
    {
     "name": "stdout",
     "output_type": "stream",
     "text": [
      "=======================================================================================================================================\n",
      "2024-05-20 00:31:27\n",
      "Epoch 15 / 30\n"
     ]
    },
    {
     "name": "stderr",
     "output_type": "stream",
     "text": [
      "[Train]: 100%|███████████████████████| 352/352 [00:14<00:00, 24.72it/s, train_loss=0.0164]\n",
      "[Valid]: 100%|███████████████████████| 40/40 [00:01<00:00, 30.85it/s, val_acc=45.3, val_loss=0.0228]\n"
     ]
    },
    {
     "name": "stdout",
     "output_type": "stream",
     "text": [
      "=======================================================================================================================================\n",
      "2024-05-20 00:31:42\n",
      "Epoch 16 / 30\n"
     ]
    },
    {
     "name": "stderr",
     "output_type": "stream",
     "text": [
      "[Train]: 100%|███████████████████████| 352/352 [00:14<00:00, 24.33it/s, train_loss=0.0106]\n",
      "[Valid]: 100%|████████████████████████| 40/40 [00:01<00:00, 32.38it/s, val_acc=45.8, val_loss=0.023]\n"
     ]
    },
    {
     "name": "stdout",
     "output_type": "stream",
     "text": [
      "=======================================================================================================================================\n",
      "2024-05-20 00:31:58\n",
      "Epoch 17 / 30\n"
     ]
    },
    {
     "name": "stderr",
     "output_type": "stream",
     "text": [
      "[Train]: 100%|██████████████████████| 352/352 [00:14<00:00, 25.00it/s, train_loss=0.00708]\n",
      "[Valid]: 100%|████████████████████████| 40/40 [00:01<00:00, 31.59it/s, val_acc=46.2, val_loss=0.023]\n"
     ]
    },
    {
     "name": "stdout",
     "output_type": "stream",
     "text": [
      "=======================================================================================================================================\n",
      "2024-05-20 00:32:14\n",
      "Epoch 18 / 30\n"
     ]
    },
    {
     "name": "stderr",
     "output_type": "stream",
     "text": [
      "[Train]: 100%|████████████████████████| 352/352 [00:14<00:00, 24.48it/s, train_loss=0.006]\n",
      "[Valid]: 100%|███████████████████████| 40/40 [00:01<00:00, 30.65it/s, val_acc=46.2, val_loss=0.0231]\n"
     ]
    },
    {
     "name": "stdout",
     "output_type": "stream",
     "text": [
      "=======================================================================================================================================\n",
      "2024-05-20 00:32:29\n",
      "Epoch 19 / 30\n"
     ]
    },
    {
     "name": "stderr",
     "output_type": "stream",
     "text": [
      "[Train]: 100%|██████████████████████| 352/352 [00:13<00:00, 25.53it/s, train_loss=0.00521]\n",
      "[Valid]: 100%|███████████████████████| 40/40 [00:01<00:00, 32.75it/s, val_acc=46.2, val_loss=0.0233]\n"
     ]
    },
    {
     "name": "stdout",
     "output_type": "stream",
     "text": [
      "=======================================================================================================================================\n",
      "2024-05-20 00:32:44\n",
      "Epoch 20 / 30\n"
     ]
    },
    {
     "name": "stderr",
     "output_type": "stream",
     "text": [
      "[Train]: 100%|██████████████████████| 352/352 [00:13<00:00, 25.48it/s, train_loss=0.00438]\n",
      "[Valid]: 100%|███████████████████████| 40/40 [00:01<00:00, 32.12it/s, val_acc=46.4, val_loss=0.0233]\n"
     ]
    },
    {
     "name": "stdout",
     "output_type": "stream",
     "text": [
      "=======================================================================================================================================\n",
      "2024-05-20 00:32:59\n",
      "Epoch 21 / 30\n"
     ]
    },
    {
     "name": "stderr",
     "output_type": "stream",
     "text": [
      "[Train]: 100%|██████████████████████| 352/352 [00:14<00:00, 24.38it/s, train_loss=0.00446]\n",
      "[Valid]: 100%|█████████████████████████| 40/40 [00:01<00:00, 31.16it/s, val_acc=46, val_loss=0.0234]\n"
     ]
    },
    {
     "name": "stdout",
     "output_type": "stream",
     "text": [
      "=======================================================================================================================================\n",
      "2024-05-20 00:33:15\n",
      "Epoch 22 / 30\n"
     ]
    },
    {
     "name": "stderr",
     "output_type": "stream",
     "text": [
      "[Train]: 100%|██████████████████████| 352/352 [00:14<00:00, 24.14it/s, train_loss=0.00396]\n",
      "[Valid]: 100%|███████████████████████| 40/40 [00:01<00:00, 31.78it/s, val_acc=46.5, val_loss=0.0235]\n"
     ]
    },
    {
     "name": "stdout",
     "output_type": "stream",
     "text": [
      "=======================================================================================================================================\n",
      "2024-05-20 00:33:31\n",
      "Epoch 23 / 30\n"
     ]
    },
    {
     "name": "stderr",
     "output_type": "stream",
     "text": [
      "[Train]: 100%|██████████████████████| 352/352 [00:14<00:00, 24.22it/s, train_loss=0.00336]\n",
      "[Valid]: 100%|███████████████████████| 40/40 [00:01<00:00, 31.33it/s, val_acc=46.2, val_loss=0.0236]\n"
     ]
    },
    {
     "name": "stdout",
     "output_type": "stream",
     "text": [
      "=======================================================================================================================================\n",
      "2024-05-20 00:33:47\n",
      "Epoch 24 / 30\n"
     ]
    },
    {
     "name": "stderr",
     "output_type": "stream",
     "text": [
      "[Train]: 100%|██████████████████████| 352/352 [00:14<00:00, 24.17it/s, train_loss=0.00333]\n",
      "[Valid]: 100%|███████████████████████| 40/40 [00:01<00:00, 31.11it/s, val_acc=46.4, val_loss=0.0237]\n"
     ]
    },
    {
     "name": "stdout",
     "output_type": "stream",
     "text": [
      "=======================================================================================================================================\n",
      "2024-05-20 00:34:03\n",
      "Epoch 25 / 30\n"
     ]
    },
    {
     "name": "stderr",
     "output_type": "stream",
     "text": [
      "[Train]: 100%|██████████████████████| 352/352 [00:14<00:00, 24.18it/s, train_loss=0.00307]\n",
      "[Valid]: 100%|███████████████████████| 40/40 [00:01<00:00, 30.01it/s, val_acc=46.2, val_loss=0.0238]\n"
     ]
    },
    {
     "name": "stdout",
     "output_type": "stream",
     "text": [
      "=======================================================================================================================================\n",
      "2024-05-20 00:34:18\n",
      "Epoch 26 / 30\n"
     ]
    },
    {
     "name": "stderr",
     "output_type": "stream",
     "text": [
      "[Train]: 100%|██████████████████████| 352/352 [00:14<00:00, 24.30it/s, train_loss=0.00292]\n",
      "[Valid]: 100%|███████████████████████| 40/40 [00:01<00:00, 32.05it/s, val_acc=46.3, val_loss=0.0238]\n"
     ]
    },
    {
     "name": "stdout",
     "output_type": "stream",
     "text": [
      "=======================================================================================================================================\n",
      "2024-05-20 00:34:34\n",
      "Epoch 27 / 30\n"
     ]
    },
    {
     "name": "stderr",
     "output_type": "stream",
     "text": [
      "[Train]: 100%|██████████████████████| 352/352 [00:14<00:00, 24.54it/s, train_loss=0.00281]\n",
      "[Valid]: 100%|███████████████████████| 40/40 [00:01<00:00, 32.05it/s, val_acc=46.3, val_loss=0.0238]\n"
     ]
    },
    {
     "name": "stdout",
     "output_type": "stream",
     "text": [
      "=======================================================================================================================================\n",
      "2024-05-20 00:34:50\n",
      "Epoch 28 / 30\n"
     ]
    },
    {
     "name": "stderr",
     "output_type": "stream",
     "text": [
      "[Train]: 100%|██████████████████████| 352/352 [00:14<00:00, 24.35it/s, train_loss=0.00288]\n",
      "[Valid]: 100%|███████████████████████| 40/40 [00:01<00:00, 30.44it/s, val_acc=46.4, val_loss=0.0239]\n"
     ]
    },
    {
     "name": "stdout",
     "output_type": "stream",
     "text": [
      "=======================================================================================================================================\n",
      "2024-05-20 00:35:06\n",
      "Epoch 29 / 30\n"
     ]
    },
    {
     "name": "stderr",
     "output_type": "stream",
     "text": [
      "[Train]: 100%|██████████████████████| 352/352 [00:14<00:00, 24.13it/s, train_loss=0.00256]\n",
      "[Valid]: 100%|████████████████████████| 40/40 [00:01<00:00, 31.72it/s, val_acc=46.3, val_loss=0.024]\n"
     ]
    },
    {
     "name": "stdout",
     "output_type": "stream",
     "text": [
      "=======================================================================================================================================\n",
      "2024-05-20 00:35:21\n",
      "Epoch 30 / 30\n"
     ]
    },
    {
     "name": "stderr",
     "output_type": "stream",
     "text": [
      "[Train]: 100%|███████████████████████| 352/352 [00:14<00:00, 24.49it/s, train_loss=0.0026]\n",
      "[Valid]: 100%|███████████████████████| 40/40 [00:01<00:00, 30.96it/s, val_acc=46.6, val_loss=0.0241]\n"
     ]
    }
   ],
   "source": [
    "model_100 = ResNet(input_channels=3, output_size=100)\n",
    "trainer_100 = CIFAR100Trainer(model_100, loss='CE', lr=0.01, optimizer='SGD', batch_size=128, epoch=30, model_type='classification')\n",
    "trainer_100.train()\n",
    "trainer_100.test()"
   ]
  }
 ],
 "metadata": {
  "kernelspec": {
   "display_name": "bdl",
   "language": "python",
   "name": "bdl"
  },
  "language_info": {
   "codemirror_mode": {
    "name": "ipython",
    "version": 3
   },
   "file_extension": ".py",
   "mimetype": "text/x-python",
   "name": "python",
   "nbconvert_exporter": "python",
   "pygments_lexer": "ipython3",
   "version": "3.8.19"
  }
 },
 "nbformat": 4,
 "nbformat_minor": 5
}
