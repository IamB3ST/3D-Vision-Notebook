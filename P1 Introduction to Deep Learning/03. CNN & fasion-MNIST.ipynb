{
 "cells": [
  {
   "cell_type": "markdown",
   "id": "cc1ad281",
   "metadata": {},
   "source": [
    "# Convoluntional Neural Networks"
   ]
  },
  {
   "cell_type": "markdown",
   "id": "2f0de103",
   "metadata": {},
   "source": [
    "<div style=\"display: flex; align-items: center;\">\n",
    "    <img src=\"../imgs/CNN.jpg\" alt=\"Your Image\" width=\"600\" style=\"margin-right: 20px;\">\n",
    "    <div>\n",
    "        <p>Convolutional Neural Networks are deep learning models or multi-layer perceptrons similar to artificial neural networks, commonly used to analyze visual images. The founder of convolutional neural networks is renowned computer scientist Yann LeCun. He was the first person to solve handwritten digit problems using convolutional neural networks on the MNIST dataset.</p>\n",
    "        <p>The architecture of convolutional neural networks is very similar to that of conventional artificial neural networks, especially in the last layer of the network, which is fully connected. Furthermore, it is noted that convolutional neural networks can accept multiple feature maps as inputs rather than vectors.</p>\n",
    "    </div>\n",
    "</div>"
   ]
  },
  {
   "cell_type": "markdown",
   "id": "d2f29f6f",
   "metadata": {},
   "source": [
    "A convolutional neural network mainly consists of the following 5 layers:\n",
    "- **Data input layer/Input layer**: Preprocessing the raw image data.(In this chapter, we don't use it, because we have already preprocessed the MNIST data in the class MNISTTrainer.)\n",
    "- **Convolutional computation layer/CONV layer**: Processing image data, which extracts image features by performing element multiplication operations on the input image through filters (also known as convolution kernels) and summing them up.\n",
    "- **ReLU incentive layer**: Perform nonlinear mapping on the output results of convolutional layers.\n",
    "- **Pooling layer**: Used to compress data and parameters, reduce overfitting\n",
    "- **Fully connected layer/FC layer**: Like MLP."
   ]
  },
  {
   "cell_type": "markdown",
   "id": "4eb538c3",
   "metadata": {},
   "source": [
    "## CNN\n",
    "Before building model.Let's see the parameters of the two new layers:<br>\n",
    "**nn.Conv2d**:<br>`in_channels`: Input channels.<br>`out_channels`: Output channels.<br>`kernel_size`: Size of the convolutional kernel.<br>`stride`: Stride of the convolution.<br>`padding`: Zero-padding added to both sides of the input.<br>`groups`:The number of groups. This is an optional parameter that defaults to 1. When groups is greater than 1, the input and output channels are divided into groups number of groups, and the convolutional kernel operates within these groups. Specifically, when groups is equal to in_channels, depthwise separable convolution can be performed, which can significantly reduce the number of model parameters and computational requirements.<br><br>\n",
    "**nn.MaxPool2d**:<br>`kernel_size`: Size of the max pooling window.<br>`stride`: Stride of the max pooling operation."
   ]
  },
  {
   "cell_type": "code",
   "execution_count": 11,
   "id": "f5b1888f",
   "metadata": {},
   "outputs": [],
   "source": [
    "import torch\n",
    "import torch.nn as nn\n",
    "import torch.nn.functional as F\n",
    "\n",
    "class AlexNet(nn.Module):\n",
    "    def __init__(self, input_channles=1, num_classes=10):\n",
    "        super(AlexNet, self).__init__()\n",
    "        self.features = nn.Sequential(\n",
    "            nn.Conv2d(input_channles, 64, kernel_size=3, stride=1, padding=1),\n",
    "            nn.ReLU(inplace=True),\n",
    "            nn.MaxPool2d(kernel_size=2, stride=2),\n",
    "            nn.Conv2d(64, 128, kernel_size=3, padding=1),\n",
    "            nn.ReLU(inplace=True),\n",
    "            nn.MaxPool2d(kernel_size=2, stride=2),\n",
    "            nn.Conv2d(128, 256, kernel_size=3, padding=1),\n",
    "            nn.ReLU(inplace=True),\n",
    "            nn.Conv2d(256, 256, kernel_size=3, padding=1),\n",
    "            nn.ReLU(inplace=True),\n",
    "            nn.MaxPool2d(kernel_size=2, stride=2)\n",
    "        )\n",
    "        self.classifier = nn.Sequential(\n",
    "            nn.Dropout(),\n",
    "            nn.Linear(256 * 3 * 3, 1024),\n",
    "            nn.ReLU(inplace=True),\n",
    "            nn.Dropout(),\n",
    "            nn.Linear(1024, 1024),\n",
    "            nn.ReLU(inplace=True),\n",
    "            nn.Linear(1024, num_classes),\n",
    "        )\n",
    "\n",
    "    def forward(self, x):\n",
    "        x = self.features(x)\n",
    "        x = x.view(x.size(0), -1)\n",
    "        x = self.classifier(x)\n",
    "        return x"
   ]
  },
  {
   "cell_type": "markdown",
   "id": "7301e2a8",
   "metadata": {},
   "source": [
    "## Train CNN on FashionMNIST"
   ]
  },
  {
   "cell_type": "code",
   "execution_count": 13,
   "id": "4202ad2e",
   "metadata": {
    "scrolled": true
   },
   "outputs": [
    {
     "name": "stdout",
     "output_type": "stream",
     "text": [
      "=======================================================================================================================================\n",
      "2024-05-28 21:23:38\n",
      "Epoch 1 / 30\n"
     ]
    },
    {
     "name": "stderr",
     "output_type": "stream",
     "text": [
      "[Train]: 100%|██████████████████████████| 211/211 [00:17<00:00, 12.09it/s, train_loss=2.2]\n",
      "[Valid]: 100%|████████████████████████| 24/24 [00:01<00:00, 15.36it/s, val_acc=43, val_loss=0.00548]\n"
     ]
    },
    {
     "name": "stdout",
     "output_type": "stream",
     "text": [
      "Validation loss decreased (inf --> 0.005483).\n",
      "=======================================================================================================================================\n",
      "2024-05-28 21:23:57\n",
      "Epoch 2 / 30\n"
     ]
    },
    {
     "name": "stderr",
     "output_type": "stream",
     "text": [
      "[Train]: 100%|████████████████████████| 211/211 [00:17<00:00, 11.95it/s, train_loss=0.932]\n",
      "[Valid]: 100%|████████████████████████| 24/24 [00:01<00:00, 15.13it/s, val_acc=75, val_loss=0.00261]\n"
     ]
    },
    {
     "name": "stdout",
     "output_type": "stream",
     "text": [
      "Validation loss decreased (0.005483 --> 0.002612).\n",
      "=======================================================================================================================================\n",
      "2024-05-28 21:24:16\n",
      "Epoch 3 / 30\n"
     ]
    },
    {
     "name": "stderr",
     "output_type": "stream",
     "text": [
      "[Train]: 100%|████████████████████████| 211/211 [00:17<00:00, 11.90it/s, train_loss=0.673]\n",
      "[Valid]: 100%|██████████████████████| 24/24 [00:01<00:00, 15.21it/s, val_acc=77.7, val_loss=0.00227]\n"
     ]
    },
    {
     "name": "stdout",
     "output_type": "stream",
     "text": [
      "Validation loss decreased (0.002612 --> 0.002266).\n",
      "=======================================================================================================================================\n",
      "2024-05-28 21:24:36\n",
      "Epoch 4 / 30\n"
     ]
    },
    {
     "name": "stderr",
     "output_type": "stream",
     "text": [
      "[Train]: 100%|████████████████████████| 211/211 [00:17<00:00, 11.79it/s, train_loss=0.604]\n",
      "[Valid]: 100%|██████████████████████| 24/24 [00:01<00:00, 15.64it/s, val_acc=78.9, val_loss=0.00217]\n"
     ]
    },
    {
     "name": "stdout",
     "output_type": "stream",
     "text": [
      "Validation loss decreased (0.002266 --> 0.002166).\n",
      "=======================================================================================================================================\n",
      "2024-05-28 21:24:55\n",
      "Epoch 5 / 30\n"
     ]
    },
    {
     "name": "stderr",
     "output_type": "stream",
     "text": [
      "[Train]: 100%|████████████████████████| 211/211 [00:17<00:00, 11.72it/s, train_loss=0.557]\n",
      "[Valid]: 100%|██████████████████████| 24/24 [00:01<00:00, 14.58it/s, val_acc=81.4, val_loss=0.00192]\n"
     ]
    },
    {
     "name": "stdout",
     "output_type": "stream",
     "text": [
      "Validation loss decreased (0.002166 --> 0.001920).\n",
      "=======================================================================================================================================\n",
      "2024-05-28 21:25:15\n",
      "Epoch 6 / 30\n"
     ]
    },
    {
     "name": "stderr",
     "output_type": "stream",
     "text": [
      "[Train]: 100%|████████████████████████| 211/211 [00:18<00:00, 11.69it/s, train_loss=0.515]\n",
      "[Valid]: 100%|██████████████████████| 24/24 [00:01<00:00, 14.51it/s, val_acc=82.1, val_loss=0.00181]\n"
     ]
    },
    {
     "name": "stdout",
     "output_type": "stream",
     "text": [
      "Validation loss decreased (0.001920 --> 0.001811).\n",
      "=======================================================================================================================================\n",
      "2024-05-28 21:25:34\n",
      "Epoch 7 / 30\n"
     ]
    },
    {
     "name": "stderr",
     "output_type": "stream",
     "text": [
      "[Train]: 100%|████████████████████████| 211/211 [00:18<00:00, 11.69it/s, train_loss=0.485]\n",
      "[Valid]: 100%|██████████████████████| 24/24 [00:01<00:00, 14.65it/s, val_acc=84.7, val_loss=0.00166]\n"
     ]
    },
    {
     "name": "stdout",
     "output_type": "stream",
     "text": [
      "Validation loss decreased (0.001811 --> 0.001662).\n",
      "=======================================================================================================================================\n",
      "2024-05-28 21:25:54\n",
      "Epoch 8 / 30\n"
     ]
    },
    {
     "name": "stderr",
     "output_type": "stream",
     "text": [
      "[Train]: 100%|████████████████████████| 211/211 [00:17<00:00, 11.79it/s, train_loss=0.453]\n",
      "[Valid]: 100%|██████████████████████| 24/24 [00:01<00:00, 14.79it/s, val_acc=86.1, val_loss=0.00152]\n"
     ]
    },
    {
     "name": "stdout",
     "output_type": "stream",
     "text": [
      "Validation loss decreased (0.001662 --> 0.001520).\n",
      "=======================================================================================================================================\n",
      "2024-05-28 21:26:14\n",
      "Epoch 9 / 30\n"
     ]
    },
    {
     "name": "stderr",
     "output_type": "stream",
     "text": [
      "[Train]: 100%|████████████████████████| 211/211 [00:18<00:00, 11.64it/s, train_loss=0.431]\n",
      "[Valid]: 100%|███████████████████████| 24/24 [00:01<00:00, 14.63it/s, val_acc=85.7, val_loss=0.0015]\n"
     ]
    },
    {
     "name": "stdout",
     "output_type": "stream",
     "text": [
      "Validation loss decreased (0.001520 --> 0.001500).\n",
      "=======================================================================================================================================\n",
      "2024-05-28 21:26:33\n",
      "Epoch 10 / 30\n"
     ]
    },
    {
     "name": "stderr",
     "output_type": "stream",
     "text": [
      "[Train]: 100%|████████████████████████| 211/211 [00:17<00:00, 11.83it/s, train_loss=0.413]\n",
      "[Valid]: 100%|██████████████████████| 24/24 [00:01<00:00, 14.88it/s, val_acc=86.4, val_loss=0.00143]\n"
     ]
    },
    {
     "name": "stdout",
     "output_type": "stream",
     "text": [
      "Validation loss decreased (0.001500 --> 0.001426).\n",
      "=======================================================================================================================================\n",
      "2024-05-28 21:26:53\n",
      "Epoch 11 / 30\n"
     ]
    },
    {
     "name": "stderr",
     "output_type": "stream",
     "text": [
      "[Train]: 100%|████████████████████████| 211/211 [00:17<00:00, 11.76it/s, train_loss=0.389]\n",
      "[Valid]: 100%|████████████████████████| 24/24 [00:01<00:00, 14.59it/s, val_acc=87, val_loss=0.00138]\n"
     ]
    },
    {
     "name": "stdout",
     "output_type": "stream",
     "text": [
      "Validation loss decreased (0.001426 --> 0.001378).\n",
      "=======================================================================================================================================\n",
      "2024-05-28 21:27:12\n",
      "Epoch 12 / 30\n"
     ]
    },
    {
     "name": "stderr",
     "output_type": "stream",
     "text": [
      "[Train]: 100%|█████████████████████████| 211/211 [00:18<00:00, 11.72it/s, train_loss=0.38]\n",
      "[Valid]: 100%|██████████████████████| 24/24 [00:01<00:00, 14.41it/s, val_acc=86.6, val_loss=0.00141]\n"
     ]
    },
    {
     "name": "stdout",
     "output_type": "stream",
     "text": [
      "=======================================================================================================================================\n",
      "2024-05-28 21:27:32\n",
      "Epoch 13 / 30\n"
     ]
    },
    {
     "name": "stderr",
     "output_type": "stream",
     "text": [
      "[Train]: 100%|████████████████████████| 211/211 [00:18<00:00, 11.68it/s, train_loss=0.369]\n",
      "[Valid]: 100%|██████████████████████| 24/24 [00:01<00:00, 15.82it/s, val_acc=86.5, val_loss=0.00138]\n"
     ]
    },
    {
     "name": "stdout",
     "output_type": "stream",
     "text": [
      "=======================================================================================================================================\n",
      "2024-05-28 21:27:52\n",
      "Epoch 14 / 30\n"
     ]
    },
    {
     "name": "stderr",
     "output_type": "stream",
     "text": [
      "[Train]: 100%|████████████████████████| 211/211 [00:18<00:00, 11.60it/s, train_loss=0.361]\n",
      "[Valid]: 100%|██████████████████████| 24/24 [00:01<00:00, 14.77it/s, val_acc=88.6, val_loss=0.00119]\n"
     ]
    },
    {
     "name": "stdout",
     "output_type": "stream",
     "text": [
      "Validation loss decreased (0.001378 --> 0.001186).\n",
      "=======================================================================================================================================\n",
      "2024-05-28 21:28:12\n",
      "Epoch 15 / 30\n"
     ]
    },
    {
     "name": "stderr",
     "output_type": "stream",
     "text": [
      "[Train]: 100%|████████████████████████| 211/211 [00:18<00:00, 11.65it/s, train_loss=0.347]\n",
      "[Valid]: 100%|██████████████████████| 24/24 [00:01<00:00, 15.04it/s, val_acc=88.4, val_loss=0.00122]\n"
     ]
    },
    {
     "name": "stdout",
     "output_type": "stream",
     "text": [
      "=======================================================================================================================================\n",
      "2024-05-28 21:28:31\n",
      "Epoch 16 / 30\n"
     ]
    },
    {
     "name": "stderr",
     "output_type": "stream",
     "text": [
      "[Train]: 100%|████████████████████████| 211/211 [00:18<00:00, 11.68it/s, train_loss=0.338]\n",
      "[Valid]: 100%|██████████████████████| 24/24 [00:01<00:00, 14.37it/s, val_acc=89.1, val_loss=0.00117]\n"
     ]
    },
    {
     "name": "stdout",
     "output_type": "stream",
     "text": [
      "Validation loss decreased (0.001186 --> 0.001168).\n",
      "=======================================================================================================================================\n",
      "2024-05-28 21:28:51\n",
      "Epoch 17 / 30\n"
     ]
    },
    {
     "name": "stderr",
     "output_type": "stream",
     "text": [
      "[Train]: 100%|████████████████████████| 211/211 [00:17<00:00, 11.96it/s, train_loss=0.327]\n",
      "[Valid]: 100%|██████████████████████| 24/24 [00:01<00:00, 14.89it/s, val_acc=88.7, val_loss=0.00116]\n"
     ]
    },
    {
     "name": "stdout",
     "output_type": "stream",
     "text": [
      "Validation loss decreased (0.001168 --> 0.001160).\n",
      "=======================================================================================================================================\n",
      "2024-05-28 21:29:10\n",
      "Epoch 18 / 30\n"
     ]
    },
    {
     "name": "stderr",
     "output_type": "stream",
     "text": [
      "[Train]: 100%|████████████████████████| 211/211 [00:17<00:00, 11.84it/s, train_loss=0.322]\n",
      "[Valid]: 100%|██████████████████████| 24/24 [00:01<00:00, 15.48it/s, val_acc=88.6, val_loss=0.00118]\n"
     ]
    },
    {
     "name": "stdout",
     "output_type": "stream",
     "text": [
      "=======================================================================================================================================\n",
      "2024-05-28 21:29:30\n",
      "Epoch 19 / 30\n"
     ]
    },
    {
     "name": "stderr",
     "output_type": "stream",
     "text": [
      "[Train]: 100%|████████████████████████| 211/211 [00:18<00:00, 11.63it/s, train_loss=0.319]\n",
      "[Valid]: 100%|██████████████████████| 24/24 [00:01<00:00, 14.62it/s, val_acc=89.2, val_loss=0.00113]\n"
     ]
    },
    {
     "name": "stdout",
     "output_type": "stream",
     "text": [
      "Validation loss decreased (0.001160 --> 0.001132).\n",
      "=======================================================================================================================================\n",
      "2024-05-28 21:29:49\n",
      "Epoch 20 / 30\n"
     ]
    },
    {
     "name": "stderr",
     "output_type": "stream",
     "text": [
      "[Train]: 100%|████████████████████████| 211/211 [00:18<00:00, 11.64it/s, train_loss=0.315]\n",
      "[Valid]: 100%|██████████████████████| 24/24 [00:01<00:00, 14.81it/s, val_acc=89.9, val_loss=0.00108]\n"
     ]
    },
    {
     "name": "stdout",
     "output_type": "stream",
     "text": [
      "Validation loss decreased (0.001132 --> 0.001075).\n",
      "=======================================================================================================================================\n",
      "2024-05-28 21:30:09\n",
      "Epoch 21 / 30\n"
     ]
    },
    {
     "name": "stderr",
     "output_type": "stream",
     "text": [
      "[Train]: 100%|████████████████████████| 211/211 [00:17<00:00, 11.90it/s, train_loss=0.307]\n",
      "[Valid]: 100%|██████████████████████| 24/24 [00:01<00:00, 15.42it/s, val_acc=89.5, val_loss=0.00111]\n"
     ]
    },
    {
     "name": "stdout",
     "output_type": "stream",
     "text": [
      "=======================================================================================================================================\n",
      "2024-05-28 21:30:28\n",
      "Epoch 22 / 30\n"
     ]
    },
    {
     "name": "stderr",
     "output_type": "stream",
     "text": [
      "[Train]: 100%|████████████████████████| 211/211 [00:18<00:00, 11.70it/s, train_loss=0.302]\n",
      "[Valid]: 100%|██████████████████████| 24/24 [00:01<00:00, 15.59it/s, val_acc=89.4, val_loss=0.00111]\n"
     ]
    },
    {
     "name": "stdout",
     "output_type": "stream",
     "text": [
      "=======================================================================================================================================\n",
      "2024-05-28 21:30:48\n",
      "Epoch 23 / 30\n"
     ]
    },
    {
     "name": "stderr",
     "output_type": "stream",
     "text": [
      "[Train]: 100%|████████████████████████| 211/211 [00:17<00:00, 11.79it/s, train_loss=0.298]\n",
      "[Valid]: 100%|██████████████████████| 24/24 [00:01<00:00, 14.74it/s, val_acc=88.9, val_loss=0.00116]\n"
     ]
    },
    {
     "name": "stdout",
     "output_type": "stream",
     "text": [
      "=======================================================================================================================================\n",
      "2024-05-28 21:31:08\n",
      "Epoch 24 / 30\n"
     ]
    },
    {
     "name": "stderr",
     "output_type": "stream",
     "text": [
      "[Train]: 100%|████████████████████████| 211/211 [00:18<00:00, 11.63it/s, train_loss=0.293]\n",
      "[Valid]: 100%|███████████████████████| 24/24 [00:01<00:00, 14.74it/s, val_acc=91, val_loss=0.000983]\n"
     ]
    },
    {
     "name": "stdout",
     "output_type": "stream",
     "text": [
      "Validation loss decreased (0.001075 --> 0.000983).\n",
      "=======================================================================================================================================\n",
      "2024-05-28 21:31:27\n",
      "Epoch 25 / 30\n"
     ]
    },
    {
     "name": "stderr",
     "output_type": "stream",
     "text": [
      "[Train]: 100%|████████████████████████| 211/211 [00:17<00:00, 11.77it/s, train_loss=0.286]\n",
      "[Valid]: 100%|██████████████████████| 24/24 [00:01<00:00, 14.91it/s, val_acc=90.4, val_loss=0.00102]\n"
     ]
    },
    {
     "name": "stdout",
     "output_type": "stream",
     "text": [
      "=======================================================================================================================================\n",
      "2024-05-28 21:31:47\n",
      "Epoch 26 / 30\n"
     ]
    },
    {
     "name": "stderr",
     "output_type": "stream",
     "text": [
      "[Train]: 100%|████████████████████████| 211/211 [00:17<00:00, 11.76it/s, train_loss=0.285]\n",
      "[Valid]: 100%|██████████████████████| 24/24 [00:01<00:00, 14.53it/s, val_acc=90.4, val_loss=0.00102]\n"
     ]
    },
    {
     "name": "stdout",
     "output_type": "stream",
     "text": [
      "=======================================================================================================================================\n",
      "2024-05-28 21:32:06\n",
      "Epoch 27 / 30\n"
     ]
    },
    {
     "name": "stderr",
     "output_type": "stream",
     "text": [
      "[Train]: 100%|████████████████████████| 211/211 [00:18<00:00, 11.55it/s, train_loss=0.279]\n",
      "[Valid]: 100%|██████████████████████| 24/24 [00:01<00:00, 14.52it/s, val_acc=90.3, val_loss=0.00102]\n"
     ]
    },
    {
     "name": "stdout",
     "output_type": "stream",
     "text": [
      "=======================================================================================================================================\n",
      "2024-05-28 21:32:26\n",
      "Epoch 28 / 30\n"
     ]
    },
    {
     "name": "stderr",
     "output_type": "stream",
     "text": [
      "[Train]: 100%|████████████████████████| 211/211 [00:17<00:00, 11.79it/s, train_loss=0.277]\n",
      "[Valid]: 100%|█████████████████████| 24/24 [00:01<00:00, 14.02it/s, val_acc=90.9, val_loss=0.000979]\n"
     ]
    },
    {
     "name": "stdout",
     "output_type": "stream",
     "text": [
      "Validation loss decreased (0.000983 --> 0.000979).\n",
      "=======================================================================================================================================\n",
      "2024-05-28 21:32:46\n",
      "Epoch 29 / 30\n"
     ]
    },
    {
     "name": "stderr",
     "output_type": "stream",
     "text": [
      "[Train]: 100%|████████████████████████| 211/211 [00:17<00:00, 11.83it/s, train_loss=0.274]\n",
      "[Valid]: 100%|█████████████████████| 24/24 [00:01<00:00, 15.15it/s, val_acc=90.9, val_loss=0.000998]\n"
     ]
    },
    {
     "name": "stdout",
     "output_type": "stream",
     "text": [
      "=======================================================================================================================================\n",
      "2024-05-28 21:33:05\n",
      "Epoch 30 / 30\n"
     ]
    },
    {
     "name": "stderr",
     "output_type": "stream",
     "text": [
      "[Train]: 100%|████████████████████████| 211/211 [00:18<00:00, 11.62it/s, train_loss=0.272]\n",
      "[Valid]: 100%|█████████████████████| 24/24 [00:01<00:00, 15.05it/s, val_acc=91.2, val_loss=0.000937]\n"
     ]
    },
    {
     "name": "stdout",
     "output_type": "stream",
     "text": [
      "Validation loss decreased (0.000979 --> 0.000937).\n"
     ]
    },
    {
     "data": {
      "image/png": "[encoded data removed]",
      "text/plain": [
       "<Figure size 1000x500 with 1 Axes>"
      ]
     },
     "metadata": {},
     "output_type": "display_data"
    },
    {
     "name": "stderr",
     "output_type": "stream",
     "text": [
      "Testing [Test]: 100%|█████████████████████████| 40/40 [00:02<00:00, 18.46it/s, test_acc=91, test_loss=0.000999]\n"
     ]
    }
   ],
   "source": [
    "import sys\n",
    "sys.path.append('../tools')\n",
    "from FashionMNIST import fashion_mnist_trainer\n",
    "from torchvision import transforms\n",
    "\n",
    "train_transforms = transforms.Compose([\n",
    "    transforms.RandomHorizontalFlip(),\n",
    "    transforms.RandomCrop(28, padding=2),\n",
    "    transforms.ToTensor(),\n",
    "    transforms.Normalize((0.5,), (0.5,)),\n",
    "])\n",
    "\n",
    "test_transforms = transforms.Compose([\n",
    "    transforms.ToTensor(),\n",
    "    transforms.Normalize((0.5,), (0.5,))\n",
    "])\n",
    "\n",
    "model = AlexNet()\n",
    "trainer = fashion_mnist_trainer(model=model, lr=0.01, batch_size=256, epoch=30, train_transforms=train_transforms, test_transforms=test_transforms)\n",
    "trainer.train()\n",
    "trainer.test()"
   ]
  }
 ],
 "metadata": {
  "kernelspec": {
   "display_name": "bdl",
   "language": "python",
   "name": "bdl"
  },
  "language_info": {
   "codemirror_mode": {
    "name": "ipython",
    "version": 3
   },
   "file_extension": ".py",
   "mimetype": "text/x-python",
   "name": "python",
   "nbconvert_exporter": "python",
   "pygments_lexer": "ipython3",
   "version": "3.9.0"
  }
 },
 "nbformat": 4,
 "nbformat_minor": 5
}
