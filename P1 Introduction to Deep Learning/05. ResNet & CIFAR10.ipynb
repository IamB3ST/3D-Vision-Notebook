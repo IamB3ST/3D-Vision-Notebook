{
 "cells": [
  {
   "cell_type": "markdown",
   "id": "40964c20",
   "metadata": {},
   "source": [
    "# ResNet"
   ]
  },
  {
   "cell_type": "markdown",
   "id": "0eb45603",
   "metadata": {},
   "source": [
    "<div style=\"display: flex; align-items: center;\">\n",
    "    <img src=\"../imgs/ResNet.jpg\" alt=\"Your Image\" width=\"500\" style=\"margin-right: 20px;\">\n",
    "    <div>\n",
    "        <p>From experience, the depth of the network is crucial to the performance of the model. When the number of network layers is increased, the network can extract more complex feature patterns, so theoretically, better results can be achieved when the model is deeper. But will deeper networks necessarily have better performance? As the depth of the network increases, the accuracy of the network saturates or even decreases.\n",
    "</p>\n",
    "        <p>The degradation problem of deep networks at least indicates that deep networks are not easy to train. Residual learning solves the problem of difficult training and even degradation of networks, making it easier to learn the original features directly compared to residual learning. When the residual is 0, the stacked layer only performs identity mapping, at least the network performance will not decrease. In fact, the residual will not be 0, which will enable the stacked layer to learn new features based on the input features, thus having better performance. This is somewhat similar to a \"short circuit\" in a circuit, so it is a short circuit connection.</p>\n",
    "        <p>In this chapter, we will introduce the ResNet model and a new challenge, which is the CIFAR10 dataset.</p>\n",
    "    </div>\n",
    "</div>"
   ]
  },
  {
   "cell_type": "markdown",
   "id": "575aafec",
   "metadata": {},
   "source": [
    "## ResNet"
   ]
  },
  {
   "cell_type": "code",
   "execution_count": 1,
   "id": "3d26cb9c",
   "metadata": {},
   "outputs": [
    {
     "name": "stderr",
     "output_type": "stream",
     "text": [
      "D:\\Anaconda\\envs\\bdl\\lib\\site-packages\\numpy\\_distributor_init.py:30: UserWarning: loaded more than 1 DLL from .libs:\n",
      "D:\\Anaconda\\envs\\bdl\\lib\\site-packages\\numpy\\.libs\\libopenblas64__v0.3.23-246-g3d31191b-gcc_10_3_0.dll\n",
      "D:\\Anaconda\\envs\\bdl\\lib\\site-packages\\numpy\\.libs\\libopenblas64__v0.3.23-gcc_10_3_0.dll\n",
      "  warnings.warn(\"loaded more than 1 DLL from .libs:\"\n"
     ]
    }
   ],
   "source": [
    "import torch\n",
    "import torch.nn as nn\n",
    "\n",
    "class ResNet(nn.Module):\n",
    "    def __init__(self, input_channels, num_classes, zero_init_residual=False, groups=1, width_per_group=64):\n",
    "        super(ResNet, self).__init__()\n",
    "        \n",
    "        norm_layer = nn.BatchNorm2d\n",
    "        self._norm_layer = norm_layer\n",
    "\n",
    "        self.inplanes = 64\n",
    "        self.dilation = 1\n",
    "\n",
    "        self.groups = groups\n",
    "        self.base_width = width_per_group\n",
    "\n",
    "        self.conv1 = nn.Conv2d(input_channels, self.inplanes, kernel_size=3, stride=1, padding=1, bias=False)\n",
    "        self.bn1 = norm_layer(self.inplanes)\n",
    "        self.relu = nn.ReLU(inplace=True)\n",
    "        self.blocks_layer = nn.Sequential(\n",
    "            self._make_layer(BasicBlock, 64, 2),\n",
    "            self._make_layer(BasicBlock, 128, 2, stride=2, dilate=False),\n",
    "            self._make_layer(BasicBlock, 256, 2, stride=2, dilate=False),\n",
    "            self._make_layer(BasicBlock, 512, 2, stride=2, dilate=False)\n",
    "        )\n",
    "        self.avgpool = nn.AdaptiveAvgPool2d((1, 1))\n",
    "        self.fc = nn.Linear(512 * BasicBlock.expansion, num_classes)\n",
    "\n",
    "        self._initialize_weights(zero_init_residual)\n",
    "\n",
    "    def _make_layer(self, block, planes, blocks, stride=1, dilate=False):\n",
    "        norm_layer = self._norm_layer\n",
    "        downsample = None\n",
    "        previous_dilation = self.dilation\n",
    "        if dilate:\n",
    "            self.dilation *= stride\n",
    "            stride = 1\n",
    "        if stride != 1 or self.inplanes != planes * block.expansion:\n",
    "            downsample = nn.Sequential(\n",
    "                nn.Conv2d(self.inplanes, planes * block.expansion, kernel_size=1, stride=stride, bias=False),\n",
    "                norm_layer(planes * block.expansion),\n",
    "            )\n",
    "\n",
    "        layers = []\n",
    "        layers.append(block(self.inplanes, planes, stride, downsample, self.groups, self.base_width, previous_dilation, norm_layer))\n",
    "        self.inplanes = planes * block.expansion\n",
    "        for _ in range(1, blocks):\n",
    "            layers.append(block(self.inplanes, planes, groups=self.groups, base_width=self.base_width, dilation=self.dilation, norm_layer=norm_layer))\n",
    "        return nn.Sequential(*layers)\n",
    "\n",
    "    def _initialize_weights(self, zero_init_residual):\n",
    "        for m in self.modules():\n",
    "            if isinstance(m, nn.Conv2d):\n",
    "                nn.init.kaiming_normal_(m.weight, mode='fan_out', nonlinearity='relu')\n",
    "            elif isinstance(m, (nn.BatchNorm2d, nn.GroupNorm)):\n",
    "                nn.init.constant_(m.weight, 1)\n",
    "                nn.init.constant_(m.bias, 0)\n",
    "\n",
    "        if zero_init_residual:\n",
    "            for m in self.modules():\n",
    "                if isinstance(m, BasicBlock):\n",
    "                    nn.init.constant_(m.bn2.weight, 0)\n",
    "\n",
    "    def forward(self, x):\n",
    "        x = self.conv1(x)\n",
    "        x = self.bn1(x)\n",
    "        x = self.relu(x)\n",
    "        x = self.blocks_layer(x)\n",
    "        x = self.avgpool(x)\n",
    "        x = torch.flatten(x, 1)\n",
    "        x = self.fc(x)\n",
    "        return x\n",
    "\n",
    "class BasicBlock(nn.Module):\n",
    "    expansion = 1\n",
    "\n",
    "    def __init__(self, inplanes, planes, stride=1, downsample=None, groups=1, base_width=64, dilation=1, norm_layer=None):\n",
    "        super(BasicBlock, self).__init__()\n",
    "        if norm_layer is None:\n",
    "            norm_layer = nn.BatchNorm2d\n",
    "        self.conv1 = nn.Conv2d(inplanes, planes, kernel_size=3, stride=stride, padding=1, bias=False)\n",
    "        self.bn1 = norm_layer(planes)\n",
    "        self.relu = nn.ReLU(inplace=True)\n",
    "        self.conv2 = nn.Conv2d(planes, planes, kernel_size=3, stride=1, padding=1, bias=False)\n",
    "        self.bn2 = norm_layer(planes)\n",
    "        self.downsample = downsample\n",
    "        self.stride = stride\n",
    "\n",
    "    def forward(self, x):\n",
    "        identity = x\n",
    "        out = self.conv1(x)\n",
    "        out = self.bn1(out)\n",
    "        out = self.relu(out)\n",
    "        out = self.conv2(out)\n",
    "        out = self.bn2(out)\n",
    "        if self.downsample is not None:\n",
    "            identity = self.downsample(x)\n",
    "        out += identity\n",
    "        out = self.relu(out)\n",
    "        return out"
   ]
  },
  {
   "cell_type": "markdown",
   "id": "f751d18f",
   "metadata": {},
   "source": [
    "# CIFAR10\n",
    "\n",
    "The CIFAR-10 dataset is a widely used benchmark dataset in the field of machine learning and computer vision. It is well-suited for training machine learning algorithms and evaluating their performance. Here’s a detailed overview of the CIFAR-10 dataset:\n",
    "\n",
    "- **number of classes**: 10.\n",
    "- **classes**: Airplane, Automobile, Bird, Cat, Deer, Dog, Frog, Horse, Ship, Truck.\n",
    "- **number of images**: 50000 images for train, 10000 images for test.\n",
    "- **image size**: 32x32 pixels.\n",
    "- **Color**: Each image is in RGB (color)."
   ]
  },
  {
   "cell_type": "markdown",
   "id": "23ae2c6c-ce56-47a7-8ce9-6ac006b98845",
   "metadata": {},
   "source": [
    "## Train ResNet on CIFAR10"
   ]
  },
  {
   "cell_type": "code",
   "execution_count": 2,
   "id": "fe0b81e3",
   "metadata": {},
   "outputs": [],
   "source": [
    "import sys\n",
    "import torch.nn as nn\n",
    "sys.path.append('../tools')\n",
    "from CIFAR10 import cifar10_trainer"
   ]
  },
  {
   "cell_type": "code",
   "execution_count": 4,
   "id": "8dfdbec1",
   "metadata": {
    "scrolled": true
   },
   "outputs": [
    {
     "name": "stdout",
     "output_type": "stream",
     "text": [
      "Files already downloaded and verified\n",
      "=======================================================================================================================================\n",
      "2024-05-24 13:28:59\n",
      "Epoch 1 / 200\n"
     ]
    },
    {
     "name": "stderr",
     "output_type": "stream",
     "text": [
      "[Train]: 100%|█████████████████████████| 352/352 [00:59<00:00,  5.92it/s, train_loss=2.32]\n",
      "[Valid]: 100%|███████████████████████| 40/40 [00:05<00:00,  7.02it/s, val_acc=23.4, val_loss=0.0166]\n"
     ]
    },
    {
     "name": "stdout",
     "output_type": "stream",
     "text": [
      "Validation loss decreased (inf --> 0.016592).\n",
      "=======================================================================================================================================\n",
      "2024-05-24 13:30:04\n",
      "Epoch 2 / 200\n"
     ]
    },
    {
     "name": "stderr",
     "output_type": "stream",
     "text": [
      "[Train]: 100%|█████████████████████████| 352/352 [00:58<00:00,  6.01it/s, train_loss=2.02]\n",
      "[Valid]: 100%|███████████████████████| 40/40 [00:05<00:00,  7.68it/s, val_acc=25.6, val_loss=0.0159]\n"
     ]
    },
    {
     "name": "stdout",
     "output_type": "stream",
     "text": [
      "Validation loss decreased (0.016592 --> 0.015862).\n",
      "=======================================================================================================================================\n",
      "2024-05-24 13:31:08\n",
      "Epoch 3 / 200\n"
     ]
    },
    {
     "name": "stderr",
     "output_type": "stream",
     "text": [
      "[Train]: 100%|█████████████████████████| 352/352 [01:06<00:00,  5.33it/s, train_loss=1.94]\n",
      "[Valid]: 100%|███████████████████████| 40/40 [00:06<00:00,  6.18it/s, val_acc=27.7, val_loss=0.0157]\n"
     ]
    },
    {
     "name": "stdout",
     "output_type": "stream",
     "text": [
      "Validation loss decreased (0.015862 --> 0.015667).\n",
      "=======================================================================================================================================\n",
      "2024-05-24 13:32:20\n",
      "Epoch 4 / 200\n"
     ]
    },
    {
     "name": "stderr",
     "output_type": "stream",
     "text": [
      "[Train]: 100%|█████████████████████████| 352/352 [01:09<00:00,  5.05it/s, train_loss=1.84]\n",
      "[Valid]: 100%|███████████████████████| 40/40 [00:06<00:00,  6.30it/s, val_acc=34.2, val_loss=0.0145]\n"
     ]
    },
    {
     "name": "stdout",
     "output_type": "stream",
     "text": [
      "Validation loss decreased (0.015667 --> 0.014540).\n",
      "=======================================================================================================================================\n",
      "2024-05-24 13:33:36\n",
      "Epoch 5 / 200\n"
     ]
    },
    {
     "name": "stderr",
     "output_type": "stream",
     "text": [
      "[Train]: 100%|█████████████████████████| 352/352 [01:10<00:00,  4.98it/s, train_loss=1.74]\n",
      "[Valid]: 100%|████████████████████████| 40/40 [00:06<00:00,  6.20it/s, val_acc=36.9, val_loss=0.014]\n"
     ]
    },
    {
     "name": "stdout",
     "output_type": "stream",
     "text": [
      "Validation loss decreased (0.014540 --> 0.014035).\n",
      "=======================================================================================================================================\n",
      "2024-05-24 13:34:53\n",
      "Epoch 6 / 200\n"
     ]
    },
    {
     "name": "stderr",
     "output_type": "stream",
     "text": [
      "[Train]: 100%|█████████████████████████| 352/352 [01:12<00:00,  4.86it/s, train_loss=1.63]\n",
      "[Valid]: 100%|███████████████████████| 40/40 [00:06<00:00,  5.95it/s, val_acc=37.3, val_loss=0.0139]\n"
     ]
    },
    {
     "name": "stdout",
     "output_type": "stream",
     "text": [
      "Validation loss decreased (0.014035 --> 0.013893).\n",
      "=======================================================================================================================================\n",
      "2024-05-24 13:36:13\n",
      "Epoch 7 / 200\n"
     ]
    },
    {
     "name": "stderr",
     "output_type": "stream",
     "text": [
      "[Train]: 100%|█████████████████████████| 352/352 [01:14<00:00,  4.75it/s, train_loss=1.55]\n",
      "[Valid]: 100%|███████████████████████| 40/40 [00:06<00:00,  5.91it/s, val_acc=45.3, val_loss=0.0125]\n"
     ]
    },
    {
     "name": "stdout",
     "output_type": "stream",
     "text": [
      "Validation loss decreased (0.013893 --> 0.012532).\n",
      "=======================================================================================================================================\n",
      "2024-05-24 13:37:33\n",
      "Epoch 8 / 200\n"
     ]
    },
    {
     "name": "stderr",
     "output_type": "stream",
     "text": [
      "[Train]: 100%|█████████████████████████| 352/352 [01:05<00:00,  5.36it/s, train_loss=1.48]\n",
      "[Valid]: 100%|███████████████████████| 40/40 [00:05<00:00,  6.97it/s, val_acc=44.2, val_loss=0.0131]\n"
     ]
    },
    {
     "name": "stdout",
     "output_type": "stream",
     "text": [
      "=======================================================================================================================================\n",
      "2024-05-24 13:38:45\n",
      "Epoch 9 / 200\n"
     ]
    },
    {
     "name": "stderr",
     "output_type": "stream",
     "text": [
      "[Train]: 100%|█████████████████████████| 352/352 [01:02<00:00,  5.66it/s, train_loss=1.43]\n",
      "[Valid]: 100%|███████████████████████| 40/40 [00:05<00:00,  7.13it/s, val_acc=45.7, val_loss=0.0124]\n"
     ]
    },
    {
     "name": "stdout",
     "output_type": "stream",
     "text": [
      "Validation loss decreased (0.012532 --> 0.012360).\n",
      "=======================================================================================================================================\n",
      "2024-05-24 13:39:53\n",
      "Epoch 10 / 200\n"
     ]
    },
    {
     "name": "stderr",
     "output_type": "stream",
     "text": [
      "[Train]: 100%|█████████████████████████| 352/352 [01:07<00:00,  5.20it/s, train_loss=1.39]\n",
      "[Valid]: 100%|███████████████████████| 40/40 [00:06<00:00,  6.21it/s, val_acc=48.5, val_loss=0.0119]\n"
     ]
    },
    {
     "name": "stdout",
     "output_type": "stream",
     "text": [
      "Validation loss decreased (0.012360 --> 0.011906).\n",
      "=======================================================================================================================================\n",
      "2024-05-24 13:41:07\n",
      "Epoch 11 / 200\n"
     ]
    },
    {
     "name": "stderr",
     "output_type": "stream",
     "text": [
      "[Train]: 100%|█████████████████████████| 352/352 [01:08<00:00,  5.17it/s, train_loss=1.35]\n",
      "[Valid]: 100%|███████████████████████| 40/40 [00:05<00:00,  6.98it/s, val_acc=45.1, val_loss=0.0126]\n"
     ]
    },
    {
     "name": "stdout",
     "output_type": "stream",
     "text": [
      "=======================================================================================================================================\n",
      "2024-05-24 13:42:21\n",
      "Epoch 12 / 200\n"
     ]
    },
    {
     "name": "stderr",
     "output_type": "stream",
     "text": [
      "[Train]: 100%|█████████████████████████| 352/352 [01:00<00:00,  5.86it/s, train_loss=1.33]\n",
      "[Valid]: 100%|█████████████████████████| 40/40 [00:05<00:00,  7.31it/s, val_acc=50, val_loss=0.0118]\n"
     ]
    },
    {
     "name": "stdout",
     "output_type": "stream",
     "text": [
      "Validation loss decreased (0.011906 --> 0.011778).\n",
      "=======================================================================================================================================\n",
      "2024-05-24 13:43:26\n",
      "Epoch 13 / 200\n"
     ]
    },
    {
     "name": "stderr",
     "output_type": "stream",
     "text": [
      "[Train]: 100%|██████████████████████████| 352/352 [01:00<00:00,  5.82it/s, train_loss=1.3]\n",
      "[Valid]: 100%|███████████████████████| 40/40 [00:05<00:00,  7.19it/s, val_acc=53.3, val_loss=0.0107]\n"
     ]
    },
    {
     "name": "stdout",
     "output_type": "stream",
     "text": [
      "Validation loss decreased (0.011778 --> 0.010676).\n",
      "=======================================================================================================================================\n",
      "2024-05-24 13:44:32\n",
      "Epoch 14 / 200\n"
     ]
    },
    {
     "name": "stderr",
     "output_type": "stream",
     "text": [
      "[Train]: 100%|█████████████████████████| 352/352 [01:00<00:00,  5.79it/s, train_loss=1.28]\n",
      "[Valid]: 100%|█████████████████████████| 40/40 [00:05<00:00,  7.37it/s, val_acc=48, val_loss=0.0119]\n"
     ]
    },
    {
     "name": "stdout",
     "output_type": "stream",
     "text": [
      "=======================================================================================================================================\n",
      "2024-05-24 13:45:38\n",
      "Epoch 15 / 200\n"
     ]
    },
    {
     "name": "stderr",
     "output_type": "stream",
     "text": [
      "[Train]: 100%|█████████████████████████| 352/352 [01:00<00:00,  5.81it/s, train_loss=1.27]\n",
      "[Valid]: 100%|███████████████████████| 40/40 [00:05<00:00,  7.06it/s, val_acc=43.2, val_loss=0.0136]\n"
     ]
    },
    {
     "name": "stdout",
     "output_type": "stream",
     "text": [
      "=======================================================================================================================================\n",
      "2024-05-24 13:46:45\n",
      "Epoch 16 / 200\n"
     ]
    },
    {
     "name": "stderr",
     "output_type": "stream",
     "text": [
      "[Train]: 100%|█████████████████████████| 352/352 [01:01<00:00,  5.76it/s, train_loss=1.25]\n",
      "[Valid]: 100%|███████████████████████| 40/40 [00:05<00:00,  7.36it/s, val_acc=53.1, val_loss=0.0109]\n"
     ]
    },
    {
     "name": "stdout",
     "output_type": "stream",
     "text": [
      "=======================================================================================================================================\n",
      "2024-05-24 13:47:51\n",
      "Epoch 17 / 200\n"
     ]
    },
    {
     "name": "stderr",
     "output_type": "stream",
     "text": [
      "[Train]: 100%|█████████████████████████| 352/352 [01:05<00:00,  5.35it/s, train_loss=1.24]\n",
      "[Valid]: 100%|████████████████████████| 40/40 [00:06<00:00,  6.10it/s, val_acc=51.9, val_loss=0.011]\n"
     ]
    },
    {
     "name": "stdout",
     "output_type": "stream",
     "text": [
      "=======================================================================================================================================\n",
      "2024-05-24 13:49:04\n",
      "Epoch 18 / 200\n"
     ]
    },
    {
     "name": "stderr",
     "output_type": "stream",
     "text": [
      "[Train]: 100%|█████████████████████████| 352/352 [01:10<00:00,  4.98it/s, train_loss=1.23]\n",
      "[Valid]: 100%|██████████████████████████| 40/40 [00:06<00:00,  6.07it/s, val_acc=52, val_loss=0.011]\n"
     ]
    },
    {
     "name": "stdout",
     "output_type": "stream",
     "text": [
      "=======================================================================================================================================\n",
      "2024-05-24 13:50:21\n",
      "Epoch 19 / 200\n"
     ]
    },
    {
     "name": "stderr",
     "output_type": "stream",
     "text": [
      "[Train]: 100%|█████████████████████████| 352/352 [01:09<00:00,  5.05it/s, train_loss=1.22]\n",
      "[Valid]: 100%|███████████████████████| 40/40 [00:06<00:00,  6.37it/s, val_acc=51.8, val_loss=0.0112]\n"
     ]
    },
    {
     "name": "stdout",
     "output_type": "stream",
     "text": [
      "=======================================================================================================================================\n",
      "2024-05-24 13:51:37\n",
      "Epoch 20 / 200\n"
     ]
    },
    {
     "name": "stderr",
     "output_type": "stream",
     "text": [
      "[Train]: 100%|██████████████████████████| 352/352 [01:10<00:00,  5.02it/s, train_loss=1.2]\n",
      "[Valid]: 100%|█████████████████████████| 40/40 [00:06<00:00,  6.19it/s, val_acc=52, val_loss=0.0112]\n"
     ]
    },
    {
     "name": "stdout",
     "output_type": "stream",
     "text": [
      "=======================================================================================================================================\n",
      "2024-05-24 13:52:53\n",
      "Epoch 21 / 200\n"
     ]
    },
    {
     "name": "stderr",
     "output_type": "stream",
     "text": [
      "[Train]: 100%|██████████████████████████| 352/352 [01:09<00:00,  5.09it/s, train_loss=1.2]\n",
      "[Valid]: 100%|███████████████████████| 40/40 [00:06<00:00,  6.05it/s, val_acc=51.6, val_loss=0.0113]\n"
     ]
    },
    {
     "name": "stdout",
     "output_type": "stream",
     "text": [
      "=======================================================================================================================================\n",
      "2024-05-24 13:54:09\n",
      "Epoch 22 / 200\n"
     ]
    },
    {
     "name": "stderr",
     "output_type": "stream",
     "text": [
      "[Train]: 100%|█████████████████████████| 352/352 [01:05<00:00,  5.40it/s, train_loss=1.19]\n",
      "[Valid]: 100%|███████████████████████| 40/40 [00:05<00:00,  7.29it/s, val_acc=51.5, val_loss=0.0114]\n"
     ]
    },
    {
     "name": "stdout",
     "output_type": "stream",
     "text": [
      "=======================================================================================================================================\n",
      "2024-05-24 13:55:20\n",
      "Epoch 23 / 200\n"
     ]
    },
    {
     "name": "stderr",
     "output_type": "stream",
     "text": [
      "[Train]: 100%|█████████████████████████| 352/352 [01:04<00:00,  5.43it/s, train_loss=1.19]\n",
      "[Valid]: 100%|███████████████████████| 40/40 [00:06<00:00,  6.07it/s, val_acc=53.3, val_loss=0.0112]\n"
     ]
    },
    {
     "name": "stdout",
     "output_type": "stream",
     "text": [
      "=======================================================================================================================================\n",
      "2024-05-24 13:56:31\n",
      "Epoch 24 / 200\n",
      "lr is updated to 0.05\n"
     ]
    },
    {
     "name": "stderr",
     "output_type": "stream",
     "text": [
      "[Train]: 100%|█████████████████████████| 352/352 [01:10<00:00,  4.97it/s, train_loss=1.05]\n",
      "[Valid]: 100%|██████████████████████| 40/40 [00:06<00:00,  5.86it/s, val_acc=58.7, val_loss=0.00964]\n"
     ]
    },
    {
     "name": "stdout",
     "output_type": "stream",
     "text": [
      "Validation loss decreased (0.010676 --> 0.009637).\n",
      "=======================================================================================================================================\n",
      "2024-05-24 13:57:49\n",
      "Epoch 25 / 200\n"
     ]
    },
    {
     "name": "stderr",
     "output_type": "stream",
     "text": [
      "[Train]: 100%|█████████████████████████| 352/352 [01:10<00:00,  5.00it/s, train_loss=1.04]\n",
      "[Valid]: 100%|██████████████████████| 40/40 [00:06<00:00,  5.97it/s, val_acc=60.6, val_loss=0.00916]\n"
     ]
    },
    {
     "name": "stdout",
     "output_type": "stream",
     "text": [
      "Validation loss decreased (0.009637 --> 0.009163).\n",
      "=======================================================================================================================================\n",
      "2024-05-24 13:59:06\n",
      "Epoch 26 / 200\n"
     ]
    },
    {
     "name": "stderr",
     "output_type": "stream",
     "text": [
      "[Train]: 100%|█████████████████████████| 352/352 [01:11<00:00,  4.95it/s, train_loss=1.03]\n",
      "[Valid]: 100%|██████████████████████| 40/40 [00:06<00:00,  6.15it/s, val_acc=62.2, val_loss=0.00893]\n"
     ]
    },
    {
     "name": "stdout",
     "output_type": "stream",
     "text": [
      "Validation loss decreased (0.009163 --> 0.008926).\n",
      "=======================================================================================================================================\n",
      "2024-05-24 14:00:24\n",
      "Epoch 27 / 200\n"
     ]
    },
    {
     "name": "stderr",
     "output_type": "stream",
     "text": [
      "[Train]: 100%|█████████████████████████| 352/352 [01:10<00:00,  5.00it/s, train_loss=1.03]\n",
      "[Valid]: 100%|██████████████████████| 40/40 [00:06<00:00,  6.23it/s, val_acc=60.5, val_loss=0.00934]\n"
     ]
    },
    {
     "name": "stdout",
     "output_type": "stream",
     "text": [
      "=======================================================================================================================================\n",
      "2024-05-24 14:01:40\n",
      "Epoch 28 / 200\n"
     ]
    },
    {
     "name": "stderr",
     "output_type": "stream",
     "text": [
      "[Train]: 100%|█████████████████████████| 352/352 [01:09<00:00,  5.03it/s, train_loss=1.03]\n",
      "[Valid]: 100%|███████████████████████| 40/40 [00:06<00:00,  6.11it/s, val_acc=62.3, val_loss=0.0088]\n"
     ]
    },
    {
     "name": "stdout",
     "output_type": "stream",
     "text": [
      "Validation loss decreased (0.008926 --> 0.008796).\n",
      "=======================================================================================================================================\n",
      "2024-05-24 14:02:57\n",
      "Epoch 29 / 200\n"
     ]
    },
    {
     "name": "stderr",
     "output_type": "stream",
     "text": [
      "[Train]: 100%|█████████████████████████| 352/352 [01:10<00:00,  4.99it/s, train_loss=1.02]\n",
      "[Valid]: 100%|██████████████████████| 40/40 [00:06<00:00,  5.93it/s, val_acc=61.2, val_loss=0.00903]\n"
     ]
    },
    {
     "name": "stdout",
     "output_type": "stream",
     "text": [
      "=======================================================================================================================================\n",
      "2024-05-24 14:04:14\n",
      "Epoch 30 / 200\n"
     ]
    },
    {
     "name": "stderr",
     "output_type": "stream",
     "text": [
      "[Train]: 100%|█████████████████████████| 352/352 [01:10<00:00,  5.00it/s, train_loss=1.02]\n",
      "[Valid]: 100%|██████████████████████| 40/40 [00:06<00:00,  5.96it/s, val_acc=58.4, val_loss=0.00975]\n"
     ]
    },
    {
     "name": "stdout",
     "output_type": "stream",
     "text": [
      "=======================================================================================================================================\n",
      "2024-05-24 14:05:31\n",
      "Epoch 31 / 200\n"
     ]
    },
    {
     "name": "stderr",
     "output_type": "stream",
     "text": [
      "[Train]: 100%|█████████████████████████| 352/352 [01:10<00:00,  5.02it/s, train_loss=1.02]\n",
      "[Valid]: 100%|██████████████████████| 40/40 [00:06<00:00,  5.99it/s, val_acc=60.8, val_loss=0.00914]\n"
     ]
    },
    {
     "name": "stdout",
     "output_type": "stream",
     "text": [
      "=======================================================================================================================================\n",
      "2024-05-24 14:06:48\n",
      "Epoch 32 / 200\n"
     ]
    },
    {
     "name": "stderr",
     "output_type": "stream",
     "text": [
      "[Train]: 100%|█████████████████████████| 352/352 [01:10<00:00,  5.03it/s, train_loss=1.01]\n",
      "[Valid]: 100%|██████████████████████| 40/40 [00:06<00:00,  6.04it/s, val_acc=58.6, val_loss=0.00964]\n"
     ]
    },
    {
     "name": "stdout",
     "output_type": "stream",
     "text": [
      "=======================================================================================================================================\n",
      "2024-05-24 14:08:05\n",
      "Epoch 33 / 200\n"
     ]
    },
    {
     "name": "stderr",
     "output_type": "stream",
     "text": [
      "[Train]: 100%|█████████████████████████| 352/352 [01:10<00:00,  5.02it/s, train_loss=1.01]\n",
      "[Valid]: 100%|██████████████████████| 40/40 [00:06<00:00,  6.15it/s, val_acc=60.9, val_loss=0.00893]\n"
     ]
    },
    {
     "name": "stdout",
     "output_type": "stream",
     "text": [
      "=======================================================================================================================================\n",
      "2024-05-24 14:09:22\n",
      "Epoch 34 / 200\n"
     ]
    },
    {
     "name": "stderr",
     "output_type": "stream",
     "text": [
      "[Train]: 100%|████████████████████████| 352/352 [01:09<00:00,  5.03it/s, train_loss=0.993]\n",
      "[Valid]: 100%|██████████████████████| 40/40 [00:06<00:00,  6.02it/s, val_acc=58.4, val_loss=0.00947]\n"
     ]
    },
    {
     "name": "stdout",
     "output_type": "stream",
     "text": [
      "=======================================================================================================================================\n",
      "2024-05-24 14:10:38\n",
      "Epoch 35 / 200\n"
     ]
    },
    {
     "name": "stderr",
     "output_type": "stream",
     "text": [
      "[Train]: 100%|████████████████████████| 352/352 [01:04<00:00,  5.43it/s, train_loss=0.996]\n",
      "[Valid]: 100%|██████████████████████| 40/40 [00:05<00:00,  7.36it/s, val_acc=63.3, val_loss=0.00832]\n"
     ]
    },
    {
     "name": "stdout",
     "output_type": "stream",
     "text": [
      "Validation loss decreased (0.008796 --> 0.008319).\n",
      "=======================================================================================================================================\n",
      "2024-05-24 14:11:48\n",
      "Epoch 36 / 200\n"
     ]
    },
    {
     "name": "stderr",
     "output_type": "stream",
     "text": [
      "[Train]: 100%|████████████████████████| 352/352 [00:59<00:00,  5.89it/s, train_loss=0.994]\n",
      "[Valid]: 100%|██████████████████████| 40/40 [00:05<00:00,  7.42it/s, val_acc=59.6, val_loss=0.00952]\n"
     ]
    },
    {
     "name": "stdout",
     "output_type": "stream",
     "text": [
      "=======================================================================================================================================\n",
      "2024-05-24 14:12:54\n",
      "Epoch 37 / 200\n"
     ]
    },
    {
     "name": "stderr",
     "output_type": "stream",
     "text": [
      "[Train]: 100%|████████████████████████| 352/352 [01:07<00:00,  5.20it/s, train_loss=0.983]\n",
      "[Valid]: 100%|██████████████████████| 40/40 [00:06<00:00,  6.04it/s, val_acc=63.9, val_loss=0.00843]\n"
     ]
    },
    {
     "name": "stdout",
     "output_type": "stream",
     "text": [
      "=======================================================================================================================================\n",
      "2024-05-24 14:14:08\n",
      "Epoch 38 / 200\n"
     ]
    },
    {
     "name": "stderr",
     "output_type": "stream",
     "text": [
      "[Train]: 100%|████████████████████████| 352/352 [01:11<00:00,  4.93it/s, train_loss=0.979]\n",
      "[Valid]: 100%|██████████████████████| 40/40 [00:06<00:00,  6.08it/s, val_acc=62.8, val_loss=0.00895]\n"
     ]
    },
    {
     "name": "stdout",
     "output_type": "stream",
     "text": [
      "=======================================================================================================================================\n",
      "2024-05-24 14:15:26\n",
      "Epoch 39 / 200\n"
     ]
    },
    {
     "name": "stderr",
     "output_type": "stream",
     "text": [
      "[Train]: 100%|████████████████████████| 352/352 [01:11<00:00,  4.90it/s, train_loss=0.983]\n",
      "[Valid]: 100%|██████████████████████| 40/40 [00:06<00:00,  6.06it/s, val_acc=64.6, val_loss=0.00813]\n"
     ]
    },
    {
     "name": "stdout",
     "output_type": "stream",
     "text": [
      "Validation loss decreased (0.008319 --> 0.008132).\n",
      "=======================================================================================================================================\n",
      "2024-05-24 14:16:44\n",
      "Epoch 40 / 200\n"
     ]
    },
    {
     "name": "stderr",
     "output_type": "stream",
     "text": [
      "[Train]: 100%|████████████████████████| 352/352 [01:11<00:00,  4.90it/s, train_loss=0.973]\n",
      "[Valid]: 100%|██████████████████████| 40/40 [00:06<00:00,  5.81it/s, val_acc=60.6, val_loss=0.00876]\n"
     ]
    },
    {
     "name": "stdout",
     "output_type": "stream",
     "text": [
      "=======================================================================================================================================\n",
      "2024-05-24 14:18:03\n",
      "Epoch 41 / 200\n"
     ]
    },
    {
     "name": "stderr",
     "output_type": "stream",
     "text": [
      "[Train]: 100%|████████████████████████| 352/352 [01:11<00:00,  4.90it/s, train_loss=0.975]\n",
      "[Valid]: 100%|███████████████████████| 40/40 [00:06<00:00,  6.08it/s, val_acc=62.6, val_loss=0.0087]\n"
     ]
    },
    {
     "name": "stdout",
     "output_type": "stream",
     "text": [
      "=======================================================================================================================================\n",
      "2024-05-24 14:19:22\n",
      "Epoch 42 / 200\n"
     ]
    },
    {
     "name": "stderr",
     "output_type": "stream",
     "text": [
      "[Train]: 100%|████████████████████████| 352/352 [01:12<00:00,  4.87it/s, train_loss=0.985]\n",
      "[Valid]: 100%|██████████████████████| 40/40 [00:05<00:00,  6.85it/s, val_acc=60.3, val_loss=0.00918]\n"
     ]
    },
    {
     "name": "stdout",
     "output_type": "stream",
     "text": [
      "=======================================================================================================================================\n",
      "2024-05-24 14:20:40\n",
      "Epoch 43 / 200\n"
     ]
    },
    {
     "name": "stderr",
     "output_type": "stream",
     "text": [
      "[Train]: 100%|████████████████████████| 352/352 [01:01<00:00,  5.73it/s, train_loss=0.973]\n",
      "[Valid]: 100%|██████████████████████| 40/40 [00:05<00:00,  7.06it/s, val_acc=63.7, val_loss=0.00843]\n"
     ]
    },
    {
     "name": "stdout",
     "output_type": "stream",
     "text": [
      "=======================================================================================================================================\n",
      "2024-05-24 14:21:47\n",
      "Epoch 44 / 200\n"
     ]
    },
    {
     "name": "stderr",
     "output_type": "stream",
     "text": [
      "[Train]: 100%|████████████████████████| 352/352 [01:00<00:00,  5.77it/s, train_loss=0.967]\n",
      "[Valid]: 100%|██████████████████████| 40/40 [00:05<00:00,  7.23it/s, val_acc=65.2, val_loss=0.00802]\n"
     ]
    },
    {
     "name": "stdout",
     "output_type": "stream",
     "text": [
      "Validation loss decreased (0.008132 --> 0.008020).\n",
      "=======================================================================================================================================\n",
      "2024-05-24 14:22:53\n",
      "Epoch 45 / 200\n"
     ]
    },
    {
     "name": "stderr",
     "output_type": "stream",
     "text": [
      "[Train]: 100%|█████████████████████████| 352/352 [01:02<00:00,  5.63it/s, train_loss=0.97]\n",
      "[Valid]: 100%|████████████████████████| 40/40 [00:05<00:00,  7.10it/s, val_acc=64, val_loss=0.00835]\n"
     ]
    },
    {
     "name": "stdout",
     "output_type": "stream",
     "text": [
      "=======================================================================================================================================\n",
      "2024-05-24 14:24:01\n",
      "Epoch 46 / 200\n"
     ]
    },
    {
     "name": "stderr",
     "output_type": "stream",
     "text": [
      "[Train]: 100%|████████████████████████| 352/352 [01:01<00:00,  5.74it/s, train_loss=0.965]\n",
      "[Valid]: 100%|███████████████████████| 40/40 [00:05<00:00,  7.04it/s, val_acc=64.8, val_loss=0.0083]\n"
     ]
    },
    {
     "name": "stdout",
     "output_type": "stream",
     "text": [
      "=======================================================================================================================================\n",
      "2024-05-24 14:25:08\n",
      "Epoch 47 / 200\n"
     ]
    },
    {
     "name": "stderr",
     "output_type": "stream",
     "text": [
      "[Train]: 100%|████████████████████████| 352/352 [01:03<00:00,  5.56it/s, train_loss=0.953]\n",
      "[Valid]: 100%|██████████████████████| 40/40 [00:05<00:00,  6.97it/s, val_acc=60.7, val_loss=0.00939]\n"
     ]
    },
    {
     "name": "stdout",
     "output_type": "stream",
     "text": [
      "=======================================================================================================================================\n",
      "2024-05-24 14:26:18\n",
      "Epoch 48 / 200\n"
     ]
    },
    {
     "name": "stderr",
     "output_type": "stream",
     "text": [
      "[Train]: 100%|████████████████████████| 352/352 [01:02<00:00,  5.64it/s, train_loss=0.973]\n",
      "[Valid]: 100%|███████████████████████| 40/40 [00:05<00:00,  7.16it/s, val_acc=60.9, val_loss=0.0091]\n"
     ]
    },
    {
     "name": "stdout",
     "output_type": "stream",
     "text": [
      "=======================================================================================================================================\n",
      "2024-05-24 14:27:26\n",
      "Epoch 49 / 200\n"
     ]
    },
    {
     "name": "stderr",
     "output_type": "stream",
     "text": [
      "[Train]: 100%|████████████████████████| 352/352 [01:01<00:00,  5.74it/s, train_loss=0.959]\n",
      "[Valid]: 100%|██████████████████████| 40/40 [00:05<00:00,  7.15it/s, val_acc=64.3, val_loss=0.00842]\n"
     ]
    },
    {
     "name": "stdout",
     "output_type": "stream",
     "text": [
      "=======================================================================================================================================\n",
      "2024-05-24 14:28:32\n",
      "Epoch 50 / 200\n"
     ]
    },
    {
     "name": "stderr",
     "output_type": "stream",
     "text": [
      "[Train]: 100%|████████████████████████| 352/352 [01:01<00:00,  5.69it/s, train_loss=0.959]\n",
      "[Valid]: 100%|██████████████████████| 40/40 [00:05<00:00,  7.12it/s, val_acc=61.4, val_loss=0.00905]\n"
     ]
    },
    {
     "name": "stdout",
     "output_type": "stream",
     "text": [
      "=======================================================================================================================================\n",
      "2024-05-24 14:29:40\n",
      "Epoch 51 / 200\n"
     ]
    },
    {
     "name": "stderr",
     "output_type": "stream",
     "text": [
      "[Train]: 100%|████████████████████████| 352/352 [01:02<00:00,  5.65it/s, train_loss=0.955]\n",
      "[Valid]: 100%|██████████████████████| 40/40 [00:05<00:00,  7.18it/s, val_acc=65.5, val_loss=0.00805]\n"
     ]
    },
    {
     "name": "stdout",
     "output_type": "stream",
     "text": [
      "=======================================================================================================================================\n",
      "2024-05-24 14:30:48\n",
      "Epoch 52 / 200\n"
     ]
    },
    {
     "name": "stderr",
     "output_type": "stream",
     "text": [
      "[Train]: 100%|████████████████████████| 352/352 [01:09<00:00,  5.09it/s, train_loss=0.941]\n",
      "[Valid]: 100%|██████████████████████| 40/40 [00:06<00:00,  6.20it/s, val_acc=64.7, val_loss=0.00836]\n"
     ]
    },
    {
     "name": "stdout",
     "output_type": "stream",
     "text": [
      "=======================================================================================================================================\n",
      "2024-05-24 14:32:03\n",
      "Epoch 53 / 200\n"
     ]
    },
    {
     "name": "stderr",
     "output_type": "stream",
     "text": [
      "[Train]: 100%|████████████████████████| 352/352 [01:12<00:00,  4.86it/s, train_loss=0.944]\n",
      "[Valid]: 100%|██████████████████████| 40/40 [00:07<00:00,  5.65it/s, val_acc=65.8, val_loss=0.00789]\n"
     ]
    },
    {
     "name": "stdout",
     "output_type": "stream",
     "text": [
      "Validation loss decreased (0.008020 --> 0.007893).\n",
      "=======================================================================================================================================\n",
      "2024-05-24 14:33:23\n",
      "Epoch 54 / 200\n"
     ]
    },
    {
     "name": "stderr",
     "output_type": "stream",
     "text": [
      "[Train]: 100%|████████████████████████| 352/352 [01:15<00:00,  4.66it/s, train_loss=0.948]\n",
      "[Valid]: 100%|██████████████████████| 40/40 [00:07<00:00,  5.55it/s, val_acc=65.7, val_loss=0.00792]\n"
     ]
    },
    {
     "name": "stdout",
     "output_type": "stream",
     "text": [
      "=======================================================================================================================================\n",
      "2024-05-24 14:34:46\n",
      "Epoch 55 / 200\n"
     ]
    },
    {
     "name": "stderr",
     "output_type": "stream",
     "text": [
      "[Train]: 100%|████████████████████████| 352/352 [01:15<00:00,  4.68it/s, train_loss=0.944]\n",
      "[Valid]: 100%|█████████████████████████| 40/40 [00:07<00:00,  5.46it/s, val_acc=63, val_loss=0.0086]\n"
     ]
    },
    {
     "name": "stdout",
     "output_type": "stream",
     "text": [
      "=======================================================================================================================================\n",
      "2024-05-24 14:36:08\n",
      "Epoch 56 / 200\n"
     ]
    },
    {
     "name": "stderr",
     "output_type": "stream",
     "text": [
      "[Train]: 100%|████████████████████████| 352/352 [01:19<00:00,  4.44it/s, train_loss=0.941]\n",
      "[Valid]: 100%|██████████████████████| 40/40 [00:07<00:00,  5.11it/s, val_acc=64.6, val_loss=0.00806]\n"
     ]
    },
    {
     "name": "stdout",
     "output_type": "stream",
     "text": [
      "=======================================================================================================================================\n",
      "2024-05-24 14:37:35\n",
      "Epoch 57 / 200\n"
     ]
    },
    {
     "name": "stderr",
     "output_type": "stream",
     "text": [
      "[Train]: 100%|████████████████████████| 352/352 [01:16<00:00,  4.59it/s, train_loss=0.946]\n",
      "[Valid]: 100%|██████████████████████| 40/40 [00:07<00:00,  5.55it/s, val_acc=65.1, val_loss=0.00809]\n"
     ]
    },
    {
     "name": "stdout",
     "output_type": "stream",
     "text": [
      "=======================================================================================================================================\n",
      "2024-05-24 14:38:59\n",
      "Epoch 58 / 200\n"
     ]
    },
    {
     "name": "stderr",
     "output_type": "stream",
     "text": [
      "[Train]: 100%|████████████████████████| 352/352 [01:16<00:00,  4.61it/s, train_loss=0.933]\n",
      "[Valid]: 100%|██████████████████████| 40/40 [00:07<00:00,  5.60it/s, val_acc=63.8, val_loss=0.00832]\n"
     ]
    },
    {
     "name": "stdout",
     "output_type": "stream",
     "text": [
      "=======================================================================================================================================\n",
      "2024-05-24 14:40:23\n",
      "Epoch 59 / 200\n"
     ]
    },
    {
     "name": "stderr",
     "output_type": "stream",
     "text": [
      "[Train]: 100%|████████████████████████| 352/352 [01:15<00:00,  4.67it/s, train_loss=0.941]\n",
      "[Valid]: 100%|██████████████████████| 40/40 [00:06<00:00,  6.04it/s, val_acc=65.2, val_loss=0.00805]\n"
     ]
    },
    {
     "name": "stdout",
     "output_type": "stream",
     "text": [
      "=======================================================================================================================================\n",
      "2024-05-24 14:41:45\n",
      "Epoch 60 / 200\n"
     ]
    },
    {
     "name": "stderr",
     "output_type": "stream",
     "text": [
      "[Train]: 100%|█████████████████████████| 352/352 [01:19<00:00,  4.43it/s, train_loss=0.93]\n",
      "[Valid]: 100%|██████████████████████| 40/40 [00:07<00:00,  5.05it/s, val_acc=64.8, val_loss=0.00818]\n"
     ]
    },
    {
     "name": "stdout",
     "output_type": "stream",
     "text": [
      "=======================================================================================================================================\n",
      "2024-05-24 14:43:12\n",
      "Epoch 61 / 200\n"
     ]
    },
    {
     "name": "stderr",
     "output_type": "stream",
     "text": [
      "[Train]: 100%|████████████████████████| 352/352 [01:21<00:00,  4.32it/s, train_loss=0.941]\n",
      "[Valid]: 100%|██████████████████████| 40/40 [00:07<00:00,  5.33it/s, val_acc=63.6, val_loss=0.00812]\n"
     ]
    },
    {
     "name": "stdout",
     "output_type": "stream",
     "text": [
      "=======================================================================================================================================\n",
      "2024-05-24 14:44:41\n",
      "Epoch 62 / 200\n"
     ]
    },
    {
     "name": "stderr",
     "output_type": "stream",
     "text": [
      "[Train]: 100%|████████████████████████| 352/352 [01:14<00:00,  4.73it/s, train_loss=0.935]\n",
      "[Valid]: 100%|██████████████████████| 40/40 [00:07<00:00,  5.64it/s, val_acc=64.4, val_loss=0.00828]\n"
     ]
    },
    {
     "name": "stdout",
     "output_type": "stream",
     "text": [
      "=======================================================================================================================================\n",
      "2024-05-24 14:46:03\n",
      "Epoch 63 / 200\n"
     ]
    },
    {
     "name": "stderr",
     "output_type": "stream",
     "text": [
      "[Train]: 100%|████████████████████████| 352/352 [01:13<00:00,  4.80it/s, train_loss=0.935]\n",
      "[Valid]: 100%|██████████████████████| 40/40 [00:06<00:00,  5.97it/s, val_acc=61.1, val_loss=0.00931]\n"
     ]
    },
    {
     "name": "stdout",
     "output_type": "stream",
     "text": [
      "=======================================================================================================================================\n",
      "2024-05-24 14:47:23\n",
      "Epoch 64 / 200\n",
      "lr is updated to 0.025\n"
     ]
    },
    {
     "name": "stderr",
     "output_type": "stream",
     "text": [
      "[Train]: 100%|████████████████████████| 352/352 [01:10<00:00,  5.00it/s, train_loss=0.824]\n",
      "[Valid]: 100%|██████████████████████| 40/40 [00:06<00:00,  6.09it/s, val_acc=70.5, val_loss=0.00694]\n"
     ]
    },
    {
     "name": "stdout",
     "output_type": "stream",
     "text": [
      "Validation loss decreased (0.007893 --> 0.006938).\n",
      "=======================================================================================================================================\n",
      "2024-05-24 14:48:40\n",
      "Epoch 65 / 200\n"
     ]
    },
    {
     "name": "stderr",
     "output_type": "stream",
     "text": [
      "[Train]: 100%|████████████████████████| 352/352 [01:03<00:00,  5.52it/s, train_loss=0.798]\n",
      "[Valid]: 100%|███████████████████████| 40/40 [00:05<00:00,  6.83it/s, val_acc=70.6, val_loss=0.0068]\n"
     ]
    },
    {
     "name": "stdout",
     "output_type": "stream",
     "text": [
      "Validation loss decreased (0.006938 --> 0.006798).\n",
      "=======================================================================================================================================\n",
      "2024-05-24 14:49:49\n",
      "Epoch 66 / 200\n"
     ]
    },
    {
     "name": "stderr",
     "output_type": "stream",
     "text": [
      "[Train]: 100%|████████████████████████| 352/352 [01:02<00:00,  5.64it/s, train_loss=0.801]\n",
      "[Valid]: 100%|███████████████████████| 40/40 [00:05<00:00,  7.06it/s, val_acc=70.9, val_loss=0.0068]\n"
     ]
    },
    {
     "name": "stdout",
     "output_type": "stream",
     "text": [
      "=======================================================================================================================================\n",
      "2024-05-24 14:50:57\n",
      "Epoch 67 / 200\n"
     ]
    },
    {
     "name": "stderr",
     "output_type": "stream",
     "text": [
      "[Train]: 100%|████████████████████████| 352/352 [01:03<00:00,  5.58it/s, train_loss=0.796]\n",
      "[Valid]: 100%|██████████████████████| 40/40 [00:05<00:00,  6.96it/s, val_acc=69.8, val_loss=0.00711]\n"
     ]
    },
    {
     "name": "stdout",
     "output_type": "stream",
     "text": [
      "=======================================================================================================================================\n",
      "2024-05-24 14:52:06\n",
      "Epoch 68 / 200\n"
     ]
    },
    {
     "name": "stderr",
     "output_type": "stream",
     "text": [
      "[Train]: 100%|████████████████████████| 352/352 [01:02<00:00,  5.60it/s, train_loss=0.799]\n",
      "[Valid]: 100%|██████████████████████| 40/40 [00:05<00:00,  7.07it/s, val_acc=68.8, val_loss=0.00732]\n"
     ]
    },
    {
     "name": "stdout",
     "output_type": "stream",
     "text": [
      "=======================================================================================================================================\n",
      "2024-05-24 14:53:15\n",
      "Epoch 69 / 200\n"
     ]
    },
    {
     "name": "stderr",
     "output_type": "stream",
     "text": [
      "[Train]: 100%|████████████████████████| 352/352 [01:03<00:00,  5.58it/s, train_loss=0.799]\n",
      "[Valid]: 100%|██████████████████████| 40/40 [00:05<00:00,  7.02it/s, val_acc=69.9, val_loss=0.00696]\n"
     ]
    },
    {
     "name": "stdout",
     "output_type": "stream",
     "text": [
      "=======================================================================================================================================\n",
      "2024-05-24 14:54:23\n",
      "Epoch 70 / 200\n"
     ]
    },
    {
     "name": "stderr",
     "output_type": "stream",
     "text": [
      "[Train]: 100%|████████████████████████| 352/352 [01:02<00:00,  5.64it/s, train_loss=0.803]\n",
      "[Valid]: 100%|██████████████████████| 40/40 [00:05<00:00,  6.97it/s, val_acc=70.3, val_loss=0.00689]\n"
     ]
    },
    {
     "name": "stdout",
     "output_type": "stream",
     "text": [
      "=======================================================================================================================================\n",
      "2024-05-24 14:55:32\n",
      "Epoch 71 / 200\n"
     ]
    },
    {
     "name": "stderr",
     "output_type": "stream",
     "text": [
      "[Train]: 100%|████████████████████████| 352/352 [01:02<00:00,  5.66it/s, train_loss=0.797]\n",
      "[Valid]: 100%|██████████████████████| 40/40 [00:05<00:00,  7.15it/s, val_acc=68.5, val_loss=0.00735]\n"
     ]
    },
    {
     "name": "stdout",
     "output_type": "stream",
     "text": [
      "=======================================================================================================================================\n",
      "2024-05-24 14:56:39\n",
      "Epoch 72 / 200\n"
     ]
    },
    {
     "name": "stderr",
     "output_type": "stream",
     "text": [
      "[Train]: 100%|████████████████████████| 352/352 [01:01<00:00,  5.68it/s, train_loss=0.797]\n",
      "[Valid]: 100%|██████████████████████| 40/40 [00:05<00:00,  7.27it/s, val_acc=70.4, val_loss=0.00708]\n"
     ]
    },
    {
     "name": "stdout",
     "output_type": "stream",
     "text": [
      "=======================================================================================================================================\n",
      "2024-05-24 14:57:47\n",
      "Epoch 73 / 200\n"
     ]
    },
    {
     "name": "stderr",
     "output_type": "stream",
     "text": [
      "[Train]: 100%|████████████████████████| 352/352 [01:02<00:00,  5.62it/s, train_loss=0.801]\n",
      "[Valid]: 100%|██████████████████████| 40/40 [00:05<00:00,  7.17it/s, val_acc=69.7, val_loss=0.00694]\n"
     ]
    },
    {
     "name": "stdout",
     "output_type": "stream",
     "text": [
      "=======================================================================================================================================\n",
      "2024-05-24 14:58:55\n",
      "Epoch 74 / 200\n"
     ]
    },
    {
     "name": "stderr",
     "output_type": "stream",
     "text": [
      "[Train]: 100%|████████████████████████| 352/352 [01:02<00:00,  5.64it/s, train_loss=0.799]\n",
      "[Valid]: 100%|██████████████████████| 40/40 [00:05<00:00,  7.04it/s, val_acc=69.6, val_loss=0.00713]\n"
     ]
    },
    {
     "name": "stdout",
     "output_type": "stream",
     "text": [
      "=======================================================================================================================================\n",
      "2024-05-24 15:00:03\n",
      "Epoch 75 / 200\n"
     ]
    },
    {
     "name": "stderr",
     "output_type": "stream",
     "text": [
      "[Train]: 100%|████████████████████████| 352/352 [01:02<00:00,  5.60it/s, train_loss=0.799]\n",
      "[Valid]: 100%|██████████████████████| 40/40 [00:05<00:00,  7.07it/s, val_acc=69.9, val_loss=0.00693]\n"
     ]
    },
    {
     "name": "stdout",
     "output_type": "stream",
     "text": [
      "=======================================================================================================================================\n",
      "2024-05-24 15:01:12\n",
      "Epoch 76 / 200\n",
      "lr is updated to 0.0125\n"
     ]
    },
    {
     "name": "stderr",
     "output_type": "stream",
     "text": [
      "[Train]: 100%|████████████████████████| 352/352 [01:02<00:00,  5.68it/s, train_loss=0.714]\n",
      "[Valid]: 100%|██████████████████████| 40/40 [00:05<00:00,  7.22it/s, val_acc=74.3, val_loss=0.00594]\n"
     ]
    },
    {
     "name": "stdout",
     "output_type": "stream",
     "text": [
      "Validation loss decreased (0.006798 --> 0.005943).\n",
      "=======================================================================================================================================\n",
      "2024-05-24 15:02:19\n",
      "Epoch 77 / 200\n"
     ]
    },
    {
     "name": "stderr",
     "output_type": "stream",
     "text": [
      "[Train]: 100%|██████████████████████████| 352/352 [01:02<00:00,  5.66it/s, train_loss=0.7]\n",
      "[Valid]: 100%|██████████████████████| 40/40 [00:05<00:00,  7.12it/s, val_acc=75.3, val_loss=0.00579]\n"
     ]
    },
    {
     "name": "stdout",
     "output_type": "stream",
     "text": [
      "Validation loss decreased (0.005943 --> 0.005791).\n",
      "=======================================================================================================================================\n",
      "2024-05-24 15:03:27\n",
      "Epoch 78 / 200\n"
     ]
    },
    {
     "name": "stderr",
     "output_type": "stream",
     "text": [
      "[Train]: 100%|████████████████████████| 352/352 [01:07<00:00,  5.20it/s, train_loss=0.694]\n",
      "[Valid]: 100%|██████████████████████| 40/40 [00:07<00:00,  5.25it/s, val_acc=74.4, val_loss=0.00593]\n"
     ]
    },
    {
     "name": "stdout",
     "output_type": "stream",
     "text": [
      "=======================================================================================================================================\n",
      "2024-05-24 15:04:42\n",
      "Epoch 79 / 200\n"
     ]
    },
    {
     "name": "stderr",
     "output_type": "stream",
     "text": [
      "[Train]: 100%|████████████████████████| 352/352 [01:31<00:00,  3.86it/s, train_loss=0.694]\n",
      "[Valid]: 100%|████████████████████████| 40/40 [00:07<00:00,  5.23it/s, val_acc=74.8, val_loss=0.006]\n"
     ]
    },
    {
     "name": "stdout",
     "output_type": "stream",
     "text": [
      "=======================================================================================================================================\n",
      "2024-05-24 15:06:21\n",
      "Epoch 80 / 200\n"
     ]
    },
    {
     "name": "stderr",
     "output_type": "stream",
     "text": [
      "[Train]: 100%|████████████████████████| 352/352 [01:48<00:00,  3.26it/s, train_loss=0.689]\n",
      "[Valid]: 100%|██████████████████████| 40/40 [00:13<00:00,  2.91it/s, val_acc=75.4, val_loss=0.00574]\n"
     ]
    },
    {
     "name": "stdout",
     "output_type": "stream",
     "text": [
      "Validation loss decreased (0.005791 --> 0.005735).\n",
      "=======================================================================================================================================\n",
      "2024-05-24 15:08:23\n",
      "Epoch 81 / 200\n"
     ]
    },
    {
     "name": "stderr",
     "output_type": "stream",
     "text": [
      "[Train]: 100%|████████████████████████| 352/352 [03:33<00:00,  1.65it/s, train_loss=0.684]\n",
      "[Valid]: 100%|████████████████████████| 40/40 [00:08<00:00,  4.46it/s, val_acc=74, val_loss=0.00623]\n"
     ]
    },
    {
     "name": "stdout",
     "output_type": "stream",
     "text": [
      "=======================================================================================================================================\n",
      "2024-05-24 15:12:05\n",
      "Epoch 82 / 200\n"
     ]
    },
    {
     "name": "stderr",
     "output_type": "stream",
     "text": [
      "[Train]: 100%|████████████████████████| 352/352 [07:31<00:00,  1.28s/it, train_loss=0.684]\n",
      "[Valid]: 100%|██████████████████████| 40/40 [00:22<00:00,  1.76it/s, val_acc=74.5, val_loss=0.00609]\n"
     ]
    },
    {
     "name": "stdout",
     "output_type": "stream",
     "text": [
      "=======================================================================================================================================\n",
      "2024-05-24 15:20:00\n",
      "Epoch 83 / 200\n"
     ]
    },
    {
     "name": "stderr",
     "output_type": "stream",
     "text": [
      "[Train]: 100%|████████████████████████| 352/352 [03:05<00:00,  1.89it/s, train_loss=0.686]\n",
      "[Valid]: 100%|██████████████████████| 40/40 [00:09<00:00,  4.24it/s, val_acc=72.4, val_loss=0.00639]\n"
     ]
    },
    {
     "name": "stdout",
     "output_type": "stream",
     "text": [
      "=======================================================================================================================================\n",
      "2024-05-24 15:23:15\n",
      "Epoch 84 / 200\n"
     ]
    },
    {
     "name": "stderr",
     "output_type": "stream",
     "text": [
      "[Train]: 100%|████████████████████████| 352/352 [07:50<00:00,  1.34s/it, train_loss=0.682]\n",
      "[Valid]: 100%|██████████████████████| 40/40 [00:13<00:00,  2.97it/s, val_acc=74.6, val_loss=0.00601]\n"
     ]
    },
    {
     "name": "stdout",
     "output_type": "stream",
     "text": [
      "=======================================================================================================================================\n",
      "2024-05-24 15:31:19\n",
      "Epoch 85 / 200\n"
     ]
    },
    {
     "name": "stderr",
     "output_type": "stream",
     "text": [
      "[Train]: 100%|█████████████████████████| 352/352 [02:56<00:00,  1.99it/s, train_loss=0.68]\n",
      "[Valid]: 100%|████████████████████████| 40/40 [00:06<00:00,  5.83it/s, val_acc=74, val_loss=0.00602]\n"
     ]
    },
    {
     "name": "stdout",
     "output_type": "stream",
     "text": [
      "=======================================================================================================================================\n",
      "2024-05-24 15:34:23\n",
      "Epoch 86 / 200\n"
     ]
    },
    {
     "name": "stderr",
     "output_type": "stream",
     "text": [
      "[Train]: 100%|████████████████████████| 352/352 [01:07<00:00,  5.25it/s, train_loss=0.685]\n",
      "[Valid]: 100%|██████████████████████| 40/40 [00:05<00:00,  6.94it/s, val_acc=74.6, val_loss=0.00569]\n"
     ]
    },
    {
     "name": "stdout",
     "output_type": "stream",
     "text": [
      "Validation loss decreased (0.005735 --> 0.005691).\n",
      "=======================================================================================================================================\n",
      "2024-05-24 15:35:35\n",
      "Epoch 87 / 200\n"
     ]
    },
    {
     "name": "stderr",
     "output_type": "stream",
     "text": [
      "[Train]: 100%|████████████████████████| 352/352 [01:04<00:00,  5.48it/s, train_loss=0.688]\n",
      "[Valid]: 100%|██████████████████████| 40/40 [00:05<00:00,  6.97it/s, val_acc=73.8, val_loss=0.00606]\n"
     ]
    },
    {
     "name": "stdout",
     "output_type": "stream",
     "text": [
      "=======================================================================================================================================\n",
      "2024-05-24 15:36:45\n",
      "Epoch 88 / 200\n"
     ]
    },
    {
     "name": "stderr",
     "output_type": "stream",
     "text": [
      "[Train]: 100%|████████████████████████| 352/352 [01:08<00:00,  5.14it/s, train_loss=0.685]\n",
      "[Valid]: 100%|█████████████████████████| 40/40 [00:07<00:00,  5.11it/s, val_acc=74, val_loss=0.0059]\n"
     ]
    },
    {
     "name": "stdout",
     "output_type": "stream",
     "text": [
      "=======================================================================================================================================\n",
      "2024-05-24 15:38:02\n",
      "Epoch 89 / 200\n"
     ]
    },
    {
     "name": "stderr",
     "output_type": "stream",
     "text": [
      "[Train]: 100%|████████████████████████| 352/352 [01:08<00:00,  5.15it/s, train_loss=0.682]\n",
      "[Valid]: 100%|██████████████████████| 40/40 [00:05<00:00,  6.75it/s, val_acc=74.5, val_loss=0.00595]\n"
     ]
    },
    {
     "name": "stdout",
     "output_type": "stream",
     "text": [
      "=======================================================================================================================================\n",
      "2024-05-24 15:39:16\n",
      "Epoch 90 / 200\n"
     ]
    },
    {
     "name": "stderr",
     "output_type": "stream",
     "text": [
      "[Train]: 100%|████████████████████████| 352/352 [01:09<00:00,  5.04it/s, train_loss=0.686]\n",
      "[Valid]: 100%|████████████████████████| 40/40 [00:05<00:00,  6.73it/s, val_acc=73.3, val_loss=0.006]\n"
     ]
    },
    {
     "name": "stdout",
     "output_type": "stream",
     "text": [
      "=======================================================================================================================================\n",
      "2024-05-24 15:40:32\n",
      "Epoch 91 / 200\n"
     ]
    },
    {
     "name": "stderr",
     "output_type": "stream",
     "text": [
      "[Train]: 100%|████████████████████████| 352/352 [01:07<00:00,  5.19it/s, train_loss=0.692]\n",
      "[Valid]: 100%|██████████████████████| 40/40 [00:05<00:00,  6.83it/s, val_acc=72.8, val_loss=0.00625]\n"
     ]
    },
    {
     "name": "stdout",
     "output_type": "stream",
     "text": [
      "=======================================================================================================================================\n",
      "2024-05-24 15:41:46\n",
      "Epoch 92 / 200\n"
     ]
    },
    {
     "name": "stderr",
     "output_type": "stream",
     "text": [
      "[Train]: 100%|████████████████████████| 352/352 [01:11<00:00,  4.96it/s, train_loss=0.681]\n",
      "[Valid]: 100%|██████████████████████| 40/40 [00:05<00:00,  6.70it/s, val_acc=74.1, val_loss=0.00615]\n"
     ]
    },
    {
     "name": "stdout",
     "output_type": "stream",
     "text": [
      "=======================================================================================================================================\n",
      "2024-05-24 15:43:03\n",
      "Epoch 93 / 200\n"
     ]
    },
    {
     "name": "stderr",
     "output_type": "stream",
     "text": [
      "[Train]: 100%|████████████████████████| 352/352 [01:07<00:00,  5.19it/s, train_loss=0.681]\n",
      "[Valid]: 100%|██████████████████████| 40/40 [00:06<00:00,  5.87it/s, val_acc=72.7, val_loss=0.00628]\n"
     ]
    },
    {
     "name": "stdout",
     "output_type": "stream",
     "text": [
      "=======================================================================================================================================\n",
      "2024-05-24 15:44:17\n",
      "Epoch 94 / 200\n"
     ]
    },
    {
     "name": "stderr",
     "output_type": "stream",
     "text": [
      "[Train]: 100%|█████████████████████████| 352/352 [01:09<00:00,  5.04it/s, train_loss=0.69]\n",
      "[Valid]: 100%|███████████████████████| 40/40 [00:06<00:00,  5.79it/s, val_acc=73.4, val_loss=0.0061]\n"
     ]
    },
    {
     "name": "stdout",
     "output_type": "stream",
     "text": [
      "=======================================================================================================================================\n",
      "2024-05-24 15:45:34\n",
      "Epoch 95 / 200\n"
     ]
    },
    {
     "name": "stderr",
     "output_type": "stream",
     "text": [
      "[Train]: 100%|████████████████████████| 352/352 [01:46<00:00,  3.32it/s, train_loss=0.681]\n",
      "[Valid]: 100%|██████████████████████| 40/40 [00:07<00:00,  5.10it/s, val_acc=74.2, val_loss=0.00615]\n"
     ]
    },
    {
     "name": "stdout",
     "output_type": "stream",
     "text": [
      "=======================================================================================================================================\n",
      "2024-05-24 15:47:28\n",
      "Epoch 96 / 200\n"
     ]
    },
    {
     "name": "stderr",
     "output_type": "stream",
     "text": [
      "[Train]: 100%|████████████████████████| 352/352 [01:47<00:00,  3.27it/s, train_loss=0.678]\n",
      "[Valid]: 100%|██████████████████████| 40/40 [00:07<00:00,  5.09it/s, val_acc=73.4, val_loss=0.00618]\n"
     ]
    },
    {
     "name": "stdout",
     "output_type": "stream",
     "text": [
      "=======================================================================================================================================\n",
      "2024-05-24 15:49:24\n",
      "Epoch 97 / 200\n",
      "lr is updated to 0.00625\n"
     ]
    },
    {
     "name": "stderr",
     "output_type": "stream",
     "text": [
      "[Train]: 100%|████████████████████████| 352/352 [01:48<00:00,  3.24it/s, train_loss=0.628]\n",
      "[Valid]: 100%|██████████████████████| 40/40 [00:08<00:00,  4.66it/s, val_acc=77.4, val_loss=0.00535]\n"
     ]
    },
    {
     "name": "stdout",
     "output_type": "stream",
     "text": [
      "Validation loss decreased (0.005691 --> 0.005347).\n",
      "=======================================================================================================================================\n",
      "2024-05-24 15:51:21\n",
      "Epoch 98 / 200\n"
     ]
    },
    {
     "name": "stderr",
     "output_type": "stream",
     "text": [
      "[Train]: 100%|██████████████████████████| 352/352 [01:55<00:00,  3.06it/s, train_loss=0.6]\n",
      "[Valid]: 100%|██████████████████████| 40/40 [00:07<00:00,  5.03it/s, val_acc=76.9, val_loss=0.00533]\n"
     ]
    },
    {
     "name": "stdout",
     "output_type": "stream",
     "text": [
      "Validation loss decreased (0.005347 --> 0.005331).\n",
      "=======================================================================================================================================\n",
      "2024-05-24 15:53:24\n",
      "Epoch 99 / 200\n"
     ]
    },
    {
     "name": "stderr",
     "output_type": "stream",
     "text": [
      "[Train]: 100%|██████████████████████████| 352/352 [02:03<00:00,  2.86it/s, train_loss=0.6]\n",
      "[Valid]: 100%|███████████████████████| 40/40 [00:08<00:00,  4.98it/s, val_acc=76.7, val_loss=0.0055]\n"
     ]
    },
    {
     "name": "stdout",
     "output_type": "stream",
     "text": [
      "=======================================================================================================================================\n",
      "2024-05-24 15:55:35\n",
      "Epoch 100 / 200\n"
     ]
    },
    {
     "name": "stderr",
     "output_type": "stream",
     "text": [
      "[Train]: 100%|████████████████████████| 352/352 [01:57<00:00,  3.00it/s, train_loss=0.595]\n",
      "[Valid]: 100%|██████████████████████| 40/40 [00:08<00:00,  4.44it/s, val_acc=77.1, val_loss=0.00519]\n"
     ]
    },
    {
     "name": "stdout",
     "output_type": "stream",
     "text": [
      "Validation loss decreased (0.005331 --> 0.005188).\n",
      "=======================================================================================================================================\n",
      "2024-05-24 15:57:41\n",
      "Epoch 101 / 200\n"
     ]
    },
    {
     "name": "stderr",
     "output_type": "stream",
     "text": [
      "[Train]: 100%|████████████████████████| 352/352 [02:05<00:00,  2.80it/s, train_loss=0.589]\n",
      "[Valid]: 100%|██████████████████████| 40/40 [00:08<00:00,  4.59it/s, val_acc=76.6, val_loss=0.00549]\n"
     ]
    },
    {
     "name": "stdout",
     "output_type": "stream",
     "text": [
      "=======================================================================================================================================\n",
      "2024-05-24 15:59:56\n",
      "Epoch 102 / 200\n"
     ]
    },
    {
     "name": "stderr",
     "output_type": "stream",
     "text": [
      "[Train]: 100%|████████████████████████| 352/352 [02:23<00:00,  2.46it/s, train_loss=0.595]\n",
      "[Valid]: 100%|██████████████████████| 40/40 [00:08<00:00,  4.47it/s, val_acc=77.7, val_loss=0.00529]\n"
     ]
    },
    {
     "name": "stdout",
     "output_type": "stream",
     "text": [
      "=======================================================================================================================================\n",
      "2024-05-24 16:02:28\n",
      "Epoch 103 / 200\n"
     ]
    },
    {
     "name": "stderr",
     "output_type": "stream",
     "text": [
      "[Train]: 100%|████████████████████████| 352/352 [02:27<00:00,  2.39it/s, train_loss=0.594]\n",
      "[Valid]: 100%|██████████████████████| 40/40 [00:09<00:00,  4.38it/s, val_acc=76.5, val_loss=0.00539]\n"
     ]
    },
    {
     "name": "stdout",
     "output_type": "stream",
     "text": [
      "=======================================================================================================================================\n",
      "2024-05-24 16:05:05\n",
      "Epoch 104 / 200\n"
     ]
    },
    {
     "name": "stderr",
     "output_type": "stream",
     "text": [
      "[Train]: 100%|████████████████████████| 352/352 [02:42<00:00,  2.16it/s, train_loss=0.587]\n",
      "[Valid]: 100%|████████████████████████| 40/40 [00:10<00:00,  3.80it/s, val_acc=78, val_loss=0.00517]\n"
     ]
    },
    {
     "name": "stdout",
     "output_type": "stream",
     "text": [
      "Validation loss decreased (0.005188 --> 0.005175).\n",
      "=======================================================================================================================================\n",
      "2024-05-24 16:07:58\n",
      "Epoch 105 / 200\n"
     ]
    },
    {
     "name": "stderr",
     "output_type": "stream",
     "text": [
      "[Train]: 100%|████████████████████████| 352/352 [02:50<00:00,  2.06it/s, train_loss=0.585]\n",
      "[Valid]: 100%|██████████████████████| 40/40 [00:11<00:00,  3.48it/s, val_acc=77.1, val_loss=0.00524]\n"
     ]
    },
    {
     "name": "stdout",
     "output_type": "stream",
     "text": [
      "=======================================================================================================================================\n",
      "2024-05-24 16:11:00\n",
      "Epoch 106 / 200\n"
     ]
    },
    {
     "name": "stderr",
     "output_type": "stream",
     "text": [
      "[Train]: 100%|████████████████████████| 352/352 [02:14<00:00,  2.62it/s, train_loss=0.581]\n",
      "[Valid]: 100%|██████████████████████| 40/40 [00:08<00:00,  4.77it/s, val_acc=77.6, val_loss=0.00539]\n"
     ]
    },
    {
     "name": "stdout",
     "output_type": "stream",
     "text": [
      "=======================================================================================================================================\n",
      "2024-05-24 16:13:23\n",
      "Epoch 107 / 200\n"
     ]
    },
    {
     "name": "stderr",
     "output_type": "stream",
     "text": [
      "[Train]: 100%|████████████████████████| 352/352 [01:14<00:00,  4.71it/s, train_loss=0.589]\n",
      "[Valid]: 100%|██████████████████████| 40/40 [00:06<00:00,  6.06it/s, val_acc=77.5, val_loss=0.00526]\n"
     ]
    },
    {
     "name": "stdout",
     "output_type": "stream",
     "text": [
      "=======================================================================================================================================\n",
      "2024-05-24 16:14:44\n",
      "Epoch 108 / 200\n"
     ]
    },
    {
     "name": "stderr",
     "output_type": "stream",
     "text": [
      "[Train]: 100%|████████████████████████| 352/352 [01:11<00:00,  4.95it/s, train_loss=0.589]\n",
      "[Valid]: 100%|██████████████████████| 40/40 [00:06<00:00,  6.46it/s, val_acc=77.5, val_loss=0.00524]\n"
     ]
    },
    {
     "name": "stdout",
     "output_type": "stream",
     "text": [
      "=======================================================================================================================================\n",
      "2024-05-24 16:16:02\n",
      "Epoch 109 / 200\n"
     ]
    },
    {
     "name": "stderr",
     "output_type": "stream",
     "text": [
      "[Train]: 100%|████████████████████████| 352/352 [01:08<00:00,  5.11it/s, train_loss=0.592]\n",
      "[Valid]: 100%|██████████████████████| 40/40 [00:06<00:00,  5.73it/s, val_acc=77.8, val_loss=0.00506]\n"
     ]
    },
    {
     "name": "stdout",
     "output_type": "stream",
     "text": [
      "Validation loss decreased (0.005175 --> 0.005060).\n",
      "=======================================================================================================================================\n",
      "2024-05-24 16:17:18\n",
      "Epoch 110 / 200\n"
     ]
    },
    {
     "name": "stderr",
     "output_type": "stream",
     "text": [
      "[Train]: 100%|████████████████████████| 352/352 [01:11<00:00,  4.89it/s, train_loss=0.584]\n",
      "[Valid]: 100%|██████████████████████| 40/40 [00:07<00:00,  5.35it/s, val_acc=76.5, val_loss=0.00567]\n"
     ]
    },
    {
     "name": "stdout",
     "output_type": "stream",
     "text": [
      "=======================================================================================================================================\n",
      "2024-05-24 16:18:37\n",
      "Epoch 111 / 200\n"
     ]
    },
    {
     "name": "stderr",
     "output_type": "stream",
     "text": [
      "[Train]: 100%|████████████████████████| 352/352 [02:00<00:00,  2.93it/s, train_loss=0.582]\n",
      "[Valid]: 100%|██████████████████████| 40/40 [00:08<00:00,  4.98it/s, val_acc=76.9, val_loss=0.00542]\n"
     ]
    },
    {
     "name": "stdout",
     "output_type": "stream",
     "text": [
      "=======================================================================================================================================\n",
      "2024-05-24 16:20:45\n",
      "Epoch 112 / 200\n"
     ]
    },
    {
     "name": "stderr",
     "output_type": "stream",
     "text": [
      "[Train]: 100%|████████████████████████| 352/352 [01:53<00:00,  3.10it/s, train_loss=0.579]\n",
      "[Valid]: 100%|██████████████████████| 40/40 [00:08<00:00,  4.66it/s, val_acc=77.5, val_loss=0.00531]\n"
     ]
    },
    {
     "name": "stdout",
     "output_type": "stream",
     "text": [
      "=======================================================================================================================================\n",
      "2024-05-24 16:22:47\n",
      "Epoch 113 / 200\n"
     ]
    },
    {
     "name": "stderr",
     "output_type": "stream",
     "text": [
      "[Train]: 100%|████████████████████████| 352/352 [01:54<00:00,  3.07it/s, train_loss=0.588]\n",
      "[Valid]: 100%|████████████████████████| 40/40 [00:08<00:00,  4.95it/s, val_acc=76, val_loss=0.00549]\n"
     ]
    },
    {
     "name": "stdout",
     "output_type": "stream",
     "text": [
      "=======================================================================================================================================\n",
      "2024-05-24 16:24:50\n",
      "Epoch 114 / 200\n"
     ]
    },
    {
     "name": "stderr",
     "output_type": "stream",
     "text": [
      "[Train]: 100%|████████████████████████| 352/352 [01:47<00:00,  3.29it/s, train_loss=0.581]\n",
      "[Valid]: 100%|███████████████████████| 40/40 [00:07<00:00,  5.06it/s, val_acc=76.9, val_loss=0.0053]\n"
     ]
    },
    {
     "name": "stdout",
     "output_type": "stream",
     "text": [
      "=======================================================================================================================================\n",
      "2024-05-24 16:26:45\n",
      "Epoch 115 / 200\n"
     ]
    },
    {
     "name": "stderr",
     "output_type": "stream",
     "text": [
      "[Train]: 100%|████████████████████████| 352/352 [01:53<00:00,  3.10it/s, train_loss=0.579]\n",
      "[Valid]: 100%|███████████████████████| 40/40 [00:08<00:00,  4.83it/s, val_acc=77.2, val_loss=0.0054]\n"
     ]
    },
    {
     "name": "stdout",
     "output_type": "stream",
     "text": [
      "=======================================================================================================================================\n",
      "2024-05-24 16:28:47\n",
      "Epoch 116 / 200\n"
     ]
    },
    {
     "name": "stderr",
     "output_type": "stream",
     "text": [
      "[Train]: 100%|████████████████████████| 352/352 [01:52<00:00,  3.14it/s, train_loss=0.583]\n",
      "[Valid]: 100%|██████████████████████| 40/40 [00:07<00:00,  5.11it/s, val_acc=77.2, val_loss=0.00538]\n"
     ]
    },
    {
     "name": "stdout",
     "output_type": "stream",
     "text": [
      "=======================================================================================================================================\n",
      "2024-05-24 16:30:46\n",
      "Epoch 117 / 200\n"
     ]
    },
    {
     "name": "stderr",
     "output_type": "stream",
     "text": [
      "[Train]: 100%|████████████████████████| 352/352 [01:51<00:00,  3.15it/s, train_loss=0.575]\n",
      "[Valid]: 100%|██████████████████████| 40/40 [00:08<00:00,  4.55it/s, val_acc=76.8, val_loss=0.00539]\n"
     ]
    },
    {
     "name": "stdout",
     "output_type": "stream",
     "text": [
      "=======================================================================================================================================\n",
      "2024-05-24 16:32:47\n",
      "Epoch 118 / 200\n"
     ]
    },
    {
     "name": "stderr",
     "output_type": "stream",
     "text": [
      "[Train]: 100%|████████████████████████| 352/352 [02:04<00:00,  2.83it/s, train_loss=0.583]\n",
      "[Valid]: 100%|██████████████████████| 40/40 [00:09<00:00,  4.39it/s, val_acc=77.3, val_loss=0.00516]\n"
     ]
    },
    {
     "name": "stdout",
     "output_type": "stream",
     "text": [
      "=======================================================================================================================================\n",
      "2024-05-24 16:35:00\n",
      "Epoch 119 / 200\n"
     ]
    },
    {
     "name": "stderr",
     "output_type": "stream",
     "text": [
      "[Train]: 100%|████████████████████████| 352/352 [01:58<00:00,  2.98it/s, train_loss=0.583]\n",
      "[Valid]: 100%|█████████████████████████| 40/40 [00:07<00:00,  5.00it/s, val_acc=77, val_loss=0.0055]\n"
     ]
    },
    {
     "name": "stdout",
     "output_type": "stream",
     "text": [
      "=======================================================================================================================================\n",
      "2024-05-24 16:37:07\n",
      "Epoch 120 / 200\n",
      "lr is updated to 0.003125\n"
     ]
    },
    {
     "name": "stderr",
     "output_type": "stream",
     "text": [
      "[Train]: 100%|████████████████████████| 352/352 [02:02<00:00,  2.88it/s, train_loss=0.536]\n",
      "[Valid]: 100%|██████████████████████| 40/40 [00:08<00:00,  4.62it/s, val_acc=78.4, val_loss=0.00518]\n"
     ]
    },
    {
     "name": "stdout",
     "output_type": "stream",
     "text": [
      "=======================================================================================================================================\n",
      "2024-05-24 16:39:18\n",
      "Epoch 121 / 200\n"
     ]
    },
    {
     "name": "stderr",
     "output_type": "stream",
     "text": [
      "[Train]: 100%|████████████████████████| 352/352 [02:39<00:00,  2.20it/s, train_loss=0.523]\n",
      "[Valid]: 100%|██████████████████████| 40/40 [00:08<00:00,  4.61it/s, val_acc=78.7, val_loss=0.00476]\n"
     ]
    },
    {
     "name": "stdout",
     "output_type": "stream",
     "text": [
      "Validation loss decreased (0.005060 --> 0.004760).\n",
      "=======================================================================================================================================\n",
      "2024-05-24 16:42:06\n",
      "Epoch 122 / 200\n"
     ]
    },
    {
     "name": "stderr",
     "output_type": "stream",
     "text": [
      "[Train]: 100%|████████████████████████| 352/352 [02:24<00:00,  2.44it/s, train_loss=0.523]\n",
      "[Valid]: 100%|████████████████████████| 40/40 [00:09<00:00,  4.21it/s, val_acc=80, val_loss=0.00476]\n"
     ]
    },
    {
     "name": "stdout",
     "output_type": "stream",
     "text": [
      "Validation loss decreased (0.004760 --> 0.004759).\n",
      "=======================================================================================================================================\n",
      "2024-05-24 16:44:40\n",
      "Epoch 123 / 200\n"
     ]
    },
    {
     "name": "stderr",
     "output_type": "stream",
     "text": [
      "[Train]: 100%|████████████████████████| 352/352 [02:30<00:00,  2.34it/s, train_loss=0.518]\n",
      "[Valid]: 100%|██████████████████████| 40/40 [00:06<00:00,  5.97it/s, val_acc=78.7, val_loss=0.00494]\n"
     ]
    },
    {
     "name": "stdout",
     "output_type": "stream",
     "text": [
      "=======================================================================================================================================\n",
      "2024-05-24 16:47:17\n",
      "Epoch 124 / 200\n"
     ]
    },
    {
     "name": "stderr",
     "output_type": "stream",
     "text": [
      "[Train]: 100%|████████████████████████| 352/352 [01:10<00:00,  4.97it/s, train_loss=0.512]\n",
      "[Valid]: 100%|██████████████████████| 40/40 [00:06<00:00,  6.41it/s, val_acc=78.4, val_loss=0.00492]\n"
     ]
    },
    {
     "name": "stdout",
     "output_type": "stream",
     "text": [
      "=======================================================================================================================================\n",
      "2024-05-24 16:48:34\n",
      "Epoch 125 / 200\n"
     ]
    },
    {
     "name": "stderr",
     "output_type": "stream",
     "text": [
      "[Train]: 100%|████████████████████████| 352/352 [01:11<00:00,  4.94it/s, train_loss=0.513]\n",
      "[Valid]: 100%|██████████████████████| 40/40 [00:06<00:00,  5.88it/s, val_acc=79.1, val_loss=0.00476]\n"
     ]
    },
    {
     "name": "stdout",
     "output_type": "stream",
     "text": [
      "=======================================================================================================================================\n",
      "2024-05-24 16:49:52\n",
      "Epoch 126 / 200\n"
     ]
    },
    {
     "name": "stderr",
     "output_type": "stream",
     "text": [
      "[Train]: 100%|████████████████████████| 352/352 [01:28<00:00,  3.99it/s, train_loss=0.506]\n",
      "[Valid]: 100%|██████████████████████| 40/40 [00:06<00:00,  5.94it/s, val_acc=79.5, val_loss=0.00472]\n"
     ]
    },
    {
     "name": "stdout",
     "output_type": "stream",
     "text": [
      "Validation loss decreased (0.004759 --> 0.004717).\n",
      "=======================================================================================================================================\n",
      "2024-05-24 16:51:27\n",
      "Epoch 127 / 200\n"
     ]
    },
    {
     "name": "stderr",
     "output_type": "stream",
     "text": [
      "[Train]: 100%|████████████████████████| 352/352 [02:15<00:00,  2.61it/s, train_loss=0.513]\n",
      "[Valid]: 100%|██████████████████████| 40/40 [00:09<00:00,  4.25it/s, val_acc=78.8, val_loss=0.00497]\n"
     ]
    },
    {
     "name": "stdout",
     "output_type": "stream",
     "text": [
      "=======================================================================================================================================\n",
      "2024-05-24 16:53:52\n",
      "Epoch 128 / 200\n"
     ]
    },
    {
     "name": "stderr",
     "output_type": "stream",
     "text": [
      "[Train]: 100%|████████████████████████| 352/352 [02:36<00:00,  2.25it/s, train_loss=0.506]\n",
      "[Valid]: 100%|██████████████████████| 40/40 [00:09<00:00,  4.05it/s, val_acc=79.4, val_loss=0.00475]\n"
     ]
    },
    {
     "name": "stdout",
     "output_type": "stream",
     "text": [
      "=======================================================================================================================================\n",
      "2024-05-24 16:56:38\n",
      "Epoch 129 / 200\n"
     ]
    },
    {
     "name": "stderr",
     "output_type": "stream",
     "text": [
      "[Train]: 100%|████████████████████████| 352/352 [02:55<00:00,  2.01it/s, train_loss=0.514]\n",
      "[Valid]: 100%|██████████████████████| 40/40 [00:09<00:00,  4.30it/s, val_acc=80.3, val_loss=0.00456]\n"
     ]
    },
    {
     "name": "stdout",
     "output_type": "stream",
     "text": [
      "Validation loss decreased (0.004717 --> 0.004560).\n",
      "=======================================================================================================================================\n",
      "2024-05-24 16:59:43\n",
      "Epoch 130 / 200\n"
     ]
    },
    {
     "name": "stderr",
     "output_type": "stream",
     "text": [
      "[Train]: 100%|█████████████████████████| 352/352 [02:23<00:00,  2.46it/s, train_loss=0.51]\n",
      "[Valid]: 100%|██████████████████████| 40/40 [00:10<00:00,  3.91it/s, val_acc=79.1, val_loss=0.00505]\n"
     ]
    },
    {
     "name": "stdout",
     "output_type": "stream",
     "text": [
      "=======================================================================================================================================\n",
      "2024-05-24 17:02:16\n",
      "Epoch 131 / 200\n"
     ]
    },
    {
     "name": "stderr",
     "output_type": "stream",
     "text": [
      "[Train]: 100%|████████████████████████| 352/352 [02:17<00:00,  2.56it/s, train_loss=0.507]\n",
      "[Valid]: 100%|██████████████████████| 40/40 [00:09<00:00,  4.38it/s, val_acc=79.6, val_loss=0.00471]\n"
     ]
    },
    {
     "name": "stdout",
     "output_type": "stream",
     "text": [
      "=======================================================================================================================================\n",
      "2024-05-24 17:04:43\n",
      "Epoch 132 / 200\n"
     ]
    },
    {
     "name": "stderr",
     "output_type": "stream",
     "text": [
      "[Train]: 100%|████████████████████████| 352/352 [02:03<00:00,  2.86it/s, train_loss=0.506]\n",
      "[Valid]: 100%|██████████████████████| 40/40 [00:08<00:00,  4.97it/s, val_acc=79.9, val_loss=0.00479]\n"
     ]
    },
    {
     "name": "stdout",
     "output_type": "stream",
     "text": [
      "=======================================================================================================================================\n",
      "2024-05-24 17:06:54\n",
      "Epoch 133 / 200\n"
     ]
    },
    {
     "name": "stderr",
     "output_type": "stream",
     "text": [
      "[Train]: 100%|████████████████████████| 352/352 [02:09<00:00,  2.72it/s, train_loss=0.505]\n",
      "[Valid]: 100%|██████████████████████| 40/40 [00:08<00:00,  4.62it/s, val_acc=79.2, val_loss=0.00484]\n"
     ]
    },
    {
     "name": "stdout",
     "output_type": "stream",
     "text": [
      "=======================================================================================================================================\n",
      "2024-05-24 17:09:12\n",
      "Epoch 134 / 200\n"
     ]
    },
    {
     "name": "stderr",
     "output_type": "stream",
     "text": [
      "[Train]: 100%|████████████████████████| 352/352 [01:59<00:00,  2.94it/s, train_loss=0.506]\n",
      "[Valid]: 100%|██████████████████████| 40/40 [00:10<00:00,  3.95it/s, val_acc=79.5, val_loss=0.00471]\n"
     ]
    },
    {
     "name": "stdout",
     "output_type": "stream",
     "text": [
      "=======================================================================================================================================\n",
      "2024-05-24 17:11:22\n",
      "Epoch 135 / 200\n"
     ]
    },
    {
     "name": "stderr",
     "output_type": "stream",
     "text": [
      "[Train]: 100%|████████████████████████| 352/352 [01:50<00:00,  3.17it/s, train_loss=0.505]\n",
      "[Valid]: 100%|██████████████████████| 40/40 [00:06<00:00,  6.42it/s, val_acc=79.3, val_loss=0.00478]\n"
     ]
    },
    {
     "name": "stdout",
     "output_type": "stream",
     "text": [
      "=======================================================================================================================================\n",
      "2024-05-24 17:13:19\n",
      "Epoch 136 / 200\n"
     ]
    },
    {
     "name": "stderr",
     "output_type": "stream",
     "text": [
      "[Train]: 100%|████████████████████████| 352/352 [01:07<00:00,  5.24it/s, train_loss=0.501]\n",
      "[Valid]: 100%|██████████████████████| 40/40 [00:05<00:00,  6.82it/s, val_acc=78.9, val_loss=0.00493]\n"
     ]
    },
    {
     "name": "stdout",
     "output_type": "stream",
     "text": [
      "=======================================================================================================================================\n",
      "2024-05-24 17:14:32\n",
      "Epoch 137 / 200\n"
     ]
    },
    {
     "name": "stderr",
     "output_type": "stream",
     "text": [
      "[Train]: 100%|████████████████████████| 352/352 [01:04<00:00,  5.49it/s, train_loss=0.503]\n",
      "[Valid]: 100%|██████████████████████| 40/40 [00:05<00:00,  6.97it/s, val_acc=80.4, val_loss=0.00457]\n"
     ]
    },
    {
     "name": "stdout",
     "output_type": "stream",
     "text": [
      "=======================================================================================================================================\n",
      "2024-05-24 17:15:42\n",
      "Epoch 138 / 200\n"
     ]
    },
    {
     "name": "stderr",
     "output_type": "stream",
     "text": [
      "[Train]: 100%|██████████████████████████| 352/352 [01:03<00:00,  5.56it/s, train_loss=0.5]\n",
      "[Valid]: 100%|████████████████████████| 40/40 [00:05<00:00,  6.80it/s, val_acc=80, val_loss=0.00464]\n"
     ]
    },
    {
     "name": "stdout",
     "output_type": "stream",
     "text": [
      "=======================================================================================================================================\n",
      "2024-05-24 17:16:51\n",
      "Epoch 139 / 200\n"
     ]
    },
    {
     "name": "stderr",
     "output_type": "stream",
     "text": [
      "[Train]: 100%|████████████████████████| 352/352 [01:02<00:00,  5.61it/s, train_loss=0.509]\n",
      "[Valid]: 100%|██████████████████████| 40/40 [00:05<00:00,  7.18it/s, val_acc=79.4, val_loss=0.00489]\n"
     ]
    },
    {
     "name": "stdout",
     "output_type": "stream",
     "text": [
      "=======================================================================================================================================\n",
      "2024-05-24 17:18:00\n",
      "Epoch 140 / 200\n",
      "lr is updated to 0.0015625\n"
     ]
    },
    {
     "name": "stderr",
     "output_type": "stream",
     "text": [
      "[Train]: 100%|████████████████████████| 352/352 [01:02<00:00,  5.61it/s, train_loss=0.475]\n",
      "[Valid]: 100%|██████████████████████| 40/40 [00:05<00:00,  7.05it/s, val_acc=81.4, val_loss=0.00451]\n"
     ]
    },
    {
     "name": "stdout",
     "output_type": "stream",
     "text": [
      "Validation loss decreased (0.004560 --> 0.004511).\n",
      "=======================================================================================================================================\n",
      "2024-05-24 17:19:08\n",
      "Epoch 141 / 200\n"
     ]
    },
    {
     "name": "stderr",
     "output_type": "stream",
     "text": [
      "[Train]: 100%|████████████████████████| 352/352 [01:02<00:00,  5.65it/s, train_loss=0.465]\n",
      "[Valid]: 100%|██████████████████████| 40/40 [00:05<00:00,  6.79it/s, val_acc=80.7, val_loss=0.00445]\n"
     ]
    },
    {
     "name": "stdout",
     "output_type": "stream",
     "text": [
      "Validation loss decreased (0.004511 --> 0.004451).\n",
      "=======================================================================================================================================\n",
      "2024-05-24 17:20:16\n",
      "Epoch 142 / 200\n"
     ]
    },
    {
     "name": "stderr",
     "output_type": "stream",
     "text": [
      "[Train]: 100%|████████████████████████| 352/352 [01:02<00:00,  5.67it/s, train_loss=0.467]\n",
      "[Valid]: 100%|██████████████████████| 40/40 [00:05<00:00,  6.77it/s, val_acc=81.2, val_loss=0.00457]\n"
     ]
    },
    {
     "name": "stdout",
     "output_type": "stream",
     "text": [
      "=======================================================================================================================================\n",
      "2024-05-24 17:21:24\n",
      "Epoch 143 / 200\n"
     ]
    },
    {
     "name": "stderr",
     "output_type": "stream",
     "text": [
      "[Train]: 100%|████████████████████████| 352/352 [01:02<00:00,  5.63it/s, train_loss=0.459]\n",
      "[Valid]: 100%|██████████████████████| 40/40 [00:05<00:00,  7.06it/s, val_acc=80.7, val_loss=0.00434]\n"
     ]
    },
    {
     "name": "stdout",
     "output_type": "stream",
     "text": [
      "Validation loss decreased (0.004451 --> 0.004339).\n",
      "=======================================================================================================================================\n",
      "2024-05-24 17:22:32\n",
      "Epoch 144 / 200\n"
     ]
    },
    {
     "name": "stderr",
     "output_type": "stream",
     "text": [
      "[Train]: 100%|████████████████████████| 352/352 [01:01<00:00,  5.68it/s, train_loss=0.459]\n",
      "[Valid]: 100%|██████████████████████| 40/40 [00:05<00:00,  7.16it/s, val_acc=80.7, val_loss=0.00449]\n"
     ]
    },
    {
     "name": "stdout",
     "output_type": "stream",
     "text": [
      "=======================================================================================================================================\n",
      "2024-05-24 17:23:40\n",
      "Epoch 145 / 200\n"
     ]
    },
    {
     "name": "stderr",
     "output_type": "stream",
     "text": [
      "[Train]: 100%|████████████████████████| 352/352 [01:02<00:00,  5.65it/s, train_loss=0.456]\n",
      "[Valid]: 100%|██████████████████████| 40/40 [00:05<00:00,  7.00it/s, val_acc=81.2, val_loss=0.00439]\n"
     ]
    },
    {
     "name": "stdout",
     "output_type": "stream",
     "text": [
      "=======================================================================================================================================\n",
      "2024-05-24 17:24:48\n",
      "Epoch 146 / 200\n"
     ]
    },
    {
     "name": "stderr",
     "output_type": "stream",
     "text": [
      "[Train]: 100%|████████████████████████| 352/352 [01:02<00:00,  5.66it/s, train_loss=0.463]\n",
      "[Valid]: 100%|██████████████████████| 40/40 [00:05<00:00,  7.09it/s, val_acc=81.3, val_loss=0.00444]\n"
     ]
    },
    {
     "name": "stdout",
     "output_type": "stream",
     "text": [
      "=======================================================================================================================================\n",
      "2024-05-24 17:25:56\n",
      "Epoch 147 / 200\n"
     ]
    },
    {
     "name": "stderr",
     "output_type": "stream",
     "text": [
      "[Train]: 100%|████████████████████████| 352/352 [01:02<00:00,  5.64it/s, train_loss=0.451]\n",
      "[Valid]: 100%|██████████████████████| 40/40 [00:05<00:00,  7.06it/s, val_acc=81.8, val_loss=0.00433]\n"
     ]
    },
    {
     "name": "stdout",
     "output_type": "stream",
     "text": [
      "Validation loss decreased (0.004339 --> 0.004328).\n",
      "=======================================================================================================================================\n",
      "2024-05-24 17:27:04\n",
      "Epoch 148 / 200\n"
     ]
    },
    {
     "name": "stderr",
     "output_type": "stream",
     "text": [
      "[Train]: 100%|████████████████████████| 352/352 [01:02<00:00,  5.65it/s, train_loss=0.455]\n",
      "[Valid]: 100%|████████████████████████| 40/40 [00:05<00:00,  6.82it/s, val_acc=81, val_loss=0.00447]\n"
     ]
    },
    {
     "name": "stdout",
     "output_type": "stream",
     "text": [
      "=======================================================================================================================================\n",
      "2024-05-24 17:28:12\n",
      "Epoch 149 / 200\n"
     ]
    },
    {
     "name": "stderr",
     "output_type": "stream",
     "text": [
      "[Train]: 100%|████████████████████████| 352/352 [01:02<00:00,  5.66it/s, train_loss=0.451]\n",
      "[Valid]: 100%|██████████████████████| 40/40 [00:05<00:00,  6.96it/s, val_acc=80.9, val_loss=0.00452]\n"
     ]
    },
    {
     "name": "stdout",
     "output_type": "stream",
     "text": [
      "=======================================================================================================================================\n",
      "2024-05-24 17:29:20\n",
      "Epoch 150 / 200\n"
     ]
    },
    {
     "name": "stderr",
     "output_type": "stream",
     "text": [
      "[Train]: 100%|████████████████████████| 352/352 [01:03<00:00,  5.58it/s, train_loss=0.455]\n",
      "[Valid]: 100%|██████████████████████| 40/40 [00:05<00:00,  6.95it/s, val_acc=81.3, val_loss=0.00449]\n"
     ]
    },
    {
     "name": "stdout",
     "output_type": "stream",
     "text": [
      "=======================================================================================================================================\n",
      "2024-05-24 17:30:29\n",
      "Epoch 151 / 200\n"
     ]
    },
    {
     "name": "stderr",
     "output_type": "stream",
     "text": [
      "[Train]: 100%|████████████████████████| 352/352 [01:02<00:00,  5.64it/s, train_loss=0.452]\n",
      "[Valid]: 100%|██████████████████████| 40/40 [00:05<00:00,  7.06it/s, val_acc=80.4, val_loss=0.00449]\n"
     ]
    },
    {
     "name": "stdout",
     "output_type": "stream",
     "text": [
      "=======================================================================================================================================\n",
      "2024-05-24 17:31:37\n",
      "Epoch 152 / 200\n"
     ]
    },
    {
     "name": "stderr",
     "output_type": "stream",
     "text": [
      "[Train]: 100%|████████████████████████| 352/352 [01:02<00:00,  5.63it/s, train_loss=0.455]\n",
      "[Valid]: 100%|██████████████████████| 40/40 [00:05<00:00,  7.10it/s, val_acc=81.3, val_loss=0.00447]\n"
     ]
    },
    {
     "name": "stdout",
     "output_type": "stream",
     "text": [
      "=======================================================================================================================================\n",
      "2024-05-24 17:32:45\n",
      "Epoch 153 / 200\n"
     ]
    },
    {
     "name": "stderr",
     "output_type": "stream",
     "text": [
      "[Train]: 100%|████████████████████████| 352/352 [01:02<00:00,  5.61it/s, train_loss=0.456]\n",
      "[Valid]: 100%|██████████████████████| 40/40 [00:05<00:00,  7.05it/s, val_acc=80.6, val_loss=0.00452]\n"
     ]
    },
    {
     "name": "stdout",
     "output_type": "stream",
     "text": [
      "=======================================================================================================================================\n",
      "2024-05-24 17:33:53\n",
      "Epoch 154 / 200\n"
     ]
    },
    {
     "name": "stderr",
     "output_type": "stream",
     "text": [
      "[Train]: 100%|████████████████████████| 352/352 [01:03<00:00,  5.56it/s, train_loss=0.446]\n",
      "[Valid]: 100%|██████████████████████| 40/40 [00:05<00:00,  6.82it/s, val_acc=81.1, val_loss=0.00448]\n"
     ]
    },
    {
     "name": "stdout",
     "output_type": "stream",
     "text": [
      "=======================================================================================================================================\n",
      "2024-05-24 17:35:03\n",
      "Epoch 155 / 200\n"
     ]
    },
    {
     "name": "stderr",
     "output_type": "stream",
     "text": [
      "[Train]: 100%|████████████████████████| 352/352 [01:02<00:00,  5.59it/s, train_loss=0.455]\n",
      "[Valid]: 100%|██████████████████████| 40/40 [00:05<00:00,  6.99it/s, val_acc=80.6, val_loss=0.00465]\n"
     ]
    },
    {
     "name": "stdout",
     "output_type": "stream",
     "text": [
      "=======================================================================================================================================\n",
      "2024-05-24 17:36:11\n",
      "Epoch 156 / 200\n"
     ]
    },
    {
     "name": "stderr",
     "output_type": "stream",
     "text": [
      "[Train]: 100%|████████████████████████| 352/352 [01:03<00:00,  5.59it/s, train_loss=0.452]\n",
      "[Valid]: 100%|██████████████████████| 40/40 [00:05<00:00,  6.91it/s, val_acc=80.8, val_loss=0.00459]\n"
     ]
    },
    {
     "name": "stdout",
     "output_type": "stream",
     "text": [
      "=======================================================================================================================================\n",
      "2024-05-24 17:37:20\n",
      "Epoch 157 / 200\n"
     ]
    },
    {
     "name": "stderr",
     "output_type": "stream",
     "text": [
      "[Train]: 100%|████████████████████████| 352/352 [01:03<00:00,  5.58it/s, train_loss=0.443]\n",
      "[Valid]: 100%|██████████████████████| 40/40 [00:05<00:00,  6.99it/s, val_acc=81.1, val_loss=0.00434]\n"
     ]
    },
    {
     "name": "stdout",
     "output_type": "stream",
     "text": [
      "=======================================================================================================================================\n",
      "2024-05-24 17:38:29\n",
      "Epoch 158 / 200\n",
      "lr is updated to 0.00078125\n"
     ]
    },
    {
     "name": "stderr",
     "output_type": "stream",
     "text": [
      "[Train]: 100%|████████████████████████| 352/352 [01:03<00:00,  5.57it/s, train_loss=0.432]\n",
      "[Valid]: 100%|██████████████████████| 40/40 [00:05<00:00,  6.71it/s, val_acc=82.2, val_loss=0.00424]\n"
     ]
    },
    {
     "name": "stdout",
     "output_type": "stream",
     "text": [
      "Validation loss decreased (0.004328 --> 0.004241).\n",
      "=======================================================================================================================================\n",
      "2024-05-24 17:39:38\n",
      "Epoch 159 / 200\n"
     ]
    },
    {
     "name": "stderr",
     "output_type": "stream",
     "text": [
      "[Train]: 100%|████████████████████████| 352/352 [01:02<00:00,  5.65it/s, train_loss=0.427]\n",
      "[Valid]: 100%|██████████████████████| 40/40 [00:05<00:00,  7.15it/s, val_acc=82.1, val_loss=0.00416]\n"
     ]
    },
    {
     "name": "stdout",
     "output_type": "stream",
     "text": [
      "Validation loss decreased (0.004241 --> 0.004159).\n",
      "=======================================================================================================================================\n",
      "2024-05-24 17:40:46\n",
      "Epoch 160 / 200\n"
     ]
    },
    {
     "name": "stderr",
     "output_type": "stream",
     "text": [
      "[Train]: 100%|████████████████████████| 352/352 [01:02<00:00,  5.64it/s, train_loss=0.424]\n",
      "[Valid]: 100%|██████████████████████| 40/40 [00:05<00:00,  7.06it/s, val_acc=82.2, val_loss=0.00419]\n"
     ]
    },
    {
     "name": "stdout",
     "output_type": "stream",
     "text": [
      "=======================================================================================================================================\n",
      "2024-05-24 17:41:54\n",
      "Epoch 161 / 200\n"
     ]
    },
    {
     "name": "stderr",
     "output_type": "stream",
     "text": [
      "[Train]: 100%|████████████████████████| 352/352 [01:02<00:00,  5.61it/s, train_loss=0.426]\n",
      "[Valid]: 100%|███████████████████████| 40/40 [00:05<00:00,  6.93it/s, val_acc=82.3, val_loss=0.0043]\n"
     ]
    },
    {
     "name": "stdout",
     "output_type": "stream",
     "text": [
      "=======================================================================================================================================\n",
      "2024-05-24 17:43:03\n",
      "Epoch 162 / 200\n"
     ]
    },
    {
     "name": "stderr",
     "output_type": "stream",
     "text": [
      "[Train]: 100%|████████████████████████| 352/352 [01:02<00:00,  5.59it/s, train_loss=0.422]\n",
      "[Valid]: 100%|█████████████████████████| 40/40 [00:05<00:00,  6.98it/s, val_acc=82, val_loss=0.0044]\n"
     ]
    },
    {
     "name": "stdout",
     "output_type": "stream",
     "text": [
      "=======================================================================================================================================\n",
      "2024-05-24 17:44:11\n",
      "Epoch 163 / 200\n"
     ]
    },
    {
     "name": "stderr",
     "output_type": "stream",
     "text": [
      "[Train]: 100%|████████████████████████| 352/352 [01:02<00:00,  5.62it/s, train_loss=0.423]\n",
      "[Valid]: 100%|██████████████████████| 40/40 [00:05<00:00,  7.02it/s, val_acc=82.2, val_loss=0.00418]\n"
     ]
    },
    {
     "name": "stdout",
     "output_type": "stream",
     "text": [
      "=======================================================================================================================================\n",
      "2024-05-24 17:45:20\n",
      "Epoch 164 / 200\n"
     ]
    },
    {
     "name": "stderr",
     "output_type": "stream",
     "text": [
      "[Train]: 100%|████████████████████████| 352/352 [01:02<00:00,  5.59it/s, train_loss=0.418]\n",
      "[Valid]: 100%|████████████████████████| 40/40 [00:05<00:00,  7.05it/s, val_acc=81, val_loss=0.00427]\n"
     ]
    },
    {
     "name": "stdout",
     "output_type": "stream",
     "text": [
      "=======================================================================================================================================\n",
      "2024-05-24 17:46:28\n",
      "Epoch 165 / 200\n"
     ]
    },
    {
     "name": "stderr",
     "output_type": "stream",
     "text": [
      "[Train]: 100%|████████████████████████| 352/352 [01:03<00:00,  5.56it/s, train_loss=0.419]\n",
      "[Valid]: 100%|██████████████████████| 40/40 [00:05<00:00,  7.14it/s, val_acc=82.2, val_loss=0.00425]\n"
     ]
    },
    {
     "name": "stdout",
     "output_type": "stream",
     "text": [
      "=======================================================================================================================================\n",
      "2024-05-24 17:47:37\n",
      "Epoch 166 / 200\n"
     ]
    },
    {
     "name": "stderr",
     "output_type": "stream",
     "text": [
      "[Train]: 100%|████████████████████████| 352/352 [01:02<00:00,  5.61it/s, train_loss=0.424]\n",
      "[Valid]: 100%|██████████████████████| 40/40 [00:05<00:00,  7.06it/s, val_acc=81.9, val_loss=0.00445]\n"
     ]
    },
    {
     "name": "stdout",
     "output_type": "stream",
     "text": [
      "=======================================================================================================================================\n",
      "2024-05-24 17:48:46\n",
      "Epoch 167 / 200\n"
     ]
    },
    {
     "name": "stderr",
     "output_type": "stream",
     "text": [
      "[Train]: 100%|████████████████████████| 352/352 [01:02<00:00,  5.62it/s, train_loss=0.413]\n",
      "[Valid]: 100%|██████████████████████| 40/40 [00:05<00:00,  7.06it/s, val_acc=81.9, val_loss=0.00425]\n"
     ]
    },
    {
     "name": "stdout",
     "output_type": "stream",
     "text": [
      "=======================================================================================================================================\n",
      "2024-05-24 17:49:54\n",
      "Epoch 168 / 200\n"
     ]
    },
    {
     "name": "stderr",
     "output_type": "stream",
     "text": [
      "[Train]: 100%|████████████████████████| 352/352 [01:02<00:00,  5.61it/s, train_loss=0.413]\n",
      "[Valid]: 100%|██████████████████████| 40/40 [00:05<00:00,  7.10it/s, val_acc=81.9, val_loss=0.00447]\n"
     ]
    },
    {
     "name": "stdout",
     "output_type": "stream",
     "text": [
      "=======================================================================================================================================\n",
      "2024-05-24 17:51:02\n",
      "Epoch 169 / 200\n"
     ]
    },
    {
     "name": "stderr",
     "output_type": "stream",
     "text": [
      "[Train]: 100%|████████████████████████| 352/352 [01:02<00:00,  5.66it/s, train_loss=0.416]\n",
      "[Valid]: 100%|██████████████████████| 40/40 [00:05<00:00,  7.04it/s, val_acc=82.2, val_loss=0.00417]\n"
     ]
    },
    {
     "name": "stdout",
     "output_type": "stream",
     "text": [
      "=======================================================================================================================================\n",
      "2024-05-24 17:52:10\n",
      "Epoch 170 / 200\n",
      "lr is updated to 0.000390625\n"
     ]
    },
    {
     "name": "stderr",
     "output_type": "stream",
     "text": [
      "[Train]: 100%|████████████████████████| 352/352 [01:01<00:00,  5.72it/s, train_loss=0.403]\n",
      "[Valid]: 100%|██████████████████████| 40/40 [00:05<00:00,  7.06it/s, val_acc=82.9, val_loss=0.00406]\n"
     ]
    },
    {
     "name": "stdout",
     "output_type": "stream",
     "text": [
      "Validation loss decreased (0.004159 --> 0.004056).\n",
      "=======================================================================================================================================\n",
      "2024-05-24 17:53:18\n",
      "Epoch 171 / 200\n"
     ]
    },
    {
     "name": "stderr",
     "output_type": "stream",
     "text": [
      "[Train]: 100%|████████████████████████| 352/352 [01:01<00:00,  5.72it/s, train_loss=0.408]\n",
      "[Valid]: 100%|██████████████████████| 40/40 [00:05<00:00,  7.20it/s, val_acc=82.3, val_loss=0.00408]\n"
     ]
    },
    {
     "name": "stdout",
     "output_type": "stream",
     "text": [
      "=======================================================================================================================================\n",
      "2024-05-24 17:54:25\n",
      "Epoch 172 / 200\n"
     ]
    },
    {
     "name": "stderr",
     "output_type": "stream",
     "text": [
      "[Train]: 100%|█████████████████████████| 352/352 [01:01<00:00,  5.73it/s, train_loss=0.41]\n",
      "[Valid]: 100%|██████████████████████| 40/40 [00:05<00:00,  6.94it/s, val_acc=82.1, val_loss=0.00432]\n"
     ]
    },
    {
     "name": "stdout",
     "output_type": "stream",
     "text": [
      "=======================================================================================================================================\n",
      "2024-05-24 17:55:32\n",
      "Epoch 173 / 200\n"
     ]
    },
    {
     "name": "stderr",
     "output_type": "stream",
     "text": [
      "[Train]: 100%|████████████████████████| 352/352 [01:03<00:00,  5.58it/s, train_loss=0.415]\n",
      "[Valid]: 100%|██████████████████████| 40/40 [00:05<00:00,  6.93it/s, val_acc=81.8, val_loss=0.00412]\n"
     ]
    },
    {
     "name": "stdout",
     "output_type": "stream",
     "text": [
      "=======================================================================================================================================\n",
      "2024-05-24 17:56:41\n",
      "Epoch 174 / 200\n"
     ]
    },
    {
     "name": "stderr",
     "output_type": "stream",
     "text": [
      "[Train]: 100%|████████████████████████| 352/352 [01:02<00:00,  5.60it/s, train_loss=0.399]\n",
      "[Valid]: 100%|████████████████████████| 40/40 [00:05<00:00,  6.88it/s, val_acc=83, val_loss=0.00392]\n"
     ]
    },
    {
     "name": "stdout",
     "output_type": "stream",
     "text": [
      "Validation loss decreased (0.004056 --> 0.003919).\n",
      "=======================================================================================================================================\n",
      "2024-05-24 17:57:49\n",
      "Epoch 175 / 200\n"
     ]
    },
    {
     "name": "stderr",
     "output_type": "stream",
     "text": [
      "[Train]: 100%|█████████████████████████| 352/352 [01:02<00:00,  5.60it/s, train_loss=0.41]\n",
      "[Valid]: 100%|██████████████████████| 40/40 [00:05<00:00,  7.10it/s, val_acc=81.8, val_loss=0.00419]\n"
     ]
    },
    {
     "name": "stdout",
     "output_type": "stream",
     "text": [
      "=======================================================================================================================================\n",
      "2024-05-24 17:58:58\n",
      "Epoch 176 / 200\n"
     ]
    },
    {
     "name": "stderr",
     "output_type": "stream",
     "text": [
      "[Train]: 100%|████████████████████████| 352/352 [01:02<00:00,  5.59it/s, train_loss=0.403]\n",
      "[Valid]: 100%|██████████████████████| 40/40 [00:05<00:00,  6.91it/s, val_acc=82.5, val_loss=0.00401]\n"
     ]
    },
    {
     "name": "stdout",
     "output_type": "stream",
     "text": [
      "=======================================================================================================================================\n",
      "2024-05-24 18:00:07\n",
      "Epoch 177 / 200\n"
     ]
    },
    {
     "name": "stderr",
     "output_type": "stream",
     "text": [
      "[Train]: 100%|████████████████████████| 352/352 [01:03<00:00,  5.58it/s, train_loss=0.396]\n",
      "[Valid]: 100%|████████████████████████| 40/40 [00:05<00:00,  6.79it/s, val_acc=82.7, val_loss=0.004]\n"
     ]
    },
    {
     "name": "stdout",
     "output_type": "stream",
     "text": [
      "=======================================================================================================================================\n",
      "2024-05-24 18:01:16\n",
      "Epoch 178 / 200\n"
     ]
    },
    {
     "name": "stderr",
     "output_type": "stream",
     "text": [
      "[Train]: 100%|████████████████████████| 352/352 [01:03<00:00,  5.54it/s, train_loss=0.403]\n",
      "[Valid]: 100%|███████████████████████| 40/40 [00:05<00:00,  6.97it/s, val_acc=82.3, val_loss=0.0042]\n"
     ]
    },
    {
     "name": "stdout",
     "output_type": "stream",
     "text": [
      "=======================================================================================================================================\n",
      "2024-05-24 18:02:25\n",
      "Epoch 179 / 200\n"
     ]
    },
    {
     "name": "stderr",
     "output_type": "stream",
     "text": [
      "[Train]: 100%|████████████████████████| 352/352 [01:03<00:00,  5.55it/s, train_loss=0.401]\n",
      "[Valid]: 100%|██████████████████████| 40/40 [00:05<00:00,  6.74it/s, val_acc=83.4, val_loss=0.00404]\n"
     ]
    },
    {
     "name": "stdout",
     "output_type": "stream",
     "text": [
      "=======================================================================================================================================\n",
      "2024-05-24 18:03:34\n",
      "Epoch 180 / 200\n"
     ]
    },
    {
     "name": "stderr",
     "output_type": "stream",
     "text": [
      "[Train]: 100%|████████████████████████| 352/352 [01:03<00:00,  5.51it/s, train_loss=0.404]\n",
      "[Valid]: 100%|██████████████████████| 40/40 [00:05<00:00,  7.00it/s, val_acc=81.7, val_loss=0.00415]\n"
     ]
    },
    {
     "name": "stdout",
     "output_type": "stream",
     "text": [
      "=======================================================================================================================================\n",
      "2024-05-24 18:04:44\n",
      "Epoch 181 / 200\n"
     ]
    },
    {
     "name": "stderr",
     "output_type": "stream",
     "text": [
      "[Train]: 100%|██████████████████████████| 352/352 [01:03<00:00,  5.52it/s, train_loss=0.4]\n",
      "[Valid]: 100%|██████████████████████| 40/40 [00:05<00:00,  6.78it/s, val_acc=82.8, val_loss=0.00398]\n"
     ]
    },
    {
     "name": "stdout",
     "output_type": "stream",
     "text": [
      "=======================================================================================================================================\n",
      "2024-05-24 18:05:54\n",
      "Epoch 182 / 200\n"
     ]
    },
    {
     "name": "stderr",
     "output_type": "stream",
     "text": [
      "[Train]: 100%|████████████████████████| 352/352 [01:04<00:00,  5.50it/s, train_loss=0.396]\n",
      "[Valid]: 100%|██████████████████████| 40/40 [00:05<00:00,  6.91it/s, val_acc=81.4, val_loss=0.00422]\n"
     ]
    },
    {
     "name": "stdout",
     "output_type": "stream",
     "text": [
      "=======================================================================================================================================\n",
      "2024-05-24 18:07:03\n",
      "Epoch 183 / 200\n"
     ]
    },
    {
     "name": "stderr",
     "output_type": "stream",
     "text": [
      "[Train]: 100%|████████████████████████| 352/352 [01:02<00:00,  5.59it/s, train_loss=0.402]\n",
      "[Valid]: 100%|██████████████████████| 40/40 [00:05<00:00,  6.97it/s, val_acc=82.9, val_loss=0.00422]\n"
     ]
    },
    {
     "name": "stdout",
     "output_type": "stream",
     "text": [
      "=======================================================================================================================================\n",
      "2024-05-24 18:08:12\n",
      "Epoch 184 / 200\n"
     ]
    },
    {
     "name": "stderr",
     "output_type": "stream",
     "text": [
      "[Train]: 100%|████████████████████████| 352/352 [01:03<00:00,  5.54it/s, train_loss=0.392]\n",
      "[Valid]: 100%|██████████████████████| 40/40 [00:05<00:00,  7.04it/s, val_acc=82.6, val_loss=0.00402]\n"
     ]
    },
    {
     "name": "stdout",
     "output_type": "stream",
     "text": [
      "=======================================================================================================================================\n",
      "2024-05-24 18:09:21\n",
      "Epoch 185 / 200\n",
      "lr is updated to 0.0001953125\n"
     ]
    },
    {
     "name": "stderr",
     "output_type": "stream",
     "text": [
      "[Train]: 100%|████████████████████████| 352/352 [01:03<00:00,  5.53it/s, train_loss=0.392]\n",
      "[Valid]: 100%|██████████████████████| 40/40 [00:05<00:00,  6.78it/s, val_acc=82.1, val_loss=0.00419]\n"
     ]
    },
    {
     "name": "stdout",
     "output_type": "stream",
     "text": [
      "=======================================================================================================================================\n",
      "2024-05-24 18:10:31\n",
      "Epoch 186 / 200\n"
     ]
    },
    {
     "name": "stderr",
     "output_type": "stream",
     "text": [
      "[Train]: 100%|████████████████████████| 352/352 [01:03<00:00,  5.52it/s, train_loss=0.394]\n",
      "[Valid]: 100%|██████████████████████| 40/40 [00:05<00:00,  6.92it/s, val_acc=82.8, val_loss=0.00403]\n"
     ]
    },
    {
     "name": "stdout",
     "output_type": "stream",
     "text": [
      "=======================================================================================================================================\n",
      "2024-05-24 18:11:41\n",
      "Epoch 187 / 200\n"
     ]
    },
    {
     "name": "stderr",
     "output_type": "stream",
     "text": [
      "[Train]: 100%|█████████████████████████| 352/352 [01:03<00:00,  5.52it/s, train_loss=0.39]\n",
      "[Valid]: 100%|████████████████████████| 40/40 [00:06<00:00,  6.54it/s, val_acc=83, val_loss=0.00412]\n"
     ]
    },
    {
     "name": "stdout",
     "output_type": "stream",
     "text": [
      "=======================================================================================================================================\n",
      "2024-05-24 18:12:50\n",
      "Epoch 188 / 200\n"
     ]
    },
    {
     "name": "stderr",
     "output_type": "stream",
     "text": [
      "[Train]: 100%|████████████████████████| 352/352 [01:03<00:00,  5.51it/s, train_loss=0.398]\n",
      "[Valid]: 100%|████████████████████████| 40/40 [00:05<00:00,  6.75it/s, val_acc=83, val_loss=0.00414]\n"
     ]
    },
    {
     "name": "stdout",
     "output_type": "stream",
     "text": [
      "=======================================================================================================================================\n",
      "2024-05-24 18:14:00\n",
      "Epoch 189 / 200\n"
     ]
    },
    {
     "name": "stderr",
     "output_type": "stream",
     "text": [
      "[Train]: 100%|████████████████████████| 352/352 [01:03<00:00,  5.51it/s, train_loss=0.392]\n",
      "[Valid]: 100%|████████████████████████| 40/40 [00:05<00:00,  6.87it/s, val_acc=82, val_loss=0.00427]\n"
     ]
    },
    {
     "name": "stdout",
     "output_type": "stream",
     "text": [
      "=======================================================================================================================================\n",
      "2024-05-24 18:15:10\n",
      "Epoch 190 / 200\n"
     ]
    },
    {
     "name": "stderr",
     "output_type": "stream",
     "text": [
      "[Train]: 100%|████████████████████████| 352/352 [01:03<00:00,  5.51it/s, train_loss=0.386]\n",
      "[Valid]: 100%|██████████████████████| 40/40 [00:05<00:00,  6.76it/s, val_acc=83.1, val_loss=0.00388]\n"
     ]
    },
    {
     "name": "stdout",
     "output_type": "stream",
     "text": [
      "Validation loss decreased (0.003919 --> 0.003878).\n",
      "=======================================================================================================================================\n",
      "2024-05-24 18:16:20\n",
      "Epoch 191 / 200\n"
     ]
    },
    {
     "name": "stderr",
     "output_type": "stream",
     "text": [
      "[Train]: 100%|████████████████████████| 352/352 [01:04<00:00,  5.49it/s, train_loss=0.389]\n",
      "[Valid]: 100%|██████████████████████| 40/40 [00:05<00:00,  6.90it/s, val_acc=82.8, val_loss=0.00416]\n"
     ]
    },
    {
     "name": "stdout",
     "output_type": "stream",
     "text": [
      "=======================================================================================================================================\n",
      "2024-05-24 18:17:30\n",
      "Epoch 192 / 200\n"
     ]
    },
    {
     "name": "stderr",
     "output_type": "stream",
     "text": [
      "[Train]: 100%|█████████████████████████| 352/352 [01:03<00:00,  5.52it/s, train_loss=0.39]\n",
      "[Valid]: 100%|██████████████████████| 40/40 [00:05<00:00,  6.77it/s, val_acc=82.8, val_loss=0.00399]\n"
     ]
    },
    {
     "name": "stdout",
     "output_type": "stream",
     "text": [
      "=======================================================================================================================================\n",
      "2024-05-24 18:18:39\n",
      "Epoch 193 / 200\n"
     ]
    },
    {
     "name": "stderr",
     "output_type": "stream",
     "text": [
      "[Train]: 100%|████████████████████████| 352/352 [01:04<00:00,  5.48it/s, train_loss=0.392]\n",
      "[Valid]: 100%|██████████████████████| 40/40 [00:05<00:00,  6.74it/s, val_acc=83.2, val_loss=0.00386]\n"
     ]
    },
    {
     "name": "stdout",
     "output_type": "stream",
     "text": [
      "Validation loss decreased (0.003878 --> 0.003861).\n",
      "=======================================================================================================================================\n",
      "2024-05-24 18:19:50\n",
      "Epoch 194 / 200\n"
     ]
    },
    {
     "name": "stderr",
     "output_type": "stream",
     "text": [
      "[Train]: 100%|█████████████████████████| 352/352 [01:04<00:00,  5.49it/s, train_loss=0.38]\n",
      "[Valid]: 100%|██████████████████████| 40/40 [00:05<00:00,  6.73it/s, val_acc=82.2, val_loss=0.00421]\n"
     ]
    },
    {
     "name": "stdout",
     "output_type": "stream",
     "text": [
      "=======================================================================================================================================\n",
      "2024-05-24 18:21:00\n",
      "Epoch 195 / 200\n"
     ]
    },
    {
     "name": "stderr",
     "output_type": "stream",
     "text": [
      "[Train]: 100%|████████████████████████| 352/352 [01:04<00:00,  5.43it/s, train_loss=0.384]\n",
      "[Valid]: 100%|██████████████████████| 40/40 [00:05<00:00,  6.96it/s, val_acc=82.9, val_loss=0.00397]\n"
     ]
    },
    {
     "name": "stdout",
     "output_type": "stream",
     "text": [
      "=======================================================================================================================================\n",
      "2024-05-24 18:22:10\n",
      "Epoch 196 / 200\n"
     ]
    },
    {
     "name": "stderr",
     "output_type": "stream",
     "text": [
      "[Train]: 100%|████████████████████████| 352/352 [01:04<00:00,  5.43it/s, train_loss=0.388]\n",
      "[Valid]: 100%|██████████████████████| 40/40 [00:05<00:00,  6.70it/s, val_acc=82.5, val_loss=0.00413]\n"
     ]
    },
    {
     "name": "stdout",
     "output_type": "stream",
     "text": [
      "=======================================================================================================================================\n",
      "2024-05-24 18:23:21\n",
      "Epoch 197 / 200\n"
     ]
    },
    {
     "name": "stderr",
     "output_type": "stream",
     "text": [
      "[Train]: 100%|████████████████████████| 352/352 [01:05<00:00,  5.39it/s, train_loss=0.387]\n",
      "[Valid]: 100%|██████████████████████| 40/40 [00:05<00:00,  6.74it/s, val_acc=82.2, val_loss=0.00429]\n"
     ]
    },
    {
     "name": "stdout",
     "output_type": "stream",
     "text": [
      "=======================================================================================================================================\n",
      "2024-05-24 18:24:32\n",
      "Epoch 198 / 200\n"
     ]
    },
    {
     "name": "stderr",
     "output_type": "stream",
     "text": [
      "[Train]: 100%|█████████████████████████| 352/352 [01:05<00:00,  5.35it/s, train_loss=0.39]\n",
      "[Valid]: 100%|████████████████████████| 40/40 [00:06<00:00,  6.57it/s, val_acc=83, val_loss=0.00415]\n"
     ]
    },
    {
     "name": "stdout",
     "output_type": "stream",
     "text": [
      "=======================================================================================================================================\n",
      "2024-05-24 18:25:44\n",
      "Epoch 199 / 200\n"
     ]
    },
    {
     "name": "stderr",
     "output_type": "stream",
     "text": [
      "[Train]: 100%|████████████████████████| 352/352 [01:05<00:00,  5.41it/s, train_loss=0.383]\n",
      "[Valid]: 100%|██████████████████████| 40/40 [00:06<00:00,  6.33it/s, val_acc=82.2, val_loss=0.00429]\n"
     ]
    },
    {
     "name": "stdout",
     "output_type": "stream",
     "text": [
      "=======================================================================================================================================\n",
      "2024-05-24 18:26:56\n",
      "Epoch 200 / 200\n"
     ]
    },
    {
     "name": "stderr",
     "output_type": "stream",
     "text": [
      "[Train]: 100%|████████████████████████| 352/352 [01:05<00:00,  5.40it/s, train_loss=0.388]\n",
      "[Valid]: 100%|██████████████████████| 40/40 [00:05<00:00,  6.93it/s, val_acc=83.3, val_loss=0.00384]\n"
     ]
    },
    {
     "name": "stdout",
     "output_type": "stream",
     "text": [
      "Validation loss decreased (0.003861 --> 0.003839).\n"
     ]
    },
    {
     "data": {
      "image/png": "[encoded data removed]",
      "text/plain": [
       "<Figure size 1000x500 with 1 Axes>"
      ]
     },
     "metadata": {},
     "output_type": "display_data"
    },
    {
     "name": "stderr",
     "output_type": "stream",
     "text": [
      "Testing [Test]: 100%|████████████████████████| 79/79 [00:05<00:00, 14.95it/s, test_acc=94.5, test_loss=0.00131]\n"
     ]
    }
   ],
   "source": [
    "from torchvision.transforms import autoaugment, transforms\n",
    "\n",
    "train_transforms = transforms.Compose([\n",
    "    transforms.RandomResizedCrop(32, scale=(0.08, 1.0), ratio=(3. / 4., 4. / 3.)),\n",
    "    transforms.RandomHorizontalFlip(),\n",
    "    autoaugment.AutoAugment(policy=autoaugment.AutoAugmentPolicy('cifar10')),\n",
    "    transforms.ToTensor(),\n",
    "    transforms.Normalize((0.5,), (0.5,)),\n",
    "    transforms.RandomErasing(p=0.5, scale=(0.02, 0.33), ratio=(0.3, 3.3), value=0, inplace=False),\n",
    "])\n",
    "\n",
    "test_transforms = transforms.Compose([\n",
    "    transforms.ToTensor(),\n",
    "    transforms.Normalize((0.5,), (0.5,))\n",
    "])\n",
    "\n",
    "\n",
    "model = ResNet(input_channels=3, num_classes=10)\n",
    "trainer = cifar10_trainer(model=model, lr=0.1, batch_size=128, epoch=200, train_transforms=train_transforms, test_transforms=test_transforms)\n",
    "trainer.train()\n",
    "trainer.test()"
   ]
  }
 ],
 "metadata": {
  "kernelspec": {
   "display_name": "bdl",
   "language": "python",
   "name": "bdl"
  },
  "language_info": {
   "codemirror_mode": {
    "name": "ipython",
    "version": 3
   },
   "file_extension": ".py",
   "mimetype": "text/x-python",
   "name": "python",
   "nbconvert_exporter": "python",
   "pygments_lexer": "ipython3",
   "version": "3.9.0"
  }
 },
 "nbformat": 4,
 "nbformat_minor": 5
}
