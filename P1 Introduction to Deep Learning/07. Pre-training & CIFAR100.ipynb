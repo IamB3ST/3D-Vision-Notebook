{
 "cells": [
  {
   "cell_type": "markdown",
   "id": "0aa78853-939b-4f69-88bc-9ee2b24dbc18",
   "metadata": {},
   "source": [
    "# Pre-training\n",
    "\n",
    "In last chapter, we mentioned the difficulty of training a ViT model from scratch. So in this section, we will introduce pre training techniques in deep learning and use the function in torchvision to call a pre trained ResNet to train on a new dataset CIFAR100 and see the results."
   ]
  },
  {
   "cell_type": "markdown",
   "id": "166f3b11-d6e8-4969-ba2c-accef0bfa8fa",
   "metadata": {},
   "source": [
    "### Pre-training:\n",
    "Pre-training is a common technique in deep learning where a model is trained on a large dataset, typically using an unsupervised or self-supervised learning approach. The objective is to learn general features or representations from the data, which can later be used for downstream tasks. In the context of computer vision, pre-training often involves training a convolutional neural network (CNN) on a large dataset such as ImageNet. After pre-training, the learned weights can be transferred and fine-tuned for specific tasks, resulting in improved performance, especially when labeled data for the target task is limited.\n",
    "\n",
    "### Fine-tuning:\n",
    "Fine-tuning is the process of taking a pre-trained model and further training it on a new dataset or task with annotated labels. Instead of training the model from scratch, fine-tuning leverages the knowledge learned during pre-training to adapt the model to the new task. Typically, fine-tuning involves freezing the weights of the early layers, which capture general features, and only updating the weights of the later layers, which capture task-specific features. This allows the model to quickly adapt to the nuances of the new dataset or task while preserving the previously learned representations."
   ]
  },
  {
   "cell_type": "markdown",
   "id": "aa39a875-1804-468a-b547-63fdb4e6410a",
   "metadata": {},
   "source": [
    "## Load Pre-trained model"
   ]
  },
  {
   "cell_type": "code",
   "execution_count": 1,
   "id": "058fd3bc-fa17-469f-a3bb-75e542500e6e",
   "metadata": {
    "scrolled": true
   },
   "outputs": [
    {
     "name": "stderr",
     "output_type": "stream",
     "text": [
      "D:\\Anaconda\\envs\\bdl\\lib\\site-packages\\numpy\\_distributor_init.py:30: UserWarning: loaded more than 1 DLL from .libs:\n",
      "D:\\Anaconda\\envs\\bdl\\lib\\site-packages\\numpy\\.libs\\libopenblas64__v0.3.23-246-g3d31191b-gcc_10_3_0.dll\n",
      "D:\\Anaconda\\envs\\bdl\\lib\\site-packages\\numpy\\.libs\\libopenblas64__v0.3.23-gcc_10_3_0.dll\n",
      "  warnings.warn(\"loaded more than 1 DLL from .libs:\"\n",
      "D:\\Anaconda\\envs\\bdl\\lib\\site-packages\\torchvision\\models\\_utils.py:208: UserWarning: The parameter 'pretrained' is deprecated since 0.13 and may be removed in the future, please use 'weights' instead.\n",
      "  warnings.warn(\n",
      "D:\\Anaconda\\envs\\bdl\\lib\\site-packages\\torchvision\\models\\_utils.py:223: UserWarning: Arguments other than a weight enum or `None` for 'weights' are deprecated since 0.13 and may be removed in the future. The current behavior is equivalent to passing `weights=Wide_ResNet50_2_Weights.IMAGENET1K_V1`. You can also use `weights=Wide_ResNet50_2_Weights.DEFAULT` to get the most up-to-date weights.\n",
      "  warnings.warn(msg)\n"
     ]
    },
    {
     "name": "stdout",
     "output_type": "stream",
     "text": [
      "ResNet(\n",
      "  (conv1): Conv2d(3, 64, kernel_size=(3, 3), stride=(1, 1), padding=(1, 1))\n",
      "  (bn1): BatchNorm2d(64, eps=1e-05, momentum=0.1, affine=True, track_running_stats=True)\n",
      "  (relu): ReLU(inplace=True)\n",
      "  (maxpool): Identity()\n",
      "  (layer1): Sequential(\n",
      "    (0): Bottleneck(\n",
      "      (conv1): Conv2d(64, 128, kernel_size=(1, 1), stride=(1, 1), bias=False)\n",
      "      (bn1): BatchNorm2d(128, eps=1e-05, momentum=0.1, affine=True, track_running_stats=True)\n",
      "      (conv2): Conv2d(128, 128, kernel_size=(3, 3), stride=(1, 1), padding=(1, 1), bias=False)\n",
      "      (bn2): BatchNorm2d(128, eps=1e-05, momentum=0.1, affine=True, track_running_stats=True)\n",
      "      (conv3): Conv2d(128, 256, kernel_size=(1, 1), stride=(1, 1), bias=False)\n",
      "      (bn3): BatchNorm2d(256, eps=1e-05, momentum=0.1, affine=True, track_running_stats=True)\n",
      "      (relu): ReLU(inplace=True)\n",
      "      (downsample): Sequential(\n",
      "        (0): Conv2d(64, 256, kernel_size=(1, 1), stride=(1, 1), bias=False)\n",
      "        (1): BatchNorm2d(256, eps=1e-05, momentum=0.1, affine=True, track_running_stats=True)\n",
      "      )\n",
      "    )\n",
      "    (1): Bottleneck(\n",
      "      (conv1): Conv2d(256, 128, kernel_size=(1, 1), stride=(1, 1), bias=False)\n",
      "      (bn1): BatchNorm2d(128, eps=1e-05, momentum=0.1, affine=True, track_running_stats=True)\n",
      "      (conv2): Conv2d(128, 128, kernel_size=(3, 3), stride=(1, 1), padding=(1, 1), bias=False)\n",
      "      (bn2): BatchNorm2d(128, eps=1e-05, momentum=0.1, affine=True, track_running_stats=True)\n",
      "      (conv3): Conv2d(128, 256, kernel_size=(1, 1), stride=(1, 1), bias=False)\n",
      "      (bn3): BatchNorm2d(256, eps=1e-05, momentum=0.1, affine=True, track_running_stats=True)\n",
      "      (relu): ReLU(inplace=True)\n",
      "    )\n",
      "    (2): Bottleneck(\n",
      "      (conv1): Conv2d(256, 128, kernel_size=(1, 1), stride=(1, 1), bias=False)\n",
      "      (bn1): BatchNorm2d(128, eps=1e-05, momentum=0.1, affine=True, track_running_stats=True)\n",
      "      (conv2): Conv2d(128, 128, kernel_size=(3, 3), stride=(1, 1), padding=(1, 1), bias=False)\n",
      "      (bn2): BatchNorm2d(128, eps=1e-05, momentum=0.1, affine=True, track_running_stats=True)\n",
      "      (conv3): Conv2d(128, 256, kernel_size=(1, 1), stride=(1, 1), bias=False)\n",
      "      (bn3): BatchNorm2d(256, eps=1e-05, momentum=0.1, affine=True, track_running_stats=True)\n",
      "      (relu): ReLU(inplace=True)\n",
      "    )\n",
      "  )\n",
      "  (layer2): Sequential(\n",
      "    (0): Bottleneck(\n",
      "      (conv1): Conv2d(256, 256, kernel_size=(1, 1), stride=(1, 1), bias=False)\n",
      "      (bn1): BatchNorm2d(256, eps=1e-05, momentum=0.1, affine=True, track_running_stats=True)\n",
      "      (conv2): Conv2d(256, 256, kernel_size=(3, 3), stride=(2, 2), padding=(1, 1), bias=False)\n",
      "      (bn2): BatchNorm2d(256, eps=1e-05, momentum=0.1, affine=True, track_running_stats=True)\n",
      "      (conv3): Conv2d(256, 512, kernel_size=(1, 1), stride=(1, 1), bias=False)\n",
      "      (bn3): BatchNorm2d(512, eps=1e-05, momentum=0.1, affine=True, track_running_stats=True)\n",
      "      (relu): ReLU(inplace=True)\n",
      "      (downsample): Sequential(\n",
      "        (0): Conv2d(256, 512, kernel_size=(1, 1), stride=(2, 2), bias=False)\n",
      "        (1): BatchNorm2d(512, eps=1e-05, momentum=0.1, affine=True, track_running_stats=True)\n",
      "      )\n",
      "    )\n",
      "    (1): Bottleneck(\n",
      "      (conv1): Conv2d(512, 256, kernel_size=(1, 1), stride=(1, 1), bias=False)\n",
      "      (bn1): BatchNorm2d(256, eps=1e-05, momentum=0.1, affine=True, track_running_stats=True)\n",
      "      (conv2): Conv2d(256, 256, kernel_size=(3, 3), stride=(1, 1), padding=(1, 1), bias=False)\n",
      "      (bn2): BatchNorm2d(256, eps=1e-05, momentum=0.1, affine=True, track_running_stats=True)\n",
      "      (conv3): Conv2d(256, 512, kernel_size=(1, 1), stride=(1, 1), bias=False)\n",
      "      (bn3): BatchNorm2d(512, eps=1e-05, momentum=0.1, affine=True, track_running_stats=True)\n",
      "      (relu): ReLU(inplace=True)\n",
      "    )\n",
      "    (2): Bottleneck(\n",
      "      (conv1): Conv2d(512, 256, kernel_size=(1, 1), stride=(1, 1), bias=False)\n",
      "      (bn1): BatchNorm2d(256, eps=1e-05, momentum=0.1, affine=True, track_running_stats=True)\n",
      "      (conv2): Conv2d(256, 256, kernel_size=(3, 3), stride=(1, 1), padding=(1, 1), bias=False)\n",
      "      (bn2): BatchNorm2d(256, eps=1e-05, momentum=0.1, affine=True, track_running_stats=True)\n",
      "      (conv3): Conv2d(256, 512, kernel_size=(1, 1), stride=(1, 1), bias=False)\n",
      "      (bn3): BatchNorm2d(512, eps=1e-05, momentum=0.1, affine=True, track_running_stats=True)\n",
      "      (relu): ReLU(inplace=True)\n",
      "    )\n",
      "    (3): Bottleneck(\n",
      "      (conv1): Conv2d(512, 256, kernel_size=(1, 1), stride=(1, 1), bias=False)\n",
      "      (bn1): BatchNorm2d(256, eps=1e-05, momentum=0.1, affine=True, track_running_stats=True)\n",
      "      (conv2): Conv2d(256, 256, kernel_size=(3, 3), stride=(1, 1), padding=(1, 1), bias=False)\n",
      "      (bn2): BatchNorm2d(256, eps=1e-05, momentum=0.1, affine=True, track_running_stats=True)\n",
      "      (conv3): Conv2d(256, 512, kernel_size=(1, 1), stride=(1, 1), bias=False)\n",
      "      (bn3): BatchNorm2d(512, eps=1e-05, momentum=0.1, affine=True, track_running_stats=True)\n",
      "      (relu): ReLU(inplace=True)\n",
      "    )\n",
      "  )\n",
      "  (layer3): Sequential(\n",
      "    (0): Bottleneck(\n",
      "      (conv1): Conv2d(512, 512, kernel_size=(1, 1), stride=(1, 1), bias=False)\n",
      "      (bn1): BatchNorm2d(512, eps=1e-05, momentum=0.1, affine=True, track_running_stats=True)\n",
      "      (conv2): Conv2d(512, 512, kernel_size=(3, 3), stride=(2, 2), padding=(1, 1), bias=False)\n",
      "      (bn2): BatchNorm2d(512, eps=1e-05, momentum=0.1, affine=True, track_running_stats=True)\n",
      "      (conv3): Conv2d(512, 1024, kernel_size=(1, 1), stride=(1, 1), bias=False)\n",
      "      (bn3): BatchNorm2d(1024, eps=1e-05, momentum=0.1, affine=True, track_running_stats=True)\n",
      "      (relu): ReLU(inplace=True)\n",
      "      (downsample): Sequential(\n",
      "        (0): Conv2d(512, 1024, kernel_size=(1, 1), stride=(2, 2), bias=False)\n",
      "        (1): BatchNorm2d(1024, eps=1e-05, momentum=0.1, affine=True, track_running_stats=True)\n",
      "      )\n",
      "    )\n",
      "    (1): Bottleneck(\n",
      "      (conv1): Conv2d(1024, 512, kernel_size=(1, 1), stride=(1, 1), bias=False)\n",
      "      (bn1): BatchNorm2d(512, eps=1e-05, momentum=0.1, affine=True, track_running_stats=True)\n",
      "      (conv2): Conv2d(512, 512, kernel_size=(3, 3), stride=(1, 1), padding=(1, 1), bias=False)\n",
      "      (bn2): BatchNorm2d(512, eps=1e-05, momentum=0.1, affine=True, track_running_stats=True)\n",
      "      (conv3): Conv2d(512, 1024, kernel_size=(1, 1), stride=(1, 1), bias=False)\n",
      "      (bn3): BatchNorm2d(1024, eps=1e-05, momentum=0.1, affine=True, track_running_stats=True)\n",
      "      (relu): ReLU(inplace=True)\n",
      "    )\n",
      "    (2): Bottleneck(\n",
      "      (conv1): Conv2d(1024, 512, kernel_size=(1, 1), stride=(1, 1), bias=False)\n",
      "      (bn1): BatchNorm2d(512, eps=1e-05, momentum=0.1, affine=True, track_running_stats=True)\n",
      "      (conv2): Conv2d(512, 512, kernel_size=(3, 3), stride=(1, 1), padding=(1, 1), bias=False)\n",
      "      (bn2): BatchNorm2d(512, eps=1e-05, momentum=0.1, affine=True, track_running_stats=True)\n",
      "      (conv3): Conv2d(512, 1024, kernel_size=(1, 1), stride=(1, 1), bias=False)\n",
      "      (bn3): BatchNorm2d(1024, eps=1e-05, momentum=0.1, affine=True, track_running_stats=True)\n",
      "      (relu): ReLU(inplace=True)\n",
      "    )\n",
      "    (3): Bottleneck(\n",
      "      (conv1): Conv2d(1024, 512, kernel_size=(1, 1), stride=(1, 1), bias=False)\n",
      "      (bn1): BatchNorm2d(512, eps=1e-05, momentum=0.1, affine=True, track_running_stats=True)\n",
      "      (conv2): Conv2d(512, 512, kernel_size=(3, 3), stride=(1, 1), padding=(1, 1), bias=False)\n",
      "      (bn2): BatchNorm2d(512, eps=1e-05, momentum=0.1, affine=True, track_running_stats=True)\n",
      "      (conv3): Conv2d(512, 1024, kernel_size=(1, 1), stride=(1, 1), bias=False)\n",
      "      (bn3): BatchNorm2d(1024, eps=1e-05, momentum=0.1, affine=True, track_running_stats=True)\n",
      "      (relu): ReLU(inplace=True)\n",
      "    )\n",
      "    (4): Bottleneck(\n",
      "      (conv1): Conv2d(1024, 512, kernel_size=(1, 1), stride=(1, 1), bias=False)\n",
      "      (bn1): BatchNorm2d(512, eps=1e-05, momentum=0.1, affine=True, track_running_stats=True)\n",
      "      (conv2): Conv2d(512, 512, kernel_size=(3, 3), stride=(1, 1), padding=(1, 1), bias=False)\n",
      "      (bn2): BatchNorm2d(512, eps=1e-05, momentum=0.1, affine=True, track_running_stats=True)\n",
      "      (conv3): Conv2d(512, 1024, kernel_size=(1, 1), stride=(1, 1), bias=False)\n",
      "      (bn3): BatchNorm2d(1024, eps=1e-05, momentum=0.1, affine=True, track_running_stats=True)\n",
      "      (relu): ReLU(inplace=True)\n",
      "    )\n",
      "    (5): Bottleneck(\n",
      "      (conv1): Conv2d(1024, 512, kernel_size=(1, 1), stride=(1, 1), bias=False)\n",
      "      (bn1): BatchNorm2d(512, eps=1e-05, momentum=0.1, affine=True, track_running_stats=True)\n",
      "      (conv2): Conv2d(512, 512, kernel_size=(3, 3), stride=(1, 1), padding=(1, 1), bias=False)\n",
      "      (bn2): BatchNorm2d(512, eps=1e-05, momentum=0.1, affine=True, track_running_stats=True)\n",
      "      (conv3): Conv2d(512, 1024, kernel_size=(1, 1), stride=(1, 1), bias=False)\n",
      "      (bn3): BatchNorm2d(1024, eps=1e-05, momentum=0.1, affine=True, track_running_stats=True)\n",
      "      (relu): ReLU(inplace=True)\n",
      "    )\n",
      "  )\n",
      "  (layer4): Sequential(\n",
      "    (0): Bottleneck(\n",
      "      (conv1): Conv2d(1024, 1024, kernel_size=(1, 1), stride=(1, 1), bias=False)\n",
      "      (bn1): BatchNorm2d(1024, eps=1e-05, momentum=0.1, affine=True, track_running_stats=True)\n",
      "      (conv2): Conv2d(1024, 1024, kernel_size=(3, 3), stride=(2, 2), padding=(1, 1), bias=False)\n",
      "      (bn2): BatchNorm2d(1024, eps=1e-05, momentum=0.1, affine=True, track_running_stats=True)\n",
      "      (conv3): Conv2d(1024, 2048, kernel_size=(1, 1), stride=(1, 1), bias=False)\n",
      "      (bn3): BatchNorm2d(2048, eps=1e-05, momentum=0.1, affine=True, track_running_stats=True)\n",
      "      (relu): ReLU(inplace=True)\n",
      "      (downsample): Sequential(\n",
      "        (0): Conv2d(1024, 2048, kernel_size=(1, 1), stride=(2, 2), bias=False)\n",
      "        (1): BatchNorm2d(2048, eps=1e-05, momentum=0.1, affine=True, track_running_stats=True)\n",
      "      )\n",
      "    )\n",
      "    (1): Bottleneck(\n",
      "      (conv1): Conv2d(2048, 1024, kernel_size=(1, 1), stride=(1, 1), bias=False)\n",
      "      (bn1): BatchNorm2d(1024, eps=1e-05, momentum=0.1, affine=True, track_running_stats=True)\n",
      "      (conv2): Conv2d(1024, 1024, kernel_size=(3, 3), stride=(1, 1), padding=(1, 1), bias=False)\n",
      "      (bn2): BatchNorm2d(1024, eps=1e-05, momentum=0.1, affine=True, track_running_stats=True)\n",
      "      (conv3): Conv2d(1024, 2048, kernel_size=(1, 1), stride=(1, 1), bias=False)\n",
      "      (bn3): BatchNorm2d(2048, eps=1e-05, momentum=0.1, affine=True, track_running_stats=True)\n",
      "      (relu): ReLU(inplace=True)\n",
      "    )\n",
      "    (2): Bottleneck(\n",
      "      (conv1): Conv2d(2048, 1024, kernel_size=(1, 1), stride=(1, 1), bias=False)\n",
      "      (bn1): BatchNorm2d(1024, eps=1e-05, momentum=0.1, affine=True, track_running_stats=True)\n",
      "      (conv2): Conv2d(1024, 1024, kernel_size=(3, 3), stride=(1, 1), padding=(1, 1), bias=False)\n",
      "      (bn2): BatchNorm2d(1024, eps=1e-05, momentum=0.1, affine=True, track_running_stats=True)\n",
      "      (conv3): Conv2d(1024, 2048, kernel_size=(1, 1), stride=(1, 1), bias=False)\n",
      "      (bn3): BatchNorm2d(2048, eps=1e-05, momentum=0.1, affine=True, track_running_stats=True)\n",
      "      (relu): ReLU(inplace=True)\n",
      "    )\n",
      "  )\n",
      "  (avgpool): AdaptiveAvgPool2d(output_size=(1, 1))\n",
      "  (fc): Linear(in_features=2048, out_features=100, bias=True)\n",
      ")\n"
     ]
    }
   ],
   "source": [
    "import torchvision.models as models\n",
    "import torch.nn as nn\n",
    "\n",
    "def init_model():\n",
    "    model = models.wide_resnet50_2(pretrained=True)\n",
    "    model.conv1 = nn.Conv2d(model.conv1.in_channels, \n",
    "                            model.conv1.out_channels,\n",
    "                            3, 1, 1)\n",
    "    model.maxpool = nn.Identity() # nn.Conv2d(64, 64, 1, 1, 1)\n",
    "    model.fc = nn.Linear(model.fc.in_features, 100)\n",
    "    return model\n",
    "\n",
    "model = init_model()\n",
    "print(model)"
   ]
  },
  {
   "cell_type": "markdown",
   "id": "71fc2c02-353a-4233-99dc-824260af721a",
   "metadata": {},
   "source": [
    "# CIFAR100\n",
    "\n",
    "The CIFAR-100 dataset is a widely used benchmark dataset in the field of machine learning and computer vision. It is well-suited for training machine learning algorithms and evaluating their performance. Here’s a detailed overview of the CIFAR-100 dataset:\n",
    "\n",
    "- **number of classes**: 100.\n",
    "- **classes**: The dataset contains 100 different classes, some of which include: Apple, Aquarium fish, Baby, Bear, Beaver, Bed, Bee, Beetle, Bicycle, Bottle, Bowl, Boy, Bridge, Bus, Butterfly, Camel, Can, Castle, Caterpillar, Cattle, Chair, Chimpanzee, Clock, Cloud, Cockroach, Couch, Crab, Crocodile, Cup, Dinosaur, Dolphin, Elephant, Flatfish, Forest, Fox, Girl, Hamster, House, Kangaroo, Keyboard, Lamp, Lawn-mower, Leopard, Lion, Lizard, Lobster, Man, Maple tree, Motorcycle, Mountain, Mouse, Mushroom, Oak tree, Orange, Orchid, Otter, Palm tree, Pear, Pickup truck, Pine tree, Plain, Plate, Poppy, Porcupine, Possum, Rabbit, Raccoon, Ray, Road, Rocket, Rose, Sea, Seal, Shark, Shrew, Skunk, Skyscraper, Snail, Snake, Spider, Squirrel, Streetcar, Sunflower, Sweet pepper, Table, Tank, Telephone, Television, Tiger, Tractor, Train, Trout, Tulip, Turtle, Wardrobe, Whale, Willow tree, Wolf, Woman, Worm.\n",
    "- **number of images**: 50000 images for train, 10000 images for test.\n",
    "- **image size**: 32x32 pixels.\n",
    "- **Color**: Each image is in RGB (color).\n"
   ]
  },
  {
   "cell_type": "markdown",
   "id": "33e5b984-1848-4138-a7b6-0228d915653e",
   "metadata": {},
   "source": [
    "# Train pre-trained model on CIFAR100"
   ]
  },
  {
   "cell_type": "code",
   "execution_count": 2,
   "id": "5451e362-e9ca-4099-a9b5-b83c0a3c3bc6",
   "metadata": {},
   "outputs": [
    {
     "name": "stdout",
     "output_type": "stream",
     "text": [
      "Files already downloaded and verified\n",
      "=======================================================================================================================================\n",
      "2024-05-24 23:02:04\n",
      "Epoch 1 / 200\n"
     ]
    },
    {
     "name": "stderr",
     "output_type": "stream",
     "text": [
      "[Train]: 100%|█████████████████████████| 352/352 [03:11<00:00,  1.84it/s, train_loss=4.54]\n",
      "[Valid]: 100%|███████████████████████| 40/40 [00:14<00:00,  2.69it/s, val_acc=3.42, val_loss=0.0348]\n"
     ]
    },
    {
     "name": "stdout",
     "output_type": "stream",
     "text": [
      "Validation loss decreased (inf --> 0.034809).\n",
      "=======================================================================================================================================\n",
      "2024-05-24 23:05:31\n",
      "Epoch 2 / 200\n"
     ]
    },
    {
     "name": "stderr",
     "output_type": "stream",
     "text": [
      "[Train]: 100%|█████████████████████████| 352/352 [03:30<00:00,  1.67it/s, train_loss=4.25]\n",
      "[Valid]: 100%|███████████████████████| 40/40 [00:15<00:00,  2.66it/s, val_acc=5.72, val_loss=0.0338]\n"
     ]
    },
    {
     "name": "stdout",
     "output_type": "stream",
     "text": [
      "Validation loss decreased (0.034809 --> 0.033757).\n",
      "=======================================================================================================================================\n",
      "2024-05-24 23:09:16\n",
      "Epoch 3 / 200\n"
     ]
    },
    {
     "name": "stderr",
     "output_type": "stream",
     "text": [
      "[Train]: 100%|█████████████████████████| 352/352 [03:36<00:00,  1.63it/s, train_loss=4.14]\n",
      "[Valid]: 100%|███████████████████████| 40/40 [00:15<00:00,  2.54it/s, val_acc=6.62, val_loss=0.0329]\n"
     ]
    },
    {
     "name": "stdout",
     "output_type": "stream",
     "text": [
      "Validation loss decreased (0.033757 --> 0.032856).\n",
      "=======================================================================================================================================\n",
      "2024-05-24 23:13:08\n",
      "Epoch 4 / 200\n"
     ]
    },
    {
     "name": "stderr",
     "output_type": "stream",
     "text": [
      "[Train]: 100%|█████████████████████████| 352/352 [03:41<00:00,  1.59it/s, train_loss=4.07]\n",
      "[Valid]: 100%|███████████████████████| 40/40 [00:15<00:00,  2.58it/s, val_acc=7.82, val_loss=0.0328]\n"
     ]
    },
    {
     "name": "stdout",
     "output_type": "stream",
     "text": [
      "Validation loss decreased (0.032856 --> 0.032785).\n",
      "=======================================================================================================================================\n",
      "2024-05-24 23:17:05\n",
      "Epoch 5 / 200\n"
     ]
    },
    {
     "name": "stderr",
     "output_type": "stream",
     "text": [
      "[Train]: 100%|█████████████████████████| 352/352 [03:42<00:00,  1.58it/s, train_loss=3.97]\n",
      "[Valid]: 100%|█████████████████████████| 40/40 [00:15<00:00,  2.53it/s, val_acc=9.6, val_loss=0.032]\n"
     ]
    },
    {
     "name": "stdout",
     "output_type": "stream",
     "text": [
      "Validation loss decreased (0.032785 --> 0.032012).\n",
      "=======================================================================================================================================\n",
      "2024-05-24 23:21:04\n",
      "Epoch 6 / 200\n"
     ]
    },
    {
     "name": "stderr",
     "output_type": "stream",
     "text": [
      "[Train]: 100%|█████████████████████████| 352/352 [03:43<00:00,  1.58it/s, train_loss=3.86]\n",
      "[Valid]: 100%|███████████████████████| 40/40 [00:15<00:00,  2.50it/s, val_acc=10.1, val_loss=0.0315]\n"
     ]
    },
    {
     "name": "stdout",
     "output_type": "stream",
     "text": [
      "Validation loss decreased (0.032012 --> 0.031530).\n",
      "=======================================================================================================================================\n",
      "2024-05-24 23:25:03\n",
      "Epoch 7 / 200\n"
     ]
    },
    {
     "name": "stderr",
     "output_type": "stream",
     "text": [
      "[Train]: 100%|█████████████████████████| 352/352 [03:43<00:00,  1.57it/s, train_loss=3.76]\n",
      "[Valid]: 100%|███████████████████████| 40/40 [00:15<00:00,  2.51it/s, val_acc=10.3, val_loss=0.0315]\n"
     ]
    },
    {
     "name": "stdout",
     "output_type": "stream",
     "text": [
      "Validation loss decreased (0.031530 --> 0.031467).\n",
      "=======================================================================================================================================\n",
      "2024-05-24 23:29:02\n",
      "Epoch 8 / 200\n"
     ]
    },
    {
     "name": "stderr",
     "output_type": "stream",
     "text": [
      "[Train]: 100%|█████████████████████████| 352/352 [03:46<00:00,  1.56it/s, train_loss=3.65]\n",
      "[Valid]: 100%|█████████████████████████| 40/40 [00:16<00:00,  2.50it/s, val_acc=13, val_loss=0.0299]\n"
     ]
    },
    {
     "name": "stdout",
     "output_type": "stream",
     "text": [
      "Validation loss decreased (0.031467 --> 0.029875).\n",
      "=======================================================================================================================================\n",
      "2024-05-24 23:33:04\n",
      "Epoch 9 / 200\n"
     ]
    },
    {
     "name": "stderr",
     "output_type": "stream",
     "text": [
      "[Train]: 100%|█████████████████████████| 352/352 [03:44<00:00,  1.57it/s, train_loss=3.56]\n",
      "[Valid]: 100%|███████████████████████| 40/40 [00:15<00:00,  2.51it/s, val_acc=13.8, val_loss=0.0296]\n"
     ]
    },
    {
     "name": "stdout",
     "output_type": "stream",
     "text": [
      "Validation loss decreased (0.029875 --> 0.029623).\n",
      "=======================================================================================================================================\n",
      "2024-05-24 23:37:05\n",
      "Epoch 10 / 200\n"
     ]
    },
    {
     "name": "stderr",
     "output_type": "stream",
     "text": [
      "[Train]: 100%|██████████████████████████| 352/352 [03:45<00:00,  1.56it/s, train_loss=3.5]\n",
      "[Valid]: 100%|███████████████████████| 40/40 [00:15<00:00,  2.52it/s, val_acc=16.4, val_loss=0.0288]\n"
     ]
    },
    {
     "name": "stdout",
     "output_type": "stream",
     "text": [
      "Validation loss decreased (0.029623 --> 0.028829).\n",
      "=======================================================================================================================================\n",
      "2024-05-24 23:41:06\n",
      "Epoch 11 / 200\n"
     ]
    },
    {
     "name": "stderr",
     "output_type": "stream",
     "text": [
      "[Train]: 100%|█████████████████████████| 352/352 [03:46<00:00,  1.55it/s, train_loss=3.45]\n",
      "[Valid]: 100%|███████████████████████| 40/40 [00:15<00:00,  2.53it/s, val_acc=14.6, val_loss=0.0296]\n"
     ]
    },
    {
     "name": "stdout",
     "output_type": "stream",
     "text": [
      "=======================================================================================================================================\n",
      "2024-05-24 23:45:08\n",
      "Epoch 12 / 200\n"
     ]
    },
    {
     "name": "stderr",
     "output_type": "stream",
     "text": [
      "[Train]: 100%|█████████████████████████| 352/352 [03:44<00:00,  1.57it/s, train_loss=3.38]\n",
      "[Valid]: 100%|███████████████████████| 40/40 [00:16<00:00,  2.47it/s, val_acc=16.4, val_loss=0.0284]\n"
     ]
    },
    {
     "name": "stdout",
     "output_type": "stream",
     "text": [
      "Validation loss decreased (0.028829 --> 0.028412).\n",
      "=======================================================================================================================================\n",
      "2024-05-24 23:49:10\n",
      "Epoch 13 / 200\n"
     ]
    },
    {
     "name": "stderr",
     "output_type": "stream",
     "text": [
      "[Train]: 100%|█████████████████████████| 352/352 [03:47<00:00,  1.55it/s, train_loss=3.34]\n",
      "[Valid]: 100%|███████████████████████| 40/40 [00:15<00:00,  2.52it/s, val_acc=16.8, val_loss=0.0289]\n"
     ]
    },
    {
     "name": "stdout",
     "output_type": "stream",
     "text": [
      "=======================================================================================================================================\n",
      "2024-05-24 23:53:13\n",
      "Epoch 14 / 200\n"
     ]
    },
    {
     "name": "stderr",
     "output_type": "stream",
     "text": [
      "[Train]: 100%|█████████████████████████| 352/352 [03:48<00:00,  1.54it/s, train_loss=3.28]\n",
      "[Valid]: 100%|███████████████████████| 40/40 [00:15<00:00,  2.53it/s, val_acc=16.2, val_loss=0.0291]\n"
     ]
    },
    {
     "name": "stdout",
     "output_type": "stream",
     "text": [
      "=======================================================================================================================================\n",
      "2024-05-24 23:57:18\n",
      "Epoch 15 / 200\n"
     ]
    },
    {
     "name": "stderr",
     "output_type": "stream",
     "text": [
      "[Train]: 100%|█████████████████████████| 352/352 [03:49<00:00,  1.53it/s, train_loss=3.26]\n",
      "[Valid]: 100%|█████████████████████████| 40/40 [00:16<00:00,  2.49it/s, val_acc=19, val_loss=0.0273]\n"
     ]
    },
    {
     "name": "stdout",
     "output_type": "stream",
     "text": [
      "Validation loss decreased (0.028412 --> 0.027272).\n",
      "=======================================================================================================================================\n",
      "2024-05-25 00:01:24\n",
      "Epoch 16 / 200\n"
     ]
    },
    {
     "name": "stderr",
     "output_type": "stream",
     "text": [
      "[Train]: 100%|█████████████████████████| 352/352 [03:52<00:00,  1.51it/s, train_loss=3.21]\n",
      "[Valid]: 100%|███████████████████████| 40/40 [00:15<00:00,  2.53it/s, val_acc=19.1, val_loss=0.0277]\n"
     ]
    },
    {
     "name": "stdout",
     "output_type": "stream",
     "text": [
      "=======================================================================================================================================\n",
      "2024-05-25 00:05:33\n",
      "Epoch 17 / 200\n"
     ]
    },
    {
     "name": "stderr",
     "output_type": "stream",
     "text": [
      "[Train]: 100%|█████████████████████████| 352/352 [03:41<00:00,  1.59it/s, train_loss=3.17]\n",
      "[Valid]: 100%|███████████████████████| 40/40 [00:15<00:00,  2.55it/s, val_acc=18.5, val_loss=0.0273]\n"
     ]
    },
    {
     "name": "stdout",
     "output_type": "stream",
     "text": [
      "=======================================================================================================================================\n",
      "2024-05-25 00:09:30\n",
      "Epoch 18 / 200\n"
     ]
    },
    {
     "name": "stderr",
     "output_type": "stream",
     "text": [
      "[Train]: 100%|█████████████████████████| 352/352 [03:40<00:00,  1.60it/s, train_loss=3.15]\n",
      "[Valid]: 100%|███████████████████████| 40/40 [00:15<00:00,  2.58it/s, val_acc=20.3, val_loss=0.0266]\n"
     ]
    },
    {
     "name": "stdout",
     "output_type": "stream",
     "text": [
      "Validation loss decreased (0.027272 --> 0.026574).\n",
      "=======================================================================================================================================\n",
      "2024-05-25 00:13:25\n",
      "Epoch 19 / 200\n"
     ]
    },
    {
     "name": "stderr",
     "output_type": "stream",
     "text": [
      "[Train]: 100%|█████████████████████████| 352/352 [03:38<00:00,  1.61it/s, train_loss=3.12]\n",
      "[Valid]: 100%|███████████████████████| 40/40 [00:15<00:00,  2.65it/s, val_acc=19.3, val_loss=0.0272]\n"
     ]
    },
    {
     "name": "stdout",
     "output_type": "stream",
     "text": [
      "=======================================================================================================================================\n",
      "2024-05-25 00:17:19\n",
      "Epoch 20 / 200\n"
     ]
    },
    {
     "name": "stderr",
     "output_type": "stream",
     "text": [
      "[Train]: 100%|█████████████████████████| 352/352 [03:38<00:00,  1.61it/s, train_loss=3.08]\n",
      "[Valid]: 100%|███████████████████████| 40/40 [00:15<00:00,  2.60it/s, val_acc=19.9, val_loss=0.0276]\n"
     ]
    },
    {
     "name": "stdout",
     "output_type": "stream",
     "text": [
      "=======================================================================================================================================\n",
      "2024-05-25 00:21:13\n",
      "Epoch 21 / 200\n"
     ]
    },
    {
     "name": "stderr",
     "output_type": "stream",
     "text": [
      "[Train]: 100%|█████████████████████████| 352/352 [03:38<00:00,  1.61it/s, train_loss=3.05]\n",
      "[Valid]: 100%|███████████████████████| 40/40 [00:15<00:00,  2.57it/s, val_acc=19.7, val_loss=0.0277]\n"
     ]
    },
    {
     "name": "stdout",
     "output_type": "stream",
     "text": [
      "=======================================================================================================================================\n",
      "2024-05-25 00:25:07\n",
      "Epoch 22 / 200\n"
     ]
    },
    {
     "name": "stderr",
     "output_type": "stream",
     "text": [
      "[Train]: 100%|█████████████████████████| 352/352 [03:38<00:00,  1.61it/s, train_loss=3.02]\n",
      "[Valid]: 100%|███████████████████████| 40/40 [00:15<00:00,  2.57it/s, val_acc=20.9, val_loss=0.0268]\n"
     ]
    },
    {
     "name": "stdout",
     "output_type": "stream",
     "text": [
      "=======================================================================================================================================\n",
      "2024-05-25 00:29:01\n",
      "Epoch 23 / 200\n"
     ]
    },
    {
     "name": "stderr",
     "output_type": "stream",
     "text": [
      "[Train]: 100%|█████████████████████████| 352/352 [03:37<00:00,  1.62it/s, train_loss=2.98]\n",
      "[Valid]: 100%|███████████████████████| 40/40 [00:15<00:00,  2.56it/s, val_acc=23.2, val_loss=0.0257]\n"
     ]
    },
    {
     "name": "stdout",
     "output_type": "stream",
     "text": [
      "Validation loss decreased (0.026574 --> 0.025700).\n",
      "=======================================================================================================================================\n",
      "2024-05-25 00:32:54\n",
      "Epoch 24 / 200\n"
     ]
    },
    {
     "name": "stderr",
     "output_type": "stream",
     "text": [
      "[Train]: 100%|█████████████████████████| 352/352 [03:37<00:00,  1.62it/s, train_loss=2.98]\n",
      "[Valid]: 100%|███████████████████████| 40/40 [00:15<00:00,  2.60it/s, val_acc=24.2, val_loss=0.0255]\n"
     ]
    },
    {
     "name": "stdout",
     "output_type": "stream",
     "text": [
      "Validation loss decreased (0.025700 --> 0.025522).\n",
      "=======================================================================================================================================\n",
      "2024-05-25 00:36:46\n",
      "Epoch 25 / 200\n"
     ]
    },
    {
     "name": "stderr",
     "output_type": "stream",
     "text": [
      "[Train]: 100%|█████████████████████████| 352/352 [03:36<00:00,  1.63it/s, train_loss=2.95]\n",
      "[Valid]: 100%|████████████████████████| 40/40 [00:15<00:00,  2.61it/s, val_acc=18.1, val_loss=0.029]\n"
     ]
    },
    {
     "name": "stdout",
     "output_type": "stream",
     "text": [
      "=======================================================================================================================================\n",
      "2024-05-25 00:40:38\n",
      "Epoch 26 / 200\n"
     ]
    },
    {
     "name": "stderr",
     "output_type": "stream",
     "text": [
      "[Train]: 100%|█████████████████████████| 352/352 [03:36<00:00,  1.63it/s, train_loss=2.92]\n",
      "[Valid]: 100%|███████████████████████| 40/40 [00:15<00:00,  2.62it/s, val_acc=22.1, val_loss=0.0272]\n"
     ]
    },
    {
     "name": "stdout",
     "output_type": "stream",
     "text": [
      "=======================================================================================================================================\n",
      "2024-05-25 00:44:30\n",
      "Epoch 27 / 200\n"
     ]
    },
    {
     "name": "stderr",
     "output_type": "stream",
     "text": [
      "[Train]: 100%|█████████████████████████| 352/352 [03:35<00:00,  1.64it/s, train_loss=2.91]\n",
      "[Valid]: 100%|███████████████████████| 40/40 [00:15<00:00,  2.56it/s, val_acc=23.7, val_loss=0.0248]\n"
     ]
    },
    {
     "name": "stdout",
     "output_type": "stream",
     "text": [
      "Validation loss decreased (0.025522 --> 0.024847).\n",
      "=======================================================================================================================================\n",
      "2024-05-25 00:48:20\n",
      "Epoch 28 / 200\n"
     ]
    },
    {
     "name": "stderr",
     "output_type": "stream",
     "text": [
      "[Train]: 100%|█████████████████████████| 352/352 [03:32<00:00,  1.66it/s, train_loss=2.89]\n",
      "[Valid]: 100%|███████████████████████| 40/40 [00:15<00:00,  2.66it/s, val_acc=24.8, val_loss=0.0249]\n"
     ]
    },
    {
     "name": "stdout",
     "output_type": "stream",
     "text": [
      "=======================================================================================================================================\n",
      "2024-05-25 00:52:08\n",
      "Epoch 29 / 200\n"
     ]
    },
    {
     "name": "stderr",
     "output_type": "stream",
     "text": [
      "[Train]: 100%|█████████████████████████| 352/352 [03:32<00:00,  1.66it/s, train_loss=2.88]\n",
      "[Valid]: 100%|███████████████████████| 40/40 [00:15<00:00,  2.64it/s, val_acc=21.8, val_loss=0.0264]\n"
     ]
    },
    {
     "name": "stdout",
     "output_type": "stream",
     "text": [
      "=======================================================================================================================================\n",
      "2024-05-25 00:55:55\n",
      "Epoch 30 / 200\n"
     ]
    },
    {
     "name": "stderr",
     "output_type": "stream",
     "text": [
      "[Train]: 100%|█████████████████████████| 352/352 [03:31<00:00,  1.66it/s, train_loss=2.87]\n",
      "[Valid]: 100%|████████████████████████| 40/40 [00:15<00:00,  2.62it/s, val_acc=23.3, val_loss=0.026]\n"
     ]
    },
    {
     "name": "stdout",
     "output_type": "stream",
     "text": [
      "=======================================================================================================================================\n",
      "2024-05-25 00:59:42\n",
      "Epoch 31 / 200\n"
     ]
    },
    {
     "name": "stderr",
     "output_type": "stream",
     "text": [
      "[Train]: 100%|█████████████████████████| 352/352 [03:34<00:00,  1.64it/s, train_loss=2.85]\n",
      "[Valid]: 100%|███████████████████████| 40/40 [00:15<00:00,  2.66it/s, val_acc=24.9, val_loss=0.0249]\n"
     ]
    },
    {
     "name": "stdout",
     "output_type": "stream",
     "text": [
      "=======================================================================================================================================\n",
      "2024-05-25 01:03:32\n",
      "Epoch 32 / 200\n"
     ]
    },
    {
     "name": "stderr",
     "output_type": "stream",
     "text": [
      "[Train]: 100%|█████████████████████████| 352/352 [03:33<00:00,  1.65it/s, train_loss=2.84]\n",
      "[Valid]: 100%|███████████████████████| 40/40 [00:15<00:00,  2.60it/s, val_acc=24.4, val_loss=0.0251]\n"
     ]
    },
    {
     "name": "stdout",
     "output_type": "stream",
     "text": [
      "=======================================================================================================================================\n",
      "2024-05-25 01:07:21\n",
      "Epoch 33 / 200\n"
     ]
    },
    {
     "name": "stderr",
     "output_type": "stream",
     "text": [
      "[Train]: 100%|█████████████████████████| 352/352 [03:35<00:00,  1.64it/s, train_loss=2.83]\n",
      "[Valid]: 100%|███████████████████████| 40/40 [00:15<00:00,  2.63it/s, val_acc=23.3, val_loss=0.0261]\n"
     ]
    },
    {
     "name": "stdout",
     "output_type": "stream",
     "text": [
      "=======================================================================================================================================\n",
      "2024-05-25 01:11:11\n",
      "Epoch 34 / 200\n"
     ]
    },
    {
     "name": "stderr",
     "output_type": "stream",
     "text": [
      "[Train]: 100%|█████████████████████████| 352/352 [03:34<00:00,  1.64it/s, train_loss=2.81]\n",
      "[Valid]: 100%|███████████████████████| 40/40 [00:15<00:00,  2.64it/s, val_acc=25.8, val_loss=0.0243]\n"
     ]
    },
    {
     "name": "stdout",
     "output_type": "stream",
     "text": [
      "Validation loss decreased (0.024847 --> 0.024278).\n",
      "=======================================================================================================================================\n",
      "2024-05-25 01:15:01\n",
      "Epoch 35 / 200\n"
     ]
    },
    {
     "name": "stderr",
     "output_type": "stream",
     "text": [
      "[Train]: 100%|██████████████████████████| 352/352 [03:31<00:00,  1.66it/s, train_loss=2.8]\n",
      "[Valid]: 100%|███████████████████████| 40/40 [00:14<00:00,  2.69it/s, val_acc=25.7, val_loss=0.0251]\n"
     ]
    },
    {
     "name": "stdout",
     "output_type": "stream",
     "text": [
      "=======================================================================================================================================\n",
      "2024-05-25 01:18:47\n",
      "Epoch 36 / 200\n"
     ]
    },
    {
     "name": "stderr",
     "output_type": "stream",
     "text": [
      "[Train]: 100%|█████████████████████████| 352/352 [03:33<00:00,  1.65it/s, train_loss=2.79]\n",
      "[Valid]: 100%|███████████████████████| 40/40 [00:15<00:00,  2.66it/s, val_acc=26.6, val_loss=0.0242]\n"
     ]
    },
    {
     "name": "stdout",
     "output_type": "stream",
     "text": [
      "Validation loss decreased (0.024278 --> 0.024228).\n",
      "=======================================================================================================================================\n",
      "2024-05-25 01:22:35\n",
      "Epoch 37 / 200\n"
     ]
    },
    {
     "name": "stderr",
     "output_type": "stream",
     "text": [
      "[Train]: 100%|█████████████████████████| 352/352 [03:32<00:00,  1.65it/s, train_loss=2.77]\n",
      "[Valid]: 100%|███████████████████████| 40/40 [00:15<00:00,  2.59it/s, val_acc=27.2, val_loss=0.0238]\n"
     ]
    },
    {
     "name": "stdout",
     "output_type": "stream",
     "text": [
      "Validation loss decreased (0.024228 --> 0.023778).\n",
      "=======================================================================================================================================\n",
      "2024-05-25 01:26:24\n",
      "Epoch 38 / 200\n"
     ]
    },
    {
     "name": "stderr",
     "output_type": "stream",
     "text": [
      "[Train]: 100%|█████████████████████████| 352/352 [03:30<00:00,  1.67it/s, train_loss=2.78]\n",
      "[Valid]: 100%|███████████████████████| 40/40 [00:15<00:00,  2.63it/s, val_acc=27.1, val_loss=0.0239]\n"
     ]
    },
    {
     "name": "stdout",
     "output_type": "stream",
     "text": [
      "=======================================================================================================================================\n",
      "2024-05-25 01:30:10\n",
      "Epoch 39 / 200\n"
     ]
    },
    {
     "name": "stderr",
     "output_type": "stream",
     "text": [
      "[Train]: 100%|█████████████████████████| 352/352 [03:33<00:00,  1.65it/s, train_loss=2.74]\n",
      "[Valid]: 100%|███████████████████████| 40/40 [00:15<00:00,  2.65it/s, val_acc=26.7, val_loss=0.0244]\n"
     ]
    },
    {
     "name": "stdout",
     "output_type": "stream",
     "text": [
      "=======================================================================================================================================\n",
      "2024-05-25 01:33:58\n",
      "Epoch 40 / 200\n"
     ]
    },
    {
     "name": "stderr",
     "output_type": "stream",
     "text": [
      "[Train]: 100%|█████████████████████████| 352/352 [03:34<00:00,  1.64it/s, train_loss=2.75]\n",
      "[Valid]: 100%|███████████████████████| 40/40 [00:15<00:00,  2.62it/s, val_acc=27.8, val_loss=0.0239]\n"
     ]
    },
    {
     "name": "stdout",
     "output_type": "stream",
     "text": [
      "=======================================================================================================================================\n",
      "2024-05-25 01:37:48\n",
      "Epoch 41 / 200\n"
     ]
    },
    {
     "name": "stderr",
     "output_type": "stream",
     "text": [
      "[Train]: 100%|█████████████████████████| 352/352 [03:31<00:00,  1.66it/s, train_loss=2.74]\n",
      "[Valid]: 100%|███████████████████████| 40/40 [00:15<00:00,  2.60it/s, val_acc=26.9, val_loss=0.0245]\n"
     ]
    },
    {
     "name": "stdout",
     "output_type": "stream",
     "text": [
      "=======================================================================================================================================\n",
      "2024-05-25 01:41:35\n",
      "Epoch 42 / 200\n"
     ]
    },
    {
     "name": "stderr",
     "output_type": "stream",
     "text": [
      "[Train]: 100%|█████████████████████████| 352/352 [03:33<00:00,  1.65it/s, train_loss=2.74]\n",
      "[Valid]: 100%|███████████████████████| 40/40 [00:15<00:00,  2.58it/s, val_acc=27.5, val_loss=0.0242]\n"
     ]
    },
    {
     "name": "stdout",
     "output_type": "stream",
     "text": [
      "=======================================================================================================================================\n",
      "2024-05-25 01:45:24\n",
      "Epoch 43 / 200\n"
     ]
    },
    {
     "name": "stderr",
     "output_type": "stream",
     "text": [
      "[Train]: 100%|█████████████████████████| 352/352 [03:31<00:00,  1.67it/s, train_loss=2.73]\n",
      "[Valid]: 100%|███████████████████████| 40/40 [00:14<00:00,  2.71it/s, val_acc=26.8, val_loss=0.0241]\n"
     ]
    },
    {
     "name": "stdout",
     "output_type": "stream",
     "text": [
      "=======================================================================================================================================\n",
      "2024-05-25 01:49:10\n",
      "Epoch 44 / 200\n"
     ]
    },
    {
     "name": "stderr",
     "output_type": "stream",
     "text": [
      "[Train]: 100%|█████████████████████████| 352/352 [03:32<00:00,  1.66it/s, train_loss=2.73]\n",
      "[Valid]: 100%|███████████████████████| 40/40 [00:15<00:00,  2.66it/s, val_acc=27.3, val_loss=0.0244]\n"
     ]
    },
    {
     "name": "stdout",
     "output_type": "stream",
     "text": [
      "=======================================================================================================================================\n",
      "2024-05-25 01:52:57\n",
      "Epoch 45 / 200\n"
     ]
    },
    {
     "name": "stderr",
     "output_type": "stream",
     "text": [
      "[Train]: 100%|█████████████████████████| 352/352 [03:32<00:00,  1.66it/s, train_loss=2.73]\n",
      "[Valid]: 100%|███████████████████████| 40/40 [00:15<00:00,  2.66it/s, val_acc=25.5, val_loss=0.0248]\n"
     ]
    },
    {
     "name": "stdout",
     "output_type": "stream",
     "text": [
      "=======================================================================================================================================\n",
      "2024-05-25 01:56:45\n",
      "Epoch 46 / 200\n"
     ]
    },
    {
     "name": "stderr",
     "output_type": "stream",
     "text": [
      "[Train]: 100%|█████████████████████████| 352/352 [03:31<00:00,  1.67it/s, train_loss=2.71]\n",
      "[Valid]: 100%|███████████████████████| 40/40 [00:15<00:00,  2.61it/s, val_acc=28.1, val_loss=0.0239]\n"
     ]
    },
    {
     "name": "stdout",
     "output_type": "stream",
     "text": [
      "=======================================================================================================================================\n",
      "2024-05-25 02:00:31\n",
      "Epoch 47 / 200\n"
     ]
    },
    {
     "name": "stderr",
     "output_type": "stream",
     "text": [
      "[Train]: 100%|█████████████████████████| 352/352 [03:33<00:00,  1.65it/s, train_loss=2.69]\n",
      "[Valid]: 100%|███████████████████████| 40/40 [00:15<00:00,  2.53it/s, val_acc=28.6, val_loss=0.0234]\n"
     ]
    },
    {
     "name": "stdout",
     "output_type": "stream",
     "text": [
      "Validation loss decreased (0.023778 --> 0.023429).\n",
      "=======================================================================================================================================\n",
      "2024-05-25 02:04:21\n",
      "Epoch 48 / 200\n"
     ]
    },
    {
     "name": "stderr",
     "output_type": "stream",
     "text": [
      "[Train]: 100%|█████████████████████████| 352/352 [03:33<00:00,  1.65it/s, train_loss=2.72]\n",
      "[Valid]: 100%|█████████████████████████| 40/40 [00:15<00:00,  2.66it/s, val_acc=25, val_loss=0.0251]\n"
     ]
    },
    {
     "name": "stdout",
     "output_type": "stream",
     "text": [
      "=======================================================================================================================================\n",
      "2024-05-25 02:08:09\n",
      "Epoch 49 / 200\n"
     ]
    },
    {
     "name": "stderr",
     "output_type": "stream",
     "text": [
      "[Train]: 100%|██████████████████████████| 352/352 [03:31<00:00,  1.66it/s, train_loss=2.7]\n",
      "[Valid]: 100%|████████████████████████| 40/40 [00:15<00:00,  2.63it/s, val_acc=27.9, val_loss=0.024]\n"
     ]
    },
    {
     "name": "stdout",
     "output_type": "stream",
     "text": [
      "=======================================================================================================================================\n",
      "2024-05-25 02:11:56\n",
      "Epoch 50 / 200\n"
     ]
    },
    {
     "name": "stderr",
     "output_type": "stream",
     "text": [
      "[Train]: 100%|█████████████████████████| 352/352 [03:32<00:00,  1.66it/s, train_loss=2.69]\n",
      "[Valid]: 100%|███████████████████████| 40/40 [00:15<00:00,  2.61it/s, val_acc=26.1, val_loss=0.0248]\n"
     ]
    },
    {
     "name": "stdout",
     "output_type": "stream",
     "text": [
      "=======================================================================================================================================\n",
      "2024-05-25 02:15:44\n",
      "Epoch 51 / 200\n"
     ]
    },
    {
     "name": "stderr",
     "output_type": "stream",
     "text": [
      "[Train]: 100%|█████████████████████████| 352/352 [03:31<00:00,  1.66it/s, train_loss=2.68]\n",
      "[Valid]: 100%|████████████████████████| 40/40 [00:15<00:00,  2.64it/s, val_acc=27.2, val_loss=0.024]\n"
     ]
    },
    {
     "name": "stdout",
     "output_type": "stream",
     "text": [
      "=======================================================================================================================================\n",
      "2024-05-25 02:19:30\n",
      "Epoch 52 / 200\n"
     ]
    },
    {
     "name": "stderr",
     "output_type": "stream",
     "text": [
      "[Train]: 100%|█████████████████████████| 352/352 [03:30<00:00,  1.67it/s, train_loss=2.67]\n",
      "[Valid]: 100%|███████████████████████| 40/40 [00:15<00:00,  2.64it/s, val_acc=28.3, val_loss=0.0235]\n"
     ]
    },
    {
     "name": "stdout",
     "output_type": "stream",
     "text": [
      "=======================================================================================================================================\n",
      "2024-05-25 02:23:16\n",
      "Epoch 53 / 200\n"
     ]
    },
    {
     "name": "stderr",
     "output_type": "stream",
     "text": [
      "[Train]: 100%|█████████████████████████| 352/352 [03:30<00:00,  1.68it/s, train_loss=2.68]\n",
      "[Valid]: 100%|███████████████████████| 40/40 [00:14<00:00,  2.67it/s, val_acc=29.5, val_loss=0.0229]\n"
     ]
    },
    {
     "name": "stdout",
     "output_type": "stream",
     "text": [
      "Validation loss decreased (0.023429 --> 0.022922).\n",
      "=======================================================================================================================================\n",
      "2024-05-25 02:27:02\n",
      "Epoch 54 / 200\n"
     ]
    },
    {
     "name": "stderr",
     "output_type": "stream",
     "text": [
      "[Train]: 100%|█████████████████████████| 352/352 [03:30<00:00,  1.67it/s, train_loss=2.67]\n",
      "[Valid]: 100%|███████████████████████| 40/40 [00:14<00:00,  2.69it/s, val_acc=27.7, val_loss=0.0239]\n"
     ]
    },
    {
     "name": "stdout",
     "output_type": "stream",
     "text": [
      "=======================================================================================================================================\n",
      "2024-05-25 02:30:47\n",
      "Epoch 55 / 200\n"
     ]
    },
    {
     "name": "stderr",
     "output_type": "stream",
     "text": [
      "[Train]: 100%|█████████████████████████| 352/352 [03:30<00:00,  1.68it/s, train_loss=2.66]\n",
      "[Valid]: 100%|███████████████████████| 40/40 [00:14<00:00,  2.67it/s, val_acc=28.6, val_loss=0.0232]\n"
     ]
    },
    {
     "name": "stdout",
     "output_type": "stream",
     "text": [
      "=======================================================================================================================================\n",
      "2024-05-25 02:34:32\n",
      "Epoch 56 / 200\n"
     ]
    },
    {
     "name": "stderr",
     "output_type": "stream",
     "text": [
      "[Train]: 100%|█████████████████████████| 352/352 [03:29<00:00,  1.68it/s, train_loss=2.67]\n",
      "[Valid]: 100%|███████████████████████| 40/40 [00:14<00:00,  2.70it/s, val_acc=28.1, val_loss=0.0233]\n"
     ]
    },
    {
     "name": "stdout",
     "output_type": "stream",
     "text": [
      "=======================================================================================================================================\n",
      "2024-05-25 02:38:16\n",
      "Epoch 57 / 200\n"
     ]
    },
    {
     "name": "stderr",
     "output_type": "stream",
     "text": [
      "[Train]: 100%|█████████████████████████| 352/352 [03:29<00:00,  1.68it/s, train_loss=2.67]\n",
      "[Valid]: 100%|███████████████████████| 40/40 [00:14<00:00,  2.69it/s, val_acc=28.9, val_loss=0.0233]\n"
     ]
    },
    {
     "name": "stdout",
     "output_type": "stream",
     "text": [
      "=======================================================================================================================================\n",
      "2024-05-25 02:42:01\n",
      "Epoch 58 / 200\n"
     ]
    },
    {
     "name": "stderr",
     "output_type": "stream",
     "text": [
      "[Train]: 100%|█████████████████████████| 352/352 [03:29<00:00,  1.68it/s, train_loss=2.66]\n",
      "[Valid]: 100%|███████████████████████| 40/40 [00:14<00:00,  2.72it/s, val_acc=25.9, val_loss=0.0246]\n"
     ]
    },
    {
     "name": "stdout",
     "output_type": "stream",
     "text": [
      "=======================================================================================================================================\n",
      "2024-05-25 02:45:45\n",
      "Epoch 59 / 200\n"
     ]
    },
    {
     "name": "stderr",
     "output_type": "stream",
     "text": [
      "[Train]: 100%|█████████████████████████| 352/352 [03:29<00:00,  1.68it/s, train_loss=2.65]\n",
      "[Valid]: 100%|████████████████████████| 40/40 [00:15<00:00,  2.66it/s, val_acc=27.2, val_loss=0.024]\n"
     ]
    },
    {
     "name": "stdout",
     "output_type": "stream",
     "text": [
      "=======================================================================================================================================\n",
      "2024-05-25 02:49:30\n",
      "Epoch 60 / 200\n"
     ]
    },
    {
     "name": "stderr",
     "output_type": "stream",
     "text": [
      "[Train]: 100%|█████████████████████████| 352/352 [03:29<00:00,  1.68it/s, train_loss=2.65]\n",
      "[Valid]: 100%|█████████████████████████| 40/40 [00:15<00:00,  2.64it/s, val_acc=28, val_loss=0.0238]\n"
     ]
    },
    {
     "name": "stdout",
     "output_type": "stream",
     "text": [
      "=======================================================================================================================================\n",
      "2024-05-25 02:53:15\n",
      "Epoch 61 / 200\n"
     ]
    },
    {
     "name": "stderr",
     "output_type": "stream",
     "text": [
      "[Train]: 100%|█████████████████████████| 352/352 [03:29<00:00,  1.68it/s, train_loss=2.66]\n",
      "[Valid]: 100%|███████████████████████| 40/40 [00:15<00:00,  2.62it/s, val_acc=29.9, val_loss=0.0228]\n"
     ]
    },
    {
     "name": "stdout",
     "output_type": "stream",
     "text": [
      "Validation loss decreased (0.022922 --> 0.022798).\n",
      "=======================================================================================================================================\n",
      "2024-05-25 02:56:59\n",
      "Epoch 62 / 200\n"
     ]
    },
    {
     "name": "stderr",
     "output_type": "stream",
     "text": [
      "[Train]: 100%|█████████████████████████| 352/352 [03:28<00:00,  1.69it/s, train_loss=2.64]\n",
      "[Valid]: 100%|███████████████████████| 40/40 [00:14<00:00,  2.67it/s, val_acc=29.5, val_loss=0.0235]\n"
     ]
    },
    {
     "name": "stdout",
     "output_type": "stream",
     "text": [
      "=======================================================================================================================================\n",
      "2024-05-25 03:00:43\n",
      "Epoch 63 / 200\n"
     ]
    },
    {
     "name": "stderr",
     "output_type": "stream",
     "text": [
      "[Train]: 100%|█████████████████████████| 352/352 [03:29<00:00,  1.68it/s, train_loss=2.64]\n",
      "[Valid]: 100%|█████████████████████████| 40/40 [00:14<00:00,  2.70it/s, val_acc=28, val_loss=0.0238]\n"
     ]
    },
    {
     "name": "stdout",
     "output_type": "stream",
     "text": [
      "=======================================================================================================================================\n",
      "2024-05-25 03:04:28\n",
      "Epoch 64 / 200\n"
     ]
    },
    {
     "name": "stderr",
     "output_type": "stream",
     "text": [
      "[Train]: 100%|█████████████████████████| 352/352 [03:29<00:00,  1.68it/s, train_loss=2.63]\n",
      "[Valid]: 100%|███████████████████████| 40/40 [00:15<00:00,  2.65it/s, val_acc=27.4, val_loss=0.0251]\n"
     ]
    },
    {
     "name": "stdout",
     "output_type": "stream",
     "text": [
      "=======================================================================================================================================\n",
      "2024-05-25 03:08:12\n",
      "Epoch 65 / 200\n"
     ]
    },
    {
     "name": "stderr",
     "output_type": "stream",
     "text": [
      "[Train]: 100%|█████████████████████████| 352/352 [03:29<00:00,  1.68it/s, train_loss=2.63]\n",
      "[Valid]: 100%|██████████████████████████| 40/40 [00:15<00:00,  2.61it/s, val_acc=27, val_loss=0.025]\n"
     ]
    },
    {
     "name": "stdout",
     "output_type": "stream",
     "text": [
      "=======================================================================================================================================\n",
      "2024-05-25 03:11:57\n",
      "Epoch 66 / 200\n"
     ]
    },
    {
     "name": "stderr",
     "output_type": "stream",
     "text": [
      "[Train]: 100%|█████████████████████████| 352/352 [03:28<00:00,  1.69it/s, train_loss=2.64]\n",
      "[Valid]: 100%|███████████████████████| 40/40 [00:14<00:00,  2.70it/s, val_acc=27.3, val_loss=0.0245]\n"
     ]
    },
    {
     "name": "stdout",
     "output_type": "stream",
     "text": [
      "=======================================================================================================================================\n",
      "2024-05-25 03:15:40\n",
      "Epoch 67 / 200\n"
     ]
    },
    {
     "name": "stderr",
     "output_type": "stream",
     "text": [
      "[Train]: 100%|█████████████████████████| 352/352 [03:28<00:00,  1.69it/s, train_loss=2.62]\n",
      "[Valid]: 100%|███████████████████████| 40/40 [00:14<00:00,  2.69it/s, val_acc=29.1, val_loss=0.0236]\n"
     ]
    },
    {
     "name": "stdout",
     "output_type": "stream",
     "text": [
      "=======================================================================================================================================\n",
      "2024-05-25 03:19:23\n",
      "Epoch 68 / 200\n"
     ]
    },
    {
     "name": "stderr",
     "output_type": "stream",
     "text": [
      "[Train]: 100%|█████████████████████████| 352/352 [03:29<00:00,  1.68it/s, train_loss=2.63]\n",
      "[Valid]: 100%|███████████████████████| 40/40 [00:15<00:00,  2.65it/s, val_acc=25.1, val_loss=0.0257]\n"
     ]
    },
    {
     "name": "stdout",
     "output_type": "stream",
     "text": [
      "=======================================================================================================================================\n",
      "2024-05-25 03:23:08\n",
      "Epoch 69 / 200\n"
     ]
    },
    {
     "name": "stderr",
     "output_type": "stream",
     "text": [
      "[Train]: 100%|█████████████████████████| 352/352 [03:29<00:00,  1.68it/s, train_loss=2.64]\n",
      "[Valid]: 100%|███████████████████████| 40/40 [00:15<00:00,  2.63it/s, val_acc=26.6, val_loss=0.0241]\n"
     ]
    },
    {
     "name": "stdout",
     "output_type": "stream",
     "text": [
      "=======================================================================================================================================\n",
      "2024-05-25 03:26:53\n",
      "Epoch 70 / 200\n"
     ]
    },
    {
     "name": "stderr",
     "output_type": "stream",
     "text": [
      "[Train]: 100%|█████████████████████████| 352/352 [03:28<00:00,  1.69it/s, train_loss=2.62]\n",
      "[Valid]: 100%|█████████████████████████| 40/40 [00:15<00:00,  2.65it/s, val_acc=28, val_loss=0.0245]\n"
     ]
    },
    {
     "name": "stdout",
     "output_type": "stream",
     "text": [
      "=======================================================================================================================================\n",
      "2024-05-25 03:30:36\n",
      "Epoch 71 / 200\n"
     ]
    },
    {
     "name": "stderr",
     "output_type": "stream",
     "text": [
      "[Train]: 100%|█████████████████████████| 352/352 [03:31<00:00,  1.67it/s, train_loss=2.63]\n",
      "[Valid]: 100%|███████████████████████| 40/40 [00:15<00:00,  2.63it/s, val_acc=28.4, val_loss=0.0237]\n"
     ]
    },
    {
     "name": "stdout",
     "output_type": "stream",
     "text": [
      "=======================================================================================================================================\n",
      "2024-05-25 03:34:23\n",
      "Epoch 72 / 200\n",
      "lr is updated to 0.05\n"
     ]
    },
    {
     "name": "stderr",
     "output_type": "stream",
     "text": [
      "[Train]: 100%|█████████████████████████| 352/352 [03:31<00:00,  1.66it/s, train_loss=2.32]\n",
      "[Valid]: 100%|███████████████████████| 40/40 [00:15<00:00,  2.62it/s, val_acc=36.8, val_loss=0.0199]\n"
     ]
    },
    {
     "name": "stdout",
     "output_type": "stream",
     "text": [
      "Validation loss decreased (0.022798 --> 0.019899).\n",
      "=======================================================================================================================================\n",
      "2024-05-25 03:38:09\n",
      "Epoch 73 / 200\n"
     ]
    },
    {
     "name": "stderr",
     "output_type": "stream",
     "text": [
      "[Train]: 100%|█████████████████████████| 352/352 [03:28<00:00,  1.69it/s, train_loss=2.29]\n",
      "[Valid]: 100%|███████████████████████| 40/40 [00:15<00:00,  2.65it/s, val_acc=37.8, val_loss=0.0201]\n"
     ]
    },
    {
     "name": "stdout",
     "output_type": "stream",
     "text": [
      "=======================================================================================================================================\n",
      "2024-05-25 03:41:53\n",
      "Epoch 74 / 200\n"
     ]
    },
    {
     "name": "stderr",
     "output_type": "stream",
     "text": [
      "[Train]: 100%|█████████████████████████| 352/352 [03:30<00:00,  1.67it/s, train_loss=2.28]\n",
      "[Valid]: 100%|███████████████████████| 40/40 [00:15<00:00,  2.65it/s, val_acc=37.5, val_loss=0.0198]\n"
     ]
    },
    {
     "name": "stdout",
     "output_type": "stream",
     "text": [
      "Validation loss decreased (0.019899 --> 0.019773).\n",
      "=======================================================================================================================================\n",
      "2024-05-25 03:45:38\n",
      "Epoch 75 / 200\n"
     ]
    },
    {
     "name": "stderr",
     "output_type": "stream",
     "text": [
      "[Train]: 100%|██████████████████████████| 352/352 [03:29<00:00,  1.68it/s, train_loss=2.3]\n",
      "[Valid]: 100%|███████████████████████| 40/40 [00:15<00:00,  2.67it/s, val_acc=36.5, val_loss=0.0205]\n"
     ]
    },
    {
     "name": "stdout",
     "output_type": "stream",
     "text": [
      "=======================================================================================================================================\n",
      "2024-05-25 03:49:22\n",
      "Epoch 76 / 200\n"
     ]
    },
    {
     "name": "stderr",
     "output_type": "stream",
     "text": [
      "[Train]: 100%|█████████████████████████| 352/352 [03:30<00:00,  1.67it/s, train_loss=2.29]\n",
      "[Valid]: 100%|███████████████████████| 40/40 [00:14<00:00,  2.72it/s, val_acc=39.1, val_loss=0.0195]\n"
     ]
    },
    {
     "name": "stdout",
     "output_type": "stream",
     "text": [
      "Validation loss decreased (0.019773 --> 0.019521).\n",
      "=======================================================================================================================================\n",
      "2024-05-25 03:53:08\n",
      "Epoch 77 / 200\n"
     ]
    },
    {
     "name": "stderr",
     "output_type": "stream",
     "text": [
      "[Train]: 100%|█████████████████████████| 352/352 [03:30<00:00,  1.67it/s, train_loss=2.28]\n",
      "[Valid]: 100%|███████████████████████| 40/40 [00:15<00:00,  2.59it/s, val_acc=36.8, val_loss=0.0202]\n"
     ]
    },
    {
     "name": "stdout",
     "output_type": "stream",
     "text": [
      "=======================================================================================================================================\n",
      "2024-05-25 03:56:54\n",
      "Epoch 78 / 200\n"
     ]
    },
    {
     "name": "stderr",
     "output_type": "stream",
     "text": [
      "[Train]: 100%|█████████████████████████| 352/352 [03:30<00:00,  1.67it/s, train_loss=2.28]\n",
      "[Valid]: 100%|█████████████████████████| 40/40 [00:14<00:00,  2.68it/s, val_acc=37, val_loss=0.0204]\n"
     ]
    },
    {
     "name": "stdout",
     "output_type": "stream",
     "text": [
      "=======================================================================================================================================\n",
      "2024-05-25 04:00:39\n",
      "Epoch 79 / 200\n"
     ]
    },
    {
     "name": "stderr",
     "output_type": "stream",
     "text": [
      "[Train]: 100%|█████████████████████████| 352/352 [03:29<00:00,  1.68it/s, train_loss=2.28]\n",
      "[Valid]: 100%|███████████████████████| 40/40 [00:14<00:00,  2.68it/s, val_acc=36.2, val_loss=0.0209]\n"
     ]
    },
    {
     "name": "stdout",
     "output_type": "stream",
     "text": [
      "=======================================================================================================================================\n",
      "2024-05-25 04:04:23\n",
      "Epoch 80 / 200\n"
     ]
    },
    {
     "name": "stderr",
     "output_type": "stream",
     "text": [
      "[Train]: 100%|█████████████████████████| 352/352 [03:28<00:00,  1.69it/s, train_loss=2.28]\n",
      "[Valid]: 100%|███████████████████████| 40/40 [00:14<00:00,  2.67it/s, val_acc=33.3, val_loss=0.0222]\n"
     ]
    },
    {
     "name": "stdout",
     "output_type": "stream",
     "text": [
      "=======================================================================================================================================\n",
      "2024-05-25 04:08:06\n",
      "Epoch 81 / 200\n"
     ]
    },
    {
     "name": "stderr",
     "output_type": "stream",
     "text": [
      "[Train]: 100%|█████████████████████████| 352/352 [03:29<00:00,  1.68it/s, train_loss=2.26]\n",
      "[Valid]: 100%|███████████████████████| 40/40 [00:14<00:00,  2.70it/s, val_acc=36.7, val_loss=0.0203]\n"
     ]
    },
    {
     "name": "stdout",
     "output_type": "stream",
     "text": [
      "=======================================================================================================================================\n",
      "2024-05-25 04:11:50\n",
      "Epoch 82 / 200\n"
     ]
    },
    {
     "name": "stderr",
     "output_type": "stream",
     "text": [
      "[Train]: 100%|█████████████████████████| 352/352 [03:28<00:00,  1.69it/s, train_loss=2.26]\n",
      "[Valid]: 100%|███████████████████████| 40/40 [00:14<00:00,  2.70it/s, val_acc=37.1, val_loss=0.0202]\n"
     ]
    },
    {
     "name": "stdout",
     "output_type": "stream",
     "text": [
      "=======================================================================================================================================\n",
      "2024-05-25 04:15:34\n",
      "Epoch 83 / 200\n"
     ]
    },
    {
     "name": "stderr",
     "output_type": "stream",
     "text": [
      "[Train]: 100%|█████████████████████████| 352/352 [03:29<00:00,  1.68it/s, train_loss=2.27]\n",
      "[Valid]: 100%|███████████████████████| 40/40 [00:14<00:00,  2.70it/s, val_acc=36.3, val_loss=0.0204]\n"
     ]
    },
    {
     "name": "stdout",
     "output_type": "stream",
     "text": [
      "=======================================================================================================================================\n",
      "2024-05-25 04:19:18\n",
      "Epoch 84 / 200\n"
     ]
    },
    {
     "name": "stderr",
     "output_type": "stream",
     "text": [
      "[Train]: 100%|█████████████████████████| 352/352 [03:28<00:00,  1.69it/s, train_loss=2.25]\n",
      "[Valid]: 100%|███████████████████████| 40/40 [00:15<00:00,  2.61it/s, val_acc=36.2, val_loss=0.0203]\n"
     ]
    },
    {
     "name": "stdout",
     "output_type": "stream",
     "text": [
      "=======================================================================================================================================\n",
      "2024-05-25 04:23:01\n",
      "Epoch 85 / 200\n"
     ]
    },
    {
     "name": "stderr",
     "output_type": "stream",
     "text": [
      "[Train]: 100%|█████████████████████████| 352/352 [03:27<00:00,  1.70it/s, train_loss=2.27]\n",
      "[Valid]: 100%|███████████████████████| 40/40 [00:15<00:00,  2.65it/s, val_acc=38.1, val_loss=0.0197]\n"
     ]
    },
    {
     "name": "stdout",
     "output_type": "stream",
     "text": [
      "=======================================================================================================================================\n",
      "2024-05-25 04:26:44\n",
      "Epoch 86 / 200\n"
     ]
    },
    {
     "name": "stderr",
     "output_type": "stream",
     "text": [
      "[Train]: 100%|█████████████████████████| 352/352 [03:29<00:00,  1.68it/s, train_loss=2.25]\n",
      "[Valid]: 100%|███████████████████████| 40/40 [00:15<00:00,  2.64it/s, val_acc=39.4, val_loss=0.0196]\n"
     ]
    },
    {
     "name": "stdout",
     "output_type": "stream",
     "text": [
      "=======================================================================================================================================\n",
      "2024-05-25 04:30:29\n",
      "Epoch 87 / 200\n",
      "lr is updated to 0.025\n"
     ]
    },
    {
     "name": "stderr",
     "output_type": "stream",
     "text": [
      "[Train]: 100%|█████████████████████████| 352/352 [03:32<00:00,  1.66it/s, train_loss=1.99]\n",
      "[Valid]: 100%|██████████████████████████| 40/40 [00:15<00:00,  2.65it/s, val_acc=45, val_loss=0.017]\n"
     ]
    },
    {
     "name": "stdout",
     "output_type": "stream",
     "text": [
      "Validation loss decreased (0.019521 --> 0.016978).\n",
      "=======================================================================================================================================\n",
      "2024-05-25 04:34:16\n",
      "Epoch 88 / 200\n"
     ]
    },
    {
     "name": "stderr",
     "output_type": "stream",
     "text": [
      "[Train]: 100%|█████████████████████████| 352/352 [03:31<00:00,  1.66it/s, train_loss=1.95]\n",
      "[Valid]: 100%|███████████████████████| 40/40 [00:15<00:00,  2.55it/s, val_acc=44.4, val_loss=0.0173]\n"
     ]
    },
    {
     "name": "stdout",
     "output_type": "stream",
     "text": [
      "=======================================================================================================================================\n",
      "2024-05-25 04:38:04\n",
      "Epoch 89 / 200\n"
     ]
    },
    {
     "name": "stderr",
     "output_type": "stream",
     "text": [
      "[Train]: 100%|█████████████████████████| 352/352 [03:30<00:00,  1.67it/s, train_loss=1.94]\n",
      "[Valid]: 100%|███████████████████████| 40/40 [00:15<00:00,  2.64it/s, val_acc=44.7, val_loss=0.0173]\n"
     ]
    },
    {
     "name": "stdout",
     "output_type": "stream",
     "text": [
      "=======================================================================================================================================\n",
      "2024-05-25 04:41:49\n",
      "Epoch 90 / 200\n"
     ]
    },
    {
     "name": "stderr",
     "output_type": "stream",
     "text": [
      "[Train]: 100%|█████████████████████████| 352/352 [03:29<00:00,  1.68it/s, train_loss=1.93]\n",
      "[Valid]: 100%|███████████████████████| 40/40 [00:15<00:00,  2.58it/s, val_acc=44.7, val_loss=0.0174]\n"
     ]
    },
    {
     "name": "stdout",
     "output_type": "stream",
     "text": [
      "=======================================================================================================================================\n",
      "2024-05-25 04:45:34\n",
      "Epoch 91 / 200\n"
     ]
    },
    {
     "name": "stderr",
     "output_type": "stream",
     "text": [
      "[Train]: 100%|█████████████████████████| 352/352 [03:29<00:00,  1.68it/s, train_loss=1.94]\n",
      "[Valid]: 100%|███████████████████████| 40/40 [00:14<00:00,  2.67it/s, val_acc=42.8, val_loss=0.0181]\n"
     ]
    },
    {
     "name": "stdout",
     "output_type": "stream",
     "text": [
      "=======================================================================================================================================\n",
      "2024-05-25 04:49:19\n",
      "Epoch 92 / 200\n"
     ]
    },
    {
     "name": "stderr",
     "output_type": "stream",
     "text": [
      "[Train]: 100%|█████████████████████████| 352/352 [03:29<00:00,  1.68it/s, train_loss=1.93]\n",
      "[Valid]: 100%|█████████████████████████| 40/40 [00:14<00:00,  2.68it/s, val_acc=44, val_loss=0.0176]\n"
     ]
    },
    {
     "name": "stdout",
     "output_type": "stream",
     "text": [
      "=======================================================================================================================================\n",
      "2024-05-25 04:53:04\n",
      "Epoch 93 / 200\n"
     ]
    },
    {
     "name": "stderr",
     "output_type": "stream",
     "text": [
      "[Train]: 100%|█████████████████████████| 352/352 [03:28<00:00,  1.69it/s, train_loss=1.94]\n",
      "[Valid]: 100%|█████████████████████████| 40/40 [00:14<00:00,  2.68it/s, val_acc=43, val_loss=0.0183]\n"
     ]
    },
    {
     "name": "stdout",
     "output_type": "stream",
     "text": [
      "=======================================================================================================================================\n",
      "2024-05-25 04:56:47\n",
      "Epoch 94 / 200\n"
     ]
    },
    {
     "name": "stderr",
     "output_type": "stream",
     "text": [
      "[Train]: 100%|█████████████████████████| 352/352 [03:28<00:00,  1.68it/s, train_loss=1.94]\n",
      "[Valid]: 100%|███████████████████████| 40/40 [00:14<00:00,  2.67it/s, val_acc=44.9, val_loss=0.0174]\n"
     ]
    },
    {
     "name": "stdout",
     "output_type": "stream",
     "text": [
      "=======================================================================================================================================\n",
      "2024-05-25 05:00:31\n",
      "Epoch 95 / 200\n"
     ]
    },
    {
     "name": "stderr",
     "output_type": "stream",
     "text": [
      "[Train]: 100%|█████████████████████████| 352/352 [03:27<00:00,  1.69it/s, train_loss=1.94]\n",
      "[Valid]: 100%|███████████████████████| 40/40 [00:14<00:00,  2.69it/s, val_acc=44.5, val_loss=0.0177]\n"
     ]
    },
    {
     "name": "stdout",
     "output_type": "stream",
     "text": [
      "=======================================================================================================================================\n",
      "2024-05-25 05:04:14\n",
      "Epoch 96 / 200\n"
     ]
    },
    {
     "name": "stderr",
     "output_type": "stream",
     "text": [
      "[Train]: 100%|█████████████████████████| 352/352 [03:27<00:00,  1.69it/s, train_loss=1.93]\n",
      "[Valid]: 100%|███████████████████████| 40/40 [00:15<00:00,  2.66it/s, val_acc=43.9, val_loss=0.0179]\n"
     ]
    },
    {
     "name": "stdout",
     "output_type": "stream",
     "text": [
      "=======================================================================================================================================\n",
      "2024-05-25 05:07:56\n",
      "Epoch 97 / 200\n"
     ]
    },
    {
     "name": "stderr",
     "output_type": "stream",
     "text": [
      "[Train]: 100%|█████████████████████████| 352/352 [03:29<00:00,  1.68it/s, train_loss=1.92]\n",
      "[Valid]: 100%|███████████████████████| 40/40 [00:14<00:00,  2.68it/s, val_acc=42.7, val_loss=0.0182]\n"
     ]
    },
    {
     "name": "stdout",
     "output_type": "stream",
     "text": [
      "=======================================================================================================================================\n",
      "2024-05-25 05:11:41\n",
      "Epoch 98 / 200\n",
      "lr is updated to 0.0125\n"
     ]
    },
    {
     "name": "stderr",
     "output_type": "stream",
     "text": [
      "[Train]: 100%|█████████████████████████| 352/352 [03:28<00:00,  1.69it/s, train_loss=1.73]\n",
      "[Valid]: 100%|████████████████████████| 40/40 [00:14<00:00,  2.68it/s, val_acc=50.9, val_loss=0.015]\n"
     ]
    },
    {
     "name": "stdout",
     "output_type": "stream",
     "text": [
      "Validation loss decreased (0.016978 --> 0.015035).\n",
      "=======================================================================================================================================\n",
      "2024-05-25 05:15:24\n",
      "Epoch 99 / 200\n"
     ]
    },
    {
     "name": "stderr",
     "output_type": "stream",
     "text": [
      "[Train]: 100%|█████████████████████████| 352/352 [03:26<00:00,  1.70it/s, train_loss=1.68]\n",
      "[Valid]: 100%|███████████████████████| 40/40 [00:14<00:00,  2.70it/s, val_acc=50.4, val_loss=0.0151]\n"
     ]
    },
    {
     "name": "stdout",
     "output_type": "stream",
     "text": [
      "=======================================================================================================================================\n",
      "2024-05-25 05:19:06\n",
      "Epoch 100 / 200\n"
     ]
    },
    {
     "name": "stderr",
     "output_type": "stream",
     "text": [
      "[Train]: 100%|█████████████████████████| 352/352 [03:27<00:00,  1.70it/s, train_loss=1.68]\n",
      "[Valid]: 100%|███████████████████████| 40/40 [00:14<00:00,  2.68it/s, val_acc=49.9, val_loss=0.0154]\n"
     ]
    },
    {
     "name": "stdout",
     "output_type": "stream",
     "text": [
      "=======================================================================================================================================\n",
      "2024-05-25 05:22:48\n",
      "Epoch 101 / 200\n"
     ]
    },
    {
     "name": "stderr",
     "output_type": "stream",
     "text": [
      "[Train]: 100%|█████████████████████████| 352/352 [03:27<00:00,  1.69it/s, train_loss=1.65]\n",
      "[Valid]: 100%|███████████████████████| 40/40 [00:14<00:00,  2.68it/s, val_acc=50.6, val_loss=0.0154]\n"
     ]
    },
    {
     "name": "stdout",
     "output_type": "stream",
     "text": [
      "=======================================================================================================================================\n",
      "2024-05-25 05:26:31\n",
      "Epoch 102 / 200\n"
     ]
    },
    {
     "name": "stderr",
     "output_type": "stream",
     "text": [
      "[Train]: 100%|█████████████████████████| 352/352 [03:27<00:00,  1.69it/s, train_loss=1.66]\n",
      "[Valid]: 100%|███████████████████████| 40/40 [00:15<00:00,  2.63it/s, val_acc=51.2, val_loss=0.0154]\n"
     ]
    },
    {
     "name": "stdout",
     "output_type": "stream",
     "text": [
      "=======================================================================================================================================\n",
      "2024-05-25 05:30:14\n",
      "Epoch 103 / 200\n"
     ]
    },
    {
     "name": "stderr",
     "output_type": "stream",
     "text": [
      "[Train]: 100%|█████████████████████████| 352/352 [03:26<00:00,  1.70it/s, train_loss=1.65]\n",
      "[Valid]: 100%|███████████████████████| 40/40 [00:14<00:00,  2.67it/s, val_acc=49.4, val_loss=0.0157]\n"
     ]
    },
    {
     "name": "stdout",
     "output_type": "stream",
     "text": [
      "=======================================================================================================================================\n",
      "2024-05-25 05:33:56\n",
      "Epoch 104 / 200\n"
     ]
    },
    {
     "name": "stderr",
     "output_type": "stream",
     "text": [
      "[Train]: 100%|█████████████████████████| 352/352 [03:26<00:00,  1.70it/s, train_loss=1.64]\n",
      "[Valid]: 100%|███████████████████████| 40/40 [00:14<00:00,  2.71it/s, val_acc=51.1, val_loss=0.0149]\n"
     ]
    },
    {
     "name": "stdout",
     "output_type": "stream",
     "text": [
      "Validation loss decreased (0.015035 --> 0.014922).\n",
      "=======================================================================================================================================\n",
      "2024-05-25 05:37:37\n",
      "Epoch 105 / 200\n"
     ]
    },
    {
     "name": "stderr",
     "output_type": "stream",
     "text": [
      "[Train]: 100%|█████████████████████████| 352/352 [03:27<00:00,  1.70it/s, train_loss=1.63]\n",
      "[Valid]: 100%|███████████████████████| 40/40 [00:14<00:00,  2.67it/s, val_acc=50.7, val_loss=0.0156]\n"
     ]
    },
    {
     "name": "stdout",
     "output_type": "stream",
     "text": [
      "=======================================================================================================================================\n",
      "2024-05-25 05:41:20\n",
      "Epoch 106 / 200\n"
     ]
    },
    {
     "name": "stderr",
     "output_type": "stream",
     "text": [
      "[Train]: 100%|█████████████████████████| 352/352 [03:26<00:00,  1.70it/s, train_loss=1.64]\n",
      "[Valid]: 100%|████████████████████████| 40/40 [00:14<00:00,  2.70it/s, val_acc=48.5, val_loss=0.016]\n"
     ]
    },
    {
     "name": "stdout",
     "output_type": "stream",
     "text": [
      "=======================================================================================================================================\n",
      "2024-05-25 05:45:02\n",
      "Epoch 107 / 200\n"
     ]
    },
    {
     "name": "stderr",
     "output_type": "stream",
     "text": [
      "[Train]: 100%|█████████████████████████| 352/352 [03:27<00:00,  1.70it/s, train_loss=1.63]\n",
      "[Valid]: 100%|███████████████████████| 40/40 [00:15<00:00,  2.66it/s, val_acc=50.1, val_loss=0.0158]\n"
     ]
    },
    {
     "name": "stdout",
     "output_type": "stream",
     "text": [
      "=======================================================================================================================================\n",
      "2024-05-25 05:48:44\n",
      "Epoch 108 / 200\n"
     ]
    },
    {
     "name": "stderr",
     "output_type": "stream",
     "text": [
      "[Train]: 100%|█████████████████████████| 352/352 [03:26<00:00,  1.70it/s, train_loss=1.63]\n",
      "[Valid]: 100%|███████████████████████| 40/40 [00:15<00:00,  2.65it/s, val_acc=49.1, val_loss=0.0157]\n"
     ]
    },
    {
     "name": "stdout",
     "output_type": "stream",
     "text": [
      "=======================================================================================================================================\n",
      "2024-05-25 05:52:26\n",
      "Epoch 109 / 200\n"
     ]
    },
    {
     "name": "stderr",
     "output_type": "stream",
     "text": [
      "[Train]: 100%|█████████████████████████| 352/352 [03:27<00:00,  1.70it/s, train_loss=1.63]\n",
      "[Valid]: 100%|███████████████████████| 40/40 [00:14<00:00,  2.69it/s, val_acc=49.9, val_loss=0.0155]\n"
     ]
    },
    {
     "name": "stdout",
     "output_type": "stream",
     "text": [
      "=======================================================================================================================================\n",
      "2024-05-25 05:56:08\n",
      "Epoch 110 / 200\n"
     ]
    },
    {
     "name": "stderr",
     "output_type": "stream",
     "text": [
      "[Train]: 100%|█████████████████████████| 352/352 [03:27<00:00,  1.70it/s, train_loss=1.63]\n",
      "[Valid]: 100%|███████████████████████| 40/40 [00:14<00:00,  2.69it/s, val_acc=49.5, val_loss=0.0154]\n"
     ]
    },
    {
     "name": "stdout",
     "output_type": "stream",
     "text": [
      "=======================================================================================================================================\n",
      "2024-05-25 05:59:51\n",
      "Epoch 111 / 200\n"
     ]
    },
    {
     "name": "stderr",
     "output_type": "stream",
     "text": [
      "[Train]: 100%|█████████████████████████| 352/352 [03:27<00:00,  1.70it/s, train_loss=1.62]\n",
      "[Valid]: 100%|███████████████████████| 40/40 [00:14<00:00,  2.68it/s, val_acc=49.7, val_loss=0.0155]\n"
     ]
    },
    {
     "name": "stdout",
     "output_type": "stream",
     "text": [
      "=======================================================================================================================================\n",
      "2024-05-25 06:03:33\n",
      "Epoch 112 / 200\n"
     ]
    },
    {
     "name": "stderr",
     "output_type": "stream",
     "text": [
      "[Train]: 100%|█████████████████████████| 352/352 [03:27<00:00,  1.69it/s, train_loss=1.61]\n",
      "[Valid]: 100%|███████████████████████| 40/40 [00:15<00:00,  2.66it/s, val_acc=48.4, val_loss=0.0164]\n"
     ]
    },
    {
     "name": "stdout",
     "output_type": "stream",
     "text": [
      "=======================================================================================================================================\n",
      "2024-05-25 06:07:16\n",
      "Epoch 113 / 200\n"
     ]
    },
    {
     "name": "stderr",
     "output_type": "stream",
     "text": [
      "[Train]: 100%|█████████████████████████| 352/352 [03:27<00:00,  1.69it/s, train_loss=1.62]\n",
      "[Valid]: 100%|███████████████████████| 40/40 [00:14<00:00,  2.69it/s, val_acc=48.2, val_loss=0.0162]\n"
     ]
    },
    {
     "name": "stdout",
     "output_type": "stream",
     "text": [
      "=======================================================================================================================================\n",
      "2024-05-25 06:10:58\n",
      "Epoch 114 / 200\n"
     ]
    },
    {
     "name": "stderr",
     "output_type": "stream",
     "text": [
      "[Train]: 100%|█████████████████████████| 352/352 [03:27<00:00,  1.70it/s, train_loss=1.61]\n",
      "[Valid]: 100%|███████████████████████| 40/40 [00:14<00:00,  2.72it/s, val_acc=50.6, val_loss=0.0153]\n"
     ]
    },
    {
     "name": "stdout",
     "output_type": "stream",
     "text": [
      "=======================================================================================================================================\n",
      "2024-05-25 06:14:41\n",
      "Epoch 115 / 200\n",
      "lr is updated to 0.00625\n"
     ]
    },
    {
     "name": "stderr",
     "output_type": "stream",
     "text": [
      "[Train]: 100%|█████████████████████████| 352/352 [03:27<00:00,  1.69it/s, train_loss=1.46]\n",
      "[Valid]: 100%|███████████████████████| 40/40 [00:14<00:00,  2.72it/s, val_acc=54.8, val_loss=0.0137]\n"
     ]
    },
    {
     "name": "stdout",
     "output_type": "stream",
     "text": [
      "Validation loss decreased (0.014922 --> 0.013731).\n",
      "=======================================================================================================================================\n",
      "2024-05-25 06:18:23\n",
      "Epoch 116 / 200\n"
     ]
    },
    {
     "name": "stderr",
     "output_type": "stream",
     "text": [
      "[Train]: 100%|█████████████████████████| 352/352 [03:27<00:00,  1.69it/s, train_loss=1.41]\n",
      "[Valid]: 100%|████████████████████████| 40/40 [00:15<00:00,  2.66it/s, val_acc=55.1, val_loss=0.014]\n"
     ]
    },
    {
     "name": "stdout",
     "output_type": "stream",
     "text": [
      "=======================================================================================================================================\n",
      "2024-05-25 06:22:06\n",
      "Epoch 117 / 200\n"
     ]
    },
    {
     "name": "stderr",
     "output_type": "stream",
     "text": [
      "[Train]: 100%|██████████████████████████| 352/352 [03:27<00:00,  1.70it/s, train_loss=1.4]\n",
      "[Valid]: 100%|███████████████████████| 40/40 [00:14<00:00,  2.70it/s, val_acc=54.9, val_loss=0.0139]\n"
     ]
    },
    {
     "name": "stdout",
     "output_type": "stream",
     "text": [
      "=======================================================================================================================================\n",
      "2024-05-25 06:25:49\n",
      "Epoch 118 / 200\n"
     ]
    },
    {
     "name": "stderr",
     "output_type": "stream",
     "text": [
      "[Train]: 100%|█████████████████████████| 352/352 [03:29<00:00,  1.68it/s, train_loss=1.39]\n",
      "[Valid]: 100%|███████████████████████| 40/40 [00:14<00:00,  2.67it/s, val_acc=56.8, val_loss=0.0135]\n"
     ]
    },
    {
     "name": "stdout",
     "output_type": "stream",
     "text": [
      "Validation loss decreased (0.013731 --> 0.013486).\n",
      "=======================================================================================================================================\n",
      "2024-05-25 06:29:33\n",
      "Epoch 119 / 200\n"
     ]
    },
    {
     "name": "stderr",
     "output_type": "stream",
     "text": [
      "[Train]: 100%|█████████████████████████| 352/352 [03:28<00:00,  1.69it/s, train_loss=1.38]\n",
      "[Valid]: 100%|███████████████████████| 40/40 [00:14<00:00,  2.68it/s, val_acc=55.6, val_loss=0.0133]\n"
     ]
    },
    {
     "name": "stdout",
     "output_type": "stream",
     "text": [
      "Validation loss decreased (0.013486 --> 0.013290).\n",
      "=======================================================================================================================================\n",
      "2024-05-25 06:33:16\n",
      "Epoch 120 / 200\n"
     ]
    },
    {
     "name": "stderr",
     "output_type": "stream",
     "text": [
      "[Train]: 100%|█████████████████████████| 352/352 [03:27<00:00,  1.70it/s, train_loss=1.38]\n",
      "[Valid]: 100%|███████████████████████| 40/40 [00:14<00:00,  2.68it/s, val_acc=55.4, val_loss=0.0137]\n"
     ]
    },
    {
     "name": "stdout",
     "output_type": "stream",
     "text": [
      "=======================================================================================================================================\n",
      "2024-05-25 06:36:59\n",
      "Epoch 121 / 200\n"
     ]
    },
    {
     "name": "stderr",
     "output_type": "stream",
     "text": [
      "[Train]: 100%|█████████████████████████| 352/352 [03:28<00:00,  1.69it/s, train_loss=1.36]\n",
      "[Valid]: 100%|███████████████████████| 40/40 [00:14<00:00,  2.67it/s, val_acc=54.6, val_loss=0.0139]\n"
     ]
    },
    {
     "name": "stdout",
     "output_type": "stream",
     "text": [
      "=======================================================================================================================================\n",
      "2024-05-25 06:40:42\n",
      "Epoch 122 / 200\n"
     ]
    },
    {
     "name": "stderr",
     "output_type": "stream",
     "text": [
      "[Train]: 100%|█████████████████████████| 352/352 [03:27<00:00,  1.70it/s, train_loss=1.36]\n",
      "[Valid]: 100%|███████████████████████| 40/40 [00:15<00:00,  2.64it/s, val_acc=56.2, val_loss=0.0135]\n"
     ]
    },
    {
     "name": "stdout",
     "output_type": "stream",
     "text": [
      "=======================================================================================================================================\n",
      "2024-05-25 06:44:25\n",
      "Epoch 123 / 200\n"
     ]
    },
    {
     "name": "stderr",
     "output_type": "stream",
     "text": [
      "[Train]: 100%|█████████████████████████| 352/352 [03:29<00:00,  1.68it/s, train_loss=1.36]\n",
      "[Valid]: 100%|███████████████████████| 40/40 [00:15<00:00,  2.64it/s, val_acc=55.3, val_loss=0.0134]\n"
     ]
    },
    {
     "name": "stdout",
     "output_type": "stream",
     "text": [
      "=======================================================================================================================================\n",
      "2024-05-25 06:48:10\n",
      "Epoch 124 / 200\n"
     ]
    },
    {
     "name": "stderr",
     "output_type": "stream",
     "text": [
      "[Train]: 100%|█████████████████████████| 352/352 [03:29<00:00,  1.68it/s, train_loss=1.34]\n",
      "[Valid]: 100%|███████████████████████| 40/40 [00:15<00:00,  2.64it/s, val_acc=56.6, val_loss=0.0135]\n"
     ]
    },
    {
     "name": "stdout",
     "output_type": "stream",
     "text": [
      "=======================================================================================================================================\n",
      "2024-05-25 06:51:55\n",
      "Epoch 125 / 200\n"
     ]
    },
    {
     "name": "stderr",
     "output_type": "stream",
     "text": [
      "[Train]: 100%|█████████████████████████| 352/352 [03:29<00:00,  1.68it/s, train_loss=1.35]\n",
      "[Valid]: 100%|███████████████████████| 40/40 [00:15<00:00,  2.58it/s, val_acc=55.3, val_loss=0.0138]\n"
     ]
    },
    {
     "name": "stdout",
     "output_type": "stream",
     "text": [
      "=======================================================================================================================================\n",
      "2024-05-25 06:55:41\n",
      "Epoch 126 / 200\n"
     ]
    },
    {
     "name": "stderr",
     "output_type": "stream",
     "text": [
      "[Train]: 100%|█████████████████████████| 352/352 [03:29<00:00,  1.68it/s, train_loss=1.33]\n",
      "[Valid]: 100%|█████████████████████████| 40/40 [00:14<00:00,  2.67it/s, val_acc=54, val_loss=0.0142]\n"
     ]
    },
    {
     "name": "stdout",
     "output_type": "stream",
     "text": [
      "=======================================================================================================================================\n",
      "2024-05-25 06:59:25\n",
      "Epoch 127 / 200\n"
     ]
    },
    {
     "name": "stderr",
     "output_type": "stream",
     "text": [
      "[Train]: 100%|█████████████████████████| 352/352 [03:30<00:00,  1.67it/s, train_loss=1.35]\n",
      "[Valid]: 100%|███████████████████████| 40/40 [00:14<00:00,  2.68it/s, val_acc=54.7, val_loss=0.0137]\n"
     ]
    },
    {
     "name": "stdout",
     "output_type": "stream",
     "text": [
      "=======================================================================================================================================\n",
      "2024-05-25 07:03:10\n",
      "Epoch 128 / 200\n"
     ]
    },
    {
     "name": "stderr",
     "output_type": "stream",
     "text": [
      "[Train]: 100%|█████████████████████████| 352/352 [03:30<00:00,  1.67it/s, train_loss=1.33]\n",
      "[Valid]: 100%|███████████████████████| 40/40 [00:15<00:00,  2.65it/s, val_acc=55.3, val_loss=0.0137]\n"
     ]
    },
    {
     "name": "stdout",
     "output_type": "stream",
     "text": [
      "=======================================================================================================================================\n",
      "2024-05-25 07:06:56\n",
      "Epoch 129 / 200\n"
     ]
    },
    {
     "name": "stderr",
     "output_type": "stream",
     "text": [
      "[Train]: 100%|█████████████████████████| 352/352 [03:30<00:00,  1.67it/s, train_loss=1.33]\n",
      "[Valid]: 100%|███████████████████████| 40/40 [00:15<00:00,  2.64it/s, val_acc=55.7, val_loss=0.0139]\n"
     ]
    },
    {
     "name": "stdout",
     "output_type": "stream",
     "text": [
      "=======================================================================================================================================\n",
      "2024-05-25 07:10:42\n",
      "Epoch 130 / 200\n",
      "lr is updated to 0.003125\n"
     ]
    },
    {
     "name": "stderr",
     "output_type": "stream",
     "text": [
      "[Train]: 100%|█████████████████████████| 352/352 [03:31<00:00,  1.67it/s, train_loss=1.24]\n",
      "[Valid]: 100%|███████████████████████| 40/40 [00:15<00:00,  2.64it/s, val_acc=58.1, val_loss=0.0129]\n"
     ]
    },
    {
     "name": "stdout",
     "output_type": "stream",
     "text": [
      "Validation loss decreased (0.013290 --> 0.012910).\n",
      "=======================================================================================================================================\n",
      "2024-05-25 07:14:28\n",
      "Epoch 131 / 200\n"
     ]
    },
    {
     "name": "stderr",
     "output_type": "stream",
     "text": [
      "[Train]: 100%|██████████████████████████| 352/352 [03:32<00:00,  1.66it/s, train_loss=1.2]\n",
      "[Valid]: 100%|███████████████████████| 40/40 [00:15<00:00,  2.65it/s, val_acc=58.1, val_loss=0.0127]\n"
     ]
    },
    {
     "name": "stdout",
     "output_type": "stream",
     "text": [
      "Validation loss decreased (0.012910 --> 0.012679).\n",
      "=======================================================================================================================================\n",
      "2024-05-25 07:18:15\n",
      "Epoch 132 / 200\n"
     ]
    },
    {
     "name": "stderr",
     "output_type": "stream",
     "text": [
      "[Train]: 100%|█████████████████████████| 352/352 [03:32<00:00,  1.66it/s, train_loss=1.18]\n",
      "[Valid]: 100%|███████████████████████| 40/40 [00:15<00:00,  2.63it/s, val_acc=58.5, val_loss=0.0129]\n"
     ]
    },
    {
     "name": "stdout",
     "output_type": "stream",
     "text": [
      "=======================================================================================================================================\n",
      "2024-05-25 07:22:03\n",
      "Epoch 133 / 200\n"
     ]
    },
    {
     "name": "stderr",
     "output_type": "stream",
     "text": [
      "[Train]: 100%|█████████████████████████| 352/352 [03:33<00:00,  1.65it/s, train_loss=1.18]\n",
      "[Valid]: 100%|███████████████████████| 40/40 [00:15<00:00,  2.60it/s, val_acc=58.8, val_loss=0.0127]\n"
     ]
    },
    {
     "name": "stdout",
     "output_type": "stream",
     "text": [
      "=======================================================================================================================================\n",
      "2024-05-25 07:25:52\n",
      "Epoch 134 / 200\n"
     ]
    },
    {
     "name": "stderr",
     "output_type": "stream",
     "text": [
      "[Train]: 100%|█████████████████████████| 352/352 [03:33<00:00,  1.65it/s, train_loss=1.16]\n",
      "[Valid]: 100%|███████████████████████| 40/40 [00:15<00:00,  2.60it/s, val_acc=58.5, val_loss=0.0127]\n"
     ]
    },
    {
     "name": "stdout",
     "output_type": "stream",
     "text": [
      "=======================================================================================================================================\n",
      "2024-05-25 07:29:41\n",
      "Epoch 135 / 200\n"
     ]
    },
    {
     "name": "stderr",
     "output_type": "stream",
     "text": [
      "[Train]: 100%|█████████████████████████| 352/352 [03:32<00:00,  1.65it/s, train_loss=1.16]\n",
      "[Valid]: 100%|███████████████████████| 40/40 [00:15<00:00,  2.65it/s, val_acc=58.6, val_loss=0.0124]\n"
     ]
    },
    {
     "name": "stdout",
     "output_type": "stream",
     "text": [
      "Validation loss decreased (0.012679 --> 0.012367).\n",
      "=======================================================================================================================================\n",
      "2024-05-25 07:33:29\n",
      "Epoch 136 / 200\n"
     ]
    },
    {
     "name": "stderr",
     "output_type": "stream",
     "text": [
      "[Train]: 100%|█████████████████████████| 352/352 [03:31<00:00,  1.66it/s, train_loss=1.14]\n",
      "[Valid]: 100%|███████████████████████| 40/40 [00:15<00:00,  2.64it/s, val_acc=58.4, val_loss=0.0125]\n"
     ]
    },
    {
     "name": "stdout",
     "output_type": "stream",
     "text": [
      "=======================================================================================================================================\n",
      "2024-05-25 07:37:16\n",
      "Epoch 137 / 200\n"
     ]
    },
    {
     "name": "stderr",
     "output_type": "stream",
     "text": [
      "[Train]: 100%|█████████████████████████| 352/352 [03:33<00:00,  1.65it/s, train_loss=1.15]\n",
      "[Valid]: 100%|█████████████████████████| 40/40 [00:15<00:00,  2.58it/s, val_acc=58, val_loss=0.0125]\n"
     ]
    },
    {
     "name": "stdout",
     "output_type": "stream",
     "text": [
      "=======================================================================================================================================\n",
      "2024-05-25 07:41:05\n",
      "Epoch 138 / 200\n"
     ]
    },
    {
     "name": "stderr",
     "output_type": "stream",
     "text": [
      "[Train]: 100%|█████████████████████████| 352/352 [03:34<00:00,  1.64it/s, train_loss=1.13]\n",
      "[Valid]: 100%|███████████████████████| 40/40 [00:15<00:00,  2.57it/s, val_acc=58.7, val_loss=0.0129]\n"
     ]
    },
    {
     "name": "stdout",
     "output_type": "stream",
     "text": [
      "=======================================================================================================================================\n",
      "2024-05-25 07:44:55\n",
      "Epoch 139 / 200\n"
     ]
    },
    {
     "name": "stderr",
     "output_type": "stream",
     "text": [
      "[Train]: 100%|█████████████████████████| 352/352 [03:33<00:00,  1.65it/s, train_loss=1.15]\n",
      "[Valid]: 100%|█████████████████████████| 40/40 [00:15<00:00,  2.59it/s, val_acc=59, val_loss=0.0125]\n"
     ]
    },
    {
     "name": "stdout",
     "output_type": "stream",
     "text": [
      "=======================================================================================================================================\n",
      "2024-05-25 07:48:44\n",
      "Epoch 140 / 200\n"
     ]
    },
    {
     "name": "stderr",
     "output_type": "stream",
     "text": [
      "[Train]: 100%|█████████████████████████| 352/352 [03:35<00:00,  1.64it/s, train_loss=1.13]\n",
      "[Valid]: 100%|███████████████████████| 40/40 [00:15<00:00,  2.58it/s, val_acc=58.3, val_loss=0.0126]\n"
     ]
    },
    {
     "name": "stdout",
     "output_type": "stream",
     "text": [
      "=======================================================================================================================================\n",
      "2024-05-25 07:52:35\n",
      "Epoch 141 / 200\n"
     ]
    },
    {
     "name": "stderr",
     "output_type": "stream",
     "text": [
      "[Train]: 100%|█████████████████████████| 352/352 [03:33<00:00,  1.65it/s, train_loss=1.13]\n",
      "[Valid]: 100%|███████████████████████| 40/40 [00:15<00:00,  2.59it/s, val_acc=58.5, val_loss=0.0126]\n"
     ]
    },
    {
     "name": "stdout",
     "output_type": "stream",
     "text": [
      "=======================================================================================================================================\n",
      "2024-05-25 07:56:24\n",
      "Epoch 142 / 200\n"
     ]
    },
    {
     "name": "stderr",
     "output_type": "stream",
     "text": [
      "[Train]: 100%|█████████████████████████| 352/352 [03:34<00:00,  1.64it/s, train_loss=1.13]\n",
      "[Valid]: 100%|███████████████████████| 40/40 [00:15<00:00,  2.61it/s, val_acc=58.6, val_loss=0.0128]\n"
     ]
    },
    {
     "name": "stdout",
     "output_type": "stream",
     "text": [
      "=======================================================================================================================================\n",
      "2024-05-25 08:00:15\n",
      "Epoch 143 / 200\n"
     ]
    },
    {
     "name": "stderr",
     "output_type": "stream",
     "text": [
      "[Train]: 100%|█████████████████████████| 352/352 [03:35<00:00,  1.64it/s, train_loss=1.13]\n",
      "[Valid]: 100%|███████████████████████| 40/40 [00:15<00:00,  2.58it/s, val_acc=57.7, val_loss=0.0129]\n"
     ]
    },
    {
     "name": "stdout",
     "output_type": "stream",
     "text": [
      "=======================================================================================================================================\n",
      "2024-05-25 08:04:05\n",
      "Epoch 144 / 200\n"
     ]
    },
    {
     "name": "stderr",
     "output_type": "stream",
     "text": [
      "[Train]: 100%|█████████████████████████| 352/352 [03:33<00:00,  1.65it/s, train_loss=1.11]\n",
      "[Valid]: 100%|█████████████████████████| 40/40 [00:15<00:00,  2.58it/s, val_acc=58, val_loss=0.0129]\n"
     ]
    },
    {
     "name": "stdout",
     "output_type": "stream",
     "text": [
      "=======================================================================================================================================\n",
      "2024-05-25 08:07:54\n",
      "Epoch 145 / 200\n"
     ]
    },
    {
     "name": "stderr",
     "output_type": "stream",
     "text": [
      "[Train]: 100%|█████████████████████████| 352/352 [03:35<00:00,  1.64it/s, train_loss=1.11]\n",
      "[Valid]: 100%|███████████████████████| 40/40 [00:15<00:00,  2.55it/s, val_acc=58.3, val_loss=0.0128]\n"
     ]
    },
    {
     "name": "stdout",
     "output_type": "stream",
     "text": [
      "=======================================================================================================================================\n",
      "2024-05-25 08:11:45\n",
      "Epoch 146 / 200\n",
      "lr is updated to 0.0015625\n"
     ]
    },
    {
     "name": "stderr",
     "output_type": "stream",
     "text": [
      "[Train]: 100%|█████████████████████████| 352/352 [03:36<00:00,  1.63it/s, train_loss=1.06]\n",
      "[Valid]: 100%|███████████████████████| 40/40 [00:15<00:00,  2.59it/s, val_acc=60.6, val_loss=0.0119]\n"
     ]
    },
    {
     "name": "stdout",
     "output_type": "stream",
     "text": [
      "Validation loss decreased (0.012367 --> 0.011866).\n",
      "=======================================================================================================================================\n",
      "2024-05-25 08:15:37\n",
      "Epoch 147 / 200\n"
     ]
    },
    {
     "name": "stderr",
     "output_type": "stream",
     "text": [
      "[Train]: 100%|█████████████████████████| 352/352 [03:37<00:00,  1.62it/s, train_loss=1.02]\n",
      "[Valid]: 100%|███████████████████████| 40/40 [00:15<00:00,  2.56it/s, val_acc=61.3, val_loss=0.0116]\n"
     ]
    },
    {
     "name": "stdout",
     "output_type": "stream",
     "text": [
      "Validation loss decreased (0.011866 --> 0.011621).\n",
      "=======================================================================================================================================\n",
      "2024-05-25 08:19:31\n",
      "Epoch 148 / 200\n"
     ]
    },
    {
     "name": "stderr",
     "output_type": "stream",
     "text": [
      "[Train]: 100%|█████████████████████████| 352/352 [03:38<00:00,  1.61it/s, train_loss=1.03]\n",
      "[Valid]: 100%|███████████████████████| 40/40 [00:15<00:00,  2.55it/s, val_acc=60.9, val_loss=0.0119]\n"
     ]
    },
    {
     "name": "stdout",
     "output_type": "stream",
     "text": [
      "=======================================================================================================================================\n",
      "2024-05-25 08:23:24\n",
      "Epoch 149 / 200\n"
     ]
    },
    {
     "name": "stderr",
     "output_type": "stream",
     "text": [
      "[Train]: 100%|████████████████████████| 352/352 [03:37<00:00,  1.62it/s, train_loss=0.997]\n",
      "[Valid]: 100%|███████████████████████| 40/40 [00:15<00:00,  2.52it/s, val_acc=61.4, val_loss=0.0119]\n"
     ]
    },
    {
     "name": "stdout",
     "output_type": "stream",
     "text": [
      "=======================================================================================================================================\n",
      "2024-05-25 08:27:18\n",
      "Epoch 150 / 200\n"
     ]
    },
    {
     "name": "stderr",
     "output_type": "stream",
     "text": [
      "[Train]: 100%|█████████████████████████| 352/352 [03:40<00:00,  1.60it/s, train_loss=1.01]\n",
      "[Valid]: 100%|███████████████████████| 40/40 [00:15<00:00,  2.52it/s, val_acc=60.6, val_loss=0.0119]\n"
     ]
    },
    {
     "name": "stdout",
     "output_type": "stream",
     "text": [
      "=======================================================================================================================================\n",
      "2024-05-25 08:31:14\n",
      "Epoch 151 / 200\n"
     ]
    },
    {
     "name": "stderr",
     "output_type": "stream",
     "text": [
      "[Train]: 100%|█████████████████████████| 352/352 [03:39<00:00,  1.61it/s, train_loss=0.99]\n",
      "[Valid]: 100%|███████████████████████| 40/40 [00:15<00:00,  2.56it/s, val_acc=60.6, val_loss=0.0119]\n"
     ]
    },
    {
     "name": "stdout",
     "output_type": "stream",
     "text": [
      "=======================================================================================================================================\n",
      "2024-05-25 08:35:09\n",
      "Epoch 152 / 200\n"
     ]
    },
    {
     "name": "stderr",
     "output_type": "stream",
     "text": [
      "[Train]: 100%|████████████████████████| 352/352 [03:39<00:00,  1.61it/s, train_loss=0.997]\n",
      "[Valid]: 100%|███████████████████████| 40/40 [00:15<00:00,  2.53it/s, val_acc=60.8, val_loss=0.0119]\n"
     ]
    },
    {
     "name": "stdout",
     "output_type": "stream",
     "text": [
      "=======================================================================================================================================\n",
      "2024-05-25 08:39:04\n",
      "Epoch 153 / 200\n"
     ]
    },
    {
     "name": "stderr",
     "output_type": "stream",
     "text": [
      "[Train]: 100%|█████████████████████████| 352/352 [03:40<00:00,  1.60it/s, train_loss=0.99]\n",
      "[Valid]: 100%|███████████████████████| 40/40 [00:15<00:00,  2.51it/s, val_acc=61.1, val_loss=0.0119]\n"
     ]
    },
    {
     "name": "stdout",
     "output_type": "stream",
     "text": [
      "=======================================================================================================================================\n",
      "2024-05-25 08:43:00\n",
      "Epoch 154 / 200\n"
     ]
    },
    {
     "name": "stderr",
     "output_type": "stream",
     "text": [
      "[Train]: 100%|█████████████████████████| 352/352 [03:41<00:00,  1.59it/s, train_loss=0.98]\n",
      "[Valid]: 100%|███████████████████████| 40/40 [00:16<00:00,  2.49it/s, val_acc=61.3, val_loss=0.0115]\n"
     ]
    },
    {
     "name": "stdout",
     "output_type": "stream",
     "text": [
      "Validation loss decreased (0.011621 --> 0.011489).\n",
      "=======================================================================================================================================\n",
      "2024-05-25 08:46:57\n",
      "Epoch 155 / 200\n"
     ]
    },
    {
     "name": "stderr",
     "output_type": "stream",
     "text": [
      "[Train]: 100%|████████████████████████| 352/352 [03:38<00:00,  1.61it/s, train_loss=0.984]\n",
      "[Valid]: 100%|███████████████████████| 40/40 [00:15<00:00,  2.51it/s, val_acc=60.8, val_loss=0.0119]\n"
     ]
    },
    {
     "name": "stdout",
     "output_type": "stream",
     "text": [
      "=======================================================================================================================================\n",
      "2024-05-25 08:50:51\n",
      "Epoch 156 / 200\n"
     ]
    },
    {
     "name": "stderr",
     "output_type": "stream",
     "text": [
      "[Train]: 100%|████████████████████████| 352/352 [03:39<00:00,  1.60it/s, train_loss=0.981]\n",
      "[Valid]: 100%|███████████████████████| 40/40 [00:16<00:00,  2.50it/s, val_acc=62.1, val_loss=0.0116]\n"
     ]
    },
    {
     "name": "stdout",
     "output_type": "stream",
     "text": [
      "=======================================================================================================================================\n",
      "2024-05-25 08:54:47\n",
      "Epoch 157 / 200\n"
     ]
    },
    {
     "name": "stderr",
     "output_type": "stream",
     "text": [
      "[Train]: 100%|████████████████████████| 352/352 [03:40<00:00,  1.59it/s, train_loss=0.972]\n",
      "[Valid]: 100%|█████████████████████████| 40/40 [00:16<00:00,  2.46it/s, val_acc=61, val_loss=0.0118]\n"
     ]
    },
    {
     "name": "stdout",
     "output_type": "stream",
     "text": [
      "=======================================================================================================================================\n",
      "2024-05-25 08:58:44\n",
      "Epoch 158 / 200\n"
     ]
    },
    {
     "name": "stderr",
     "output_type": "stream",
     "text": [
      "[Train]: 100%|████████████████████████| 352/352 [03:42<00:00,  1.58it/s, train_loss=0.962]\n",
      "[Valid]: 100%|███████████████████████| 40/40 [00:15<00:00,  2.50it/s, val_acc=61.8, val_loss=0.0116]\n"
     ]
    },
    {
     "name": "stdout",
     "output_type": "stream",
     "text": [
      "=======================================================================================================================================\n",
      "2024-05-25 09:02:43\n",
      "Epoch 159 / 200\n"
     ]
    },
    {
     "name": "stderr",
     "output_type": "stream",
     "text": [
      "[Train]: 100%|████████████████████████| 352/352 [03:43<00:00,  1.58it/s, train_loss=0.973]\n",
      "[Valid]: 100%|█████████████████████████| 40/40 [00:15<00:00,  2.55it/s, val_acc=60, val_loss=0.0119]\n"
     ]
    },
    {
     "name": "stdout",
     "output_type": "stream",
     "text": [
      "=======================================================================================================================================\n",
      "2024-05-25 09:06:42\n",
      "Epoch 160 / 200\n"
     ]
    },
    {
     "name": "stderr",
     "output_type": "stream",
     "text": [
      "[Train]: 100%|████████████████████████| 352/352 [03:45<00:00,  1.56it/s, train_loss=0.954]\n",
      "[Valid]: 100%|███████████████████████| 40/40 [00:16<00:00,  2.48it/s, val_acc=61.2, val_loss=0.0117]\n"
     ]
    },
    {
     "name": "stdout",
     "output_type": "stream",
     "text": [
      "=======================================================================================================================================\n",
      "2024-05-25 09:10:43\n",
      "Epoch 161 / 200\n"
     ]
    },
    {
     "name": "stderr",
     "output_type": "stream",
     "text": [
      "[Train]: 100%|████████████████████████| 352/352 [03:43<00:00,  1.58it/s, train_loss=0.964]\n",
      "[Valid]: 100%|███████████████████████| 40/40 [00:15<00:00,  2.51it/s, val_acc=60.7, val_loss=0.0119]\n"
     ]
    },
    {
     "name": "stdout",
     "output_type": "stream",
     "text": [
      "=======================================================================================================================================\n",
      "2024-05-25 09:14:43\n",
      "Epoch 162 / 200\n"
     ]
    },
    {
     "name": "stderr",
     "output_type": "stream",
     "text": [
      "[Train]: 100%|█████████████████████████| 352/352 [03:43<00:00,  1.58it/s, train_loss=0.96]\n",
      "[Valid]: 100%|████████████████████████| 40/40 [00:16<00:00,  2.49it/s, val_acc=60.4, val_loss=0.012]\n"
     ]
    },
    {
     "name": "stdout",
     "output_type": "stream",
     "text": [
      "=======================================================================================================================================\n",
      "2024-05-25 09:18:42\n",
      "Epoch 163 / 200\n"
     ]
    },
    {
     "name": "stderr",
     "output_type": "stream",
     "text": [
      "[Train]: 100%|████████████████████████| 352/352 [03:44<00:00,  1.57it/s, train_loss=0.947]\n",
      "[Valid]: 100%|████████████████████████| 40/40 [00:16<00:00,  2.48it/s, val_acc=60.7, val_loss=0.012]\n"
     ]
    },
    {
     "name": "stdout",
     "output_type": "stream",
     "text": [
      "=======================================================================================================================================\n",
      "2024-05-25 09:22:43\n",
      "Epoch 164 / 200\n"
     ]
    },
    {
     "name": "stderr",
     "output_type": "stream",
     "text": [
      "[Train]: 100%|████████████████████████| 352/352 [03:46<00:00,  1.56it/s, train_loss=0.947]\n",
      "[Valid]: 100%|███████████████████████| 40/40 [00:16<00:00,  2.47it/s, val_acc=60.5, val_loss=0.0121]\n"
     ]
    },
    {
     "name": "stdout",
     "output_type": "stream",
     "text": [
      "=======================================================================================================================================\n",
      "2024-05-25 09:26:45\n",
      "Epoch 165 / 200\n",
      "lr is updated to 0.00078125\n"
     ]
    },
    {
     "name": "stderr",
     "output_type": "stream",
     "text": [
      "[Train]: 100%|████████████████████████| 352/352 [03:47<00:00,  1.55it/s, train_loss=0.915]\n",
      "[Valid]: 100%|███████████████████████| 40/40 [00:16<00:00,  2.44it/s, val_acc=61.4, val_loss=0.0119]\n"
     ]
    },
    {
     "name": "stdout",
     "output_type": "stream",
     "text": [
      "=======================================================================================================================================\n",
      "2024-05-25 09:30:49\n",
      "Epoch 166 / 200\n"
     ]
    },
    {
     "name": "stderr",
     "output_type": "stream",
     "text": [
      "[Train]: 100%|████████████████████████| 352/352 [03:44<00:00,  1.57it/s, train_loss=0.901]\n",
      "[Valid]: 100%|███████████████████████| 40/40 [00:15<00:00,  2.52it/s, val_acc=62.4, val_loss=0.0117]\n"
     ]
    },
    {
     "name": "stdout",
     "output_type": "stream",
     "text": [
      "=======================================================================================================================================\n",
      "2024-05-25 09:34:50\n",
      "Epoch 167 / 200\n"
     ]
    },
    {
     "name": "stderr",
     "output_type": "stream",
     "text": [
      "[Train]: 100%|████████████████████████| 352/352 [03:47<00:00,  1.55it/s, train_loss=0.903]\n",
      "[Valid]: 100%|███████████████████████| 40/40 [00:16<00:00,  2.49it/s, val_acc=61.5, val_loss=0.0119]\n"
     ]
    },
    {
     "name": "stdout",
     "output_type": "stream",
     "text": [
      "=======================================================================================================================================\n",
      "2024-05-25 09:38:53\n",
      "Epoch 168 / 200\n"
     ]
    },
    {
     "name": "stderr",
     "output_type": "stream",
     "text": [
      "[Train]: 100%|████████████████████████| 352/352 [03:48<00:00,  1.54it/s, train_loss=0.891]\n",
      "[Valid]: 100%|███████████████████████| 40/40 [00:16<00:00,  2.48it/s, val_acc=62.3, val_loss=0.0114]\n"
     ]
    },
    {
     "name": "stdout",
     "output_type": "stream",
     "text": [
      "Validation loss decreased (0.011489 --> 0.011373).\n",
      "=======================================================================================================================================\n",
      "2024-05-25 09:42:58\n",
      "Epoch 169 / 200\n"
     ]
    },
    {
     "name": "stderr",
     "output_type": "stream",
     "text": [
      "[Train]: 100%|████████████████████████| 352/352 [03:47<00:00,  1.55it/s, train_loss=0.884]\n",
      "[Valid]: 100%|███████████████████████| 40/40 [00:16<00:00,  2.40it/s, val_acc=61.9, val_loss=0.0114]\n"
     ]
    },
    {
     "name": "stdout",
     "output_type": "stream",
     "text": [
      "=======================================================================================================================================\n",
      "2024-05-25 09:47:02\n",
      "Epoch 170 / 200\n"
     ]
    },
    {
     "name": "stderr",
     "output_type": "stream",
     "text": [
      "[Train]: 100%|████████████████████████| 352/352 [03:48<00:00,  1.54it/s, train_loss=0.882]\n",
      "[Valid]: 100%|███████████████████████| 40/40 [00:16<00:00,  2.44it/s, val_acc=61.8, val_loss=0.0116]\n"
     ]
    },
    {
     "name": "stdout",
     "output_type": "stream",
     "text": [
      "=======================================================================================================================================\n",
      "2024-05-25 09:51:07\n",
      "Epoch 171 / 200\n"
     ]
    },
    {
     "name": "stderr",
     "output_type": "stream",
     "text": [
      "[Train]: 100%|████████████████████████| 352/352 [03:47<00:00,  1.55it/s, train_loss=0.875]\n",
      "[Valid]: 100%|███████████████████████| 40/40 [00:16<00:00,  2.50it/s, val_acc=61.4, val_loss=0.0119]\n"
     ]
    },
    {
     "name": "stdout",
     "output_type": "stream",
     "text": [
      "=======================================================================================================================================\n",
      "2024-05-25 09:55:10\n",
      "Epoch 172 / 200\n"
     ]
    },
    {
     "name": "stderr",
     "output_type": "stream",
     "text": [
      "[Train]: 100%|████████████████████████| 352/352 [03:46<00:00,  1.56it/s, train_loss=0.861]\n",
      "[Valid]: 100%|███████████████████████| 40/40 [00:15<00:00,  2.51it/s, val_acc=61.5, val_loss=0.0115]\n"
     ]
    },
    {
     "name": "stdout",
     "output_type": "stream",
     "text": [
      "=======================================================================================================================================\n",
      "2024-05-25 09:59:12\n",
      "Epoch 173 / 200\n"
     ]
    },
    {
     "name": "stderr",
     "output_type": "stream",
     "text": [
      "[Train]: 100%|████████████████████████| 352/352 [03:48<00:00,  1.54it/s, train_loss=0.875]\n",
      "[Valid]: 100%|███████████████████████| 40/40 [00:16<00:00,  2.47it/s, val_acc=61.6, val_loss=0.0113]\n"
     ]
    },
    {
     "name": "stdout",
     "output_type": "stream",
     "text": [
      "Validation loss decreased (0.011373 --> 0.011349).\n",
      "=======================================================================================================================================\n",
      "2024-05-25 10:03:17\n",
      "Epoch 174 / 200\n"
     ]
    },
    {
     "name": "stderr",
     "output_type": "stream",
     "text": [
      "[Train]: 100%|████████████████████████| 352/352 [03:48<00:00,  1.54it/s, train_loss=0.866]\n",
      "[Valid]: 100%|███████████████████████| 40/40 [00:16<00:00,  2.47it/s, val_acc=62.2, val_loss=0.0116]\n"
     ]
    },
    {
     "name": "stdout",
     "output_type": "stream",
     "text": [
      "=======================================================================================================================================\n",
      "2024-05-25 10:07:21\n",
      "Epoch 175 / 200\n"
     ]
    },
    {
     "name": "stderr",
     "output_type": "stream",
     "text": [
      "[Train]: 100%|████████████████████████| 352/352 [03:49<00:00,  1.54it/s, train_loss=0.876]\n",
      "[Valid]: 100%|███████████████████████| 40/40 [00:16<00:00,  2.44it/s, val_acc=62.4, val_loss=0.0113]\n"
     ]
    },
    {
     "name": "stdout",
     "output_type": "stream",
     "text": [
      "Validation loss decreased (0.011349 --> 0.011327).\n",
      "=======================================================================================================================================\n",
      "2024-05-25 10:11:26\n",
      "Epoch 176 / 200\n"
     ]
    },
    {
     "name": "stderr",
     "output_type": "stream",
     "text": [
      "[Train]: 100%|████████████████████████| 352/352 [03:47<00:00,  1.55it/s, train_loss=0.855]\n",
      "[Valid]: 100%|███████████████████████| 40/40 [00:16<00:00,  2.49it/s, val_acc=62.1, val_loss=0.0116]\n"
     ]
    },
    {
     "name": "stdout",
     "output_type": "stream",
     "text": [
      "=======================================================================================================================================\n",
      "2024-05-25 10:15:30\n",
      "Epoch 177 / 200\n"
     ]
    },
    {
     "name": "stderr",
     "output_type": "stream",
     "text": [
      "[Train]: 100%|████████████████████████| 352/352 [03:49<00:00,  1.53it/s, train_loss=0.858]\n",
      "[Valid]: 100%|███████████████████████| 40/40 [00:16<00:00,  2.41it/s, val_acc=62.3, val_loss=0.0114]\n"
     ]
    },
    {
     "name": "stdout",
     "output_type": "stream",
     "text": [
      "=======================================================================================================================================\n",
      "2024-05-25 10:19:36\n",
      "Epoch 178 / 200\n"
     ]
    },
    {
     "name": "stderr",
     "output_type": "stream",
     "text": [
      "[Train]: 100%|████████████████████████| 352/352 [03:49<00:00,  1.53it/s, train_loss=0.859]\n",
      "[Valid]: 100%|███████████████████████| 40/40 [00:16<00:00,  2.46it/s, val_acc=62.4, val_loss=0.0114]\n"
     ]
    },
    {
     "name": "stdout",
     "output_type": "stream",
     "text": [
      "=======================================================================================================================================\n",
      "2024-05-25 10:23:42\n",
      "Epoch 179 / 200\n"
     ]
    },
    {
     "name": "stderr",
     "output_type": "stream",
     "text": [
      "[Train]: 100%|████████████████████████| 352/352 [03:49<00:00,  1.53it/s, train_loss=0.851]\n",
      "[Valid]: 100%|████████████████████████| 40/40 [00:16<00:00,  2.47it/s, val_acc=63.5, val_loss=0.011]\n"
     ]
    },
    {
     "name": "stdout",
     "output_type": "stream",
     "text": [
      "Validation loss decreased (0.011327 --> 0.011024).\n",
      "=======================================================================================================================================\n",
      "2024-05-25 10:27:47\n",
      "Epoch 180 / 200\n"
     ]
    },
    {
     "name": "stderr",
     "output_type": "stream",
     "text": [
      "[Train]: 100%|████████████████████████| 352/352 [03:49<00:00,  1.54it/s, train_loss=0.854]\n",
      "[Valid]: 100%|███████████████████████| 40/40 [00:16<00:00,  2.42it/s, val_acc=63.2, val_loss=0.0112]\n"
     ]
    },
    {
     "name": "stdout",
     "output_type": "stream",
     "text": [
      "=======================================================================================================================================\n",
      "2024-05-25 10:31:53\n",
      "Epoch 181 / 200\n"
     ]
    },
    {
     "name": "stderr",
     "output_type": "stream",
     "text": [
      "[Train]: 100%|████████████████████████| 352/352 [03:49<00:00,  1.53it/s, train_loss=0.859]\n",
      "[Valid]: 100%|███████████████████████| 40/40 [00:16<00:00,  2.46it/s, val_acc=62.9, val_loss=0.0114]\n"
     ]
    },
    {
     "name": "stdout",
     "output_type": "stream",
     "text": [
      "=======================================================================================================================================\n",
      "2024-05-25 10:35:59\n",
      "Epoch 182 / 200\n"
     ]
    },
    {
     "name": "stderr",
     "output_type": "stream",
     "text": [
      "[Train]: 100%|████████████████████████| 352/352 [03:49<00:00,  1.53it/s, train_loss=0.852]\n",
      "[Valid]: 100%|███████████████████████| 40/40 [00:16<00:00,  2.44it/s, val_acc=61.2, val_loss=0.0118]\n"
     ]
    },
    {
     "name": "stdout",
     "output_type": "stream",
     "text": [
      "=======================================================================================================================================\n",
      "2024-05-25 10:40:05\n",
      "Epoch 183 / 200\n"
     ]
    },
    {
     "name": "stderr",
     "output_type": "stream",
     "text": [
      "[Train]: 100%|████████████████████████| 352/352 [03:48<00:00,  1.54it/s, train_loss=0.843]\n",
      "[Valid]: 100%|███████████████████████| 40/40 [00:16<00:00,  2.38it/s, val_acc=61.7, val_loss=0.0121]\n"
     ]
    },
    {
     "name": "stdout",
     "output_type": "stream",
     "text": [
      "=======================================================================================================================================\n",
      "2024-05-25 10:44:11\n",
      "Epoch 184 / 200\n"
     ]
    },
    {
     "name": "stderr",
     "output_type": "stream",
     "text": [
      "[Train]: 100%|████████████████████████| 352/352 [03:51<00:00,  1.52it/s, train_loss=0.843]\n",
      "[Valid]: 100%|███████████████████████| 40/40 [00:16<00:00,  2.43it/s, val_acc=60.8, val_loss=0.0121]\n"
     ]
    },
    {
     "name": "stdout",
     "output_type": "stream",
     "text": [
      "=======================================================================================================================================\n",
      "2024-05-25 10:48:19\n",
      "Epoch 185 / 200\n"
     ]
    },
    {
     "name": "stderr",
     "output_type": "stream",
     "text": [
      "[Train]: 100%|████████████████████████| 352/352 [03:51<00:00,  1.52it/s, train_loss=0.834]\n",
      "[Valid]: 100%|███████████████████████| 40/40 [00:16<00:00,  2.50it/s, val_acc=63.4, val_loss=0.0112]\n"
     ]
    },
    {
     "name": "stdout",
     "output_type": "stream",
     "text": [
      "=======================================================================================================================================\n",
      "2024-05-25 10:52:26\n",
      "Epoch 186 / 200\n"
     ]
    },
    {
     "name": "stderr",
     "output_type": "stream",
     "text": [
      "[Train]: 100%|████████████████████████| 352/352 [03:51<00:00,  1.52it/s, train_loss=0.846]\n",
      "[Valid]: 100%|███████████████████████| 40/40 [00:16<00:00,  2.48it/s, val_acc=62.8, val_loss=0.0112]\n"
     ]
    },
    {
     "name": "stdout",
     "output_type": "stream",
     "text": [
      "=======================================================================================================================================\n",
      "2024-05-25 10:56:34\n",
      "Epoch 187 / 200\n"
     ]
    },
    {
     "name": "stderr",
     "output_type": "stream",
     "text": [
      "[Train]: 100%|████████████████████████| 352/352 [03:50<00:00,  1.53it/s, train_loss=0.838]\n",
      "[Valid]: 100%|███████████████████████| 40/40 [00:16<00:00,  2.45it/s, val_acc=63.2, val_loss=0.0114]\n"
     ]
    },
    {
     "name": "stdout",
     "output_type": "stream",
     "text": [
      "=======================================================================================================================================\n",
      "2024-05-25 11:00:41\n",
      "Epoch 188 / 200\n"
     ]
    },
    {
     "name": "stderr",
     "output_type": "stream",
     "text": [
      "[Train]: 100%|████████████████████████| 352/352 [03:49<00:00,  1.53it/s, train_loss=0.837]\n",
      "[Valid]: 100%|███████████████████████| 40/40 [00:16<00:00,  2.44it/s, val_acc=62.4, val_loss=0.0115]\n"
     ]
    },
    {
     "name": "stdout",
     "output_type": "stream",
     "text": [
      "=======================================================================================================================================\n",
      "2024-05-25 11:04:47\n",
      "Epoch 189 / 200\n"
     ]
    },
    {
     "name": "stderr",
     "output_type": "stream",
     "text": [
      "[Train]: 100%|████████████████████████| 352/352 [03:49<00:00,  1.54it/s, train_loss=0.846]\n",
      "[Valid]: 100%|████████████████████████| 40/40 [00:16<00:00,  2.41it/s, val_acc=61.4, val_loss=0.012]\n"
     ]
    },
    {
     "name": "stdout",
     "output_type": "stream",
     "text": [
      "=======================================================================================================================================\n",
      "2024-05-25 11:08:53\n",
      "Epoch 190 / 200\n",
      "lr is updated to 0.000390625\n"
     ]
    },
    {
     "name": "stderr",
     "output_type": "stream",
     "text": [
      "[Train]: 100%|████████████████████████| 352/352 [03:51<00:00,  1.52it/s, train_loss=0.814]\n",
      "[Valid]: 100%|███████████████████████| 40/40 [00:16<00:00,  2.48it/s, val_acc=62.9, val_loss=0.0112]\n"
     ]
    },
    {
     "name": "stdout",
     "output_type": "stream",
     "text": [
      "=======================================================================================================================================\n",
      "2024-05-25 11:13:00\n",
      "Epoch 191 / 200\n"
     ]
    },
    {
     "name": "stderr",
     "output_type": "stream",
     "text": [
      "[Train]: 100%|████████████████████████| 352/352 [03:49<00:00,  1.53it/s, train_loss=0.803]\n",
      "[Valid]: 100%|███████████████████████| 40/40 [00:16<00:00,  2.47it/s, val_acc=62.6, val_loss=0.0114]\n"
     ]
    },
    {
     "name": "stdout",
     "output_type": "stream",
     "text": [
      "=======================================================================================================================================\n",
      "2024-05-25 11:17:06\n",
      "Epoch 192 / 200\n"
     ]
    },
    {
     "name": "stderr",
     "output_type": "stream",
     "text": [
      "[Train]: 100%|████████████████████████| 352/352 [03:51<00:00,  1.52it/s, train_loss=0.795]\n",
      "[Valid]: 100%|███████████████████████| 40/40 [00:16<00:00,  2.44it/s, val_acc=63.6, val_loss=0.0113]\n"
     ]
    },
    {
     "name": "stdout",
     "output_type": "stream",
     "text": [
      "=======================================================================================================================================\n",
      "2024-05-25 11:21:14\n",
      "Epoch 193 / 200\n"
     ]
    },
    {
     "name": "stderr",
     "output_type": "stream",
     "text": [
      "[Train]: 100%|████████████████████████| 352/352 [03:49<00:00,  1.53it/s, train_loss=0.796]\n",
      "[Valid]: 100%|█████████████████████████| 40/40 [00:16<00:00,  2.46it/s, val_acc=63, val_loss=0.0112]\n"
     ]
    },
    {
     "name": "stdout",
     "output_type": "stream",
     "text": [
      "=======================================================================================================================================\n",
      "2024-05-25 11:25:20\n",
      "Epoch 194 / 200\n"
     ]
    },
    {
     "name": "stderr",
     "output_type": "stream",
     "text": [
      "[Train]: 100%|████████████████████████| 352/352 [03:55<00:00,  1.50it/s, train_loss=0.793]\n",
      "[Valid]: 100%|███████████████████████| 40/40 [00:16<00:00,  2.38it/s, val_acc=62.8, val_loss=0.0113]\n"
     ]
    },
    {
     "name": "stdout",
     "output_type": "stream",
     "text": [
      "=======================================================================================================================================\n",
      "2024-05-25 11:29:31\n",
      "Epoch 195 / 200\n"
     ]
    },
    {
     "name": "stderr",
     "output_type": "stream",
     "text": [
      "[Train]: 100%|████████████████████████| 352/352 [04:00<00:00,  1.46it/s, train_loss=0.788]\n",
      "[Valid]: 100%|████████████████████████| 40/40 [00:16<00:00,  2.46it/s, val_acc=63.5, val_loss=0.011]\n"
     ]
    },
    {
     "name": "stdout",
     "output_type": "stream",
     "text": [
      "Validation loss decreased (0.011024 --> 0.010990).\n",
      "=======================================================================================================================================\n",
      "2024-05-25 11:33:48\n",
      "Epoch 196 / 200\n"
     ]
    },
    {
     "name": "stderr",
     "output_type": "stream",
     "text": [
      "[Train]: 100%|█████████████████████████| 352/352 [03:54<00:00,  1.50it/s, train_loss=0.79]\n",
      "[Valid]: 100%|████████████████████████| 40/40 [00:16<00:00,  2.43it/s, val_acc=64.2, val_loss=0.011]\n"
     ]
    },
    {
     "name": "stdout",
     "output_type": "stream",
     "text": [
      "=======================================================================================================================================\n",
      "2024-05-25 11:37:59\n",
      "Epoch 197 / 200\n"
     ]
    },
    {
     "name": "stderr",
     "output_type": "stream",
     "text": [
      "[Train]: 100%|████████████████████████| 352/352 [04:09<00:00,  1.41it/s, train_loss=0.791]\n",
      "[Valid]: 100%|███████████████████████| 40/40 [00:17<00:00,  2.29it/s, val_acc=62.1, val_loss=0.0114]\n"
     ]
    },
    {
     "name": "stdout",
     "output_type": "stream",
     "text": [
      "=======================================================================================================================================\n",
      "2024-05-25 11:42:26\n",
      "Epoch 198 / 200\n"
     ]
    },
    {
     "name": "stderr",
     "output_type": "stream",
     "text": [
      "[Train]: 100%|████████████████████████| 352/352 [04:20<00:00,  1.35it/s, train_loss=0.797]\n",
      "[Valid]: 100%|███████████████████████| 40/40 [00:18<00:00,  2.21it/s, val_acc=63.4, val_loss=0.0111]\n"
     ]
    },
    {
     "name": "stdout",
     "output_type": "stream",
     "text": [
      "=======================================================================================================================================\n",
      "2024-05-25 11:47:04\n",
      "Epoch 199 / 200\n"
     ]
    },
    {
     "name": "stderr",
     "output_type": "stream",
     "text": [
      "[Train]: 100%|████████████████████████| 352/352 [04:18<00:00,  1.36it/s, train_loss=0.796]\n",
      "[Valid]: 100%|███████████████████████| 40/40 [00:17<00:00,  2.29it/s, val_acc=63.5, val_loss=0.0114]\n"
     ]
    },
    {
     "name": "stdout",
     "output_type": "stream",
     "text": [
      "=======================================================================================================================================\n",
      "2024-05-25 11:51:41\n",
      "Epoch 200 / 200\n"
     ]
    },
    {
     "name": "stderr",
     "output_type": "stream",
     "text": [
      "[Train]: 100%|████████████████████████| 352/352 [04:18<00:00,  1.36it/s, train_loss=0.791]\n",
      "[Valid]: 100%|███████████████████████| 40/40 [00:16<00:00,  2.39it/s, val_acc=63.1, val_loss=0.0111]\n"
     ]
    },
    {
     "data": {
      "image/png": "[encoded data removed]",
      "text/plain": [
       "<Figure size 1000x500 with 1 Axes>"
      ]
     },
     "metadata": {},
     "output_type": "display_data"
    },
    {
     "name": "stderr",
     "output_type": "stream",
     "text": [
      "Testing [Test]: 100%|████████████████████████| 79/79 [00:33<00:00,  2.34it/s, test_acc=79.1, test_loss=0.00586]\n"
     ]
    }
   ],
   "source": [
    "import sys\n",
    "import torch.nn as nn\n",
    "sys.path.append('../tools')\n",
    "from CIFAR100 import cifar100_trainer\n",
    "from torchvision.transforms import autoaugment, transforms\n",
    "\n",
    "train_transforms = transforms.Compose([\n",
    "    transforms.RandomResizedCrop(32, scale=(0.08, 1.0), ratio=(3. / 4., 4. / 3.)),\n",
    "    transforms.RandomHorizontalFlip(),\n",
    "    autoaugment.AutoAugment(policy=autoaugment.AutoAugmentPolicy('cifar10')),\n",
    "    transforms.ToTensor(),\n",
    "    transforms.Normalize((0.5,), (0.5,)),\n",
    "    transforms.RandomErasing(p=0.5, scale=(0.02, 0.33), ratio=(0.3, 3.3), value=0, inplace=False),\n",
    "])\n",
    "\n",
    "test_transforms = transforms.Compose([\n",
    "    transforms.ToTensor(),\n",
    "    transforms.Normalize((0.5,), (0.5,))\n",
    "])\n",
    "\n",
    "\n",
    "trainer = cifar100_trainer(model=model, lr=0.1, batch_size=128, epoch=200, train_transforms=train_transforms, test_transforms=test_transforms)\n",
    "trainer.train()\n",
    "trainer.test()"
   ]
  },
  {
   "cell_type": "code",
   "execution_count": null,
   "id": "2da377ba-f0e6-41ea-bdea-978a3300adb7",
   "metadata": {},
   "outputs": [],
   "source": []
  }
 ],
 "metadata": {
  "kernelspec": {
   "display_name": "bdl",
   "language": "python",
   "name": "bdl"
  },
  "language_info": {
   "codemirror_mode": {
    "name": "ipython",
    "version": 3
   },
   "file_extension": ".py",
   "mimetype": "text/x-python",
   "name": "python",
   "nbconvert_exporter": "python",
   "pygments_lexer": "ipython3",
   "version": "3.9.0"
  }
 },
 "nbformat": 4,
 "nbformat_minor": 5
}
