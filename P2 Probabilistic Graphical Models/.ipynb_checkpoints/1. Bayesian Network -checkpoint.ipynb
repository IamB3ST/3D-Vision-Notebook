{
 "cells": [
  {
   "cell_type": "markdown",
   "id": "29cad1a8-55a3-414f-8528-52ffbedb0c71",
   "metadata": {},
   "source": [
    "# Bayesian Network"
   ]
  },
  {
   "cell_type": "markdown",
   "id": "d2430116-0f49-4c1b-b177-80bf7a50a4d8",
   "metadata": {},
   "source": [
    "<div style=\"display: flex; align-items: center;\">\n",
    "    <img src=\"../imgs/BN.jpg\" alt=\"Your Image\" width=\"400\" style=\"margin-right: 20px;\">\n",
    "    <div>\n",
    "        <p>Before introduce the Bayesian Network, Let's first briefly introduce the probability graph model: Probability Graph Models (PGM) are models used to represent random variables and their probability dependency relationships. PGM is mainly divided into two types:</p>\n",
    "        <p>Directed Graphical Models, also known as Bayesian Networks, where nodes (variables) are connected by directed edges to represent causal relationships between variables.</p>\n",
    "        <p>Undirected Graphical Models, also known as Markov Random Fields, where nodes are connected by undirected edges to represent the correlations between variables.</p>\n",
    "        <p>In this chapter, we focus on Bayesian Network and learn how to perform parameter and structure learning on Bayesian networks with a given dataset. And infer under known models.</p>\n",
    "    </div>\n",
    "</div>"
   ]
  },
  {
   "cell_type": "markdown",
   "id": "191fe153-6b06-413b-87d2-5d4330256fa0",
   "metadata": {},
   "source": [
    "## Parameter Learning\n",
    "- **Condition**: sample dataset and Bayesian network structure\n",
    "\n",
    "- **Output**: (conditional) probability distribution table for each node in the network\n",
    "\n",
    "The two methods used in parameter learning are `Maximum Likelihood Estimation` and `Bayesian Estimation`."
   ]
  },
  {
   "cell_type": "code",
   "execution_count": 39,
   "id": "929db724-7f46-4f3d-a1ae-43f801572725",
   "metadata": {},
   "outputs": [
    {
     "name": "stdout",
     "output_type": "stream",
     "text": [
      "   course       school pass letter\n",
      "0    math      science   No     No\n",
      "1    math      science   No     No\n",
      "2    math      science   No    Yes\n",
      "3    math  engineering  Yes    Yes\n",
      "4    stat      science   No     No\n",
      "5    stat      science   No     No\n",
      "6    stat      science  Yes    Yes\n",
      "7    stat  engineering  Yes    Yes\n",
      "8    comp      science   No     No\n",
      "9    comp      science  Yes    Yes\n",
      "10   comp      science  Yes     No\n",
      "11   comp  engineering  Yes    Yes\n"
     ]
    }
   ],
   "source": [
    "import pandas as pd\n",
    "\n",
    "data = pd.DataFrame(data={\n",
    "                          'course': [\"math\", \"math\", \"math\", \"math\", \"stat\", \"stat\", \"stat\", \"stat\", \"comp\", \"comp\", \"comp\", \"comp\"], \n",
    "                          'school': [\"science\", \"science\", \"science\", \"engineering\", \"science\", \"science\", \"science\", \"engineering\", \"science\", \"science\", \"science\", \"engineering\"], \n",
    "                            'pass': [\"No\", \"No\", \"No\", \"Yes\", \"No\", \"No\", \"Yes\", \"Yes\", \"No\", \"Yes\", \"Yes\", \"Yes\"],\n",
    "                           'letter':[\"No\", \"No\", \"Yes\", \"Yes\", \"No\", \"No\", \"Yes\", \"Yes\", \"No\", \"Yes\", \"No\", \"Yes\"]\n",
    "                         })\n",
    "\n",
    "\n",
    "print(data)"
   ]
  },
  {
   "cell_type": "code",
   "execution_count": 40,
   "id": "87bf142a-9069-4730-afa8-4a81aeb66331",
   "metadata": {},
   "outputs": [
    {
     "name": "stdout",
     "output_type": "stream",
     "text": [
      "+--------------+----------+\n",
      "| course(comp) | 0.333333 |\n",
      "+--------------+----------+\n",
      "| course(math) | 0.333333 |\n",
      "+--------------+----------+\n",
      "| course(stat) | 0.333333 |\n",
      "+--------------+----------+\n"
     ]
    }
   ],
   "source": [
    "from pgmpy.estimators import MaximumLikelihoodEstimator\n",
    "from pgmpy.models import BayesianNetwork\n",
    "\n",
    "model = BayesianNetwork([('course', 'pass'), ('school', 'pass'), ('pass', 'letter')]) \n",
    "mle = MaximumLikelihoodEstimator(model, data)\n",
    "print(mle.estimate_cpd('course'))"
   ]
  },
  {
   "cell_type": "code",
   "execution_count": 41,
   "id": "fce62aab-372b-4754-b505-8d0c7854b8b2",
   "metadata": {},
   "outputs": [
    {
     "name": "stdout",
     "output_type": "stream",
     "text": [
      "+---------------------+------+\n",
      "| school(engineering) | 0.25 |\n",
      "+---------------------+------+\n",
      "| school(science)     | 0.75 |\n",
      "+---------------------+------+\n"
     ]
    }
   ],
   "source": [
    "print(mle.estimate_cpd('school'))"
   ]
  },
  {
   "cell_type": "code",
   "execution_count": 56,
   "id": "e4d47bfc-8472-4313-9499-7bc96960d8ba",
   "metadata": {},
   "outputs": [
    {
     "name": "stdout",
     "output_type": "stream",
     "text": [
      "+-----------+---------------------+--------------------+-----+---------------------+--------------------+\n",
      "| course    | course(comp)        | course(comp)       | ... | course(stat)        | course(stat)       |\n",
      "+-----------+---------------------+--------------------+-----+---------------------+--------------------+\n",
      "| school    | school(engineering) | school(science)    | ... | school(engineering) | school(science)    |\n",
      "+-----------+---------------------+--------------------+-----+---------------------+--------------------+\n",
      "| pass(No)  | 0.0                 | 0.3333333333333333 | ... | 0.0                 | 0.6666666666666666 |\n",
      "+-----------+---------------------+--------------------+-----+---------------------+--------------------+\n",
      "| pass(Yes) | 1.0                 | 0.6666666666666666 | ... | 1.0                 | 0.3333333333333333 |\n",
      "+-----------+---------------------+--------------------+-----+---------------------+--------------------+\n"
     ]
    }
   ],
   "source": [
    "print(mle.estimate_cpd('pass'))"
   ]
  },
  {
   "cell_type": "code",
   "execution_count": 43,
   "id": "ad4ae754-52bf-4598-b6b7-d315ab5602ee",
   "metadata": {},
   "outputs": [
    {
     "name": "stdout",
     "output_type": "stream",
     "text": [
      "+-------------+---------------------+---------------------+\n",
      "| pass        | pass(No)            | pass(Yes)           |\n",
      "+-------------+---------------------+---------------------+\n",
      "| letter(No)  | 0.8333333333333334  | 0.16666666666666666 |\n",
      "+-------------+---------------------+---------------------+\n",
      "| letter(Yes) | 0.16666666666666666 | 0.8333333333333334  |\n",
      "+-------------+---------------------+---------------------+\n"
     ]
    }
   ],
   "source": [
    "print(mle.estimate_cpd('letter'))"
   ]
  },
  {
   "cell_type": "markdown",
   "id": "a22f4651-7e81-4ecc-a177-a609acdd125d",
   "metadata": {},
   "source": [
    "The `Maximum Likelihood Estimation` method may have overfitting issues when the sample dataset is relatively small. To address the above issues, `Bayesian Estimation` methods can be used."
   ]
  },
  {
   "cell_type": "code",
   "execution_count": 44,
   "id": "af27cca3-14c0-44e7-8f7f-40632154151a",
   "metadata": {},
   "outputs": [
    {
     "name": "stdout",
     "output_type": "stream",
     "text": [
      "+-----------+---------------------+---------------------+-----+---------------------+---------------------+\n",
      "| course    | course(comp)        | course(comp)        | ... | course(stat)        | course(stat)        |\n",
      "+-----------+---------------------+---------------------+-----+---------------------+---------------------+\n",
      "| school    | school(engineering) | school(science)     | ... | school(engineering) | school(science)     |\n",
      "+-----------+---------------------+---------------------+-----+---------------------+---------------------+\n",
      "| pass(No)  | 0.3125              | 0.39285714285714285 | ... | 0.3125              | 0.6071428571428571  |\n",
      "+-----------+---------------------+---------------------+-----+---------------------+---------------------+\n",
      "| pass(Yes) | 0.6875              | 0.6071428571428571  | ... | 0.6875              | 0.39285714285714285 |\n",
      "+-----------+---------------------+---------------------+-----+---------------------+---------------------+\n"
     ]
    }
   ],
   "source": [
    "from pgmpy.estimators import BayesianEstimator\n",
    "\n",
    "bayes = BayesianEstimator(model, data)\n",
    "print(bayes.estimate_cpd('pass', prior_type='BDeu', equivalent_sample_size=10))"
   ]
  },
  {
   "cell_type": "markdown",
   "id": "378ae77f-15b7-41b8-b750-79b874da011b",
   "metadata": {},
   "source": [
    "## Structure Learning\n",
    "- **Condition**: sample dataset\n",
    "\n",
    "- **Output**: Bayesian network structure\n",
    "\n",
    "The solving process is mainly based on a rating function. We first define a rating function that can evaluate the degree of fit between the Bayesian network and the training data. Then, based on this rating function, we find the most structurally optimal Bayesian network"
   ]
  },
  {
   "cell_type": "code",
   "execution_count": 45,
   "id": "171fe51c-21b4-48cf-beae-b3563a91f5ec",
   "metadata": {},
   "outputs": [
    {
     "data": {
      "application/vnd.jupyter.widget-view+json": {
       "model_id": "d65c61c3bbdd4a968c0e0404884d4168",
       "version_major": 2,
       "version_minor": 0
      },
      "text/plain": [
       "  0%|          | 0/1000000 [00:00<?, ?it/s]"
      ]
     },
     "metadata": {},
     "output_type": "display_data"
    },
    {
     "data": {
      "application/vnd.jupyter.widget-view+json": {
       "model_id": "0e4e4b3dcc284749bf19680c0d854089",
       "version_major": 2,
       "version_minor": 0
      },
      "text/plain": [
       "  0%|          | 0/1000000 [00:00<?, ?it/s]"
      ]
     },
     "metadata": {},
     "output_type": "display_data"
    },
    {
     "name": "stdout",
     "output_type": "stream",
     "text": [
      "[('school', 'pass'), ('school', 'course'), ('pass', 'letter'), ('pass', 'course'), ('letter', 'course')]\n"
     ]
    }
   ],
   "source": [
    "import numpy as np\n",
    "import pandas as pd\n",
    "from pgmpy.estimators import HillClimbSearch\n",
    "from pgmpy.estimators import BicScore\n",
    "\n",
    "\n",
    "data = pd.DataFrame(data={\n",
    "                          'course': [\"math\", \"math\", \"math\", \"math\", \"stat\", \"stat\", \"stat\", \"stat\", \"comp\", \"comp\", \"comp\", \"comp\"], \n",
    "                          'school': [\"science\", \"science\", \"science\", \"engineering\", \"science\", \"science\", \"science\", \"engineering\", \"science\", \"science\", \"science\", \"engineering\"], \n",
    "                            'pass': [\"No\", \"No\", \"No\", \"Yes\", \"No\", \"No\", \"Yes\", \"Yes\", \"No\", \"Yes\", \"Yes\", \"Yes\"],\n",
    "                           'letter':[\"No\", \"No\", \"Yes\", \"Yes\", \"No\", \"No\", \"Yes\", \"Yes\", \"No\", \"Yes\", \"No\", \"Yes\"]\n",
    "                         })\n",
    "\n",
    "hc = HillClimbSearch(data)\n",
    "best_model = hc.estimate(scoring_method=BicScore(data))\n",
    "best_model = hc.estimate()\n",
    "print(best_model.edges())"
   ]
  },
  {
   "cell_type": "markdown",
   "id": "f4ef9e8d-3f62-4a15-a442-e0d424b596c6",
   "metadata": {},
   "source": [
    "## Inference"
   ]
  },
  {
   "cell_type": "code",
   "execution_count": 74,
   "id": "aa2e9478-b586-4f4c-b904-2e596670d676",
   "metadata": {},
   "outputs": [
    {
     "name": "stdout",
     "output_type": "stream",
     "text": [
      "+-----------+---------------+\n",
      "| course    |   phi(course) |\n",
      "+===========+===============+\n",
      "| course(0) |        0.1667 |\n",
      "+-----------+---------------+\n",
      "| course(1) |        0.3333 |\n",
      "+-----------+---------------+\n",
      "| course(2) |        0.5000 |\n",
      "+-----------+---------------+\n",
      "+-----------+---------------+\n",
      "| school    |   phi(school) |\n",
      "+===========+===============+\n",
      "| school(0) |        0.5000 |\n",
      "+-----------+---------------+\n",
      "| school(1) |        0.5000 |\n",
      "+-----------+---------------+\n"
     ]
    }
   ],
   "source": [
    "import pandas as pd\n",
    "from pgmpy.estimators import MaximumLikelihoodEstimator\n",
    "from pgmpy.models import BayesianNetwork\n",
    "from pgmpy.inference import VariableElimination\n",
    "from pgmpy.factors.discrete import TabularCPD\n",
    "\n",
    "model = BayesianNetwork([('course', 'pass'), ('school', 'pass'), ('pass', 'letter')]) \n",
    "cpd_couse = TabularCPD(variable='course', variable_card=3, values=[[1/3], [1/3], [1/3]])\n",
    "cpd_school = TabularCPD(variable='school', variable_card=2, values=[[0.75], [0.25]])\n",
    "cpd_pass = TabularCPD(variable='pass', variable_card=2,\n",
    "                      values=[[0.0, 1.0, 1/3, 1.0, 2/3, 1.0] , #yes\n",
    "                              [1.0, 0.0, 2/3, 0.0, 1/3, 0.0]], #no\n",
    "                      evidence=['course', 'school'], evidence_card=[3, 2])\n",
    "cpd_letter = TabularCPD(variable='letter', variable_card=2, \n",
    "                      values=[[5/6, 1/6],  #yes\n",
    "                              [1/6, 5/6]], #no\n",
    "                      evidence=['pass'], evidence_card=[2])\n",
    "\n",
    "model.add_cpds(cpd_couse)\n",
    "model.add_cpds(cpd_school)\n",
    "model.add_cpds(cpd_pass)\n",
    "model.add_cpds(cpd_letter)\n",
    "\n",
    "infer = VariableElimination(model)\n",
    "query_1 = infer.query(variables=['course'], evidence={'pass': 0}) #yes\n",
    "query_2 = infer.query(variables=['school'], evidence={'pass': 0}) #yes\n",
    "print(query_1)\n",
    "print(query_2)"
   ]
  }
 ],
 "metadata": {
  "kernelspec": {
   "display_name": "Python 3 (ipykernel)",
   "language": "python",
   "name": "python3"
  },
  "language_info": {
   "codemirror_mode": {
    "name": "ipython",
    "version": 3
   },
   "file_extension": ".py",
   "mimetype": "text/x-python",
   "name": "python",
   "nbconvert_exporter": "python",
   "pygments_lexer": "ipython3",
   "version": "3.8.19"
  }
 },
 "nbformat": 4,
 "nbformat_minor": 5
}
