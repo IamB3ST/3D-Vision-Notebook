{
 "cells": [
  {
   "cell_type": "markdown",
   "id": "4c0122cc-75d9-44ce-b042-610b13f07180",
   "metadata": {},
   "source": [
    "# Markov Random Field"
   ]
  },
  {
   "cell_type": "markdown",
   "id": "4c922c58-3ff2-4e77-aae9-7dcd64102cf9",
   "metadata": {},
   "source": [
    "<div style=\"display: flex; align-items: center;\">\n",
    "    <img src=\"../imgs/MRF.jpg\" alt=\"Your Image\" width=\"400\" style=\"margin-right: 20px;\">\n",
    "    <div>\n",
    "        <p>Markov Random Field (MRF) is a statistical model used to represent the dependency relationships between a set of variables, typically represented as nodes in a graph. It uses an undirected graph to represent the conditional independent relationships between a set of random variables, and each node in the graph represents one or more random variables. MRF can be used for various probability inference and learning tasks, especially in the fields of image processing and computer vision.</p>\n",
    "        <p>Markov Random Fields (MRFs) typically do not involve parameter learning or structure learning processes. MRFs are probabilistic graphical models used to describe relationships between random variables in a joint distribution, where nodes represent random variables and edges represent dependencies or conditional independencies between variables.</p>\n",
    "        <p>Parameters of an MRF are usually specified manually by domain experts based on specific domain knowledge and prior information, rather than learned from data. Similarly, structure learning is not common because the structure of an MRF is often determined by the characteristics of the problem and domain knowledge.</p>\n",
    "        <p>Although heuristic algorithms can be used to automatically infer the structure of an MRF, this approach is not common in practice because MRF structures are typically determined by problem characteristics and domain knowledge, rather than learned from data.</p>\n",
    "    </div>\n",
    "</div>"
   ]
  },
  {
   "cell_type": "code",
   "execution_count": 4,
   "id": "e59247b6-f48d-4966-ba93-910d4fb81493",
   "metadata": {},
   "outputs": [
    {
     "name": "stdout",
     "output_type": "stream",
     "text": [
      "   course       school pass letter\n",
      "0    math      science   No     No\n",
      "1    math      science   No     No\n",
      "2    math      science   No    Yes\n",
      "3    math  engineering  Yes    Yes\n",
      "4    stat      science   No     No\n",
      "5    stat      science   No     No\n",
      "6    stat      science  Yes    Yes\n",
      "7    stat  engineering  Yes    Yes\n",
      "8    comp      science   No     No\n",
      "9    comp      science  Yes    Yes\n",
      "10   comp      science  Yes     No\n",
      "11   comp  engineering  Yes    Yes\n"
     ]
    }
   ],
   "source": [
    "import pandas as pd\n",
    "\n",
    "data = pd.DataFrame(data={\n",
    "    'course': [\"math\", \"math\", \"math\", \"math\", \"stat\", \"stat\", \"stat\", \"stat\", \"comp\", \"comp\", \"comp\", \"comp\"], \n",
    "    'school': [\"science\", \"science\", \"science\", \"engineering\", \"science\", \"science\", \"science\", \"engineering\", \"science\", \"science\", \"science\", \"engineering\"], \n",
    "    'pass': [\"No\", \"No\", \"No\", \"Yes\", \"No\", \"No\", \"Yes\", \"Yes\", \"No\", \"Yes\", \"Yes\", \"Yes\"],\n",
    "    'letter':[\"No\", \"No\", \"Yes\", \"Yes\", \"No\", \"No\", \"Yes\", \"Yes\", \"No\", \"Yes\", \"No\", \"Yes\"]\n",
    "})\n",
    "\n",
    "print(data)"
   ]
  },
  {
   "cell_type": "code",
   "execution_count": 17,
   "id": "be1e112a",
   "metadata": {},
   "outputs": [
    {
     "name": "stdout",
     "output_type": "stream",
     "text": [
      "P(course | pass=Yes):\n",
      "+-----------+---------------+\n",
      "| course    |   phi(course) |\n",
      "+===========+===============+\n",
      "| course(0) |        0.1667 |\n",
      "+-----------+---------------+\n",
      "| course(1) |        0.3333 |\n",
      "+-----------+---------------+\n",
      "| course(2) |        0.5000 |\n",
      "+-----------+---------------+\n",
      "P(school | pass=Yes):\n",
      "+-----------+---------------+\n",
      "| school    |   phi(school) |\n",
      "+===========+===============+\n",
      "| school(0) |        0.5000 |\n",
      "+-----------+---------------+\n",
      "| school(1) |        0.5000 |\n",
      "+-----------+---------------+\n",
      "P(pass | letter=Yes):\n",
      "+---------+-------------+\n",
      "| pass    |   phi(pass) |\n",
      "+=========+=============+\n",
      "| pass(0) |      0.8333 |\n",
      "+---------+-------------+\n",
      "| pass(1) |      0.1667 |\n",
      "+---------+-------------+\n"
     ]
    }
   ],
   "source": [
    "from pgmpy.models import MarkovNetwork\n",
    "from pgmpy.factors.discrete import DiscreteFactor\n",
    "from pgmpy.inference import BeliefPropagation\n",
    "\n",
    "model = MarkovNetwork([('course', 'pass'), ('school', 'pass'), ('pass', 'letter')])\n",
    "\n",
    "factor1 = DiscreteFactor(['course', 'pass'], cardinality=[3, 2], \n",
    "                         values=[1/12, 1/4, 1/6, 1/6, 1/4, 1/12])\n",
    "factor2 = DiscreteFactor(['school', 'pass'], cardinality=[2, 2], \n",
    "                         values=[1/4, 1/2, 1/4, 0])\n",
    "factor3 = DiscreteFactor(['pass', 'letter'], cardinality=[2, 2], \n",
    "                         values=[5/12, 1/12, 1/12, 5/12])\n",
    "\n",
    "model.add_factors(factor1, factor2, factor3)\n",
    "assert model.check_model()\n",
    "\n",
    "belief_propagation = BeliefPropagation(model)\n",
    "\n",
    "result_pass_course = belief_propagation.query(variables=['course'], evidence={'pass': 0})\n",
    "result_pass_school = belief_propagation.query(variables=['school'], evidence={'pass': 0})\n",
    "result_letter_pass = belief_propagation.query(variables=['pass'], evidence={'letter': 0})\n",
    "\n",
    "print(\"P(course | pass=Yes):\")\n",
    "print(result_pass_course)\n",
    "print(\"P(school | pass=Yes):\")\n",
    "print(result_pass_school)\n",
    "print(\"P(pass | letter=Yes):\")\n",
    "print(result_letter_pass)"
   ]
  }
 ],
 "metadata": {
  "kernelspec": {
   "display_name": "bdl",
   "language": "python",
   "name": "bdl"
  },
  "language_info": {
   "codemirror_mode": {
    "name": "ipython",
    "version": 3
   },
   "file_extension": ".py",
   "mimetype": "text/x-python",
   "name": "python",
   "nbconvert_exporter": "python",
   "pygments_lexer": "ipython3",
   "version": "3.9.0"
  }
 },
 "nbformat": 4,
 "nbformat_minor": 5
}
