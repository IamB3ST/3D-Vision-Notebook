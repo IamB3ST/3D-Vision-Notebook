{
 "cells": [
  {
   "cell_type": "markdown",
   "id": "f81c5b7c",
   "metadata": {},
   "source": [
    "# Hidden Markov Model"
   ]
  },
  {
   "cell_type": "markdown",
   "id": "419f82d2",
   "metadata": {},
   "source": [
    "Hidden Markov Model (HMM) is used to describe a Markov process with hidden unknown parameters. Its characteristic is that it contains two sequences: observation and state. The observation sequence is visible, while the state sequence is invisible or hidden.\n",
    "\n",
    "HMM typically consists of the following components:\n",
    "\n",
    "**1.States**: The states in HMM are hidden and not directly observable. For example, in weather forecasting, the status can be `Rainy` and `Sunny`.\n",
    "\n",
    "**2.Observations**: These are what we can directly observe. For example, activities under the influence of weather can be `Walk`, `Shop`, and `Clean`.\n",
    "\n",
    "**3.Initial Probability Distribution**: Refers to the probability that the system is in a certain state at the initial moment. For example, at the beginning, there is a 60% chance of being `Rainy` and a 40% chance of being `Sunny`.\n",
    "\n",
    "**4.Transition probabilities**: Refers to the probability of transitioning from one state to another. For example, the probability of transitioning from `Rainy` to `Sunny` is 30%, and the probability of maintaining `Rainy` from `Rainy` is 70%.\n",
    "\n",
    "**5.Emission probabilities**: Refers to the probability that a certain state generates an observation value. For example, the probability of taking a `Walk` in `Rainy` state is 10%, the probability of `Shop` is 40%, and the probability of `Clean` is 50%."
   ]
  },
  {
   "cell_type": "markdown",
   "id": "5cf78c02",
   "metadata": {},
   "source": [
    "## Code implementation of HMM\n",
    "Here is a detailed annotated example showing how to use the hmmlearn library to implement a hidden Markov model:"
   ]
  },
  {
   "cell_type": "code",
   "execution_count": 9,
   "id": "5b71eab6",
   "metadata": {},
   "outputs": [
    {
     "name": "stderr",
     "output_type": "stream",
     "text": [
      "MultinomialHMM has undergone major changes. The previous version was implementing a CategoricalHMM (a special case of MultinomialHMM). This new implementation follows the standard definition for a Multinomial distribution (e.g. as in https://en.wikipedia.org/wiki/Multinomial_distribution). See these issues for details:\n",
      "https://github.com/hmmlearn/hmmlearn/issues/335\n",
      "https://github.com/hmmlearn/hmmlearn/issues/340\n",
      "MultinomialHMM has undergone major changes. The previous version was implementing a CategoricalHMM (a special case of MultinomialHMM). This new implementation follows the standard definition for a Multinomial distribution (e.g. as in https://en.wikipedia.org/wiki/Multinomial_distribution). See these issues for details:\n",
      "https://github.com/hmmlearn/hmmlearn/issues/335\n",
      "https://github.com/hmmlearn/hmmlearn/issues/340\n"
     ]
    },
    {
     "name": "stdout",
     "output_type": "stream",
     "text": [
      "Log Probability of the observed sequence: -5.8213119324661635\n",
      "Most likely hidden states sequence: Sunny, Sunny, Rainy, Sunny, Sunny\n",
      "------------------------------------------------------------------------\n",
      "Estimated start probability: [9.57259598e-20 1.00000000e+00]\n",
      "Estimated transition matrix: [[0.65495977 0.34504023]\n",
      " [0.34539725 0.65460275]]\n",
      "Estimated emission matrix: [[0.61085078 0.32157541 0.06757381]\n",
      " [0.097621   0.33815098 0.56422802]]\n"
     ]
    }
   ],
   "source": [
    "import numpy as np\n",
    "from hmmlearn import hmm\n",
    "\n",
    "states = ['Rainy', 'Sunny']\n",
    "n_states = len(states)\n",
    "\n",
    "observations = ['Walk', 'Shop', 'Clean']\n",
    "n_observations = len(observations)\n",
    "\n",
    "start_probability = np.array([0.6, 0.4])\n",
    "\n",
    "transition_probability = np.array([\n",
    "  [0.7, 0.3],  # Rainy -> [Rainy, Sunny]\n",
    "  [0.4, 0.6]   # Sunny -> [Rainy, Sunny]\n",
    "])\n",
    "\n",
    "emission_probability = np.array([\n",
    "  [0.1, 0.4, 0.5],  # Rainy -> [Walk, Shop, Clean]\n",
    "  [0.6, 0.3, 0.1]   # Sunny -> [Walk, Shop, Clean]\n",
    "])\n",
    "\n",
    "model = hmm.MultinomialHMM(n_components=n_states, n_trials=1)\n",
    "model.startprob_ = start_probability\n",
    "model.transmat_ = transition_probability\n",
    "model.emissionprob_ = emission_probability\n",
    "\n",
    "# Define observation sequence (Walk=0, Shop=1, Clean=2)\n",
    "observations_sequence = np.array([\n",
    "    [0, 1, 0], \n",
    "    [1, 0, 0],  \n",
    "    [0, 0, 1], \n",
    "    [1, 0, 0],\n",
    "    [0, 1, 0]  \n",
    "])\n",
    "\n",
    "# Evaluation: Calculate the probability of observing a sequence\n",
    "logprob = model.score(observations_sequence)\n",
    "print(f\"Log Probability of the observed sequence: {logprob}\")\n",
    "\n",
    "# Decoding: finding the most likely hidden state sequence\n",
    "hidden_states = model.predict(observations_sequence)\n",
    "print(\"Most likely hidden states sequence:\", \", \".join(map(lambda x: states[x], hidden_states)))\n",
    "print(\"------------------------------------------------------------------------\")\n",
    "\n",
    "# Learning: Estimating model parameters from observation sequences (using a simple example here)\n",
    "# Generate a random observation sequence\n",
    "X, Z = model.sample(100)\n",
    "\n",
    "learner = hmm.MultinomialHMM(n_components=n_states, n_iter=100)\n",
    "learner.fit(X)\n",
    "\n",
    "print(\"Estimated start probability:\", learner.startprob_)\n",
    "print(\"Estimated transition matrix:\", learner.transmat_)\n",
    "print(\"Estimated emission matrix:\", learner.emissionprob_)"
   ]
  }
 ],
 "metadata": {
  "kernelspec": {
   "display_name": "bdl",
   "language": "python",
   "name": "bdl"
  },
  "language_info": {
   "codemirror_mode": {
    "name": "ipython",
    "version": 3
   },
   "file_extension": ".py",
   "mimetype": "text/x-python",
   "name": "python",
   "nbconvert_exporter": "python",
   "pygments_lexer": "ipython3",
   "version": "3.9.0"
  }
 },
 "nbformat": 4,
 "nbformat_minor": 5
}
