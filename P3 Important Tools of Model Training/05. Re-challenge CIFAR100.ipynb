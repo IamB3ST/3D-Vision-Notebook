{
 "cells": [
  {
   "cell_type": "markdown",
   "id": "e87ecbc8-aa27-4f57-9ef8-d275d84fbc2e",
   "metadata": {
    "id": "e87ecbc8-aa27-4f57-9ef8-d275d84fbc2e"
   },
   "source": [
    "# Re-challenge CIFAR100\n",
    "\n",
    "In P1 chapter7, we use pretrained `wide_resnet50_2` to fine-tuning on CIFAR100, and finally got around 79% accuracy. In P3, we learned many useful techniques for model training and in this chapter, we try to use them make our results on CIFAR100 better without changing model."
   ]
  },
  {
   "cell_type": "markdown",
   "id": "20fd61ec-45a1-4283-9f12-9906dc3ec0e3",
   "metadata": {
    "id": "20fd61ec-45a1-4283-9f12-9906dc3ec0e3"
   },
   "source": [
    "## Load Model"
   ]
  },
  {
   "cell_type": "code",
   "execution_count": 1,
   "id": "e72ee7d7-1f4a-4258-b1d5-72ffd7677359",
   "metadata": {
    "id": "e72ee7d7-1f4a-4258-b1d5-72ffd7677359"
   },
   "outputs": [],
   "source": [
    "import torchvision.models as models\n",
    "import torch.nn as nn\n",
    "\n",
    "def init_model():\n",
    "    model = models.wide_resnet50_2(pretrained=True)\n",
    "    model.conv1 = nn.Conv2d(model.conv1.in_channels,\n",
    "                            model.conv1.out_channels,\n",
    "                            3, 1, 1)\n",
    "    model.maxpool = nn.Identity() # nn.Conv2d(64, 64, 1, 1, 1)\n",
    "    model.fc = nn.Linear(model.fc.in_features, 100)\n",
    "    return model"
   ]
  },
  {
   "cell_type": "markdown",
   "id": "111f96b0-a858-45e7-aa04-c5a890ffb54c",
   "metadata": {
    "id": "111f96b0-a858-45e7-aa04-c5a890ffb54c"
   },
   "source": [
    "## Label Smoothing"
   ]
  },
  {
   "cell_type": "code",
   "execution_count": 2,
   "id": "57844dc6-23dc-4aeb-be1b-f78d6f7de17e",
   "metadata": {
    "id": "57844dc6-23dc-4aeb-be1b-f78d6f7de17e"
   },
   "outputs": [],
   "source": [
    "import torch.nn as nn\n",
    "import torch.nn.functional as F\n",
    "\n",
    "class LabelSmoothCEloss(nn.Module):\n",
    "    def __init__(self):\n",
    "        super().__init__()\n",
    "\n",
    "    def forward(self,  pred,  label,  smoothing=0.1):\n",
    "        pred = F.softmax(pred,  dim=1)\n",
    "        one_hot_label = F.one_hot(label, pred.size(1)).float()\n",
    "        smoothed_one_hot_label = (1.0 - smoothing)  *  one_hot_label + smoothing / pred.size(1)\n",
    "        loss = (-torch.log(pred))  *  smoothed_one_hot_label\n",
    "        loss = loss.sum(axis=1,  keepdim=False)\n",
    "        loss = loss.mean()\n",
    "        return loss"
   ]
  },
  {
   "cell_type": "markdown",
   "id": "097f20b6-d47d-4cf2-8cb6-c210dd8b68cb",
   "metadata": {
    "id": "097f20b6-d47d-4cf2-8cb6-c210dd8b68cb"
   },
   "source": [
    "## Cutmix"
   ]
  },
  {
   "cell_type": "code",
   "execution_count": 3,
   "id": "a554b0d5-1b93-4c30-9277-87fc519f0f25",
   "metadata": {
    "id": "a554b0d5-1b93-4c30-9277-87fc519f0f25"
   },
   "outputs": [],
   "source": [
    "import torch\n",
    "import numpy as np\n",
    "\n",
    "\n",
    "def cutmix(data, targets, alpha=1.0):\n",
    "    indices = torch.randperm(data.size(0))\n",
    "    shuffled_data = data[indices]\n",
    "    shuffled_targets = targets[indices]\n",
    "\n",
    "    lam = np.random.beta(alpha, alpha)\n",
    "\n",
    "    bbx1, bby1, bbx2, bby2 = rand_bbox(data.size(), lam)\n",
    "    new_data = data.clone()\n",
    "    new_data[:, :, bbx1:bbx2, bby1:bby2] = shuffled_data[:, :, bbx1:bbx2, bby1:bby2]\n",
    "\n",
    "    lam = 1 - ((bbx2 - bbx1) * (bby2 - bby1) / (data.size(-1) * data.size(-2)))\n",
    "\n",
    "    targets = (targets, shuffled_targets, lam)\n",
    "    return new_data, targets\n",
    "\n",
    "\n",
    "def rand_bbox(size, lam):\n",
    "    W = size[2]\n",
    "    H = size[3]\n",
    "    cut_rat = np.sqrt(1. - lam)\n",
    "    cut_w = int(W * cut_rat)\n",
    "    cut_h = int(H * cut_rat)\n",
    "\n",
    "    cx = np.random.randint(W)\n",
    "    cy = np.random.randint(H)\n",
    "\n",
    "    bbx1 = np.clip(cx - cut_w // 2, 0, W)\n",
    "    bby1 = np.clip(cy - cut_h // 2, 0, H)\n",
    "    bbx2 = np.clip(cx + cut_w // 2, 0, W)\n",
    "    bby2 = np.clip(cy + cut_h // 2, 0, H)\n",
    "    return bbx1, bby1, bbx2, bby2\n",
    "\n",
    "\n",
    "def cutmix_loss(criterion, outputs, targets):\n",
    "    targets, shuffled_targets, lam = targets\n",
    "    loss = lam * criterion(outputs, targets) + (1 - lam) * criterion(outputs, shuffled_targets)\n",
    "    return loss"
   ]
  },
  {
   "cell_type": "markdown",
   "id": "2eb42a70-5ba4-4ecb-b00f-e4684142a1cc",
   "metadata": {
    "id": "2eb42a70-5ba4-4ecb-b00f-e4684142a1cc"
   },
   "source": [
    "## Train Function"
   ]
  },
  {
   "cell_type": "code",
   "execution_count": 4,
   "id": "79160450-f553-4b52-857b-fd87e2bf844b",
   "metadata": {
    "id": "79160450-f553-4b52-857b-fd87e2bf844b"
   },
   "outputs": [],
   "source": [
    "import torch\n",
    "import torch.nn as nn\n",
    "import torch.optim as optim\n",
    "import torchvision\n",
    "import numpy as np\n",
    "import random\n",
    "from torch.cuda.amp import GradScaler, autocast\n",
    "from torch.optim.lr_scheduler import LambdaLR, CosineAnnealingLR\n",
    "from tqdm import tqdm\n",
    "import matplotlib.pyplot as plt\n",
    "import datetime\n",
    "\n",
    "\n",
    "class cifar100_trainer_v2:\n",
    "    def __init__(self, model, batch_size, epoch, train_transforms, test_transforms, seed=1234):\n",
    "        self.model = model\n",
    "        self.epoch = epoch\n",
    "\n",
    "        self.train_losses = []\n",
    "        self.val_losses = []\n",
    "        self.val_accuracies = []\n",
    "\n",
    "        \"\"\"load model, loss_fn and optimizer\"\"\"\n",
    "        if torch.cuda.is_available():\n",
    "            self.model = self.model.cuda()\n",
    "        self.scaler = GradScaler()\n",
    "\n",
    "        \"\"\"download and allocate data\"\"\"\n",
    "        ROOT = '.data'\n",
    "        train_valid_data = torchvision.datasets.CIFAR100(root=ROOT, train=True, download=True, transform=train_transforms)\n",
    "        test_data = torchvision.datasets.CIFAR100(root=ROOT, train=False, download=False, transform=test_transforms)\n",
    "\n",
    "        VALID_RATE = 0.2\n",
    "        n_train = int(len(train_valid_data) * (1 - VALID_RATE))\n",
    "        n_valid = len(train_valid_data) - n_train\n",
    "        train_data, valid_data = torch.utils.data.random_split(train_valid_data, [n_train, n_valid])\n",
    "\n",
    "        \"\"\"load data\"\"\"\n",
    "        self.train_dataloader = torch.utils.data.DataLoader(train_data, shuffle=True, batch_size=batch_size)\n",
    "        self.valid_dataloader = torch.utils.data.DataLoader(valid_data, batch_size=batch_size)\n",
    "        self.test_dataloader = torch.utils.data.DataLoader(test_data, batch_size=batch_size)\n",
    "\n",
    "        \"\"\"set the seed\"\"\"\n",
    "        random.seed(seed)\n",
    "        np.random.seed(seed)\n",
    "        torch.manual_seed(seed)\n",
    "        torch.cuda.manual_seed(seed)\n",
    "        torch.backends.cudnn.deterministic = True\n",
    "\n",
    "    def train(self):\n",
    "        criterion = LabelSmoothCEloss()\n",
    "        if torch.cuda.is_available():\n",
    "            criterion = criterion.cuda()\n",
    "        optimizer = optim.Adam(model.parameters(), lr=0.001)\n",
    "\n",
    "        def lr_lambda(epoch):\n",
    "            warmup_epochs = 10\n",
    "            if epoch < warmup_epochs:\n",
    "                return (epoch + 1) / float(warmup_epochs)\n",
    "            else:\n",
    "                return 0.1 ** ((epoch - warmup_epochs) / 10)\n",
    "\n",
    "        scheduler_warmup = LambdaLR(optimizer, lr_lambda, last_epoch=-1)\n",
    "        T_max = 10\n",
    "        eta_min = 0\n",
    "\n",
    "        for epoch in range(self.epoch):\n",
    "            print('=' * 135)\n",
    "            print(datetime.datetime.now().strftime('%Y-%m-%d %H:%M:%S'))\n",
    "            print(f\"Epoch {epoch + 1} / {self.epoch}\")\n",
    "            self.model.train()\n",
    "            train_bar = tqdm(self.train_dataloader, desc=\"[Train]\", ncols=90)\n",
    "            train_losses = []\n",
    "\n",
    "            if epoch < 10:\n",
    "                scheduler_warmup.step()\n",
    "            else:\n",
    "                scheduler_cosine = CosineAnnealingLR(optimizer, T_max=T_max, eta_min=eta_min, last_epoch=epoch-1)\n",
    "                scheduler_cosine.step()\n",
    "\n",
    "            for inputs, targets in train_bar:\n",
    "                if torch.cuda.is_available():\n",
    "                    inputs, targets = inputs.cuda(), targets.cuda()\n",
    "                inputs, targets = cutmix(inputs, targets)\n",
    "                optimizer.zero_grad()\n",
    "                with autocast(enabled=torch.cuda.is_available()):\n",
    "                    outputs = self.model(inputs)\n",
    "                    loss = cutmix_loss(criterion, outputs, targets)\n",
    "\n",
    "                self.scaler.scale(loss).backward()\n",
    "                self.scaler.step(optimizer)\n",
    "                self.scaler.update()\n",
    "                train_losses.append(loss.item())\n",
    "                train_bar.set_postfix(train_loss=sum(train_losses) / len(train_bar))\n",
    "            train_bar.close()\n",
    "            self.train_losses.append(sum(train_losses) / len(train_bar))\n",
    "\n",
    "            self.model.eval()\n",
    "            valid_loss = 0\n",
    "            valid_accuracy = 0\n",
    "            valid_samples = 0\n",
    "            valid_bar = tqdm(self.valid_dataloader, desc=\"[Valid]\", ncols=100)\n",
    "            with torch.no_grad():\n",
    "                for inputs, targets in valid_bar:\n",
    "                    if torch.cuda.is_available():\n",
    "                        inputs, targets = inputs.cuda(), targets.cuda()\n",
    "                    outputs = self.model(inputs)\n",
    "                    loss = criterion(outputs, targets)\n",
    "\n",
    "                    valid_loss += loss.item()\n",
    "                    pred = outputs.argmax(1)\n",
    "                    correct = (pred == targets).sum().item()\n",
    "                    valid_accuracy += correct\n",
    "                    valid_samples += targets.size(0)\n",
    "                    val_loss = valid_loss / valid_samples\n",
    "                    val_acc = valid_accuracy / valid_samples\n",
    "                    valid_bar.set_postfix(val_loss=val_loss, val_acc=val_acc * 100)\n",
    "\n",
    "            valid_bar.close()\n",
    "            self.val_losses.append(val_loss)\n",
    "            self.val_accuracies.append(val_acc)\n",
    "\n",
    "        self.plot_training()\n",
    "\n",
    "    def plot_training(self):\n",
    "        plt.figure(figsize=(10, 5))\n",
    "        plt.plot(range(1, self.epoch + 1), self.train_losses, label='Train Loss')\n",
    "        plt.plot(range(1, self.epoch + 1), self.val_losses, label='Val Loss')\n",
    "        plt.plot(range(1, self.epoch + 1), self.val_accuracies, label='Val Accuracy')\n",
    "        plt.xlabel('Epoch')\n",
    "        plt.ylabel('Metrics')\n",
    "        plt.title('Training Progress')\n",
    "        plt.legend()\n",
    "        plt.show()\n",
    "\n",
    "    def test(self):\n",
    "        criterion = LabelSmoothCEloss()\n",
    "        if torch.cuda.is_available():\n",
    "            criterion = criterion.cuda()\n",
    "        self.model.eval()\n",
    "        total_test_loss = 0\n",
    "        total_test_accuracy = 0\n",
    "        num_samples = 0\n",
    "        test_bar = tqdm(self.test_dataloader, desc=\"Testing [Test]\")\n",
    "        with torch.no_grad():\n",
    "            for inputs, targets in test_bar:\n",
    "                if torch.cuda.is_available():\n",
    "                    inputs = inputs.cuda()\n",
    "                    targets = targets.cuda()\n",
    "                outputs = self.model(inputs)\n",
    "                loss = criterion(outputs, targets)\n",
    "\n",
    "                total_test_loss += loss.item()\n",
    "                accuracy = (outputs.argmax(1) == targets).sum().item()\n",
    "                total_test_accuracy += accuracy\n",
    "                num_samples += len(inputs)\n",
    "                test_bar.set_postfix(test_loss=total_test_loss / num_samples,\n",
    "                                     test_acc=total_test_accuracy / num_samples * 100)\n",
    "                test_bar.update()\n",
    "        test_bar.close()"
   ]
  },
  {
   "cell_type": "markdown",
   "id": "2a8d030f-5abc-4526-a71c-1c93f6e55833",
   "metadata": {
    "id": "l80yw6VO45vJ"
   },
   "source": [
    "## Start Training"
   ]
  },
  {
   "cell_type": "code",
   "execution_count": null,
   "id": "1834bdcb-61f9-4f13-8b09-308eb2061471",
   "metadata": {
    "colab": {
     "base_uri": "https://localhost:8080/"
    },
    "id": "1834bdcb-61f9-4f13-8b09-308eb2061471",
    "outputId": "119a5b9d-42fd-4a39-d87b-3a565c6ba010"
   },
   "outputs": [
    {
     "name": "stdout",
     "output_type": "stream",
     "text": [
      "Files already downloaded and verified\n",
      "=======================================================================================================================================\n",
      "2024-06-01 15:10:10\n",
      "Epoch 1 / 200\n"
     ]
    },
    {
     "name": "stderr",
     "output_type": "stream",
     "text": [
      "[Train]: 100%|██████████████████████████| 157/157 [02:07<00:00,  1.23it/s, train_loss=4.4]\n",
      "[Valid]: 100%|███████████████████████| 40/40 [00:28<00:00,  1.38it/s, val_acc=12.6, val_loss=0.0158]\n"
     ]
    },
    {
     "name": "stdout",
     "output_type": "stream",
     "text": [
      "=======================================================================================================================================\n",
      "2024-06-01 15:12:47\n",
      "Epoch 2 / 200\n"
     ]
    },
    {
     "name": "stderr",
     "output_type": "stream",
     "text": [
      "[Train]: 100%|█████████████████████████| 157/157 [02:07<00:00,  1.23it/s, train_loss=4.16]\n",
      "[Valid]: 100%|███████████████████████| 40/40 [00:28<00:00,  1.42it/s, val_acc=19.2, val_loss=0.0146]\n"
     ]
    },
    {
     "name": "stdout",
     "output_type": "stream",
     "text": [
      "=======================================================================================================================================\n",
      "2024-06-01 15:15:22\n",
      "Epoch 3 / 200\n"
     ]
    },
    {
     "name": "stderr",
     "output_type": "stream",
     "text": [
      "[Train]: 100%|█████████████████████████| 157/157 [02:07<00:00,  1.23it/s, train_loss=3.98]\n",
      "[Valid]: 100%|███████████████████████| 40/40 [00:28<00:00,  1.42it/s, val_acc=25.1, val_loss=0.0135]\n"
     ]
    },
    {
     "name": "stdout",
     "output_type": "stream",
     "text": [
      "=======================================================================================================================================\n",
      "2024-06-01 15:17:58\n",
      "Epoch 4 / 200\n"
     ]
    },
    {
     "name": "stderr",
     "output_type": "stream",
     "text": [
      "[Train]: 100%|█████████████████████████| 157/157 [02:07<00:00,  1.23it/s, train_loss=3.87]\n",
      "[Valid]: 100%|█████████████████████████| 40/40 [00:28<00:00,  1.40it/s, val_acc=25, val_loss=0.0138]\n"
     ]
    },
    {
     "name": "stdout",
     "output_type": "stream",
     "text": [
      "=======================================================================================================================================\n",
      "2024-06-01 15:20:34\n",
      "Epoch 5 / 200\n"
     ]
    },
    {
     "name": "stderr",
     "output_type": "stream",
     "text": [
      "[Train]: 100%|█████████████████████████| 157/157 [02:06<00:00,  1.24it/s, train_loss=3.78]\n",
      "[Valid]: 100%|███████████████████████| 40/40 [00:27<00:00,  1.43it/s, val_acc=28.2, val_loss=0.0132]\n"
     ]
    },
    {
     "name": "stdout",
     "output_type": "stream",
     "text": [
      "=======================================================================================================================================\n",
      "2024-06-01 15:23:09\n",
      "Epoch 6 / 200\n"
     ]
    },
    {
     "name": "stderr",
     "output_type": "stream",
     "text": [
      "[Train]: 100%|█████████████████████████| 157/157 [02:06<00:00,  1.24it/s, train_loss=3.78]\n",
      "[Valid]: 100%|███████████████████████| 40/40 [00:28<00:00,  1.42it/s, val_acc=29.7, val_loss=0.0129]\n"
     ]
    },
    {
     "name": "stdout",
     "output_type": "stream",
     "text": [
      "=======================================================================================================================================\n",
      "2024-06-01 15:25:44\n",
      "Epoch 7 / 200\n"
     ]
    },
    {
     "name": "stderr",
     "output_type": "stream",
     "text": [
      "[Train]: 100%|█████████████████████████| 157/157 [02:06<00:00,  1.24it/s, train_loss=3.73]\n",
      "[Valid]: 100%|███████████████████████| 40/40 [00:28<00:00,  1.39it/s, val_acc=29.4, val_loss=0.0129]\n"
     ]
    },
    {
     "name": "stdout",
     "output_type": "stream",
     "text": [
      "=======================================================================================================================================\n",
      "2024-06-01 15:28:20\n",
      "Epoch 8 / 200\n"
     ]
    },
    {
     "name": "stderr",
     "output_type": "stream",
     "text": [
      "[Train]: 100%|█████████████████████████| 157/157 [02:06<00:00,  1.24it/s, train_loss=3.71]\n",
      "[Valid]: 100%|███████████████████████| 40/40 [00:27<00:00,  1.43it/s, val_acc=31.3, val_loss=0.0128]\n"
     ]
    },
    {
     "name": "stdout",
     "output_type": "stream",
     "text": [
      "=======================================================================================================================================\n",
      "2024-06-01 15:30:54\n",
      "Epoch 9 / 200\n"
     ]
    },
    {
     "name": "stderr",
     "output_type": "stream",
     "text": [
      "[Train]: 100%|█████████████████████████| 157/157 [02:06<00:00,  1.24it/s, train_loss=3.69]\n",
      "[Valid]: 100%|█████████████████████████| 40/40 [00:27<00:00,  1.43it/s, val_acc=32, val_loss=0.0127]\n"
     ]
    },
    {
     "name": "stdout",
     "output_type": "stream",
     "text": [
      "=======================================================================================================================================\n",
      "2024-06-01 15:33:29\n",
      "Epoch 10 / 200\n"
     ]
    },
    {
     "name": "stderr",
     "output_type": "stream",
     "text": [
      "[Train]: 100%|█████████████████████████| 157/157 [02:07<00:00,  1.24it/s, train_loss=3.62]\n",
      "[Valid]: 100%|███████████████████████| 40/40 [00:28<00:00,  1.42it/s, val_acc=31.9, val_loss=0.0126]\n"
     ]
    },
    {
     "name": "stdout",
     "output_type": "stream",
     "text": [
      "=======================================================================================================================================\n",
      "2024-06-01 15:36:04\n",
      "Epoch 11 / 200\n"
     ]
    },
    {
     "name": "stderr",
     "output_type": "stream",
     "text": [
      "[Train]: 100%|█████████████████████████| 157/157 [02:06<00:00,  1.24it/s, train_loss=3.52]\n",
      "[Valid]: 100%|███████████████████████| 40/40 [00:28<00:00,  1.41it/s, val_acc=40.9, val_loss=0.0112]\n"
     ]
    },
    {
     "name": "stdout",
     "output_type": "stream",
     "text": [
      "=======================================================================================================================================\n",
      "2024-06-01 15:38:38\n",
      "Epoch 12 / 200\n"
     ]
    },
    {
     "name": "stderr",
     "output_type": "stream",
     "text": [
      "[Train]: 100%|█████████████████████████| 157/157 [02:06<00:00,  1.24it/s, train_loss=3.38]\n",
      "[Valid]: 100%|███████████████████████| 40/40 [00:27<00:00,  1.43it/s, val_acc=43.8, val_loss=0.0106]\n"
     ]
    },
    {
     "name": "stdout",
     "output_type": "stream",
     "text": [
      "=======================================================================================================================================\n",
      "2024-06-01 15:41:13\n",
      "Epoch 13 / 200\n"
     ]
    },
    {
     "name": "stderr",
     "output_type": "stream",
     "text": [
      "[Train]: 100%|█████████████████████████| 157/157 [02:07<00:00,  1.23it/s, train_loss=3.34]\n",
      "[Valid]: 100%|███████████████████████| 40/40 [00:28<00:00,  1.42it/s, val_acc=45.6, val_loss=0.0105]\n"
     ]
    },
    {
     "name": "stdout",
     "output_type": "stream",
     "text": [
      "=======================================================================================================================================\n",
      "2024-06-01 15:43:48\n",
      "Epoch 14 / 200\n"
     ]
    },
    {
     "name": "stderr",
     "output_type": "stream",
     "text": [
      "[Train]: 100%|█████████████████████████| 157/157 [02:06<00:00,  1.25it/s, train_loss=3.36]\n",
      "[Valid]: 100%|███████████████████████| 40/40 [00:28<00:00,  1.41it/s, val_acc=43.5, val_loss=0.0106]\n"
     ]
    },
    {
     "name": "stdout",
     "output_type": "stream",
     "text": [
      "=======================================================================================================================================\n",
      "2024-06-01 15:46:23\n",
      "Epoch 15 / 200\n"
     ]
    },
    {
     "name": "stderr",
     "output_type": "stream",
     "text": [
      "[Train]: 100%|██████████████████████████| 157/157 [02:06<00:00,  1.24it/s, train_loss=3.4]\n",
      "[Valid]: 100%|███████████████████████| 40/40 [00:28<00:00,  1.43it/s, val_acc=42.3, val_loss=0.0109]\n"
     ]
    },
    {
     "name": "stdout",
     "output_type": "stream",
     "text": [
      "=======================================================================================================================================\n",
      "2024-06-01 15:48:58\n",
      "Epoch 16 / 200\n"
     ]
    },
    {
     "name": "stderr",
     "output_type": "stream",
     "text": [
      "[Train]: 100%|█████████████████████████| 157/157 [02:07<00:00,  1.23it/s, train_loss=3.39]\n",
      "[Valid]: 100%|██████████████████████████| 40/40 [00:28<00:00,  1.41it/s, val_acc=42, val_loss=0.011]\n"
     ]
    },
    {
     "name": "stdout",
     "output_type": "stream",
     "text": [
      "=======================================================================================================================================\n",
      "2024-06-01 15:51:33\n",
      "Epoch 17 / 200\n"
     ]
    },
    {
     "name": "stderr",
     "output_type": "stream",
     "text": [
      "[Train]: 100%|█████████████████████████| 157/157 [02:06<00:00,  1.24it/s, train_loss=3.47]\n",
      "[Valid]: 100%|███████████████████████| 40/40 [00:27<00:00,  1.43it/s, val_acc=39.5, val_loss=0.0113]\n"
     ]
    },
    {
     "name": "stdout",
     "output_type": "stream",
     "text": [
      "=======================================================================================================================================\n",
      "2024-06-01 15:54:08\n",
      "Epoch 18 / 200\n"
     ]
    },
    {
     "name": "stderr",
     "output_type": "stream",
     "text": [
      "[Train]: 100%|█████████████████████████| 157/157 [02:06<00:00,  1.24it/s, train_loss=3.47]\n",
      "[Valid]: 100%|███████████████████████| 40/40 [00:27<00:00,  1.44it/s, val_acc=40.3, val_loss=0.0114]\n"
     ]
    },
    {
     "name": "stdout",
     "output_type": "stream",
     "text": [
      "=======================================================================================================================================\n",
      "2024-06-01 15:56:42\n",
      "Epoch 19 / 200\n"
     ]
    },
    {
     "name": "stderr",
     "output_type": "stream",
     "text": [
      "[Train]: 100%|█████████████████████████| 157/157 [02:06<00:00,  1.24it/s, train_loss=3.44]\n",
      "[Valid]: 100%|███████████████████████| 40/40 [00:27<00:00,  1.43it/s, val_acc=37.1, val_loss=0.0117]\n"
     ]
    },
    {
     "name": "stdout",
     "output_type": "stream",
     "text": [
      "=======================================================================================================================================\n",
      "2024-06-01 15:59:16\n",
      "Epoch 20 / 200\n"
     ]
    },
    {
     "name": "stderr",
     "output_type": "stream",
     "text": [
      "[Train]: 100%|█████████████████████████| 157/157 [02:06<00:00,  1.24it/s, train_loss=3.46]\n",
      "[Valid]: 100%|███████████████████████| 40/40 [00:27<00:00,  1.44it/s, val_acc=40.8, val_loss=0.0112]\n"
     ]
    },
    {
     "name": "stdout",
     "output_type": "stream",
     "text": [
      "=======================================================================================================================================\n",
      "2024-06-01 16:01:51\n",
      "Epoch 21 / 200\n"
     ]
    },
    {
     "name": "stderr",
     "output_type": "stream",
     "text": [
      "[Train]: 100%|██████████████████████████| 157/157 [02:06<00:00,  1.24it/s, train_loss=3.4]\n",
      "[Valid]: 100%|███████████████████████| 40/40 [00:27<00:00,  1.43it/s, val_acc=41.6, val_loss=0.0112]\n"
     ]
    },
    {
     "name": "stdout",
     "output_type": "stream",
     "text": [
      "=======================================================================================================================================\n",
      "2024-06-01 16:04:25\n",
      "Epoch 22 / 200\n"
     ]
    },
    {
     "name": "stderr",
     "output_type": "stream",
     "text": [
      "[Train]: 100%|█████████████████████████| 157/157 [02:06<00:00,  1.24it/s, train_loss=3.38]\n",
      "[Valid]: 100%|█████████████████████████| 40/40 [00:27<00:00,  1.43it/s, val_acc=43, val_loss=0.0109]\n"
     ]
    },
    {
     "name": "stdout",
     "output_type": "stream",
     "text": [
      "=======================================================================================================================================\n",
      "2024-06-01 16:06:59\n",
      "Epoch 23 / 200\n"
     ]
    },
    {
     "name": "stderr",
     "output_type": "stream",
     "text": [
      "[Train]: 100%|█████████████████████████| 157/157 [02:06<00:00,  1.24it/s, train_loss=3.29]\n",
      "[Valid]: 100%|███████████████████████| 40/40 [00:28<00:00,  1.43it/s, val_acc=44.4, val_loss=0.0106]\n"
     ]
    },
    {
     "name": "stdout",
     "output_type": "stream",
     "text": [
      "=======================================================================================================================================\n",
      "2024-06-01 16:09:34\n",
      "Epoch 24 / 200\n"
     ]
    },
    {
     "name": "stderr",
     "output_type": "stream",
     "text": [
      "[Train]: 100%|█████████████████████████| 157/157 [02:05<00:00,  1.25it/s, train_loss=3.28]\n",
      "[Valid]: 100%|███████████████████████| 40/40 [00:28<00:00,  1.41it/s, val_acc=47.4, val_loss=0.0102]\n"
     ]
    },
    {
     "name": "stdout",
     "output_type": "stream",
     "text": [
      "=======================================================================================================================================\n",
      "2024-06-01 16:12:08\n",
      "Epoch 25 / 200\n"
     ]
    },
    {
     "name": "stderr",
     "output_type": "stream",
     "text": [
      "[Train]: 100%|█████████████████████████| 157/157 [02:05<00:00,  1.25it/s, train_loss=3.19]\n",
      "[Valid]: 100%|█████████████████████████| 40/40 [00:27<00:00,  1.44it/s, val_acc=49.1, val_loss=0.01]\n"
     ]
    },
    {
     "name": "stdout",
     "output_type": "stream",
     "text": [
      "=======================================================================================================================================\n",
      "2024-06-01 16:14:42\n",
      "Epoch 26 / 200\n"
     ]
    },
    {
     "name": "stderr",
     "output_type": "stream",
     "text": [
      "[Train]: 100%|█████████████████████████| 157/157 [02:05<00:00,  1.25it/s, train_loss=3.12]\n",
      "[Valid]: 100%|██████████████████████| 40/40 [00:27<00:00,  1.44it/s, val_acc=51.4, val_loss=0.00968]\n"
     ]
    },
    {
     "name": "stdout",
     "output_type": "stream",
     "text": [
      "=======================================================================================================================================\n",
      "2024-06-01 16:17:16\n",
      "Epoch 27 / 200\n"
     ]
    },
    {
     "name": "stderr",
     "output_type": "stream",
     "text": [
      "[Train]: 100%|█████████████████████████| 157/157 [02:06<00:00,  1.24it/s, train_loss=3.05]\n",
      "[Valid]: 100%|██████████████████████| 40/40 [00:27<00:00,  1.45it/s, val_acc=53.1, val_loss=0.00946]\n"
     ]
    },
    {
     "name": "stdout",
     "output_type": "stream",
     "text": [
      "=======================================================================================================================================\n",
      "2024-06-01 16:19:50\n",
      "Epoch 28 / 200\n"
     ]
    },
    {
     "name": "stderr",
     "output_type": "stream",
     "text": [
      "[Train]: 100%|█████████████████████████| 157/157 [02:06<00:00,  1.25it/s, train_loss=3.05]\n",
      "[Valid]: 100%|███████████████████████| 40/40 [00:27<00:00,  1.45it/s, val_acc=54.4, val_loss=0.0092]\n"
     ]
    },
    {
     "name": "stdout",
     "output_type": "stream",
     "text": [
      "=======================================================================================================================================\n",
      "2024-06-01 16:22:23\n",
      "Epoch 29 / 200\n"
     ]
    },
    {
     "name": "stderr",
     "output_type": "stream",
     "text": [
      "[Train]: 100%|█████████████████████████| 157/157 [02:05<00:00,  1.25it/s, train_loss=2.96]\n",
      "[Valid]: 100%|██████████████████████| 40/40 [00:27<00:00,  1.44it/s, val_acc=54.7, val_loss=0.00918]\n"
     ]
    },
    {
     "name": "stdout",
     "output_type": "stream",
     "text": [
      "=======================================================================================================================================\n",
      "2024-06-01 16:24:57\n",
      "Epoch 30 / 200\n"
     ]
    },
    {
     "name": "stderr",
     "output_type": "stream",
     "text": [
      "[Train]: 100%|████████████████████████████| 157/157 [02:06<00:00,  1.24it/s, train_loss=3]\n",
      "[Valid]: 100%|██████████████████████| 40/40 [00:28<00:00,  1.42it/s, val_acc=54.3, val_loss=0.00927]\n"
     ]
    },
    {
     "name": "stdout",
     "output_type": "stream",
     "text": [
      "=======================================================================================================================================\n",
      "2024-06-01 16:27:31\n",
      "Epoch 31 / 200\n"
     ]
    },
    {
     "name": "stderr",
     "output_type": "stream",
     "text": [
      "[Train]: 100%|█████████████████████████| 157/157 [02:05<00:00,  1.25it/s, train_loss=3.04]\n",
      "[Valid]: 100%|███████████████████████| 40/40 [00:28<00:00,  1.41it/s, val_acc=54.9, val_loss=0.0092]\n"
     ]
    },
    {
     "name": "stdout",
     "output_type": "stream",
     "text": [
      "=======================================================================================================================================\n",
      "2024-06-01 16:30:05\n",
      "Epoch 32 / 200\n"
     ]
    },
    {
     "name": "stderr",
     "output_type": "stream",
     "text": [
      "[Train]: 100%|█████████████████████████| 157/157 [02:05<00:00,  1.25it/s, train_loss=2.95]\n",
      "[Valid]: 100%|██████████████████████| 40/40 [00:27<00:00,  1.44it/s, val_acc=54.9, val_loss=0.00914]\n"
     ]
    },
    {
     "name": "stdout",
     "output_type": "stream",
     "text": [
      "=======================================================================================================================================\n",
      "2024-06-01 16:32:39\n",
      "Epoch 33 / 200\n"
     ]
    },
    {
     "name": "stderr",
     "output_type": "stream",
     "text": [
      "[Train]: 100%|█████████████████████████| 157/157 [02:06<00:00,  1.24it/s, train_loss=2.95]\n",
      "[Valid]: 100%|██████████████████████| 40/40 [00:28<00:00,  1.43it/s, val_acc=54.2, val_loss=0.00919]\n"
     ]
    },
    {
     "name": "stdout",
     "output_type": "stream",
     "text": [
      "=======================================================================================================================================\n",
      "2024-06-01 16:35:13\n",
      "Epoch 34 / 200\n"
     ]
    },
    {
     "name": "stderr",
     "output_type": "stream",
     "text": [
      "[Train]: 100%|█████████████████████████| 157/157 [02:06<00:00,  1.24it/s, train_loss=3.05]\n",
      "[Valid]: 100%|████████████████████████| 40/40 [00:27<00:00,  1.44it/s, val_acc=52, val_loss=0.00949]\n"
     ]
    },
    {
     "name": "stdout",
     "output_type": "stream",
     "text": [
      "=======================================================================================================================================\n",
      "2024-06-01 16:37:47\n",
      "Epoch 35 / 200\n"
     ]
    },
    {
     "name": "stderr",
     "output_type": "stream",
     "text": [
      "[Train]: 100%|█████████████████████████| 157/157 [02:05<00:00,  1.25it/s, train_loss=3.12]\n",
      "[Valid]: 100%|██████████████████████| 40/40 [00:28<00:00,  1.41it/s, val_acc=51.3, val_loss=0.00962]\n"
     ]
    },
    {
     "name": "stdout",
     "output_type": "stream",
     "text": [
      "=======================================================================================================================================\n",
      "2024-06-01 16:40:21\n",
      "Epoch 36 / 200\n"
     ]
    },
    {
     "name": "stderr",
     "output_type": "stream",
     "text": [
      "[Train]: 100%|█████████████████████████| 157/157 [02:06<00:00,  1.25it/s, train_loss=3.17]\n",
      "[Valid]: 100%|███████████████████████| 40/40 [00:27<00:00,  1.44it/s, val_acc=48.4, val_loss=0.0102]\n"
     ]
    },
    {
     "name": "stdout",
     "output_type": "stream",
     "text": [
      "=======================================================================================================================================\n",
      "2024-06-01 16:42:55\n",
      "Epoch 37 / 200\n"
     ]
    },
    {
     "name": "stderr",
     "output_type": "stream",
     "text": [
      "[Train]: 100%|█████████████████████████| 157/157 [02:06<00:00,  1.24it/s, train_loss=3.19]\n",
      "[Valid]: 100%|███████████████████████| 40/40 [00:27<00:00,  1.43it/s, val_acc=47.3, val_loss=0.0102]\n"
     ]
    },
    {
     "name": "stdout",
     "output_type": "stream",
     "text": [
      "=======================================================================================================================================\n",
      "2024-06-01 16:45:30\n",
      "Epoch 38 / 200\n"
     ]
    },
    {
     "name": "stderr",
     "output_type": "stream",
     "text": [
      "[Train]: 100%|█████████████████████████| 157/157 [02:06<00:00,  1.24it/s, train_loss=3.21]\n",
      "[Valid]: 100%|███████████████████████| 40/40 [00:27<00:00,  1.45it/s, val_acc=47.6, val_loss=0.0102]\n"
     ]
    },
    {
     "name": "stdout",
     "output_type": "stream",
     "text": [
      "=======================================================================================================================================\n",
      "2024-06-01 16:48:03\n",
      "Epoch 39 / 200\n"
     ]
    },
    {
     "name": "stderr",
     "output_type": "stream",
     "text": [
      "[Train]: 100%|█████████████████████████| 157/157 [02:05<00:00,  1.25it/s, train_loss=3.19]\n",
      "[Valid]: 100%|███████████████████████| 40/40 [00:28<00:00,  1.42it/s, val_acc=46.8, val_loss=0.0103]\n"
     ]
    },
    {
     "name": "stdout",
     "output_type": "stream",
     "text": [
      "=======================================================================================================================================\n",
      "2024-06-01 16:50:37\n",
      "Epoch 40 / 200\n"
     ]
    },
    {
     "name": "stderr",
     "output_type": "stream",
     "text": [
      "[Train]: 100%|█████████████████████████| 157/157 [02:05<00:00,  1.25it/s, train_loss=3.25]\n",
      "[Valid]: 100%|███████████████████████| 40/40 [00:27<00:00,  1.44it/s, val_acc=46.8, val_loss=0.0103]\n"
     ]
    },
    {
     "name": "stdout",
     "output_type": "stream",
     "text": [
      "=======================================================================================================================================\n",
      "2024-06-01 16:53:10\n",
      "Epoch 41 / 200\n"
     ]
    },
    {
     "name": "stderr",
     "output_type": "stream",
     "text": [
      "[Train]: 100%|██████████████████████████| 157/157 [02:05<00:00,  1.25it/s, train_loss=3.2]\n",
      "[Valid]: 100%|███████████████████████| 40/40 [00:27<00:00,  1.44it/s, val_acc=46.7, val_loss=0.0105]\n"
     ]
    },
    {
     "name": "stdout",
     "output_type": "stream",
     "text": [
      "=======================================================================================================================================\n",
      "2024-06-01 16:55:43\n",
      "Epoch 42 / 200\n"
     ]
    },
    {
     "name": "stderr",
     "output_type": "stream",
     "text": [
      "[Train]: 100%|█████████████████████████| 157/157 [02:05<00:00,  1.25it/s, train_loss=3.23]\n",
      "[Valid]: 100%|███████████████████████| 40/40 [00:27<00:00,  1.43it/s, val_acc=48.7, val_loss=0.0101]\n"
     ]
    },
    {
     "name": "stdout",
     "output_type": "stream",
     "text": [
      "=======================================================================================================================================\n",
      "2024-06-01 16:58:16\n",
      "Epoch 43 / 200\n"
     ]
    },
    {
     "name": "stderr",
     "output_type": "stream",
     "text": [
      "[Train]: 100%|█████████████████████████| 157/157 [02:05<00:00,  1.25it/s, train_loss=3.16]\n",
      "[Valid]: 100%|██████████████████████| 40/40 [00:28<00:00,  1.42it/s, val_acc=49.6, val_loss=0.00994]\n"
     ]
    },
    {
     "name": "stdout",
     "output_type": "stream",
     "text": [
      "=======================================================================================================================================\n",
      "2024-06-01 17:00:49\n",
      "Epoch 44 / 200\n"
     ]
    },
    {
     "name": "stderr",
     "output_type": "stream",
     "text": [
      "[Train]: 100%|██████████████████████████| 157/157 [02:05<00:00,  1.26it/s, train_loss=3.1]\n",
      "[Valid]: 100%|██████████████████████| 40/40 [00:27<00:00,  1.44it/s, val_acc=50.9, val_loss=0.00973]\n"
     ]
    },
    {
     "name": "stdout",
     "output_type": "stream",
     "text": [
      "=======================================================================================================================================\n",
      "2024-06-01 17:03:22\n",
      "Epoch 45 / 200\n"
     ]
    },
    {
     "name": "stderr",
     "output_type": "stream",
     "text": [
      "[Train]: 100%|█████████████████████████| 157/157 [02:05<00:00,  1.25it/s, train_loss=3.02]\n",
      "[Valid]: 100%|██████████████████████| 40/40 [00:27<00:00,  1.43it/s, val_acc=52.2, val_loss=0.00965]\n"
     ]
    },
    {
     "name": "stdout",
     "output_type": "stream",
     "text": [
      "=======================================================================================================================================\n",
      "2024-06-01 17:05:56\n",
      "Epoch 46 / 200\n"
     ]
    },
    {
     "name": "stderr",
     "output_type": "stream",
     "text": [
      "[Train]: 100%|█████████████████████████| 157/157 [02:05<00:00,  1.25it/s, train_loss=2.98]\n",
      "[Valid]: 100%|██████████████████████| 40/40 [00:27<00:00,  1.45it/s, val_acc=55.8, val_loss=0.00908]\n"
     ]
    },
    {
     "name": "stdout",
     "output_type": "stream",
     "text": [
      "=======================================================================================================================================\n",
      "2024-06-01 17:08:29\n",
      "Epoch 47 / 200\n"
     ]
    },
    {
     "name": "stderr",
     "output_type": "stream",
     "text": [
      "[Train]: 100%|█████████████████████████| 157/157 [02:04<00:00,  1.26it/s, train_loss=2.94]\n",
      "[Valid]: 100%|██████████████████████| 40/40 [00:28<00:00,  1.42it/s, val_acc=57.5, val_loss=0.00887]\n"
     ]
    },
    {
     "name": "stdout",
     "output_type": "stream",
     "text": [
      "=======================================================================================================================================\n",
      "2024-06-01 17:11:02\n",
      "Epoch 48 / 200\n"
     ]
    },
    {
     "name": "stderr",
     "output_type": "stream",
     "text": [
      "[Train]: 100%|█████████████████████████| 157/157 [02:05<00:00,  1.25it/s, train_loss=2.85]\n",
      "[Valid]: 100%|██████████████████████| 40/40 [00:27<00:00,  1.43it/s, val_acc=57.9, val_loss=0.00878]\n"
     ]
    },
    {
     "name": "stdout",
     "output_type": "stream",
     "text": [
      "=======================================================================================================================================\n",
      "2024-06-01 17:13:36\n",
      "Epoch 49 / 200\n"
     ]
    },
    {
     "name": "stderr",
     "output_type": "stream",
     "text": [
      "[Train]: 100%|██████████████████████████| 157/157 [02:05<00:00,  1.25it/s, train_loss=2.9]\n",
      "[Valid]: 100%|████████████████████████| 40/40 [00:27<00:00,  1.45it/s, val_acc=58, val_loss=0.00882]\n"
     ]
    },
    {
     "name": "stdout",
     "output_type": "stream",
     "text": [
      "=======================================================================================================================================\n",
      "2024-06-01 17:16:09\n",
      "Epoch 50 / 200\n"
     ]
    },
    {
     "name": "stderr",
     "output_type": "stream",
     "text": [
      "[Train]: 100%|█████████████████████████| 157/157 [02:05<00:00,  1.25it/s, train_loss=2.82]\n",
      "[Valid]: 100%|███████████████████████| 40/40 [00:27<00:00,  1.45it/s, val_acc=58.4, val_loss=0.0087]\n"
     ]
    },
    {
     "name": "stdout",
     "output_type": "stream",
     "text": [
      "=======================================================================================================================================\n",
      "2024-06-01 17:18:43\n",
      "Epoch 51 / 200\n"
     ]
    },
    {
     "name": "stderr",
     "output_type": "stream",
     "text": [
      "[Train]: 100%|██████████████████████████| 157/157 [02:06<00:00,  1.25it/s, train_loss=2.9]\n",
      "[Valid]: 100%|██████████████████████| 40/40 [00:27<00:00,  1.44it/s, val_acc=58.5, val_loss=0.00863]\n"
     ]
    },
    {
     "name": "stdout",
     "output_type": "stream",
     "text": [
      "=======================================================================================================================================\n",
      "2024-06-01 17:21:16\n",
      "Epoch 52 / 200\n"
     ]
    },
    {
     "name": "stderr",
     "output_type": "stream",
     "text": [
      "[Train]: 100%|█████████████████████████| 157/157 [02:05<00:00,  1.25it/s, train_loss=2.86]\n",
      "[Valid]: 100%|██████████████████████| 40/40 [00:28<00:00,  1.42it/s, val_acc=58.4, val_loss=0.00873]\n"
     ]
    },
    {
     "name": "stdout",
     "output_type": "stream",
     "text": [
      "=======================================================================================================================================\n",
      "2024-06-01 17:23:50\n",
      "Epoch 53 / 200\n"
     ]
    },
    {
     "name": "stderr",
     "output_type": "stream",
     "text": [
      "[Train]: 100%|█████████████████████████| 157/157 [02:05<00:00,  1.25it/s, train_loss=2.88]\n",
      "[Valid]: 100%|██████████████████████| 40/40 [00:27<00:00,  1.44it/s, val_acc=57.8, val_loss=0.00884]\n"
     ]
    },
    {
     "name": "stdout",
     "output_type": "stream",
     "text": [
      "=======================================================================================================================================\n",
      "2024-06-01 17:26:24\n",
      "Epoch 54 / 200\n"
     ]
    },
    {
     "name": "stderr",
     "output_type": "stream",
     "text": [
      "[Train]: 100%|██████████████████████████| 157/157 [02:06<00:00,  1.24it/s, train_loss=2.9]\n",
      "[Valid]: 100%|████████████████████████| 40/40 [00:27<00:00,  1.45it/s, val_acc=56, val_loss=0.00896]\n"
     ]
    },
    {
     "name": "stdout",
     "output_type": "stream",
     "text": [
      "=======================================================================================================================================\n",
      "2024-06-01 17:28:58\n",
      "Epoch 55 / 200\n"
     ]
    },
    {
     "name": "stderr",
     "output_type": "stream",
     "text": [
      "[Train]: 100%|█████████████████████████| 157/157 [02:05<00:00,  1.25it/s, train_loss=2.89]\n",
      "[Valid]: 100%|████████████████████████| 40/40 [00:27<00:00,  1.44it/s, val_acc=55, val_loss=0.00909]\n"
     ]
    },
    {
     "name": "stdout",
     "output_type": "stream",
     "text": [
      "=======================================================================================================================================\n",
      "2024-06-01 17:31:31\n",
      "Epoch 56 / 200\n"
     ]
    },
    {
     "name": "stderr",
     "output_type": "stream",
     "text": [
      "[Train]: 100%|█████████████████████████| 157/157 [02:06<00:00,  1.25it/s, train_loss=3.02]\n",
      "[Valid]: 100%|██████████████████████| 40/40 [00:27<00:00,  1.44it/s, val_acc=52.4, val_loss=0.00955]\n"
     ]
    },
    {
     "name": "stdout",
     "output_type": "stream",
     "text": [
      "=======================================================================================================================================\n",
      "2024-06-01 17:34:05\n",
      "Epoch 57 / 200\n"
     ]
    },
    {
     "name": "stderr",
     "output_type": "stream",
     "text": [
      "[Train]: 100%|█████████████████████████| 157/157 [02:05<00:00,  1.25it/s, train_loss=3.01]\n",
      "[Valid]: 100%|██████████████████████| 40/40 [00:27<00:00,  1.45it/s, val_acc=51.7, val_loss=0.00968]\n"
     ]
    },
    {
     "name": "stdout",
     "output_type": "stream",
     "text": [
      "=======================================================================================================================================\n",
      "2024-06-01 17:36:38\n",
      "Epoch 58 / 200\n"
     ]
    },
    {
     "name": "stderr",
     "output_type": "stream",
     "text": [
      "[Train]: 100%|█████████████████████████| 157/157 [02:05<00:00,  1.25it/s, train_loss=3.04]\n",
      "[Valid]: 100%|██████████████████████| 40/40 [00:27<00:00,  1.45it/s, val_acc=49.8, val_loss=0.00981]\n"
     ]
    },
    {
     "name": "stdout",
     "output_type": "stream",
     "text": [
      "=======================================================================================================================================\n",
      "2024-06-01 17:39:12\n",
      "Epoch 59 / 200\n"
     ]
    },
    {
     "name": "stderr",
     "output_type": "stream",
     "text": [
      "[Train]: 100%|█████████████████████████| 157/157 [02:07<00:00,  1.23it/s, train_loss=3.06]\n",
      "[Valid]: 100%|██████████████████████| 40/40 [00:27<00:00,  1.44it/s, val_acc=49.3, val_loss=0.00997]\n"
     ]
    },
    {
     "name": "stdout",
     "output_type": "stream",
     "text": [
      "=======================================================================================================================================\n",
      "2024-06-01 17:41:47\n",
      "Epoch 60 / 200\n"
     ]
    },
    {
     "name": "stderr",
     "output_type": "stream",
     "text": [
      "[Train]: 100%|██████████████████████████| 157/157 [02:06<00:00,  1.24it/s, train_loss=3.1]\n",
      "[Valid]: 100%|██████████████████████| 40/40 [00:27<00:00,  1.44it/s, val_acc=51.2, val_loss=0.00983]\n"
     ]
    },
    {
     "name": "stdout",
     "output_type": "stream",
     "text": [
      "=======================================================================================================================================\n",
      "2024-06-01 17:44:22\n",
      "Epoch 61 / 200\n"
     ]
    },
    {
     "name": "stderr",
     "output_type": "stream",
     "text": [
      "[Train]: 100%|█████████████████████████| 157/157 [02:05<00:00,  1.25it/s, train_loss=3.05]\n",
      "[Valid]: 100%|█████████████████████████| 40/40 [00:28<00:00,  1.42it/s, val_acc=51, val_loss=0.0098]\n"
     ]
    },
    {
     "name": "stdout",
     "output_type": "stream",
     "text": [
      "=======================================================================================================================================\n",
      "2024-06-01 17:46:56\n",
      "Epoch 62 / 200\n"
     ]
    },
    {
     "name": "stderr",
     "output_type": "stream",
     "text": [
      "[Train]: 100%|█████████████████████████| 157/157 [02:06<00:00,  1.25it/s, train_loss=3.03]\n",
      "[Valid]: 100%|████████████████████████| 40/40 [00:28<00:00,  1.42it/s, val_acc=52, val_loss=0.00955]\n"
     ]
    },
    {
     "name": "stdout",
     "output_type": "stream",
     "text": [
      "=======================================================================================================================================\n",
      "2024-06-01 17:49:30\n",
      "Epoch 63 / 200\n"
     ]
    },
    {
     "name": "stderr",
     "output_type": "stream",
     "text": [
      "[Train]: 100%|█████████████████████████| 157/157 [02:06<00:00,  1.24it/s, train_loss=2.98]\n",
      "[Valid]: 100%|██████████████████████| 40/40 [00:27<00:00,  1.45it/s, val_acc=53.3, val_loss=0.00936]\n"
     ]
    },
    {
     "name": "stdout",
     "output_type": "stream",
     "text": [
      "=======================================================================================================================================\n",
      "2024-06-01 17:52:05\n",
      "Epoch 64 / 200\n"
     ]
    },
    {
     "name": "stderr",
     "output_type": "stream",
     "text": [
      "[Train]: 100%|█████████████████████████| 157/157 [02:06<00:00,  1.25it/s, train_loss=2.96]\n",
      "[Valid]: 100%|██████████████████████| 40/40 [00:27<00:00,  1.44it/s, val_acc=54.3, val_loss=0.00938]\n"
     ]
    },
    {
     "name": "stdout",
     "output_type": "stream",
     "text": [
      "=======================================================================================================================================\n",
      "2024-06-01 17:54:38\n",
      "Epoch 65 / 200\n"
     ]
    },
    {
     "name": "stderr",
     "output_type": "stream",
     "text": [
      "[Train]: 100%|█████████████████████████| 157/157 [02:08<00:00,  1.22it/s, train_loss=2.89]\n",
      "[Valid]: 100%|██████████████████████| 40/40 [00:28<00:00,  1.42it/s, val_acc=55.5, val_loss=0.00907]\n"
     ]
    },
    {
     "name": "stdout",
     "output_type": "stream",
     "text": [
      "=======================================================================================================================================\n",
      "2024-06-01 17:57:15\n",
      "Epoch 66 / 200\n"
     ]
    },
    {
     "name": "stderr",
     "output_type": "stream",
     "text": [
      "[Train]: 100%|█████████████████████████| 157/157 [02:07<00:00,  1.23it/s, train_loss=2.87]\n",
      "[Valid]: 100%|████████████████████████| 40/40 [00:28<00:00,  1.40it/s, val_acc=58, val_loss=0.00871]\n"
     ]
    },
    {
     "name": "stdout",
     "output_type": "stream",
     "text": [
      "=======================================================================================================================================\n",
      "2024-06-01 17:59:52\n",
      "Epoch 67 / 200\n"
     ]
    },
    {
     "name": "stderr",
     "output_type": "stream",
     "text": [
      "[Train]: 100%|█████████████████████████| 157/157 [02:07<00:00,  1.23it/s, train_loss=2.84]\n",
      "[Valid]: 100%|██████████████████████| 40/40 [00:28<00:00,  1.40it/s, val_acc=58.8, val_loss=0.00875]\n"
     ]
    },
    {
     "name": "stdout",
     "output_type": "stream",
     "text": [
      "=======================================================================================================================================\n",
      "2024-06-01 18:02:27\n",
      "Epoch 68 / 200\n"
     ]
    },
    {
     "name": "stderr",
     "output_type": "stream",
     "text": [
      "[Train]: 100%|█████████████████████████| 157/157 [02:07<00:00,  1.23it/s, train_loss=2.87]\n",
      "[Valid]: 100%|████████████████████████| 40/40 [00:28<00:00,  1.42it/s, val_acc=60, val_loss=0.00855]\n"
     ]
    },
    {
     "name": "stdout",
     "output_type": "stream",
     "text": [
      "=======================================================================================================================================\n",
      "2024-06-01 18:05:03\n",
      "Epoch 69 / 200\n"
     ]
    },
    {
     "name": "stderr",
     "output_type": "stream",
     "text": [
      "[Train]: 100%|█████████████████████████| 157/157 [02:08<00:00,  1.22it/s, train_loss=2.75]\n",
      "[Valid]: 100%|██████████████████████| 40/40 [00:28<00:00,  1.42it/s, val_acc=60.1, val_loss=0.00853]\n"
     ]
    },
    {
     "name": "stdout",
     "output_type": "stream",
     "text": [
      "=======================================================================================================================================\n",
      "2024-06-01 18:07:40\n",
      "Epoch 70 / 200\n"
     ]
    },
    {
     "name": "stderr",
     "output_type": "stream",
     "text": [
      "[Train]: 100%|█████████████████████████| 157/157 [02:05<00:00,  1.25it/s, train_loss=2.78]\n",
      "[Valid]: 100%|████████████████████████| 40/40 [00:27<00:00,  1.45it/s, val_acc=60, val_loss=0.00841]\n"
     ]
    },
    {
     "name": "stdout",
     "output_type": "stream",
     "text": [
      "=======================================================================================================================================\n",
      "2024-06-01 18:10:14\n",
      "Epoch 71 / 200\n"
     ]
    },
    {
     "name": "stderr",
     "output_type": "stream",
     "text": [
      "[Train]: 100%|█████████████████████████| 157/157 [02:06<00:00,  1.24it/s, train_loss=2.82]\n",
      "[Valid]: 100%|██████████████████████| 40/40 [00:28<00:00,  1.42it/s, val_acc=60.1, val_loss=0.00842]\n"
     ]
    },
    {
     "name": "stdout",
     "output_type": "stream",
     "text": [
      "=======================================================================================================================================\n",
      "2024-06-01 18:12:48\n",
      "Epoch 72 / 200\n"
     ]
    },
    {
     "name": "stderr",
     "output_type": "stream",
     "text": [
      "[Train]: 100%|█████████████████████████| 157/157 [02:07<00:00,  1.23it/s, train_loss=2.78]\n",
      "[Valid]: 100%|███████████████████████| 40/40 [00:28<00:00,  1.42it/s, val_acc=60.1, val_loss=0.0085]\n"
     ]
    },
    {
     "name": "stdout",
     "output_type": "stream",
     "text": [
      "=======================================================================================================================================\n",
      "2024-06-01 18:15:24\n",
      "Epoch 73 / 200\n"
     ]
    },
    {
     "name": "stderr",
     "output_type": "stream",
     "text": [
      "[Train]: 100%|█████████████████████████| 157/157 [02:06<00:00,  1.24it/s, train_loss=2.76]\n",
      "[Valid]: 100%|██████████████████████| 40/40 [00:28<00:00,  1.43it/s, val_acc=59.5, val_loss=0.00859]\n"
     ]
    },
    {
     "name": "stdout",
     "output_type": "stream",
     "text": [
      "=======================================================================================================================================\n",
      "2024-06-01 18:17:59\n",
      "Epoch 74 / 200\n"
     ]
    },
    {
     "name": "stderr",
     "output_type": "stream",
     "text": [
      "[Train]: 100%|██████████████████████████| 157/157 [02:06<00:00,  1.24it/s, train_loss=2.8]\n",
      "[Valid]: 100%|██████████████████████| 40/40 [00:28<00:00,  1.41it/s, val_acc=58.7, val_loss=0.00867]\n"
     ]
    },
    {
     "name": "stdout",
     "output_type": "stream",
     "text": [
      "=======================================================================================================================================\n",
      "2024-06-01 18:20:34\n",
      "Epoch 75 / 200\n"
     ]
    },
    {
     "name": "stderr",
     "output_type": "stream",
     "text": [
      "[Train]: 100%|█████████████████████████| 157/157 [02:06<00:00,  1.24it/s, train_loss=2.77]\n",
      "[Valid]: 100%|██████████████████████| 40/40 [00:28<00:00,  1.42it/s, val_acc=56.9, val_loss=0.00882]\n"
     ]
    },
    {
     "name": "stdout",
     "output_type": "stream",
     "text": [
      "=======================================================================================================================================\n",
      "2024-06-01 18:23:08\n",
      "Epoch 76 / 200\n"
     ]
    },
    {
     "name": "stderr",
     "output_type": "stream",
     "text": [
      "[Train]: 100%|█████████████████████████| 157/157 [02:07<00:00,  1.23it/s, train_loss=2.87]\n",
      "[Valid]: 100%|██████████████████████| 40/40 [00:28<00:00,  1.43it/s, val_acc=55.5, val_loss=0.00903]\n"
     ]
    },
    {
     "name": "stdout",
     "output_type": "stream",
     "text": [
      "=======================================================================================================================================\n",
      "2024-06-01 18:25:44\n",
      "Epoch 77 / 200\n"
     ]
    },
    {
     "name": "stderr",
     "output_type": "stream",
     "text": [
      "[Train]: 100%|██████████████████████████| 157/157 [02:07<00:00,  1.23it/s, train_loss=2.9]\n",
      "[Valid]: 100%|██████████████████████| 40/40 [00:28<00:00,  1.42it/s, val_acc=53.7, val_loss=0.00938]\n"
     ]
    },
    {
     "name": "stdout",
     "output_type": "stream",
     "text": [
      "=======================================================================================================================================\n",
      "2024-06-01 18:28:20\n",
      "Epoch 78 / 200\n"
     ]
    },
    {
     "name": "stderr",
     "output_type": "stream",
     "text": [
      "[Train]: 100%|█████████████████████████| 157/157 [02:08<00:00,  1.23it/s, train_loss=2.94]\n",
      "[Valid]: 100%|██████████████████████| 40/40 [00:28<00:00,  1.41it/s, val_acc=53.3, val_loss=0.00939]\n"
     ]
    },
    {
     "name": "stdout",
     "output_type": "stream",
     "text": [
      "=======================================================================================================================================\n",
      "2024-06-01 18:30:56\n",
      "Epoch 79 / 200\n"
     ]
    },
    {
     "name": "stderr",
     "output_type": "stream",
     "text": [
      "[Train]: 100%|████████████████████████████| 157/157 [02:07<00:00,  1.23it/s, train_loss=3]\n",
      "[Valid]: 100%|██████████████████████| 40/40 [00:27<00:00,  1.43it/s, val_acc=52.5, val_loss=0.00958]\n"
     ]
    },
    {
     "name": "stdout",
     "output_type": "stream",
     "text": [
      "=======================================================================================================================================\n",
      "2024-06-01 18:33:32\n",
      "Epoch 80 / 200\n"
     ]
    },
    {
     "name": "stderr",
     "output_type": "stream",
     "text": [
      "[Train]: 100%|█████████████████████████| 157/157 [02:06<00:00,  1.24it/s, train_loss=2.97]\n",
      "[Valid]: 100%|██████████████████████| 40/40 [00:27<00:00,  1.45it/s, val_acc=53.8, val_loss=0.00933]\n"
     ]
    },
    {
     "name": "stdout",
     "output_type": "stream",
     "text": [
      "=======================================================================================================================================\n",
      "2024-06-01 18:36:06\n",
      "Epoch 81 / 200\n"
     ]
    },
    {
     "name": "stderr",
     "output_type": "stream",
     "text": [
      "[Train]:  16%|███▉                     | 25/157 [00:21<01:48,  1.22it/s, train_loss=0.493]"
     ]
    }
   ],
   "source": [
    "from torchvision.transforms import autoaugment, transforms\n",
    "\n",
    "\n",
    "train_transforms = transforms.Compose([\n",
    "    transforms.RandomResizedCrop(32, scale=(0.08, 1.0), ratio=(3. / 4., 4. / 3.)),\n",
    "    transforms.RandomHorizontalFlip(),\n",
    "    autoaugment.AutoAugment(policy=autoaugment.AutoAugmentPolicy('cifar10')),\n",
    "    transforms.ToTensor(),\n",
    "    transforms.Normalize((0.5,), (0.5,)),\n",
    "    transforms.RandomErasing(p=0.5, scale=(0.02, 0.33), ratio=(0.3, 3.3), value=0, inplace=False),\n",
    "])\n",
    "\n",
    "test_transforms = transforms.Compose([\n",
    "    transforms.ToTensor(),\n",
    "    transforms.Normalize((0.5,), (0.5,))\n",
    "])\n",
    "\n",
    "model = init_model()\n",
    "trainer = cifar100_trainer_v2(model=model, batch_size=256, epoch=200, train_transforms=train_transforms, test_transforms=test_transforms)\n",
    "trainer.train()\n",
    "trainer.test()"
   ]
  }
 ],
 "metadata": {
  "accelerator": "GPU",
  "colab": {
   "gpuType": "T4",
   "provenance": []
  },
  "kernelspec": {
   "display_name": "bdl",
   "language": "python",
   "name": "bdl"
  },
  "language_info": {
   "codemirror_mode": {
    "name": "ipython",
    "version": 3
   },
   "file_extension": ".py",
   "mimetype": "text/x-python",
   "name": "python",
   "nbconvert_exporter": "python",
   "pygments_lexer": "ipython3",
   "version": "3.9.0"
  }
 },
 "nbformat": 4,
 "nbformat_minor": 5
}
